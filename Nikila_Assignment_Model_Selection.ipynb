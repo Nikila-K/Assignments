{
  "nbformat": 4,
  "nbformat_minor": 0,
  "metadata": {
    "colab": {
      "provenance": [],
      "authorship_tag": "ABX9TyOhrTgVc6xeDgpDVRnbv9Gi",
      "include_colab_link": true
    },
    "kernelspec": {
      "name": "python3",
      "display_name": "Python 3"
    },
    "language_info": {
      "name": "python"
    }
  },
  "cells": [
    {
      "cell_type": "markdown",
      "metadata": {
        "id": "view-in-github",
        "colab_type": "text"
      },
      "source": [
        "<a href=\"https://colab.research.google.com/github/Nikila-K/Assignments/blob/main/Nikila_Assignment_Model_Selection.ipynb\" target=\"_parent\"><img src=\"https://colab.research.google.com/assets/colab-badge.svg\" alt=\"Open In Colab\"/></a>"
      ]
    },
    {
      "cell_type": "code",
      "execution_count": null,
      "metadata": {
        "id": "kuoFF4pTu4j3"
      },
      "outputs": [],
      "source": [
        "#Importing the libraries"
      ]
    },
    {
      "cell_type": "code",
      "source": [
        "import numpy as np\n",
        "import pandas as pd\n",
        "import seaborn as sns\n",
        "import matplotlib.pyplot as plt"
      ],
      "metadata": {
        "id": "Zlu4VWSnu9BR"
      },
      "execution_count": 1,
      "outputs": []
    },
    {
      "cell_type": "markdown",
      "source": [
        "1. Load the dataset into python environment"
      ],
      "metadata": {
        "id": "10ULmuZ0vC80"
      }
    },
    {
      "cell_type": "code",
      "source": [
        "#Loading the dataset"
      ],
      "metadata": {
        "id": "3_H4ZFJQvHBf"
      },
      "execution_count": null,
      "outputs": []
    },
    {
      "cell_type": "code",
      "source": [
        "from google.colab import files\n",
        "files.upload()"
      ],
      "metadata": {
        "colab": {
          "base_uri": "https://localhost:8080/",
          "height": 1000
        },
        "id": "h0ZgUW9JvJgI",
        "outputId": "c5490074-c6a8-43d4-d8ae-4d268c9187b1"
      },
      "execution_count": 2,
      "outputs": [
        {
          "output_type": "display_data",
          "data": {
            "text/plain": [
              "<IPython.core.display.HTML object>"
            ],
            "text/html": [
              "\n",
              "     <input type=\"file\" id=\"files-c307cad2-1302-4c32-95e6-b4b9bc377e88\" name=\"files[]\" multiple disabled\n",
              "        style=\"border:none\" />\n",
              "     <output id=\"result-c307cad2-1302-4c32-95e6-b4b9bc377e88\">\n",
              "      Upload widget is only available when the cell has been executed in the\n",
              "      current browser session. Please rerun this cell to enable.\n",
              "      </output>\n",
              "      <script>// Copyright 2017 Google LLC\n",
              "//\n",
              "// Licensed under the Apache License, Version 2.0 (the \"License\");\n",
              "// you may not use this file except in compliance with the License.\n",
              "// You may obtain a copy of the License at\n",
              "//\n",
              "//      http://www.apache.org/licenses/LICENSE-2.0\n",
              "//\n",
              "// Unless required by applicable law or agreed to in writing, software\n",
              "// distributed under the License is distributed on an \"AS IS\" BASIS,\n",
              "// WITHOUT WARRANTIES OR CONDITIONS OF ANY KIND, either express or implied.\n",
              "// See the License for the specific language governing permissions and\n",
              "// limitations under the License.\n",
              "\n",
              "/**\n",
              " * @fileoverview Helpers for google.colab Python module.\n",
              " */\n",
              "(function(scope) {\n",
              "function span(text, styleAttributes = {}) {\n",
              "  const element = document.createElement('span');\n",
              "  element.textContent = text;\n",
              "  for (const key of Object.keys(styleAttributes)) {\n",
              "    element.style[key] = styleAttributes[key];\n",
              "  }\n",
              "  return element;\n",
              "}\n",
              "\n",
              "// Max number of bytes which will be uploaded at a time.\n",
              "const MAX_PAYLOAD_SIZE = 100 * 1024;\n",
              "\n",
              "function _uploadFiles(inputId, outputId) {\n",
              "  const steps = uploadFilesStep(inputId, outputId);\n",
              "  const outputElement = document.getElementById(outputId);\n",
              "  // Cache steps on the outputElement to make it available for the next call\n",
              "  // to uploadFilesContinue from Python.\n",
              "  outputElement.steps = steps;\n",
              "\n",
              "  return _uploadFilesContinue(outputId);\n",
              "}\n",
              "\n",
              "// This is roughly an async generator (not supported in the browser yet),\n",
              "// where there are multiple asynchronous steps and the Python side is going\n",
              "// to poll for completion of each step.\n",
              "// This uses a Promise to block the python side on completion of each step,\n",
              "// then passes the result of the previous step as the input to the next step.\n",
              "function _uploadFilesContinue(outputId) {\n",
              "  const outputElement = document.getElementById(outputId);\n",
              "  const steps = outputElement.steps;\n",
              "\n",
              "  const next = steps.next(outputElement.lastPromiseValue);\n",
              "  return Promise.resolve(next.value.promise).then((value) => {\n",
              "    // Cache the last promise value to make it available to the next\n",
              "    // step of the generator.\n",
              "    outputElement.lastPromiseValue = value;\n",
              "    return next.value.response;\n",
              "  });\n",
              "}\n",
              "\n",
              "/**\n",
              " * Generator function which is called between each async step of the upload\n",
              " * process.\n",
              " * @param {string} inputId Element ID of the input file picker element.\n",
              " * @param {string} outputId Element ID of the output display.\n",
              " * @return {!Iterable<!Object>} Iterable of next steps.\n",
              " */\n",
              "function* uploadFilesStep(inputId, outputId) {\n",
              "  const inputElement = document.getElementById(inputId);\n",
              "  inputElement.disabled = false;\n",
              "\n",
              "  const outputElement = document.getElementById(outputId);\n",
              "  outputElement.innerHTML = '';\n",
              "\n",
              "  const pickedPromise = new Promise((resolve) => {\n",
              "    inputElement.addEventListener('change', (e) => {\n",
              "      resolve(e.target.files);\n",
              "    });\n",
              "  });\n",
              "\n",
              "  const cancel = document.createElement('button');\n",
              "  inputElement.parentElement.appendChild(cancel);\n",
              "  cancel.textContent = 'Cancel upload';\n",
              "  const cancelPromise = new Promise((resolve) => {\n",
              "    cancel.onclick = () => {\n",
              "      resolve(null);\n",
              "    };\n",
              "  });\n",
              "\n",
              "  // Wait for the user to pick the files.\n",
              "  const files = yield {\n",
              "    promise: Promise.race([pickedPromise, cancelPromise]),\n",
              "    response: {\n",
              "      action: 'starting',\n",
              "    }\n",
              "  };\n",
              "\n",
              "  cancel.remove();\n",
              "\n",
              "  // Disable the input element since further picks are not allowed.\n",
              "  inputElement.disabled = true;\n",
              "\n",
              "  if (!files) {\n",
              "    return {\n",
              "      response: {\n",
              "        action: 'complete',\n",
              "      }\n",
              "    };\n",
              "  }\n",
              "\n",
              "  for (const file of files) {\n",
              "    const li = document.createElement('li');\n",
              "    li.append(span(file.name, {fontWeight: 'bold'}));\n",
              "    li.append(span(\n",
              "        `(${file.type || 'n/a'}) - ${file.size} bytes, ` +\n",
              "        `last modified: ${\n",
              "            file.lastModifiedDate ? file.lastModifiedDate.toLocaleDateString() :\n",
              "                                    'n/a'} - `));\n",
              "    const percent = span('0% done');\n",
              "    li.appendChild(percent);\n",
              "\n",
              "    outputElement.appendChild(li);\n",
              "\n",
              "    const fileDataPromise = new Promise((resolve) => {\n",
              "      const reader = new FileReader();\n",
              "      reader.onload = (e) => {\n",
              "        resolve(e.target.result);\n",
              "      };\n",
              "      reader.readAsArrayBuffer(file);\n",
              "    });\n",
              "    // Wait for the data to be ready.\n",
              "    let fileData = yield {\n",
              "      promise: fileDataPromise,\n",
              "      response: {\n",
              "        action: 'continue',\n",
              "      }\n",
              "    };\n",
              "\n",
              "    // Use a chunked sending to avoid message size limits. See b/62115660.\n",
              "    let position = 0;\n",
              "    do {\n",
              "      const length = Math.min(fileData.byteLength - position, MAX_PAYLOAD_SIZE);\n",
              "      const chunk = new Uint8Array(fileData, position, length);\n",
              "      position += length;\n",
              "\n",
              "      const base64 = btoa(String.fromCharCode.apply(null, chunk));\n",
              "      yield {\n",
              "        response: {\n",
              "          action: 'append',\n",
              "          file: file.name,\n",
              "          data: base64,\n",
              "        },\n",
              "      };\n",
              "\n",
              "      let percentDone = fileData.byteLength === 0 ?\n",
              "          100 :\n",
              "          Math.round((position / fileData.byteLength) * 100);\n",
              "      percent.textContent = `${percentDone}% done`;\n",
              "\n",
              "    } while (position < fileData.byteLength);\n",
              "  }\n",
              "\n",
              "  // All done.\n",
              "  yield {\n",
              "    response: {\n",
              "      action: 'complete',\n",
              "    }\n",
              "  };\n",
              "}\n",
              "\n",
              "scope.google = scope.google || {};\n",
              "scope.google.colab = scope.google.colab || {};\n",
              "scope.google.colab._files = {\n",
              "  _uploadFiles,\n",
              "  _uploadFilesContinue,\n",
              "};\n",
              "})(self);\n",
              "</script> "
            ]
          },
          "metadata": {}
        },
        {
          "output_type": "stream",
          "name": "stdout",
          "text": [
            "Saving titanic_dataset.csv to titanic_dataset.csv\n"
          ]
        },
        {
          "output_type": "execute_result",
          "data": {
            "text/plain": [
              "{'titanic_dataset.csv': b'PassengerId,Survived,Pclass,Name,Sex,Age,SibSp,Parch,Ticket,Fare,Cabin,Embarked\\r\\n1,0,3,\"Braund, Mr. Owen Harris\",male,22,1,0,A/5 21171,7.25,,S\\r\\n2,1,1,\"Cumings, Mrs. John Bradley (Florence Briggs Thayer)\",female,38,1,0,PC 17599,71.2833,C85,C\\r\\n3,1,3,\"Heikkinen, Miss. Laina\",female,26,0,0,STON/O2. 3101282,7.925,,S\\r\\n4,1,1,\"Futrelle, Mrs. Jacques Heath (Lily May Peel)\",female,35,1,0,113803,53.1,C123,S\\r\\n5,0,3,\"Allen, Mr. William Henry\",male,35,0,0,373450,8.05,,S\\r\\n6,0,3,\"Moran, Mr. James\",male,,0,0,330877,8.4583,,Q\\r\\n7,0,1,\"McCarthy, Mr. Timothy J\",male,54,0,0,17463,51.8625,E46,S\\r\\n8,0,3,\"Palsson, Master. Gosta Leonard\",male,2,3,1,349909,21.075,,S\\r\\n9,1,3,\"Johnson, Mrs. Oscar W (Elisabeth Vilhelmina Berg)\",female,27,0,2,347742,11.1333,,S\\r\\n10,1,2,\"Nasser, Mrs. Nicholas (Adele Achem)\",female,14,1,0,237736,30.0708,,C\\r\\n11,1,3,\"Sandstrom, Miss. Marguerite Rut\",female,4,1,1,PP 9549,16.7,G6,S\\r\\n12,1,1,\"Bonnell, Miss. Elizabeth\",female,58,0,0,113783,26.55,C103,S\\r\\n13,0,3,\"Saundercock, Mr. William Henry\",male,20,0,0,A/5. 2151,8.05,,S\\r\\n14,0,3,\"Andersson, Mr. Anders Johan\",male,39,1,5,347082,31.275,,S\\r\\n15,0,3,\"Vestrom, Miss. Hulda Amanda Adolfina\",female,14,0,0,350406,7.8542,,S\\r\\n16,1,2,\"Hewlett, Mrs. (Mary D Kingcome) \",female,55,0,0,248706,16,,S\\r\\n17,0,3,\"Rice, Master. Eugene\",male,2,4,1,382652,29.125,,Q\\r\\n18,1,2,\"Williams, Mr. Charles Eugene\",male,,0,0,244373,13,,S\\r\\n19,0,3,\"Vander Planke, Mrs. Julius (Emelia Maria Vandemoortele)\",female,31,1,0,345763,18,,S\\r\\n20,1,3,\"Masselmani, Mrs. Fatima\",female,,0,0,2649,7.225,,C\\r\\n21,0,2,\"Fynney, Mr. Joseph J\",male,35,0,0,239865,26,,S\\r\\n22,1,2,\"Beesley, Mr. Lawrence\",male,34,0,0,248698,13,D56,S\\r\\n23,1,3,\"McGowan, Miss. Anna \"\"Annie\"\"\",female,15,0,0,330923,8.0292,,Q\\r\\n24,1,1,\"Sloper, Mr. William Thompson\",male,28,0,0,113788,35.5,A6,S\\r\\n25,0,3,\"Palsson, Miss. Torborg Danira\",female,8,3,1,349909,21.075,,S\\r\\n26,1,3,\"Asplund, Mrs. Carl Oscar (Selma Augusta Emilia Johansson)\",female,38,1,5,347077,31.3875,,S\\r\\n27,0,3,\"Emir, Mr. Farred Chehab\",male,,0,0,2631,7.225,,C\\r\\n28,0,1,\"Fortune, Mr. Charles Alexander\",male,19,3,2,19950,263,C23 C25 C27,S\\r\\n29,1,3,\"O\\'Dwyer, Miss. Ellen \"\"Nellie\"\"\",female,,0,0,330959,7.8792,,Q\\r\\n30,0,3,\"Todoroff, Mr. Lalio\",male,,0,0,349216,7.8958,,S\\r\\n31,0,1,\"Uruchurtu, Don. Manuel E\",male,40,0,0,PC 17601,27.7208,,C\\r\\n32,1,1,\"Spencer, Mrs. William Augustus (Marie Eugenie)\",female,,1,0,PC 17569,146.5208,B78,C\\r\\n33,1,3,\"Glynn, Miss. Mary Agatha\",female,,0,0,335677,7.75,,Q\\r\\n34,0,2,\"Wheadon, Mr. Edward H\",male,66,0,0,C.A. 24579,10.5,,S\\r\\n35,0,1,\"Meyer, Mr. Edgar Joseph\",male,28,1,0,PC 17604,82.1708,,C\\r\\n36,0,1,\"Holverson, Mr. Alexander Oskar\",male,42,1,0,113789,52,,S\\r\\n37,1,3,\"Mamee, Mr. Hanna\",male,,0,0,2677,7.2292,,C\\r\\n38,0,3,\"Cann, Mr. Ernest Charles\",male,21,0,0,A./5. 2152,8.05,,S\\r\\n39,0,3,\"Vander Planke, Miss. Augusta Maria\",female,18,2,0,345764,18,,S\\r\\n40,1,3,\"Nicola-Yarred, Miss. Jamila\",female,14,1,0,2651,11.2417,,C\\r\\n41,0,3,\"Ahlin, Mrs. Johan (Johanna Persdotter Larsson)\",female,40,1,0,7546,9.475,,S\\r\\n42,0,2,\"Turpin, Mrs. William John Robert (Dorothy Ann Wonnacott)\",female,27,1,0,11668,21,,S\\r\\n43,0,3,\"Kraeff, Mr. Theodor\",male,,0,0,349253,7.8958,,C\\r\\n44,1,2,\"Laroche, Miss. Simonne Marie Anne Andree\",female,3,1,2,SC/Paris 2123,41.5792,,C\\r\\n45,1,3,\"Devaney, Miss. Margaret Delia\",female,19,0,0,330958,7.8792,,Q\\r\\n46,0,3,\"Rogers, Mr. William John\",male,,0,0,S.C./A.4. 23567,8.05,,S\\r\\n47,0,3,\"Lennon, Mr. Denis\",male,,1,0,370371,15.5,,Q\\r\\n48,1,3,\"O\\'Driscoll, Miss. Bridget\",female,,0,0,14311,7.75,,Q\\r\\n49,0,3,\"Samaan, Mr. Youssef\",male,,2,0,2662,21.6792,,C\\r\\n50,0,3,\"Arnold-Franchi, Mrs. Josef (Josefine Franchi)\",female,18,1,0,349237,17.8,,S\\r\\n51,0,3,\"Panula, Master. Juha Niilo\",male,7,4,1,3101295,39.6875,,S\\r\\n52,0,3,\"Nosworthy, Mr. Richard Cater\",male,21,0,0,A/4. 39886,7.8,,S\\r\\n53,1,1,\"Harper, Mrs. Henry Sleeper (Myna Haxtun)\",female,49,1,0,PC 17572,76.7292,D33,C\\r\\n54,1,2,\"Faunthorpe, Mrs. Lizzie (Elizabeth Anne Wilkinson)\",female,29,1,0,2926,26,,S\\r\\n55,0,1,\"Ostby, Mr. Engelhart Cornelius\",male,65,0,1,113509,61.9792,B30,C\\r\\n56,1,1,\"Woolner, Mr. Hugh\",male,,0,0,19947,35.5,C52,S\\r\\n57,1,2,\"Rugg, Miss. Emily\",female,21,0,0,C.A. 31026,10.5,,S\\r\\n58,0,3,\"Novel, Mr. Mansouer\",male,28.5,0,0,2697,7.2292,,C\\r\\n59,1,2,\"West, Miss. Constance Mirium\",female,5,1,2,C.A. 34651,27.75,,S\\r\\n60,0,3,\"Goodwin, Master. William Frederick\",male,11,5,2,CA 2144,46.9,,S\\r\\n61,0,3,\"Sirayanian, Mr. Orsen\",male,22,0,0,2669,7.2292,,C\\r\\n62,1,1,\"Icard, Miss. Amelie\",female,38,0,0,113572,80,B28,\\r\\n63,0,1,\"Harris, Mr. Henry Birkhardt\",male,45,1,0,36973,83.475,C83,S\\r\\n64,0,3,\"Skoog, Master. Harald\",male,4,3,2,347088,27.9,,S\\r\\n65,0,1,\"Stewart, Mr. Albert A\",male,,0,0,PC 17605,27.7208,,C\\r\\n66,1,3,\"Moubarek, Master. Gerios\",male,,1,1,2661,15.2458,,C\\r\\n67,1,2,\"Nye, Mrs. (Elizabeth Ramell)\",female,29,0,0,C.A. 29395,10.5,F33,S\\r\\n68,0,3,\"Crease, Mr. Ernest James\",male,19,0,0,S.P. 3464,8.1583,,S\\r\\n69,1,3,\"Andersson, Miss. Erna Alexandra\",female,17,4,2,3101281,7.925,,S\\r\\n70,0,3,\"Kink, Mr. Vincenz\",male,26,2,0,315151,8.6625,,S\\r\\n71,0,2,\"Jenkin, Mr. Stephen Curnow\",male,32,0,0,C.A. 33111,10.5,,S\\r\\n72,0,3,\"Goodwin, Miss. Lillian Amy\",female,16,5,2,CA 2144,46.9,,S\\r\\n73,0,2,\"Hood, Mr. Ambrose Jr\",male,21,0,0,S.O.C. 14879,73.5,,S\\r\\n74,0,3,\"Chronopoulos, Mr. Apostolos\",male,26,1,0,2680,14.4542,,C\\r\\n75,1,3,\"Bing, Mr. Lee\",male,32,0,0,1601,56.4958,,S\\r\\n76,0,3,\"Moen, Mr. Sigurd Hansen\",male,25,0,0,348123,7.65,F G73,S\\r\\n77,0,3,\"Staneff, Mr. Ivan\",male,,0,0,349208,7.8958,,S\\r\\n78,0,3,\"Moutal, Mr. Rahamin Haim\",male,,0,0,374746,8.05,,S\\r\\n79,1,2,\"Caldwell, Master. Alden Gates\",male,0.83,0,2,248738,29,,S\\r\\n80,1,3,\"Dowdell, Miss. Elizabeth\",female,30,0,0,364516,12.475,,S\\r\\n81,0,3,\"Waelens, Mr. Achille\",male,22,0,0,345767,9,,S\\r\\n82,1,3,\"Sheerlinck, Mr. Jan Baptist\",male,29,0,0,345779,9.5,,S\\r\\n83,1,3,\"McDermott, Miss. Brigdet Delia\",female,,0,0,330932,7.7875,,Q\\r\\n84,0,1,\"Carrau, Mr. Francisco M\",male,28,0,0,113059,47.1,,S\\r\\n85,1,2,\"Ilett, Miss. Bertha\",female,17,0,0,SO/C 14885,10.5,,S\\r\\n86,1,3,\"Backstrom, Mrs. Karl Alfred (Maria Mathilda Gustafsson)\",female,33,3,0,3101278,15.85,,S\\r\\n87,0,3,\"Ford, Mr. William Neal\",male,16,1,3,W./C. 6608,34.375,,S\\r\\n88,0,3,\"Slocovski, Mr. Selman Francis\",male,,0,0,SOTON/OQ 392086,8.05,,S\\r\\n89,1,1,\"Fortune, Miss. Mabel Helen\",female,23,3,2,19950,263,C23 C25 C27,S\\r\\n90,0,3,\"Celotti, Mr. Francesco\",male,24,0,0,343275,8.05,,S\\r\\n91,0,3,\"Christmann, Mr. Emil\",male,29,0,0,343276,8.05,,S\\r\\n92,0,3,\"Andreasson, Mr. Paul Edvin\",male,20,0,0,347466,7.8542,,S\\r\\n93,0,1,\"Chaffee, Mr. Herbert Fuller\",male,46,1,0,W.E.P. 5734,61.175,E31,S\\r\\n94,0,3,\"Dean, Mr. Bertram Frank\",male,26,1,2,C.A. 2315,20.575,,S\\r\\n95,0,3,\"Coxon, Mr. Daniel\",male,59,0,0,364500,7.25,,S\\r\\n96,0,3,\"Shorney, Mr. Charles Joseph\",male,,0,0,374910,8.05,,S\\r\\n97,0,1,\"Goldschmidt, Mr. George B\",male,71,0,0,PC 17754,34.6542,A5,C\\r\\n98,1,1,\"Greenfield, Mr. William Bertram\",male,23,0,1,PC 17759,63.3583,D10 D12,C\\r\\n99,1,2,\"Doling, Mrs. John T (Ada Julia Bone)\",female,34,0,1,231919,23,,S\\r\\n100,0,2,\"Kantor, Mr. Sinai\",male,34,1,0,244367,26,,S\\r\\n101,0,3,\"Petranec, Miss. Matilda\",female,28,0,0,349245,7.8958,,S\\r\\n102,0,3,\"Petroff, Mr. Pastcho (\"\"Pentcho\"\")\",male,,0,0,349215,7.8958,,S\\r\\n103,0,1,\"White, Mr. Richard Frasar\",male,21,0,1,35281,77.2875,D26,S\\r\\n104,0,3,\"Johansson, Mr. Gustaf Joel\",male,33,0,0,7540,8.6542,,S\\r\\n105,0,3,\"Gustafsson, Mr. Anders Vilhelm\",male,37,2,0,3101276,7.925,,S\\r\\n106,0,3,\"Mionoff, Mr. Stoytcho\",male,28,0,0,349207,7.8958,,S\\r\\n107,1,3,\"Salkjelsvik, Miss. Anna Kristine\",female,21,0,0,343120,7.65,,S\\r\\n108,1,3,\"Moss, Mr. Albert Johan\",male,,0,0,312991,7.775,,S\\r\\n109,0,3,\"Rekic, Mr. Tido\",male,38,0,0,349249,7.8958,,S\\r\\n110,1,3,\"Moran, Miss. Bertha\",female,,1,0,371110,24.15,,Q\\r\\n111,0,1,\"Porter, Mr. Walter Chamberlain\",male,47,0,0,110465,52,C110,S\\r\\n112,0,3,\"Zabour, Miss. Hileni\",female,14.5,1,0,2665,14.4542,,C\\r\\n113,0,3,\"Barton, Mr. David John\",male,22,0,0,324669,8.05,,S\\r\\n114,0,3,\"Jussila, Miss. Katriina\",female,20,1,0,4136,9.825,,S\\r\\n115,0,3,\"Attalah, Miss. Malake\",female,17,0,0,2627,14.4583,,C\\r\\n116,0,3,\"Pekoniemi, Mr. Edvard\",male,21,0,0,STON/O 2. 3101294,7.925,,S\\r\\n117,0,3,\"Connors, Mr. Patrick\",male,70.5,0,0,370369,7.75,,Q\\r\\n118,0,2,\"Turpin, Mr. William John Robert\",male,29,1,0,11668,21,,S\\r\\n119,0,1,\"Baxter, Mr. Quigg Edmond\",male,24,0,1,PC 17558,247.5208,B58 B60,C\\r\\n120,0,3,\"Andersson, Miss. Ellis Anna Maria\",female,2,4,2,347082,31.275,,S\\r\\n121,0,2,\"Hickman, Mr. Stanley George\",male,21,2,0,S.O.C. 14879,73.5,,S\\r\\n122,0,3,\"Moore, Mr. Leonard Charles\",male,,0,0,A4. 54510,8.05,,S\\r\\n123,0,2,\"Nasser, Mr. Nicholas\",male,32.5,1,0,237736,30.0708,,C\\r\\n124,1,2,\"Webber, Miss. Susan\",female,32.5,0,0,27267,13,E101,S\\r\\n125,0,1,\"White, Mr. Percival Wayland\",male,54,0,1,35281,77.2875,D26,S\\r\\n126,1,3,\"Nicola-Yarred, Master. Elias\",male,12,1,0,2651,11.2417,,C\\r\\n127,0,3,\"McMahon, Mr. Martin\",male,,0,0,370372,7.75,,Q\\r\\n128,1,3,\"Madsen, Mr. Fridtjof Arne\",male,24,0,0,C 17369,7.1417,,S\\r\\n129,1,3,\"Peter, Miss. Anna\",female,,1,1,2668,22.3583,F E69,C\\r\\n130,0,3,\"Ekstrom, Mr. Johan\",male,45,0,0,347061,6.975,,S\\r\\n131,0,3,\"Drazenoic, Mr. Jozef\",male,33,0,0,349241,7.8958,,C\\r\\n132,0,3,\"Coelho, Mr. Domingos Fernandeo\",male,20,0,0,SOTON/O.Q. 3101307,7.05,,S\\r\\n133,0,3,\"Robins, Mrs. Alexander A (Grace Charity Laury)\",female,47,1,0,A/5. 3337,14.5,,S\\r\\n134,1,2,\"Weisz, Mrs. Leopold (Mathilde Francoise Pede)\",female,29,1,0,228414,26,,S\\r\\n135,0,2,\"Sobey, Mr. Samuel James Hayden\",male,25,0,0,C.A. 29178,13,,S\\r\\n136,0,2,\"Richard, Mr. Emile\",male,23,0,0,SC/PARIS 2133,15.0458,,C\\r\\n137,1,1,\"Newsom, Miss. Helen Monypeny\",female,19,0,2,11752,26.2833,D47,S\\r\\n138,0,1,\"Futrelle, Mr. Jacques Heath\",male,37,1,0,113803,53.1,C123,S\\r\\n139,0,3,\"Osen, Mr. Olaf Elon\",male,16,0,0,7534,9.2167,,S\\r\\n140,0,1,\"Giglio, Mr. Victor\",male,24,0,0,PC 17593,79.2,B86,C\\r\\n141,0,3,\"Boulos, Mrs. Joseph (Sultana)\",female,,0,2,2678,15.2458,,C\\r\\n142,1,3,\"Nysten, Miss. Anna Sofia\",female,22,0,0,347081,7.75,,S\\r\\n143,1,3,\"Hakkarainen, Mrs. Pekka Pietari (Elin Matilda Dolck)\",female,24,1,0,STON/O2. 3101279,15.85,,S\\r\\n144,0,3,\"Burke, Mr. Jeremiah\",male,19,0,0,365222,6.75,,Q\\r\\n145,0,2,\"Andrew, Mr. Edgardo Samuel\",male,18,0,0,231945,11.5,,S\\r\\n146,0,2,\"Nicholls, Mr. Joseph Charles\",male,19,1,1,C.A. 33112,36.75,,S\\r\\n147,1,3,\"Andersson, Mr. August Edvard (\"\"Wennerstrom\"\")\",male,27,0,0,350043,7.7958,,S\\r\\n148,0,3,\"Ford, Miss. Robina Maggie \"\"Ruby\"\"\",female,9,2,2,W./C. 6608,34.375,,S\\r\\n149,0,2,\"Navratil, Mr. Michel (\"\"Louis M Hoffman\"\")\",male,36.5,0,2,230080,26,F2,S\\r\\n150,0,2,\"Byles, Rev. Thomas Roussel Davids\",male,42,0,0,244310,13,,S\\r\\n151,0,2,\"Bateman, Rev. Robert James\",male,51,0,0,S.O.P. 1166,12.525,,S\\r\\n152,1,1,\"Pears, Mrs. Thomas (Edith Wearne)\",female,22,1,0,113776,66.6,C2,S\\r\\n153,0,3,\"Meo, Mr. Alfonzo\",male,55.5,0,0,A.5. 11206,8.05,,S\\r\\n154,0,3,\"van Billiard, Mr. Austin Blyler\",male,40.5,0,2,A/5. 851,14.5,,S\\r\\n155,0,3,\"Olsen, Mr. Ole Martin\",male,,0,0,Fa 265302,7.3125,,S\\r\\n156,0,1,\"Williams, Mr. Charles Duane\",male,51,0,1,PC 17597,61.3792,,C\\r\\n157,1,3,\"Gilnagh, Miss. Katherine \"\"Katie\"\"\",female,16,0,0,35851,7.7333,,Q\\r\\n158,0,3,\"Corn, Mr. Harry\",male,30,0,0,SOTON/OQ 392090,8.05,,S\\r\\n159,0,3,\"Smiljanic, Mr. Mile\",male,,0,0,315037,8.6625,,S\\r\\n160,0,3,\"Sage, Master. Thomas Henry\",male,,8,2,CA. 2343,69.55,,S\\r\\n161,0,3,\"Cribb, Mr. John Hatfield\",male,44,0,1,371362,16.1,,S\\r\\n162,1,2,\"Watt, Mrs. James (Elizabeth \"\"Bessie\"\" Inglis Milne)\",female,40,0,0,C.A. 33595,15.75,,S\\r\\n163,0,3,\"Bengtsson, Mr. John Viktor\",male,26,0,0,347068,7.775,,S\\r\\n164,0,3,\"Calic, Mr. Jovo\",male,17,0,0,315093,8.6625,,S\\r\\n165,0,3,\"Panula, Master. Eino Viljami\",male,1,4,1,3101295,39.6875,,S\\r\\n166,1,3,\"Goldsmith, Master. Frank John William \"\"Frankie\"\"\",male,9,0,2,363291,20.525,,S\\r\\n167,1,1,\"Chibnall, Mrs. (Edith Martha Bowerman)\",female,,0,1,113505,55,E33,S\\r\\n168,0,3,\"Skoog, Mrs. William (Anna Bernhardina Karlsson)\",female,45,1,4,347088,27.9,,S\\r\\n169,0,1,\"Baumann, Mr. John D\",male,,0,0,PC 17318,25.925,,S\\r\\n170,0,3,\"Ling, Mr. Lee\",male,28,0,0,1601,56.4958,,S\\r\\n171,0,1,\"Van der hoef, Mr. Wyckoff\",male,61,0,0,111240,33.5,B19,S\\r\\n172,0,3,\"Rice, Master. Arthur\",male,4,4,1,382652,29.125,,Q\\r\\n173,1,3,\"Johnson, Miss. Eleanor Ileen\",female,1,1,1,347742,11.1333,,S\\r\\n174,0,3,\"Sivola, Mr. Antti Wilhelm\",male,21,0,0,STON/O 2. 3101280,7.925,,S\\r\\n175,0,1,\"Smith, Mr. James Clinch\",male,56,0,0,17764,30.6958,A7,C\\r\\n176,0,3,\"Klasen, Mr. Klas Albin\",male,18,1,1,350404,7.8542,,S\\r\\n177,0,3,\"Lefebre, Master. Henry Forbes\",male,,3,1,4133,25.4667,,S\\r\\n178,0,1,\"Isham, Miss. Ann Elizabeth\",female,50,0,0,PC 17595,28.7125,C49,C\\r\\n179,0,2,\"Hale, Mr. Reginald\",male,30,0,0,250653,13,,S\\r\\n180,0,3,\"Leonard, Mr. Lionel\",male,36,0,0,LINE,0,,S\\r\\n181,0,3,\"Sage, Miss. Constance Gladys\",female,,8,2,CA. 2343,69.55,,S\\r\\n182,0,2,\"Pernot, Mr. Rene\",male,,0,0,SC/PARIS 2131,15.05,,C\\r\\n183,0,3,\"Asplund, Master. Clarence Gustaf Hugo\",male,9,4,2,347077,31.3875,,S\\r\\n184,1,2,\"Becker, Master. Richard F\",male,1,2,1,230136,39,F4,S\\r\\n185,1,3,\"Kink-Heilmann, Miss. Luise Gretchen\",female,4,0,2,315153,22.025,,S\\r\\n186,0,1,\"Rood, Mr. Hugh Roscoe\",male,,0,0,113767,50,A32,S\\r\\n187,1,3,\"O\\'Brien, Mrs. Thomas (Johanna \"\"Hannah\"\" Godfrey)\",female,,1,0,370365,15.5,,Q\\r\\n188,1,1,\"Romaine, Mr. Charles Hallace (\"\"Mr C Rolmane\"\")\",male,45,0,0,111428,26.55,,S\\r\\n189,0,3,\"Bourke, Mr. John\",male,40,1,1,364849,15.5,,Q\\r\\n190,0,3,\"Turcin, Mr. Stjepan\",male,36,0,0,349247,7.8958,,S\\r\\n191,1,2,\"Pinsky, Mrs. (Rosa)\",female,32,0,0,234604,13,,S\\r\\n192,0,2,\"Carbines, Mr. William\",male,19,0,0,28424,13,,S\\r\\n193,1,3,\"Andersen-Jensen, Miss. Carla Christine Nielsine\",female,19,1,0,350046,7.8542,,S\\r\\n194,1,2,\"Navratil, Master. Michel M\",male,3,1,1,230080,26,F2,S\\r\\n195,1,1,\"Brown, Mrs. James Joseph (Margaret Tobin)\",female,44,0,0,PC 17610,27.7208,B4,C\\r\\n196,1,1,\"Lurette, Miss. Elise\",female,58,0,0,PC 17569,146.5208,B80,C\\r\\n197,0,3,\"Mernagh, Mr. Robert\",male,,0,0,368703,7.75,,Q\\r\\n198,0,3,\"Olsen, Mr. Karl Siegwart Andreas\",male,42,0,1,4579,8.4042,,S\\r\\n199,1,3,\"Madigan, Miss. Margaret \"\"Maggie\"\"\",female,,0,0,370370,7.75,,Q\\r\\n200,0,2,\"Yrois, Miss. Henriette (\"\"Mrs Harbeck\"\")\",female,24,0,0,248747,13,,S\\r\\n201,0,3,\"Vande Walle, Mr. Nestor Cyriel\",male,28,0,0,345770,9.5,,S\\r\\n202,0,3,\"Sage, Mr. Frederick\",male,,8,2,CA. 2343,69.55,,S\\r\\n203,0,3,\"Johanson, Mr. Jakob Alfred\",male,34,0,0,3101264,6.4958,,S\\r\\n204,0,3,\"Youseff, Mr. Gerious\",male,45.5,0,0,2628,7.225,,C\\r\\n205,1,3,\"Cohen, Mr. Gurshon \"\"Gus\"\"\",male,18,0,0,A/5 3540,8.05,,S\\r\\n206,0,3,\"Strom, Miss. Telma Matilda\",female,2,0,1,347054,10.4625,G6,S\\r\\n207,0,3,\"Backstrom, Mr. Karl Alfred\",male,32,1,0,3101278,15.85,,S\\r\\n208,1,3,\"Albimona, Mr. Nassef Cassem\",male,26,0,0,2699,18.7875,,C\\r\\n209,1,3,\"Carr, Miss. Helen \"\"Ellen\"\"\",female,16,0,0,367231,7.75,,Q\\r\\n210,1,1,\"Blank, Mr. Henry\",male,40,0,0,112277,31,A31,C\\r\\n211,0,3,\"Ali, Mr. Ahmed\",male,24,0,0,SOTON/O.Q. 3101311,7.05,,S\\r\\n212,1,2,\"Cameron, Miss. Clear Annie\",female,35,0,0,F.C.C. 13528,21,,S\\r\\n213,0,3,\"Perkin, Mr. John Henry\",male,22,0,0,A/5 21174,7.25,,S\\r\\n214,0,2,\"Givard, Mr. Hans Kristensen\",male,30,0,0,250646,13,,S\\r\\n215,0,3,\"Kiernan, Mr. Philip\",male,,1,0,367229,7.75,,Q\\r\\n216,1,1,\"Newell, Miss. Madeleine\",female,31,1,0,35273,113.275,D36,C\\r\\n217,1,3,\"Honkanen, Miss. Eliina\",female,27,0,0,STON/O2. 3101283,7.925,,S\\r\\n218,0,2,\"Jacobsohn, Mr. Sidney Samuel\",male,42,1,0,243847,27,,S\\r\\n219,1,1,\"Bazzani, Miss. Albina\",female,32,0,0,11813,76.2917,D15,C\\r\\n220,0,2,\"Harris, Mr. Walter\",male,30,0,0,W/C 14208,10.5,,S\\r\\n221,1,3,\"Sunderland, Mr. Victor Francis\",male,16,0,0,SOTON/OQ 392089,8.05,,S\\r\\n222,0,2,\"Bracken, Mr. James H\",male,27,0,0,220367,13,,S\\r\\n223,0,3,\"Green, Mr. George Henry\",male,51,0,0,21440,8.05,,S\\r\\n224,0,3,\"Nenkoff, Mr. Christo\",male,,0,0,349234,7.8958,,S\\r\\n225,1,1,\"Hoyt, Mr. Frederick Maxfield\",male,38,1,0,19943,90,C93,S\\r\\n226,0,3,\"Berglund, Mr. Karl Ivar Sven\",male,22,0,0,PP 4348,9.35,,S\\r\\n227,1,2,\"Mellors, Mr. William John\",male,19,0,0,SW/PP 751,10.5,,S\\r\\n228,0,3,\"Lovell, Mr. John Hall (\"\"Henry\"\")\",male,20.5,0,0,A/5 21173,7.25,,S\\r\\n229,0,2,\"Fahlstrom, Mr. Arne Jonas\",male,18,0,0,236171,13,,S\\r\\n230,0,3,\"Lefebre, Miss. Mathilde\",female,,3,1,4133,25.4667,,S\\r\\n231,1,1,\"Harris, Mrs. Henry Birkhardt (Irene Wallach)\",female,35,1,0,36973,83.475,C83,S\\r\\n232,0,3,\"Larsson, Mr. Bengt Edvin\",male,29,0,0,347067,7.775,,S\\r\\n233,0,2,\"Sjostedt, Mr. Ernst Adolf\",male,59,0,0,237442,13.5,,S\\r\\n234,1,3,\"Asplund, Miss. Lillian Gertrud\",female,5,4,2,347077,31.3875,,S\\r\\n235,0,2,\"Leyson, Mr. Robert William Norman\",male,24,0,0,C.A. 29566,10.5,,S\\r\\n236,0,3,\"Harknett, Miss. Alice Phoebe\",female,,0,0,W./C. 6609,7.55,,S\\r\\n237,0,2,\"Hold, Mr. Stephen\",male,44,1,0,26707,26,,S\\r\\n238,1,2,\"Collyer, Miss. Marjorie \"\"Lottie\"\"\",female,8,0,2,C.A. 31921,26.25,,S\\r\\n239,0,2,\"Pengelly, Mr. Frederick William\",male,19,0,0,28665,10.5,,S\\r\\n240,0,2,\"Hunt, Mr. George Henry\",male,33,0,0,SCO/W 1585,12.275,,S\\r\\n241,0,3,\"Zabour, Miss. Thamine\",female,,1,0,2665,14.4542,,C\\r\\n242,1,3,\"Murphy, Miss. Katherine \"\"Kate\"\"\",female,,1,0,367230,15.5,,Q\\r\\n243,0,2,\"Coleridge, Mr. Reginald Charles\",male,29,0,0,W./C. 14263,10.5,,S\\r\\n244,0,3,\"Maenpaa, Mr. Matti Alexanteri\",male,22,0,0,STON/O 2. 3101275,7.125,,S\\r\\n245,0,3,\"Attalah, Mr. Sleiman\",male,30,0,0,2694,7.225,,C\\r\\n246,0,1,\"Minahan, Dr. William Edward\",male,44,2,0,19928,90,C78,Q\\r\\n247,0,3,\"Lindahl, Miss. Agda Thorilda Viktoria\",female,25,0,0,347071,7.775,,S\\r\\n248,1,2,\"Hamalainen, Mrs. William (Anna)\",female,24,0,2,250649,14.5,,S\\r\\n249,1,1,\"Beckwith, Mr. Richard Leonard\",male,37,1,1,11751,52.5542,D35,S\\r\\n250,0,2,\"Carter, Rev. Ernest Courtenay\",male,54,1,0,244252,26,,S\\r\\n251,0,3,\"Reed, Mr. James George\",male,,0,0,362316,7.25,,S\\r\\n252,0,3,\"Strom, Mrs. Wilhelm (Elna Matilda Persson)\",female,29,1,1,347054,10.4625,G6,S\\r\\n253,0,1,\"Stead, Mr. William Thomas\",male,62,0,0,113514,26.55,C87,S\\r\\n254,0,3,\"Lobb, Mr. William Arthur\",male,30,1,0,A/5. 3336,16.1,,S\\r\\n255,0,3,\"Rosblom, Mrs. Viktor (Helena Wilhelmina)\",female,41,0,2,370129,20.2125,,S\\r\\n256,1,3,\"Touma, Mrs. Darwis (Hanne Youssef Razi)\",female,29,0,2,2650,15.2458,,C\\r\\n257,1,1,\"Thorne, Mrs. Gertrude Maybelle\",female,,0,0,PC 17585,79.2,,C\\r\\n258,1,1,\"Cherry, Miss. Gladys\",female,30,0,0,110152,86.5,B77,S\\r\\n259,1,1,\"Ward, Miss. Anna\",female,35,0,0,PC 17755,512.3292,,C\\r\\n260,1,2,\"Parrish, Mrs. (Lutie Davis)\",female,50,0,1,230433,26,,S\\r\\n261,0,3,\"Smith, Mr. Thomas\",male,,0,0,384461,7.75,,Q\\r\\n262,1,3,\"Asplund, Master. Edvin Rojj Felix\",male,3,4,2,347077,31.3875,,S\\r\\n263,0,1,\"Taussig, Mr. Emil\",male,52,1,1,110413,79.65,E67,S\\r\\n264,0,1,\"Harrison, Mr. William\",male,40,0,0,112059,0,B94,S\\r\\n265,0,3,\"Henry, Miss. Delia\",female,,0,0,382649,7.75,,Q\\r\\n266,0,2,\"Reeves, Mr. David\",male,36,0,0,C.A. 17248,10.5,,S\\r\\n267,0,3,\"Panula, Mr. Ernesti Arvid\",male,16,4,1,3101295,39.6875,,S\\r\\n268,1,3,\"Persson, Mr. Ernst Ulrik\",male,25,1,0,347083,7.775,,S\\r\\n269,1,1,\"Graham, Mrs. William Thompson (Edith Junkins)\",female,58,0,1,PC 17582,153.4625,C125,S\\r\\n270,1,1,\"Bissette, Miss. Amelia\",female,35,0,0,PC 17760,135.6333,C99,S\\r\\n271,0,1,\"Cairns, Mr. Alexander\",male,,0,0,113798,31,,S\\r\\n272,1,3,\"Tornquist, Mr. William Henry\",male,25,0,0,LINE,0,,S\\r\\n273,1,2,\"Mellinger, Mrs. (Elizabeth Anne Maidment)\",female,41,0,1,250644,19.5,,S\\r\\n274,0,1,\"Natsch, Mr. Charles H\",male,37,0,1,PC 17596,29.7,C118,C\\r\\n275,1,3,\"Healy, Miss. Hanora \"\"Nora\"\"\",female,,0,0,370375,7.75,,Q\\r\\n276,1,1,\"Andrews, Miss. Kornelia Theodosia\",female,63,1,0,13502,77.9583,D7,S\\r\\n277,0,3,\"Lindblom, Miss. Augusta Charlotta\",female,45,0,0,347073,7.75,,S\\r\\n278,0,2,\"Parkes, Mr. Francis \"\"Frank\"\"\",male,,0,0,239853,0,,S\\r\\n279,0,3,\"Rice, Master. Eric\",male,7,4,1,382652,29.125,,Q\\r\\n280,1,3,\"Abbott, Mrs. Stanton (Rosa Hunt)\",female,35,1,1,C.A. 2673,20.25,,S\\r\\n281,0,3,\"Duane, Mr. Frank\",male,65,0,0,336439,7.75,,Q\\r\\n282,0,3,\"Olsson, Mr. Nils Johan Goransson\",male,28,0,0,347464,7.8542,,S\\r\\n283,0,3,\"de Pelsmaeker, Mr. Alfons\",male,16,0,0,345778,9.5,,S\\r\\n284,1,3,\"Dorking, Mr. Edward Arthur\",male,19,0,0,A/5. 10482,8.05,,S\\r\\n285,0,1,\"Smith, Mr. Richard William\",male,,0,0,113056,26,A19,S\\r\\n286,0,3,\"Stankovic, Mr. Ivan\",male,33,0,0,349239,8.6625,,C\\r\\n287,1,3,\"de Mulder, Mr. Theodore\",male,30,0,0,345774,9.5,,S\\r\\n288,0,3,\"Naidenoff, Mr. Penko\",male,22,0,0,349206,7.8958,,S\\r\\n289,1,2,\"Hosono, Mr. Masabumi\",male,42,0,0,237798,13,,S\\r\\n290,1,3,\"Connolly, Miss. Kate\",female,22,0,0,370373,7.75,,Q\\r\\n291,1,1,\"Barber, Miss. Ellen \"\"Nellie\"\"\",female,26,0,0,19877,78.85,,S\\r\\n292,1,1,\"Bishop, Mrs. Dickinson H (Helen Walton)\",female,19,1,0,11967,91.0792,B49,C\\r\\n293,0,2,\"Levy, Mr. Rene Jacques\",male,36,0,0,SC/Paris 2163,12.875,D,C\\r\\n294,0,3,\"Haas, Miss. Aloisia\",female,24,0,0,349236,8.85,,S\\r\\n295,0,3,\"Mineff, Mr. Ivan\",male,24,0,0,349233,7.8958,,S\\r\\n296,0,1,\"Lewy, Mr. Ervin G\",male,,0,0,PC 17612,27.7208,,C\\r\\n297,0,3,\"Hanna, Mr. Mansour\",male,23.5,0,0,2693,7.2292,,C\\r\\n298,0,1,\"Allison, Miss. Helen Loraine\",female,2,1,2,113781,151.55,C22 C26,S\\r\\n299,1,1,\"Saalfeld, Mr. Adolphe\",male,,0,0,19988,30.5,C106,S\\r\\n300,1,1,\"Baxter, Mrs. James (Helene DeLaudeniere Chaput)\",female,50,0,1,PC 17558,247.5208,B58 B60,C\\r\\n301,1,3,\"Kelly, Miss. Anna Katherine \"\"Annie Kate\"\"\",female,,0,0,9234,7.75,,Q\\r\\n302,1,3,\"McCoy, Mr. Bernard\",male,,2,0,367226,23.25,,Q\\r\\n303,0,3,\"Johnson, Mr. William Cahoone Jr\",male,19,0,0,LINE,0,,S\\r\\n304,1,2,\"Keane, Miss. Nora A\",female,,0,0,226593,12.35,E101,Q\\r\\n305,0,3,\"Williams, Mr. Howard Hugh \"\"Harry\"\"\",male,,0,0,A/5 2466,8.05,,S\\r\\n306,1,1,\"Allison, Master. Hudson Trevor\",male,0.92,1,2,113781,151.55,C22 C26,S\\r\\n307,1,1,\"Fleming, Miss. Margaret\",female,,0,0,17421,110.8833,,C\\r\\n308,1,1,\"Penasco y Castellana, Mrs. Victor de Satode (Maria Josefa Perez de Soto y Vallejo)\",female,17,1,0,PC 17758,108.9,C65,C\\r\\n309,0,2,\"Abelson, Mr. Samuel\",male,30,1,0,P/PP 3381,24,,C\\r\\n310,1,1,\"Francatelli, Miss. Laura Mabel\",female,30,0,0,PC 17485,56.9292,E36,C\\r\\n311,1,1,\"Hays, Miss. Margaret Bechstein\",female,24,0,0,11767,83.1583,C54,C\\r\\n312,1,1,\"Ryerson, Miss. Emily Borie\",female,18,2,2,PC 17608,262.375,B57 B59 B63 B66,C\\r\\n313,0,2,\"Lahtinen, Mrs. William (Anna Sylfven)\",female,26,1,1,250651,26,,S\\r\\n314,0,3,\"Hendekovic, Mr. Ignjac\",male,28,0,0,349243,7.8958,,S\\r\\n315,0,2,\"Hart, Mr. Benjamin\",male,43,1,1,F.C.C. 13529,26.25,,S\\r\\n316,1,3,\"Nilsson, Miss. Helmina Josefina\",female,26,0,0,347470,7.8542,,S\\r\\n317,1,2,\"Kantor, Mrs. Sinai (Miriam Sternin)\",female,24,1,0,244367,26,,S\\r\\n318,0,2,\"Moraweck, Dr. Ernest\",male,54,0,0,29011,14,,S\\r\\n319,1,1,\"Wick, Miss. Mary Natalie\",female,31,0,2,36928,164.8667,C7,S\\r\\n320,1,1,\"Spedden, Mrs. Frederic Oakley (Margaretta Corning Stone)\",female,40,1,1,16966,134.5,E34,C\\r\\n321,0,3,\"Dennis, Mr. Samuel\",male,22,0,0,A/5 21172,7.25,,S\\r\\n322,0,3,\"Danoff, Mr. Yoto\",male,27,0,0,349219,7.8958,,S\\r\\n323,1,2,\"Slayter, Miss. Hilda Mary\",female,30,0,0,234818,12.35,,Q\\r\\n324,1,2,\"Caldwell, Mrs. Albert Francis (Sylvia Mae Harbaugh)\",female,22,1,1,248738,29,,S\\r\\n325,0,3,\"Sage, Mr. George John Jr\",male,,8,2,CA. 2343,69.55,,S\\r\\n326,1,1,\"Young, Miss. Marie Grice\",female,36,0,0,PC 17760,135.6333,C32,C\\r\\n327,0,3,\"Nysveen, Mr. Johan Hansen\",male,61,0,0,345364,6.2375,,S\\r\\n328,1,2,\"Ball, Mrs. (Ada E Hall)\",female,36,0,0,28551,13,D,S\\r\\n329,1,3,\"Goldsmith, Mrs. Frank John (Emily Alice Brown)\",female,31,1,1,363291,20.525,,S\\r\\n330,1,1,\"Hippach, Miss. Jean Gertrude\",female,16,0,1,111361,57.9792,B18,C\\r\\n331,1,3,\"McCoy, Miss. Agnes\",female,,2,0,367226,23.25,,Q\\r\\n332,0,1,\"Partner, Mr. Austen\",male,45.5,0,0,113043,28.5,C124,S\\r\\n333,0,1,\"Graham, Mr. George Edward\",male,38,0,1,PC 17582,153.4625,C91,S\\r\\n334,0,3,\"Vander Planke, Mr. Leo Edmondus\",male,16,2,0,345764,18,,S\\r\\n335,1,1,\"Frauenthal, Mrs. Henry William (Clara Heinsheimer)\",female,,1,0,PC 17611,133.65,,S\\r\\n336,0,3,\"Denkoff, Mr. Mitto\",male,,0,0,349225,7.8958,,S\\r\\n337,0,1,\"Pears, Mr. Thomas Clinton\",male,29,1,0,113776,66.6,C2,S\\r\\n338,1,1,\"Burns, Miss. Elizabeth Margaret\",female,41,0,0,16966,134.5,E40,C\\r\\n339,1,3,\"Dahl, Mr. Karl Edwart\",male,45,0,0,7598,8.05,,S\\r\\n340,0,1,\"Blackwell, Mr. Stephen Weart\",male,45,0,0,113784,35.5,T,S\\r\\n341,1,2,\"Navratil, Master. Edmond Roger\",male,2,1,1,230080,26,F2,S\\r\\n342,1,1,\"Fortune, Miss. Alice Elizabeth\",female,24,3,2,19950,263,C23 C25 C27,S\\r\\n343,0,2,\"Collander, Mr. Erik Gustaf\",male,28,0,0,248740,13,,S\\r\\n344,0,2,\"Sedgwick, Mr. Charles Frederick Waddington\",male,25,0,0,244361,13,,S\\r\\n345,0,2,\"Fox, Mr. Stanley Hubert\",male,36,0,0,229236,13,,S\\r\\n346,1,2,\"Brown, Miss. Amelia \"\"Mildred\"\"\",female,24,0,0,248733,13,F33,S\\r\\n347,1,2,\"Smith, Miss. Marion Elsie\",female,40,0,0,31418,13,,S\\r\\n348,1,3,\"Davison, Mrs. Thomas Henry (Mary E Finck)\",female,,1,0,386525,16.1,,S\\r\\n349,1,3,\"Coutts, Master. William Loch \"\"William\"\"\",male,3,1,1,C.A. 37671,15.9,,S\\r\\n350,0,3,\"Dimic, Mr. Jovan\",male,42,0,0,315088,8.6625,,S\\r\\n351,0,3,\"Odahl, Mr. Nils Martin\",male,23,0,0,7267,9.225,,S\\r\\n352,0,1,\"Williams-Lambert, Mr. Fletcher Fellows\",male,,0,0,113510,35,C128,S\\r\\n353,0,3,\"Elias, Mr. Tannous\",male,15,1,1,2695,7.2292,,C\\r\\n354,0,3,\"Arnold-Franchi, Mr. Josef\",male,25,1,0,349237,17.8,,S\\r\\n355,0,3,\"Yousif, Mr. Wazli\",male,,0,0,2647,7.225,,C\\r\\n356,0,3,\"Vanden Steen, Mr. Leo Peter\",male,28,0,0,345783,9.5,,S\\r\\n357,1,1,\"Bowerman, Miss. Elsie Edith\",female,22,0,1,113505,55,E33,S\\r\\n358,0,2,\"Funk, Miss. Annie Clemmer\",female,38,0,0,237671,13,,S\\r\\n359,1,3,\"McGovern, Miss. Mary\",female,,0,0,330931,7.8792,,Q\\r\\n360,1,3,\"Mockler, Miss. Helen Mary \"\"Ellie\"\"\",female,,0,0,330980,7.8792,,Q\\r\\n361,0,3,\"Skoog, Mr. Wilhelm\",male,40,1,4,347088,27.9,,S\\r\\n362,0,2,\"del Carlo, Mr. Sebastiano\",male,29,1,0,SC/PARIS 2167,27.7208,,C\\r\\n363,0,3,\"Barbara, Mrs. (Catherine David)\",female,45,0,1,2691,14.4542,,C\\r\\n364,0,3,\"Asim, Mr. Adola\",male,35,0,0,SOTON/O.Q. 3101310,7.05,,S\\r\\n365,0,3,\"O\\'Brien, Mr. Thomas\",male,,1,0,370365,15.5,,Q\\r\\n366,0,3,\"Adahl, Mr. Mauritz Nils Martin\",male,30,0,0,C 7076,7.25,,S\\r\\n367,1,1,\"Warren, Mrs. Frank Manley (Anna Sophia Atkinson)\",female,60,1,0,110813,75.25,D37,C\\r\\n368,1,3,\"Moussa, Mrs. (Mantoura Boulos)\",female,,0,0,2626,7.2292,,C\\r\\n369,1,3,\"Jermyn, Miss. Annie\",female,,0,0,14313,7.75,,Q\\r\\n370,1,1,\"Aubart, Mme. Leontine Pauline\",female,24,0,0,PC 17477,69.3,B35,C\\r\\n371,1,1,\"Harder, Mr. George Achilles\",male,25,1,0,11765,55.4417,E50,C\\r\\n372,0,3,\"Wiklund, Mr. Jakob Alfred\",male,18,1,0,3101267,6.4958,,S\\r\\n373,0,3,\"Beavan, Mr. William Thomas\",male,19,0,0,323951,8.05,,S\\r\\n374,0,1,\"Ringhini, Mr. Sante\",male,22,0,0,PC 17760,135.6333,,C\\r\\n375,0,3,\"Palsson, Miss. Stina Viola\",female,3,3,1,349909,21.075,,S\\r\\n376,1,1,\"Meyer, Mrs. Edgar Joseph (Leila Saks)\",female,,1,0,PC 17604,82.1708,,C\\r\\n377,1,3,\"Landergren, Miss. Aurora Adelia\",female,22,0,0,C 7077,7.25,,S\\r\\n378,0,1,\"Widener, Mr. Harry Elkins\",male,27,0,2,113503,211.5,C82,C\\r\\n379,0,3,\"Betros, Mr. Tannous\",male,20,0,0,2648,4.0125,,C\\r\\n380,0,3,\"Gustafsson, Mr. Karl Gideon\",male,19,0,0,347069,7.775,,S\\r\\n381,1,1,\"Bidois, Miss. Rosalie\",female,42,0,0,PC 17757,227.525,,C\\r\\n382,1,3,\"Nakid, Miss. Maria (\"\"Mary\"\")\",female,1,0,2,2653,15.7417,,C\\r\\n383,0,3,\"Tikkanen, Mr. Juho\",male,32,0,0,STON/O 2. 3101293,7.925,,S\\r\\n384,1,1,\"Holverson, Mrs. Alexander Oskar (Mary Aline Towner)\",female,35,1,0,113789,52,,S\\r\\n385,0,3,\"Plotcharsky, Mr. Vasil\",male,,0,0,349227,7.8958,,S\\r\\n386,0,2,\"Davies, Mr. Charles Henry\",male,18,0,0,S.O.C. 14879,73.5,,S\\r\\n387,0,3,\"Goodwin, Master. Sidney Leonard\",male,1,5,2,CA 2144,46.9,,S\\r\\n388,1,2,\"Buss, Miss. Kate\",female,36,0,0,27849,13,,S\\r\\n389,0,3,\"Sadlier, Mr. Matthew\",male,,0,0,367655,7.7292,,Q\\r\\n390,1,2,\"Lehmann, Miss. Bertha\",female,17,0,0,SC 1748,12,,C\\r\\n391,1,1,\"Carter, Mr. William Ernest\",male,36,1,2,113760,120,B96 B98,S\\r\\n392,1,3,\"Jansson, Mr. Carl Olof\",male,21,0,0,350034,7.7958,,S\\r\\n393,0,3,\"Gustafsson, Mr. Johan Birger\",male,28,2,0,3101277,7.925,,S\\r\\n394,1,1,\"Newell, Miss. Marjorie\",female,23,1,0,35273,113.275,D36,C\\r\\n395,1,3,\"Sandstrom, Mrs. Hjalmar (Agnes Charlotta Bengtsson)\",female,24,0,2,PP 9549,16.7,G6,S\\r\\n396,0,3,\"Johansson, Mr. Erik\",male,22,0,0,350052,7.7958,,S\\r\\n397,0,3,\"Olsson, Miss. Elina\",female,31,0,0,350407,7.8542,,S\\r\\n398,0,2,\"McKane, Mr. Peter David\",male,46,0,0,28403,26,,S\\r\\n399,0,2,\"Pain, Dr. Alfred\",male,23,0,0,244278,10.5,,S\\r\\n400,1,2,\"Trout, Mrs. William H (Jessie L)\",female,28,0,0,240929,12.65,,S\\r\\n401,1,3,\"Niskanen, Mr. Juha\",male,39,0,0,STON/O 2. 3101289,7.925,,S\\r\\n402,0,3,\"Adams, Mr. John\",male,26,0,0,341826,8.05,,S\\r\\n403,0,3,\"Jussila, Miss. Mari Aina\",female,21,1,0,4137,9.825,,S\\r\\n404,0,3,\"Hakkarainen, Mr. Pekka Pietari\",male,28,1,0,STON/O2. 3101279,15.85,,S\\r\\n405,0,3,\"Oreskovic, Miss. Marija\",female,20,0,0,315096,8.6625,,S\\r\\n406,0,2,\"Gale, Mr. Shadrach\",male,34,1,0,28664,21,,S\\r\\n407,0,3,\"Widegren, Mr. Carl/Charles Peter\",male,51,0,0,347064,7.75,,S\\r\\n408,1,2,\"Richards, Master. William Rowe\",male,3,1,1,29106,18.75,,S\\r\\n409,0,3,\"Birkeland, Mr. Hans Martin Monsen\",male,21,0,0,312992,7.775,,S\\r\\n410,0,3,\"Lefebre, Miss. Ida\",female,,3,1,4133,25.4667,,S\\r\\n411,0,3,\"Sdycoff, Mr. Todor\",male,,0,0,349222,7.8958,,S\\r\\n412,0,3,\"Hart, Mr. Henry\",male,,0,0,394140,6.8583,,Q\\r\\n413,1,1,\"Minahan, Miss. Daisy E\",female,33,1,0,19928,90,C78,Q\\r\\n414,0,2,\"Cunningham, Mr. Alfred Fleming\",male,,0,0,239853,0,,S\\r\\n415,1,3,\"Sundman, Mr. Johan Julian\",male,44,0,0,STON/O 2. 3101269,7.925,,S\\r\\n416,0,3,\"Meek, Mrs. Thomas (Annie Louise Rowley)\",female,,0,0,343095,8.05,,S\\r\\n417,1,2,\"Drew, Mrs. James Vivian (Lulu Thorne Christian)\",female,34,1,1,28220,32.5,,S\\r\\n418,1,2,\"Silven, Miss. Lyyli Karoliina\",female,18,0,2,250652,13,,S\\r\\n419,0,2,\"Matthews, Mr. William John\",male,30,0,0,28228,13,,S\\r\\n420,0,3,\"Van Impe, Miss. Catharina\",female,10,0,2,345773,24.15,,S\\r\\n421,0,3,\"Gheorgheff, Mr. Stanio\",male,,0,0,349254,7.8958,,C\\r\\n422,0,3,\"Charters, Mr. David\",male,21,0,0,A/5. 13032,7.7333,,Q\\r\\n423,0,3,\"Zimmerman, Mr. Leo\",male,29,0,0,315082,7.875,,S\\r\\n424,0,3,\"Danbom, Mrs. Ernst Gilbert (Anna Sigrid Maria Brogren)\",female,28,1,1,347080,14.4,,S\\r\\n425,0,3,\"Rosblom, Mr. Viktor Richard\",male,18,1,1,370129,20.2125,,S\\r\\n426,0,3,\"Wiseman, Mr. Phillippe\",male,,0,0,A/4. 34244,7.25,,S\\r\\n427,1,2,\"Clarke, Mrs. Charles V (Ada Maria Winfield)\",female,28,1,0,2003,26,,S\\r\\n428,1,2,\"Phillips, Miss. Kate Florence (\"\"Mrs Kate Louise Phillips Marshall\"\")\",female,19,0,0,250655,26,,S\\r\\n429,0,3,\"Flynn, Mr. James\",male,,0,0,364851,7.75,,Q\\r\\n430,1,3,\"Pickard, Mr. Berk (Berk Trembisky)\",male,32,0,0,SOTON/O.Q. 392078,8.05,E10,S\\r\\n431,1,1,\"Bjornstrom-Steffansson, Mr. Mauritz Hakan\",male,28,0,0,110564,26.55,C52,S\\r\\n432,1,3,\"Thorneycroft, Mrs. Percival (Florence Kate White)\",female,,1,0,376564,16.1,,S\\r\\n433,1,2,\"Louch, Mrs. Charles Alexander (Alice Adelaide Slow)\",female,42,1,0,SC/AH 3085,26,,S\\r\\n434,0,3,\"Kallio, Mr. Nikolai Erland\",male,17,0,0,STON/O 2. 3101274,7.125,,S\\r\\n435,0,1,\"Silvey, Mr. William Baird\",male,50,1,0,13507,55.9,E44,S\\r\\n436,1,1,\"Carter, Miss. Lucile Polk\",female,14,1,2,113760,120,B96 B98,S\\r\\n437,0,3,\"Ford, Miss. Doolina Margaret \"\"Daisy\"\"\",female,21,2,2,W./C. 6608,34.375,,S\\r\\n438,1,2,\"Richards, Mrs. Sidney (Emily Hocking)\",female,24,2,3,29106,18.75,,S\\r\\n439,0,1,\"Fortune, Mr. Mark\",male,64,1,4,19950,263,C23 C25 C27,S\\r\\n440,0,2,\"Kvillner, Mr. Johan Henrik Johannesson\",male,31,0,0,C.A. 18723,10.5,,S\\r\\n441,1,2,\"Hart, Mrs. Benjamin (Esther Ada Bloomfield)\",female,45,1,1,F.C.C. 13529,26.25,,S\\r\\n442,0,3,\"Hampe, Mr. Leon\",male,20,0,0,345769,9.5,,S\\r\\n443,0,3,\"Petterson, Mr. Johan Emil\",male,25,1,0,347076,7.775,,S\\r\\n444,1,2,\"Reynaldo, Ms. Encarnacion\",female,28,0,0,230434,13,,S\\r\\n445,1,3,\"Johannesen-Bratthammer, Mr. Bernt\",male,,0,0,65306,8.1125,,S\\r\\n446,1,1,\"Dodge, Master. Washington\",male,4,0,2,33638,81.8583,A34,S\\r\\n447,1,2,\"Mellinger, Miss. Madeleine Violet\",female,13,0,1,250644,19.5,,S\\r\\n448,1,1,\"Seward, Mr. Frederic Kimber\",male,34,0,0,113794,26.55,,S\\r\\n449,1,3,\"Baclini, Miss. Marie Catherine\",female,5,2,1,2666,19.2583,,C\\r\\n450,1,1,\"Peuchen, Major. Arthur Godfrey\",male,52,0,0,113786,30.5,C104,S\\r\\n451,0,2,\"West, Mr. Edwy Arthur\",male,36,1,2,C.A. 34651,27.75,,S\\r\\n452,0,3,\"Hagland, Mr. Ingvald Olai Olsen\",male,,1,0,65303,19.9667,,S\\r\\n453,0,1,\"Foreman, Mr. Benjamin Laventall\",male,30,0,0,113051,27.75,C111,C\\r\\n454,1,1,\"Goldenberg, Mr. Samuel L\",male,49,1,0,17453,89.1042,C92,C\\r\\n455,0,3,\"Peduzzi, Mr. Joseph\",male,,0,0,A/5 2817,8.05,,S\\r\\n456,1,3,\"Jalsevac, Mr. Ivan\",male,29,0,0,349240,7.8958,,C\\r\\n457,0,1,\"Millet, Mr. Francis Davis\",male,65,0,0,13509,26.55,E38,S\\r\\n458,1,1,\"Kenyon, Mrs. Frederick R (Marion)\",female,,1,0,17464,51.8625,D21,S\\r\\n459,1,2,\"Toomey, Miss. Ellen\",female,50,0,0,F.C.C. 13531,10.5,,S\\r\\n460,0,3,\"O\\'Connor, Mr. Maurice\",male,,0,0,371060,7.75,,Q\\r\\n461,1,1,\"Anderson, Mr. Harry\",male,48,0,0,19952,26.55,E12,S\\r\\n462,0,3,\"Morley, Mr. William\",male,34,0,0,364506,8.05,,S\\r\\n463,0,1,\"Gee, Mr. Arthur H\",male,47,0,0,111320,38.5,E63,S\\r\\n464,0,2,\"Milling, Mr. Jacob Christian\",male,48,0,0,234360,13,,S\\r\\n465,0,3,\"Maisner, Mr. Simon\",male,,0,0,A/S 2816,8.05,,S\\r\\n466,0,3,\"Goncalves, Mr. Manuel Estanslas\",male,38,0,0,SOTON/O.Q. 3101306,7.05,,S\\r\\n467,0,2,\"Campbell, Mr. William\",male,,0,0,239853,0,,S\\r\\n468,0,1,\"Smart, Mr. John Montgomery\",male,56,0,0,113792,26.55,,S\\r\\n469,0,3,\"Scanlan, Mr. James\",male,,0,0,36209,7.725,,Q\\r\\n470,1,3,\"Baclini, Miss. Helene Barbara\",female,0.75,2,1,2666,19.2583,,C\\r\\n471,0,3,\"Keefe, Mr. Arthur\",male,,0,0,323592,7.25,,S\\r\\n472,0,3,\"Cacic, Mr. Luka\",male,38,0,0,315089,8.6625,,S\\r\\n473,1,2,\"West, Mrs. Edwy Arthur (Ada Mary Worth)\",female,33,1,2,C.A. 34651,27.75,,S\\r\\n474,1,2,\"Jerwan, Mrs. Amin S (Marie Marthe Thuillard)\",female,23,0,0,SC/AH Basle 541,13.7917,D,C\\r\\n475,0,3,\"Strandberg, Miss. Ida Sofia\",female,22,0,0,7553,9.8375,,S\\r\\n476,0,1,\"Clifford, Mr. George Quincy\",male,,0,0,110465,52,A14,S\\r\\n477,0,2,\"Renouf, Mr. Peter Henry\",male,34,1,0,31027,21,,S\\r\\n478,0,3,\"Braund, Mr. Lewis Richard\",male,29,1,0,3460,7.0458,,S\\r\\n479,0,3,\"Karlsson, Mr. Nils August\",male,22,0,0,350060,7.5208,,S\\r\\n480,1,3,\"Hirvonen, Miss. Hildur E\",female,2,0,1,3101298,12.2875,,S\\r\\n481,0,3,\"Goodwin, Master. Harold Victor\",male,9,5,2,CA 2144,46.9,,S\\r\\n482,0,2,\"Frost, Mr. Anthony Wood \"\"Archie\"\"\",male,,0,0,239854,0,,S\\r\\n483,0,3,\"Rouse, Mr. Richard Henry\",male,50,0,0,A/5 3594,8.05,,S\\r\\n484,1,3,\"Turkula, Mrs. (Hedwig)\",female,63,0,0,4134,9.5875,,S\\r\\n485,1,1,\"Bishop, Mr. Dickinson H\",male,25,1,0,11967,91.0792,B49,C\\r\\n486,0,3,\"Lefebre, Miss. Jeannie\",female,,3,1,4133,25.4667,,S\\r\\n487,1,1,\"Hoyt, Mrs. Frederick Maxfield (Jane Anne Forby)\",female,35,1,0,19943,90,C93,S\\r\\n488,0,1,\"Kent, Mr. Edward Austin\",male,58,0,0,11771,29.7,B37,C\\r\\n489,0,3,\"Somerton, Mr. Francis William\",male,30,0,0,A.5. 18509,8.05,,S\\r\\n490,1,3,\"Coutts, Master. Eden Leslie \"\"Neville\"\"\",male,9,1,1,C.A. 37671,15.9,,S\\r\\n491,0,3,\"Hagland, Mr. Konrad Mathias Reiersen\",male,,1,0,65304,19.9667,,S\\r\\n492,0,3,\"Windelov, Mr. Einar\",male,21,0,0,SOTON/OQ 3101317,7.25,,S\\r\\n493,0,1,\"Molson, Mr. Harry Markland\",male,55,0,0,113787,30.5,C30,S\\r\\n494,0,1,\"Artagaveytia, Mr. Ramon\",male,71,0,0,PC 17609,49.5042,,C\\r\\n495,0,3,\"Stanley, Mr. Edward Roland\",male,21,0,0,A/4 45380,8.05,,S\\r\\n496,0,3,\"Yousseff, Mr. Gerious\",male,,0,0,2627,14.4583,,C\\r\\n497,1,1,\"Eustis, Miss. Elizabeth Mussey\",female,54,1,0,36947,78.2667,D20,C\\r\\n498,0,3,\"Shellard, Mr. Frederick William\",male,,0,0,C.A. 6212,15.1,,S\\r\\n499,0,1,\"Allison, Mrs. Hudson J C (Bessie Waldo Daniels)\",female,25,1,2,113781,151.55,C22 C26,S\\r\\n500,0,3,\"Svensson, Mr. Olof\",male,24,0,0,350035,7.7958,,S\\r\\n501,0,3,\"Calic, Mr. Petar\",male,17,0,0,315086,8.6625,,S\\r\\n502,0,3,\"Canavan, Miss. Mary\",female,21,0,0,364846,7.75,,Q\\r\\n503,0,3,\"O\\'Sullivan, Miss. Bridget Mary\",female,,0,0,330909,7.6292,,Q\\r\\n504,0,3,\"Laitinen, Miss. Kristina Sofia\",female,37,0,0,4135,9.5875,,S\\r\\n505,1,1,\"Maioni, Miss. Roberta\",female,16,0,0,110152,86.5,B79,S\\r\\n506,0,1,\"Penasco y Castellana, Mr. Victor de Satode\",male,18,1,0,PC 17758,108.9,C65,C\\r\\n507,1,2,\"Quick, Mrs. Frederick Charles (Jane Richards)\",female,33,0,2,26360,26,,S\\r\\n508,1,1,\"Bradley, Mr. George (\"\"George Arthur Brayton\"\")\",male,,0,0,111427,26.55,,S\\r\\n509,0,3,\"Olsen, Mr. Henry Margido\",male,28,0,0,C 4001,22.525,,S\\r\\n510,1,3,\"Lang, Mr. Fang\",male,26,0,0,1601,56.4958,,S\\r\\n511,1,3,\"Daly, Mr. Eugene Patrick\",male,29,0,0,382651,7.75,,Q\\r\\n512,0,3,\"Webber, Mr. James\",male,,0,0,SOTON/OQ 3101316,8.05,,S\\r\\n513,1,1,\"McGough, Mr. James Robert\",male,36,0,0,PC 17473,26.2875,E25,S\\r\\n514,1,1,\"Rothschild, Mrs. Martin (Elizabeth L. Barrett)\",female,54,1,0,PC 17603,59.4,,C\\r\\n515,0,3,\"Coleff, Mr. Satio\",male,24,0,0,349209,7.4958,,S\\r\\n516,0,1,\"Walker, Mr. William Anderson\",male,47,0,0,36967,34.0208,D46,S\\r\\n517,1,2,\"Lemore, Mrs. (Amelia Milley)\",female,34,0,0,C.A. 34260,10.5,F33,S\\r\\n518,0,3,\"Ryan, Mr. Patrick\",male,,0,0,371110,24.15,,Q\\r\\n519,1,2,\"Angle, Mrs. William A (Florence \"\"Mary\"\" Agnes Hughes)\",female,36,1,0,226875,26,,S\\r\\n520,0,3,\"Pavlovic, Mr. Stefo\",male,32,0,0,349242,7.8958,,S\\r\\n521,1,1,\"Perreault, Miss. Anne\",female,30,0,0,12749,93.5,B73,S\\r\\n522,0,3,\"Vovk, Mr. Janko\",male,22,0,0,349252,7.8958,,S\\r\\n523,0,3,\"Lahoud, Mr. Sarkis\",male,,0,0,2624,7.225,,C\\r\\n524,1,1,\"Hippach, Mrs. Louis Albert (Ida Sophia Fischer)\",female,44,0,1,111361,57.9792,B18,C\\r\\n525,0,3,\"Kassem, Mr. Fared\",male,,0,0,2700,7.2292,,C\\r\\n526,0,3,\"Farrell, Mr. James\",male,40.5,0,0,367232,7.75,,Q\\r\\n527,1,2,\"Ridsdale, Miss. Lucy\",female,50,0,0,W./C. 14258,10.5,,S\\r\\n528,0,1,\"Farthing, Mr. John\",male,,0,0,PC 17483,221.7792,C95,S\\r\\n529,0,3,\"Salonen, Mr. Johan Werner\",male,39,0,0,3101296,7.925,,S\\r\\n530,0,2,\"Hocking, Mr. Richard George\",male,23,2,1,29104,11.5,,S\\r\\n531,1,2,\"Quick, Miss. Phyllis May\",female,2,1,1,26360,26,,S\\r\\n532,0,3,\"Toufik, Mr. Nakli\",male,,0,0,2641,7.2292,,C\\r\\n533,0,3,\"Elias, Mr. Joseph Jr\",male,17,1,1,2690,7.2292,,C\\r\\n534,1,3,\"Peter, Mrs. Catherine (Catherine Rizk)\",female,,0,2,2668,22.3583,,C\\r\\n535,0,3,\"Cacic, Miss. Marija\",female,30,0,0,315084,8.6625,,S\\r\\n536,1,2,\"Hart, Miss. Eva Miriam\",female,7,0,2,F.C.C. 13529,26.25,,S\\r\\n537,0,1,\"Butt, Major. Archibald Willingham\",male,45,0,0,113050,26.55,B38,S\\r\\n538,1,1,\"LeRoy, Miss. Bertha\",female,30,0,0,PC 17761,106.425,,C\\r\\n539,0,3,\"Risien, Mr. Samuel Beard\",male,,0,0,364498,14.5,,S\\r\\n540,1,1,\"Frolicher, Miss. Hedwig Margaritha\",female,22,0,2,13568,49.5,B39,C\\r\\n541,1,1,\"Crosby, Miss. Harriet R\",female,36,0,2,WE/P 5735,71,B22,S\\r\\n542,0,3,\"Andersson, Miss. Ingeborg Constanzia\",female,9,4,2,347082,31.275,,S\\r\\n543,0,3,\"Andersson, Miss. Sigrid Elisabeth\",female,11,4,2,347082,31.275,,S\\r\\n544,1,2,\"Beane, Mr. Edward\",male,32,1,0,2908,26,,S\\r\\n545,0,1,\"Douglas, Mr. Walter Donald\",male,50,1,0,PC 17761,106.425,C86,C\\r\\n546,0,1,\"Nicholson, Mr. Arthur Ernest\",male,64,0,0,693,26,,S\\r\\n547,1,2,\"Beane, Mrs. Edward (Ethel Clarke)\",female,19,1,0,2908,26,,S\\r\\n548,1,2,\"Padro y Manent, Mr. Julian\",male,,0,0,SC/PARIS 2146,13.8625,,C\\r\\n549,0,3,\"Goldsmith, Mr. Frank John\",male,33,1,1,363291,20.525,,S\\r\\n550,1,2,\"Davies, Master. John Morgan Jr\",male,8,1,1,C.A. 33112,36.75,,S\\r\\n551,1,1,\"Thayer, Mr. John Borland Jr\",male,17,0,2,17421,110.8833,C70,C\\r\\n552,0,2,\"Sharp, Mr. Percival James R\",male,27,0,0,244358,26,,S\\r\\n553,0,3,\"O\\'Brien, Mr. Timothy\",male,,0,0,330979,7.8292,,Q\\r\\n554,1,3,\"Leeni, Mr. Fahim (\"\"Philip Zenni\"\")\",male,22,0,0,2620,7.225,,C\\r\\n555,1,3,\"Ohman, Miss. Velin\",female,22,0,0,347085,7.775,,S\\r\\n556,0,1,\"Wright, Mr. George\",male,62,0,0,113807,26.55,,S\\r\\n557,1,1,\"Duff Gordon, Lady. (Lucille Christiana Sutherland) (\"\"Mrs Morgan\"\")\",female,48,1,0,11755,39.6,A16,C\\r\\n558,0,1,\"Robbins, Mr. Victor\",male,,0,0,PC 17757,227.525,,C\\r\\n559,1,1,\"Taussig, Mrs. Emil (Tillie Mandelbaum)\",female,39,1,1,110413,79.65,E67,S\\r\\n560,1,3,\"de Messemaeker, Mrs. Guillaume Joseph (Emma)\",female,36,1,0,345572,17.4,,S\\r\\n561,0,3,\"Morrow, Mr. Thomas Rowan\",male,,0,0,372622,7.75,,Q\\r\\n562,0,3,\"Sivic, Mr. Husein\",male,40,0,0,349251,7.8958,,S\\r\\n563,0,2,\"Norman, Mr. Robert Douglas\",male,28,0,0,218629,13.5,,S\\r\\n564,0,3,\"Simmons, Mr. John\",male,,0,0,SOTON/OQ 392082,8.05,,S\\r\\n565,0,3,\"Meanwell, Miss. (Marion Ogden)\",female,,0,0,SOTON/O.Q. 392087,8.05,,S\\r\\n566,0,3,\"Davies, Mr. Alfred J\",male,24,2,0,A/4 48871,24.15,,S\\r\\n567,0,3,\"Stoytcheff, Mr. Ilia\",male,19,0,0,349205,7.8958,,S\\r\\n568,0,3,\"Palsson, Mrs. Nils (Alma Cornelia Berglund)\",female,29,0,4,349909,21.075,,S\\r\\n569,0,3,\"Doharr, Mr. Tannous\",male,,0,0,2686,7.2292,,C\\r\\n570,1,3,\"Jonsson, Mr. Carl\",male,32,0,0,350417,7.8542,,S\\r\\n571,1,2,\"Harris, Mr. George\",male,62,0,0,S.W./PP 752,10.5,,S\\r\\n572,1,1,\"Appleton, Mrs. Edward Dale (Charlotte Lamson)\",female,53,2,0,11769,51.4792,C101,S\\r\\n573,1,1,\"Flynn, Mr. John Irwin (\"\"Irving\"\")\",male,36,0,0,PC 17474,26.3875,E25,S\\r\\n574,1,3,\"Kelly, Miss. Mary\",female,,0,0,14312,7.75,,Q\\r\\n575,0,3,\"Rush, Mr. Alfred George John\",male,16,0,0,A/4. 20589,8.05,,S\\r\\n576,0,3,\"Patchett, Mr. George\",male,19,0,0,358585,14.5,,S\\r\\n577,1,2,\"Garside, Miss. Ethel\",female,34,0,0,243880,13,,S\\r\\n578,1,1,\"Silvey, Mrs. William Baird (Alice Munger)\",female,39,1,0,13507,55.9,E44,S\\r\\n579,0,3,\"Caram, Mrs. Joseph (Maria Elias)\",female,,1,0,2689,14.4583,,C\\r\\n580,1,3,\"Jussila, Mr. Eiriik\",male,32,0,0,STON/O 2. 3101286,7.925,,S\\r\\n581,1,2,\"Christy, Miss. Julie Rachel\",female,25,1,1,237789,30,,S\\r\\n582,1,1,\"Thayer, Mrs. John Borland (Marian Longstreth Morris)\",female,39,1,1,17421,110.8833,C68,C\\r\\n583,0,2,\"Downton, Mr. William James\",male,54,0,0,28403,26,,S\\r\\n584,0,1,\"Ross, Mr. John Hugo\",male,36,0,0,13049,40.125,A10,C\\r\\n585,0,3,\"Paulner, Mr. Uscher\",male,,0,0,3411,8.7125,,C\\r\\n586,1,1,\"Taussig, Miss. Ruth\",female,18,0,2,110413,79.65,E68,S\\r\\n587,0,2,\"Jarvis, Mr. John Denzil\",male,47,0,0,237565,15,,S\\r\\n588,1,1,\"Frolicher-Stehli, Mr. Maxmillian\",male,60,1,1,13567,79.2,B41,C\\r\\n589,0,3,\"Gilinski, Mr. Eliezer\",male,22,0,0,14973,8.05,,S\\r\\n590,0,3,\"Murdlin, Mr. Joseph\",male,,0,0,A./5. 3235,8.05,,S\\r\\n591,0,3,\"Rintamaki, Mr. Matti\",male,35,0,0,STON/O 2. 3101273,7.125,,S\\r\\n592,1,1,\"Stephenson, Mrs. Walter Bertram (Martha Eustis)\",female,52,1,0,36947,78.2667,D20,C\\r\\n593,0,3,\"Elsbury, Mr. William James\",male,47,0,0,A/5 3902,7.25,,S\\r\\n594,0,3,\"Bourke, Miss. Mary\",female,,0,2,364848,7.75,,Q\\r\\n595,0,2,\"Chapman, Mr. John Henry\",male,37,1,0,SC/AH 29037,26,,S\\r\\n596,0,3,\"Van Impe, Mr. Jean Baptiste\",male,36,1,1,345773,24.15,,S\\r\\n597,1,2,\"Leitch, Miss. Jessie Wills\",female,,0,0,248727,33,,S\\r\\n598,0,3,\"Johnson, Mr. Alfred\",male,49,0,0,LINE,0,,S\\r\\n599,0,3,\"Boulos, Mr. Hanna\",male,,0,0,2664,7.225,,C\\r\\n600,1,1,\"Duff Gordon, Sir. Cosmo Edmund (\"\"Mr Morgan\"\")\",male,49,1,0,PC 17485,56.9292,A20,C\\r\\n601,1,2,\"Jacobsohn, Mrs. Sidney Samuel (Amy Frances Christy)\",female,24,2,1,243847,27,,S\\r\\n602,0,3,\"Slabenoff, Mr. Petco\",male,,0,0,349214,7.8958,,S\\r\\n603,0,1,\"Harrington, Mr. Charles H\",male,,0,0,113796,42.4,,S\\r\\n604,0,3,\"Torber, Mr. Ernst William\",male,44,0,0,364511,8.05,,S\\r\\n605,1,1,\"Homer, Mr. Harry (\"\"Mr E Haven\"\")\",male,35,0,0,111426,26.55,,C\\r\\n606,0,3,\"Lindell, Mr. Edvard Bengtsson\",male,36,1,0,349910,15.55,,S\\r\\n607,0,3,\"Karaic, Mr. Milan\",male,30,0,0,349246,7.8958,,S\\r\\n608,1,1,\"Daniel, Mr. Robert Williams\",male,27,0,0,113804,30.5,,S\\r\\n609,1,2,\"Laroche, Mrs. Joseph (Juliette Marie Louise Lafargue)\",female,22,1,2,SC/Paris 2123,41.5792,,C\\r\\n610,1,1,\"Shutes, Miss. Elizabeth W\",female,40,0,0,PC 17582,153.4625,C125,S\\r\\n611,0,3,\"Andersson, Mrs. Anders Johan (Alfrida Konstantia Brogren)\",female,39,1,5,347082,31.275,,S\\r\\n612,0,3,\"Jardin, Mr. Jose Neto\",male,,0,0,SOTON/O.Q. 3101305,7.05,,S\\r\\n613,1,3,\"Murphy, Miss. Margaret Jane\",female,,1,0,367230,15.5,,Q\\r\\n614,0,3,\"Horgan, Mr. John\",male,,0,0,370377,7.75,,Q\\r\\n615,0,3,\"Brocklebank, Mr. William Alfred\",male,35,0,0,364512,8.05,,S\\r\\n616,1,2,\"Herman, Miss. Alice\",female,24,1,2,220845,65,,S\\r\\n617,0,3,\"Danbom, Mr. Ernst Gilbert\",male,34,1,1,347080,14.4,,S\\r\\n618,0,3,\"Lobb, Mrs. William Arthur (Cordelia K Stanlick)\",female,26,1,0,A/5. 3336,16.1,,S\\r\\n619,1,2,\"Becker, Miss. Marion Louise\",female,4,2,1,230136,39,F4,S\\r\\n620,0,2,\"Gavey, Mr. Lawrence\",male,26,0,0,31028,10.5,,S\\r\\n621,0,3,\"Yasbeck, Mr. Antoni\",male,27,1,0,2659,14.4542,,C\\r\\n622,1,1,\"Kimball, Mr. Edwin Nelson Jr\",male,42,1,0,11753,52.5542,D19,S\\r\\n623,1,3,\"Nakid, Mr. Sahid\",male,20,1,1,2653,15.7417,,C\\r\\n624,0,3,\"Hansen, Mr. Henry Damsgaard\",male,21,0,0,350029,7.8542,,S\\r\\n625,0,3,\"Bowen, Mr. David John \"\"Dai\"\"\",male,21,0,0,54636,16.1,,S\\r\\n626,0,1,\"Sutton, Mr. Frederick\",male,61,0,0,36963,32.3208,D50,S\\r\\n627,0,2,\"Kirkland, Rev. Charles Leonard\",male,57,0,0,219533,12.35,,Q\\r\\n628,1,1,\"Longley, Miss. Gretchen Fiske\",female,21,0,0,13502,77.9583,D9,S\\r\\n629,0,3,\"Bostandyeff, Mr. Guentcho\",male,26,0,0,349224,7.8958,,S\\r\\n630,0,3,\"O\\'Connell, Mr. Patrick D\",male,,0,0,334912,7.7333,,Q\\r\\n631,1,1,\"Barkworth, Mr. Algernon Henry Wilson\",male,80,0,0,27042,30,A23,S\\r\\n632,0,3,\"Lundahl, Mr. Johan Svensson\",male,51,0,0,347743,7.0542,,S\\r\\n633,1,1,\"Stahelin-Maeglin, Dr. Max\",male,32,0,0,13214,30.5,B50,C\\r\\n634,0,1,\"Parr, Mr. William Henry Marsh\",male,,0,0,112052,0,,S\\r\\n635,0,3,\"Skoog, Miss. Mabel\",female,9,3,2,347088,27.9,,S\\r\\n636,1,2,\"Davis, Miss. Mary\",female,28,0,0,237668,13,,S\\r\\n637,0,3,\"Leinonen, Mr. Antti Gustaf\",male,32,0,0,STON/O 2. 3101292,7.925,,S\\r\\n638,0,2,\"Collyer, Mr. Harvey\",male,31,1,1,C.A. 31921,26.25,,S\\r\\n639,0,3,\"Panula, Mrs. Juha (Maria Emilia Ojala)\",female,41,0,5,3101295,39.6875,,S\\r\\n640,0,3,\"Thorneycroft, Mr. Percival\",male,,1,0,376564,16.1,,S\\r\\n641,0,3,\"Jensen, Mr. Hans Peder\",male,20,0,0,350050,7.8542,,S\\r\\n642,1,1,\"Sagesser, Mlle. Emma\",female,24,0,0,PC 17477,69.3,B35,C\\r\\n643,0,3,\"Skoog, Miss. Margit Elizabeth\",female,2,3,2,347088,27.9,,S\\r\\n644,1,3,\"Foo, Mr. Choong\",male,,0,0,1601,56.4958,,S\\r\\n645,1,3,\"Baclini, Miss. Eugenie\",female,0.75,2,1,2666,19.2583,,C\\r\\n646,1,1,\"Harper, Mr. Henry Sleeper\",male,48,1,0,PC 17572,76.7292,D33,C\\r\\n647,0,3,\"Cor, Mr. Liudevit\",male,19,0,0,349231,7.8958,,S\\r\\n648,1,1,\"Simonius-Blumer, Col. Oberst Alfons\",male,56,0,0,13213,35.5,A26,C\\r\\n649,0,3,\"Willey, Mr. Edward\",male,,0,0,S.O./P.P. 751,7.55,,S\\r\\n650,1,3,\"Stanley, Miss. Amy Zillah Elsie\",female,23,0,0,CA. 2314,7.55,,S\\r\\n651,0,3,\"Mitkoff, Mr. Mito\",male,,0,0,349221,7.8958,,S\\r\\n652,1,2,\"Doling, Miss. Elsie\",female,18,0,1,231919,23,,S\\r\\n653,0,3,\"Kalvik, Mr. Johannes Halvorsen\",male,21,0,0,8475,8.4333,,S\\r\\n654,1,3,\"O\\'Leary, Miss. Hanora \"\"Norah\"\"\",female,,0,0,330919,7.8292,,Q\\r\\n655,0,3,\"Hegarty, Miss. Hanora \"\"Nora\"\"\",female,18,0,0,365226,6.75,,Q\\r\\n656,0,2,\"Hickman, Mr. Leonard Mark\",male,24,2,0,S.O.C. 14879,73.5,,S\\r\\n657,0,3,\"Radeff, Mr. Alexander\",male,,0,0,349223,7.8958,,S\\r\\n658,0,3,\"Bourke, Mrs. John (Catherine)\",female,32,1,1,364849,15.5,,Q\\r\\n659,0,2,\"Eitemiller, Mr. George Floyd\",male,23,0,0,29751,13,,S\\r\\n660,0,1,\"Newell, Mr. Arthur Webster\",male,58,0,2,35273,113.275,D48,C\\r\\n661,1,1,\"Frauenthal, Dr. Henry William\",male,50,2,0,PC 17611,133.65,,S\\r\\n662,0,3,\"Badt, Mr. Mohamed\",male,40,0,0,2623,7.225,,C\\r\\n663,0,1,\"Colley, Mr. Edward Pomeroy\",male,47,0,0,5727,25.5875,E58,S\\r\\n664,0,3,\"Coleff, Mr. Peju\",male,36,0,0,349210,7.4958,,S\\r\\n665,1,3,\"Lindqvist, Mr. Eino William\",male,20,1,0,STON/O 2. 3101285,7.925,,S\\r\\n666,0,2,\"Hickman, Mr. Lewis\",male,32,2,0,S.O.C. 14879,73.5,,S\\r\\n667,0,2,\"Butler, Mr. Reginald Fenton\",male,25,0,0,234686,13,,S\\r\\n668,0,3,\"Rommetvedt, Mr. Knud Paust\",male,,0,0,312993,7.775,,S\\r\\n669,0,3,\"Cook, Mr. Jacob\",male,43,0,0,A/5 3536,8.05,,S\\r\\n670,1,1,\"Taylor, Mrs. Elmer Zebley (Juliet Cummins Wright)\",female,,1,0,19996,52,C126,S\\r\\n671,1,2,\"Brown, Mrs. Thomas William Solomon (Elizabeth Catherine Ford)\",female,40,1,1,29750,39,,S\\r\\n672,0,1,\"Davidson, Mr. Thornton\",male,31,1,0,F.C. 12750,52,B71,S\\r\\n673,0,2,\"Mitchell, Mr. Henry Michael\",male,70,0,0,C.A. 24580,10.5,,S\\r\\n674,1,2,\"Wilhelms, Mr. Charles\",male,31,0,0,244270,13,,S\\r\\n675,0,2,\"Watson, Mr. Ennis Hastings\",male,,0,0,239856,0,,S\\r\\n676,0,3,\"Edvardsson, Mr. Gustaf Hjalmar\",male,18,0,0,349912,7.775,,S\\r\\n677,0,3,\"Sawyer, Mr. Frederick Charles\",male,24.5,0,0,342826,8.05,,S\\r\\n678,1,3,\"Turja, Miss. Anna Sofia\",female,18,0,0,4138,9.8417,,S\\r\\n679,0,3,\"Goodwin, Mrs. Frederick (Augusta Tyler)\",female,43,1,6,CA 2144,46.9,,S\\r\\n680,1,1,\"Cardeza, Mr. Thomas Drake Martinez\",male,36,0,1,PC 17755,512.3292,B51 B53 B55,C\\r\\n681,0,3,\"Peters, Miss. Katie\",female,,0,0,330935,8.1375,,Q\\r\\n682,1,1,\"Hassab, Mr. Hammad\",male,27,0,0,PC 17572,76.7292,D49,C\\r\\n683,0,3,\"Olsvigen, Mr. Thor Anderson\",male,20,0,0,6563,9.225,,S\\r\\n684,0,3,\"Goodwin, Mr. Charles Edward\",male,14,5,2,CA 2144,46.9,,S\\r\\n685,0,2,\"Brown, Mr. Thomas William Solomon\",male,60,1,1,29750,39,,S\\r\\n686,0,2,\"Laroche, Mr. Joseph Philippe Lemercier\",male,25,1,2,SC/Paris 2123,41.5792,,C\\r\\n687,0,3,\"Panula, Mr. Jaako Arnold\",male,14,4,1,3101295,39.6875,,S\\r\\n688,0,3,\"Dakic, Mr. Branko\",male,19,0,0,349228,10.1708,,S\\r\\n689,0,3,\"Fischer, Mr. Eberhard Thelander\",male,18,0,0,350036,7.7958,,S\\r\\n690,1,1,\"Madill, Miss. Georgette Alexandra\",female,15,0,1,24160,211.3375,B5,S\\r\\n691,1,1,\"Dick, Mr. Albert Adrian\",male,31,1,0,17474,57,B20,S\\r\\n692,1,3,\"Karun, Miss. Manca\",female,4,0,1,349256,13.4167,,C\\r\\n693,1,3,\"Lam, Mr. Ali\",male,,0,0,1601,56.4958,,S\\r\\n694,0,3,\"Saad, Mr. Khalil\",male,25,0,0,2672,7.225,,C\\r\\n695,0,1,\"Weir, Col. John\",male,60,0,0,113800,26.55,,S\\r\\n696,0,2,\"Chapman, Mr. Charles Henry\",male,52,0,0,248731,13.5,,S\\r\\n697,0,3,\"Kelly, Mr. James\",male,44,0,0,363592,8.05,,S\\r\\n698,1,3,\"Mullens, Miss. Katherine \"\"Katie\"\"\",female,,0,0,35852,7.7333,,Q\\r\\n699,0,1,\"Thayer, Mr. John Borland\",male,49,1,1,17421,110.8833,C68,C\\r\\n700,0,3,\"Humblen, Mr. Adolf Mathias Nicolai Olsen\",male,42,0,0,348121,7.65,F G63,S\\r\\n701,1,1,\"Astor, Mrs. John Jacob (Madeleine Talmadge Force)\",female,18,1,0,PC 17757,227.525,C62 C64,C\\r\\n702,1,1,\"Silverthorne, Mr. Spencer Victor\",male,35,0,0,PC 17475,26.2875,E24,S\\r\\n703,0,3,\"Barbara, Miss. Saiide\",female,18,0,1,2691,14.4542,,C\\r\\n704,0,3,\"Gallagher, Mr. Martin\",male,25,0,0,36864,7.7417,,Q\\r\\n705,0,3,\"Hansen, Mr. Henrik Juul\",male,26,1,0,350025,7.8542,,S\\r\\n706,0,2,\"Morley, Mr. Henry Samuel (\"\"Mr Henry Marshall\"\")\",male,39,0,0,250655,26,,S\\r\\n707,1,2,\"Kelly, Mrs. Florence \"\"Fannie\"\"\",female,45,0,0,223596,13.5,,S\\r\\n708,1,1,\"Calderhead, Mr. Edward Pennington\",male,42,0,0,PC 17476,26.2875,E24,S\\r\\n709,1,1,\"Cleaver, Miss. Alice\",female,22,0,0,113781,151.55,,S\\r\\n710,1,3,\"Moubarek, Master. Halim Gonios (\"\"William George\"\")\",male,,1,1,2661,15.2458,,C\\r\\n711,1,1,\"Mayne, Mlle. Berthe Antonine (\"\"Mrs de Villiers\"\")\",female,24,0,0,PC 17482,49.5042,C90,C\\r\\n712,0,1,\"Klaber, Mr. Herman\",male,,0,0,113028,26.55,C124,S\\r\\n713,1,1,\"Taylor, Mr. Elmer Zebley\",male,48,1,0,19996,52,C126,S\\r\\n714,0,3,\"Larsson, Mr. August Viktor\",male,29,0,0,7545,9.4833,,S\\r\\n715,0,2,\"Greenberg, Mr. Samuel\",male,52,0,0,250647,13,,S\\r\\n716,0,3,\"Soholt, Mr. Peter Andreas Lauritz Andersen\",male,19,0,0,348124,7.65,F G73,S\\r\\n717,1,1,\"Endres, Miss. Caroline Louise\",female,38,0,0,PC 17757,227.525,C45,C\\r\\n718,1,2,\"Troutt, Miss. Edwina Celia \"\"Winnie\"\"\",female,27,0,0,34218,10.5,E101,S\\r\\n719,0,3,\"McEvoy, Mr. Michael\",male,,0,0,36568,15.5,,Q\\r\\n720,0,3,\"Johnson, Mr. Malkolm Joackim\",male,33,0,0,347062,7.775,,S\\r\\n721,1,2,\"Harper, Miss. Annie Jessie \"\"Nina\"\"\",female,6,0,1,248727,33,,S\\r\\n722,0,3,\"Jensen, Mr. Svend Lauritz\",male,17,1,0,350048,7.0542,,S\\r\\n723,0,2,\"Gillespie, Mr. William Henry\",male,34,0,0,12233,13,,S\\r\\n724,0,2,\"Hodges, Mr. Henry Price\",male,50,0,0,250643,13,,S\\r\\n725,1,1,\"Chambers, Mr. Norman Campbell\",male,27,1,0,113806,53.1,E8,S\\r\\n726,0,3,\"Oreskovic, Mr. Luka\",male,20,0,0,315094,8.6625,,S\\r\\n727,1,2,\"Renouf, Mrs. Peter Henry (Lillian Jefferys)\",female,30,3,0,31027,21,,S\\r\\n728,1,3,\"Mannion, Miss. Margareth\",female,,0,0,36866,7.7375,,Q\\r\\n729,0,2,\"Bryhl, Mr. Kurt Arnold Gottfrid\",male,25,1,0,236853,26,,S\\r\\n730,0,3,\"Ilmakangas, Miss. Pieta Sofia\",female,25,1,0,STON/O2. 3101271,7.925,,S\\r\\n731,1,1,\"Allen, Miss. Elisabeth Walton\",female,29,0,0,24160,211.3375,B5,S\\r\\n732,0,3,\"Hassan, Mr. Houssein G N\",male,11,0,0,2699,18.7875,,C\\r\\n733,0,2,\"Knight, Mr. Robert J\",male,,0,0,239855,0,,S\\r\\n734,0,2,\"Berriman, Mr. William John\",male,23,0,0,28425,13,,S\\r\\n735,0,2,\"Troupiansky, Mr. Moses Aaron\",male,23,0,0,233639,13,,S\\r\\n736,0,3,\"Williams, Mr. Leslie\",male,28.5,0,0,54636,16.1,,S\\r\\n737,0,3,\"Ford, Mrs. Edward (Margaret Ann Watson)\",female,48,1,3,W./C. 6608,34.375,,S\\r\\n738,1,1,\"Lesurer, Mr. Gustave J\",male,35,0,0,PC 17755,512.3292,B101,C\\r\\n739,0,3,\"Ivanoff, Mr. Kanio\",male,,0,0,349201,7.8958,,S\\r\\n740,0,3,\"Nankoff, Mr. Minko\",male,,0,0,349218,7.8958,,S\\r\\n741,1,1,\"Hawksford, Mr. Walter James\",male,,0,0,16988,30,D45,S\\r\\n742,0,1,\"Cavendish, Mr. Tyrell William\",male,36,1,0,19877,78.85,C46,S\\r\\n743,1,1,\"Ryerson, Miss. Susan Parker \"\"Suzette\"\"\",female,21,2,2,PC 17608,262.375,B57 B59 B63 B66,C\\r\\n744,0,3,\"McNamee, Mr. Neal\",male,24,1,0,376566,16.1,,S\\r\\n745,1,3,\"Stranden, Mr. Juho\",male,31,0,0,STON/O 2. 3101288,7.925,,S\\r\\n746,0,1,\"Crosby, Capt. Edward Gifford\",male,70,1,1,WE/P 5735,71,B22,S\\r\\n747,0,3,\"Abbott, Mr. Rossmore Edward\",male,16,1,1,C.A. 2673,20.25,,S\\r\\n748,1,2,\"Sinkkonen, Miss. Anna\",female,30,0,0,250648,13,,S\\r\\n749,0,1,\"Marvin, Mr. Daniel Warner\",male,19,1,0,113773,53.1,D30,S\\r\\n750,0,3,\"Connaghton, Mr. Michael\",male,31,0,0,335097,7.75,,Q\\r\\n751,1,2,\"Wells, Miss. Joan\",female,4,1,1,29103,23,,S\\r\\n752,1,3,\"Moor, Master. Meier\",male,6,0,1,392096,12.475,E121,S\\r\\n753,0,3,\"Vande Velde, Mr. Johannes Joseph\",male,33,0,0,345780,9.5,,S\\r\\n754,0,3,\"Jonkoff, Mr. Lalio\",male,23,0,0,349204,7.8958,,S\\r\\n755,1,2,\"Herman, Mrs. Samuel (Jane Laver)\",female,48,1,2,220845,65,,S\\r\\n756,1,2,\"Hamalainen, Master. Viljo\",male,0.67,1,1,250649,14.5,,S\\r\\n757,0,3,\"Carlsson, Mr. August Sigfrid\",male,28,0,0,350042,7.7958,,S\\r\\n758,0,2,\"Bailey, Mr. Percy Andrew\",male,18,0,0,29108,11.5,,S\\r\\n759,0,3,\"Theobald, Mr. Thomas Leonard\",male,34,0,0,363294,8.05,,S\\r\\n760,1,1,\"Rothes, the Countess. of (Lucy Noel Martha Dyer-Edwards)\",female,33,0,0,110152,86.5,B77,S\\r\\n761,0,3,\"Garfirth, Mr. John\",male,,0,0,358585,14.5,,S\\r\\n762,0,3,\"Nirva, Mr. Iisakki Antino Aijo\",male,41,0,0,SOTON/O2 3101272,7.125,,S\\r\\n763,1,3,\"Barah, Mr. Hanna Assi\",male,20,0,0,2663,7.2292,,C\\r\\n764,1,1,\"Carter, Mrs. William Ernest (Lucile Polk)\",female,36,1,2,113760,120,B96 B98,S\\r\\n765,0,3,\"Eklund, Mr. Hans Linus\",male,16,0,0,347074,7.775,,S\\r\\n766,1,1,\"Hogeboom, Mrs. John C (Anna Andrews)\",female,51,1,0,13502,77.9583,D11,S\\r\\n767,0,1,\"Brewe, Dr. Arthur Jackson\",male,,0,0,112379,39.6,,C\\r\\n768,0,3,\"Mangan, Miss. Mary\",female,30.5,0,0,364850,7.75,,Q\\r\\n769,0,3,\"Moran, Mr. Daniel J\",male,,1,0,371110,24.15,,Q\\r\\n770,0,3,\"Gronnestad, Mr. Daniel Danielsen\",male,32,0,0,8471,8.3625,,S\\r\\n771,0,3,\"Lievens, Mr. Rene Aime\",male,24,0,0,345781,9.5,,S\\r\\n772,0,3,\"Jensen, Mr. Niels Peder\",male,48,0,0,350047,7.8542,,S\\r\\n773,0,2,\"Mack, Mrs. (Mary)\",female,57,0,0,S.O./P.P. 3,10.5,E77,S\\r\\n774,0,3,\"Elias, Mr. Dibo\",male,,0,0,2674,7.225,,C\\r\\n775,1,2,\"Hocking, Mrs. Elizabeth (Eliza Needs)\",female,54,1,3,29105,23,,S\\r\\n776,0,3,\"Myhrman, Mr. Pehr Fabian Oliver Malkolm\",male,18,0,0,347078,7.75,,S\\r\\n777,0,3,\"Tobin, Mr. Roger\",male,,0,0,383121,7.75,F38,Q\\r\\n778,1,3,\"Emanuel, Miss. Virginia Ethel\",female,5,0,0,364516,12.475,,S\\r\\n779,0,3,\"Kilgannon, Mr. Thomas J\",male,,0,0,36865,7.7375,,Q\\r\\n780,1,1,\"Robert, Mrs. Edward Scott (Elisabeth Walton McMillan)\",female,43,0,1,24160,211.3375,B3,S\\r\\n781,1,3,\"Ayoub, Miss. Banoura\",female,13,0,0,2687,7.2292,,C\\r\\n782,1,1,\"Dick, Mrs. Albert Adrian (Vera Gillespie)\",female,17,1,0,17474,57,B20,S\\r\\n783,0,1,\"Long, Mr. Milton Clyde\",male,29,0,0,113501,30,D6,S\\r\\n784,0,3,\"Johnston, Mr. Andrew G\",male,,1,2,W./C. 6607,23.45,,S\\r\\n785,0,3,\"Ali, Mr. William\",male,25,0,0,SOTON/O.Q. 3101312,7.05,,S\\r\\n786,0,3,\"Harmer, Mr. Abraham (David Lishin)\",male,25,0,0,374887,7.25,,S\\r\\n787,1,3,\"Sjoblom, Miss. Anna Sofia\",female,18,0,0,3101265,7.4958,,S\\r\\n788,0,3,\"Rice, Master. George Hugh\",male,8,4,1,382652,29.125,,Q\\r\\n789,1,3,\"Dean, Master. Bertram Vere\",male,1,1,2,C.A. 2315,20.575,,S\\r\\n790,0,1,\"Guggenheim, Mr. Benjamin\",male,46,0,0,PC 17593,79.2,B82 B84,C\\r\\n791,0,3,\"Keane, Mr. Andrew \"\"Andy\"\"\",male,,0,0,12460,7.75,,Q\\r\\n792,0,2,\"Gaskell, Mr. Alfred\",male,16,0,0,239865,26,,S\\r\\n793,0,3,\"Sage, Miss. Stella Anna\",female,,8,2,CA. 2343,69.55,,S\\r\\n794,0,1,\"Hoyt, Mr. William Fisher\",male,,0,0,PC 17600,30.6958,,C\\r\\n795,0,3,\"Dantcheff, Mr. Ristiu\",male,25,0,0,349203,7.8958,,S\\r\\n796,0,2,\"Otter, Mr. Richard\",male,39,0,0,28213,13,,S\\r\\n797,1,1,\"Leader, Dr. Alice (Farnham)\",female,49,0,0,17465,25.9292,D17,S\\r\\n798,1,3,\"Osman, Mrs. Mara\",female,31,0,0,349244,8.6833,,S\\r\\n799,0,3,\"Ibrahim Shawah, Mr. Yousseff\",male,30,0,0,2685,7.2292,,C\\r\\n800,0,3,\"Van Impe, Mrs. Jean Baptiste (Rosalie Paula Govaert)\",female,30,1,1,345773,24.15,,S\\r\\n801,0,2,\"Ponesell, Mr. Martin\",male,34,0,0,250647,13,,S\\r\\n802,1,2,\"Collyer, Mrs. Harvey (Charlotte Annie Tate)\",female,31,1,1,C.A. 31921,26.25,,S\\r\\n803,1,1,\"Carter, Master. William Thornton II\",male,11,1,2,113760,120,B96 B98,S\\r\\n804,1,3,\"Thomas, Master. Assad Alexander\",male,0.42,0,1,2625,8.5167,,C\\r\\n805,1,3,\"Hedman, Mr. Oskar Arvid\",male,27,0,0,347089,6.975,,S\\r\\n806,0,3,\"Johansson, Mr. Karl Johan\",male,31,0,0,347063,7.775,,S\\r\\n807,0,1,\"Andrews, Mr. Thomas Jr\",male,39,0,0,112050,0,A36,S\\r\\n808,0,3,\"Pettersson, Miss. Ellen Natalia\",female,18,0,0,347087,7.775,,S\\r\\n809,0,2,\"Meyer, Mr. August\",male,39,0,0,248723,13,,S\\r\\n810,1,1,\"Chambers, Mrs. Norman Campbell (Bertha Griggs)\",female,33,1,0,113806,53.1,E8,S\\r\\n811,0,3,\"Alexander, Mr. William\",male,26,0,0,3474,7.8875,,S\\r\\n812,0,3,\"Lester, Mr. James\",male,39,0,0,A/4 48871,24.15,,S\\r\\n813,0,2,\"Slemen, Mr. Richard James\",male,35,0,0,28206,10.5,,S\\r\\n814,0,3,\"Andersson, Miss. Ebba Iris Alfrida\",female,6,4,2,347082,31.275,,S\\r\\n815,0,3,\"Tomlin, Mr. Ernest Portage\",male,30.5,0,0,364499,8.05,,S\\r\\n816,0,1,\"Fry, Mr. Richard\",male,,0,0,112058,0,B102,S\\r\\n817,0,3,\"Heininen, Miss. Wendla Maria\",female,23,0,0,STON/O2. 3101290,7.925,,S\\r\\n818,0,2,\"Mallet, Mr. Albert\",male,31,1,1,S.C./PARIS 2079,37.0042,,C\\r\\n819,0,3,\"Holm, Mr. John Fredrik Alexander\",male,43,0,0,C 7075,6.45,,S\\r\\n820,0,3,\"Skoog, Master. Karl Thorsten\",male,10,3,2,347088,27.9,,S\\r\\n821,1,1,\"Hays, Mrs. Charles Melville (Clara Jennings Gregg)\",female,52,1,1,12749,93.5,B69,S\\r\\n822,1,3,\"Lulic, Mr. Nikola\",male,27,0,0,315098,8.6625,,S\\r\\n823,0,1,\"Reuchlin, Jonkheer. John George\",male,38,0,0,19972,0,,S\\r\\n824,1,3,\"Moor, Mrs. (Beila)\",female,27,0,1,392096,12.475,E121,S\\r\\n825,0,3,\"Panula, Master. Urho Abraham\",male,2,4,1,3101295,39.6875,,S\\r\\n826,0,3,\"Flynn, Mr. John\",male,,0,0,368323,6.95,,Q\\r\\n827,0,3,\"Lam, Mr. Len\",male,,0,0,1601,56.4958,,S\\r\\n828,1,2,\"Mallet, Master. Andre\",male,1,0,2,S.C./PARIS 2079,37.0042,,C\\r\\n829,1,3,\"McCormack, Mr. Thomas Joseph\",male,,0,0,367228,7.75,,Q\\r\\n830,1,1,\"Stone, Mrs. George Nelson (Martha Evelyn)\",female,62,0,0,113572,80,B28,\\r\\n831,1,3,\"Yasbeck, Mrs. Antoni (Selini Alexander)\",female,15,1,0,2659,14.4542,,C\\r\\n832,1,2,\"Richards, Master. George Sibley\",male,0.83,1,1,29106,18.75,,S\\r\\n833,0,3,\"Saad, Mr. Amin\",male,,0,0,2671,7.2292,,C\\r\\n834,0,3,\"Augustsson, Mr. Albert\",male,23,0,0,347468,7.8542,,S\\r\\n835,0,3,\"Allum, Mr. Owen George\",male,18,0,0,2223,8.3,,S\\r\\n836,1,1,\"Compton, Miss. Sara Rebecca\",female,39,1,1,PC 17756,83.1583,E49,C\\r\\n837,0,3,\"Pasic, Mr. Jakob\",male,21,0,0,315097,8.6625,,S\\r\\n838,0,3,\"Sirota, Mr. Maurice\",male,,0,0,392092,8.05,,S\\r\\n839,1,3,\"Chip, Mr. Chang\",male,32,0,0,1601,56.4958,,S\\r\\n840,1,1,\"Marechal, Mr. Pierre\",male,,0,0,11774,29.7,C47,C\\r\\n841,0,3,\"Alhomaki, Mr. Ilmari Rudolf\",male,20,0,0,SOTON/O2 3101287,7.925,,S\\r\\n842,0,2,\"Mudd, Mr. Thomas Charles\",male,16,0,0,S.O./P.P. 3,10.5,,S\\r\\n843,1,1,\"Serepeca, Miss. Augusta\",female,30,0,0,113798,31,,C\\r\\n844,0,3,\"Lemberopolous, Mr. Peter L\",male,34.5,0,0,2683,6.4375,,C\\r\\n845,0,3,\"Culumovic, Mr. Jeso\",male,17,0,0,315090,8.6625,,S\\r\\n846,0,3,\"Abbing, Mr. Anthony\",male,42,0,0,C.A. 5547,7.55,,S\\r\\n847,0,3,\"Sage, Mr. Douglas Bullen\",male,,8,2,CA. 2343,69.55,,S\\r\\n848,0,3,\"Markoff, Mr. Marin\",male,35,0,0,349213,7.8958,,C\\r\\n849,0,2,\"Harper, Rev. John\",male,28,0,1,248727,33,,S\\r\\n850,1,1,\"Goldenberg, Mrs. Samuel L (Edwiga Grabowska)\",female,,1,0,17453,89.1042,C92,C\\r\\n851,0,3,\"Andersson, Master. Sigvard Harald Elias\",male,4,4,2,347082,31.275,,S\\r\\n852,0,3,\"Svensson, Mr. Johan\",male,74,0,0,347060,7.775,,S\\r\\n853,0,3,\"Boulos, Miss. Nourelain\",female,9,1,1,2678,15.2458,,C\\r\\n854,1,1,\"Lines, Miss. Mary Conover\",female,16,0,1,PC 17592,39.4,D28,S\\r\\n855,0,2,\"Carter, Mrs. Ernest Courtenay (Lilian Hughes)\",female,44,1,0,244252,26,,S\\r\\n856,1,3,\"Aks, Mrs. Sam (Leah Rosen)\",female,18,0,1,392091,9.35,,S\\r\\n857,1,1,\"Wick, Mrs. George Dennick (Mary Hitchcock)\",female,45,1,1,36928,164.8667,,S\\r\\n858,1,1,\"Daly, Mr. Peter Denis \",male,51,0,0,113055,26.55,E17,S\\r\\n859,1,3,\"Baclini, Mrs. Solomon (Latifa Qurban)\",female,24,0,3,2666,19.2583,,C\\r\\n860,0,3,\"Razi, Mr. Raihed\",male,,0,0,2629,7.2292,,C\\r\\n861,0,3,\"Hansen, Mr. Claus Peter\",male,41,2,0,350026,14.1083,,S\\r\\n862,0,2,\"Giles, Mr. Frederick Edward\",male,21,1,0,28134,11.5,,S\\r\\n863,1,1,\"Swift, Mrs. Frederick Joel (Margaret Welles Barron)\",female,48,0,0,17466,25.9292,D17,S\\r\\n864,0,3,\"Sage, Miss. Dorothy Edith \"\"Dolly\"\"\",female,,8,2,CA. 2343,69.55,,S\\r\\n865,0,2,\"Gill, Mr. John William\",male,24,0,0,233866,13,,S\\r\\n866,1,2,\"Bystrom, Mrs. (Karolina)\",female,42,0,0,236852,13,,S\\r\\n867,1,2,\"Duran y More, Miss. Asuncion\",female,27,1,0,SC/PARIS 2149,13.8583,,C\\r\\n868,0,1,\"Roebling, Mr. Washington Augustus II\",male,31,0,0,PC 17590,50.4958,A24,S\\r\\n869,0,3,\"van Melkebeke, Mr. Philemon\",male,,0,0,345777,9.5,,S\\r\\n870,1,3,\"Johnson, Master. Harold Theodor\",male,4,1,1,347742,11.1333,,S\\r\\n871,0,3,\"Balkic, Mr. Cerin\",male,26,0,0,349248,7.8958,,S\\r\\n872,1,1,\"Beckwith, Mrs. Richard Leonard (Sallie Monypeny)\",female,47,1,1,11751,52.5542,D35,S\\r\\n873,0,1,\"Carlsson, Mr. Frans Olof\",male,33,0,0,695,5,B51 B53 B55,S\\r\\n874,0,3,\"Vander Cruyssen, Mr. Victor\",male,47,0,0,345765,9,,S\\r\\n875,1,2,\"Abelson, Mrs. Samuel (Hannah Wizosky)\",female,28,1,0,P/PP 3381,24,,C\\r\\n876,1,3,\"Najib, Miss. Adele Kiamie \"\"Jane\"\"\",female,15,0,0,2667,7.225,,C\\r\\n877,0,3,\"Gustafsson, Mr. Alfred Ossian\",male,20,0,0,7534,9.8458,,S\\r\\n878,0,3,\"Petroff, Mr. Nedelio\",male,19,0,0,349212,7.8958,,S\\r\\n879,0,3,\"Laleff, Mr. Kristo\",male,,0,0,349217,7.8958,,S\\r\\n880,1,1,\"Potter, Mrs. Thomas Jr (Lily Alexenia Wilson)\",female,56,0,1,11767,83.1583,C50,C\\r\\n881,1,2,\"Shelley, Mrs. William (Imanita Parrish Hall)\",female,25,0,1,230433,26,,S\\r\\n882,0,3,\"Markun, Mr. Johann\",male,33,0,0,349257,7.8958,,S\\r\\n883,0,3,\"Dahlberg, Miss. Gerda Ulrika\",female,22,0,0,7552,10.5167,,S\\r\\n884,0,2,\"Banfield, Mr. Frederick James\",male,28,0,0,C.A./SOTON 34068,10.5,,S\\r\\n885,0,3,\"Sutehall, Mr. Henry Jr\",male,25,0,0,SOTON/OQ 392076,7.05,,S\\r\\n886,0,3,\"Rice, Mrs. William (Margaret Norton)\",female,39,0,5,382652,29.125,,Q\\r\\n887,0,2,\"Montvila, Rev. Juozas\",male,27,0,0,211536,13,,S\\r\\n888,1,1,\"Graham, Miss. Margaret Edith\",female,19,0,0,112053,30,B42,S\\r\\n889,0,3,\"Johnston, Miss. Catherine Helen \"\"Carrie\"\"\",female,,1,2,W./C. 6607,23.45,,S\\r\\n890,1,1,\"Behr, Mr. Karl Howell\",male,26,0,0,111369,30,C148,C\\r\\n891,0,3,\"Dooley, Mr. Patrick\",male,32,0,0,370376,7.75,,Q\\r\\n'}"
            ]
          },
          "metadata": {},
          "execution_count": 2
        }
      ]
    },
    {
      "cell_type": "code",
      "source": [
        "data=pd.read_csv('titanic_dataset.csv')"
      ],
      "metadata": {
        "id": "YVYRtC7DvPDD"
      },
      "execution_count": 3,
      "outputs": []
    },
    {
      "cell_type": "code",
      "source": [
        "data.head()"
      ],
      "metadata": {
        "colab": {
          "base_uri": "https://localhost:8080/",
          "height": 302
        },
        "id": "bG7XYaEnvR0A",
        "outputId": "cc11d72c-b237-41d2-e7b8-f77ec060779f"
      },
      "execution_count": 4,
      "outputs": [
        {
          "output_type": "execute_result",
          "data": {
            "text/plain": [
              "   PassengerId  Survived  Pclass  \\\n",
              "0            1         0       3   \n",
              "1            2         1       1   \n",
              "2            3         1       3   \n",
              "3            4         1       1   \n",
              "4            5         0       3   \n",
              "\n",
              "                                                Name     Sex   Age  SibSp  \\\n",
              "0                            Braund, Mr. Owen Harris    male  22.0      1   \n",
              "1  Cumings, Mrs. John Bradley (Florence Briggs Th...  female  38.0      1   \n",
              "2                             Heikkinen, Miss. Laina  female  26.0      0   \n",
              "3       Futrelle, Mrs. Jacques Heath (Lily May Peel)  female  35.0      1   \n",
              "4                           Allen, Mr. William Henry    male  35.0      0   \n",
              "\n",
              "   Parch            Ticket     Fare Cabin Embarked  \n",
              "0      0         A/5 21171   7.2500   NaN        S  \n",
              "1      0          PC 17599  71.2833   C85        C  \n",
              "2      0  STON/O2. 3101282   7.9250   NaN        S  \n",
              "3      0            113803  53.1000  C123        S  \n",
              "4      0            373450   8.0500   NaN        S  "
            ],
            "text/html": [
              "\n",
              "  <div id=\"df-34d420b4-7722-4954-bb69-f72d4e55be42\">\n",
              "    <div class=\"colab-df-container\">\n",
              "      <div>\n",
              "<style scoped>\n",
              "    .dataframe tbody tr th:only-of-type {\n",
              "        vertical-align: middle;\n",
              "    }\n",
              "\n",
              "    .dataframe tbody tr th {\n",
              "        vertical-align: top;\n",
              "    }\n",
              "\n",
              "    .dataframe thead th {\n",
              "        text-align: right;\n",
              "    }\n",
              "</style>\n",
              "<table border=\"1\" class=\"dataframe\">\n",
              "  <thead>\n",
              "    <tr style=\"text-align: right;\">\n",
              "      <th></th>\n",
              "      <th>PassengerId</th>\n",
              "      <th>Survived</th>\n",
              "      <th>Pclass</th>\n",
              "      <th>Name</th>\n",
              "      <th>Sex</th>\n",
              "      <th>Age</th>\n",
              "      <th>SibSp</th>\n",
              "      <th>Parch</th>\n",
              "      <th>Ticket</th>\n",
              "      <th>Fare</th>\n",
              "      <th>Cabin</th>\n",
              "      <th>Embarked</th>\n",
              "    </tr>\n",
              "  </thead>\n",
              "  <tbody>\n",
              "    <tr>\n",
              "      <th>0</th>\n",
              "      <td>1</td>\n",
              "      <td>0</td>\n",
              "      <td>3</td>\n",
              "      <td>Braund, Mr. Owen Harris</td>\n",
              "      <td>male</td>\n",
              "      <td>22.0</td>\n",
              "      <td>1</td>\n",
              "      <td>0</td>\n",
              "      <td>A/5 21171</td>\n",
              "      <td>7.2500</td>\n",
              "      <td>NaN</td>\n",
              "      <td>S</td>\n",
              "    </tr>\n",
              "    <tr>\n",
              "      <th>1</th>\n",
              "      <td>2</td>\n",
              "      <td>1</td>\n",
              "      <td>1</td>\n",
              "      <td>Cumings, Mrs. John Bradley (Florence Briggs Th...</td>\n",
              "      <td>female</td>\n",
              "      <td>38.0</td>\n",
              "      <td>1</td>\n",
              "      <td>0</td>\n",
              "      <td>PC 17599</td>\n",
              "      <td>71.2833</td>\n",
              "      <td>C85</td>\n",
              "      <td>C</td>\n",
              "    </tr>\n",
              "    <tr>\n",
              "      <th>2</th>\n",
              "      <td>3</td>\n",
              "      <td>1</td>\n",
              "      <td>3</td>\n",
              "      <td>Heikkinen, Miss. Laina</td>\n",
              "      <td>female</td>\n",
              "      <td>26.0</td>\n",
              "      <td>0</td>\n",
              "      <td>0</td>\n",
              "      <td>STON/O2. 3101282</td>\n",
              "      <td>7.9250</td>\n",
              "      <td>NaN</td>\n",
              "      <td>S</td>\n",
              "    </tr>\n",
              "    <tr>\n",
              "      <th>3</th>\n",
              "      <td>4</td>\n",
              "      <td>1</td>\n",
              "      <td>1</td>\n",
              "      <td>Futrelle, Mrs. Jacques Heath (Lily May Peel)</td>\n",
              "      <td>female</td>\n",
              "      <td>35.0</td>\n",
              "      <td>1</td>\n",
              "      <td>0</td>\n",
              "      <td>113803</td>\n",
              "      <td>53.1000</td>\n",
              "      <td>C123</td>\n",
              "      <td>S</td>\n",
              "    </tr>\n",
              "    <tr>\n",
              "      <th>4</th>\n",
              "      <td>5</td>\n",
              "      <td>0</td>\n",
              "      <td>3</td>\n",
              "      <td>Allen, Mr. William Henry</td>\n",
              "      <td>male</td>\n",
              "      <td>35.0</td>\n",
              "      <td>0</td>\n",
              "      <td>0</td>\n",
              "      <td>373450</td>\n",
              "      <td>8.0500</td>\n",
              "      <td>NaN</td>\n",
              "      <td>S</td>\n",
              "    </tr>\n",
              "  </tbody>\n",
              "</table>\n",
              "</div>\n",
              "      <button class=\"colab-df-convert\" onclick=\"convertToInteractive('df-34d420b4-7722-4954-bb69-f72d4e55be42')\"\n",
              "              title=\"Convert this dataframe to an interactive table.\"\n",
              "              style=\"display:none;\">\n",
              "        \n",
              "  <svg xmlns=\"http://www.w3.org/2000/svg\" height=\"24px\"viewBox=\"0 0 24 24\"\n",
              "       width=\"24px\">\n",
              "    <path d=\"M0 0h24v24H0V0z\" fill=\"none\"/>\n",
              "    <path d=\"M18.56 5.44l.94 2.06.94-2.06 2.06-.94-2.06-.94-.94-2.06-.94 2.06-2.06.94zm-11 1L8.5 8.5l.94-2.06 2.06-.94-2.06-.94L8.5 2.5l-.94 2.06-2.06.94zm10 10l.94 2.06.94-2.06 2.06-.94-2.06-.94-.94-2.06-.94 2.06-2.06.94z\"/><path d=\"M17.41 7.96l-1.37-1.37c-.4-.4-.92-.59-1.43-.59-.52 0-1.04.2-1.43.59L10.3 9.45l-7.72 7.72c-.78.78-.78 2.05 0 2.83L4 21.41c.39.39.9.59 1.41.59.51 0 1.02-.2 1.41-.59l7.78-7.78 2.81-2.81c.8-.78.8-2.07 0-2.86zM5.41 20L4 18.59l7.72-7.72 1.47 1.35L5.41 20z\"/>\n",
              "  </svg>\n",
              "      </button>\n",
              "      \n",
              "  <style>\n",
              "    .colab-df-container {\n",
              "      display:flex;\n",
              "      flex-wrap:wrap;\n",
              "      gap: 12px;\n",
              "    }\n",
              "\n",
              "    .colab-df-convert {\n",
              "      background-color: #E8F0FE;\n",
              "      border: none;\n",
              "      border-radius: 50%;\n",
              "      cursor: pointer;\n",
              "      display: none;\n",
              "      fill: #1967D2;\n",
              "      height: 32px;\n",
              "      padding: 0 0 0 0;\n",
              "      width: 32px;\n",
              "    }\n",
              "\n",
              "    .colab-df-convert:hover {\n",
              "      background-color: #E2EBFA;\n",
              "      box-shadow: 0px 1px 2px rgba(60, 64, 67, 0.3), 0px 1px 3px 1px rgba(60, 64, 67, 0.15);\n",
              "      fill: #174EA6;\n",
              "    }\n",
              "\n",
              "    [theme=dark] .colab-df-convert {\n",
              "      background-color: #3B4455;\n",
              "      fill: #D2E3FC;\n",
              "    }\n",
              "\n",
              "    [theme=dark] .colab-df-convert:hover {\n",
              "      background-color: #434B5C;\n",
              "      box-shadow: 0px 1px 3px 1px rgba(0, 0, 0, 0.15);\n",
              "      filter: drop-shadow(0px 1px 2px rgba(0, 0, 0, 0.3));\n",
              "      fill: #FFFFFF;\n",
              "    }\n",
              "  </style>\n",
              "\n",
              "      <script>\n",
              "        const buttonEl =\n",
              "          document.querySelector('#df-34d420b4-7722-4954-bb69-f72d4e55be42 button.colab-df-convert');\n",
              "        buttonEl.style.display =\n",
              "          google.colab.kernel.accessAllowed ? 'block' : 'none';\n",
              "\n",
              "        async function convertToInteractive(key) {\n",
              "          const element = document.querySelector('#df-34d420b4-7722-4954-bb69-f72d4e55be42');\n",
              "          const dataTable =\n",
              "            await google.colab.kernel.invokeFunction('convertToInteractive',\n",
              "                                                     [key], {});\n",
              "          if (!dataTable) return;\n",
              "\n",
              "          const docLinkHtml = 'Like what you see? Visit the ' +\n",
              "            '<a target=\"_blank\" href=https://colab.research.google.com/notebooks/data_table.ipynb>data table notebook</a>'\n",
              "            + ' to learn more about interactive tables.';\n",
              "          element.innerHTML = '';\n",
              "          dataTable['output_type'] = 'display_data';\n",
              "          await google.colab.output.renderOutput(dataTable, element);\n",
              "          const docLink = document.createElement('div');\n",
              "          docLink.innerHTML = docLinkHtml;\n",
              "          element.appendChild(docLink);\n",
              "        }\n",
              "      </script>\n",
              "    </div>\n",
              "  </div>\n",
              "  "
            ]
          },
          "metadata": {},
          "execution_count": 4
        }
      ]
    },
    {
      "cell_type": "code",
      "source": [
        "data.info()"
      ],
      "metadata": {
        "colab": {
          "base_uri": "https://localhost:8080/"
        },
        "id": "zOqU9LpbvU1q",
        "outputId": "d06a7fa4-a050-4d27-efee-13cf32873ff1"
      },
      "execution_count": 5,
      "outputs": [
        {
          "output_type": "stream",
          "name": "stdout",
          "text": [
            "<class 'pandas.core.frame.DataFrame'>\n",
            "RangeIndex: 891 entries, 0 to 890\n",
            "Data columns (total 12 columns):\n",
            " #   Column       Non-Null Count  Dtype  \n",
            "---  ------       --------------  -----  \n",
            " 0   PassengerId  891 non-null    int64  \n",
            " 1   Survived     891 non-null    int64  \n",
            " 2   Pclass       891 non-null    int64  \n",
            " 3   Name         891 non-null    object \n",
            " 4   Sex          891 non-null    object \n",
            " 5   Age          714 non-null    float64\n",
            " 6   SibSp        891 non-null    int64  \n",
            " 7   Parch        891 non-null    int64  \n",
            " 8   Ticket       891 non-null    object \n",
            " 9   Fare         891 non-null    float64\n",
            " 10  Cabin        204 non-null    object \n",
            " 11  Embarked     889 non-null    object \n",
            "dtypes: float64(2), int64(5), object(5)\n",
            "memory usage: 83.7+ KB\n"
          ]
        }
      ]
    },
    {
      "cell_type": "code",
      "source": [
        "data.shape"
      ],
      "metadata": {
        "colab": {
          "base_uri": "https://localhost:8080/"
        },
        "id": "ZxctzhawvXop",
        "outputId": "90681917-4315-4200-ec55-32190a3659b1"
      },
      "execution_count": 6,
      "outputs": [
        {
          "output_type": "execute_result",
          "data": {
            "text/plain": [
              "(891, 12)"
            ]
          },
          "metadata": {},
          "execution_count": 6
        }
      ]
    },
    {
      "cell_type": "code",
      "source": [
        "data.columns"
      ],
      "metadata": {
        "colab": {
          "base_uri": "https://localhost:8080/"
        },
        "id": "qM4bCdoBvaAF",
        "outputId": "b69aa30a-5238-4e92-97f9-602bab1e4941"
      },
      "execution_count": 7,
      "outputs": [
        {
          "output_type": "execute_result",
          "data": {
            "text/plain": [
              "Index(['PassengerId', 'Survived', 'Pclass', 'Name', 'Sex', 'Age', 'SibSp',\n",
              "       'Parch', 'Ticket', 'Fare', 'Cabin', 'Embarked'],\n",
              "      dtype='object')"
            ]
          },
          "metadata": {},
          "execution_count": 7
        }
      ]
    },
    {
      "cell_type": "code",
      "source": [
        "data.dtypes"
      ],
      "metadata": {
        "colab": {
          "base_uri": "https://localhost:8080/"
        },
        "id": "OrvSJMxhvcyS",
        "outputId": "a8640074-4849-4fab-c7dd-ac6e31e5bb58"
      },
      "execution_count": 8,
      "outputs": [
        {
          "output_type": "execute_result",
          "data": {
            "text/plain": [
              "PassengerId      int64\n",
              "Survived         int64\n",
              "Pclass           int64\n",
              "Name            object\n",
              "Sex             object\n",
              "Age            float64\n",
              "SibSp            int64\n",
              "Parch            int64\n",
              "Ticket          object\n",
              "Fare           float64\n",
              "Cabin           object\n",
              "Embarked        object\n",
              "dtype: object"
            ]
          },
          "metadata": {},
          "execution_count": 8
        }
      ]
    },
    {
      "cell_type": "code",
      "source": [
        "data.describe()"
      ],
      "metadata": {
        "colab": {
          "base_uri": "https://localhost:8080/",
          "height": 300
        },
        "id": "12MzKbbgvfyw",
        "outputId": "e84efa14-51af-4305-fb18-9a1beaa61544"
      },
      "execution_count": 9,
      "outputs": [
        {
          "output_type": "execute_result",
          "data": {
            "text/plain": [
              "       PassengerId    Survived      Pclass         Age       SibSp  \\\n",
              "count   891.000000  891.000000  891.000000  714.000000  891.000000   \n",
              "mean    446.000000    0.383838    2.308642   29.699118    0.523008   \n",
              "std     257.353842    0.486592    0.836071   14.526497    1.102743   \n",
              "min       1.000000    0.000000    1.000000    0.420000    0.000000   \n",
              "25%     223.500000    0.000000    2.000000   20.125000    0.000000   \n",
              "50%     446.000000    0.000000    3.000000   28.000000    0.000000   \n",
              "75%     668.500000    1.000000    3.000000   38.000000    1.000000   \n",
              "max     891.000000    1.000000    3.000000   80.000000    8.000000   \n",
              "\n",
              "            Parch        Fare  \n",
              "count  891.000000  891.000000  \n",
              "mean     0.381594   32.204208  \n",
              "std      0.806057   49.693429  \n",
              "min      0.000000    0.000000  \n",
              "25%      0.000000    7.910400  \n",
              "50%      0.000000   14.454200  \n",
              "75%      0.000000   31.000000  \n",
              "max      6.000000  512.329200  "
            ],
            "text/html": [
              "\n",
              "  <div id=\"df-2887ac81-0d56-448b-80f5-a6bab05fafbf\">\n",
              "    <div class=\"colab-df-container\">\n",
              "      <div>\n",
              "<style scoped>\n",
              "    .dataframe tbody tr th:only-of-type {\n",
              "        vertical-align: middle;\n",
              "    }\n",
              "\n",
              "    .dataframe tbody tr th {\n",
              "        vertical-align: top;\n",
              "    }\n",
              "\n",
              "    .dataframe thead th {\n",
              "        text-align: right;\n",
              "    }\n",
              "</style>\n",
              "<table border=\"1\" class=\"dataframe\">\n",
              "  <thead>\n",
              "    <tr style=\"text-align: right;\">\n",
              "      <th></th>\n",
              "      <th>PassengerId</th>\n",
              "      <th>Survived</th>\n",
              "      <th>Pclass</th>\n",
              "      <th>Age</th>\n",
              "      <th>SibSp</th>\n",
              "      <th>Parch</th>\n",
              "      <th>Fare</th>\n",
              "    </tr>\n",
              "  </thead>\n",
              "  <tbody>\n",
              "    <tr>\n",
              "      <th>count</th>\n",
              "      <td>891.000000</td>\n",
              "      <td>891.000000</td>\n",
              "      <td>891.000000</td>\n",
              "      <td>714.000000</td>\n",
              "      <td>891.000000</td>\n",
              "      <td>891.000000</td>\n",
              "      <td>891.000000</td>\n",
              "    </tr>\n",
              "    <tr>\n",
              "      <th>mean</th>\n",
              "      <td>446.000000</td>\n",
              "      <td>0.383838</td>\n",
              "      <td>2.308642</td>\n",
              "      <td>29.699118</td>\n",
              "      <td>0.523008</td>\n",
              "      <td>0.381594</td>\n",
              "      <td>32.204208</td>\n",
              "    </tr>\n",
              "    <tr>\n",
              "      <th>std</th>\n",
              "      <td>257.353842</td>\n",
              "      <td>0.486592</td>\n",
              "      <td>0.836071</td>\n",
              "      <td>14.526497</td>\n",
              "      <td>1.102743</td>\n",
              "      <td>0.806057</td>\n",
              "      <td>49.693429</td>\n",
              "    </tr>\n",
              "    <tr>\n",
              "      <th>min</th>\n",
              "      <td>1.000000</td>\n",
              "      <td>0.000000</td>\n",
              "      <td>1.000000</td>\n",
              "      <td>0.420000</td>\n",
              "      <td>0.000000</td>\n",
              "      <td>0.000000</td>\n",
              "      <td>0.000000</td>\n",
              "    </tr>\n",
              "    <tr>\n",
              "      <th>25%</th>\n",
              "      <td>223.500000</td>\n",
              "      <td>0.000000</td>\n",
              "      <td>2.000000</td>\n",
              "      <td>20.125000</td>\n",
              "      <td>0.000000</td>\n",
              "      <td>0.000000</td>\n",
              "      <td>7.910400</td>\n",
              "    </tr>\n",
              "    <tr>\n",
              "      <th>50%</th>\n",
              "      <td>446.000000</td>\n",
              "      <td>0.000000</td>\n",
              "      <td>3.000000</td>\n",
              "      <td>28.000000</td>\n",
              "      <td>0.000000</td>\n",
              "      <td>0.000000</td>\n",
              "      <td>14.454200</td>\n",
              "    </tr>\n",
              "    <tr>\n",
              "      <th>75%</th>\n",
              "      <td>668.500000</td>\n",
              "      <td>1.000000</td>\n",
              "      <td>3.000000</td>\n",
              "      <td>38.000000</td>\n",
              "      <td>1.000000</td>\n",
              "      <td>0.000000</td>\n",
              "      <td>31.000000</td>\n",
              "    </tr>\n",
              "    <tr>\n",
              "      <th>max</th>\n",
              "      <td>891.000000</td>\n",
              "      <td>1.000000</td>\n",
              "      <td>3.000000</td>\n",
              "      <td>80.000000</td>\n",
              "      <td>8.000000</td>\n",
              "      <td>6.000000</td>\n",
              "      <td>512.329200</td>\n",
              "    </tr>\n",
              "  </tbody>\n",
              "</table>\n",
              "</div>\n",
              "      <button class=\"colab-df-convert\" onclick=\"convertToInteractive('df-2887ac81-0d56-448b-80f5-a6bab05fafbf')\"\n",
              "              title=\"Convert this dataframe to an interactive table.\"\n",
              "              style=\"display:none;\">\n",
              "        \n",
              "  <svg xmlns=\"http://www.w3.org/2000/svg\" height=\"24px\"viewBox=\"0 0 24 24\"\n",
              "       width=\"24px\">\n",
              "    <path d=\"M0 0h24v24H0V0z\" fill=\"none\"/>\n",
              "    <path d=\"M18.56 5.44l.94 2.06.94-2.06 2.06-.94-2.06-.94-.94-2.06-.94 2.06-2.06.94zm-11 1L8.5 8.5l.94-2.06 2.06-.94-2.06-.94L8.5 2.5l-.94 2.06-2.06.94zm10 10l.94 2.06.94-2.06 2.06-.94-2.06-.94-.94-2.06-.94 2.06-2.06.94z\"/><path d=\"M17.41 7.96l-1.37-1.37c-.4-.4-.92-.59-1.43-.59-.52 0-1.04.2-1.43.59L10.3 9.45l-7.72 7.72c-.78.78-.78 2.05 0 2.83L4 21.41c.39.39.9.59 1.41.59.51 0 1.02-.2 1.41-.59l7.78-7.78 2.81-2.81c.8-.78.8-2.07 0-2.86zM5.41 20L4 18.59l7.72-7.72 1.47 1.35L5.41 20z\"/>\n",
              "  </svg>\n",
              "      </button>\n",
              "      \n",
              "  <style>\n",
              "    .colab-df-container {\n",
              "      display:flex;\n",
              "      flex-wrap:wrap;\n",
              "      gap: 12px;\n",
              "    }\n",
              "\n",
              "    .colab-df-convert {\n",
              "      background-color: #E8F0FE;\n",
              "      border: none;\n",
              "      border-radius: 50%;\n",
              "      cursor: pointer;\n",
              "      display: none;\n",
              "      fill: #1967D2;\n",
              "      height: 32px;\n",
              "      padding: 0 0 0 0;\n",
              "      width: 32px;\n",
              "    }\n",
              "\n",
              "    .colab-df-convert:hover {\n",
              "      background-color: #E2EBFA;\n",
              "      box-shadow: 0px 1px 2px rgba(60, 64, 67, 0.3), 0px 1px 3px 1px rgba(60, 64, 67, 0.15);\n",
              "      fill: #174EA6;\n",
              "    }\n",
              "\n",
              "    [theme=dark] .colab-df-convert {\n",
              "      background-color: #3B4455;\n",
              "      fill: #D2E3FC;\n",
              "    }\n",
              "\n",
              "    [theme=dark] .colab-df-convert:hover {\n",
              "      background-color: #434B5C;\n",
              "      box-shadow: 0px 1px 3px 1px rgba(0, 0, 0, 0.15);\n",
              "      filter: drop-shadow(0px 1px 2px rgba(0, 0, 0, 0.3));\n",
              "      fill: #FFFFFF;\n",
              "    }\n",
              "  </style>\n",
              "\n",
              "      <script>\n",
              "        const buttonEl =\n",
              "          document.querySelector('#df-2887ac81-0d56-448b-80f5-a6bab05fafbf button.colab-df-convert');\n",
              "        buttonEl.style.display =\n",
              "          google.colab.kernel.accessAllowed ? 'block' : 'none';\n",
              "\n",
              "        async function convertToInteractive(key) {\n",
              "          const element = document.querySelector('#df-2887ac81-0d56-448b-80f5-a6bab05fafbf');\n",
              "          const dataTable =\n",
              "            await google.colab.kernel.invokeFunction('convertToInteractive',\n",
              "                                                     [key], {});\n",
              "          if (!dataTable) return;\n",
              "\n",
              "          const docLinkHtml = 'Like what you see? Visit the ' +\n",
              "            '<a target=\"_blank\" href=https://colab.research.google.com/notebooks/data_table.ipynb>data table notebook</a>'\n",
              "            + ' to learn more about interactive tables.';\n",
              "          element.innerHTML = '';\n",
              "          dataTable['output_type'] = 'display_data';\n",
              "          await google.colab.output.renderOutput(dataTable, element);\n",
              "          const docLink = document.createElement('div');\n",
              "          docLink.innerHTML = docLinkHtml;\n",
              "          element.appendChild(docLink);\n",
              "        }\n",
              "      </script>\n",
              "    </div>\n",
              "  </div>\n",
              "  "
            ]
          },
          "metadata": {},
          "execution_count": 9
        }
      ]
    },
    {
      "cell_type": "markdown",
      "source": [
        "2. Do all the necessary pre-processing steps"
      ],
      "metadata": {
        "id": "bNKRK8kTvkme"
      }
    },
    {
      "cell_type": "code",
      "source": [
        "#checking for the null values"
      ],
      "metadata": {
        "id": "cAuCxGaovnPo"
      },
      "execution_count": null,
      "outputs": []
    },
    {
      "cell_type": "code",
      "source": [
        "data.isna().sum()"
      ],
      "metadata": {
        "colab": {
          "base_uri": "https://localhost:8080/"
        },
        "id": "umVm6ZZKvrJC",
        "outputId": "b851fab9-d161-4969-c54a-806c6ad97bbd"
      },
      "execution_count": 10,
      "outputs": [
        {
          "output_type": "execute_result",
          "data": {
            "text/plain": [
              "PassengerId      0\n",
              "Survived         0\n",
              "Pclass           0\n",
              "Name             0\n",
              "Sex              0\n",
              "Age            177\n",
              "SibSp            0\n",
              "Parch            0\n",
              "Ticket           0\n",
              "Fare             0\n",
              "Cabin          687\n",
              "Embarked         2\n",
              "dtype: int64"
            ]
          },
          "metadata": {},
          "execution_count": 10
        }
      ]
    },
    {
      "cell_type": "markdown",
      "source": [
        "Columns 'Age','Embarked' and 'Cabin' contain null values."
      ],
      "metadata": {
        "id": "_kvO1LRkxM4s"
      }
    },
    {
      "cell_type": "code",
      "source": [
        "sns.heatmap(data.isnull())"
      ],
      "metadata": {
        "colab": {
          "base_uri": "https://localhost:8080/",
          "height": 339
        },
        "id": "sHx1vFk0vvk5",
        "outputId": "512e6c55-0c9e-492e-eb73-ec2665f77054"
      },
      "execution_count": 11,
      "outputs": [
        {
          "output_type": "execute_result",
          "data": {
            "text/plain": [
              "<matplotlib.axes._subplots.AxesSubplot at 0x7f2cec02d580>"
            ]
          },
          "metadata": {},
          "execution_count": 11
        },
        {
          "output_type": "display_data",
          "data": {
            "text/plain": [
              "<Figure size 432x288 with 2 Axes>"
            ],
            "image/png": "[encoded data removed]"
          },
          "metadata": {
            "needs_background": "light"
          }
        }
      ]
    },
    {
      "cell_type": "code",
      "source": [
        "#checking for the percentage of null values"
      ],
      "metadata": {
        "id": "mGx9fDJkv09_"
      },
      "execution_count": null,
      "outputs": []
    },
    {
      "cell_type": "code",
      "source": [
        "data.isnull().sum()*100/len(data)"
      ],
      "metadata": {
        "colab": {
          "base_uri": "https://localhost:8080/"
        },
        "id": "AdCavoCuv7D4",
        "outputId": "9b5ec8b0-2c76-4756-fb58-2ce8830d69f2"
      },
      "execution_count": 12,
      "outputs": [
        {
          "output_type": "execute_result",
          "data": {
            "text/plain": [
              "PassengerId     0.000000\n",
              "Survived        0.000000\n",
              "Pclass          0.000000\n",
              "Name            0.000000\n",
              "Sex             0.000000\n",
              "Age            19.865320\n",
              "SibSp           0.000000\n",
              "Parch           0.000000\n",
              "Ticket          0.000000\n",
              "Fare            0.000000\n",
              "Cabin          77.104377\n",
              "Embarked        0.224467\n",
              "dtype: float64"
            ]
          },
          "metadata": {},
          "execution_count": 12
        }
      ]
    },
    {
      "cell_type": "markdown",
      "source": [
        "Cabin column contains 77.104% of null values.Hence dropping the column 'Cabin'."
      ],
      "metadata": {
        "id": "Kv6XfU-Jv-Wk"
      }
    },
    {
      "cell_type": "code",
      "source": [
        "data.drop('Cabin', axis=1, inplace = True)"
      ],
      "metadata": {
        "id": "GHRYPuFOv9VQ"
      },
      "execution_count": 13,
      "outputs": []
    },
    {
      "cell_type": "code",
      "source": [
        "#Histogram of Age column"
      ],
      "metadata": {
        "id": "MKXDWAjVwuOO"
      },
      "execution_count": null,
      "outputs": []
    },
    {
      "cell_type": "code",
      "source": [
        "data['Age'].hist()\n",
        "plt.show"
      ],
      "metadata": {
        "colab": {
          "base_uri": "https://localhost:8080/",
          "height": 283
        },
        "id": "rnypGWNvxUi9",
        "outputId": "440bf1c3-0847-44d1-f94c-f415d31c81de"
      },
      "execution_count": 15,
      "outputs": [
        {
          "output_type": "execute_result",
          "data": {
            "text/plain": [
              "<function matplotlib.pyplot.show(*args, **kw)>"
            ]
          },
          "metadata": {},
          "execution_count": 15
        },
        {
          "output_type": "display_data",
          "data": {
            "text/plain": [
              "<Figure size 432x288 with 1 Axes>"
            ],
            "image/png": "[encoded data removed]"
          },
          "metadata": {
            "needs_background": "light"
          }
        }
      ]
    },
    {
      "cell_type": "code",
      "source": [
        "#Filling the missing values"
      ],
      "metadata": {
        "id": "MtR8vGS6xsMe"
      },
      "execution_count": null,
      "outputs": []
    },
    {
      "cell_type": "code",
      "source": [
        "#Age cloumn is rightly skewed.Hence using the median value to fill the null values."
      ],
      "metadata": {
        "id": "Z9S65d_LxtIz"
      },
      "execution_count": null,
      "outputs": []
    },
    {
      "cell_type": "code",
      "source": [
        "data['Age']=data['Age'].fillna(data['Age'].median())"
      ],
      "metadata": {
        "id": "NznZ44Llx00J"
      },
      "execution_count": 16,
      "outputs": []
    },
    {
      "cell_type": "code",
      "source": [
        "data.Embarked.value_counts()"
      ],
      "metadata": {
        "colab": {
          "base_uri": "https://localhost:8080/"
        },
        "id": "jKbk4312x4Xg",
        "outputId": "3992bebe-167a-474a-e347-f1867298ed90"
      },
      "execution_count": 17,
      "outputs": [
        {
          "output_type": "execute_result",
          "data": {
            "text/plain": [
              "S    644\n",
              "C    168\n",
              "Q     77\n",
              "Name: Embarked, dtype: int64"
            ]
          },
          "metadata": {},
          "execution_count": 17
        }
      ]
    },
    {
      "cell_type": "code",
      "source": [
        "#Embarked being a categorical column, missing values are filled with mode value"
      ],
      "metadata": {
        "id": "nTuabli5x7sI"
      },
      "execution_count": null,
      "outputs": []
    },
    {
      "cell_type": "code",
      "source": [
        "data['Embarked']=data['Embarked'].fillna(data['Embarked'].mode()[0])"
      ],
      "metadata": {
        "id": "HkDP0Bf8x-Ze"
      },
      "execution_count": 18,
      "outputs": []
    },
    {
      "cell_type": "code",
      "source": [
        "data.isna().sum()"
      ],
      "metadata": {
        "colab": {
          "base_uri": "https://localhost:8080/"
        },
        "id": "GAEaYO1LyCM-",
        "outputId": "0de87cbb-0737-479a-c82c-6c7072c3ffb5"
      },
      "execution_count": 19,
      "outputs": [
        {
          "output_type": "execute_result",
          "data": {
            "text/plain": [
              "PassengerId    0\n",
              "Survived       0\n",
              "Pclass         0\n",
              "Name           0\n",
              "Sex            0\n",
              "Age            0\n",
              "SibSp          0\n",
              "Parch          0\n",
              "Ticket         0\n",
              "Fare           0\n",
              "Embarked       0\n",
              "dtype: int64"
            ]
          },
          "metadata": {},
          "execution_count": 19
        }
      ]
    },
    {
      "cell_type": "code",
      "source": [
        "data[['PassengerId','Survived','Pclass','Name','Sex','Age','SibSp','Parch','Fare','Ticket','Embarked']].nunique()"
      ],
      "metadata": {
        "colab": {
          "base_uri": "https://localhost:8080/"
        },
        "id": "H895tw2L1K39",
        "outputId": "63a5614e-afcc-4813-dc0c-a83bd95f5b04"
      },
      "execution_count": 20,
      "outputs": [
        {
          "output_type": "execute_result",
          "data": {
            "text/plain": [
              "PassengerId    891\n",
              "Survived         2\n",
              "Pclass           3\n",
              "Name           891\n",
              "Sex              2\n",
              "Age             88\n",
              "SibSp            7\n",
              "Parch            7\n",
              "Fare           248\n",
              "Ticket         681\n",
              "Embarked         3\n",
              "dtype: int64"
            ]
          },
          "metadata": {},
          "execution_count": 20
        }
      ]
    },
    {
      "cell_type": "code",
      "source": [
        "#'PassengerId','Name' and 'Ticket'contain unique values.Hence dropping those columns"
      ],
      "metadata": {
        "id": "OZLpZPt-4IU1"
      },
      "execution_count": null,
      "outputs": []
    },
    {
      "cell_type": "code",
      "source": [
        "data1=data.drop(['PassengerId','Name','Ticket'],axis=1)"
      ],
      "metadata": {
        "id": "5qoC4TjH43ke"
      },
      "execution_count": 21,
      "outputs": []
    },
    {
      "cell_type": "code",
      "source": [
        "data1.head()"
      ],
      "metadata": {
        "colab": {
          "base_uri": "https://localhost:8080/",
          "height": 206
        },
        "id": "5rbL876g5YoY",
        "outputId": "be8cd2f8-81ff-473a-8be0-d30ea06bb0bd"
      },
      "execution_count": 22,
      "outputs": [
        {
          "output_type": "execute_result",
          "data": {
            "text/plain": [
              "   Survived  Pclass     Sex   Age  SibSp  Parch     Fare Embarked\n",
              "0         0       3    male  22.0      1      0   7.2500        S\n",
              "1         1       1  female  38.0      1      0  71.2833        C\n",
              "2         1       3  female  26.0      0      0   7.9250        S\n",
              "3         1       1  female  35.0      1      0  53.1000        S\n",
              "4         0       3    male  35.0      0      0   8.0500        S"
            ],
            "text/html": [
              "\n",
              "  <div id=\"df-c78a0a62-722c-475f-99cc-a5dbc99e6db8\">\n",
              "    <div class=\"colab-df-container\">\n",
              "      <div>\n",
              "<style scoped>\n",
              "    .dataframe tbody tr th:only-of-type {\n",
              "        vertical-align: middle;\n",
              "    }\n",
              "\n",
              "    .dataframe tbody tr th {\n",
              "        vertical-align: top;\n",
              "    }\n",
              "\n",
              "    .dataframe thead th {\n",
              "        text-align: right;\n",
              "    }\n",
              "</style>\n",
              "<table border=\"1\" class=\"dataframe\">\n",
              "  <thead>\n",
              "    <tr style=\"text-align: right;\">\n",
              "      <th></th>\n",
              "      <th>Survived</th>\n",
              "      <th>Pclass</th>\n",
              "      <th>Sex</th>\n",
              "      <th>Age</th>\n",
              "      <th>SibSp</th>\n",
              "      <th>Parch</th>\n",
              "      <th>Fare</th>\n",
              "      <th>Embarked</th>\n",
              "    </tr>\n",
              "  </thead>\n",
              "  <tbody>\n",
              "    <tr>\n",
              "      <th>0</th>\n",
              "      <td>0</td>\n",
              "      <td>3</td>\n",
              "      <td>male</td>\n",
              "      <td>22.0</td>\n",
              "      <td>1</td>\n",
              "      <td>0</td>\n",
              "      <td>7.2500</td>\n",
              "      <td>S</td>\n",
              "    </tr>\n",
              "    <tr>\n",
              "      <th>1</th>\n",
              "      <td>1</td>\n",
              "      <td>1</td>\n",
              "      <td>female</td>\n",
              "      <td>38.0</td>\n",
              "      <td>1</td>\n",
              "      <td>0</td>\n",
              "      <td>71.2833</td>\n",
              "      <td>C</td>\n",
              "    </tr>\n",
              "    <tr>\n",
              "      <th>2</th>\n",
              "      <td>1</td>\n",
              "      <td>3</td>\n",
              "      <td>female</td>\n",
              "      <td>26.0</td>\n",
              "      <td>0</td>\n",
              "      <td>0</td>\n",
              "      <td>7.9250</td>\n",
              "      <td>S</td>\n",
              "    </tr>\n",
              "    <tr>\n",
              "      <th>3</th>\n",
              "      <td>1</td>\n",
              "      <td>1</td>\n",
              "      <td>female</td>\n",
              "      <td>35.0</td>\n",
              "      <td>1</td>\n",
              "      <td>0</td>\n",
              "      <td>53.1000</td>\n",
              "      <td>S</td>\n",
              "    </tr>\n",
              "    <tr>\n",
              "      <th>4</th>\n",
              "      <td>0</td>\n",
              "      <td>3</td>\n",
              "      <td>male</td>\n",
              "      <td>35.0</td>\n",
              "      <td>0</td>\n",
              "      <td>0</td>\n",
              "      <td>8.0500</td>\n",
              "      <td>S</td>\n",
              "    </tr>\n",
              "  </tbody>\n",
              "</table>\n",
              "</div>\n",
              "      <button class=\"colab-df-convert\" onclick=\"convertToInteractive('df-c78a0a62-722c-475f-99cc-a5dbc99e6db8')\"\n",
              "              title=\"Convert this dataframe to an interactive table.\"\n",
              "              style=\"display:none;\">\n",
              "        \n",
              "  <svg xmlns=\"http://www.w3.org/2000/svg\" height=\"24px\"viewBox=\"0 0 24 24\"\n",
              "       width=\"24px\">\n",
              "    <path d=\"M0 0h24v24H0V0z\" fill=\"none\"/>\n",
              "    <path d=\"M18.56 5.44l.94 2.06.94-2.06 2.06-.94-2.06-.94-.94-2.06-.94 2.06-2.06.94zm-11 1L8.5 8.5l.94-2.06 2.06-.94-2.06-.94L8.5 2.5l-.94 2.06-2.06.94zm10 10l.94 2.06.94-2.06 2.06-.94-2.06-.94-.94-2.06-.94 2.06-2.06.94z\"/><path d=\"M17.41 7.96l-1.37-1.37c-.4-.4-.92-.59-1.43-.59-.52 0-1.04.2-1.43.59L10.3 9.45l-7.72 7.72c-.78.78-.78 2.05 0 2.83L4 21.41c.39.39.9.59 1.41.59.51 0 1.02-.2 1.41-.59l7.78-7.78 2.81-2.81c.8-.78.8-2.07 0-2.86zM5.41 20L4 18.59l7.72-7.72 1.47 1.35L5.41 20z\"/>\n",
              "  </svg>\n",
              "      </button>\n",
              "      \n",
              "  <style>\n",
              "    .colab-df-container {\n",
              "      display:flex;\n",
              "      flex-wrap:wrap;\n",
              "      gap: 12px;\n",
              "    }\n",
              "\n",
              "    .colab-df-convert {\n",
              "      background-color: #E8F0FE;\n",
              "      border: none;\n",
              "      border-radius: 50%;\n",
              "      cursor: pointer;\n",
              "      display: none;\n",
              "      fill: #1967D2;\n",
              "      height: 32px;\n",
              "      padding: 0 0 0 0;\n",
              "      width: 32px;\n",
              "    }\n",
              "\n",
              "    .colab-df-convert:hover {\n",
              "      background-color: #E2EBFA;\n",
              "      box-shadow: 0px 1px 2px rgba(60, 64, 67, 0.3), 0px 1px 3px 1px rgba(60, 64, 67, 0.15);\n",
              "      fill: #174EA6;\n",
              "    }\n",
              "\n",
              "    [theme=dark] .colab-df-convert {\n",
              "      background-color: #3B4455;\n",
              "      fill: #D2E3FC;\n",
              "    }\n",
              "\n",
              "    [theme=dark] .colab-df-convert:hover {\n",
              "      background-color: #434B5C;\n",
              "      box-shadow: 0px 1px 3px 1px rgba(0, 0, 0, 0.15);\n",
              "      filter: drop-shadow(0px 1px 2px rgba(0, 0, 0, 0.3));\n",
              "      fill: #FFFFFF;\n",
              "    }\n",
              "  </style>\n",
              "\n",
              "      <script>\n",
              "        const buttonEl =\n",
              "          document.querySelector('#df-c78a0a62-722c-475f-99cc-a5dbc99e6db8 button.colab-df-convert');\n",
              "        buttonEl.style.display =\n",
              "          google.colab.kernel.accessAllowed ? 'block' : 'none';\n",
              "\n",
              "        async function convertToInteractive(key) {\n",
              "          const element = document.querySelector('#df-c78a0a62-722c-475f-99cc-a5dbc99e6db8');\n",
              "          const dataTable =\n",
              "            await google.colab.kernel.invokeFunction('convertToInteractive',\n",
              "                                                     [key], {});\n",
              "          if (!dataTable) return;\n",
              "\n",
              "          const docLinkHtml = 'Like what you see? Visit the ' +\n",
              "            '<a target=\"_blank\" href=https://colab.research.google.com/notebooks/data_table.ipynb>data table notebook</a>'\n",
              "            + ' to learn more about interactive tables.';\n",
              "          element.innerHTML = '';\n",
              "          dataTable['output_type'] = 'display_data';\n",
              "          await google.colab.output.renderOutput(dataTable, element);\n",
              "          const docLink = document.createElement('div');\n",
              "          docLink.innerHTML = docLinkHtml;\n",
              "          element.appendChild(docLink);\n",
              "        }\n",
              "      </script>\n",
              "    </div>\n",
              "  </div>\n",
              "  "
            ]
          },
          "metadata": {},
          "execution_count": 22
        }
      ]
    },
    {
      "cell_type": "code",
      "source": [
        "#correlation"
      ],
      "metadata": {
        "id": "J923ojRM5bzg"
      },
      "execution_count": null,
      "outputs": []
    },
    {
      "cell_type": "code",
      "source": [
        "plt.figure(figsize=(10,7))\n",
        "sns.heatmap(data1.corr(),annot=True)\n",
        "plt.title('Correlation between the columns')\n",
        "plt.show()"
      ],
      "metadata": {
        "colab": {
          "base_uri": "https://localhost:8080/",
          "height": 444
        },
        "id": "oZK_vvf35l3a",
        "outputId": "f4eb314d-ddfc-4227-83e6-ba051b48994c"
      },
      "execution_count": 24,
      "outputs": [
        {
          "output_type": "display_data",
          "data": {
            "text/plain": [
              "<Figure size 720x504 with 2 Axes>"
            ],
            "image/png": "[encoded data removed]"
          },
          "metadata": {
            "needs_background": "light"
          }
        }
      ]
    },
    {
      "cell_type": "code",
      "source": [
        "#Handling outliers"
      ],
      "metadata": {
        "id": "72PvO_oU6Yf3"
      },
      "execution_count": null,
      "outputs": []
    },
    {
      "cell_type": "code",
      "source": [
        "# Boxplot of Fare\n",
        "plt.boxplot(data1['Fare'])\n",
        "plt.title('Boxplot Of Fare')\n",
        "plt.show()"
      ],
      "metadata": {
        "colab": {
          "base_uri": "https://localhost:8080/",
          "height": 281
        },
        "id": "1zVimyA26qqH",
        "outputId": "f25ff621-341c-4376-99a3-9984f9ef7da2"
      },
      "execution_count": 36,
      "outputs": [
        {
          "output_type": "display_data",
          "data": {
            "text/plain": [
              "<Figure size 432x288 with 1 Axes>"
            ],
            "image/png": "[encoded data removed]"
          },
          "metadata": {
            "needs_background": "light"
          }
        }
      ]
    },
    {
      "cell_type": "code",
      "source": [
        "Q1=np.percentile(data1['Fare'],25,interpolation='midpoint')\n",
        "Q2=np.percentile(data1['Fare'],50,interpolation='midpoint')\n",
        "Q3=np.percentile(data1['Fare'],75,interpolation='midpoint')"
      ],
      "metadata": {
        "id": "E4O0P2XU6voj"
      },
      "execution_count": 37,
      "outputs": []
    },
    {
      "cell_type": "code",
      "source": [
        "print(Q1)\n",
        "print(Q2)\n",
        "print(Q3)"
      ],
      "metadata": {
        "colab": {
          "base_uri": "https://localhost:8080/"
        },
        "id": "ZlYY6iM66zjH",
        "outputId": "19016964-4595-41eb-b865-204383000232"
      },
      "execution_count": 38,
      "outputs": [
        {
          "output_type": "stream",
          "name": "stdout",
          "text": [
            "7.9104\n",
            "14.4542\n",
            "31.0\n"
          ]
        }
      ]
    },
    {
      "cell_type": "code",
      "source": [
        "IQR=Q3-Q1\n",
        "print(Q3-Q1)"
      ],
      "metadata": {
        "colab": {
          "base_uri": "https://localhost:8080/"
        },
        "id": "Q9W72sVT63KP",
        "outputId": "dc989356-408c-48bb-e1c7-038a653b7946"
      },
      "execution_count": 39,
      "outputs": [
        {
          "output_type": "stream",
          "name": "stdout",
          "text": [
            "23.0896\n"
          ]
        }
      ]
    },
    {
      "cell_type": "code",
      "source": [
        "upper_limit=Q3+1.5*IQR\n",
        "lower_limit=Q1-1.5*IQR"
      ],
      "metadata": {
        "id": "_dqeeqTt66cG"
      },
      "execution_count": 40,
      "outputs": []
    },
    {
      "cell_type": "code",
      "source": [
        "print(lower_limit)\n",
        "print(upper_limit)"
      ],
      "metadata": {
        "colab": {
          "base_uri": "https://localhost:8080/"
        },
        "id": "WWOX1TUn6-Xd",
        "outputId": "f689067d-0f39-4ff2-9226-8eb2363ba9e8"
      },
      "execution_count": 41,
      "outputs": [
        {
          "output_type": "stream",
          "name": "stdout",
          "text": [
            "-26.724\n",
            "65.6344\n"
          ]
        }
      ]
    },
    {
      "cell_type": "code",
      "source": [
        "outlier=[]\n",
        "for x in data1['Fare']:\n",
        "  if((x>upper_limit) or (x<lower_limit)):\n",
        "    outlier.append(x)"
      ],
      "metadata": {
        "id": "oZBHGIbj7BBu"
      },
      "execution_count": 42,
      "outputs": []
    },
    {
      "cell_type": "code",
      "source": [
        "outlier"
      ],
      "metadata": {
        "colab": {
          "base_uri": "https://localhost:8080/"
        },
        "id": "8e5norr27E5i",
        "outputId": "0df3db14-a24c-46d5-d9be-c60c52c052dd"
      },
      "execution_count": 43,
      "outputs": [
        {
          "output_type": "execute_result",
          "data": {
            "text/plain": [
              "[71.2833,\n",
              " 263.0,\n",
              " 146.5208,\n",
              " 82.1708,\n",
              " 76.7292,\n",
              " 80.0,\n",
              " 83.475,\n",
              " 73.5,\n",
              " 263.0,\n",
              " 77.2875,\n",
              " 247.5208,\n",
              " 73.5,\n",
              " 77.2875,\n",
              " 79.2,\n",
              " 66.6,\n",
              " 69.55,\n",
              " 69.55,\n",
              " 146.5208,\n",
              " 69.55,\n",
              " 113.275,\n",
              " 76.2917,\n",
              " 90.0,\n",
              " 83.475,\n",
              " 90.0,\n",
              " 79.2,\n",
              " 86.5,\n",
              " 512.3292,\n",
              " 79.65,\n",
              " 153.4625,\n",
              " 135.6333,\n",
              " 77.9583,\n",
              " 78.85,\n",
              " 91.0792,\n",
              " 151.55,\n",
              " 247.5208,\n",
              " 151.55,\n",
              " 110.8833,\n",
              " 108.9,\n",
              " 83.1583,\n",
              " 262.375,\n",
              " 164.8667,\n",
              " 134.5,\n",
              " 69.55,\n",
              " 135.6333,\n",
              " 153.4625,\n",
              " 133.65,\n",
              " 66.6,\n",
              " 134.5,\n",
              " 263.0,\n",
              " 75.25,\n",
              " 69.3,\n",
              " 135.6333,\n",
              " 82.1708,\n",
              " 211.5,\n",
              " 227.525,\n",
              " 73.5,\n",
              " 120.0,\n",
              " 113.275,\n",
              " 90.0,\n",
              " 120.0,\n",
              " 263.0,\n",
              " 81.8583,\n",
              " 89.1042,\n",
              " 91.0792,\n",
              " 90.0,\n",
              " 78.2667,\n",
              " 151.55,\n",
              " 86.5,\n",
              " 108.9,\n",
              " 93.5,\n",
              " 221.7792,\n",
              " 106.425,\n",
              " 71.0,\n",
              " 106.425,\n",
              " 110.8833,\n",
              " 227.525,\n",
              " 79.65,\n",
              " 110.8833,\n",
              " 79.65,\n",
              " 79.2,\n",
              " 78.2667,\n",
              " 153.4625,\n",
              " 77.9583,\n",
              " 69.3,\n",
              " 76.7292,\n",
              " 73.5,\n",
              " 113.275,\n",
              " 133.65,\n",
              " 73.5,\n",
              " 512.3292,\n",
              " 76.7292,\n",
              " 211.3375,\n",
              " 110.8833,\n",
              " 227.525,\n",
              " 151.55,\n",
              " 227.525,\n",
              " 211.3375,\n",
              " 512.3292,\n",
              " 78.85,\n",
              " 262.375,\n",
              " 71.0,\n",
              " 86.5,\n",
              " 120.0,\n",
              " 77.9583,\n",
              " 211.3375,\n",
              " 79.2,\n",
              " 69.55,\n",
              " 120.0,\n",
              " 93.5,\n",
              " 80.0,\n",
              " 83.1583,\n",
              " 69.55,\n",
              " 89.1042,\n",
              " 164.8667,\n",
              " 69.55,\n",
              " 83.1583]"
            ]
          },
          "metadata": {},
          "execution_count": 43
        }
      ]
    },
    {
      "cell_type": "code",
      "source": [
        "#removing outliers"
      ],
      "metadata": {
        "id": "Tq7AS0r17KOZ"
      },
      "execution_count": null,
      "outputs": []
    },
    {
      "cell_type": "code",
      "source": [
        "index_out=data1['Fare']>upper_limit"
      ],
      "metadata": {
        "id": "xgcpMsrG7NXd"
      },
      "execution_count": 44,
      "outputs": []
    },
    {
      "cell_type": "code",
      "source": [
        "data1.loc[index_out].index"
      ],
      "metadata": {
        "colab": {
          "base_uri": "https://localhost:8080/"
        },
        "id": "cvZt9LHc7Qe4",
        "outputId": "6d3264f0-fc6d-4c7f-b091-514665f398e0"
      },
      "execution_count": 45,
      "outputs": [
        {
          "output_type": "execute_result",
          "data": {
            "text/plain": [
              "Int64Index([  1,  27,  31,  34,  52,  61,  62,  72,  88, 102,\n",
              "            ...\n",
              "            792, 802, 820, 829, 835, 846, 849, 856, 863, 879],\n",
              "           dtype='int64', length=116)"
            ]
          },
          "metadata": {},
          "execution_count": 45
        }
      ]
    },
    {
      "cell_type": "code",
      "source": [
        "#droping outlier values"
      ],
      "metadata": {
        "id": "GLn-A8eR7T6T"
      },
      "execution_count": null,
      "outputs": []
    },
    {
      "cell_type": "code",
      "source": [
        "data1.drop(data1.loc[index_out].index,inplace=True)"
      ],
      "metadata": {
        "id": "eAmYxYMh7VCt"
      },
      "execution_count": 46,
      "outputs": []
    },
    {
      "cell_type": "code",
      "source": [
        "data1.head(10)"
      ],
      "metadata": {
        "colab": {
          "base_uri": "https://localhost:8080/",
          "height": 363
        },
        "id": "St6CFsIK74ik",
        "outputId": "a57bc3a4-468a-4700-f399-8b6c9d84a032"
      },
      "execution_count": 47,
      "outputs": [
        {
          "output_type": "execute_result",
          "data": {
            "text/plain": [
              "    Survived  Pclass     Sex   Age  SibSp  Parch     Fare Embarked\n",
              "0          0       3    male  22.0      1      0   7.2500        S\n",
              "2          1       3  female  26.0      0      0   7.9250        S\n",
              "3          1       1  female  35.0      1      0  53.1000        S\n",
              "4          0       3    male  35.0      0      0   8.0500        S\n",
              "5          0       3    male  28.0      0      0   8.4583        Q\n",
              "6          0       1    male  54.0      0      0  51.8625        S\n",
              "7          0       3    male   2.0      3      1  21.0750        S\n",
              "8          1       3  female  27.0      0      2  11.1333        S\n",
              "9          1       2  female  14.0      1      0  30.0708        C\n",
              "10         1       3  female   4.0      1      1  16.7000        S"
            ],
            "text/html": [
              "\n",
              "  <div id=\"df-70ca71dc-f653-4f17-adf2-1ff89748cf8b\">\n",
              "    <div class=\"colab-df-container\">\n",
              "      <div>\n",
              "<style scoped>\n",
              "    .dataframe tbody tr th:only-of-type {\n",
              "        vertical-align: middle;\n",
              "    }\n",
              "\n",
              "    .dataframe tbody tr th {\n",
              "        vertical-align: top;\n",
              "    }\n",
              "\n",
              "    .dataframe thead th {\n",
              "        text-align: right;\n",
              "    }\n",
              "</style>\n",
              "<table border=\"1\" class=\"dataframe\">\n",
              "  <thead>\n",
              "    <tr style=\"text-align: right;\">\n",
              "      <th></th>\n",
              "      <th>Survived</th>\n",
              "      <th>Pclass</th>\n",
              "      <th>Sex</th>\n",
              "      <th>Age</th>\n",
              "      <th>SibSp</th>\n",
              "      <th>Parch</th>\n",
              "      <th>Fare</th>\n",
              "      <th>Embarked</th>\n",
              "    </tr>\n",
              "  </thead>\n",
              "  <tbody>\n",
              "    <tr>\n",
              "      <th>0</th>\n",
              "      <td>0</td>\n",
              "      <td>3</td>\n",
              "      <td>male</td>\n",
              "      <td>22.0</td>\n",
              "      <td>1</td>\n",
              "      <td>0</td>\n",
              "      <td>7.2500</td>\n",
              "      <td>S</td>\n",
              "    </tr>\n",
              "    <tr>\n",
              "      <th>2</th>\n",
              "      <td>1</td>\n",
              "      <td>3</td>\n",
              "      <td>female</td>\n",
              "      <td>26.0</td>\n",
              "      <td>0</td>\n",
              "      <td>0</td>\n",
              "      <td>7.9250</td>\n",
              "      <td>S</td>\n",
              "    </tr>\n",
              "    <tr>\n",
              "      <th>3</th>\n",
              "      <td>1</td>\n",
              "      <td>1</td>\n",
              "      <td>female</td>\n",
              "      <td>35.0</td>\n",
              "      <td>1</td>\n",
              "      <td>0</td>\n",
              "      <td>53.1000</td>\n",
              "      <td>S</td>\n",
              "    </tr>\n",
              "    <tr>\n",
              "      <th>4</th>\n",
              "      <td>0</td>\n",
              "      <td>3</td>\n",
              "      <td>male</td>\n",
              "      <td>35.0</td>\n",
              "      <td>0</td>\n",
              "      <td>0</td>\n",
              "      <td>8.0500</td>\n",
              "      <td>S</td>\n",
              "    </tr>\n",
              "    <tr>\n",
              "      <th>5</th>\n",
              "      <td>0</td>\n",
              "      <td>3</td>\n",
              "      <td>male</td>\n",
              "      <td>28.0</td>\n",
              "      <td>0</td>\n",
              "      <td>0</td>\n",
              "      <td>8.4583</td>\n",
              "      <td>Q</td>\n",
              "    </tr>\n",
              "    <tr>\n",
              "      <th>6</th>\n",
              "      <td>0</td>\n",
              "      <td>1</td>\n",
              "      <td>male</td>\n",
              "      <td>54.0</td>\n",
              "      <td>0</td>\n",
              "      <td>0</td>\n",
              "      <td>51.8625</td>\n",
              "      <td>S</td>\n",
              "    </tr>\n",
              "    <tr>\n",
              "      <th>7</th>\n",
              "      <td>0</td>\n",
              "      <td>3</td>\n",
              "      <td>male</td>\n",
              "      <td>2.0</td>\n",
              "      <td>3</td>\n",
              "      <td>1</td>\n",
              "      <td>21.0750</td>\n",
              "      <td>S</td>\n",
              "    </tr>\n",
              "    <tr>\n",
              "      <th>8</th>\n",
              "      <td>1</td>\n",
              "      <td>3</td>\n",
              "      <td>female</td>\n",
              "      <td>27.0</td>\n",
              "      <td>0</td>\n",
              "      <td>2</td>\n",
              "      <td>11.1333</td>\n",
              "      <td>S</td>\n",
              "    </tr>\n",
              "    <tr>\n",
              "      <th>9</th>\n",
              "      <td>1</td>\n",
              "      <td>2</td>\n",
              "      <td>female</td>\n",
              "      <td>14.0</td>\n",
              "      <td>1</td>\n",
              "      <td>0</td>\n",
              "      <td>30.0708</td>\n",
              "      <td>C</td>\n",
              "    </tr>\n",
              "    <tr>\n",
              "      <th>10</th>\n",
              "      <td>1</td>\n",
              "      <td>3</td>\n",
              "      <td>female</td>\n",
              "      <td>4.0</td>\n",
              "      <td>1</td>\n",
              "      <td>1</td>\n",
              "      <td>16.7000</td>\n",
              "      <td>S</td>\n",
              "    </tr>\n",
              "  </tbody>\n",
              "</table>\n",
              "</div>\n",
              "      <button class=\"colab-df-convert\" onclick=\"convertToInteractive('df-70ca71dc-f653-4f17-adf2-1ff89748cf8b')\"\n",
              "              title=\"Convert this dataframe to an interactive table.\"\n",
              "              style=\"display:none;\">\n",
              "        \n",
              "  <svg xmlns=\"http://www.w3.org/2000/svg\" height=\"24px\"viewBox=\"0 0 24 24\"\n",
              "       width=\"24px\">\n",
              "    <path d=\"M0 0h24v24H0V0z\" fill=\"none\"/>\n",
              "    <path d=\"M18.56 5.44l.94 2.06.94-2.06 2.06-.94-2.06-.94-.94-2.06-.94 2.06-2.06.94zm-11 1L8.5 8.5l.94-2.06 2.06-.94-2.06-.94L8.5 2.5l-.94 2.06-2.06.94zm10 10l.94 2.06.94-2.06 2.06-.94-2.06-.94-.94-2.06-.94 2.06-2.06.94z\"/><path d=\"M17.41 7.96l-1.37-1.37c-.4-.4-.92-.59-1.43-.59-.52 0-1.04.2-1.43.59L10.3 9.45l-7.72 7.72c-.78.78-.78 2.05 0 2.83L4 21.41c.39.39.9.59 1.41.59.51 0 1.02-.2 1.41-.59l7.78-7.78 2.81-2.81c.8-.78.8-2.07 0-2.86zM5.41 20L4 18.59l7.72-7.72 1.47 1.35L5.41 20z\"/>\n",
              "  </svg>\n",
              "      </button>\n",
              "      \n",
              "  <style>\n",
              "    .colab-df-container {\n",
              "      display:flex;\n",
              "      flex-wrap:wrap;\n",
              "      gap: 12px;\n",
              "    }\n",
              "\n",
              "    .colab-df-convert {\n",
              "      background-color: #E8F0FE;\n",
              "      border: none;\n",
              "      border-radius: 50%;\n",
              "      cursor: pointer;\n",
              "      display: none;\n",
              "      fill: #1967D2;\n",
              "      height: 32px;\n",
              "      padding: 0 0 0 0;\n",
              "      width: 32px;\n",
              "    }\n",
              "\n",
              "    .colab-df-convert:hover {\n",
              "      background-color: #E2EBFA;\n",
              "      box-shadow: 0px 1px 2px rgba(60, 64, 67, 0.3), 0px 1px 3px 1px rgba(60, 64, 67, 0.15);\n",
              "      fill: #174EA6;\n",
              "    }\n",
              "\n",
              "    [theme=dark] .colab-df-convert {\n",
              "      background-color: #3B4455;\n",
              "      fill: #D2E3FC;\n",
              "    }\n",
              "\n",
              "    [theme=dark] .colab-df-convert:hover {\n",
              "      background-color: #434B5C;\n",
              "      box-shadow: 0px 1px 3px 1px rgba(0, 0, 0, 0.15);\n",
              "      filter: drop-shadow(0px 1px 2px rgba(0, 0, 0, 0.3));\n",
              "      fill: #FFFFFF;\n",
              "    }\n",
              "  </style>\n",
              "\n",
              "      <script>\n",
              "        const buttonEl =\n",
              "          document.querySelector('#df-70ca71dc-f653-4f17-adf2-1ff89748cf8b button.colab-df-convert');\n",
              "        buttonEl.style.display =\n",
              "          google.colab.kernel.accessAllowed ? 'block' : 'none';\n",
              "\n",
              "        async function convertToInteractive(key) {\n",
              "          const element = document.querySelector('#df-70ca71dc-f653-4f17-adf2-1ff89748cf8b');\n",
              "          const dataTable =\n",
              "            await google.colab.kernel.invokeFunction('convertToInteractive',\n",
              "                                                     [key], {});\n",
              "          if (!dataTable) return;\n",
              "\n",
              "          const docLinkHtml = 'Like what you see? Visit the ' +\n",
              "            '<a target=\"_blank\" href=https://colab.research.google.com/notebooks/data_table.ipynb>data table notebook</a>'\n",
              "            + ' to learn more about interactive tables.';\n",
              "          element.innerHTML = '';\n",
              "          dataTable['output_type'] = 'display_data';\n",
              "          await google.colab.output.renderOutput(dataTable, element);\n",
              "          const docLink = document.createElement('div');\n",
              "          docLink.innerHTML = docLinkHtml;\n",
              "          element.appendChild(docLink);\n",
              "        }\n",
              "      </script>\n",
              "    </div>\n",
              "  </div>\n",
              "  "
            ]
          },
          "metadata": {},
          "execution_count": 47
        }
      ]
    },
    {
      "cell_type": "code",
      "source": [
        "# Boxplot of Age\n",
        "plt.boxplot(data1['Age'])\n",
        "plt.title('Boxplot Of Age')\n",
        "plt.show()"
      ],
      "metadata": {
        "colab": {
          "base_uri": "https://localhost:8080/",
          "height": 281
        },
        "id": "kGg4FiWVAJHN",
        "outputId": "97ab7b8b-1761-4003-c261-52ea85c10403"
      },
      "execution_count": 58,
      "outputs": [
        {
          "output_type": "display_data",
          "data": {
            "text/plain": [
              "<Figure size 432x288 with 1 Axes>"
            ],
            "image/png": "[encoded data removed]"
          },
          "metadata": {
            "needs_background": "light"
          }
        }
      ]
    },
    {
      "cell_type": "code",
      "source": [
        "Q1=np.percentile(data1['Age'],25,interpolation='midpoint')\n",
        "Q2=np.percentile(data1['Age'],50,interpolation='midpoint')\n",
        "Q3=np.percentile(data1['Age'],75,interpolation='midpoint')"
      ],
      "metadata": {
        "id": "OntbW5oIAg2o"
      },
      "execution_count": 64,
      "outputs": []
    },
    {
      "cell_type": "code",
      "source": [
        "print(Q1)\n",
        "print(Q2)\n",
        "print(Q3)"
      ],
      "metadata": {
        "colab": {
          "base_uri": "https://localhost:8080/"
        },
        "id": "-egxt7OwBKdi",
        "outputId": "6aa340ca-fcb5-484b-cbcf-52074ad70e99"
      },
      "execution_count": 60,
      "outputs": [
        {
          "output_type": "stream",
          "name": "stdout",
          "text": [
            "22.0\n",
            "28.0\n",
            "34.0\n"
          ]
        }
      ]
    },
    {
      "cell_type": "code",
      "source": [
        "IQR=Q3-Q1\n",
        "print(Q3-Q1)"
      ],
      "metadata": {
        "colab": {
          "base_uri": "https://localhost:8080/"
        },
        "id": "CKvyLLkYBN3N",
        "outputId": "12179ed6-394f-45a7-bdca-6fa0e00f493c"
      },
      "execution_count": 61,
      "outputs": [
        {
          "output_type": "stream",
          "name": "stdout",
          "text": [
            "12.0\n"
          ]
        }
      ]
    },
    {
      "cell_type": "code",
      "source": [
        "upper_limit=Q3+1.5*IQR\n",
        "lower_limit=Q1-1.5*IQR"
      ],
      "metadata": {
        "id": "MswuoQL6BRfP"
      },
      "execution_count": 62,
      "outputs": []
    },
    {
      "cell_type": "code",
      "source": [
        "print(lower_limit)\n",
        "print(upper_limit)"
      ],
      "metadata": {
        "colab": {
          "base_uri": "https://localhost:8080/"
        },
        "id": "cL986qO2BVI2",
        "outputId": "e54579ae-094c-402d-a01b-7cd912946914"
      },
      "execution_count": 63,
      "outputs": [
        {
          "output_type": "stream",
          "name": "stdout",
          "text": [
            "4.0\n",
            "52.0\n"
          ]
        }
      ]
    },
    {
      "cell_type": "code",
      "source": [
        "outlier=[]\n",
        "for x in data1['Fare']:\n",
        "  if((x>upper_limit) or (x<lower_limit)):\n",
        "    outlier.append(x)"
      ],
      "metadata": {
        "id": "B-FjNVU0BYki"
      },
      "execution_count": 65,
      "outputs": []
    },
    {
      "cell_type": "code",
      "source": [
        "outlier"
      ],
      "metadata": {
        "colab": {
          "base_uri": "https://localhost:8080/"
        },
        "id": "tCoxr_vPBjx0",
        "outputId": "18e9ef9c-0507-4dd4-f542-d5944b7a9720"
      },
      "execution_count": 66,
      "outputs": [
        {
          "output_type": "execute_result",
          "data": {
            "text/plain": [
              "[53.1,\n",
              " 61.9792,\n",
              " 56.4958,\n",
              " 61.175,\n",
              " 63.3583,\n",
              " 53.1,\n",
              " 61.3792,\n",
              " 55.0,\n",
              " 56.4958,\n",
              " 0.0,\n",
              " 52.5542,\n",
              " 0.0,\n",
              " 0.0,\n",
              " 0.0,\n",
              " 0.0,\n",
              " 56.9292,\n",
              " 57.9792,\n",
              " 55.0,\n",
              " 55.4417,\n",
              " 0.0,\n",
              " 55.9,\n",
              " 0.0,\n",
              " 0.0,\n",
              " 56.4958,\n",
              " 59.4,\n",
              " 57.9792,\n",
              " 55.9,\n",
              " 0.0,\n",
              " 56.9292,\n",
              " 65.0,\n",
              " 52.5542,\n",
              " 0.0,\n",
              " 56.4958,\n",
              " 0.0,\n",
              " 57.0,\n",
              " 56.4958,\n",
              " 53.1,\n",
              " 0.0,\n",
              " 53.1,\n",
              " 65.0,\n",
              " 57.0,\n",
              " 0.0,\n",
              " 53.1,\n",
              " 0.0,\n",
              " 0.0,\n",
              " 56.4958,\n",
              " 56.4958,\n",
              " 52.5542]"
            ]
          },
          "metadata": {},
          "execution_count": 66
        }
      ]
    },
    {
      "cell_type": "code",
      "source": [
        "#removing outliers"
      ],
      "metadata": {
        "id": "_kjByatkBpeF"
      },
      "execution_count": null,
      "outputs": []
    },
    {
      "cell_type": "code",
      "source": [
        "index_out=data1['Age']>upper_limit"
      ],
      "metadata": {
        "id": "R9warJ9PBsFS"
      },
      "execution_count": 68,
      "outputs": []
    },
    {
      "cell_type": "code",
      "source": [
        "data1.loc[index_out].index"
      ],
      "metadata": {
        "colab": {
          "base_uri": "https://localhost:8080/"
        },
        "id": "f7qlxUYoBy8U",
        "outputId": "9d9bf393-0e9f-4c69-aa0e-8c94a59d2696"
      },
      "execution_count": 69,
      "outputs": [
        {
          "output_type": "execute_result",
          "data": {
            "text/plain": [
              "Int64Index([  6,  11,  15,  33,  54,  94,  96, 116, 152, 170, 174, 232, 249,\n",
              "            252, 280, 317, 326, 456, 467, 483, 487, 492, 493, 513, 545, 555,\n",
              "            570, 571, 582, 625, 626, 630, 647, 672, 684, 694, 772, 774, 851],\n",
              "           dtype='int64')"
            ]
          },
          "metadata": {},
          "execution_count": 69
        }
      ]
    },
    {
      "cell_type": "code",
      "source": [
        "#droping outlier values"
      ],
      "metadata": {
        "id": "RMrUEnKVB32L"
      },
      "execution_count": null,
      "outputs": []
    },
    {
      "cell_type": "code",
      "source": [
        "data1.drop(data1.loc[index_out].index,inplace=True)"
      ],
      "metadata": {
        "id": "A4mXOA5vB6cJ"
      },
      "execution_count": 70,
      "outputs": []
    },
    {
      "cell_type": "code",
      "source": [
        "data1.head(10)"
      ],
      "metadata": {
        "colab": {
          "base_uri": "https://localhost:8080/",
          "height": 363
        },
        "id": "DIRWF3O7B_tV",
        "outputId": "a47abce3-d90a-49f2-ee90-474c8bfeb232"
      },
      "execution_count": 71,
      "outputs": [
        {
          "output_type": "execute_result",
          "data": {
            "text/plain": [
              "    Survived  Pclass     Sex   Age  SibSp  Parch     Fare Embarked\n",
              "0          0       3    male  22.0      1      0   7.2500        S\n",
              "2          1       3  female  26.0      0      0   7.9250        S\n",
              "3          1       1  female  35.0      1      0  53.1000        S\n",
              "4          0       3    male  35.0      0      0   8.0500        S\n",
              "5          0       3    male  28.0      0      0   8.4583        Q\n",
              "7          0       3    male   2.0      3      1  21.0750        S\n",
              "8          1       3  female  27.0      0      2  11.1333        S\n",
              "9          1       2  female  14.0      1      0  30.0708        C\n",
              "10         1       3  female   4.0      1      1  16.7000        S\n",
              "12         0       3    male  20.0      0      0   8.0500        S"
            ],
            "text/html": [
              "\n",
              "  <div id=\"df-cb23d078-9217-4e2e-8415-c7845345f897\">\n",
              "    <div class=\"colab-df-container\">\n",
              "      <div>\n",
              "<style scoped>\n",
              "    .dataframe tbody tr th:only-of-type {\n",
              "        vertical-align: middle;\n",
              "    }\n",
              "\n",
              "    .dataframe tbody tr th {\n",
              "        vertical-align: top;\n",
              "    }\n",
              "\n",
              "    .dataframe thead th {\n",
              "        text-align: right;\n",
              "    }\n",
              "</style>\n",
              "<table border=\"1\" class=\"dataframe\">\n",
              "  <thead>\n",
              "    <tr style=\"text-align: right;\">\n",
              "      <th></th>\n",
              "      <th>Survived</th>\n",
              "      <th>Pclass</th>\n",
              "      <th>Sex</th>\n",
              "      <th>Age</th>\n",
              "      <th>SibSp</th>\n",
              "      <th>Parch</th>\n",
              "      <th>Fare</th>\n",
              "      <th>Embarked</th>\n",
              "    </tr>\n",
              "  </thead>\n",
              "  <tbody>\n",
              "    <tr>\n",
              "      <th>0</th>\n",
              "      <td>0</td>\n",
              "      <td>3</td>\n",
              "      <td>male</td>\n",
              "      <td>22.0</td>\n",
              "      <td>1</td>\n",
              "      <td>0</td>\n",
              "      <td>7.2500</td>\n",
              "      <td>S</td>\n",
              "    </tr>\n",
              "    <tr>\n",
              "      <th>2</th>\n",
              "      <td>1</td>\n",
              "      <td>3</td>\n",
              "      <td>female</td>\n",
              "      <td>26.0</td>\n",
              "      <td>0</td>\n",
              "      <td>0</td>\n",
              "      <td>7.9250</td>\n",
              "      <td>S</td>\n",
              "    </tr>\n",
              "    <tr>\n",
              "      <th>3</th>\n",
              "      <td>1</td>\n",
              "      <td>1</td>\n",
              "      <td>female</td>\n",
              "      <td>35.0</td>\n",
              "      <td>1</td>\n",
              "      <td>0</td>\n",
              "      <td>53.1000</td>\n",
              "      <td>S</td>\n",
              "    </tr>\n",
              "    <tr>\n",
              "      <th>4</th>\n",
              "      <td>0</td>\n",
              "      <td>3</td>\n",
              "      <td>male</td>\n",
              "      <td>35.0</td>\n",
              "      <td>0</td>\n",
              "      <td>0</td>\n",
              "      <td>8.0500</td>\n",
              "      <td>S</td>\n",
              "    </tr>\n",
              "    <tr>\n",
              "      <th>5</th>\n",
              "      <td>0</td>\n",
              "      <td>3</td>\n",
              "      <td>male</td>\n",
              "      <td>28.0</td>\n",
              "      <td>0</td>\n",
              "      <td>0</td>\n",
              "      <td>8.4583</td>\n",
              "      <td>Q</td>\n",
              "    </tr>\n",
              "    <tr>\n",
              "      <th>7</th>\n",
              "      <td>0</td>\n",
              "      <td>3</td>\n",
              "      <td>male</td>\n",
              "      <td>2.0</td>\n",
              "      <td>3</td>\n",
              "      <td>1</td>\n",
              "      <td>21.0750</td>\n",
              "      <td>S</td>\n",
              "    </tr>\n",
              "    <tr>\n",
              "      <th>8</th>\n",
              "      <td>1</td>\n",
              "      <td>3</td>\n",
              "      <td>female</td>\n",
              "      <td>27.0</td>\n",
              "      <td>0</td>\n",
              "      <td>2</td>\n",
              "      <td>11.1333</td>\n",
              "      <td>S</td>\n",
              "    </tr>\n",
              "    <tr>\n",
              "      <th>9</th>\n",
              "      <td>1</td>\n",
              "      <td>2</td>\n",
              "      <td>female</td>\n",
              "      <td>14.0</td>\n",
              "      <td>1</td>\n",
              "      <td>0</td>\n",
              "      <td>30.0708</td>\n",
              "      <td>C</td>\n",
              "    </tr>\n",
              "    <tr>\n",
              "      <th>10</th>\n",
              "      <td>1</td>\n",
              "      <td>3</td>\n",
              "      <td>female</td>\n",
              "      <td>4.0</td>\n",
              "      <td>1</td>\n",
              "      <td>1</td>\n",
              "      <td>16.7000</td>\n",
              "      <td>S</td>\n",
              "    </tr>\n",
              "    <tr>\n",
              "      <th>12</th>\n",
              "      <td>0</td>\n",
              "      <td>3</td>\n",
              "      <td>male</td>\n",
              "      <td>20.0</td>\n",
              "      <td>0</td>\n",
              "      <td>0</td>\n",
              "      <td>8.0500</td>\n",
              "      <td>S</td>\n",
              "    </tr>\n",
              "  </tbody>\n",
              "</table>\n",
              "</div>\n",
              "      <button class=\"colab-df-convert\" onclick=\"convertToInteractive('df-cb23d078-9217-4e2e-8415-c7845345f897')\"\n",
              "              title=\"Convert this dataframe to an interactive table.\"\n",
              "              style=\"display:none;\">\n",
              "        \n",
              "  <svg xmlns=\"http://www.w3.org/2000/svg\" height=\"24px\"viewBox=\"0 0 24 24\"\n",
              "       width=\"24px\">\n",
              "    <path d=\"M0 0h24v24H0V0z\" fill=\"none\"/>\n",
              "    <path d=\"M18.56 5.44l.94 2.06.94-2.06 2.06-.94-2.06-.94-.94-2.06-.94 2.06-2.06.94zm-11 1L8.5 8.5l.94-2.06 2.06-.94-2.06-.94L8.5 2.5l-.94 2.06-2.06.94zm10 10l.94 2.06.94-2.06 2.06-.94-2.06-.94-.94-2.06-.94 2.06-2.06.94z\"/><path d=\"M17.41 7.96l-1.37-1.37c-.4-.4-.92-.59-1.43-.59-.52 0-1.04.2-1.43.59L10.3 9.45l-7.72 7.72c-.78.78-.78 2.05 0 2.83L4 21.41c.39.39.9.59 1.41.59.51 0 1.02-.2 1.41-.59l7.78-7.78 2.81-2.81c.8-.78.8-2.07 0-2.86zM5.41 20L4 18.59l7.72-7.72 1.47 1.35L5.41 20z\"/>\n",
              "  </svg>\n",
              "      </button>\n",
              "      \n",
              "  <style>\n",
              "    .colab-df-container {\n",
              "      display:flex;\n",
              "      flex-wrap:wrap;\n",
              "      gap: 12px;\n",
              "    }\n",
              "\n",
              "    .colab-df-convert {\n",
              "      background-color: #E8F0FE;\n",
              "      border: none;\n",
              "      border-radius: 50%;\n",
              "      cursor: pointer;\n",
              "      display: none;\n",
              "      fill: #1967D2;\n",
              "      height: 32px;\n",
              "      padding: 0 0 0 0;\n",
              "      width: 32px;\n",
              "    }\n",
              "\n",
              "    .colab-df-convert:hover {\n",
              "      background-color: #E2EBFA;\n",
              "      box-shadow: 0px 1px 2px rgba(60, 64, 67, 0.3), 0px 1px 3px 1px rgba(60, 64, 67, 0.15);\n",
              "      fill: #174EA6;\n",
              "    }\n",
              "\n",
              "    [theme=dark] .colab-df-convert {\n",
              "      background-color: #3B4455;\n",
              "      fill: #D2E3FC;\n",
              "    }\n",
              "\n",
              "    [theme=dark] .colab-df-convert:hover {\n",
              "      background-color: #434B5C;\n",
              "      box-shadow: 0px 1px 3px 1px rgba(0, 0, 0, 0.15);\n",
              "      filter: drop-shadow(0px 1px 2px rgba(0, 0, 0, 0.3));\n",
              "      fill: #FFFFFF;\n",
              "    }\n",
              "  </style>\n",
              "\n",
              "      <script>\n",
              "        const buttonEl =\n",
              "          document.querySelector('#df-cb23d078-9217-4e2e-8415-c7845345f897 button.colab-df-convert');\n",
              "        buttonEl.style.display =\n",
              "          google.colab.kernel.accessAllowed ? 'block' : 'none';\n",
              "\n",
              "        async function convertToInteractive(key) {\n",
              "          const element = document.querySelector('#df-cb23d078-9217-4e2e-8415-c7845345f897');\n",
              "          const dataTable =\n",
              "            await google.colab.kernel.invokeFunction('convertToInteractive',\n",
              "                                                     [key], {});\n",
              "          if (!dataTable) return;\n",
              "\n",
              "          const docLinkHtml = 'Like what you see? Visit the ' +\n",
              "            '<a target=\"_blank\" href=https://colab.research.google.com/notebooks/data_table.ipynb>data table notebook</a>'\n",
              "            + ' to learn more about interactive tables.';\n",
              "          element.innerHTML = '';\n",
              "          dataTable['output_type'] = 'display_data';\n",
              "          await google.colab.output.renderOutput(dataTable, element);\n",
              "          const docLink = document.createElement('div');\n",
              "          docLink.innerHTML = docLinkHtml;\n",
              "          element.appendChild(docLink);\n",
              "        }\n",
              "      </script>\n",
              "    </div>\n",
              "  </div>\n",
              "  "
            ]
          },
          "metadata": {},
          "execution_count": 71
        }
      ]
    },
    {
      "cell_type": "code",
      "source": [
        "#Encoding"
      ],
      "metadata": {
        "id": "egYVBJyQDhvq"
      },
      "execution_count": null,
      "outputs": []
    },
    {
      "cell_type": "code",
      "source": [
        "data1=pd.get_dummies(data1)"
      ],
      "metadata": {
        "id": "65TwHmwcDyFi"
      },
      "execution_count": 75,
      "outputs": []
    },
    {
      "cell_type": "code",
      "source": [
        "data1.head()"
      ],
      "metadata": {
        "colab": {
          "base_uri": "https://localhost:8080/",
          "height": 206
        },
        "id": "bsj92IGFD3Z_",
        "outputId": "7fc97709-16b6-423a-eb70-8c07ff3e45d6"
      },
      "execution_count": 76,
      "outputs": [
        {
          "output_type": "execute_result",
          "data": {
            "text/plain": [
              "   Survived  Pclass   Age  SibSp  Parch     Fare  Sex_female  Sex_male  \\\n",
              "0         0       3  22.0      1      0   7.2500           0         1   \n",
              "2         1       3  26.0      0      0   7.9250           1         0   \n",
              "3         1       1  35.0      1      0  53.1000           1         0   \n",
              "4         0       3  35.0      0      0   8.0500           0         1   \n",
              "5         0       3  28.0      0      0   8.4583           0         1   \n",
              "\n",
              "   Embarked_C  Embarked_Q  Embarked_S  \n",
              "0           0           0           1  \n",
              "2           0           0           1  \n",
              "3           0           0           1  \n",
              "4           0           0           1  \n",
              "5           0           1           0  "
            ],
            "text/html": [
              "\n",
              "  <div id=\"df-e03d89b3-6b2c-49f4-b46a-8e33d3368fcc\">\n",
              "    <div class=\"colab-df-container\">\n",
              "      <div>\n",
              "<style scoped>\n",
              "    .dataframe tbody tr th:only-of-type {\n",
              "        vertical-align: middle;\n",
              "    }\n",
              "\n",
              "    .dataframe tbody tr th {\n",
              "        vertical-align: top;\n",
              "    }\n",
              "\n",
              "    .dataframe thead th {\n",
              "        text-align: right;\n",
              "    }\n",
              "</style>\n",
              "<table border=\"1\" class=\"dataframe\">\n",
              "  <thead>\n",
              "    <tr style=\"text-align: right;\">\n",
              "      <th></th>\n",
              "      <th>Survived</th>\n",
              "      <th>Pclass</th>\n",
              "      <th>Age</th>\n",
              "      <th>SibSp</th>\n",
              "      <th>Parch</th>\n",
              "      <th>Fare</th>\n",
              "      <th>Sex_female</th>\n",
              "      <th>Sex_male</th>\n",
              "      <th>Embarked_C</th>\n",
              "      <th>Embarked_Q</th>\n",
              "      <th>Embarked_S</th>\n",
              "    </tr>\n",
              "  </thead>\n",
              "  <tbody>\n",
              "    <tr>\n",
              "      <th>0</th>\n",
              "      <td>0</td>\n",
              "      <td>3</td>\n",
              "      <td>22.0</td>\n",
              "      <td>1</td>\n",
              "      <td>0</td>\n",
              "      <td>7.2500</td>\n",
              "      <td>0</td>\n",
              "      <td>1</td>\n",
              "      <td>0</td>\n",
              "      <td>0</td>\n",
              "      <td>1</td>\n",
              "    </tr>\n",
              "    <tr>\n",
              "      <th>2</th>\n",
              "      <td>1</td>\n",
              "      <td>3</td>\n",
              "      <td>26.0</td>\n",
              "      <td>0</td>\n",
              "      <td>0</td>\n",
              "      <td>7.9250</td>\n",
              "      <td>1</td>\n",
              "      <td>0</td>\n",
              "      <td>0</td>\n",
              "      <td>0</td>\n",
              "      <td>1</td>\n",
              "    </tr>\n",
              "    <tr>\n",
              "      <th>3</th>\n",
              "      <td>1</td>\n",
              "      <td>1</td>\n",
              "      <td>35.0</td>\n",
              "      <td>1</td>\n",
              "      <td>0</td>\n",
              "      <td>53.1000</td>\n",
              "      <td>1</td>\n",
              "      <td>0</td>\n",
              "      <td>0</td>\n",
              "      <td>0</td>\n",
              "      <td>1</td>\n",
              "    </tr>\n",
              "    <tr>\n",
              "      <th>4</th>\n",
              "      <td>0</td>\n",
              "      <td>3</td>\n",
              "      <td>35.0</td>\n",
              "      <td>0</td>\n",
              "      <td>0</td>\n",
              "      <td>8.0500</td>\n",
              "      <td>0</td>\n",
              "      <td>1</td>\n",
              "      <td>0</td>\n",
              "      <td>0</td>\n",
              "      <td>1</td>\n",
              "    </tr>\n",
              "    <tr>\n",
              "      <th>5</th>\n",
              "      <td>0</td>\n",
              "      <td>3</td>\n",
              "      <td>28.0</td>\n",
              "      <td>0</td>\n",
              "      <td>0</td>\n",
              "      <td>8.4583</td>\n",
              "      <td>0</td>\n",
              "      <td>1</td>\n",
              "      <td>0</td>\n",
              "      <td>1</td>\n",
              "      <td>0</td>\n",
              "    </tr>\n",
              "  </tbody>\n",
              "</table>\n",
              "</div>\n",
              "      <button class=\"colab-df-convert\" onclick=\"convertToInteractive('df-e03d89b3-6b2c-49f4-b46a-8e33d3368fcc')\"\n",
              "              title=\"Convert this dataframe to an interactive table.\"\n",
              "              style=\"display:none;\">\n",
              "        \n",
              "  <svg xmlns=\"http://www.w3.org/2000/svg\" height=\"24px\"viewBox=\"0 0 24 24\"\n",
              "       width=\"24px\">\n",
              "    <path d=\"M0 0h24v24H0V0z\" fill=\"none\"/>\n",
              "    <path d=\"M18.56 5.44l.94 2.06.94-2.06 2.06-.94-2.06-.94-.94-2.06-.94 2.06-2.06.94zm-11 1L8.5 8.5l.94-2.06 2.06-.94-2.06-.94L8.5 2.5l-.94 2.06-2.06.94zm10 10l.94 2.06.94-2.06 2.06-.94-2.06-.94-.94-2.06-.94 2.06-2.06.94z\"/><path d=\"M17.41 7.96l-1.37-1.37c-.4-.4-.92-.59-1.43-.59-.52 0-1.04.2-1.43.59L10.3 9.45l-7.72 7.72c-.78.78-.78 2.05 0 2.83L4 21.41c.39.39.9.59 1.41.59.51 0 1.02-.2 1.41-.59l7.78-7.78 2.81-2.81c.8-.78.8-2.07 0-2.86zM5.41 20L4 18.59l7.72-7.72 1.47 1.35L5.41 20z\"/>\n",
              "  </svg>\n",
              "      </button>\n",
              "      \n",
              "  <style>\n",
              "    .colab-df-container {\n",
              "      display:flex;\n",
              "      flex-wrap:wrap;\n",
              "      gap: 12px;\n",
              "    }\n",
              "\n",
              "    .colab-df-convert {\n",
              "      background-color: #E8F0FE;\n",
              "      border: none;\n",
              "      border-radius: 50%;\n",
              "      cursor: pointer;\n",
              "      display: none;\n",
              "      fill: #1967D2;\n",
              "      height: 32px;\n",
              "      padding: 0 0 0 0;\n",
              "      width: 32px;\n",
              "    }\n",
              "\n",
              "    .colab-df-convert:hover {\n",
              "      background-color: #E2EBFA;\n",
              "      box-shadow: 0px 1px 2px rgba(60, 64, 67, 0.3), 0px 1px 3px 1px rgba(60, 64, 67, 0.15);\n",
              "      fill: #174EA6;\n",
              "    }\n",
              "\n",
              "    [theme=dark] .colab-df-convert {\n",
              "      background-color: #3B4455;\n",
              "      fill: #D2E3FC;\n",
              "    }\n",
              "\n",
              "    [theme=dark] .colab-df-convert:hover {\n",
              "      background-color: #434B5C;\n",
              "      box-shadow: 0px 1px 3px 1px rgba(0, 0, 0, 0.15);\n",
              "      filter: drop-shadow(0px 1px 2px rgba(0, 0, 0, 0.3));\n",
              "      fill: #FFFFFF;\n",
              "    }\n",
              "  </style>\n",
              "\n",
              "      <script>\n",
              "        const buttonEl =\n",
              "          document.querySelector('#df-e03d89b3-6b2c-49f4-b46a-8e33d3368fcc button.colab-df-convert');\n",
              "        buttonEl.style.display =\n",
              "          google.colab.kernel.accessAllowed ? 'block' : 'none';\n",
              "\n",
              "        async function convertToInteractive(key) {\n",
              "          const element = document.querySelector('#df-e03d89b3-6b2c-49f4-b46a-8e33d3368fcc');\n",
              "          const dataTable =\n",
              "            await google.colab.kernel.invokeFunction('convertToInteractive',\n",
              "                                                     [key], {});\n",
              "          if (!dataTable) return;\n",
              "\n",
              "          const docLinkHtml = 'Like what you see? Visit the ' +\n",
              "            '<a target=\"_blank\" href=https://colab.research.google.com/notebooks/data_table.ipynb>data table notebook</a>'\n",
              "            + ' to learn more about interactive tables.';\n",
              "          element.innerHTML = '';\n",
              "          dataTable['output_type'] = 'display_data';\n",
              "          await google.colab.output.renderOutput(dataTable, element);\n",
              "          const docLink = document.createElement('div');\n",
              "          docLink.innerHTML = docLinkHtml;\n",
              "          element.appendChild(docLink);\n",
              "        }\n",
              "      </script>\n",
              "    </div>\n",
              "  </div>\n",
              "  "
            ]
          },
          "metadata": {},
          "execution_count": 76
        }
      ]
    },
    {
      "cell_type": "code",
      "source": [
        "#Min Max Scaling"
      ],
      "metadata": {
        "id": "2uvitKrYT2hh"
      },
      "execution_count": null,
      "outputs": []
    },
    {
      "cell_type": "code",
      "source": [
        "from sklearn.preprocessing import MinMaxScaler"
      ],
      "metadata": {
        "id": "nuCzSNhzGX0S"
      },
      "execution_count": 79,
      "outputs": []
    },
    {
      "cell_type": "code",
      "source": [
        "minmax = MinMaxScaler()"
      ],
      "metadata": {
        "id": "fTSAiKRJF-IY"
      },
      "execution_count": 80,
      "outputs": []
    },
    {
      "cell_type": "code",
      "source": [
        "scaled_cols=['Age', 'Fare']"
      ],
      "metadata": {
        "id": "KtWKb8WdGB46"
      },
      "execution_count": 81,
      "outputs": []
    },
    {
      "cell_type": "code",
      "source": [
        "data1[scaled_cols]=minmax.fit_transform(data1[scaled_cols])"
      ],
      "metadata": {
        "id": "StbanpzbGKG-"
      },
      "execution_count": 82,
      "outputs": []
    },
    {
      "cell_type": "code",
      "source": [
        "data1.head()"
      ],
      "metadata": {
        "colab": {
          "base_uri": "https://localhost:8080/",
          "height": 206
        },
        "id": "RRDrD2OrGSfD",
        "outputId": "4c96f291-6648-4b8a-9304-346c30186b22"
      },
      "execution_count": 83,
      "outputs": [
        {
          "output_type": "execute_result",
          "data": {
            "text/plain": [
              "   Survived  Pclass       Age  SibSp  Parch      Fare  Sex_female  Sex_male  \\\n",
              "0         0       3  0.418379      1      0  0.111538           0         1   \n",
              "2         1       3  0.495929      0      0  0.121923           1         0   \n",
              "3         1       1  0.670415      1      0  0.816923           1         0   \n",
              "4         0       3  0.670415      0      0  0.123846           0         1   \n",
              "5         0       3  0.534703      0      0  0.130128           0         1   \n",
              "\n",
              "   Embarked_C  Embarked_Q  Embarked_S  \n",
              "0           0           0           1  \n",
              "2           0           0           1  \n",
              "3           0           0           1  \n",
              "4           0           0           1  \n",
              "5           0           1           0  "
            ],
            "text/html": [
              "\n",
              "  <div id=\"df-20933759-879a-4ecf-b93d-1e55a50fd95b\">\n",
              "    <div class=\"colab-df-container\">\n",
              "      <div>\n",
              "<style scoped>\n",
              "    .dataframe tbody tr th:only-of-type {\n",
              "        vertical-align: middle;\n",
              "    }\n",
              "\n",
              "    .dataframe tbody tr th {\n",
              "        vertical-align: top;\n",
              "    }\n",
              "\n",
              "    .dataframe thead th {\n",
              "        text-align: right;\n",
              "    }\n",
              "</style>\n",
              "<table border=\"1\" class=\"dataframe\">\n",
              "  <thead>\n",
              "    <tr style=\"text-align: right;\">\n",
              "      <th></th>\n",
              "      <th>Survived</th>\n",
              "      <th>Pclass</th>\n",
              "      <th>Age</th>\n",
              "      <th>SibSp</th>\n",
              "      <th>Parch</th>\n",
              "      <th>Fare</th>\n",
              "      <th>Sex_female</th>\n",
              "      <th>Sex_male</th>\n",
              "      <th>Embarked_C</th>\n",
              "      <th>Embarked_Q</th>\n",
              "      <th>Embarked_S</th>\n",
              "    </tr>\n",
              "  </thead>\n",
              "  <tbody>\n",
              "    <tr>\n",
              "      <th>0</th>\n",
              "      <td>0</td>\n",
              "      <td>3</td>\n",
              "      <td>0.418379</td>\n",
              "      <td>1</td>\n",
              "      <td>0</td>\n",
              "      <td>0.111538</td>\n",
              "      <td>0</td>\n",
              "      <td>1</td>\n",
              "      <td>0</td>\n",
              "      <td>0</td>\n",
              "      <td>1</td>\n",
              "    </tr>\n",
              "    <tr>\n",
              "      <th>2</th>\n",
              "      <td>1</td>\n",
              "      <td>3</td>\n",
              "      <td>0.495929</td>\n",
              "      <td>0</td>\n",
              "      <td>0</td>\n",
              "      <td>0.121923</td>\n",
              "      <td>1</td>\n",
              "      <td>0</td>\n",
              "      <td>0</td>\n",
              "      <td>0</td>\n",
              "      <td>1</td>\n",
              "    </tr>\n",
              "    <tr>\n",
              "      <th>3</th>\n",
              "      <td>1</td>\n",
              "      <td>1</td>\n",
              "      <td>0.670415</td>\n",
              "      <td>1</td>\n",
              "      <td>0</td>\n",
              "      <td>0.816923</td>\n",
              "      <td>1</td>\n",
              "      <td>0</td>\n",
              "      <td>0</td>\n",
              "      <td>0</td>\n",
              "      <td>1</td>\n",
              "    </tr>\n",
              "    <tr>\n",
              "      <th>4</th>\n",
              "      <td>0</td>\n",
              "      <td>3</td>\n",
              "      <td>0.670415</td>\n",
              "      <td>0</td>\n",
              "      <td>0</td>\n",
              "      <td>0.123846</td>\n",
              "      <td>0</td>\n",
              "      <td>1</td>\n",
              "      <td>0</td>\n",
              "      <td>0</td>\n",
              "      <td>1</td>\n",
              "    </tr>\n",
              "    <tr>\n",
              "      <th>5</th>\n",
              "      <td>0</td>\n",
              "      <td>3</td>\n",
              "      <td>0.534703</td>\n",
              "      <td>0</td>\n",
              "      <td>0</td>\n",
              "      <td>0.130128</td>\n",
              "      <td>0</td>\n",
              "      <td>1</td>\n",
              "      <td>0</td>\n",
              "      <td>1</td>\n",
              "      <td>0</td>\n",
              "    </tr>\n",
              "  </tbody>\n",
              "</table>\n",
              "</div>\n",
              "      <button class=\"colab-df-convert\" onclick=\"convertToInteractive('df-20933759-879a-4ecf-b93d-1e55a50fd95b')\"\n",
              "              title=\"Convert this dataframe to an interactive table.\"\n",
              "              style=\"display:none;\">\n",
              "        \n",
              "  <svg xmlns=\"http://www.w3.org/2000/svg\" height=\"24px\"viewBox=\"0 0 24 24\"\n",
              "       width=\"24px\">\n",
              "    <path d=\"M0 0h24v24H0V0z\" fill=\"none\"/>\n",
              "    <path d=\"M18.56 5.44l.94 2.06.94-2.06 2.06-.94-2.06-.94-.94-2.06-.94 2.06-2.06.94zm-11 1L8.5 8.5l.94-2.06 2.06-.94-2.06-.94L8.5 2.5l-.94 2.06-2.06.94zm10 10l.94 2.06.94-2.06 2.06-.94-2.06-.94-.94-2.06-.94 2.06-2.06.94z\"/><path d=\"M17.41 7.96l-1.37-1.37c-.4-.4-.92-.59-1.43-.59-.52 0-1.04.2-1.43.59L10.3 9.45l-7.72 7.72c-.78.78-.78 2.05 0 2.83L4 21.41c.39.39.9.59 1.41.59.51 0 1.02-.2 1.41-.59l7.78-7.78 2.81-2.81c.8-.78.8-2.07 0-2.86zM5.41 20L4 18.59l7.72-7.72 1.47 1.35L5.41 20z\"/>\n",
              "  </svg>\n",
              "      </button>\n",
              "      \n",
              "  <style>\n",
              "    .colab-df-container {\n",
              "      display:flex;\n",
              "      flex-wrap:wrap;\n",
              "      gap: 12px;\n",
              "    }\n",
              "\n",
              "    .colab-df-convert {\n",
              "      background-color: #E8F0FE;\n",
              "      border: none;\n",
              "      border-radius: 50%;\n",
              "      cursor: pointer;\n",
              "      display: none;\n",
              "      fill: #1967D2;\n",
              "      height: 32px;\n",
              "      padding: 0 0 0 0;\n",
              "      width: 32px;\n",
              "    }\n",
              "\n",
              "    .colab-df-convert:hover {\n",
              "      background-color: #E2EBFA;\n",
              "      box-shadow: 0px 1px 2px rgba(60, 64, 67, 0.3), 0px 1px 3px 1px rgba(60, 64, 67, 0.15);\n",
              "      fill: #174EA6;\n",
              "    }\n",
              "\n",
              "    [theme=dark] .colab-df-convert {\n",
              "      background-color: #3B4455;\n",
              "      fill: #D2E3FC;\n",
              "    }\n",
              "\n",
              "    [theme=dark] .colab-df-convert:hover {\n",
              "      background-color: #434B5C;\n",
              "      box-shadow: 0px 1px 3px 1px rgba(0, 0, 0, 0.15);\n",
              "      filter: drop-shadow(0px 1px 2px rgba(0, 0, 0, 0.3));\n",
              "      fill: #FFFFFF;\n",
              "    }\n",
              "  </style>\n",
              "\n",
              "      <script>\n",
              "        const buttonEl =\n",
              "          document.querySelector('#df-20933759-879a-4ecf-b93d-1e55a50fd95b button.colab-df-convert');\n",
              "        buttonEl.style.display =\n",
              "          google.colab.kernel.accessAllowed ? 'block' : 'none';\n",
              "\n",
              "        async function convertToInteractive(key) {\n",
              "          const element = document.querySelector('#df-20933759-879a-4ecf-b93d-1e55a50fd95b');\n",
              "          const dataTable =\n",
              "            await google.colab.kernel.invokeFunction('convertToInteractive',\n",
              "                                                     [key], {});\n",
              "          if (!dataTable) return;\n",
              "\n",
              "          const docLinkHtml = 'Like what you see? Visit the ' +\n",
              "            '<a target=\"_blank\" href=https://colab.research.google.com/notebooks/data_table.ipynb>data table notebook</a>'\n",
              "            + ' to learn more about interactive tables.';\n",
              "          element.innerHTML = '';\n",
              "          dataTable['output_type'] = 'display_data';\n",
              "          await google.colab.output.renderOutput(dataTable, element);\n",
              "          const docLink = document.createElement('div');\n",
              "          docLink.innerHTML = docLinkHtml;\n",
              "          element.appendChild(docLink);\n",
              "        }\n",
              "      </script>\n",
              "    </div>\n",
              "  </div>\n",
              "  "
            ]
          },
          "metadata": {},
          "execution_count": 83
        }
      ]
    },
    {
      "cell_type": "markdown",
      "source": [
        "3. Create kNN and SVM models.\n",
        "4. Do k-fold and stratified stratified k-fold cross validation techniques and find the average accuracy score of the models"
      ],
      "metadata": {
        "id": "ygptlFYSLf6x"
      }
    },
    {
      "cell_type": "markdown",
      "source": [
        "1. KNN Model"
      ],
      "metadata": {
        "id": "WaKmsjb6GtyJ"
      }
    },
    {
      "cell_type": "code",
      "source": [
        "\n",
        "x=data1.drop('Survived',axis=1)#x is the independent variables\n",
        "y=data1['Survived']#y is the target variable"
      ],
      "metadata": {
        "id": "5CG_qJe0INzF"
      },
      "execution_count": 84,
      "outputs": []
    },
    {
      "cell_type": "code",
      "source": [
        "\n",
        "from sklearn.model_selection import train_test_split"
      ],
      "metadata": {
        "id": "HPppacTbIjeF"
      },
      "execution_count": 85,
      "outputs": []
    },
    {
      "cell_type": "code",
      "source": [
        "x_train,x_test,y_train,y_test=train_test_split(x,y,test_size=0.25,random_state=42)"
      ],
      "metadata": {
        "id": "CS9R86YLIp9I"
      },
      "execution_count": 86,
      "outputs": []
    },
    {
      "cell_type": "code",
      "source": [
        "from sklearn.neighbors import KNeighborsClassifier\n",
        "metric_knn=[]#empty list\n",
        "n_neighbors=np.arange(3,15)#k value from 3 to 14"
      ],
      "metadata": {
        "id": "BEuv1Jh7IvIJ"
      },
      "execution_count": 87,
      "outputs": []
    },
    {
      "cell_type": "code",
      "source": [
        "\n",
        "from sklearn.metrics import confusion_matrix,precision_score,recall_score,f1_score,accuracy_score"
      ],
      "metadata": {
        "id": "jB6P-CDYI562"
      },
      "execution_count": 88,
      "outputs": []
    },
    {
      "cell_type": "code",
      "source": [
        "for k in n_neighbors:\n",
        " knn_clf=KNeighborsClassifier(n_neighbors=k)\n",
        " model_knn=knn_clf.fit(x_train,y_train)\n",
        " y_pred_knn=model_knn.predict(x_test)\n",
        " acc=accuracy_score(y_test,y_pred_knn)\n",
        " metric_knn.append(acc)#appending accuracy of model for each k values"
      ],
      "metadata": {
        "id": "LX7K2xIJJC5P"
      },
      "execution_count": 89,
      "outputs": []
    },
    {
      "cell_type": "code",
      "source": [
        "\n",
        "metric_knn"
      ],
      "metadata": {
        "colab": {
          "base_uri": "https://localhost:8080/"
        },
        "id": "1EoriiR3JOVJ",
        "outputId": "1f5496aa-505f-415b-8808-86f848d101da"
      },
      "execution_count": 90,
      "outputs": [
        {
          "output_type": "execute_result",
          "data": {
            "text/plain": [
              "[0.7010869565217391,\n",
              " 0.7228260869565217,\n",
              " 0.7717391304347826,\n",
              " 0.75,\n",
              " 0.7608695652173914,\n",
              " 0.7336956521739131,\n",
              " 0.7608695652173914,\n",
              " 0.7445652173913043,\n",
              " 0.75,\n",
              " 0.7445652173913043,\n",
              " 0.7608695652173914,\n",
              " 0.75]"
            ]
          },
          "metadata": {},
          "execution_count": 90
        }
      ]
    },
    {
      "cell_type": "code",
      "source": [
        "#Ploting line graph of accuracy of model for each value of k"
      ],
      "metadata": {
        "id": "GhH9xlj0OZ61"
      },
      "execution_count": null,
      "outputs": []
    },
    {
      "cell_type": "code",
      "source": [
        "plt.plot(n_neighbors,metric_knn,'o-')\n",
        "plt.xlabel('k value')\n",
        "plt.ylabel('accuracy')\n",
        "plt.grid()"
      ],
      "metadata": {
        "colab": {
          "base_uri": "https://localhost:8080/",
          "height": 279
        },
        "id": "omLgZlGoJTnw",
        "outputId": "a46e6561-428b-4013-ce04-78f07b6661c2"
      },
      "execution_count": 91,
      "outputs": [
        {
          "output_type": "display_data",
          "data": {
            "text/plain": [
              "<Figure size 432x288 with 1 Axes>"
            ],
            "image/png": "[encoded data removed]"
          },
          "metadata": {
            "needs_background": "light"
          }
        }
      ]
    },
    {
      "cell_type": "code",
      "source": [
        "#accuracy is more for k=5,so creating model using k=5"
      ],
      "metadata": {
        "id": "TDSYGXtlOhQi"
      },
      "execution_count": null,
      "outputs": []
    },
    {
      "cell_type": "code",
      "source": [
        "knn_clf=KNeighborsClassifier(n_neighbors=5)\n",
        "model_knn=knn_clf.fit(x_train,y_train)\n",
        "y_pred_knn=model_knn.predict(x_test)"
      ],
      "metadata": {
        "id": "8CrLJKf1JmWX"
      },
      "execution_count": 92,
      "outputs": []
    },
    {
      "cell_type": "code",
      "source": [
        "print(confusion_matrix(y_test,y_pred_knn))"
      ],
      "metadata": {
        "colab": {
          "base_uri": "https://localhost:8080/"
        },
        "id": "cG9GcNr5JtTH",
        "outputId": "5fd3604a-5434-4ab6-9b08-971951598802"
      },
      "execution_count": 93,
      "outputs": [
        {
          "output_type": "stream",
          "name": "stdout",
          "text": [
            "[[91 18]\n",
            " [24 51]]\n"
          ]
        }
      ]
    },
    {
      "cell_type": "code",
      "source": [
        "print(accuracy_score(y_test,y_pred_knn))"
      ],
      "metadata": {
        "colab": {
          "base_uri": "https://localhost:8080/"
        },
        "id": "6WYNi1ukJxRP",
        "outputId": "51d883bb-7ce4-4df9-aa33-4a8f436630db"
      },
      "execution_count": 94,
      "outputs": [
        {
          "output_type": "stream",
          "name": "stdout",
          "text": [
            "0.7717391304347826\n"
          ]
        }
      ]
    },
    {
      "cell_type": "code",
      "source": [
        "\n",
        "\n",
        "print(precision_score(y_test,y_pred_knn))"
      ],
      "metadata": {
        "colab": {
          "base_uri": "https://localhost:8080/"
        },
        "id": "lVUa2qU5J3iK",
        "outputId": "23a203de-c991-4d4b-be2e-5d5d22126498"
      },
      "execution_count": 95,
      "outputs": [
        {
          "output_type": "stream",
          "name": "stdout",
          "text": [
            "0.7391304347826086\n"
          ]
        }
      ]
    },
    {
      "cell_type": "code",
      "source": [
        "print(recall_score(y_test,y_pred_knn))"
      ],
      "metadata": {
        "colab": {
          "base_uri": "https://localhost:8080/"
        },
        "id": "IKtgM5xKJ96B",
        "outputId": "56b1c01f-7783-432f-9cf6-62dbe0a9e7b4"
      },
      "execution_count": 96,
      "outputs": [
        {
          "output_type": "stream",
          "name": "stdout",
          "text": [
            "0.68\n"
          ]
        }
      ]
    },
    {
      "cell_type": "markdown",
      "source": [
        "K Fold Cross Validation of KNN Model"
      ],
      "metadata": {
        "id": "InXxO-XlKE9g"
      }
    },
    {
      "cell_type": "code",
      "source": [
        "from sklearn.model_selection import KFold"
      ],
      "metadata": {
        "id": "MQO29lXjKKz2"
      },
      "execution_count": 97,
      "outputs": []
    },
    {
      "cell_type": "code",
      "source": [
        "kfold_validator_knn=KFold(10,shuffle=True,random_state=42)"
      ],
      "metadata": {
        "id": "FLEGfng5KO1d"
      },
      "execution_count": 98,
      "outputs": []
    },
    {
      "cell_type": "code",
      "source": [
        "for train_index,test_index in kfold_validator_knn.split(x,y):\n",
        "  print('Training Index',train_index)\n",
        "  print('Testing Index',test_index)"
      ],
      "metadata": {
        "colab": {
          "base_uri": "https://localhost:8080/"
        },
        "id": "xofaINJUKTzT",
        "outputId": "0ce5a33f-d175-4e64-a604-5662820df381"
      },
      "execution_count": 99,
      "outputs": [
        {
          "output_type": "stream",
          "name": "stdout",
          "text": [
            "Training Index [  0   1   2   3   4   5   6   7   8   9  11  12  13  14  15  16  17  18\n",
            "  19  20  21  22  23  24  25  26  27  28  29  30  31  32  34  35  36  37\n",
            "  38  40  41  42  43  44  45  46  47  48  50  51  52  53  55  56  57  58\n",
            "  59  60  61  62  64  67  68  69  70  71  73  74  75  76  79  80  82  83\n",
            "  84  85  86  87  88  89  90  91  92  93  94  95  96  98  99 100 101 102\n",
            " 103 104 105 106 107 108 110 111 112 113 114 115 116 117 119 120 121 122\n",
            " 123 124 125 126 127 128 129 130 131 132 133 134 135 136 137 138 139 140\n",
            " 141 142 143 144 145 146 147 149 150 151 152 153 154 155 156 157 158 159\n",
            " 160 161 162 163 164 165 166 167 168 169 170 171 172 173 175 176 177 178\n",
            " 179 180 181 182 183 184 185 186 187 188 189 190 191 193 194 195 196 197\n",
            " 200 201 202 203 204 205 206 207 208 209 210 213 214 216 217 218 219 220\n",
            " 221 222 223 224 225 226 227 228 229 230 231 232 233 234 235 236 237 238\n",
            " 239 240 241 242 243 244 245 246 249 250 251 252 253 254 255 256 257 258\n",
            " 259 260 261 262 263 265 267 268 269 270 271 272 273 274 275 276 277 278\n",
            " 279 280 281 282 283 284 285 286 287 288 289 290 291 292 293 295 296 297\n",
            " 298 299 300 301 302 303 304 305 307 308 309 310 312 313 314 315 316 317\n",
            " 318 319 320 321 322 323 325 326 327 328 329 330 331 333 335 336 337 338\n",
            " 339 340 341 343 344 345 346 347 348 349 350 351 352 353 354 356 357 358\n",
            " 359 362 363 364 365 366 367 368 369 370 371 372 373 374 376 377 378 379\n",
            " 381 382 383 384 385 386 387 388 389 391 392 393 394 395 397 399 400 401\n",
            " 402 403 404 405 406 407 408 410 412 413 414 415 416 418 419 421 422 423\n",
            " 424 425 426 427 428 429 430 431 432 433 434 435 437 438 439 440 441 442\n",
            " 443 444 445 446 447 450 451 452 454 455 456 457 458 459 460 461 462 463\n",
            " 464 465 466 467 471 472 473 474 475 476 477 478 479 480 481 482 483 484\n",
            " 486 487 488 489 490 491 492 493 494 495 496 497 498 499 500 501 502 503\n",
            " 504 505 506 507 508 509 510 511 512 513 514 515 516 518 519 520 521 522\n",
            " 523 524 525 526 528 529 530 531 532 533 534 535 536 537 538 539 540 541\n",
            " 542 543 544 545 546 547 548 550 551 552 553 555 556 557 558 559 560 561\n",
            " 562 563 564 565 566 567 568 569 571 572 573 574 575 576 577 578 579 580\n",
            " 581 582 584 586 588 589 590 591 592 593 594 595 596 597 598 599 600 601\n",
            " 602 603 604 605 606 607 608 610 612 613 614 615 616 617 618 620 621 622\n",
            " 623 624 625 626 627 628 630 631 632 633 634 635 636 637 638 639 640 641\n",
            " 642 643 644 645 646 647 648 649 650 651 652 653 654 656 657 658 659 660\n",
            " 661 662 663 664 665 667 668 670 671 672 673 674 675 676 677 678 679 681\n",
            " 682 683 684 685 686 687 688 689 690 691 692 693 694 695 696 697 698 699\n",
            " 700 701 704 705 706 707 708 709 710 711 712 713 714 715 717 718 719 720\n",
            " 721 723 724 725 726 727 728 729 730 731 732 733 734 735]\n",
            "Testing Index [ 10  33  39  49  54  63  65  66  72  77  78  81  97 109 118 148 174 192\n",
            " 198 199 211 212 215 247 248 264 266 294 306 311 324 332 334 342 355 360\n",
            " 361 375 380 390 396 398 409 411 417 420 436 448 449 453 468 469 470 485\n",
            " 517 527 549 554 570 583 585 587 609 611 619 629 655 666 669 680 702 703\n",
            " 716 722]\n",
            "Training Index [  0   1   3   4   5   6   7   8   9  10  11  12  13  14  15  16  17  18\n",
            "  19  20  21  22  24  25  26  27  28  29  32  33  34  35  36  37  38  39\n",
            "  40  41  42  43  45  46  47  48  49  50  51  52  53  54  56  57  58  59\n",
            "  61  62  63  64  65  66  67  68  71  72  73  74  75  77  78  80  81  82\n",
            "  83  85  87  88  89  91  92  93  94  95  96  97  98  99 100 102 103 104\n",
            " 105 106 107 108 109 110 111 112 113 114 115 116 117 118 119 121 122 123\n",
            " 124 125 126 127 128 129 130 132 134 135 136 137 138 139 140 141 142 143\n",
            " 144 145 146 147 148 149 150 151 152 153 154 156 157 159 160 161 162 163\n",
            " 165 166 167 168 169 170 171 172 173 174 175 176 177 178 179 180 181 182\n",
            " 183 184 185 186 187 188 189 190 191 192 193 194 195 196 197 198 199 200\n",
            " 201 202 203 205 206 207 209 211 212 213 214 215 216 217 218 219 220 221\n",
            " 222 224 225 226 227 228 229 230 231 232 233 236 237 238 240 241 242 243\n",
            " 244 245 246 247 248 249 251 252 253 254 255 256 257 258 260 261 262 263\n",
            " 264 265 266 267 268 269 270 271 272 273 274 276 277 278 279 280 281 282\n",
            " 283 284 285 287 288 289 291 292 293 294 295 296 297 298 299 300 301 302\n",
            " 303 304 305 306 307 308 309 310 311 312 313 314 315 316 317 318 320 321\n",
            " 322 324 325 326 327 328 330 332 333 334 335 336 337 338 339 340 341 342\n",
            " 343 344 345 347 348 350 353 354 355 357 358 359 360 361 362 363 364 365\n",
            " 366 367 369 370 371 372 373 374 375 376 377 378 379 380 381 382 383 384\n",
            " 385 386 387 388 389 390 391 392 393 394 395 396 397 398 399 400 401 402\n",
            " 403 405 406 407 409 410 411 412 413 414 415 416 417 418 419 420 421 422\n",
            " 425 426 427 429 431 432 433 434 435 436 437 438 440 441 442 443 444 445\n",
            " 446 447 448 449 451 452 453 454 455 457 458 459 460 461 462 463 464 465\n",
            " 466 467 468 469 470 471 472 473 474 475 476 479 480 481 482 483 484 485\n",
            " 486 488 489 490 491 492 493 494 495 496 497 498 499 500 501 502 504 505\n",
            " 506 507 508 509 510 511 512 513 514 515 516 517 518 519 520 521 522 523\n",
            " 524 525 526 527 528 529 530 531 532 533 534 535 536 537 538 539 540 541\n",
            " 542 543 544 545 546 547 548 549 550 551 552 553 554 555 556 557 558 559\n",
            " 560 561 562 563 564 565 566 567 568 569 570 572 573 574 575 577 578 579\n",
            " 580 581 582 583 584 585 586 587 588 589 590 591 592 594 595 596 597 598\n",
            " 600 601 602 603 604 605 607 608 609 611 612 613 614 615 616 618 619 620\n",
            " 621 622 623 624 625 626 627 628 629 630 632 633 634 635 636 637 639 640\n",
            " 641 642 644 645 646 647 648 649 650 651 652 653 654 655 656 657 658 660\n",
            " 661 662 663 665 666 667 668 669 670 671 672 673 674 675 676 677 678 679\n",
            " 680 681 682 684 686 687 688 689 690 691 692 693 695 696 697 698 699 700\n",
            " 701 702 703 704 705 706 707 708 709 710 711 712 713 715 716 717 718 719\n",
            " 720 721 722 723 724 725 726 727 728 729 730 733 734 735]\n",
            "Testing Index [  2  23  30  31  44  55  60  69  70  76  79  84  86  90 101 120 131 133\n",
            " 155 158 164 204 208 210 223 234 235 239 250 259 275 286 290 319 323 329\n",
            " 331 346 349 351 352 356 368 404 408 423 424 428 430 439 450 456 477 478\n",
            " 487 503 571 576 593 599 606 610 617 631 638 643 659 664 683 685 694 714\n",
            " 731 732]\n",
            "Training Index [  0   1   2   3   4   5   7   8   9  10  11  12  13  14  15  16  17  19\n",
            "  20  21  22  23  25  26  27  28  30  31  32  33  34  35  36  37  38  39\n",
            "  40  42  43  44  45  46  47  48  49  50  52  53  54  55  57  58  59  60\n",
            "  62  63  64  65  66  67  68  69  70  71  72  74  75  76  77  78  79  80\n",
            "  81  84  85  86  87  88  89  90  91  92  93  94  95  96  97  98  99 100\n",
            " 101 102 103 104 105 106 107 109 111 112 113 114 115 116 117 118 119 120\n",
            " 121 122 123 124 125 126 127 128 129 130 131 133 134 137 138 140 141 142\n",
            " 143 144 146 147 148 149 150 151 152 153 154 155 156 157 158 159 160 161\n",
            " 162 163 164 166 167 168 169 170 171 172 173 174 175 177 178 179 180 183\n",
            " 184 185 186 187 188 189 190 191 192 193 194 195 197 198 199 200 201 202\n",
            " 203 204 205 206 207 208 210 211 212 214 215 216 217 219 221 222 223 224\n",
            " 225 226 228 229 230 232 233 234 235 236 237 238 239 240 241 242 243 244\n",
            " 245 246 247 248 249 250 251 252 253 255 256 257 258 259 260 261 262 263\n",
            " 264 266 267 268 269 270 271 272 273 274 275 276 277 278 279 280 282 283\n",
            " 284 285 286 287 288 289 290 293 294 295 297 298 299 301 303 304 305 306\n",
            " 307 308 309 310 311 312 313 315 316 317 318 319 320 321 322 323 324 325\n",
            " 326 328 329 330 331 332 333 334 335 336 337 338 339 341 342 343 345 346\n",
            " 347 348 349 350 351 352 353 354 355 356 358 359 360 361 362 363 364 365\n",
            " 366 367 368 370 372 373 374 375 376 378 379 380 381 382 383 384 385 386\n",
            " 387 389 390 391 392 393 394 395 396 397 398 399 400 401 402 403 404 406\n",
            " 407 408 409 410 411 413 414 415 416 417 418 419 420 421 422 423 424 425\n",
            " 426 427 428 430 431 432 433 434 435 436 437 438 439 441 442 444 445 446\n",
            " 447 448 449 450 451 452 453 454 455 456 457 458 459 460 461 462 463 464\n",
            " 465 466 467 468 469 470 471 472 474 475 476 477 478 479 480 481 482 483\n",
            " 484 485 487 488 489 490 491 492 493 495 496 498 499 500 501 502 503 504\n",
            " 505 506 507 508 509 510 511 512 513 514 515 516 517 518 519 520 521 522\n",
            " 523 524 525 526 527 528 529 530 531 532 533 534 536 537 538 539 540 541\n",
            " 542 543 546 548 549 550 551 552 553 554 555 556 557 558 559 560 561 562\n",
            " 563 564 565 566 567 568 569 570 571 572 573 574 575 576 577 578 579 580\n",
            " 581 582 583 584 585 586 587 588 589 591 592 593 594 595 596 597 598 599\n",
            " 600 601 602 603 604 605 606 608 609 610 611 612 613 614 615 616 617 619\n",
            " 620 621 622 623 624 625 626 627 628 629 630 631 633 634 635 636 637 638\n",
            " 639 640 641 643 644 645 646 647 649 650 651 652 653 655 656 657 658 659\n",
            " 660 661 662 663 664 665 666 667 668 669 670 671 673 674 675 677 678 679\n",
            " 680 681 682 683 684 685 686 689 690 691 692 693 694 695 697 698 699 700\n",
            " 701 702 703 705 706 707 708 709 710 711 712 714 715 716 717 718 719 720\n",
            " 721 722 723 724 725 726 727 728 729 730 731 732 733 735]\n",
            "Testing Index [  6  18  24  29  41  51  56  61  73  82  83 108 110 132 135 136 139 145\n",
            " 165 176 181 182 196 209 213 218 220 227 231 254 265 281 291 292 296 300\n",
            " 302 314 327 340 344 357 369 371 377 388 405 412 429 440 443 473 486 494\n",
            " 497 535 544 545 547 590 607 618 632 642 648 654 672 676 687 688 696 704\n",
            " 713 734]\n",
            "Training Index [  0   1   2   3   4   5   6   8  10  12  13  14  16  17  18  19  20  21\n",
            "  23  24  25  26  27  29  30  31  32  33  34  35  36  37  38  39  40  41\n",
            "  44  45  46  47  48  49  50  51  52  53  54  55  56  57  58  59  60  61\n",
            "  62  63  64  65  66  67  68  69  70  71  72  73  74  75  76  77  78  79\n",
            "  80  81  82  83  84  85  86  87  88  90  91  94  95  96  97  98  99 100\n",
            " 101 102 103 105 106 107 108 109 110 111 112 113 115 116 117 118 119 120\n",
            " 121 122 123 124 125 126 127 128 129 130 131 132 133 134 135 136 138 139\n",
            " 141 142 143 144 145 146 147 148 149 150 151 152 153 154 155 156 157 158\n",
            " 159 160 161 162 164 165 166 168 169 170 171 172 173 174 175 176 179 180\n",
            " 181 182 183 185 186 187 188 189 190 191 192 193 194 195 196 197 198 199\n",
            " 200 201 202 204 205 206 207 208 209 210 211 212 213 214 215 216 217 218\n",
            " 219 220 222 223 224 225 226 227 228 229 230 231 232 233 234 235 236 237\n",
            " 238 239 240 241 242 243 245 246 247 248 250 251 252 253 254 255 258 259\n",
            " 261 262 263 264 265 266 267 268 269 270 271 272 273 274 275 276 277 278\n",
            " 279 280 281 282 283 285 286 287 288 289 290 291 292 293 294 295 296 297\n",
            " 298 300 301 302 303 304 305 306 307 308 309 310 311 312 313 314 315 316\n",
            " 317 318 319 320 321 322 323 324 325 327 329 330 331 332 333 334 337 339\n",
            " 340 341 342 343 344 345 346 347 348 349 351 352 353 354 355 356 357 358\n",
            " 359 360 361 362 364 365 366 367 368 369 370 371 372 373 374 375 376 377\n",
            " 378 379 380 381 382 383 384 385 386 387 388 389 390 391 392 393 394 396\n",
            " 397 398 399 400 401 402 403 404 405 406 407 408 409 410 411 412 413 414\n",
            " 415 417 418 419 420 421 422 423 424 426 427 428 429 430 431 434 435 436\n",
            " 437 438 439 440 441 442 443 444 445 446 447 448 449 450 451 452 453 454\n",
            " 455 456 457 458 459 460 461 463 466 467 468 469 470 471 472 473 474 475\n",
            " 476 477 478 480 481 482 483 484 485 486 487 488 489 490 491 492 493 494\n",
            " 496 497 498 499 500 502 503 504 505 506 507 508 509 510 511 513 515 516\n",
            " 517 519 520 523 524 525 527 528 529 530 532 533 534 535 536 538 539 540\n",
            " 541 543 544 545 546 547 548 549 550 552 553 554 555 556 557 559 560 561\n",
            " 562 563 564 565 566 567 568 569 570 571 572 573 574 575 576 577 578 580\n",
            " 581 582 583 584 585 586 587 588 589 590 591 592 593 596 597 598 599 600\n",
            " 601 602 603 604 605 606 607 608 609 610 611 612 613 614 616 617 618 619\n",
            " 620 621 622 623 624 625 626 627 628 629 630 631 632 633 634 635 636 637\n",
            " 638 639 640 641 642 643 645 646 647 648 649 650 652 653 654 655 656 657\n",
            " 658 659 661 662 663 664 665 666 668 669 670 671 672 673 674 676 677 678\n",
            " 679 680 681 683 684 685 686 687 688 691 692 693 694 695 696 697 698 700\n",
            " 701 702 703 704 705 706 707 708 709 710 711 712 713 714 715 716 718 719\n",
            " 721 722 724 725 726 727 728 729 730 731 732 733 734 735]\n",
            "Testing Index [  7   9  11  15  22  28  42  43  89  92  93 104 114 137 140 163 167 177\n",
            " 178 184 203 221 244 249 256 257 260 284 299 326 328 335 336 338 350 363\n",
            " 395 416 425 432 433 462 464 465 479 495 501 512 514 518 521 522 526 531\n",
            " 537 542 551 558 579 594 595 615 644 651 660 667 675 682 689 690 699 717\n",
            " 720 723]\n",
            "Training Index [  1   2   3   4   5   6   7   8   9  10  11  12  13  14  15  16  17  18\n",
            "  19  20  21  22  23  24  25  26  27  28  29  30  31  32  33  34  35  36\n",
            "  37  38  39  40  41  42  43  44  45  47  48  49  50  51  52  53  54  55\n",
            "  56  57  58  60  61  62  63  64  65  66  67  69  70  71  72  73  74  76\n",
            "  77  78  79  80  81  82  83  84  85  86  87  89  90  91  92  93  94  95\n",
            "  96  97  98  99 101 102 103 104 105 106 108 109 110 111 112 113 114 115\n",
            " 118 119 120 121 122 123 126 127 128 129 130 131 132 133 134 135 136 137\n",
            " 138 139 140 143 145 146 147 148 150 151 152 154 155 156 157 158 159 160\n",
            " 161 162 163 164 165 166 167 168 169 170 171 172 173 174 175 176 177 178\n",
            " 180 181 182 183 184 186 187 189 190 191 192 193 194 196 197 198 199 200\n",
            " 201 202 203 204 205 206 207 208 209 210 211 212 213 214 215 216 217 218\n",
            " 219 220 221 222 223 224 225 226 227 229 230 231 232 233 234 235 237 239\n",
            " 240 241 242 243 244 245 246 247 248 249 250 251 252 253 254 255 256 257\n",
            " 258 259 260 262 263 264 265 266 267 269 270 272 273 275 276 279 280 281\n",
            " 282 283 284 285 286 287 288 290 291 292 293 294 295 296 297 298 299 300\n",
            " 301 302 303 305 306 308 309 311 312 313 314 315 316 317 319 320 322 323\n",
            " 324 325 326 327 328 329 330 331 332 334 335 336 337 338 339 340 341 342\n",
            " 343 344 345 346 347 348 349 350 351 352 354 355 356 357 358 359 360 361\n",
            " 363 364 365 366 368 369 370 371 372 373 374 375 376 377 378 379 380 383\n",
            " 384 385 386 387 388 389 390 391 392 395 396 397 398 400 401 402 403 404\n",
            " 405 406 407 408 409 410 411 412 413 414 415 416 417 418 419 420 421 422\n",
            " 423 424 425 427 428 429 430 432 433 435 436 437 438 439 440 441 442 443\n",
            " 444 445 448 449 450 451 452 453 454 455 456 457 458 459 460 461 462 463\n",
            " 464 465 466 467 468 469 470 471 472 473 474 475 476 477 478 479 480 482\n",
            " 484 485 486 487 488 489 490 491 492 494 495 496 497 498 500 501 502 503\n",
            " 504 505 506 507 508 509 510 511 512 513 514 515 516 517 518 520 521 522\n",
            " 523 524 525 526 527 528 529 530 531 532 535 537 538 539 540 541 542 543\n",
            " 544 545 546 547 548 549 551 552 553 554 555 556 557 558 559 560 561 562\n",
            " 563 564 565 566 567 568 569 570 571 572 573 574 575 576 577 578 579 580\n",
            " 581 583 584 585 586 587 588 589 590 592 593 594 595 596 597 598 599 600\n",
            " 601 602 603 605 606 607 609 610 611 612 613 614 615 617 618 619 620 621\n",
            " 622 623 625 626 627 628 629 630 631 632 633 634 635 636 637 638 640 642\n",
            " 643 644 645 646 647 648 649 650 651 652 653 654 655 656 657 659 660 661\n",
            " 662 663 664 666 667 668 669 670 671 672 673 674 675 676 677 679 680 681\n",
            " 682 683 684 685 686 687 688 689 690 691 692 693 694 695 696 697 698 699\n",
            " 700 701 702 703 704 705 706 708 709 710 711 712 713 714 715 716 717 718\n",
            " 719 720 721 722 723 724 726 728 729 730 731 732 733 734]\n",
            "Testing Index [  0  46  59  68  75  88 100 107 116 117 124 125 141 142 144 149 153 179\n",
            " 185 188 195 228 236 238 261 268 271 274 277 278 289 304 307 310 318 321\n",
            " 333 353 362 367 381 382 393 394 399 426 431 434 446 447 481 483 493 499\n",
            " 519 533 534 536 550 582 591 604 608 616 624 639 641 658 665 678 707 725\n",
            " 727 735]\n",
            "Training Index [  0   1   2   4   6   7   8   9  10  11  13  14  15  18  20  21  22  23\n",
            "  24  27  28  29  30  31  32  33  34  35  36  37  39  40  41  42  43  44\n",
            "  46  47  49  50  51  52  53  54  55  56  58  59  60  61  62  63  64  65\n",
            "  66  67  68  69  70  71  72  73  74  75  76  77  78  79  80  81  82  83\n",
            "  84  85  86  87  88  89  90  91  92  93  95  97  98  99 100 101 102 103\n",
            " 104 105 106 107 108 109 110 111 112 114 115 116 117 118 119 120 121 122\n",
            " 123 124 125 127 128 129 130 131 132 133 134 135 136 137 138 139 140 141\n",
            " 142 143 144 145 146 147 148 149 150 151 152 153 155 156 157 158 159 160\n",
            " 161 162 163 164 165 166 167 168 170 174 175 176 177 178 179 181 182 183\n",
            " 184 185 186 187 188 189 191 192 193 194 195 196 197 198 199 200 201 202\n",
            " 203 204 205 206 207 208 209 210 211 212 213 214 215 216 217 218 219 220\n",
            " 221 223 224 226 227 228 229 230 231 232 233 234 235 236 237 238 239 240\n",
            " 241 242 243 244 246 247 248 249 250 251 252 253 254 256 257 258 259 260\n",
            " 261 262 263 264 265 266 267 268 269 270 271 273 274 275 276 277 278 279\n",
            " 281 282 284 286 288 289 290 291 292 293 294 295 296 297 299 300 302 303\n",
            " 304 306 307 308 309 310 311 313 314 315 317 318 319 321 323 324 325 326\n",
            " 327 328 329 330 331 332 333 334 335 336 337 338 339 340 342 343 344 345\n",
            " 346 347 348 349 350 351 352 353 355 356 357 358 360 361 362 363 364 365\n",
            " 366 367 368 369 370 371 372 373 374 375 376 377 378 379 380 381 382 383\n",
            " 384 385 386 387 388 389 390 391 392 393 394 395 396 397 398 399 400 401\n",
            " 402 403 404 405 406 407 408 409 410 411 412 413 414 415 416 417 418 419\n",
            " 420 421 423 424 425 426 427 428 429 430 431 432 433 434 435 436 437 438\n",
            " 439 440 441 442 443 444 446 447 448 449 450 452 453 454 455 456 458 459\n",
            " 460 461 462 463 464 465 466 468 469 470 471 472 473 474 475 476 477 478\n",
            " 479 480 481 483 484 485 486 487 488 489 491 492 493 494 495 496 497 498\n",
            " 499 501 502 503 504 505 506 507 508 509 510 512 514 515 516 517 518 519\n",
            " 520 521 522 524 525 526 527 528 529 530 531 532 533 534 535 536 537 538\n",
            " 539 540 542 543 544 545 546 547 549 550 551 552 553 554 555 556 557 558\n",
            " 559 560 561 562 563 564 565 566 567 568 570 571 572 573 574 575 576 577\n",
            " 578 579 580 581 582 583 584 585 586 587 588 590 591 592 593 594 595 596\n",
            " 597 599 600 601 604 605 606 607 608 609 610 611 612 613 614 615 616 617\n",
            " 618 619 620 621 622 623 624 625 626 627 628 629 630 631 632 633 635 636\n",
            " 637 638 639 640 641 642 643 644 645 646 647 648 651 652 653 654 655 656\n",
            " 657 658 659 660 661 662 663 664 665 666 667 668 669 671 672 675 676 678\n",
            " 679 680 681 682 683 685 686 687 688 689 690 691 692 693 694 696 697 698\n",
            " 699 700 701 702 703 704 706 707 709 710 712 713 714 715 716 717 718 719\n",
            " 720 722 723 724 725 727 728 729 730 731 732 733 734 735]\n",
            "Testing Index [  3   5  12  16  17  19  25  26  38  45  48  57  94  96 113 126 154 169\n",
            " 171 172 173 180 190 222 225 245 255 272 280 283 285 287 298 301 305 312\n",
            " 316 320 322 341 354 359 422 445 451 457 467 482 490 500 511 513 523 541\n",
            " 548 569 589 598 602 603 634 649 650 670 673 674 677 684 695 705 708 711\n",
            " 721 726]\n",
            "Training Index [  0   1   2   3   4   5   6   7   9  10  11  12  13  14  15  16  17  18\n",
            "  19  20  21  22  23  24  25  26  27  28  29  30  31  32  33  34  35  38\n",
            "  39  40  41  42  43  44  45  46  47  48  49  51  52  54  55  56  57  58\n",
            "  59  60  61  62  63  64  65  66  68  69  70  71  72  73  75  76  77  78\n",
            "  79  80  81  82  83  84  85  86  87  88  89  90  91  92  93  94  95  96\n",
            "  97  98  99 100 101 102 104 105 106 107 108 109 110 112 113 114 116 117\n",
            " 118 120 121 122 123 124 125 126 128 129 130 131 132 133 134 135 136 137\n",
            " 138 139 140 141 142 143 144 145 146 147 148 149 150 153 154 155 156 158\n",
            " 159 160 161 163 164 165 166 167 169 170 171 172 173 174 176 177 178 179\n",
            " 180 181 182 183 184 185 186 187 188 189 190 191 192 195 196 197 198 199\n",
            " 200 201 202 203 204 205 206 208 209 210 211 212 213 214 215 216 217 218\n",
            " 219 220 221 222 223 224 225 227 228 230 231 232 233 234 235 236 238 239\n",
            " 240 241 242 243 244 245 246 247 248 249 250 251 252 254 255 256 257 258\n",
            " 259 260 261 262 264 265 266 267 268 269 270 271 272 273 274 275 276 277\n",
            " 278 279 280 281 282 283 284 285 286 287 288 289 290 291 292 293 294 295\n",
            " 296 297 298 299 300 301 302 304 305 306 307 308 310 311 312 313 314 315\n",
            " 316 317 318 319 320 321 322 323 324 325 326 327 328 329 330 331 332 333\n",
            " 334 335 336 337 338 339 340 341 342 343 344 345 346 347 348 349 350 351\n",
            " 352 353 354 355 356 357 358 359 360 361 362 363 366 367 368 369 371 372\n",
            " 373 375 376 377 378 379 380 381 382 384 385 386 387 388 389 390 391 392\n",
            " 393 394 395 396 397 398 399 400 401 402 404 405 406 408 409 410 411 412\n",
            " 413 414 415 416 417 418 420 422 423 424 425 426 427 428 429 430 431 432\n",
            " 433 434 435 436 438 439 440 441 443 445 446 447 448 449 450 451 453 454\n",
            " 455 456 457 458 459 460 461 462 463 464 465 466 467 468 469 470 471 472\n",
            " 473 474 475 476 477 478 479 481 482 483 484 485 486 487 488 489 490 491\n",
            " 492 493 494 495 496 497 498 499 500 501 502 503 504 505 508 509 510 511\n",
            " 512 513 514 517 518 519 520 521 522 523 524 526 527 530 531 533 534 535\n",
            " 536 537 538 539 540 541 542 544 545 546 547 548 549 550 551 552 553 554\n",
            " 555 556 558 559 560 561 562 563 564 565 566 567 569 570 571 572 573 574\n",
            " 576 577 579 580 581 582 583 584 585 587 589 590 591 592 593 594 595 598\n",
            " 599 600 601 602 603 604 605 606 607 608 609 610 611 612 614 615 616 617\n",
            " 618 619 621 622 623 624 626 628 629 630 631 632 634 636 638 639 640 641\n",
            " 642 643 644 645 646 647 648 649 650 651 652 653 654 655 656 657 658 659\n",
            " 660 661 662 663 664 665 666 667 668 669 670 671 672 673 674 675 676 677\n",
            " 678 679 680 681 682 683 684 685 686 687 688 689 690 691 694 695 696 697\n",
            " 698 699 700 701 702 703 704 705 707 708 711 712 713 714 715 716 717 718\n",
            " 720 721 722 723 724 725 726 727 729 730 731 732 733 734 735]\n",
            "Testing Index [  8  36  37  50  53  67  74 103 111 115 119 127 151 152 157 162 168 175\n",
            " 193 194 207 226 229 237 253 263 303 309 364 365 370 374 383 403 407 419\n",
            " 421 437 442 444 452 480 506 507 515 516 525 528 529 532 543 557 568 575\n",
            " 578 586 588 596 597 613 620 625 627 633 635 637 692 693 706 709 710 719\n",
            " 728]\n",
            "Training Index [  0   1   2   3   4   5   6   7   8   9  10  11  12  13  14  15  16  17\n",
            "  18  19  20  21  22  23  24  25  26  27  28  29  30  31  32  33  34  35\n",
            "  36  37  38  39  40  41  42  43  44  45  46  47  48  49  50  51  52  53\n",
            "  54  55  56  57  58  59  60  61  62  63  64  65  66  67  68  69  70  71\n",
            "  72  73  74  75  76  77  78  79  80  81  82  83  84  85  86  87  88  89\n",
            "  90  91  92  93  94  95  96  97  98  99 100 101 102 103 104 105 106 107\n",
            " 108 109 110 111 113 114 115 116 117 118 119 120 121 124 125 126 127 128\n",
            " 130 131 132 133 134 135 136 137 138 139 140 141 142 144 145 148 149 151\n",
            " 152 153 154 155 156 157 158 159 160 161 162 163 164 165 166 167 168 169\n",
            " 170 171 172 173 174 175 176 177 178 179 180 181 182 184 185 187 188 189\n",
            " 190 191 192 193 194 195 196 198 199 200 201 203 204 205 206 207 208 209\n",
            " 210 211 212 213 214 215 216 217 218 220 221 222 223 225 226 227 228 229\n",
            " 230 231 234 235 236 237 238 239 240 241 242 243 244 245 247 248 249 250\n",
            " 251 252 253 254 255 256 257 259 260 261 263 264 265 266 268 269 270 271\n",
            " 272 273 274 275 276 277 278 280 281 283 284 285 286 287 288 289 290 291\n",
            " 292 294 295 296 298 299 300 301 302 303 304 305 306 307 308 309 310 311\n",
            " 312 313 314 315 316 318 319 320 321 322 323 324 326 327 328 329 330 331\n",
            " 332 333 334 335 336 337 338 339 340 341 342 343 344 345 346 349 350 351\n",
            " 352 353 354 355 356 357 359 360 361 362 363 364 365 366 367 368 369 370\n",
            " 371 372 374 375 377 378 379 380 381 382 383 385 387 388 389 390 391 392\n",
            " 393 394 395 396 397 398 399 401 403 404 405 406 407 408 409 411 412 413\n",
            " 416 417 418 419 420 421 422 423 424 425 426 427 428 429 430 431 432 433\n",
            " 434 435 436 437 439 440 442 443 444 445 446 447 448 449 450 451 452 453\n",
            " 454 455 456 457 458 459 460 461 462 464 465 466 467 468 469 470 471 473\n",
            " 474 475 476 477 478 479 480 481 482 483 484 485 486 487 489 490 491 492\n",
            " 493 494 495 497 498 499 500 501 502 503 504 506 507 508 510 511 512 513\n",
            " 514 515 516 517 518 519 520 521 522 523 524 525 526 527 528 529 531 532\n",
            " 533 534 535 536 537 540 541 542 543 544 545 546 547 548 549 550 551 553\n",
            " 554 555 556 557 558 560 561 562 563 564 565 566 568 569 570 571 573 574\n",
            " 575 576 577 578 579 582 583 585 586 587 588 589 590 591 592 593 594 595\n",
            " 596 597 598 599 600 602 603 604 606 607 608 609 610 611 612 613 614 615\n",
            " 616 617 618 619 620 621 622 623 624 625 627 628 629 630 631 632 633 634\n",
            " 635 637 638 639 641 642 643 644 645 646 647 648 649 650 651 654 655 656\n",
            " 658 659 660 661 663 664 665 666 667 669 670 672 673 674 675 676 677 678\n",
            " 680 681 682 683 684 685 686 687 688 689 690 691 692 693 694 695 696 697\n",
            " 699 700 702 703 704 705 706 707 708 709 710 711 713 714 715 716 717 718\n",
            " 719 720 721 722 723 725 726 727 728 729 731 732 733 734 735]\n",
            "Testing Index [112 122 123 129 143 146 147 150 183 186 197 202 219 224 232 233 246 258\n",
            " 262 267 279 282 293 297 317 325 347 348 358 373 376 384 386 400 402 410\n",
            " 414 415 438 441 463 472 488 496 505 509 530 538 539 552 559 567 572 580\n",
            " 581 584 601 605 626 636 640 652 653 657 662 668 671 679 698 701 712 724\n",
            " 730]\n",
            "Training Index [  0   1   2   3   5   6   7   8   9  10  11  12  13  15  16  17  18  19\n",
            "  20  21  22  23  24  25  26  28  29  30  31  33  34  36  37  38  39  41\n",
            "  42  43  44  45  46  48  49  50  51  53  54  55  56  57  58  59  60  61\n",
            "  63  65  66  67  68  69  70  71  72  73  74  75  76  77  78  79  80  81\n",
            "  82  83  84  86  87  88  89  90  91  92  93  94  96  97  99 100 101 102\n",
            " 103 104 105 106 107 108 109 110 111 112 113 114 115 116 117 118 119 120\n",
            " 121 122 123 124 125 126 127 129 130 131 132 133 135 136 137 139 140 141\n",
            " 142 143 144 145 146 147 148 149 150 151 152 153 154 155 157 158 160 162\n",
            " 163 164 165 166 167 168 169 171 172 173 174 175 176 177 178 179 180 181\n",
            " 182 183 184 185 186 188 189 190 191 192 193 194 195 196 197 198 199 202\n",
            " 203 204 205 207 208 209 210 211 212 213 214 215 218 219 220 221 222 223\n",
            " 224 225 226 227 228 229 231 232 233 234 235 236 237 238 239 241 243 244\n",
            " 245 246 247 248 249 250 252 253 254 255 256 257 258 259 260 261 262 263\n",
            " 264 265 266 267 268 270 271 272 273 274 275 276 277 278 279 280 281 282\n",
            " 283 284 285 286 287 289 290 291 292 293 294 296 297 298 299 300 301 302\n",
            " 303 304 305 306 307 308 309 310 311 312 313 314 315 316 317 318 319 320\n",
            " 321 322 323 324 325 326 327 328 329 330 331 332 333 334 335 336 338 339\n",
            " 340 341 342 343 344 345 346 347 348 349 350 351 352 353 354 355 356 357\n",
            " 358 359 360 361 362 363 364 365 366 367 368 369 370 371 372 373 374 375\n",
            " 376 377 380 381 382 383 384 385 386 387 388 389 390 393 394 395 396 398\n",
            " 399 400 401 402 403 404 405 407 408 409 410 411 412 413 414 415 416 417\n",
            " 419 420 421 422 423 424 425 426 427 428 429 430 431 432 433 434 435 436\n",
            " 437 438 439 440 441 442 443 444 445 446 447 448 449 450 451 452 453 454\n",
            " 456 457 458 459 462 463 464 465 466 467 468 469 470 472 473 474 475 476\n",
            " 477 478 479 480 481 482 483 484 485 486 487 488 490 491 493 494 495 496\n",
            " 497 499 500 501 503 504 505 506 507 508 509 510 511 512 513 514 515 516\n",
            " 517 518 519 521 522 523 525 526 527 528 529 530 531 532 533 534 535 536\n",
            " 537 538 539 541 542 543 544 545 547 548 549 550 551 552 554 557 558 559\n",
            " 560 561 562 564 565 566 567 568 569 570 571 572 575 576 578 579 580 581\n",
            " 582 583 584 585 586 587 588 589 590 591 593 594 595 596 597 598 599 600\n",
            " 601 602 603 604 605 606 607 608 609 610 611 613 614 615 616 617 618 619\n",
            " 620 624 625 626 627 629 631 632 633 634 635 636 637 638 639 640 641 642\n",
            " 643 644 646 648 649 650 651 652 653 654 655 657 658 659 660 661 662 663\n",
            " 664 665 666 667 668 669 670 671 672 673 674 675 676 677 678 679 680 681\n",
            " 682 683 684 685 686 687 688 689 690 692 693 694 695 696 697 698 699 700\n",
            " 701 702 703 704 705 706 707 708 709 710 711 712 713 714 716 717 718 719\n",
            " 720 721 722 723 724 725 726 727 728 729 730 731 732 734 735]\n",
            "Testing Index [  4  14  27  32  35  40  47  52  62  64  85  95  98 128 134 138 156 159\n",
            " 161 170 187 200 201 206 216 217 230 240 242 251 269 288 295 337 378 379\n",
            " 391 392 397 406 418 455 460 461 471 489 492 498 502 520 524 540 546 553\n",
            " 555 556 563 573 574 577 592 612 621 622 623 628 630 645 647 656 691 715\n",
            " 733]\n",
            "Training Index [  0   2   3   4   5   6   7   8   9  10  11  12  14  15  16  17  18  19\n",
            "  22  23  24  25  26  27  28  29  30  31  32  33  35  36  37  38  39  40\n",
            "  41  42  43  44  45  46  47  48  49  50  51  52  53  54  55  56  57  59\n",
            "  60  61  62  63  64  65  66  67  68  69  70  72  73  74  75  76  77  78\n",
            "  79  81  82  83  84  85  86  88  89  90  92  93  94  95  96  97  98 100\n",
            " 101 103 104 107 108 109 110 111 112 113 114 115 116 117 118 119 120 122\n",
            " 123 124 125 126 127 128 129 131 132 133 134 135 136 137 138 139 140 141\n",
            " 142 143 144 145 146 147 148 149 150 151 152 153 154 155 156 157 158 159\n",
            " 161 162 163 164 165 167 168 169 170 171 172 173 174 175 176 177 178 179\n",
            " 180 181 182 183 184 185 186 187 188 190 192 193 194 195 196 197 198 199\n",
            " 200 201 202 203 204 206 207 208 209 210 211 212 213 215 216 217 218 219\n",
            " 220 221 222 223 224 225 226 227 228 229 230 231 232 233 234 235 236 237\n",
            " 238 239 240 242 244 245 246 247 248 249 250 251 253 254 255 256 257 258\n",
            " 259 260 261 262 263 264 265 266 267 268 269 271 272 274 275 277 278 279\n",
            " 280 281 282 283 284 285 286 287 288 289 290 291 292 293 294 295 296 297\n",
            " 298 299 300 301 302 303 304 305 306 307 309 310 311 312 314 316 317 318\n",
            " 319 320 321 322 323 324 325 326 327 328 329 331 332 333 334 335 336 337\n",
            " 338 340 341 342 344 346 347 348 349 350 351 352 353 354 355 356 357 358\n",
            " 359 360 361 362 363 364 365 367 368 369 370 371 373 374 375 376 377 378\n",
            " 379 380 381 382 383 384 386 388 390 391 392 393 394 395 396 397 398 399\n",
            " 400 402 403 404 405 406 407 408 409 410 411 412 414 415 416 417 418 419\n",
            " 420 421 422 423 424 425 426 428 429 430 431 432 433 434 436 437 438 439\n",
            " 440 441 442 443 444 445 446 447 448 449 450 451 452 453 455 456 457 460\n",
            " 461 462 463 464 465 467 468 469 470 471 472 473 477 478 479 480 481 482\n",
            " 483 485 486 487 488 489 490 492 493 494 495 496 497 498 499 500 501 502\n",
            " 503 505 506 507 509 511 512 513 514 515 516 517 518 519 520 521 522 523\n",
            " 524 525 526 527 528 529 530 531 532 533 534 535 536 537 538 539 540 541\n",
            " 542 543 544 545 546 547 548 549 550 551 552 553 554 555 556 557 558 559\n",
            " 563 567 568 569 570 571 572 573 574 575 576 577 578 579 580 581 582 583\n",
            " 584 585 586 587 588 589 590 591 592 593 594 595 596 597 598 599 601 602\n",
            " 603 604 605 606 607 608 609 610 611 612 613 615 616 617 618 619 620 621\n",
            " 622 623 624 625 626 627 628 629 630 631 632 633 634 635 636 637 638 639\n",
            " 640 641 642 643 644 645 647 648 649 650 651 652 653 654 655 656 657 658\n",
            " 659 660 662 664 665 666 667 668 669 670 671 672 673 674 675 676 677 678\n",
            " 679 680 682 683 684 685 687 688 689 690 691 692 693 694 695 696 698 699\n",
            " 701 702 703 704 705 706 707 708 709 710 711 712 713 714 715 716 717 719\n",
            " 720 721 722 723 724 725 726 727 728 730 731 732 733 734 735]\n",
            "Testing Index [  1  13  20  21  34  58  71  80  87  91  99 102 105 106 121 130 160 166\n",
            " 189 191 205 214 241 243 252 270 273 276 308 313 315 330 339 343 345 366\n",
            " 372 385 387 389 401 413 427 435 454 458 459 466 474 475 476 484 491 504\n",
            " 508 510 560 561 562 564 565 566 600 614 646 661 663 681 686 697 700 718\n",
            " 729]\n"
          ]
        }
      ]
    },
    {
      "cell_type": "code",
      "source": [
        "from sklearn.model_selection import cross_val_score"
      ],
      "metadata": {
        "id": "lOl6aiXnKZDU"
      },
      "execution_count": 100,
      "outputs": []
    },
    {
      "cell_type": "code",
      "source": [
        "cv_result_knn=cross_val_score(model_knn,x,y,cv=kfold_validator_knn)"
      ],
      "metadata": {
        "id": "vodzemF8KdzM"
      },
      "execution_count": 102,
      "outputs": []
    },
    {
      "cell_type": "code",
      "source": [
        "cv_result_knn #k fold cross validation scores"
      ],
      "metadata": {
        "colab": {
          "base_uri": "https://localhost:8080/"
        },
        "id": "mMHazz8fKkqL",
        "outputId": "b16a2958-f5f8-4066-9270-1c0ab7133d9c"
      },
      "execution_count": 103,
      "outputs": [
        {
          "output_type": "execute_result",
          "data": {
            "text/plain": [
              "array([0.66216216, 0.85135135, 0.82432432, 0.7972973 , 0.72972973,\n",
              "       0.83783784, 0.76712329, 0.7260274 , 0.7260274 , 0.76712329])"
            ]
          },
          "metadata": {},
          "execution_count": 103
        }
      ]
    },
    {
      "cell_type": "code",
      "source": [
        "np.mean(cv_result_knn)"
      ],
      "metadata": {
        "colab": {
          "base_uri": "https://localhost:8080/"
        },
        "id": "ZIWN6VMGKpFh",
        "outputId": "7f9a7ba8-3400-4470-abe8-27a51183f1bf"
      },
      "execution_count": 104,
      "outputs": [
        {
          "output_type": "execute_result",
          "data": {
            "text/plain": [
              "0.7689004072565716"
            ]
          },
          "metadata": {},
          "execution_count": 104
        }
      ]
    },
    {
      "cell_type": "markdown",
      "source": [
        "Stratified K Fold Cross Validation of KNN Model"
      ],
      "metadata": {
        "id": "FJbliOvUKt-b"
      }
    },
    {
      "cell_type": "code",
      "source": [
        "from sklearn.model_selection import StratifiedKFold"
      ],
      "metadata": {
        "id": "NF4XnerOKvqT"
      },
      "execution_count": 105,
      "outputs": []
    },
    {
      "cell_type": "code",
      "source": [
        "skfold_validator=StratifiedKFold(n_splits=10)"
      ],
      "metadata": {
        "id": "NP1MkD9HK3cv"
      },
      "execution_count": 106,
      "outputs": []
    },
    {
      "cell_type": "code",
      "source": [
        "for train_index,test_index in skfold_validator.split(x,y):\n",
        "  print('Training Index',train_index)\n",
        "  print('Testing Index',test_index)"
      ],
      "metadata": {
        "colab": {
          "base_uri": "https://localhost:8080/"
        },
        "id": "pExOy3J3K7TW",
        "outputId": "8efb5c12-310d-4077-86ac-03a4b16ac469"
      },
      "execution_count": 107,
      "outputs": [
        {
          "output_type": "stream",
          "name": "stdout",
          "text": [
            "Training Index [ 61  65  66  68  69  71  72  81  82  83  84  85  86  87  88  89  90  91\n",
            "  92  93  94  95  96  97  98  99 100 101 102 103 104 105 106 107 108 109\n",
            " 110 111 112 113 114 115 116 117 118 119 120 121 122 123 124 125 126 127\n",
            " 128 129 130 131 132 133 134 135 136 137 138 139 140 141 142 143 144 145\n",
            " 146 147 148 149 150 151 152 153 154 155 156 157 158 159 160 161 162 163\n",
            " 164 165 166 167 168 169 170 171 172 173 174 175 176 177 178 179 180 181\n",
            " 182 183 184 185 186 187 188 189 190 191 192 193 194 195 196 197 198 199\n",
            " 200 201 202 203 204 205 206 207 208 209 210 211 212 213 214 215 216 217\n",
            " 218 219 220 221 222 223 224 225 226 227 228 229 230 231 232 233 234 235\n",
            " 236 237 238 239 240 241 242 243 244 245 246 247 248 249 250 251 252 253\n",
            " 254 255 256 257 258 259 260 261 262 263 264 265 266 267 268 269 270 271\n",
            " 272 273 274 275 276 277 278 279 280 281 282 283 284 285 286 287 288 289\n",
            " 290 291 292 293 294 295 296 297 298 299 300 301 302 303 304 305 306 307\n",
            " 308 309 310 311 312 313 314 315 316 317 318 319 320 321 322 323 324 325\n",
            " 326 327 328 329 330 331 332 333 334 335 336 337 338 339 340 341 342 343\n",
            " 344 345 346 347 348 349 350 351 352 353 354 355 356 357 358 359 360 361\n",
            " 362 363 364 365 366 367 368 369 370 371 372 373 374 375 376 377 378 379\n",
            " 380 381 382 383 384 385 386 387 388 389 390 391 392 393 394 395 396 397\n",
            " 398 399 400 401 402 403 404 405 406 407 408 409 410 411 412 413 414 415\n",
            " 416 417 418 419 420 421 422 423 424 425 426 427 428 429 430 431 432 433\n",
            " 434 435 436 437 438 439 440 441 442 443 444 445 446 447 448 449 450 451\n",
            " 452 453 454 455 456 457 458 459 460 461 462 463 464 465 466 467 468 469\n",
            " 470 471 472 473 474 475 476 477 478 479 480 481 482 483 484 485 486 487\n",
            " 488 489 490 491 492 493 494 495 496 497 498 499 500 501 502 503 504 505\n",
            " 506 507 508 509 510 511 512 513 514 515 516 517 518 519 520 521 522 523\n",
            " 524 525 526 527 528 529 530 531 532 533 534 535 536 537 538 539 540 541\n",
            " 542 543 544 545 546 547 548 549 550 551 552 553 554 555 556 557 558 559\n",
            " 560 561 562 563 564 565 566 567 568 569 570 571 572 573 574 575 576 577\n",
            " 578 579 580 581 582 583 584 585 586 587 588 589 590 591 592 593 594 595\n",
            " 596 597 598 599 600 601 602 603 604 605 606 607 608 609 610 611 612 613\n",
            " 614 615 616 617 618 619 620 621 622 623 624 625 626 627 628 629 630 631\n",
            " 632 633 634 635 636 637 638 639 640 641 642 643 644 645 646 647 648 649\n",
            " 650 651 652 653 654 655 656 657 658 659 660 661 662 663 664 665 666 667\n",
            " 668 669 670 671 672 673 674 675 676 677 678 679 680 681 682 683 684 685\n",
            " 686 687 688 689 690 691 692 693 694 695 696 697 698 699 700 701 702 703\n",
            " 704 705 706 707 708 709 710 711 712 713 714 715 716 717 718 719 720 721\n",
            " 722 723 724 725 726 727 728 729 730 731 732 733 734 735]\n",
            "Testing Index [ 0  1  2  3  4  5  6  7  8  9 10 11 12 13 14 15 16 17 18 19 20 21 22 23\n",
            " 24 25 26 27 28 29 30 31 32 33 34 35 36 37 38 39 40 41 42 43 44 45 46 47\n",
            " 48 49 50 51 52 53 54 55 56 57 58 59 60 62 63 64 67 70 73 74 75 76 77 78\n",
            " 79 80]\n",
            "Training Index [  0   1   2   3   4   5   6   7   8   9  10  11  12  13  14  15  16  17\n",
            "  18  19  20  21  22  23  24  25  26  27  28  29  30  31  32  33  34  35\n",
            "  36  37  38  39  40  41  42  43  44  45  46  47  48  49  50  51  52  53\n",
            "  54  55  56  57  58  59  60  62  63  64  67  70  73  74  75  76  77  78\n",
            "  79  80 146 149 150 151 152 153 154 155 156 157 158 159 160 161 162 163\n",
            " 164 165 166 167 168 169 170 171 172 173 174 175 176 177 178 179 180 181\n",
            " 182 183 184 185 186 187 188 189 190 191 192 193 194 195 196 197 198 199\n",
            " 200 201 202 203 204 205 206 207 208 209 210 211 212 213 214 215 216 217\n",
            " 218 219 220 221 222 223 224 225 226 227 228 229 230 231 232 233 234 235\n",
            " 236 237 238 239 240 241 242 243 244 245 246 247 248 249 250 251 252 253\n",
            " 254 255 256 257 258 259 260 261 262 263 264 265 266 267 268 269 270 271\n",
            " 272 273 274 275 276 277 278 279 280 281 282 283 284 285 286 287 288 289\n",
            " 290 291 292 293 294 295 296 297 298 299 300 301 302 303 304 305 306 307\n",
            " 308 309 310 311 312 313 314 315 316 317 318 319 320 321 322 323 324 325\n",
            " 326 327 328 329 330 331 332 333 334 335 336 337 338 339 340 341 342 343\n",
            " 344 345 346 347 348 349 350 351 352 353 354 355 356 357 358 359 360 361\n",
            " 362 363 364 365 366 367 368 369 370 371 372 373 374 375 376 377 378 379\n",
            " 380 381 382 383 384 385 386 387 388 389 390 391 392 393 394 395 396 397\n",
            " 398 399 400 401 402 403 404 405 406 407 408 409 410 411 412 413 414 415\n",
            " 416 417 418 419 420 421 422 423 424 425 426 427 428 429 430 431 432 433\n",
            " 434 435 436 437 438 439 440 441 442 443 444 445 446 447 448 449 450 451\n",
            " 452 453 454 455 456 457 458 459 460 461 462 463 464 465 466 467 468 469\n",
            " 470 471 472 473 474 475 476 477 478 479 480 481 482 483 484 485 486 487\n",
            " 488 489 490 491 492 493 494 495 496 497 498 499 500 501 502 503 504 505\n",
            " 506 507 508 509 510 511 512 513 514 515 516 517 518 519 520 521 522 523\n",
            " 524 525 526 527 528 529 530 531 532 533 534 535 536 537 538 539 540 541\n",
            " 542 543 544 545 546 547 548 549 550 551 552 553 554 555 556 557 558 559\n",
            " 560 561 562 563 564 565 566 567 568 569 570 571 572 573 574 575 576 577\n",
            " 578 579 580 581 582 583 584 585 586 587 588 589 590 591 592 593 594 595\n",
            " 596 597 598 599 600 601 602 603 604 605 606 607 608 609 610 611 612 613\n",
            " 614 615 616 617 618 619 620 621 622 623 624 625 626 627 628 629 630 631\n",
            " 632 633 634 635 636 637 638 639 640 641 642 643 644 645 646 647 648 649\n",
            " 650 651 652 653 654 655 656 657 658 659 660 661 662 663 664 665 666 667\n",
            " 668 669 670 671 672 673 674 675 676 677 678 679 680 681 682 683 684 685\n",
            " 686 687 688 689 690 691 692 693 694 695 696 697 698 699 700 701 702 703\n",
            " 704 705 706 707 708 709 710 711 712 713 714 715 716 717 718 719 720 721\n",
            " 722 723 724 725 726 727 728 729 730 731 732 733 734 735]\n",
            "Testing Index [ 61  65  66  68  69  71  72  81  82  83  84  85  86  87  88  89  90  91\n",
            "  92  93  94  95  96  97  98  99 100 101 102 103 104 105 106 107 108 109\n",
            " 110 111 112 113 114 115 116 117 118 119 120 121 122 123 124 125 126 127\n",
            " 128 129 130 131 132 133 134 135 136 137 138 139 140 141 142 143 144 145\n",
            " 147 148]\n",
            "Training Index [  0   1   2   3   4   5   6   7   8   9  10  11  12  13  14  15  16  17\n",
            "  18  19  20  21  22  23  24  25  26  27  28  29  30  31  32  33  34  35\n",
            "  36  37  38  39  40  41  42  43  44  45  46  47  48  49  50  51  52  53\n",
            "  54  55  56  57  58  59  60  61  62  63  64  65  66  67  68  69  70  71\n",
            "  72  73  74  75  76  77  78  79  80  81  82  83  84  85  86  87  88  89\n",
            "  90  91  92  93  94  95  96  97  98  99 100 101 102 103 104 105 106 107\n",
            " 108 109 110 111 112 113 114 115 116 117 118 119 120 121 122 123 124 125\n",
            " 126 127 128 129 130 131 132 133 134 135 136 137 138 139 140 141 142 143\n",
            " 144 145 147 148 222 223 224 225 226 227 228 229 230 231 232 233 234 235\n",
            " 236 237 238 239 240 241 242 243 244 245 246 247 248 249 250 251 252 253\n",
            " 254 255 256 257 258 259 260 261 262 263 264 265 266 267 268 269 270 271\n",
            " 272 273 274 275 276 277 278 279 280 281 282 283 284 285 286 287 288 289\n",
            " 290 291 292 293 294 295 296 297 298 299 300 301 302 303 304 305 306 307\n",
            " 308 309 310 311 312 313 314 315 316 317 318 319 320 321 322 323 324 325\n",
            " 326 327 328 329 330 331 332 333 334 335 336 337 338 339 340 341 342 343\n",
            " 344 345 346 347 348 349 350 351 352 353 354 355 356 357 358 359 360 361\n",
            " 362 363 364 365 366 367 368 369 370 371 372 373 374 375 376 377 378 379\n",
            " 380 381 382 383 384 385 386 387 388 389 390 391 392 393 394 395 396 397\n",
            " 398 399 400 401 402 403 404 405 406 407 408 409 410 411 412 413 414 415\n",
            " 416 417 418 419 420 421 422 423 424 425 426 427 428 429 430 431 432 433\n",
            " 434 435 436 437 438 439 440 441 442 443 444 445 446 447 448 449 450 451\n",
            " 452 453 454 455 456 457 458 459 460 461 462 463 464 465 466 467 468 469\n",
            " 470 471 472 473 474 475 476 477 478 479 480 481 482 483 484 485 486 487\n",
            " 488 489 490 491 492 493 494 495 496 497 498 499 500 501 502 503 504 505\n",
            " 506 507 508 509 510 511 512 513 514 515 516 517 518 519 520 521 522 523\n",
            " 524 525 526 527 528 529 530 531 532 533 534 535 536 537 538 539 540 541\n",
            " 542 543 544 545 546 547 548 549 550 551 552 553 554 555 556 557 558 559\n",
            " 560 561 562 563 564 565 566 567 568 569 570 571 572 573 574 575 576 577\n",
            " 578 579 580 581 582 583 584 585 586 587 588 589 590 591 592 593 594 595\n",
            " 596 597 598 599 600 601 602 603 604 605 606 607 608 609 610 611 612 613\n",
            " 614 615 616 617 618 619 620 621 622 623 624 625 626 627 628 629 630 631\n",
            " 632 633 634 635 636 637 638 639 640 641 642 643 644 645 646 647 648 649\n",
            " 650 651 652 653 654 655 656 657 658 659 660 661 662 663 664 665 666 667\n",
            " 668 669 670 671 672 673 674 675 676 677 678 679 680 681 682 683 684 685\n",
            " 686 687 688 689 690 691 692 693 694 695 696 697 698 699 700 701 702 703\n",
            " 704 705 706 707 708 709 710 711 712 713 714 715 716 717 718 719 720 721\n",
            " 722 723 724 725 726 727 728 729 730 731 732 733 734 735]\n",
            "Testing Index [146 149 150 151 152 153 154 155 156 157 158 159 160 161 162 163 164 165\n",
            " 166 167 168 169 170 171 172 173 174 175 176 177 178 179 180 181 182 183\n",
            " 184 185 186 187 188 189 190 191 192 193 194 195 196 197 198 199 200 201\n",
            " 202 203 204 205 206 207 208 209 210 211 212 213 214 215 216 217 218 219\n",
            " 220 221]\n",
            "Training Index [  0   1   2   3   4   5   6   7   8   9  10  11  12  13  14  15  16  17\n",
            "  18  19  20  21  22  23  24  25  26  27  28  29  30  31  32  33  34  35\n",
            "  36  37  38  39  40  41  42  43  44  45  46  47  48  49  50  51  52  53\n",
            "  54  55  56  57  58  59  60  61  62  63  64  65  66  67  68  69  70  71\n",
            "  72  73  74  75  76  77  78  79  80  81  82  83  84  85  86  87  88  89\n",
            "  90  91  92  93  94  95  96  97  98  99 100 101 102 103 104 105 106 107\n",
            " 108 109 110 111 112 113 114 115 116 117 118 119 120 121 122 123 124 125\n",
            " 126 127 128 129 130 131 132 133 134 135 136 137 138 139 140 141 142 143\n",
            " 144 145 146 147 148 149 150 151 152 153 154 155 156 157 158 159 160 161\n",
            " 162 163 164 165 166 167 168 169 170 171 172 173 174 175 176 177 178 179\n",
            " 180 181 182 183 184 185 186 187 188 189 190 191 192 193 194 195 196 197\n",
            " 198 199 200 201 202 203 204 205 206 207 208 209 210 211 212 213 214 215\n",
            " 216 217 218 219 220 221 281 282 290 292 293 300 301 302 304 305 306 307\n",
            " 308 309 310 311 312 313 314 315 316 317 318 319 320 321 322 323 324 325\n",
            " 326 327 328 329 330 331 332 333 334 335 336 337 338 339 340 341 342 343\n",
            " 344 345 346 347 348 349 350 351 352 353 354 355 356 357 358 359 360 361\n",
            " 362 363 364 365 366 367 368 369 370 371 372 373 374 375 376 377 378 379\n",
            " 380 381 382 383 384 385 386 387 388 389 390 391 392 393 394 395 396 397\n",
            " 398 399 400 401 402 403 404 405 406 407 408 409 410 411 412 413 414 415\n",
            " 416 417 418 419 420 421 422 423 424 425 426 427 428 429 430 431 432 433\n",
            " 434 435 436 437 438 439 440 441 442 443 444 445 446 447 448 449 450 451\n",
            " 452 453 454 455 456 457 458 459 460 461 462 463 464 465 466 467 468 469\n",
            " 470 471 472 473 474 475 476 477 478 479 480 481 482 483 484 485 486 487\n",
            " 488 489 490 491 492 493 494 495 496 497 498 499 500 501 502 503 504 505\n",
            " 506 507 508 509 510 511 512 513 514 515 516 517 518 519 520 521 522 523\n",
            " 524 525 526 527 528 529 530 531 532 533 534 535 536 537 538 539 540 541\n",
            " 542 543 544 545 546 547 548 549 550 551 552 553 554 555 556 557 558 559\n",
            " 560 561 562 563 564 565 566 567 568 569 570 571 572 573 574 575 576 577\n",
            " 578 579 580 581 582 583 584 585 586 587 588 589 590 591 592 593 594 595\n",
            " 596 597 598 599 600 601 602 603 604 605 606 607 608 609 610 611 612 613\n",
            " 614 615 616 617 618 619 620 621 622 623 624 625 626 627 628 629 630 631\n",
            " 632 633 634 635 636 637 638 639 640 641 642 643 644 645 646 647 648 649\n",
            " 650 651 652 653 654 655 656 657 658 659 660 661 662 663 664 665 666 667\n",
            " 668 669 670 671 672 673 674 675 676 677 678 679 680 681 682 683 684 685\n",
            " 686 687 688 689 690 691 692 693 694 695 696 697 698 699 700 701 702 703\n",
            " 704 705 706 707 708 709 710 711 712 713 714 715 716 717 718 719 720 721\n",
            " 722 723 724 725 726 727 728 729 730 731 732 733 734 735]\n",
            "Testing Index [222 223 224 225 226 227 228 229 230 231 232 233 234 235 236 237 238 239\n",
            " 240 241 242 243 244 245 246 247 248 249 250 251 252 253 254 255 256 257\n",
            " 258 259 260 261 262 263 264 265 266 267 268 269 270 271 272 273 274 275\n",
            " 276 277 278 279 280 283 284 285 286 287 288 289 291 294 295 296 297 298\n",
            " 299 303]\n",
            "Training Index [  0   1   2   3   4   5   6   7   8   9  10  11  12  13  14  15  16  17\n",
            "  18  19  20  21  22  23  24  25  26  27  28  29  30  31  32  33  34  35\n",
            "  36  37  38  39  40  41  42  43  44  45  46  47  48  49  50  51  52  53\n",
            "  54  55  56  57  58  59  60  61  62  63  64  65  66  67  68  69  70  71\n",
            "  72  73  74  75  76  77  78  79  80  81  82  83  84  85  86  87  88  89\n",
            "  90  91  92  93  94  95  96  97  98  99 100 101 102 103 104 105 106 107\n",
            " 108 109 110 111 112 113 114 115 116 117 118 119 120 121 122 123 124 125\n",
            " 126 127 128 129 130 131 132 133 134 135 136 137 138 139 140 141 142 143\n",
            " 144 145 146 147 148 149 150 151 152 153 154 155 156 157 158 159 160 161\n",
            " 162 163 164 165 166 167 168 169 170 171 172 173 174 175 176 177 178 179\n",
            " 180 181 182 183 184 185 186 187 188 189 190 191 192 193 194 195 196 197\n",
            " 198 199 200 201 202 203 204 205 206 207 208 209 210 211 212 213 214 215\n",
            " 216 217 218 219 220 221 222 223 224 225 226 227 228 229 230 231 232 233\n",
            " 234 235 236 237 238 239 240 241 242 243 244 245 246 247 248 249 250 251\n",
            " 252 253 254 255 256 257 258 259 260 261 262 263 264 265 266 267 268 269\n",
            " 270 271 272 273 274 275 276 277 278 279 280 283 284 285 286 287 288 289\n",
            " 291 294 295 296 297 298 299 303 356 360 362 365 366 367 368 369 370 375\n",
            " 376 377 379 383 384 385 386 387 388 389 390 391 392 393 394 395 396 397\n",
            " 398 399 400 401 402 403 404 405 406 407 408 409 410 411 412 413 414 415\n",
            " 416 417 418 419 420 421 422 423 424 425 426 427 428 429 430 431 432 433\n",
            " 434 435 436 437 438 439 440 441 442 443 444 445 446 447 448 449 450 451\n",
            " 452 453 454 455 456 457 458 459 460 461 462 463 464 465 466 467 468 469\n",
            " 470 471 472 473 474 475 476 477 478 479 480 481 482 483 484 485 486 487\n",
            " 488 489 490 491 492 493 494 495 496 497 498 499 500 501 502 503 504 505\n",
            " 506 507 508 509 510 511 512 513 514 515 516 517 518 519 520 521 522 523\n",
            " 524 525 526 527 528 529 530 531 532 533 534 535 536 537 538 539 540 541\n",
            " 542 543 544 545 546 547 548 549 550 551 552 553 554 555 556 557 558 559\n",
            " 560 561 562 563 564 565 566 567 568 569 570 571 572 573 574 575 576 577\n",
            " 578 579 580 581 582 583 584 585 586 587 588 589 590 591 592 593 594 595\n",
            " 596 597 598 599 600 601 602 603 604 605 606 607 608 609 610 611 612 613\n",
            " 614 615 616 617 618 619 620 621 622 623 624 625 626 627 628 629 630 631\n",
            " 632 633 634 635 636 637 638 639 640 641 642 643 644 645 646 647 648 649\n",
            " 650 651 652 653 654 655 656 657 658 659 660 661 662 663 664 665 666 667\n",
            " 668 669 670 671 672 673 674 675 676 677 678 679 680 681 682 683 684 685\n",
            " 686 687 688 689 690 691 692 693 694 695 696 697 698 699 700 701 702 703\n",
            " 704 705 706 707 708 709 710 711 712 713 714 715 716 717 718 719 720 721\n",
            " 722 723 724 725 726 727 728 729 730 731 732 733 734 735]\n",
            "Testing Index [281 282 290 292 293 300 301 302 304 305 306 307 308 309 310 311 312 313\n",
            " 314 315 316 317 318 319 320 321 322 323 324 325 326 327 328 329 330 331\n",
            " 332 333 334 335 336 337 338 339 340 341 342 343 344 345 346 347 348 349\n",
            " 350 351 352 353 354 355 357 358 359 361 363 364 371 372 373 374 378 380\n",
            " 381 382]\n",
            "Training Index [  0   1   2   3   4   5   6   7   8   9  10  11  12  13  14  15  16  17\n",
            "  18  19  20  21  22  23  24  25  26  27  28  29  30  31  32  33  34  35\n",
            "  36  37  38  39  40  41  42  43  44  45  46  47  48  49  50  51  52  53\n",
            "  54  55  56  57  58  59  60  61  62  63  64  65  66  67  68  69  70  71\n",
            "  72  73  74  75  76  77  78  79  80  81  82  83  84  85  86  87  88  89\n",
            "  90  91  92  93  94  95  96  97  98  99 100 101 102 103 104 105 106 107\n",
            " 108 109 110 111 112 113 114 115 116 117 118 119 120 121 122 123 124 125\n",
            " 126 127 128 129 130 131 132 133 134 135 136 137 138 139 140 141 142 143\n",
            " 144 145 146 147 148 149 150 151 152 153 154 155 156 157 158 159 160 161\n",
            " 162 163 164 165 166 167 168 169 170 171 172 173 174 175 176 177 178 179\n",
            " 180 181 182 183 184 185 186 187 188 189 190 191 192 193 194 195 196 197\n",
            " 198 199 200 201 202 203 204 205 206 207 208 209 210 211 212 213 214 215\n",
            " 216 217 218 219 220 221 222 223 224 225 226 227 228 229 230 231 232 233\n",
            " 234 235 236 237 238 239 240 241 242 243 244 245 246 247 248 249 250 251\n",
            " 252 253 254 255 256 257 258 259 260 261 262 263 264 265 266 267 268 269\n",
            " 270 271 272 273 274 275 276 277 278 279 280 281 282 283 284 285 286 287\n",
            " 288 289 290 291 292 293 294 295 296 297 298 299 300 301 302 303 304 305\n",
            " 306 307 308 309 310 311 312 313 314 315 316 317 318 319 320 321 322 323\n",
            " 324 325 326 327 328 329 330 331 332 333 334 335 336 337 338 339 340 341\n",
            " 342 343 344 345 346 347 348 349 350 351 352 353 354 355 357 358 359 361\n",
            " 363 364 371 372 373 374 378 380 381 382 432 435 438 440 443 446 447 448\n",
            " 450 453 454 455 456 457 458 459 460 461 462 463 464 465 466 467 468 469\n",
            " 470 471 472 473 474 475 476 477 478 479 480 481 482 483 484 485 486 487\n",
            " 488 489 490 491 492 493 494 495 496 497 498 499 500 501 502 503 504 505\n",
            " 506 507 508 509 510 511 512 513 514 515 516 517 518 519 520 521 522 523\n",
            " 524 525 526 527 528 529 530 531 532 533 534 535 536 537 538 539 540 541\n",
            " 542 543 544 545 546 547 548 549 550 551 552 553 554 555 556 557 558 559\n",
            " 560 561 562 563 564 565 566 567 568 569 570 571 572 573 574 575 576 577\n",
            " 578 579 580 581 582 583 584 585 586 587 588 589 590 591 592 593 594 595\n",
            " 596 597 598 599 600 601 602 603 604 605 606 607 608 609 610 611 612 613\n",
            " 614 615 616 617 618 619 620 621 622 623 624 625 626 627 628 629 630 631\n",
            " 632 633 634 635 636 637 638 639 640 641 642 643 644 645 646 647 648 649\n",
            " 650 651 652 653 654 655 656 657 658 659 660 661 662 663 664 665 666 667\n",
            " 668 669 670 671 672 673 674 675 676 677 678 679 680 681 682 683 684 685\n",
            " 686 687 688 689 690 691 692 693 694 695 696 697 698 699 700 701 702 703\n",
            " 704 705 706 707 708 709 710 711 712 713 714 715 716 717 718 719 720 721\n",
            " 722 723 724 725 726 727 728 729 730 731 732 733 734 735]\n",
            "Testing Index [356 360 362 365 366 367 368 369 370 375 376 377 379 383 384 385 386 387\n",
            " 388 389 390 391 392 393 394 395 396 397 398 399 400 401 402 403 404 405\n",
            " 406 407 408 409 410 411 412 413 414 415 416 417 418 419 420 421 422 423\n",
            " 424 425 426 427 428 429 430 431 433 434 436 437 439 441 442 444 445 449\n",
            " 451 452]\n",
            "Training Index [  0   1   2   3   4   5   6   7   8   9  10  11  12  13  14  15  16  17\n",
            "  18  19  20  21  22  23  24  25  26  27  28  29  30  31  32  33  34  35\n",
            "  36  37  38  39  40  41  42  43  44  45  46  47  48  49  50  51  52  53\n",
            "  54  55  56  57  58  59  60  61  62  63  64  65  66  67  68  69  70  71\n",
            "  72  73  74  75  76  77  78  79  80  81  82  83  84  85  86  87  88  89\n",
            "  90  91  92  93  94  95  96  97  98  99 100 101 102 103 104 105 106 107\n",
            " 108 109 110 111 112 113 114 115 116 117 118 119 120 121 122 123 124 125\n",
            " 126 127 128 129 130 131 132 133 134 135 136 137 138 139 140 141 142 143\n",
            " 144 145 146 147 148 149 150 151 152 153 154 155 156 157 158 159 160 161\n",
            " 162 163 164 165 166 167 168 169 170 171 172 173 174 175 176 177 178 179\n",
            " 180 181 182 183 184 185 186 187 188 189 190 191 192 193 194 195 196 197\n",
            " 198 199 200 201 202 203 204 205 206 207 208 209 210 211 212 213 214 215\n",
            " 216 217 218 219 220 221 222 223 224 225 226 227 228 229 230 231 232 233\n",
            " 234 235 236 237 238 239 240 241 242 243 244 245 246 247 248 249 250 251\n",
            " 252 253 254 255 256 257 258 259 260 261 262 263 264 265 266 267 268 269\n",
            " 270 271 272 273 274 275 276 277 278 279 280 281 282 283 284 285 286 287\n",
            " 288 289 290 291 292 293 294 295 296 297 298 299 300 301 302 303 304 305\n",
            " 306 307 308 309 310 311 312 313 314 315 316 317 318 319 320 321 322 323\n",
            " 324 325 326 327 328 329 330 331 332 333 334 335 336 337 338 339 340 341\n",
            " 342 343 344 345 346 347 348 349 350 351 352 353 354 355 356 357 358 359\n",
            " 360 361 362 363 364 365 366 367 368 369 370 371 372 373 374 375 376 377\n",
            " 378 379 380 381 382 383 384 385 386 387 388 389 390 391 392 393 394 395\n",
            " 396 397 398 399 400 401 402 403 404 405 406 407 408 409 410 411 412 413\n",
            " 414 415 416 417 418 419 420 421 422 423 424 425 426 427 428 429 430 431\n",
            " 433 434 436 437 439 441 442 444 445 449 451 452 498 501 504 507 510 511\n",
            " 517 520 525 526 527 528 529 530 531 532 533 534 535 536 537 538 539 540\n",
            " 541 542 543 544 545 546 547 548 549 550 551 552 553 554 555 556 557 558\n",
            " 559 560 561 562 563 564 565 566 567 568 569 570 571 572 573 574 575 576\n",
            " 577 578 579 580 581 582 583 584 585 586 587 588 589 590 591 592 593 594\n",
            " 595 596 597 598 599 600 601 602 603 604 605 606 607 608 609 610 611 612\n",
            " 613 614 615 616 617 618 619 620 621 622 623 624 625 626 627 628 629 630\n",
            " 631 632 633 634 635 636 637 638 639 640 641 642 643 644 645 646 647 648\n",
            " 649 650 651 652 653 654 655 656 657 658 659 660 661 662 663 664 665 666\n",
            " 667 668 669 670 671 672 673 674 675 676 677 678 679 680 681 682 683 684\n",
            " 685 686 687 688 689 690 691 692 693 694 695 696 697 698 699 700 701 702\n",
            " 703 704 705 706 707 708 709 710 711 712 713 714 715 716 717 718 719 720\n",
            " 721 722 723 724 725 726 727 728 729 730 731 732 733 734 735]\n",
            "Testing Index [432 435 438 440 443 446 447 448 450 453 454 455 456 457 458 459 460 461\n",
            " 462 463 464 465 466 467 468 469 470 471 472 473 474 475 476 477 478 479\n",
            " 480 481 482 483 484 485 486 487 488 489 490 491 492 493 494 495 496 497\n",
            " 499 500 502 503 505 506 508 509 512 513 514 515 516 518 519 521 522 523\n",
            " 524]\n",
            "Training Index [  0   1   2   3   4   5   6   7   8   9  10  11  12  13  14  15  16  17\n",
            "  18  19  20  21  22  23  24  25  26  27  28  29  30  31  32  33  34  35\n",
            "  36  37  38  39  40  41  42  43  44  45  46  47  48  49  50  51  52  53\n",
            "  54  55  56  57  58  59  60  61  62  63  64  65  66  67  68  69  70  71\n",
            "  72  73  74  75  76  77  78  79  80  81  82  83  84  85  86  87  88  89\n",
            "  90  91  92  93  94  95  96  97  98  99 100 101 102 103 104 105 106 107\n",
            " 108 109 110 111 112 113 114 115 116 117 118 119 120 121 122 123 124 125\n",
            " 126 127 128 129 130 131 132 133 134 135 136 137 138 139 140 141 142 143\n",
            " 144 145 146 147 148 149 150 151 152 153 154 155 156 157 158 159 160 161\n",
            " 162 163 164 165 166 167 168 169 170 171 172 173 174 175 176 177 178 179\n",
            " 180 181 182 183 184 185 186 187 188 189 190 191 192 193 194 195 196 197\n",
            " 198 199 200 201 202 203 204 205 206 207 208 209 210 211 212 213 214 215\n",
            " 216 217 218 219 220 221 222 223 224 225 226 227 228 229 230 231 232 233\n",
            " 234 235 236 237 238 239 240 241 242 243 244 245 246 247 248 249 250 251\n",
            " 252 253 254 255 256 257 258 259 260 261 262 263 264 265 266 267 268 269\n",
            " 270 271 272 273 274 275 276 277 278 279 280 281 282 283 284 285 286 287\n",
            " 288 289 290 291 292 293 294 295 296 297 298 299 300 301 302 303 304 305\n",
            " 306 307 308 309 310 311 312 313 314 315 316 317 318 319 320 321 322 323\n",
            " 324 325 326 327 328 329 330 331 332 333 334 335 336 337 338 339 340 341\n",
            " 342 343 344 345 346 347 348 349 350 351 352 353 354 355 356 357 358 359\n",
            " 360 361 362 363 364 365 366 367 368 369 370 371 372 373 374 375 376 377\n",
            " 378 379 380 381 382 383 384 385 386 387 388 389 390 391 392 393 394 395\n",
            " 396 397 398 399 400 401 402 403 404 405 406 407 408 409 410 411 412 413\n",
            " 414 415 416 417 418 419 420 421 422 423 424 425 426 427 428 429 430 431\n",
            " 432 433 434 435 436 437 438 439 440 441 442 443 444 445 446 447 448 449\n",
            " 450 451 452 453 454 455 456 457 458 459 460 461 462 463 464 465 466 467\n",
            " 468 469 470 471 472 473 474 475 476 477 478 479 480 481 482 483 484 485\n",
            " 486 487 488 489 490 491 492 493 494 495 496 497 499 500 502 503 505 506\n",
            " 508 509 512 513 514 515 516 518 519 521 522 523 524 578 579 581 585 588\n",
            " 592 594 595 598 599 600 601 602 603 604 605 606 607 608 609 610 611 612\n",
            " 613 614 615 616 617 618 619 620 621 622 623 624 625 626 627 628 629 630\n",
            " 631 632 633 634 635 636 637 638 639 640 641 642 643 644 645 646 647 648\n",
            " 649 650 651 652 653 654 655 656 657 658 659 660 661 662 663 664 665 666\n",
            " 667 668 669 670 671 672 673 674 675 676 677 678 679 680 681 682 683 684\n",
            " 685 686 687 688 689 690 691 692 693 694 695 696 697 698 699 700 701 702\n",
            " 703 704 705 706 707 708 709 710 711 712 713 714 715 716 717 718 719 720\n",
            " 721 722 723 724 725 726 727 728 729 730 731 732 733 734 735]\n",
            "Testing Index [498 501 504 507 510 511 517 520 525 526 527 528 529 530 531 532 533 534\n",
            " 535 536 537 538 539 540 541 542 543 544 545 546 547 548 549 550 551 552\n",
            " 553 554 555 556 557 558 559 560 561 562 563 564 565 566 567 568 569 570\n",
            " 571 572 573 574 575 576 577 580 582 583 584 586 587 589 590 591 593 596\n",
            " 597]\n",
            "Training Index [  0   1   2   3   4   5   6   7   8   9  10  11  12  13  14  15  16  17\n",
            "  18  19  20  21  22  23  24  25  26  27  28  29  30  31  32  33  34  35\n",
            "  36  37  38  39  40  41  42  43  44  45  46  47  48  49  50  51  52  53\n",
            "  54  55  56  57  58  59  60  61  62  63  64  65  66  67  68  69  70  71\n",
            "  72  73  74  75  76  77  78  79  80  81  82  83  84  85  86  87  88  89\n",
            "  90  91  92  93  94  95  96  97  98  99 100 101 102 103 104 105 106 107\n",
            " 108 109 110 111 112 113 114 115 116 117 118 119 120 121 122 123 124 125\n",
            " 126 127 128 129 130 131 132 133 134 135 136 137 138 139 140 141 142 143\n",
            " 144 145 146 147 148 149 150 151 152 153 154 155 156 157 158 159 160 161\n",
            " 162 163 164 165 166 167 168 169 170 171 172 173 174 175 176 177 178 179\n",
            " 180 181 182 183 184 185 186 187 188 189 190 191 192 193 194 195 196 197\n",
            " 198 199 200 201 202 203 204 205 206 207 208 209 210 211 212 213 214 215\n",
            " 216 217 218 219 220 221 222 223 224 225 226 227 228 229 230 231 232 233\n",
            " 234 235 236 237 238 239 240 241 242 243 244 245 246 247 248 249 250 251\n",
            " 252 253 254 255 256 257 258 259 260 261 262 263 264 265 266 267 268 269\n",
            " 270 271 272 273 274 275 276 277 278 279 280 281 282 283 284 285 286 287\n",
            " 288 289 290 291 292 293 294 295 296 297 298 299 300 301 302 303 304 305\n",
            " 306 307 308 309 310 311 312 313 314 315 316 317 318 319 320 321 322 323\n",
            " 324 325 326 327 328 329 330 331 332 333 334 335 336 337 338 339 340 341\n",
            " 342 343 344 345 346 347 348 349 350 351 352 353 354 355 356 357 358 359\n",
            " 360 361 362 363 364 365 366 367 368 369 370 371 372 373 374 375 376 377\n",
            " 378 379 380 381 382 383 384 385 386 387 388 389 390 391 392 393 394 395\n",
            " 396 397 398 399 400 401 402 403 404 405 406 407 408 409 410 411 412 413\n",
            " 414 415 416 417 418 419 420 421 422 423 424 425 426 427 428 429 430 431\n",
            " 432 433 434 435 436 437 438 439 440 441 442 443 444 445 446 447 448 449\n",
            " 450 451 452 453 454 455 456 457 458 459 460 461 462 463 464 465 466 467\n",
            " 468 469 470 471 472 473 474 475 476 477 478 479 480 481 482 483 484 485\n",
            " 486 487 488 489 490 491 492 493 494 495 496 497 498 499 500 501 502 503\n",
            " 504 505 506 507 508 509 510 511 512 513 514 515 516 517 518 519 520 521\n",
            " 522 523 524 525 526 527 528 529 530 531 532 533 534 535 536 537 538 539\n",
            " 540 541 542 543 544 545 546 547 548 549 550 551 552 553 554 555 556 557\n",
            " 558 559 560 561 562 563 564 565 566 567 568 569 570 571 572 573 574 575\n",
            " 576 577 580 582 583 584 586 587 589 590 591 593 596 597 658 663 665 666\n",
            " 667 668 669 670 671 672 673 674 675 676 677 678 679 680 681 682 683 684\n",
            " 685 686 687 688 689 690 691 692 693 694 695 696 697 698 699 700 701 702\n",
            " 703 704 705 706 707 708 709 710 711 712 713 714 715 716 717 718 719 720\n",
            " 721 722 723 724 725 726 727 728 729 730 731 732 733 734 735]\n",
            "Testing Index [578 579 581 585 588 592 594 595 598 599 600 601 602 603 604 605 606 607\n",
            " 608 609 610 611 612 613 614 615 616 617 618 619 620 621 622 623 624 625\n",
            " 626 627 628 629 630 631 632 633 634 635 636 637 638 639 640 641 642 643\n",
            " 644 645 646 647 648 649 650 651 652 653 654 655 656 657 659 660 661 662\n",
            " 664]\n",
            "Training Index [  0   1   2   3   4   5   6   7   8   9  10  11  12  13  14  15  16  17\n",
            "  18  19  20  21  22  23  24  25  26  27  28  29  30  31  32  33  34  35\n",
            "  36  37  38  39  40  41  42  43  44  45  46  47  48  49  50  51  52  53\n",
            "  54  55  56  57  58  59  60  61  62  63  64  65  66  67  68  69  70  71\n",
            "  72  73  74  75  76  77  78  79  80  81  82  83  84  85  86  87  88  89\n",
            "  90  91  92  93  94  95  96  97  98  99 100 101 102 103 104 105 106 107\n",
            " 108 109 110 111 112 113 114 115 116 117 118 119 120 121 122 123 124 125\n",
            " 126 127 128 129 130 131 132 133 134 135 136 137 138 139 140 141 142 143\n",
            " 144 145 146 147 148 149 150 151 152 153 154 155 156 157 158 159 160 161\n",
            " 162 163 164 165 166 167 168 169 170 171 172 173 174 175 176 177 178 179\n",
            " 180 181 182 183 184 185 186 187 188 189 190 191 192 193 194 195 196 197\n",
            " 198 199 200 201 202 203 204 205 206 207 208 209 210 211 212 213 214 215\n",
            " 216 217 218 219 220 221 222 223 224 225 226 227 228 229 230 231 232 233\n",
            " 234 235 236 237 238 239 240 241 242 243 244 245 246 247 248 249 250 251\n",
            " 252 253 254 255 256 257 258 259 260 261 262 263 264 265 266 267 268 269\n",
            " 270 271 272 273 274 275 276 277 278 279 280 281 282 283 284 285 286 287\n",
            " 288 289 290 291 292 293 294 295 296 297 298 299 300 301 302 303 304 305\n",
            " 306 307 308 309 310 311 312 313 314 315 316 317 318 319 320 321 322 323\n",
            " 324 325 326 327 328 329 330 331 332 333 334 335 336 337 338 339 340 341\n",
            " 342 343 344 345 346 347 348 349 350 351 352 353 354 355 356 357 358 359\n",
            " 360 361 362 363 364 365 366 367 368 369 370 371 372 373 374 375 376 377\n",
            " 378 379 380 381 382 383 384 385 386 387 388 389 390 391 392 393 394 395\n",
            " 396 397 398 399 400 401 402 403 404 405 406 407 408 409 410 411 412 413\n",
            " 414 415 416 417 418 419 420 421 422 423 424 425 426 427 428 429 430 431\n",
            " 432 433 434 435 436 437 438 439 440 441 442 443 444 445 446 447 448 449\n",
            " 450 451 452 453 454 455 456 457 458 459 460 461 462 463 464 465 466 467\n",
            " 468 469 470 471 472 473 474 475 476 477 478 479 480 481 482 483 484 485\n",
            " 486 487 488 489 490 491 492 493 494 495 496 497 498 499 500 501 502 503\n",
            " 504 505 506 507 508 509 510 511 512 513 514 515 516 517 518 519 520 521\n",
            " 522 523 524 525 526 527 528 529 530 531 532 533 534 535 536 537 538 539\n",
            " 540 541 542 543 544 545 546 547 548 549 550 551 552 553 554 555 556 557\n",
            " 558 559 560 561 562 563 564 565 566 567 568 569 570 571 572 573 574 575\n",
            " 576 577 578 579 580 581 582 583 584 585 586 587 588 589 590 591 592 593\n",
            " 594 595 596 597 598 599 600 601 602 603 604 605 606 607 608 609 610 611\n",
            " 612 613 614 615 616 617 618 619 620 621 622 623 624 625 626 627 628 629\n",
            " 630 631 632 633 634 635 636 637 638 639 640 641 642 643 644 645 646 647\n",
            " 648 649 650 651 652 653 654 655 656 657 659 660 661 662 664]\n",
            "Testing Index [658 663 665 666 667 668 669 670 671 672 673 674 675 676 677 678 679 680\n",
            " 681 682 683 684 685 686 687 688 689 690 691 692 693 694 695 696 697 698\n",
            " 699 700 701 702 703 704 705 706 707 708 709 710 711 712 713 714 715 716\n",
            " 717 718 719 720 721 722 723 724 725 726 727 728 729 730 731 732 733 734\n",
            " 735]\n"
          ]
        }
      ]
    },
    {
      "cell_type": "code",
      "source": [
        "skcv_result_knn=cross_val_score(model_knn,x,y,cv=skfold_validator)"
      ],
      "metadata": {
        "id": "tGB-NMQcK-Ya"
      },
      "execution_count": 108,
      "outputs": []
    },
    {
      "cell_type": "code",
      "source": [
        "skcv_result_knn #stratified k fold cross validation scores"
      ],
      "metadata": {
        "colab": {
          "base_uri": "https://localhost:8080/"
        },
        "id": "nWKoy1dBLEnc",
        "outputId": "ded309d8-3cdf-4947-d3d3-c7a8e775a0db"
      },
      "execution_count": 109,
      "outputs": [
        {
          "output_type": "execute_result",
          "data": {
            "text/plain": [
              "array([0.78378378, 0.74324324, 0.75675676, 0.7027027 , 0.83783784,\n",
              "       0.81081081, 0.82191781, 0.82191781, 0.79452055, 0.82191781])"
            ]
          },
          "metadata": {},
          "execution_count": 109
        }
      ]
    },
    {
      "cell_type": "code",
      "source": [
        "np.mean(skcv_result_knn)"
      ],
      "metadata": {
        "colab": {
          "base_uri": "https://localhost:8080/"
        },
        "id": "Lyk06nWjLIDS",
        "outputId": "35ae5a4a-93da-4ffe-a909-1e423dd726f5"
      },
      "execution_count": 110,
      "outputs": [
        {
          "output_type": "execute_result",
          "data": {
            "text/plain": [
              "0.7895409107737874"
            ]
          },
          "metadata": {},
          "execution_count": 110
        }
      ]
    },
    {
      "cell_type": "markdown",
      "source": [
        "2. SVM Model"
      ],
      "metadata": {
        "id": "Re15jnINLN5g"
      }
    },
    {
      "cell_type": "code",
      "source": [
        "from sklearn.svm import SVC #support vector classifier"
      ],
      "metadata": {
        "id": "9JHZcrRPLM9Q"
      },
      "execution_count": 111,
      "outputs": []
    },
    {
      "cell_type": "code",
      "source": [
        "svm_clf=SVC(kernel='rbf')"
      ],
      "metadata": {
        "id": "rrnqWv6iL0ti"
      },
      "execution_count": 112,
      "outputs": []
    },
    {
      "cell_type": "code",
      "source": [
        "svm_model=svm_clf.fit(x_train,y_train)"
      ],
      "metadata": {
        "id": "-M3-soTKL4Ln"
      },
      "execution_count": 113,
      "outputs": []
    },
    {
      "cell_type": "code",
      "source": [
        "y_pred_svm=svm_model.predict(x_test)"
      ],
      "metadata": {
        "id": "TjXJktSsL7bI"
      },
      "execution_count": 115,
      "outputs": []
    },
    {
      "cell_type": "code",
      "source": [
        "confusion_matrix(y_test,y_pred_svm)"
      ],
      "metadata": {
        "colab": {
          "base_uri": "https://localhost:8080/"
        },
        "id": "bdPAeJq2MCbK",
        "outputId": "7aa39dc6-fee4-4a7f-f635-01d23a902943"
      },
      "execution_count": 116,
      "outputs": [
        {
          "output_type": "execute_result",
          "data": {
            "text/plain": [
              "array([[94, 15],\n",
              "       [28, 47]])"
            ]
          },
          "metadata": {},
          "execution_count": 116
        }
      ]
    },
    {
      "cell_type": "code",
      "source": [
        "accuracy_score(y_test,y_pred_svm)"
      ],
      "metadata": {
        "colab": {
          "base_uri": "https://localhost:8080/"
        },
        "id": "Y4r1aHReMGDJ",
        "outputId": "d93c4600-fe03-4749-d1bd-dcbbc777ad2a"
      },
      "execution_count": 117,
      "outputs": [
        {
          "output_type": "execute_result",
          "data": {
            "text/plain": [
              "0.7663043478260869"
            ]
          },
          "metadata": {},
          "execution_count": 117
        }
      ]
    },
    {
      "cell_type": "code",
      "source": [
        "recall_score(y_test,y_pred_svm)"
      ],
      "metadata": {
        "colab": {
          "base_uri": "https://localhost:8080/"
        },
        "id": "vyn4MLF4MJzA",
        "outputId": "d41a817b-0ce1-4c0c-d839-7afd44db1f9f"
      },
      "execution_count": 118,
      "outputs": [
        {
          "output_type": "execute_result",
          "data": {
            "text/plain": [
              "0.6266666666666667"
            ]
          },
          "metadata": {},
          "execution_count": 118
        }
      ]
    },
    {
      "cell_type": "code",
      "source": [
        "f1_score(y_test,y_pred_svm)"
      ],
      "metadata": {
        "colab": {
          "base_uri": "https://localhost:8080/"
        },
        "id": "p5U0py8uMOPD",
        "outputId": "f0970e46-3ecc-4351-cc7b-c3cc06dd9483"
      },
      "execution_count": 119,
      "outputs": [
        {
          "output_type": "execute_result",
          "data": {
            "text/plain": [
              "0.6861313868613139"
            ]
          },
          "metadata": {},
          "execution_count": 119
        }
      ]
    },
    {
      "cell_type": "markdown",
      "source": [
        "K Fold Cross Validation of SVM Model"
      ],
      "metadata": {
        "id": "E94LxdnjMSUn"
      }
    },
    {
      "cell_type": "code",
      "source": [
        "kfold_validator_svm=KFold(10,shuffle=True,random_state=42)"
      ],
      "metadata": {
        "id": "9qz7_F_zMjTf"
      },
      "execution_count": 120,
      "outputs": []
    },
    {
      "cell_type": "code",
      "source": [
        "for train_index,test_index in kfold_validator_svm.split(x,y):\n",
        "  print('Training Index',train_index)\n",
        "  print('Testing Index',test_index)"
      ],
      "metadata": {
        "colab": {
          "base_uri": "https://localhost:8080/"
        },
        "id": "ETgCX_wnMmTj",
        "outputId": "b2aec0da-3d9a-4b94-ee52-64c862431c98"
      },
      "execution_count": 121,
      "outputs": [
        {
          "output_type": "stream",
          "name": "stdout",
          "text": [
            "Training Index [  0   1   2   3   4   5   6   7   8   9  11  12  13  14  15  16  17  18\n",
            "  19  20  21  22  23  24  25  26  27  28  29  30  31  32  34  35  36  37\n",
            "  38  40  41  42  43  44  45  46  47  48  50  51  52  53  55  56  57  58\n",
            "  59  60  61  62  64  67  68  69  70  71  73  74  75  76  79  80  82  83\n",
            "  84  85  86  87  88  89  90  91  92  93  94  95  96  98  99 100 101 102\n",
            " 103 104 105 106 107 108 110 111 112 113 114 115 116 117 119 120 121 122\n",
            " 123 124 125 126 127 128 129 130 131 132 133 134 135 136 137 138 139 140\n",
            " 141 142 143 144 145 146 147 149 150 151 152 153 154 155 156 157 158 159\n",
            " 160 161 162 163 164 165 166 167 168 169 170 171 172 173 175 176 177 178\n",
            " 179 180 181 182 183 184 185 186 187 188 189 190 191 193 194 195 196 197\n",
            " 200 201 202 203 204 205 206 207 208 209 210 213 214 216 217 218 219 220\n",
            " 221 222 223 224 225 226 227 228 229 230 231 232 233 234 235 236 237 238\n",
            " 239 240 241 242 243 244 245 246 249 250 251 252 253 254 255 256 257 258\n",
            " 259 260 261 262 263 265 267 268 269 270 271 272 273 274 275 276 277 278\n",
            " 279 280 281 282 283 284 285 286 287 288 289 290 291 292 293 295 296 297\n",
            " 298 299 300 301 302 303 304 305 307 308 309 310 312 313 314 315 316 317\n",
            " 318 319 320 321 322 323 325 326 327 328 329 330 331 333 335 336 337 338\n",
            " 339 340 341 343 344 345 346 347 348 349 350 351 352 353 354 356 357 358\n",
            " 359 362 363 364 365 366 367 368 369 370 371 372 373 374 376 377 378 379\n",
            " 381 382 383 384 385 386 387 388 389 391 392 393 394 395 397 399 400 401\n",
            " 402 403 404 405 406 407 408 410 412 413 414 415 416 418 419 421 422 423\n",
            " 424 425 426 427 428 429 430 431 432 433 434 435 437 438 439 440 441 442\n",
            " 443 444 445 446 447 450 451 452 454 455 456 457 458 459 460 461 462 463\n",
            " 464 465 466 467 471 472 473 474 475 476 477 478 479 480 481 482 483 484\n",
            " 486 487 488 489 490 491 492 493 494 495 496 497 498 499 500 501 502 503\n",
            " 504 505 506 507 508 509 510 511 512 513 514 515 516 518 519 520 521 522\n",
            " 523 524 525 526 528 529 530 531 532 533 534 535 536 537 538 539 540 541\n",
            " 542 543 544 545 546 547 548 550 551 552 553 555 556 557 558 559 560 561\n",
            " 562 563 564 565 566 567 568 569 571 572 573 574 575 576 577 578 579 580\n",
            " 581 582 584 586 588 589 590 591 592 593 594 595 596 597 598 599 600 601\n",
            " 602 603 604 605 606 607 608 610 612 613 614 615 616 617 618 620 621 622\n",
            " 623 624 625 626 627 628 630 631 632 633 634 635 636 637 638 639 640 641\n",
            " 642 643 644 645 646 647 648 649 650 651 652 653 654 656 657 658 659 660\n",
            " 661 662 663 664 665 667 668 670 671 672 673 674 675 676 677 678 679 681\n",
            " 682 683 684 685 686 687 688 689 690 691 692 693 694 695 696 697 698 699\n",
            " 700 701 704 705 706 707 708 709 710 711 712 713 714 715 717 718 719 720\n",
            " 721 723 724 725 726 727 728 729 730 731 732 733 734 735]\n",
            "Testing Index [ 10  33  39  49  54  63  65  66  72  77  78  81  97 109 118 148 174 192\n",
            " 198 199 211 212 215 247 248 264 266 294 306 311 324 332 334 342 355 360\n",
            " 361 375 380 390 396 398 409 411 417 420 436 448 449 453 468 469 470 485\n",
            " 517 527 549 554 570 583 585 587 609 611 619 629 655 666 669 680 702 703\n",
            " 716 722]\n",
            "Training Index [  0   1   3   4   5   6   7   8   9  10  11  12  13  14  15  16  17  18\n",
            "  19  20  21  22  24  25  26  27  28  29  32  33  34  35  36  37  38  39\n",
            "  40  41  42  43  45  46  47  48  49  50  51  52  53  54  56  57  58  59\n",
            "  61  62  63  64  65  66  67  68  71  72  73  74  75  77  78  80  81  82\n",
            "  83  85  87  88  89  91  92  93  94  95  96  97  98  99 100 102 103 104\n",
            " 105 106 107 108 109 110 111 112 113 114 115 116 117 118 119 121 122 123\n",
            " 124 125 126 127 128 129 130 132 134 135 136 137 138 139 140 141 142 143\n",
            " 144 145 146 147 148 149 150 151 152 153 154 156 157 159 160 161 162 163\n",
            " 165 166 167 168 169 170 171 172 173 174 175 176 177 178 179 180 181 182\n",
            " 183 184 185 186 187 188 189 190 191 192 193 194 195 196 197 198 199 200\n",
            " 201 202 203 205 206 207 209 211 212 213 214 215 216 217 218 219 220 221\n",
            " 222 224 225 226 227 228 229 230 231 232 233 236 237 238 240 241 242 243\n",
            " 244 245 246 247 248 249 251 252 253 254 255 256 257 258 260 261 262 263\n",
            " 264 265 266 267 268 269 270 271 272 273 274 276 277 278 279 280 281 282\n",
            " 283 284 285 287 288 289 291 292 293 294 295 296 297 298 299 300 301 302\n",
            " 303 304 305 306 307 308 309 310 311 312 313 314 315 316 317 318 320 321\n",
            " 322 324 325 326 327 328 330 332 333 334 335 336 337 338 339 340 341 342\n",
            " 343 344 345 347 348 350 353 354 355 357 358 359 360 361 362 363 364 365\n",
            " 366 367 369 370 371 372 373 374 375 376 377 378 379 380 381 382 383 384\n",
            " 385 386 387 388 389 390 391 392 393 394 395 396 397 398 399 400 401 402\n",
            " 403 405 406 407 409 410 411 412 413 414 415 416 417 418 419 420 421 422\n",
            " 425 426 427 429 431 432 433 434 435 436 437 438 440 441 442 443 444 445\n",
            " 446 447 448 449 451 452 453 454 455 457 458 459 460 461 462 463 464 465\n",
            " 466 467 468 469 470 471 472 473 474 475 476 479 480 481 482 483 484 485\n",
            " 486 488 489 490 491 492 493 494 495 496 497 498 499 500 501 502 504 505\n",
            " 506 507 508 509 510 511 512 513 514 515 516 517 518 519 520 521 522 523\n",
            " 524 525 526 527 528 529 530 531 532 533 534 535 536 537 538 539 540 541\n",
            " 542 543 544 545 546 547 548 549 550 551 552 553 554 555 556 557 558 559\n",
            " 560 561 562 563 564 565 566 567 568 569 570 572 573 574 575 577 578 579\n",
            " 580 581 582 583 584 585 586 587 588 589 590 591 592 594 595 596 597 598\n",
            " 600 601 602 603 604 605 607 608 609 611 612 613 614 615 616 618 619 620\n",
            " 621 622 623 624 625 626 627 628 629 630 632 633 634 635 636 637 639 640\n",
            " 641 642 644 645 646 647 648 649 650 651 652 653 654 655 656 657 658 660\n",
            " 661 662 663 665 666 667 668 669 670 671 672 673 674 675 676 677 678 679\n",
            " 680 681 682 684 686 687 688 689 690 691 692 693 695 696 697 698 699 700\n",
            " 701 702 703 704 705 706 707 708 709 710 711 712 713 715 716 717 718 719\n",
            " 720 721 722 723 724 725 726 727 728 729 730 733 734 735]\n",
            "Testing Index [  2  23  30  31  44  55  60  69  70  76  79  84  86  90 101 120 131 133\n",
            " 155 158 164 204 208 210 223 234 235 239 250 259 275 286 290 319 323 329\n",
            " 331 346 349 351 352 356 368 404 408 423 424 428 430 439 450 456 477 478\n",
            " 487 503 571 576 593 599 606 610 617 631 638 643 659 664 683 685 694 714\n",
            " 731 732]\n",
            "Training Index [  0   1   2   3   4   5   7   8   9  10  11  12  13  14  15  16  17  19\n",
            "  20  21  22  23  25  26  27  28  30  31  32  33  34  35  36  37  38  39\n",
            "  40  42  43  44  45  46  47  48  49  50  52  53  54  55  57  58  59  60\n",
            "  62  63  64  65  66  67  68  69  70  71  72  74  75  76  77  78  79  80\n",
            "  81  84  85  86  87  88  89  90  91  92  93  94  95  96  97  98  99 100\n",
            " 101 102 103 104 105 106 107 109 111 112 113 114 115 116 117 118 119 120\n",
            " 121 122 123 124 125 126 127 128 129 130 131 133 134 137 138 140 141 142\n",
            " 143 144 146 147 148 149 150 151 152 153 154 155 156 157 158 159 160 161\n",
            " 162 163 164 166 167 168 169 170 171 172 173 174 175 177 178 179 180 183\n",
            " 184 185 186 187 188 189 190 191 192 193 194 195 197 198 199 200 201 202\n",
            " 203 204 205 206 207 208 210 211 212 214 215 216 217 219 221 222 223 224\n",
            " 225 226 228 229 230 232 233 234 235 236 237 238 239 240 241 242 243 244\n",
            " 245 246 247 248 249 250 251 252 253 255 256 257 258 259 260 261 262 263\n",
            " 264 266 267 268 269 270 271 272 273 274 275 276 277 278 279 280 282 283\n",
            " 284 285 286 287 288 289 290 293 294 295 297 298 299 301 303 304 305 306\n",
            " 307 308 309 310 311 312 313 315 316 317 318 319 320 321 322 323 324 325\n",
            " 326 328 329 330 331 332 333 334 335 336 337 338 339 341 342 343 345 346\n",
            " 347 348 349 350 351 352 353 354 355 356 358 359 360 361 362 363 364 365\n",
            " 366 367 368 370 372 373 374 375 376 378 379 380 381 382 383 384 385 386\n",
            " 387 389 390 391 392 393 394 395 396 397 398 399 400 401 402 403 404 406\n",
            " 407 408 409 410 411 413 414 415 416 417 418 419 420 421 422 423 424 425\n",
            " 426 427 428 430 431 432 433 434 435 436 437 438 439 441 442 444 445 446\n",
            " 447 448 449 450 451 452 453 454 455 456 457 458 459 460 461 462 463 464\n",
            " 465 466 467 468 469 470 471 472 474 475 476 477 478 479 480 481 482 483\n",
            " 484 485 487 488 489 490 491 492 493 495 496 498 499 500 501 502 503 504\n",
            " 505 506 507 508 509 510 511 512 513 514 515 516 517 518 519 520 521 522\n",
            " 523 524 525 526 527 528 529 530 531 532 533 534 536 537 538 539 540 541\n",
            " 542 543 546 548 549 550 551 552 553 554 555 556 557 558 559 560 561 562\n",
            " 563 564 565 566 567 568 569 570 571 572 573 574 575 576 577 578 579 580\n",
            " 581 582 583 584 585 586 587 588 589 591 592 593 594 595 596 597 598 599\n",
            " 600 601 602 603 604 605 606 608 609 610 611 612 613 614 615 616 617 619\n",
            " 620 621 622 623 624 625 626 627 628 629 630 631 633 634 635 636 637 638\n",
            " 639 640 641 643 644 645 646 647 649 650 651 652 653 655 656 657 658 659\n",
            " 660 661 662 663 664 665 666 667 668 669 670 671 673 674 675 677 678 679\n",
            " 680 681 682 683 684 685 686 689 690 691 692 693 694 695 697 698 699 700\n",
            " 701 702 703 705 706 707 708 709 710 711 712 714 715 716 717 718 719 720\n",
            " 721 722 723 724 725 726 727 728 729 730 731 732 733 735]\n",
            "Testing Index [  6  18  24  29  41  51  56  61  73  82  83 108 110 132 135 136 139 145\n",
            " 165 176 181 182 196 209 213 218 220 227 231 254 265 281 291 292 296 300\n",
            " 302 314 327 340 344 357 369 371 377 388 405 412 429 440 443 473 486 494\n",
            " 497 535 544 545 547 590 607 618 632 642 648 654 672 676 687 688 696 704\n",
            " 713 734]\n",
            "Training Index [  0   1   2   3   4   5   6   8  10  12  13  14  16  17  18  19  20  21\n",
            "  23  24  25  26  27  29  30  31  32  33  34  35  36  37  38  39  40  41\n",
            "  44  45  46  47  48  49  50  51  52  53  54  55  56  57  58  59  60  61\n",
            "  62  63  64  65  66  67  68  69  70  71  72  73  74  75  76  77  78  79\n",
            "  80  81  82  83  84  85  86  87  88  90  91  94  95  96  97  98  99 100\n",
            " 101 102 103 105 106 107 108 109 110 111 112 113 115 116 117 118 119 120\n",
            " 121 122 123 124 125 126 127 128 129 130 131 132 133 134 135 136 138 139\n",
            " 141 142 143 144 145 146 147 148 149 150 151 152 153 154 155 156 157 158\n",
            " 159 160 161 162 164 165 166 168 169 170 171 172 173 174 175 176 179 180\n",
            " 181 182 183 185 186 187 188 189 190 191 192 193 194 195 196 197 198 199\n",
            " 200 201 202 204 205 206 207 208 209 210 211 212 213 214 215 216 217 218\n",
            " 219 220 222 223 224 225 226 227 228 229 230 231 232 233 234 235 236 237\n",
            " 238 239 240 241 242 243 245 246 247 248 250 251 252 253 254 255 258 259\n",
            " 261 262 263 264 265 266 267 268 269 270 271 272 273 274 275 276 277 278\n",
            " 279 280 281 282 283 285 286 287 288 289 290 291 292 293 294 295 296 297\n",
            " 298 300 301 302 303 304 305 306 307 308 309 310 311 312 313 314 315 316\n",
            " 317 318 319 320 321 322 323 324 325 327 329 330 331 332 333 334 337 339\n",
            " 340 341 342 343 344 345 346 347 348 349 351 352 353 354 355 356 357 358\n",
            " 359 360 361 362 364 365 366 367 368 369 370 371 372 373 374 375 376 377\n",
            " 378 379 380 381 382 383 384 385 386 387 388 389 390 391 392 393 394 396\n",
            " 397 398 399 400 401 402 403 404 405 406 407 408 409 410 411 412 413 414\n",
            " 415 417 418 419 420 421 422 423 424 426 427 428 429 430 431 434 435 436\n",
            " 437 438 439 440 441 442 443 444 445 446 447 448 449 450 451 452 453 454\n",
            " 455 456 457 458 459 460 461 463 466 467 468 469 470 471 472 473 474 475\n",
            " 476 477 478 480 481 482 483 484 485 486 487 488 489 490 491 492 493 494\n",
            " 496 497 498 499 500 502 503 504 505 506 507 508 509 510 511 513 515 516\n",
            " 517 519 520 523 524 525 527 528 529 530 532 533 534 535 536 538 539 540\n",
            " 541 543 544 545 546 547 548 549 550 552 553 554 555 556 557 559 560 561\n",
            " 562 563 564 565 566 567 568 569 570 571 572 573 574 575 576 577 578 580\n",
            " 581 582 583 584 585 586 587 588 589 590 591 592 593 596 597 598 599 600\n",
            " 601 602 603 604 605 606 607 608 609 610 611 612 613 614 616 617 618 619\n",
            " 620 621 622 623 624 625 626 627 628 629 630 631 632 633 634 635 636 637\n",
            " 638 639 640 641 642 643 645 646 647 648 649 650 652 653 654 655 656 657\n",
            " 658 659 661 662 663 664 665 666 668 669 670 671 672 673 674 676 677 678\n",
            " 679 680 681 683 684 685 686 687 688 691 692 693 694 695 696 697 698 700\n",
            " 701 702 703 704 705 706 707 708 709 710 711 712 713 714 715 716 718 719\n",
            " 721 722 724 725 726 727 728 729 730 731 732 733 734 735]\n",
            "Testing Index [  7   9  11  15  22  28  42  43  89  92  93 104 114 137 140 163 167 177\n",
            " 178 184 203 221 244 249 256 257 260 284 299 326 328 335 336 338 350 363\n",
            " 395 416 425 432 433 462 464 465 479 495 501 512 514 518 521 522 526 531\n",
            " 537 542 551 558 579 594 595 615 644 651 660 667 675 682 689 690 699 717\n",
            " 720 723]\n",
            "Training Index [  1   2   3   4   5   6   7   8   9  10  11  12  13  14  15  16  17  18\n",
            "  19  20  21  22  23  24  25  26  27  28  29  30  31  32  33  34  35  36\n",
            "  37  38  39  40  41  42  43  44  45  47  48  49  50  51  52  53  54  55\n",
            "  56  57  58  60  61  62  63  64  65  66  67  69  70  71  72  73  74  76\n",
            "  77  78  79  80  81  82  83  84  85  86  87  89  90  91  92  93  94  95\n",
            "  96  97  98  99 101 102 103 104 105 106 108 109 110 111 112 113 114 115\n",
            " 118 119 120 121 122 123 126 127 128 129 130 131 132 133 134 135 136 137\n",
            " 138 139 140 143 145 146 147 148 150 151 152 154 155 156 157 158 159 160\n",
            " 161 162 163 164 165 166 167 168 169 170 171 172 173 174 175 176 177 178\n",
            " 180 181 182 183 184 186 187 189 190 191 192 193 194 196 197 198 199 200\n",
            " 201 202 203 204 205 206 207 208 209 210 211 212 213 214 215 216 217 218\n",
            " 219 220 221 222 223 224 225 226 227 229 230 231 232 233 234 235 237 239\n",
            " 240 241 242 243 244 245 246 247 248 249 250 251 252 253 254 255 256 257\n",
            " 258 259 260 262 263 264 265 266 267 269 270 272 273 275 276 279 280 281\n",
            " 282 283 284 285 286 287 288 290 291 292 293 294 295 296 297 298 299 300\n",
            " 301 302 303 305 306 308 309 311 312 313 314 315 316 317 319 320 322 323\n",
            " 324 325 326 327 328 329 330 331 332 334 335 336 337 338 339 340 341 342\n",
            " 343 344 345 346 347 348 349 350 351 352 354 355 356 357 358 359 360 361\n",
            " 363 364 365 366 368 369 370 371 372 373 374 375 376 377 378 379 380 383\n",
            " 384 385 386 387 388 389 390 391 392 395 396 397 398 400 401 402 403 404\n",
            " 405 406 407 408 409 410 411 412 413 414 415 416 417 418 419 420 421 422\n",
            " 423 424 425 427 428 429 430 432 433 435 436 437 438 439 440 441 442 443\n",
            " 444 445 448 449 450 451 452 453 454 455 456 457 458 459 460 461 462 463\n",
            " 464 465 466 467 468 469 470 471 472 473 474 475 476 477 478 479 480 482\n",
            " 484 485 486 487 488 489 490 491 492 494 495 496 497 498 500 501 502 503\n",
            " 504 505 506 507 508 509 510 511 512 513 514 515 516 517 518 520 521 522\n",
            " 523 524 525 526 527 528 529 530 531 532 535 537 538 539 540 541 542 543\n",
            " 544 545 546 547 548 549 551 552 553 554 555 556 557 558 559 560 561 562\n",
            " 563 564 565 566 567 568 569 570 571 572 573 574 575 576 577 578 579 580\n",
            " 581 583 584 585 586 587 588 589 590 592 593 594 595 596 597 598 599 600\n",
            " 601 602 603 605 606 607 609 610 611 612 613 614 615 617 618 619 620 621\n",
            " 622 623 625 626 627 628 629 630 631 632 633 634 635 636 637 638 640 642\n",
            " 643 644 645 646 647 648 649 650 651 652 653 654 655 656 657 659 660 661\n",
            " 662 663 664 666 667 668 669 670 671 672 673 674 675 676 677 679 680 681\n",
            " 682 683 684 685 686 687 688 689 690 691 692 693 694 695 696 697 698 699\n",
            " 700 701 702 703 704 705 706 708 709 710 711 712 713 714 715 716 717 718\n",
            " 719 720 721 722 723 724 726 728 729 730 731 732 733 734]\n",
            "Testing Index [  0  46  59  68  75  88 100 107 116 117 124 125 141 142 144 149 153 179\n",
            " 185 188 195 228 236 238 261 268 271 274 277 278 289 304 307 310 318 321\n",
            " 333 353 362 367 381 382 393 394 399 426 431 434 446 447 481 483 493 499\n",
            " 519 533 534 536 550 582 591 604 608 616 624 639 641 658 665 678 707 725\n",
            " 727 735]\n",
            "Training Index [  0   1   2   4   6   7   8   9  10  11  13  14  15  18  20  21  22  23\n",
            "  24  27  28  29  30  31  32  33  34  35  36  37  39  40  41  42  43  44\n",
            "  46  47  49  50  51  52  53  54  55  56  58  59  60  61  62  63  64  65\n",
            "  66  67  68  69  70  71  72  73  74  75  76  77  78  79  80  81  82  83\n",
            "  84  85  86  87  88  89  90  91  92  93  95  97  98  99 100 101 102 103\n",
            " 104 105 106 107 108 109 110 111 112 114 115 116 117 118 119 120 121 122\n",
            " 123 124 125 127 128 129 130 131 132 133 134 135 136 137 138 139 140 141\n",
            " 142 143 144 145 146 147 148 149 150 151 152 153 155 156 157 158 159 160\n",
            " 161 162 163 164 165 166 167 168 170 174 175 176 177 178 179 181 182 183\n",
            " 184 185 186 187 188 189 191 192 193 194 195 196 197 198 199 200 201 202\n",
            " 203 204 205 206 207 208 209 210 211 212 213 214 215 216 217 218 219 220\n",
            " 221 223 224 226 227 228 229 230 231 232 233 234 235 236 237 238 239 240\n",
            " 241 242 243 244 246 247 248 249 250 251 252 253 254 256 257 258 259 260\n",
            " 261 262 263 264 265 266 267 268 269 270 271 273 274 275 276 277 278 279\n",
            " 281 282 284 286 288 289 290 291 292 293 294 295 296 297 299 300 302 303\n",
            " 304 306 307 308 309 310 311 313 314 315 317 318 319 321 323 324 325 326\n",
            " 327 328 329 330 331 332 333 334 335 336 337 338 339 340 342 343 344 345\n",
            " 346 347 348 349 350 351 352 353 355 356 357 358 360 361 362 363 364 365\n",
            " 366 367 368 369 370 371 372 373 374 375 376 377 378 379 380 381 382 383\n",
            " 384 385 386 387 388 389 390 391 392 393 394 395 396 397 398 399 400 401\n",
            " 402 403 404 405 406 407 408 409 410 411 412 413 414 415 416 417 418 419\n",
            " 420 421 423 424 425 426 427 428 429 430 431 432 433 434 435 436 437 438\n",
            " 439 440 441 442 443 444 446 447 448 449 450 452 453 454 455 456 458 459\n",
            " 460 461 462 463 464 465 466 468 469 470 471 472 473 474 475 476 477 478\n",
            " 479 480 481 483 484 485 486 487 488 489 491 492 493 494 495 496 497 498\n",
            " 499 501 502 503 504 505 506 507 508 509 510 512 514 515 516 517 518 519\n",
            " 520 521 522 524 525 526 527 528 529 530 531 532 533 534 535 536 537 538\n",
            " 539 540 542 543 544 545 546 547 549 550 551 552 553 554 555 556 557 558\n",
            " 559 560 561 562 563 564 565 566 567 568 570 571 572 573 574 575 576 577\n",
            " 578 579 580 581 582 583 584 585 586 587 588 590 591 592 593 594 595 596\n",
            " 597 599 600 601 604 605 606 607 608 609 610 611 612 613 614 615 616 617\n",
            " 618 619 620 621 622 623 624 625 626 627 628 629 630 631 632 633 635 636\n",
            " 637 638 639 640 641 642 643 644 645 646 647 648 651 652 653 654 655 656\n",
            " 657 658 659 660 661 662 663 664 665 666 667 668 669 671 672 675 676 678\n",
            " 679 680 681 682 683 685 686 687 688 689 690 691 692 693 694 696 697 698\n",
            " 699 700 701 702 703 704 706 707 709 710 712 713 714 715 716 717 718 719\n",
            " 720 722 723 724 725 727 728 729 730 731 732 733 734 735]\n",
            "Testing Index [  3   5  12  16  17  19  25  26  38  45  48  57  94  96 113 126 154 169\n",
            " 171 172 173 180 190 222 225 245 255 272 280 283 285 287 298 301 305 312\n",
            " 316 320 322 341 354 359 422 445 451 457 467 482 490 500 511 513 523 541\n",
            " 548 569 589 598 602 603 634 649 650 670 673 674 677 684 695 705 708 711\n",
            " 721 726]\n",
            "Training Index [  0   1   2   3   4   5   6   7   9  10  11  12  13  14  15  16  17  18\n",
            "  19  20  21  22  23  24  25  26  27  28  29  30  31  32  33  34  35  38\n",
            "  39  40  41  42  43  44  45  46  47  48  49  51  52  54  55  56  57  58\n",
            "  59  60  61  62  63  64  65  66  68  69  70  71  72  73  75  76  77  78\n",
            "  79  80  81  82  83  84  85  86  87  88  89  90  91  92  93  94  95  96\n",
            "  97  98  99 100 101 102 104 105 106 107 108 109 110 112 113 114 116 117\n",
            " 118 120 121 122 123 124 125 126 128 129 130 131 132 133 134 135 136 137\n",
            " 138 139 140 141 142 143 144 145 146 147 148 149 150 153 154 155 156 158\n",
            " 159 160 161 163 164 165 166 167 169 170 171 172 173 174 176 177 178 179\n",
            " 180 181 182 183 184 185 186 187 188 189 190 191 192 195 196 197 198 199\n",
            " 200 201 202 203 204 205 206 208 209 210 211 212 213 214 215 216 217 218\n",
            " 219 220 221 222 223 224 225 227 228 230 231 232 233 234 235 236 238 239\n",
            " 240 241 242 243 244 245 246 247 248 249 250 251 252 254 255 256 257 258\n",
            " 259 260 261 262 264 265 266 267 268 269 270 271 272 273 274 275 276 277\n",
            " 278 279 280 281 282 283 284 285 286 287 288 289 290 291 292 293 294 295\n",
            " 296 297 298 299 300 301 302 304 305 306 307 308 310 311 312 313 314 315\n",
            " 316 317 318 319 320 321 322 323 324 325 326 327 328 329 330 331 332 333\n",
            " 334 335 336 337 338 339 340 341 342 343 344 345 346 347 348 349 350 351\n",
            " 352 353 354 355 356 357 358 359 360 361 362 363 366 367 368 369 371 372\n",
            " 373 375 376 377 378 379 380 381 382 384 385 386 387 388 389 390 391 392\n",
            " 393 394 395 396 397 398 399 400 401 402 404 405 406 408 409 410 411 412\n",
            " 413 414 415 416 417 418 420 422 423 424 425 426 427 428 429 430 431 432\n",
            " 433 434 435 436 438 439 440 441 443 445 446 447 448 449 450 451 453 454\n",
            " 455 456 457 458 459 460 461 462 463 464 465 466 467 468 469 470 471 472\n",
            " 473 474 475 476 477 478 479 481 482 483 484 485 486 487 488 489 490 491\n",
            " 492 493 494 495 496 497 498 499 500 501 502 503 504 505 508 509 510 511\n",
            " 512 513 514 517 518 519 520 521 522 523 524 526 527 530 531 533 534 535\n",
            " 536 537 538 539 540 541 542 544 545 546 547 548 549 550 551 552 553 554\n",
            " 555 556 558 559 560 561 562 563 564 565 566 567 569 570 571 572 573 574\n",
            " 576 577 579 580 581 582 583 584 585 587 589 590 591 592 593 594 595 598\n",
            " 599 600 601 602 603 604 605 606 607 608 609 610 611 612 614 615 616 617\n",
            " 618 619 621 622 623 624 626 628 629 630 631 632 634 636 638 639 640 641\n",
            " 642 643 644 645 646 647 648 649 650 651 652 653 654 655 656 657 658 659\n",
            " 660 661 662 663 664 665 666 667 668 669 670 671 672 673 674 675 676 677\n",
            " 678 679 680 681 682 683 684 685 686 687 688 689 690 691 694 695 696 697\n",
            " 698 699 700 701 702 703 704 705 707 708 711 712 713 714 715 716 717 718\n",
            " 720 721 722 723 724 725 726 727 729 730 731 732 733 734 735]\n",
            "Testing Index [  8  36  37  50  53  67  74 103 111 115 119 127 151 152 157 162 168 175\n",
            " 193 194 207 226 229 237 253 263 303 309 364 365 370 374 383 403 407 419\n",
            " 421 437 442 444 452 480 506 507 515 516 525 528 529 532 543 557 568 575\n",
            " 578 586 588 596 597 613 620 625 627 633 635 637 692 693 706 709 710 719\n",
            " 728]\n",
            "Training Index [  0   1   2   3   4   5   6   7   8   9  10  11  12  13  14  15  16  17\n",
            "  18  19  20  21  22  23  24  25  26  27  28  29  30  31  32  33  34  35\n",
            "  36  37  38  39  40  41  42  43  44  45  46  47  48  49  50  51  52  53\n",
            "  54  55  56  57  58  59  60  61  62  63  64  65  66  67  68  69  70  71\n",
            "  72  73  74  75  76  77  78  79  80  81  82  83  84  85  86  87  88  89\n",
            "  90  91  92  93  94  95  96  97  98  99 100 101 102 103 104 105 106 107\n",
            " 108 109 110 111 113 114 115 116 117 118 119 120 121 124 125 126 127 128\n",
            " 130 131 132 133 134 135 136 137 138 139 140 141 142 144 145 148 149 151\n",
            " 152 153 154 155 156 157 158 159 160 161 162 163 164 165 166 167 168 169\n",
            " 170 171 172 173 174 175 176 177 178 179 180 181 182 184 185 187 188 189\n",
            " 190 191 192 193 194 195 196 198 199 200 201 203 204 205 206 207 208 209\n",
            " 210 211 212 213 214 215 216 217 218 220 221 222 223 225 226 227 228 229\n",
            " 230 231 234 235 236 237 238 239 240 241 242 243 244 245 247 248 249 250\n",
            " 251 252 253 254 255 256 257 259 260 261 263 264 265 266 268 269 270 271\n",
            " 272 273 274 275 276 277 278 280 281 283 284 285 286 287 288 289 290 291\n",
            " 292 294 295 296 298 299 300 301 302 303 304 305 306 307 308 309 310 311\n",
            " 312 313 314 315 316 318 319 320 321 322 323 324 326 327 328 329 330 331\n",
            " 332 333 334 335 336 337 338 339 340 341 342 343 344 345 346 349 350 351\n",
            " 352 353 354 355 356 357 359 360 361 362 363 364 365 366 367 368 369 370\n",
            " 371 372 374 375 377 378 379 380 381 382 383 385 387 388 389 390 391 392\n",
            " 393 394 395 396 397 398 399 401 403 404 405 406 407 408 409 411 412 413\n",
            " 416 417 418 419 420 421 422 423 424 425 426 427 428 429 430 431 432 433\n",
            " 434 435 436 437 439 440 442 443 444 445 446 447 448 449 450 451 452 453\n",
            " 454 455 456 457 458 459 460 461 462 464 465 466 467 468 469 470 471 473\n",
            " 474 475 476 477 478 479 480 481 482 483 484 485 486 487 489 490 491 492\n",
            " 493 494 495 497 498 499 500 501 502 503 504 506 507 508 510 511 512 513\n",
            " 514 515 516 517 518 519 520 521 522 523 524 525 526 527 528 529 531 532\n",
            " 533 534 535 536 537 540 541 542 543 544 545 546 547 548 549 550 551 553\n",
            " 554 555 556 557 558 560 561 562 563 564 565 566 568 569 570 571 573 574\n",
            " 575 576 577 578 579 582 583 585 586 587 588 589 590 591 592 593 594 595\n",
            " 596 597 598 599 600 602 603 604 606 607 608 609 610 611 612 613 614 615\n",
            " 616 617 618 619 620 621 622 623 624 625 627 628 629 630 631 632 633 634\n",
            " 635 637 638 639 641 642 643 644 645 646 647 648 649 650 651 654 655 656\n",
            " 658 659 660 661 663 664 665 666 667 669 670 672 673 674 675 676 677 678\n",
            " 680 681 682 683 684 685 686 687 688 689 690 691 692 693 694 695 696 697\n",
            " 699 700 702 703 704 705 706 707 708 709 710 711 713 714 715 716 717 718\n",
            " 719 720 721 722 723 725 726 727 728 729 731 732 733 734 735]\n",
            "Testing Index [112 122 123 129 143 146 147 150 183 186 197 202 219 224 232 233 246 258\n",
            " 262 267 279 282 293 297 317 325 347 348 358 373 376 384 386 400 402 410\n",
            " 414 415 438 441 463 472 488 496 505 509 530 538 539 552 559 567 572 580\n",
            " 581 584 601 605 626 636 640 652 653 657 662 668 671 679 698 701 712 724\n",
            " 730]\n",
            "Training Index [  0   1   2   3   5   6   7   8   9  10  11  12  13  15  16  17  18  19\n",
            "  20  21  22  23  24  25  26  28  29  30  31  33  34  36  37  38  39  41\n",
            "  42  43  44  45  46  48  49  50  51  53  54  55  56  57  58  59  60  61\n",
            "  63  65  66  67  68  69  70  71  72  73  74  75  76  77  78  79  80  81\n",
            "  82  83  84  86  87  88  89  90  91  92  93  94  96  97  99 100 101 102\n",
            " 103 104 105 106 107 108 109 110 111 112 113 114 115 116 117 118 119 120\n",
            " 121 122 123 124 125 126 127 129 130 131 132 133 135 136 137 139 140 141\n",
            " 142 143 144 145 146 147 148 149 150 151 152 153 154 155 157 158 160 162\n",
            " 163 164 165 166 167 168 169 171 172 173 174 175 176 177 178 179 180 181\n",
            " 182 183 184 185 186 188 189 190 191 192 193 194 195 196 197 198 199 202\n",
            " 203 204 205 207 208 209 210 211 212 213 214 215 218 219 220 221 222 223\n",
            " 224 225 226 227 228 229 231 232 233 234 235 236 237 238 239 241 243 244\n",
            " 245 246 247 248 249 250 252 253 254 255 256 257 258 259 260 261 262 263\n",
            " 264 265 266 267 268 270 271 272 273 274 275 276 277 278 279 280 281 282\n",
            " 283 284 285 286 287 289 290 291 292 293 294 296 297 298 299 300 301 302\n",
            " 303 304 305 306 307 308 309 310 311 312 313 314 315 316 317 318 319 320\n",
            " 321 322 323 324 325 326 327 328 329 330 331 332 333 334 335 336 338 339\n",
            " 340 341 342 343 344 345 346 347 348 349 350 351 352 353 354 355 356 357\n",
            " 358 359 360 361 362 363 364 365 366 367 368 369 370 371 372 373 374 375\n",
            " 376 377 380 381 382 383 384 385 386 387 388 389 390 393 394 395 396 398\n",
            " 399 400 401 402 403 404 405 407 408 409 410 411 412 413 414 415 416 417\n",
            " 419 420 421 422 423 424 425 426 427 428 429 430 431 432 433 434 435 436\n",
            " 437 438 439 440 441 442 443 444 445 446 447 448 449 450 451 452 453 454\n",
            " 456 457 458 459 462 463 464 465 466 467 468 469 470 472 473 474 475 476\n",
            " 477 478 479 480 481 482 483 484 485 486 487 488 490 491 493 494 495 496\n",
            " 497 499 500 501 503 504 505 506 507 508 509 510 511 512 513 514 515 516\n",
            " 517 518 519 521 522 523 525 526 527 528 529 530 531 532 533 534 535 536\n",
            " 537 538 539 541 542 543 544 545 547 548 549 550 551 552 554 557 558 559\n",
            " 560 561 562 564 565 566 567 568 569 570 571 572 575 576 578 579 580 581\n",
            " 582 583 584 585 586 587 588 589 590 591 593 594 595 596 597 598 599 600\n",
            " 601 602 603 604 605 606 607 608 609 610 611 613 614 615 616 617 618 619\n",
            " 620 624 625 626 627 629 631 632 633 634 635 636 637 638 639 640 641 642\n",
            " 643 644 646 648 649 650 651 652 653 654 655 657 658 659 660 661 662 663\n",
            " 664 665 666 667 668 669 670 671 672 673 674 675 676 677 678 679 680 681\n",
            " 682 683 684 685 686 687 688 689 690 692 693 694 695 696 697 698 699 700\n",
            " 701 702 703 704 705 706 707 708 709 710 711 712 713 714 716 717 718 719\n",
            " 720 721 722 723 724 725 726 727 728 729 730 731 732 734 735]\n",
            "Testing Index [  4  14  27  32  35  40  47  52  62  64  85  95  98 128 134 138 156 159\n",
            " 161 170 187 200 201 206 216 217 230 240 242 251 269 288 295 337 378 379\n",
            " 391 392 397 406 418 455 460 461 471 489 492 498 502 520 524 540 546 553\n",
            " 555 556 563 573 574 577 592 612 621 622 623 628 630 645 647 656 691 715\n",
            " 733]\n",
            "Training Index [  0   2   3   4   5   6   7   8   9  10  11  12  14  15  16  17  18  19\n",
            "  22  23  24  25  26  27  28  29  30  31  32  33  35  36  37  38  39  40\n",
            "  41  42  43  44  45  46  47  48  49  50  51  52  53  54  55  56  57  59\n",
            "  60  61  62  63  64  65  66  67  68  69  70  72  73  74  75  76  77  78\n",
            "  79  81  82  83  84  85  86  88  89  90  92  93  94  95  96  97  98 100\n",
            " 101 103 104 107 108 109 110 111 112 113 114 115 116 117 118 119 120 122\n",
            " 123 124 125 126 127 128 129 131 132 133 134 135 136 137 138 139 140 141\n",
            " 142 143 144 145 146 147 148 149 150 151 152 153 154 155 156 157 158 159\n",
            " 161 162 163 164 165 167 168 169 170 171 172 173 174 175 176 177 178 179\n",
            " 180 181 182 183 184 185 186 187 188 190 192 193 194 195 196 197 198 199\n",
            " 200 201 202 203 204 206 207 208 209 210 211 212 213 215 216 217 218 219\n",
            " 220 221 222 223 224 225 226 227 228 229 230 231 232 233 234 235 236 237\n",
            " 238 239 240 242 244 245 246 247 248 249 250 251 253 254 255 256 257 258\n",
            " 259 260 261 262 263 264 265 266 267 268 269 271 272 274 275 277 278 279\n",
            " 280 281 282 283 284 285 286 287 288 289 290 291 292 293 294 295 296 297\n",
            " 298 299 300 301 302 303 304 305 306 307 309 310 311 312 314 316 317 318\n",
            " 319 320 321 322 323 324 325 326 327 328 329 331 332 333 334 335 336 337\n",
            " 338 340 341 342 344 346 347 348 349 350 351 352 353 354 355 356 357 358\n",
            " 359 360 361 362 363 364 365 367 368 369 370 371 373 374 375 376 377 378\n",
            " 379 380 381 382 383 384 386 388 390 391 392 393 394 395 396 397 398 399\n",
            " 400 402 403 404 405 406 407 408 409 410 411 412 414 415 416 417 418 419\n",
            " 420 421 422 423 424 425 426 428 429 430 431 432 433 434 436 437 438 439\n",
            " 440 441 442 443 444 445 446 447 448 449 450 451 452 453 455 456 457 460\n",
            " 461 462 463 464 465 467 468 469 470 471 472 473 477 478 479 480 481 482\n",
            " 483 485 486 487 488 489 490 492 493 494 495 496 497 498 499 500 501 502\n",
            " 503 505 506 507 509 511 512 513 514 515 516 517 518 519 520 521 522 523\n",
            " 524 525 526 527 528 529 530 531 532 533 534 535 536 537 538 539 540 541\n",
            " 542 543 544 545 546 547 548 549 550 551 552 553 554 555 556 557 558 559\n",
            " 563 567 568 569 570 571 572 573 574 575 576 577 578 579 580 581 582 583\n",
            " 584 585 586 587 588 589 590 591 592 593 594 595 596 597 598 599 601 602\n",
            " 603 604 605 606 607 608 609 610 611 612 613 615 616 617 618 619 620 621\n",
            " 622 623 624 625 626 627 628 629 630 631 632 633 634 635 636 637 638 639\n",
            " 640 641 642 643 644 645 647 648 649 650 651 652 653 654 655 656 657 658\n",
            " 659 660 662 664 665 666 667 668 669 670 671 672 673 674 675 676 677 678\n",
            " 679 680 682 683 684 685 687 688 689 690 691 692 693 694 695 696 698 699\n",
            " 701 702 703 704 705 706 707 708 709 710 711 712 713 714 715 716 717 719\n",
            " 720 721 722 723 724 725 726 727 728 730 731 732 733 734 735]\n",
            "Testing Index [  1  13  20  21  34  58  71  80  87  91  99 102 105 106 121 130 160 166\n",
            " 189 191 205 214 241 243 252 270 273 276 308 313 315 330 339 343 345 366\n",
            " 372 385 387 389 401 413 427 435 454 458 459 466 474 475 476 484 491 504\n",
            " 508 510 560 561 562 564 565 566 600 614 646 661 663 681 686 697 700 718\n",
            " 729]\n"
          ]
        }
      ]
    },
    {
      "cell_type": "code",
      "source": [
        "cv_result_svm=cross_val_score(svm_model,x,y,cv=kfold_validator_svm)"
      ],
      "metadata": {
        "id": "_P-pgpgoMqGw"
      },
      "execution_count": 122,
      "outputs": []
    },
    {
      "cell_type": "code",
      "source": [
        "cv_result_svm #k fold cross validation scores"
      ],
      "metadata": {
        "colab": {
          "base_uri": "https://localhost:8080/"
        },
        "id": "pmezcTaTMtO3",
        "outputId": "01a5eb1c-a0c8-40bd-e85e-fd1b159f042f"
      },
      "execution_count": 123,
      "outputs": [
        {
          "output_type": "execute_result",
          "data": {
            "text/plain": [
              "array([0.71621622, 0.83783784, 0.74324324, 0.85135135, 0.81081081,\n",
              "       0.82432432, 0.83561644, 0.84931507, 0.71232877, 0.75342466])"
            ]
          },
          "metadata": {},
          "execution_count": 123
        }
      ]
    },
    {
      "cell_type": "code",
      "source": [
        "np.mean(cv_result_svm)"
      ],
      "metadata": {
        "colab": {
          "base_uri": "https://localhost:8080/"
        },
        "id": "NK5K-xpRMw_f",
        "outputId": "76164bba-e7ae-4aba-ce20-faa6ae726971"
      },
      "execution_count": 124,
      "outputs": [
        {
          "output_type": "execute_result",
          "data": {
            "text/plain": [
              "0.7934468715290632"
            ]
          },
          "metadata": {},
          "execution_count": 124
        }
      ]
    },
    {
      "cell_type": "markdown",
      "source": [
        "Stratified K Fold Cross Validation of SVM Model"
      ],
      "metadata": {
        "id": "zYZVQks8M5FD"
      }
    },
    {
      "cell_type": "code",
      "source": [
        "skfold_validator_svm=StratifiedKFold(n_splits=10)"
      ],
      "metadata": {
        "id": "O23oBEL1M6by"
      },
      "execution_count": 125,
      "outputs": []
    },
    {
      "cell_type": "code",
      "source": [
        "for train_index,test_index in skfold_validator_svm.split(x,y):\n",
        "  print('Training Index',train_index)\n",
        "  print('Testing Index',test_index)"
      ],
      "metadata": {
        "colab": {
          "base_uri": "https://localhost:8080/"
        },
        "id": "-kh9Hkg4M_Z9",
        "outputId": "a209c252-f9eb-43ee-e79f-4989af9c5472"
      },
      "execution_count": 126,
      "outputs": [
        {
          "output_type": "stream",
          "name": "stdout",
          "text": [
            "Training Index [ 61  65  66  68  69  71  72  81  82  83  84  85  86  87  88  89  90  91\n",
            "  92  93  94  95  96  97  98  99 100 101 102 103 104 105 106 107 108 109\n",
            " 110 111 112 113 114 115 116 117 118 119 120 121 122 123 124 125 126 127\n",
            " 128 129 130 131 132 133 134 135 136 137 138 139 140 141 142 143 144 145\n",
            " 146 147 148 149 150 151 152 153 154 155 156 157 158 159 160 161 162 163\n",
            " 164 165 166 167 168 169 170 171 172 173 174 175 176 177 178 179 180 181\n",
            " 182 183 184 185 186 187 188 189 190 191 192 193 194 195 196 197 198 199\n",
            " 200 201 202 203 204 205 206 207 208 209 210 211 212 213 214 215 216 217\n",
            " 218 219 220 221 222 223 224 225 226 227 228 229 230 231 232 233 234 235\n",
            " 236 237 238 239 240 241 242 243 244 245 246 247 248 249 250 251 252 253\n",
            " 254 255 256 257 258 259 260 261 262 263 264 265 266 267 268 269 270 271\n",
            " 272 273 274 275 276 277 278 279 280 281 282 283 284 285 286 287 288 289\n",
            " 290 291 292 293 294 295 296 297 298 299 300 301 302 303 304 305 306 307\n",
            " 308 309 310 311 312 313 314 315 316 317 318 319 320 321 322 323 324 325\n",
            " 326 327 328 329 330 331 332 333 334 335 336 337 338 339 340 341 342 343\n",
            " 344 345 346 347 348 349 350 351 352 353 354 355 356 357 358 359 360 361\n",
            " 362 363 364 365 366 367 368 369 370 371 372 373 374 375 376 377 378 379\n",
            " 380 381 382 383 384 385 386 387 388 389 390 391 392 393 394 395 396 397\n",
            " 398 399 400 401 402 403 404 405 406 407 408 409 410 411 412 413 414 415\n",
            " 416 417 418 419 420 421 422 423 424 425 426 427 428 429 430 431 432 433\n",
            " 434 435 436 437 438 439 440 441 442 443 444 445 446 447 448 449 450 451\n",
            " 452 453 454 455 456 457 458 459 460 461 462 463 464 465 466 467 468 469\n",
            " 470 471 472 473 474 475 476 477 478 479 480 481 482 483 484 485 486 487\n",
            " 488 489 490 491 492 493 494 495 496 497 498 499 500 501 502 503 504 505\n",
            " 506 507 508 509 510 511 512 513 514 515 516 517 518 519 520 521 522 523\n",
            " 524 525 526 527 528 529 530 531 532 533 534 535 536 537 538 539 540 541\n",
            " 542 543 544 545 546 547 548 549 550 551 552 553 554 555 556 557 558 559\n",
            " 560 561 562 563 564 565 566 567 568 569 570 571 572 573 574 575 576 577\n",
            " 578 579 580 581 582 583 584 585 586 587 588 589 590 591 592 593 594 595\n",
            " 596 597 598 599 600 601 602 603 604 605 606 607 608 609 610 611 612 613\n",
            " 614 615 616 617 618 619 620 621 622 623 624 625 626 627 628 629 630 631\n",
            " 632 633 634 635 636 637 638 639 640 641 642 643 644 645 646 647 648 649\n",
            " 650 651 652 653 654 655 656 657 658 659 660 661 662 663 664 665 666 667\n",
            " 668 669 670 671 672 673 674 675 676 677 678 679 680 681 682 683 684 685\n",
            " 686 687 688 689 690 691 692 693 694 695 696 697 698 699 700 701 702 703\n",
            " 704 705 706 707 708 709 710 711 712 713 714 715 716 717 718 719 720 721\n",
            " 722 723 724 725 726 727 728 729 730 731 732 733 734 735]\n",
            "Testing Index [ 0  1  2  3  4  5  6  7  8  9 10 11 12 13 14 15 16 17 18 19 20 21 22 23\n",
            " 24 25 26 27 28 29 30 31 32 33 34 35 36 37 38 39 40 41 42 43 44 45 46 47\n",
            " 48 49 50 51 52 53 54 55 56 57 58 59 60 62 63 64 67 70 73 74 75 76 77 78\n",
            " 79 80]\n",
            "Training Index [  0   1   2   3   4   5   6   7   8   9  10  11  12  13  14  15  16  17\n",
            "  18  19  20  21  22  23  24  25  26  27  28  29  30  31  32  33  34  35\n",
            "  36  37  38  39  40  41  42  43  44  45  46  47  48  49  50  51  52  53\n",
            "  54  55  56  57  58  59  60  62  63  64  67  70  73  74  75  76  77  78\n",
            "  79  80 146 149 150 151 152 153 154 155 156 157 158 159 160 161 162 163\n",
            " 164 165 166 167 168 169 170 171 172 173 174 175 176 177 178 179 180 181\n",
            " 182 183 184 185 186 187 188 189 190 191 192 193 194 195 196 197 198 199\n",
            " 200 201 202 203 204 205 206 207 208 209 210 211 212 213 214 215 216 217\n",
            " 218 219 220 221 222 223 224 225 226 227 228 229 230 231 232 233 234 235\n",
            " 236 237 238 239 240 241 242 243 244 245 246 247 248 249 250 251 252 253\n",
            " 254 255 256 257 258 259 260 261 262 263 264 265 266 267 268 269 270 271\n",
            " 272 273 274 275 276 277 278 279 280 281 282 283 284 285 286 287 288 289\n",
            " 290 291 292 293 294 295 296 297 298 299 300 301 302 303 304 305 306 307\n",
            " 308 309 310 311 312 313 314 315 316 317 318 319 320 321 322 323 324 325\n",
            " 326 327 328 329 330 331 332 333 334 335 336 337 338 339 340 341 342 343\n",
            " 344 345 346 347 348 349 350 351 352 353 354 355 356 357 358 359 360 361\n",
            " 362 363 364 365 366 367 368 369 370 371 372 373 374 375 376 377 378 379\n",
            " 380 381 382 383 384 385 386 387 388 389 390 391 392 393 394 395 396 397\n",
            " 398 399 400 401 402 403 404 405 406 407 408 409 410 411 412 413 414 415\n",
            " 416 417 418 419 420 421 422 423 424 425 426 427 428 429 430 431 432 433\n",
            " 434 435 436 437 438 439 440 441 442 443 444 445 446 447 448 449 450 451\n",
            " 452 453 454 455 456 457 458 459 460 461 462 463 464 465 466 467 468 469\n",
            " 470 471 472 473 474 475 476 477 478 479 480 481 482 483 484 485 486 487\n",
            " 488 489 490 491 492 493 494 495 496 497 498 499 500 501 502 503 504 505\n",
            " 506 507 508 509 510 511 512 513 514 515 516 517 518 519 520 521 522 523\n",
            " 524 525 526 527 528 529 530 531 532 533 534 535 536 537 538 539 540 541\n",
            " 542 543 544 545 546 547 548 549 550 551 552 553 554 555 556 557 558 559\n",
            " 560 561 562 563 564 565 566 567 568 569 570 571 572 573 574 575 576 577\n",
            " 578 579 580 581 582 583 584 585 586 587 588 589 590 591 592 593 594 595\n",
            " 596 597 598 599 600 601 602 603 604 605 606 607 608 609 610 611 612 613\n",
            " 614 615 616 617 618 619 620 621 622 623 624 625 626 627 628 629 630 631\n",
            " 632 633 634 635 636 637 638 639 640 641 642 643 644 645 646 647 648 649\n",
            " 650 651 652 653 654 655 656 657 658 659 660 661 662 663 664 665 666 667\n",
            " 668 669 670 671 672 673 674 675 676 677 678 679 680 681 682 683 684 685\n",
            " 686 687 688 689 690 691 692 693 694 695 696 697 698 699 700 701 702 703\n",
            " 704 705 706 707 708 709 710 711 712 713 714 715 716 717 718 719 720 721\n",
            " 722 723 724 725 726 727 728 729 730 731 732 733 734 735]\n",
            "Testing Index [ 61  65  66  68  69  71  72  81  82  83  84  85  86  87  88  89  90  91\n",
            "  92  93  94  95  96  97  98  99 100 101 102 103 104 105 106 107 108 109\n",
            " 110 111 112 113 114 115 116 117 118 119 120 121 122 123 124 125 126 127\n",
            " 128 129 130 131 132 133 134 135 136 137 138 139 140 141 142 143 144 145\n",
            " 147 148]\n",
            "Training Index [  0   1   2   3   4   5   6   7   8   9  10  11  12  13  14  15  16  17\n",
            "  18  19  20  21  22  23  24  25  26  27  28  29  30  31  32  33  34  35\n",
            "  36  37  38  39  40  41  42  43  44  45  46  47  48  49  50  51  52  53\n",
            "  54  55  56  57  58  59  60  61  62  63  64  65  66  67  68  69  70  71\n",
            "  72  73  74  75  76  77  78  79  80  81  82  83  84  85  86  87  88  89\n",
            "  90  91  92  93  94  95  96  97  98  99 100 101 102 103 104 105 106 107\n",
            " 108 109 110 111 112 113 114 115 116 117 118 119 120 121 122 123 124 125\n",
            " 126 127 128 129 130 131 132 133 134 135 136 137 138 139 140 141 142 143\n",
            " 144 145 147 148 222 223 224 225 226 227 228 229 230 231 232 233 234 235\n",
            " 236 237 238 239 240 241 242 243 244 245 246 247 248 249 250 251 252 253\n",
            " 254 255 256 257 258 259 260 261 262 263 264 265 266 267 268 269 270 271\n",
            " 272 273 274 275 276 277 278 279 280 281 282 283 284 285 286 287 288 289\n",
            " 290 291 292 293 294 295 296 297 298 299 300 301 302 303 304 305 306 307\n",
            " 308 309 310 311 312 313 314 315 316 317 318 319 320 321 322 323 324 325\n",
            " 326 327 328 329 330 331 332 333 334 335 336 337 338 339 340 341 342 343\n",
            " 344 345 346 347 348 349 350 351 352 353 354 355 356 357 358 359 360 361\n",
            " 362 363 364 365 366 367 368 369 370 371 372 373 374 375 376 377 378 379\n",
            " 380 381 382 383 384 385 386 387 388 389 390 391 392 393 394 395 396 397\n",
            " 398 399 400 401 402 403 404 405 406 407 408 409 410 411 412 413 414 415\n",
            " 416 417 418 419 420 421 422 423 424 425 426 427 428 429 430 431 432 433\n",
            " 434 435 436 437 438 439 440 441 442 443 444 445 446 447 448 449 450 451\n",
            " 452 453 454 455 456 457 458 459 460 461 462 463 464 465 466 467 468 469\n",
            " 470 471 472 473 474 475 476 477 478 479 480 481 482 483 484 485 486 487\n",
            " 488 489 490 491 492 493 494 495 496 497 498 499 500 501 502 503 504 505\n",
            " 506 507 508 509 510 511 512 513 514 515 516 517 518 519 520 521 522 523\n",
            " 524 525 526 527 528 529 530 531 532 533 534 535 536 537 538 539 540 541\n",
            " 542 543 544 545 546 547 548 549 550 551 552 553 554 555 556 557 558 559\n",
            " 560 561 562 563 564 565 566 567 568 569 570 571 572 573 574 575 576 577\n",
            " 578 579 580 581 582 583 584 585 586 587 588 589 590 591 592 593 594 595\n",
            " 596 597 598 599 600 601 602 603 604 605 606 607 608 609 610 611 612 613\n",
            " 614 615 616 617 618 619 620 621 622 623 624 625 626 627 628 629 630 631\n",
            " 632 633 634 635 636 637 638 639 640 641 642 643 644 645 646 647 648 649\n",
            " 650 651 652 653 654 655 656 657 658 659 660 661 662 663 664 665 666 667\n",
            " 668 669 670 671 672 673 674 675 676 677 678 679 680 681 682 683 684 685\n",
            " 686 687 688 689 690 691 692 693 694 695 696 697 698 699 700 701 702 703\n",
            " 704 705 706 707 708 709 710 711 712 713 714 715 716 717 718 719 720 721\n",
            " 722 723 724 725 726 727 728 729 730 731 732 733 734 735]\n",
            "Testing Index [146 149 150 151 152 153 154 155 156 157 158 159 160 161 162 163 164 165\n",
            " 166 167 168 169 170 171 172 173 174 175 176 177 178 179 180 181 182 183\n",
            " 184 185 186 187 188 189 190 191 192 193 194 195 196 197 198 199 200 201\n",
            " 202 203 204 205 206 207 208 209 210 211 212 213 214 215 216 217 218 219\n",
            " 220 221]\n",
            "Training Index [  0   1   2   3   4   5   6   7   8   9  10  11  12  13  14  15  16  17\n",
            "  18  19  20  21  22  23  24  25  26  27  28  29  30  31  32  33  34  35\n",
            "  36  37  38  39  40  41  42  43  44  45  46  47  48  49  50  51  52  53\n",
            "  54  55  56  57  58  59  60  61  62  63  64  65  66  67  68  69  70  71\n",
            "  72  73  74  75  76  77  78  79  80  81  82  83  84  85  86  87  88  89\n",
            "  90  91  92  93  94  95  96  97  98  99 100 101 102 103 104 105 106 107\n",
            " 108 109 110 111 112 113 114 115 116 117 118 119 120 121 122 123 124 125\n",
            " 126 127 128 129 130 131 132 133 134 135 136 137 138 139 140 141 142 143\n",
            " 144 145 146 147 148 149 150 151 152 153 154 155 156 157 158 159 160 161\n",
            " 162 163 164 165 166 167 168 169 170 171 172 173 174 175 176 177 178 179\n",
            " 180 181 182 183 184 185 186 187 188 189 190 191 192 193 194 195 196 197\n",
            " 198 199 200 201 202 203 204 205 206 207 208 209 210 211 212 213 214 215\n",
            " 216 217 218 219 220 221 281 282 290 292 293 300 301 302 304 305 306 307\n",
            " 308 309 310 311 312 313 314 315 316 317 318 319 320 321 322 323 324 325\n",
            " 326 327 328 329 330 331 332 333 334 335 336 337 338 339 340 341 342 343\n",
            " 344 345 346 347 348 349 350 351 352 353 354 355 356 357 358 359 360 361\n",
            " 362 363 364 365 366 367 368 369 370 371 372 373 374 375 376 377 378 379\n",
            " 380 381 382 383 384 385 386 387 388 389 390 391 392 393 394 395 396 397\n",
            " 398 399 400 401 402 403 404 405 406 407 408 409 410 411 412 413 414 415\n",
            " 416 417 418 419 420 421 422 423 424 425 426 427 428 429 430 431 432 433\n",
            " 434 435 436 437 438 439 440 441 442 443 444 445 446 447 448 449 450 451\n",
            " 452 453 454 455 456 457 458 459 460 461 462 463 464 465 466 467 468 469\n",
            " 470 471 472 473 474 475 476 477 478 479 480 481 482 483 484 485 486 487\n",
            " 488 489 490 491 492 493 494 495 496 497 498 499 500 501 502 503 504 505\n",
            " 506 507 508 509 510 511 512 513 514 515 516 517 518 519 520 521 522 523\n",
            " 524 525 526 527 528 529 530 531 532 533 534 535 536 537 538 539 540 541\n",
            " 542 543 544 545 546 547 548 549 550 551 552 553 554 555 556 557 558 559\n",
            " 560 561 562 563 564 565 566 567 568 569 570 571 572 573 574 575 576 577\n",
            " 578 579 580 581 582 583 584 585 586 587 588 589 590 591 592 593 594 595\n",
            " 596 597 598 599 600 601 602 603 604 605 606 607 608 609 610 611 612 613\n",
            " 614 615 616 617 618 619 620 621 622 623 624 625 626 627 628 629 630 631\n",
            " 632 633 634 635 636 637 638 639 640 641 642 643 644 645 646 647 648 649\n",
            " 650 651 652 653 654 655 656 657 658 659 660 661 662 663 664 665 666 667\n",
            " 668 669 670 671 672 673 674 675 676 677 678 679 680 681 682 683 684 685\n",
            " 686 687 688 689 690 691 692 693 694 695 696 697 698 699 700 701 702 703\n",
            " 704 705 706 707 708 709 710 711 712 713 714 715 716 717 718 719 720 721\n",
            " 722 723 724 725 726 727 728 729 730 731 732 733 734 735]\n",
            "Testing Index [222 223 224 225 226 227 228 229 230 231 232 233 234 235 236 237 238 239\n",
            " 240 241 242 243 244 245 246 247 248 249 250 251 252 253 254 255 256 257\n",
            " 258 259 260 261 262 263 264 265 266 267 268 269 270 271 272 273 274 275\n",
            " 276 277 278 279 280 283 284 285 286 287 288 289 291 294 295 296 297 298\n",
            " 299 303]\n",
            "Training Index [  0   1   2   3   4   5   6   7   8   9  10  11  12  13  14  15  16  17\n",
            "  18  19  20  21  22  23  24  25  26  27  28  29  30  31  32  33  34  35\n",
            "  36  37  38  39  40  41  42  43  44  45  46  47  48  49  50  51  52  53\n",
            "  54  55  56  57  58  59  60  61  62  63  64  65  66  67  68  69  70  71\n",
            "  72  73  74  75  76  77  78  79  80  81  82  83  84  85  86  87  88  89\n",
            "  90  91  92  93  94  95  96  97  98  99 100 101 102 103 104 105 106 107\n",
            " 108 109 110 111 112 113 114 115 116 117 118 119 120 121 122 123 124 125\n",
            " 126 127 128 129 130 131 132 133 134 135 136 137 138 139 140 141 142 143\n",
            " 144 145 146 147 148 149 150 151 152 153 154 155 156 157 158 159 160 161\n",
            " 162 163 164 165 166 167 168 169 170 171 172 173 174 175 176 177 178 179\n",
            " 180 181 182 183 184 185 186 187 188 189 190 191 192 193 194 195 196 197\n",
            " 198 199 200 201 202 203 204 205 206 207 208 209 210 211 212 213 214 215\n",
            " 216 217 218 219 220 221 222 223 224 225 226 227 228 229 230 231 232 233\n",
            " 234 235 236 237 238 239 240 241 242 243 244 245 246 247 248 249 250 251\n",
            " 252 253 254 255 256 257 258 259 260 261 262 263 264 265 266 267 268 269\n",
            " 270 271 272 273 274 275 276 277 278 279 280 283 284 285 286 287 288 289\n",
            " 291 294 295 296 297 298 299 303 356 360 362 365 366 367 368 369 370 375\n",
            " 376 377 379 383 384 385 386 387 388 389 390 391 392 393 394 395 396 397\n",
            " 398 399 400 401 402 403 404 405 406 407 408 409 410 411 412 413 414 415\n",
            " 416 417 418 419 420 421 422 423 424 425 426 427 428 429 430 431 432 433\n",
            " 434 435 436 437 438 439 440 441 442 443 444 445 446 447 448 449 450 451\n",
            " 452 453 454 455 456 457 458 459 460 461 462 463 464 465 466 467 468 469\n",
            " 470 471 472 473 474 475 476 477 478 479 480 481 482 483 484 485 486 487\n",
            " 488 489 490 491 492 493 494 495 496 497 498 499 500 501 502 503 504 505\n",
            " 506 507 508 509 510 511 512 513 514 515 516 517 518 519 520 521 522 523\n",
            " 524 525 526 527 528 529 530 531 532 533 534 535 536 537 538 539 540 541\n",
            " 542 543 544 545 546 547 548 549 550 551 552 553 554 555 556 557 558 559\n",
            " 560 561 562 563 564 565 566 567 568 569 570 571 572 573 574 575 576 577\n",
            " 578 579 580 581 582 583 584 585 586 587 588 589 590 591 592 593 594 595\n",
            " 596 597 598 599 600 601 602 603 604 605 606 607 608 609 610 611 612 613\n",
            " 614 615 616 617 618 619 620 621 622 623 624 625 626 627 628 629 630 631\n",
            " 632 633 634 635 636 637 638 639 640 641 642 643 644 645 646 647 648 649\n",
            " 650 651 652 653 654 655 656 657 658 659 660 661 662 663 664 665 666 667\n",
            " 668 669 670 671 672 673 674 675 676 677 678 679 680 681 682 683 684 685\n",
            " 686 687 688 689 690 691 692 693 694 695 696 697 698 699 700 701 702 703\n",
            " 704 705 706 707 708 709 710 711 712 713 714 715 716 717 718 719 720 721\n",
            " 722 723 724 725 726 727 728 729 730 731 732 733 734 735]\n",
            "Testing Index [281 282 290 292 293 300 301 302 304 305 306 307 308 309 310 311 312 313\n",
            " 314 315 316 317 318 319 320 321 322 323 324 325 326 327 328 329 330 331\n",
            " 332 333 334 335 336 337 338 339 340 341 342 343 344 345 346 347 348 349\n",
            " 350 351 352 353 354 355 357 358 359 361 363 364 371 372 373 374 378 380\n",
            " 381 382]\n",
            "Training Index [  0   1   2   3   4   5   6   7   8   9  10  11  12  13  14  15  16  17\n",
            "  18  19  20  21  22  23  24  25  26  27  28  29  30  31  32  33  34  35\n",
            "  36  37  38  39  40  41  42  43  44  45  46  47  48  49  50  51  52  53\n",
            "  54  55  56  57  58  59  60  61  62  63  64  65  66  67  68  69  70  71\n",
            "  72  73  74  75  76  77  78  79  80  81  82  83  84  85  86  87  88  89\n",
            "  90  91  92  93  94  95  96  97  98  99 100 101 102 103 104 105 106 107\n",
            " 108 109 110 111 112 113 114 115 116 117 118 119 120 121 122 123 124 125\n",
            " 126 127 128 129 130 131 132 133 134 135 136 137 138 139 140 141 142 143\n",
            " 144 145 146 147 148 149 150 151 152 153 154 155 156 157 158 159 160 161\n",
            " 162 163 164 165 166 167 168 169 170 171 172 173 174 175 176 177 178 179\n",
            " 180 181 182 183 184 185 186 187 188 189 190 191 192 193 194 195 196 197\n",
            " 198 199 200 201 202 203 204 205 206 207 208 209 210 211 212 213 214 215\n",
            " 216 217 218 219 220 221 222 223 224 225 226 227 228 229 230 231 232 233\n",
            " 234 235 236 237 238 239 240 241 242 243 244 245 246 247 248 249 250 251\n",
            " 252 253 254 255 256 257 258 259 260 261 262 263 264 265 266 267 268 269\n",
            " 270 271 272 273 274 275 276 277 278 279 280 281 282 283 284 285 286 287\n",
            " 288 289 290 291 292 293 294 295 296 297 298 299 300 301 302 303 304 305\n",
            " 306 307 308 309 310 311 312 313 314 315 316 317 318 319 320 321 322 323\n",
            " 324 325 326 327 328 329 330 331 332 333 334 335 336 337 338 339 340 341\n",
            " 342 343 344 345 346 347 348 349 350 351 352 353 354 355 357 358 359 361\n",
            " 363 364 371 372 373 374 378 380 381 382 432 435 438 440 443 446 447 448\n",
            " 450 453 454 455 456 457 458 459 460 461 462 463 464 465 466 467 468 469\n",
            " 470 471 472 473 474 475 476 477 478 479 480 481 482 483 484 485 486 487\n",
            " 488 489 490 491 492 493 494 495 496 497 498 499 500 501 502 503 504 505\n",
            " 506 507 508 509 510 511 512 513 514 515 516 517 518 519 520 521 522 523\n",
            " 524 525 526 527 528 529 530 531 532 533 534 535 536 537 538 539 540 541\n",
            " 542 543 544 545 546 547 548 549 550 551 552 553 554 555 556 557 558 559\n",
            " 560 561 562 563 564 565 566 567 568 569 570 571 572 573 574 575 576 577\n",
            " 578 579 580 581 582 583 584 585 586 587 588 589 590 591 592 593 594 595\n",
            " 596 597 598 599 600 601 602 603 604 605 606 607 608 609 610 611 612 613\n",
            " 614 615 616 617 618 619 620 621 622 623 624 625 626 627 628 629 630 631\n",
            " 632 633 634 635 636 637 638 639 640 641 642 643 644 645 646 647 648 649\n",
            " 650 651 652 653 654 655 656 657 658 659 660 661 662 663 664 665 666 667\n",
            " 668 669 670 671 672 673 674 675 676 677 678 679 680 681 682 683 684 685\n",
            " 686 687 688 689 690 691 692 693 694 695 696 697 698 699 700 701 702 703\n",
            " 704 705 706 707 708 709 710 711 712 713 714 715 716 717 718 719 720 721\n",
            " 722 723 724 725 726 727 728 729 730 731 732 733 734 735]\n",
            "Testing Index [356 360 362 365 366 367 368 369 370 375 376 377 379 383 384 385 386 387\n",
            " 388 389 390 391 392 393 394 395 396 397 398 399 400 401 402 403 404 405\n",
            " 406 407 408 409 410 411 412 413 414 415 416 417 418 419 420 421 422 423\n",
            " 424 425 426 427 428 429 430 431 433 434 436 437 439 441 442 444 445 449\n",
            " 451 452]\n",
            "Training Index [  0   1   2   3   4   5   6   7   8   9  10  11  12  13  14  15  16  17\n",
            "  18  19  20  21  22  23  24  25  26  27  28  29  30  31  32  33  34  35\n",
            "  36  37  38  39  40  41  42  43  44  45  46  47  48  49  50  51  52  53\n",
            "  54  55  56  57  58  59  60  61  62  63  64  65  66  67  68  69  70  71\n",
            "  72  73  74  75  76  77  78  79  80  81  82  83  84  85  86  87  88  89\n",
            "  90  91  92  93  94  95  96  97  98  99 100 101 102 103 104 105 106 107\n",
            " 108 109 110 111 112 113 114 115 116 117 118 119 120 121 122 123 124 125\n",
            " 126 127 128 129 130 131 132 133 134 135 136 137 138 139 140 141 142 143\n",
            " 144 145 146 147 148 149 150 151 152 153 154 155 156 157 158 159 160 161\n",
            " 162 163 164 165 166 167 168 169 170 171 172 173 174 175 176 177 178 179\n",
            " 180 181 182 183 184 185 186 187 188 189 190 191 192 193 194 195 196 197\n",
            " 198 199 200 201 202 203 204 205 206 207 208 209 210 211 212 213 214 215\n",
            " 216 217 218 219 220 221 222 223 224 225 226 227 228 229 230 231 232 233\n",
            " 234 235 236 237 238 239 240 241 242 243 244 245 246 247 248 249 250 251\n",
            " 252 253 254 255 256 257 258 259 260 261 262 263 264 265 266 267 268 269\n",
            " 270 271 272 273 274 275 276 277 278 279 280 281 282 283 284 285 286 287\n",
            " 288 289 290 291 292 293 294 295 296 297 298 299 300 301 302 303 304 305\n",
            " 306 307 308 309 310 311 312 313 314 315 316 317 318 319 320 321 322 323\n",
            " 324 325 326 327 328 329 330 331 332 333 334 335 336 337 338 339 340 341\n",
            " 342 343 344 345 346 347 348 349 350 351 352 353 354 355 356 357 358 359\n",
            " 360 361 362 363 364 365 366 367 368 369 370 371 372 373 374 375 376 377\n",
            " 378 379 380 381 382 383 384 385 386 387 388 389 390 391 392 393 394 395\n",
            " 396 397 398 399 400 401 402 403 404 405 406 407 408 409 410 411 412 413\n",
            " 414 415 416 417 418 419 420 421 422 423 424 425 426 427 428 429 430 431\n",
            " 433 434 436 437 439 441 442 444 445 449 451 452 498 501 504 507 510 511\n",
            " 517 520 525 526 527 528 529 530 531 532 533 534 535 536 537 538 539 540\n",
            " 541 542 543 544 545 546 547 548 549 550 551 552 553 554 555 556 557 558\n",
            " 559 560 561 562 563 564 565 566 567 568 569 570 571 572 573 574 575 576\n",
            " 577 578 579 580 581 582 583 584 585 586 587 588 589 590 591 592 593 594\n",
            " 595 596 597 598 599 600 601 602 603 604 605 606 607 608 609 610 611 612\n",
            " 613 614 615 616 617 618 619 620 621 622 623 624 625 626 627 628 629 630\n",
            " 631 632 633 634 635 636 637 638 639 640 641 642 643 644 645 646 647 648\n",
            " 649 650 651 652 653 654 655 656 657 658 659 660 661 662 663 664 665 666\n",
            " 667 668 669 670 671 672 673 674 675 676 677 678 679 680 681 682 683 684\n",
            " 685 686 687 688 689 690 691 692 693 694 695 696 697 698 699 700 701 702\n",
            " 703 704 705 706 707 708 709 710 711 712 713 714 715 716 717 718 719 720\n",
            " 721 722 723 724 725 726 727 728 729 730 731 732 733 734 735]\n",
            "Testing Index [432 435 438 440 443 446 447 448 450 453 454 455 456 457 458 459 460 461\n",
            " 462 463 464 465 466 467 468 469 470 471 472 473 474 475 476 477 478 479\n",
            " 480 481 482 483 484 485 486 487 488 489 490 491 492 493 494 495 496 497\n",
            " 499 500 502 503 505 506 508 509 512 513 514 515 516 518 519 521 522 523\n",
            " 524]\n",
            "Training Index [  0   1   2   3   4   5   6   7   8   9  10  11  12  13  14  15  16  17\n",
            "  18  19  20  21  22  23  24  25  26  27  28  29  30  31  32  33  34  35\n",
            "  36  37  38  39  40  41  42  43  44  45  46  47  48  49  50  51  52  53\n",
            "  54  55  56  57  58  59  60  61  62  63  64  65  66  67  68  69  70  71\n",
            "  72  73  74  75  76  77  78  79  80  81  82  83  84  85  86  87  88  89\n",
            "  90  91  92  93  94  95  96  97  98  99 100 101 102 103 104 105 106 107\n",
            " 108 109 110 111 112 113 114 115 116 117 118 119 120 121 122 123 124 125\n",
            " 126 127 128 129 130 131 132 133 134 135 136 137 138 139 140 141 142 143\n",
            " 144 145 146 147 148 149 150 151 152 153 154 155 156 157 158 159 160 161\n",
            " 162 163 164 165 166 167 168 169 170 171 172 173 174 175 176 177 178 179\n",
            " 180 181 182 183 184 185 186 187 188 189 190 191 192 193 194 195 196 197\n",
            " 198 199 200 201 202 203 204 205 206 207 208 209 210 211 212 213 214 215\n",
            " 216 217 218 219 220 221 222 223 224 225 226 227 228 229 230 231 232 233\n",
            " 234 235 236 237 238 239 240 241 242 243 244 245 246 247 248 249 250 251\n",
            " 252 253 254 255 256 257 258 259 260 261 262 263 264 265 266 267 268 269\n",
            " 270 271 272 273 274 275 276 277 278 279 280 281 282 283 284 285 286 287\n",
            " 288 289 290 291 292 293 294 295 296 297 298 299 300 301 302 303 304 305\n",
            " 306 307 308 309 310 311 312 313 314 315 316 317 318 319 320 321 322 323\n",
            " 324 325 326 327 328 329 330 331 332 333 334 335 336 337 338 339 340 341\n",
            " 342 343 344 345 346 347 348 349 350 351 352 353 354 355 356 357 358 359\n",
            " 360 361 362 363 364 365 366 367 368 369 370 371 372 373 374 375 376 377\n",
            " 378 379 380 381 382 383 384 385 386 387 388 389 390 391 392 393 394 395\n",
            " 396 397 398 399 400 401 402 403 404 405 406 407 408 409 410 411 412 413\n",
            " 414 415 416 417 418 419 420 421 422 423 424 425 426 427 428 429 430 431\n",
            " 432 433 434 435 436 437 438 439 440 441 442 443 444 445 446 447 448 449\n",
            " 450 451 452 453 454 455 456 457 458 459 460 461 462 463 464 465 466 467\n",
            " 468 469 470 471 472 473 474 475 476 477 478 479 480 481 482 483 484 485\n",
            " 486 487 488 489 490 491 492 493 494 495 496 497 499 500 502 503 505 506\n",
            " 508 509 512 513 514 515 516 518 519 521 522 523 524 578 579 581 585 588\n",
            " 592 594 595 598 599 600 601 602 603 604 605 606 607 608 609 610 611 612\n",
            " 613 614 615 616 617 618 619 620 621 622 623 624 625 626 627 628 629 630\n",
            " 631 632 633 634 635 636 637 638 639 640 641 642 643 644 645 646 647 648\n",
            " 649 650 651 652 653 654 655 656 657 658 659 660 661 662 663 664 665 666\n",
            " 667 668 669 670 671 672 673 674 675 676 677 678 679 680 681 682 683 684\n",
            " 685 686 687 688 689 690 691 692 693 694 695 696 697 698 699 700 701 702\n",
            " 703 704 705 706 707 708 709 710 711 712 713 714 715 716 717 718 719 720\n",
            " 721 722 723 724 725 726 727 728 729 730 731 732 733 734 735]\n",
            "Testing Index [498 501 504 507 510 511 517 520 525 526 527 528 529 530 531 532 533 534\n",
            " 535 536 537 538 539 540 541 542 543 544 545 546 547 548 549 550 551 552\n",
            " 553 554 555 556 557 558 559 560 561 562 563 564 565 566 567 568 569 570\n",
            " 571 572 573 574 575 576 577 580 582 583 584 586 587 589 590 591 593 596\n",
            " 597]\n",
            "Training Index [  0   1   2   3   4   5   6   7   8   9  10  11  12  13  14  15  16  17\n",
            "  18  19  20  21  22  23  24  25  26  27  28  29  30  31  32  33  34  35\n",
            "  36  37  38  39  40  41  42  43  44  45  46  47  48  49  50  51  52  53\n",
            "  54  55  56  57  58  59  60  61  62  63  64  65  66  67  68  69  70  71\n",
            "  72  73  74  75  76  77  78  79  80  81  82  83  84  85  86  87  88  89\n",
            "  90  91  92  93  94  95  96  97  98  99 100 101 102 103 104 105 106 107\n",
            " 108 109 110 111 112 113 114 115 116 117 118 119 120 121 122 123 124 125\n",
            " 126 127 128 129 130 131 132 133 134 135 136 137 138 139 140 141 142 143\n",
            " 144 145 146 147 148 149 150 151 152 153 154 155 156 157 158 159 160 161\n",
            " 162 163 164 165 166 167 168 169 170 171 172 173 174 175 176 177 178 179\n",
            " 180 181 182 183 184 185 186 187 188 189 190 191 192 193 194 195 196 197\n",
            " 198 199 200 201 202 203 204 205 206 207 208 209 210 211 212 213 214 215\n",
            " 216 217 218 219 220 221 222 223 224 225 226 227 228 229 230 231 232 233\n",
            " 234 235 236 237 238 239 240 241 242 243 244 245 246 247 248 249 250 251\n",
            " 252 253 254 255 256 257 258 259 260 261 262 263 264 265 266 267 268 269\n",
            " 270 271 272 273 274 275 276 277 278 279 280 281 282 283 284 285 286 287\n",
            " 288 289 290 291 292 293 294 295 296 297 298 299 300 301 302 303 304 305\n",
            " 306 307 308 309 310 311 312 313 314 315 316 317 318 319 320 321 322 323\n",
            " 324 325 326 327 328 329 330 331 332 333 334 335 336 337 338 339 340 341\n",
            " 342 343 344 345 346 347 348 349 350 351 352 353 354 355 356 357 358 359\n",
            " 360 361 362 363 364 365 366 367 368 369 370 371 372 373 374 375 376 377\n",
            " 378 379 380 381 382 383 384 385 386 387 388 389 390 391 392 393 394 395\n",
            " 396 397 398 399 400 401 402 403 404 405 406 407 408 409 410 411 412 413\n",
            " 414 415 416 417 418 419 420 421 422 423 424 425 426 427 428 429 430 431\n",
            " 432 433 434 435 436 437 438 439 440 441 442 443 444 445 446 447 448 449\n",
            " 450 451 452 453 454 455 456 457 458 459 460 461 462 463 464 465 466 467\n",
            " 468 469 470 471 472 473 474 475 476 477 478 479 480 481 482 483 484 485\n",
            " 486 487 488 489 490 491 492 493 494 495 496 497 498 499 500 501 502 503\n",
            " 504 505 506 507 508 509 510 511 512 513 514 515 516 517 518 519 520 521\n",
            " 522 523 524 525 526 527 528 529 530 531 532 533 534 535 536 537 538 539\n",
            " 540 541 542 543 544 545 546 547 548 549 550 551 552 553 554 555 556 557\n",
            " 558 559 560 561 562 563 564 565 566 567 568 569 570 571 572 573 574 575\n",
            " 576 577 580 582 583 584 586 587 589 590 591 593 596 597 658 663 665 666\n",
            " 667 668 669 670 671 672 673 674 675 676 677 678 679 680 681 682 683 684\n",
            " 685 686 687 688 689 690 691 692 693 694 695 696 697 698 699 700 701 702\n",
            " 703 704 705 706 707 708 709 710 711 712 713 714 715 716 717 718 719 720\n",
            " 721 722 723 724 725 726 727 728 729 730 731 732 733 734 735]\n",
            "Testing Index [578 579 581 585 588 592 594 595 598 599 600 601 602 603 604 605 606 607\n",
            " 608 609 610 611 612 613 614 615 616 617 618 619 620 621 622 623 624 625\n",
            " 626 627 628 629 630 631 632 633 634 635 636 637 638 639 640 641 642 643\n",
            " 644 645 646 647 648 649 650 651 652 653 654 655 656 657 659 660 661 662\n",
            " 664]\n",
            "Training Index [  0   1   2   3   4   5   6   7   8   9  10  11  12  13  14  15  16  17\n",
            "  18  19  20  21  22  23  24  25  26  27  28  29  30  31  32  33  34  35\n",
            "  36  37  38  39  40  41  42  43  44  45  46  47  48  49  50  51  52  53\n",
            "  54  55  56  57  58  59  60  61  62  63  64  65  66  67  68  69  70  71\n",
            "  72  73  74  75  76  77  78  79  80  81  82  83  84  85  86  87  88  89\n",
            "  90  91  92  93  94  95  96  97  98  99 100 101 102 103 104 105 106 107\n",
            " 108 109 110 111 112 113 114 115 116 117 118 119 120 121 122 123 124 125\n",
            " 126 127 128 129 130 131 132 133 134 135 136 137 138 139 140 141 142 143\n",
            " 144 145 146 147 148 149 150 151 152 153 154 155 156 157 158 159 160 161\n",
            " 162 163 164 165 166 167 168 169 170 171 172 173 174 175 176 177 178 179\n",
            " 180 181 182 183 184 185 186 187 188 189 190 191 192 193 194 195 196 197\n",
            " 198 199 200 201 202 203 204 205 206 207 208 209 210 211 212 213 214 215\n",
            " 216 217 218 219 220 221 222 223 224 225 226 227 228 229 230 231 232 233\n",
            " 234 235 236 237 238 239 240 241 242 243 244 245 246 247 248 249 250 251\n",
            " 252 253 254 255 256 257 258 259 260 261 262 263 264 265 266 267 268 269\n",
            " 270 271 272 273 274 275 276 277 278 279 280 281 282 283 284 285 286 287\n",
            " 288 289 290 291 292 293 294 295 296 297 298 299 300 301 302 303 304 305\n",
            " 306 307 308 309 310 311 312 313 314 315 316 317 318 319 320 321 322 323\n",
            " 324 325 326 327 328 329 330 331 332 333 334 335 336 337 338 339 340 341\n",
            " 342 343 344 345 346 347 348 349 350 351 352 353 354 355 356 357 358 359\n",
            " 360 361 362 363 364 365 366 367 368 369 370 371 372 373 374 375 376 377\n",
            " 378 379 380 381 382 383 384 385 386 387 388 389 390 391 392 393 394 395\n",
            " 396 397 398 399 400 401 402 403 404 405 406 407 408 409 410 411 412 413\n",
            " 414 415 416 417 418 419 420 421 422 423 424 425 426 427 428 429 430 431\n",
            " 432 433 434 435 436 437 438 439 440 441 442 443 444 445 446 447 448 449\n",
            " 450 451 452 453 454 455 456 457 458 459 460 461 462 463 464 465 466 467\n",
            " 468 469 470 471 472 473 474 475 476 477 478 479 480 481 482 483 484 485\n",
            " 486 487 488 489 490 491 492 493 494 495 496 497 498 499 500 501 502 503\n",
            " 504 505 506 507 508 509 510 511 512 513 514 515 516 517 518 519 520 521\n",
            " 522 523 524 525 526 527 528 529 530 531 532 533 534 535 536 537 538 539\n",
            " 540 541 542 543 544 545 546 547 548 549 550 551 552 553 554 555 556 557\n",
            " 558 559 560 561 562 563 564 565 566 567 568 569 570 571 572 573 574 575\n",
            " 576 577 578 579 580 581 582 583 584 585 586 587 588 589 590 591 592 593\n",
            " 594 595 596 597 598 599 600 601 602 603 604 605 606 607 608 609 610 611\n",
            " 612 613 614 615 616 617 618 619 620 621 622 623 624 625 626 627 628 629\n",
            " 630 631 632 633 634 635 636 637 638 639 640 641 642 643 644 645 646 647\n",
            " 648 649 650 651 652 653 654 655 656 657 659 660 661 662 664]\n",
            "Testing Index [658 663 665 666 667 668 669 670 671 672 673 674 675 676 677 678 679 680\n",
            " 681 682 683 684 685 686 687 688 689 690 691 692 693 694 695 696 697 698\n",
            " 699 700 701 702 703 704 705 706 707 708 709 710 711 712 713 714 715 716\n",
            " 717 718 719 720 721 722 723 724 725 726 727 728 729 730 731 732 733 734\n",
            " 735]\n"
          ]
        }
      ]
    },
    {
      "cell_type": "code",
      "source": [
        "skcv_result_svm=cross_val_score(svm_model,x,y,cv=skfold_validator_svm)"
      ],
      "metadata": {
        "id": "kREdqvQDNDP4"
      },
      "execution_count": 127,
      "outputs": []
    },
    {
      "cell_type": "code",
      "source": [
        "skcv_result_svm #stratified k fold cross validation scores"
      ],
      "metadata": {
        "colab": {
          "base_uri": "https://localhost:8080/"
        },
        "id": "4nvNBixPNG9H",
        "outputId": "3df7bd68-ec3a-4ba9-9930-0ba4295827ed"
      },
      "execution_count": 128,
      "outputs": [
        {
          "output_type": "execute_result",
          "data": {
            "text/plain": [
              "array([0.81081081, 0.7972973 , 0.74324324, 0.7972973 , 0.81081081,\n",
              "       0.78378378, 0.80821918, 0.79452055, 0.80821918, 0.80821918])"
            ]
          },
          "metadata": {},
          "execution_count": 128
        }
      ]
    },
    {
      "cell_type": "code",
      "source": [
        "np.mean(skcv_result_svm)"
      ],
      "metadata": {
        "colab": {
          "base_uri": "https://localhost:8080/"
        },
        "id": "RHq2R_rqNO2s",
        "outputId": "7066175c-0135-4700-b2b2-52920124354c"
      },
      "execution_count": 129,
      "outputs": [
        {
          "output_type": "execute_result",
          "data": {
            "text/plain": [
              "0.7962421325435024"
            ]
          },
          "metadata": {},
          "execution_count": 129
        }
      ]
    },
    {
      "cell_type": "markdown",
      "source": [
        "Accuracy Of different models"
      ],
      "metadata": {
        "id": "TJ2SI6NSNfmc"
      }
    },
    {
      "cell_type": "code",
      "source": [
        "print('Average K Fold Cross Validation Score Of KNN Model is:',np.mean(cv_result_knn))\n",
        "print('\\n')\n",
        "print('Average K Fold Cross Validation Score Of SVM Model is:',np.mean(cv_result_svm))\n",
        "print('\\n')\n",
        "print('Average Stratified Cross Validation Score OF KNN Model is:',np.mean(skcv_result_knn))\n",
        "print('\\n')\n",
        "print('Average Stratified Cross Validation Score OF SVM Model is:',np.mean(skcv_result_svm))"
      ],
      "metadata": {
        "colab": {
          "base_uri": "https://localhost:8080/"
        },
        "id": "J9nAauSwP3Q_",
        "outputId": "8a565c9d-d9c7-4a70-c53b-0abdb21b21fc"
      },
      "execution_count": 131,
      "outputs": [
        {
          "output_type": "stream",
          "name": "stdout",
          "text": [
            "Average K Fold Cross Validation Score Of KNN Model is: 0.7689004072565716\n",
            "\n",
            "\n",
            "Average K Fold Cross Validation Score Of SVM Model is: 0.7934468715290632\n",
            "\n",
            "\n",
            "Average Stratified Cross Validation Score OF KNN Model is: 0.7895409107737874\n",
            "\n",
            "\n",
            "Average Stratified Cross Validation Score OF SVM Model is: 0.7962421325435024\n"
          ]
        }
      ]
    }
  ]
}