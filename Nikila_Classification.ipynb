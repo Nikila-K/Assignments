{
  "nbformat": 4,
  "nbformat_minor": 0,
  "metadata": {
    "colab": {
      "provenance": [],
      "authorship_tag": "ABX9TyOTGib6YsqZPA7qZ/U0dnKk",
      "include_colab_link": true
    },
    "kernelspec": {
      "name": "python3",
      "display_name": "Python 3"
    },
    "language_info": {
      "name": "python"
    }
  },
  "cells": [
    {
      "cell_type": "markdown",
      "metadata": {
        "id": "view-in-github",
        "colab_type": "text"
      },
      "source": [
        "<a href=\"https://colab.research.google.com/github/Nikila-K/Assignments/blob/main/Nikila_Classification.ipynb\" target=\"_parent\"><img src=\"https://colab.research.google.com/assets/colab-badge.svg\" alt=\"Open In Colab\"/></a>"
      ]
    },
    {
      "cell_type": "code",
      "source": [
        "#loading the necessary libraries"
      ],
      "metadata": {
        "id": "4145GNEALbzV"
      },
      "execution_count": 98,
      "outputs": []
    },
    {
      "cell_type": "code",
      "execution_count": 99,
      "metadata": {
        "id": "ziS2xZjEK7RB"
      },
      "outputs": [],
      "source": [
        "import numpy as np\n",
        "import pandas as pd\n",
        "import seaborn as sns\n",
        "import matplotlib.pyplot as plt"
      ]
    },
    {
      "cell_type": "code",
      "source": [
        "#loading the dataset"
      ],
      "metadata": {
        "id": "k2TcIPkHLVIn"
      },
      "execution_count": 100,
      "outputs": []
    },
    {
      "cell_type": "code",
      "source": [
        "from google.colab import files\n",
        "files.upload()"
      ],
      "metadata": {
        "colab": {
          "base_uri": "https://localhost:8080/",
          "height": 1000
        },
        "id": "nQ9SzDbMLWWl",
        "outputId": "d1201136-d21c-48b2-d9b4-20b0fecc0cf0"
      },
      "execution_count": 101,
      "outputs": [
        {
          "output_type": "display_data",
          "data": {
            "text/plain": [
              "<IPython.core.display.HTML object>"
            ],
            "text/html": [
              "\n",
              "     <input type=\"file\" id=\"files-7ed0c065-2516-4111-9bcf-1a13fe28df99\" name=\"files[]\" multiple disabled\n",
              "        style=\"border:none\" />\n",
              "     <output id=\"result-7ed0c065-2516-4111-9bcf-1a13fe28df99\">\n",
              "      Upload widget is only available when the cell has been executed in the\n",
              "      current browser session. Please rerun this cell to enable.\n",
              "      </output>\n",
              "      <script>// Copyright 2017 Google LLC\n",
              "//\n",
              "// Licensed under the Apache License, Version 2.0 (the \"License\");\n",
              "// you may not use this file except in compliance with the License.\n",
              "// You may obtain a copy of the License at\n",
              "//\n",
              "//      http://www.apache.org/licenses/LICENSE-2.0\n",
              "//\n",
              "// Unless required by applicable law or agreed to in writing, software\n",
              "// distributed under the License is distributed on an \"AS IS\" BASIS,\n",
              "// WITHOUT WARRANTIES OR CONDITIONS OF ANY KIND, either express or implied.\n",
              "// See the License for the specific language governing permissions and\n",
              "// limitations under the License.\n",
              "\n",
              "/**\n",
              " * @fileoverview Helpers for google.colab Python module.\n",
              " */\n",
              "(function(scope) {\n",
              "function span(text, styleAttributes = {}) {\n",
              "  const element = document.createElement('span');\n",
              "  element.textContent = text;\n",
              "  for (const key of Object.keys(styleAttributes)) {\n",
              "    element.style[key] = styleAttributes[key];\n",
              "  }\n",
              "  return element;\n",
              "}\n",
              "\n",
              "// Max number of bytes which will be uploaded at a time.\n",
              "const MAX_PAYLOAD_SIZE = 100 * 1024;\n",
              "\n",
              "function _uploadFiles(inputId, outputId) {\n",
              "  const steps = uploadFilesStep(inputId, outputId);\n",
              "  const outputElement = document.getElementById(outputId);\n",
              "  // Cache steps on the outputElement to make it available for the next call\n",
              "  // to uploadFilesContinue from Python.\n",
              "  outputElement.steps = steps;\n",
              "\n",
              "  return _uploadFilesContinue(outputId);\n",
              "}\n",
              "\n",
              "// This is roughly an async generator (not supported in the browser yet),\n",
              "// where there are multiple asynchronous steps and the Python side is going\n",
              "// to poll for completion of each step.\n",
              "// This uses a Promise to block the python side on completion of each step,\n",
              "// then passes the result of the previous step as the input to the next step.\n",
              "function _uploadFilesContinue(outputId) {\n",
              "  const outputElement = document.getElementById(outputId);\n",
              "  const steps = outputElement.steps;\n",
              "\n",
              "  const next = steps.next(outputElement.lastPromiseValue);\n",
              "  return Promise.resolve(next.value.promise).then((value) => {\n",
              "    // Cache the last promise value to make it available to the next\n",
              "    // step of the generator.\n",
              "    outputElement.lastPromiseValue = value;\n",
              "    return next.value.response;\n",
              "  });\n",
              "}\n",
              "\n",
              "/**\n",
              " * Generator function which is called between each async step of the upload\n",
              " * process.\n",
              " * @param {string} inputId Element ID of the input file picker element.\n",
              " * @param {string} outputId Element ID of the output display.\n",
              " * @return {!Iterable<!Object>} Iterable of next steps.\n",
              " */\n",
              "function* uploadFilesStep(inputId, outputId) {\n",
              "  const inputElement = document.getElementById(inputId);\n",
              "  inputElement.disabled = false;\n",
              "\n",
              "  const outputElement = document.getElementById(outputId);\n",
              "  outputElement.innerHTML = '';\n",
              "\n",
              "  const pickedPromise = new Promise((resolve) => {\n",
              "    inputElement.addEventListener('change', (e) => {\n",
              "      resolve(e.target.files);\n",
              "    });\n",
              "  });\n",
              "\n",
              "  const cancel = document.createElement('button');\n",
              "  inputElement.parentElement.appendChild(cancel);\n",
              "  cancel.textContent = 'Cancel upload';\n",
              "  const cancelPromise = new Promise((resolve) => {\n",
              "    cancel.onclick = () => {\n",
              "      resolve(null);\n",
              "    };\n",
              "  });\n",
              "\n",
              "  // Wait for the user to pick the files.\n",
              "  const files = yield {\n",
              "    promise: Promise.race([pickedPromise, cancelPromise]),\n",
              "    response: {\n",
              "      action: 'starting',\n",
              "    }\n",
              "  };\n",
              "\n",
              "  cancel.remove();\n",
              "\n",
              "  // Disable the input element since further picks are not allowed.\n",
              "  inputElement.disabled = true;\n",
              "\n",
              "  if (!files) {\n",
              "    return {\n",
              "      response: {\n",
              "        action: 'complete',\n",
              "      }\n",
              "    };\n",
              "  }\n",
              "\n",
              "  for (const file of files) {\n",
              "    const li = document.createElement('li');\n",
              "    li.append(span(file.name, {fontWeight: 'bold'}));\n",
              "    li.append(span(\n",
              "        `(${file.type || 'n/a'}) - ${file.size} bytes, ` +\n",
              "        `last modified: ${\n",
              "            file.lastModifiedDate ? file.lastModifiedDate.toLocaleDateString() :\n",
              "                                    'n/a'} - `));\n",
              "    const percent = span('0% done');\n",
              "    li.appendChild(percent);\n",
              "\n",
              "    outputElement.appendChild(li);\n",
              "\n",
              "    const fileDataPromise = new Promise((resolve) => {\n",
              "      const reader = new FileReader();\n",
              "      reader.onload = (e) => {\n",
              "        resolve(e.target.result);\n",
              "      };\n",
              "      reader.readAsArrayBuffer(file);\n",
              "    });\n",
              "    // Wait for the data to be ready.\n",
              "    let fileData = yield {\n",
              "      promise: fileDataPromise,\n",
              "      response: {\n",
              "        action: 'continue',\n",
              "      }\n",
              "    };\n",
              "\n",
              "    // Use a chunked sending to avoid message size limits. See b/62115660.\n",
              "    let position = 0;\n",
              "    do {\n",
              "      const length = Math.min(fileData.byteLength - position, MAX_PAYLOAD_SIZE);\n",
              "      const chunk = new Uint8Array(fileData, position, length);\n",
              "      position += length;\n",
              "\n",
              "      const base64 = btoa(String.fromCharCode.apply(null, chunk));\n",
              "      yield {\n",
              "        response: {\n",
              "          action: 'append',\n",
              "          file: file.name,\n",
              "          data: base64,\n",
              "        },\n",
              "      };\n",
              "\n",
              "      let percentDone = fileData.byteLength === 0 ?\n",
              "          100 :\n",
              "          Math.round((position / fileData.byteLength) * 100);\n",
              "      percent.textContent = `${percentDone}% done`;\n",
              "\n",
              "    } while (position < fileData.byteLength);\n",
              "  }\n",
              "\n",
              "  // All done.\n",
              "  yield {\n",
              "    response: {\n",
              "      action: 'complete',\n",
              "    }\n",
              "  };\n",
              "}\n",
              "\n",
              "scope.google = scope.google || {};\n",
              "scope.google.colab = scope.google.colab || {};\n",
              "scope.google.colab._files = {\n",
              "  _uploadFiles,\n",
              "  _uploadFilesContinue,\n",
              "};\n",
              "})(self);\n",
              "</script> "
            ]
          },
          "metadata": {}
        },
        {
          "output_type": "stream",
          "name": "stdout",
          "text": [
            "Saving iris.xls to iris (1).xls\n"
          ]
        },
        {
          "output_type": "execute_result",
          "data": {
            "text/plain": [
              "{'iris.xls': b'\\xd0\\xcf\\x11\\xe0\\xa1\\xb1\\x1a\\xe1\\x00\\x00\\x00\\x00\\x00\\x00\\x00\\x00\\x00\\x00\\x00\\x00\\x00\\x00\\x00\\x00>\\x00\\x03\\x00\\xfe\\xff\\t\\x00\\x06\\x00\\x00\\x00\\x00\\x00\\x00\\x00\\x00\\x00\\x00\\x00\\x01\\x00\\x00\\x00D\\x00\\x00\\x00\\x00\\x00\\x00\\x00\\x00\\x10\\x00\\x00\\xfe\\xff\\xff\\xff\\x00\\x00\\x00\\x00\\xfe\\xff\\xff\\xff\\x00\\x00\\x00\\x00C\\x00\\x00\\x00\\xff\\xff\\xff\\xff\\xff\\xff\\xff\\xff\\xff\\xff\\xff\\xff\\xff\\xff\\xff\\xff\\xff\\xff\\xff\\xff\\xff\\xff\\xff\\xff\\xff\\xff\\xff\\xff\\xff\\xff\\xff\\xff\\xff\\xff\\xff\\xff\\xff\\xff\\xff\\xff\\xff\\xff\\xff\\xff\\xff\\xff\\xff\\xff\\xff\\xff\\xff\\xff\\xff\\xff\\xff\\xff\\xff\\xff\\xff\\xff\\xff\\xff\\xff\\xff\\xff\\xff\\xff\\xff\\xff\\xff\\xff\\xff\\xff\\xff\\xff\\xff\\xff\\xff\\xff\\xff\\xff\\xff\\xff\\xff\\xff\\xff\\xff\\xff\\xff\\xff\\xff\\xff\\xff\\xff\\xff\\xff\\xff\\xff\\xff\\xff\\xff\\xff\\xff\\xff\\xff\\xff\\xff\\xff\\xff\\xff\\xff\\xff\\xff\\xff\\xff\\xff\\xff\\xff\\xff\\xff\\xff\\xff\\xff\\xff\\xff\\xff\\xff\\xff\\xff\\xff\\xff\\xff\\xff\\xff\\xff\\xff\\xff\\xff\\xff\\xff\\xff\\xff\\xff\\xff\\xff\\xff\\xff\\xff\\xff\\xff\\xff\\xff\\xff\\xff\\xff\\xff\\xff\\xff\\xff\\xff\\xff\\xff\\xff\\xff\\xff\\xff\\xff\\xff\\xff\\xff\\xff\\xff\\xff\\xff\\xff\\xff\\xff\\xff\\xff\\xff\\xff\\xff\\xff\\xff\\xff\\xff\\xff\\xff\\xff\\xff\\xff\\xff\\xff\\xff\\xff\\xff\\xff\\xff\\xff\\xff\\xff\\xff\\xff\\xff\\xff\\xff\\xff\\xff\\xff\\xff\\xff\\xff\\xff\\xff\\xff\\xff\\xff\\xff\\xff\\xff\\xff\\xff\\xff\\xff\\xff\\xff\\xff\\xff\\xff\\xff\\xff\\xff\\xff\\xff\\xff\\xff\\xff\\xff\\xff\\xff\\xff\\xff\\xff\\xff\\xff\\xff\\xff\\xff\\xff\\xff\\xff\\xff\\xff\\xff\\xff\\xff\\xff\\xff\\xff\\xff\\xff\\xff\\xff\\xff\\xff\\xff\\xff\\xff\\xff\\xff\\xff\\xff\\xff\\xff\\xff\\xff\\xff\\xff\\xff\\xff\\xff\\xff\\xff\\xff\\xff\\xff\\xff\\xff\\xff\\xff\\xff\\xff\\xff\\xff\\xff\\xff\\xff\\xff\\xff\\xff\\xff\\xff\\xff\\xff\\xff\\xff\\xff\\xff\\xff\\xff\\xff\\xff\\xff\\xff\\xff\\xff\\xff\\xff\\xff\\xff\\xff\\xff\\xff\\xff\\xff\\xff\\xff\\xff\\xff\\xff\\xff\\xff\\xff\\xff\\xff\\xff\\xff\\xff\\xff\\xff\\xff\\xff\\xff\\xff\\xff\\xff\\xff\\xff\\xff\\xff\\xff\\xff\\xff\\xff\\xff\\xff\\xff\\xff\\xff\\xff\\xff\\xff\\xff\\xff\\xff\\xff\\xff\\xff\\xff\\xff\\xff\\xff\\xff\\xff\\xff\\xff\\xff\\xff\\xff\\xff\\xff\\xff\\xff\\xff\\xff\\xff\\xff\\xff\\xff\\xff\\xff\\xff\\xff\\xff\\xff\\xff\\xff\\xff\\xff\\xff\\xff\\xff\\xff\\xff\\xff\\xff\\xff\\xff\\xff\\xff\\xff\\xff\\xff\\xff\\xff\\xff\\xff\\xff\\xff\\xff\\xff\\xff\\xff\\xff\\xff\\xff\\xff\\xff\\xff\\xff\\xff\\xff\\t\\x08\\x10\\x00\\x00\\x06\\x05\\x00ZO\\xcd\\x07\\xc9\\x00\\x02\\x00\\x06\\x08\\x00\\x00\\xe1\\x00\\x02\\x00\\xb0\\x04\\xc1\\x00\\x02\\x00\\x00\\x00\\xe2\\x00\\x00\\x00\\\\\\x00p\\x00\\x10\\x00\\x00John J Padamadan                                                                                             B\\x00\\x02\\x00\\xb0\\x04a\\x01\\x02\\x00\\x00\\x00\\xc0\\x01\\x00\\x00=\\x01\\x02\\x00\\x01\\x00\\x9c\\x00\\x02\\x00\\x11\\x00\\x19\\x00\\x02\\x00\\x00\\x00\\x12\\x00\\x02\\x00\\x00\\x00\\x13\\x00\\x02\\x00\\x00\\x00\\xaf\\x01\\x02\\x00\\x00\\x00\\xbc\\x01\\x02\\x00\\x00\\x00=\\x00\\x12\\x00\\xe0\\x01\\x1e\\x00 N\\xee48\\x00\\x00\\x00\\x00\\x00\\x01\\x00X\\x02@\\x00\\x02\\x00\\x00\\x00\\x8d\\x00\\x02\\x00\\x00\\x00\"\\x00\\x02\\x00\\x00\\x00\\x0e\\x00\\x02\\x00\\x01\\x00\\xb7\\x01\\x02\\x00\\x00\\x00\\xda\\x00\\x02\\x00\\x00\\x001\\x00\\x1a\\x00\\xc8\\x00\\x00\\x00\\xff\\x7f\\x90\\x01\\x00\\x00\\x00\\x00\\x00\\x7f\\x05\\x01A\\x00r\\x00i\\x00a\\x00l\\x001\\x00\\x1a\\x00\\xc8\\x00\\x00\\x00\\xff\\x7f\\x90\\x01\\x00\\x00\\x00\\x00\\x00\\x7f\\x05\\x01A\\x00r\\x00i\\x00a\\x00l\\x001\\x00\\x1a\\x00\\xc8\\x00\\x00\\x00\\xff\\x7f\\x90\\x01\\x00\\x00\\x00\\x00\\x00\\x7f\\x05\\x01A\\x00r\\x00i\\x00a\\x00l\\x001\\x00\\x1a\\x00\\xc8\\x00\\x00\\x00\\xff\\x7f\\x90\\x01\\x00\\x00\\x00\\x00\\x00\\x7f\\x05\\x01A\\x00r\\x00i\\x00a\\x00l\\x001\\x00\\x1a\\x00\\xc8\\x00\\x00\\x00\\xff\\x7f\\x90\\x01\\x00\\x00\\x00\\x00\\x00\\x7f\\x05\\x01A\\x00r\\x00i\\x00a\\x00l\\x001\\x00*\\x00h\\x01\\x00\\x006\\x00\\x90\\x01\\x00\\x00\\x00\\x02\\x00\\x02\\r\\x01C\\x00a\\x00l\\x00i\\x00b\\x00r\\x00i\\x00 \\x00L\\x00i\\x00g\\x00h\\x00t\\x001\\x00\\x1e\\x00,\\x01\\x01\\x006\\x00\\xbc\\x02\\x00\\x00\\x00\\x02\\x00\\x02\\x07\\x01C\\x00a\\x00l\\x00i\\x00b\\x00r\\x00i\\x001\\x00\\x1e\\x00\\x04\\x01\\x01\\x006\\x00\\xbc\\x02\\x00\\x00\\x00\\x02\\x00\\x02\\x07\\x01C\\x00a\\x00l\\x00i\\x00b\\x00r\\x00i\\x001\\x00\\x1e\\x00\\xdc\\x00\\x01\\x006\\x00\\xbc\\x02\\x00\\x00\\x00\\x02\\x00\\x02\\x07\\x01C\\x00a\\x00l\\x00i\\x00b\\x00r\\x00i\\x001\\x00\\x1e\\x00\\xdc\\x00\\x00\\x00\\x11\\x00\\x90\\x01\\x00\\x00\\x00\\x02\\x00\\x02\\x07\\x01C\\x00a\\x00l\\x00i\\x00b\\x00r\\x00i\\x001\\x00\\x1e\\x00\\xdc\\x00\\x00\\x00\\x14\\x00\\x90\\x01\\x00\\x00\\x00\\x02\\x00\\x02\\x07\\x01C\\x00a\\x00l\\x00i\\x00b\\x00r\\x00i\\x001\\x00\\x1e\\x00\\xdc\\x00\\x00\\x00<\\x00\\x90\\x01\\x00\\x00\\x00\\x02\\x00\\x02\\x07\\x01C\\x00a\\x00l\\x00i\\x00b\\x00r\\x00i\\x001\\x00\\x1e\\x00\\xdc\\x00\\x00\\x00>\\x00\\x90\\x01\\x00\\x00\\x00\\x02\\x00\\x02\\x07\\x01C\\x00a\\x00l\\x00i\\x00b\\x00r\\x00i\\x001\\x00\\x1e\\x00\\xdc\\x00\\x01\\x00?\\x00\\xbc\\x02\\x00\\x00\\x00\\x02\\x00\\x02\\x07\\x01C\\x00a\\x00l\\x00i\\x00b\\x00r\\x00i\\x001\\x00\\x1e\\x00\\xdc\\x00\\x01\\x004\\x00\\xbc\\x02\\x00\\x00\\x00\\x02\\x00\\x02\\x07\\x01C\\x00a\\x00l\\x00i\\x00b\\x00r\\x00i\\x001\\x00\\x1e\\x00\\xdc\\x00\\x00\\x004\\x00\\x90\\x01\\x00\\x00\\x00\\x02\\x00\\x02\\x07\\x01C\\x00a\\x00l\\x00i\\x00b\\x00r\\x00i\\x001\\x00\\x1e\\x00\\xdc\\x00\\x01\\x00\\t\\x00\\xbc\\x02\\x00\\x00\\x00\\x02\\x00\\x02\\x07\\x01C\\x00a\\x00l\\x00i\\x00b\\x00r\\x00i\\x001\\x00\\x1e\\x00\\xdc\\x00\\x00\\x00\\n\\x00\\x90\\x01\\x00\\x00\\x00\\x02\\x00\\x02\\x07\\x01C\\x00a\\x00l\\x00i\\x00b\\x00r\\x00i\\x001\\x00\\x1e\\x00\\xdc\\x00\\x02\\x00\\x17\\x00\\x90\\x01\\x00\\x00\\x00\\x02\\x00\\x02\\x07\\x01C\\x00a\\x00l\\x00i\\x00b\\x00r\\x00i\\x001\\x00\\x1e\\x00\\xdc\\x00\\x01\\x00\\x08\\x00\\xbc\\x02\\x00\\x00\\x00\\x02\\x00\\x02\\x07\\x01C\\x00a\\x00l\\x00i\\x00b\\x00r\\x00i\\x001\\x00\\x1e\\x00\\xdc\\x00\\x00\\x00\\t\\x00\\x90\\x01\\x00\\x00\\x00\\x02\\x00\\x02\\x07\\x01C\\x00a\\x00l\\x00i\\x00b\\x00r\\x00i\\x001\\x00\\x1e\\x00\\xdc\\x00\\x00\\x00\\x08\\x00\\x90\\x01\\x00\\x00\\x00\\x02\\x00\\x02\\x07\\x01C\\x00a\\x00l\\x00i\\x00b\\x00r\\x00i\\x00\\x1e\\x04\\x1c\\x00\\x05\\x00\\x17\\x00\\x00\"$\"#,##0_);\\\\(\"$\"#,##0\\\\)\\x1e\\x04!\\x00\\x06\\x00\\x1c\\x00\\x00\"$\"#,##0_);[Red]\\\\(\"$\"#,##0\\\\)\\x1e\\x04\"\\x00\\x07\\x00\\x1d\\x00\\x00\"$\"#,##0.00_);\\\\(\"$\"#,##0.00\\\\)\\x1e\\x04\\'\\x00\\x08\\x00\"\\x00\\x00\"$\"#,##0.00_);[Red]\\\\(\"$\"#,##0.00\\\\)\\x1e\\x047\\x00*\\x002\\x00\\x00_(\"$\"* #,##0_);_(\"$\"* \\\\(#,##0\\\\);_(\"$\"* \"-\"_);_(@_)\\x1e\\x04.\\x00)\\x00)\\x00\\x00_(* #,##0_);_(* \\\\(#,##0\\\\);_(* \"-\"_);_(@_)\\x1e\\x04?\\x00,\\x00:\\x00\\x00_(\"$\"* #,##0.00_);_(\"$\"* \\\\(#,##0.00\\\\);_(\"$\"* \"-\"??_);_(@_)\\x1e\\x046\\x00+\\x001\\x00\\x00_(* #,##0.00_);_(* \\\\(#,##0.00\\\\);_(* \"-\"??_);_(@_)\\xe0\\x00\\x14\\x00\\x00\\x00\\x00\\x00\\xf5\\xff \\x00\\x00\\x00\\x00\\x00\\x00\\x00\\x00\\x00\\x00\\x00\\xc0 \\xe0\\x00\\x14\\x00\\x01\\x00\\x00\\x00\\xf5\\xff \\x00\\x00\\xf4\\x00\\x00\\x00\\x00\\x00\\x00\\x00\\x00\\xc0 \\xe0\\x00\\x14\\x00\\x01\\x00\\x00\\x00\\xf5\\xff \\x00\\x00\\xf4\\x00\\x00\\x00\\x00\\x00\\x00\\x00\\x00\\xc0 \\xe0\\x00\\x14\\x00\\x02\\x00\\x00\\x00\\xf5\\xff \\x00\\x00\\xf4\\x00\\x00\\x00\\x00\\x00\\x00\\x00\\x00\\xc0 \\xe0\\x00\\x14\\x00\\x02\\x00\\x00\\x00\\xf5\\xff \\x00\\x00\\xf4\\x00\\x00\\x00\\x00\\x00\\x00\\x00\\x00\\xc0 \\xe0\\x00\\x14\\x00\\x00\\x00\\x00\\x00\\xf5\\xff \\x00\\x00\\xf4\\x00\\x00\\x00\\x00\\x00\\x00\\x00\\x00\\xc0 \\xe0\\x00\\x14\\x00\\x00\\x00\\x00\\x00\\xf5\\xff \\x00\\x00\\xf4\\x00\\x00\\x00\\x00\\x00\\x00\\x00\\x00\\xc0 \\xe0\\x00\\x14\\x00\\x00\\x00\\x00\\x00\\xf5\\xff \\x00\\x00\\xf4\\x00\\x00\\x00\\x00\\x00\\x00\\x00\\x00\\xc0 \\xe0\\x00\\x14\\x00\\x00\\x00\\x00\\x00\\xf5\\xff \\x00\\x00\\xf4\\x00\\x00\\x00\\x00\\x00\\x00\\x00\\x00\\xc0 \\xe0\\x00\\x14\\x00\\x00\\x00\\x00\\x00\\xf5\\xff \\x00\\x00\\xf4\\x00\\x00\\x00\\x00\\x00\\x00\\x00\\x00\\xc0 \\xe0\\x00\\x14\\x00\\x00\\x00\\x00\\x00\\xf5\\xff \\x00\\x00\\xf4\\x00\\x00\\x00\\x00\\x00\\x00\\x00\\x00\\xc0 \\xe0\\x00\\x14\\x00\\x00\\x00\\x00\\x00\\xf5\\xff \\x00\\x00\\xf4\\x00\\x00\\x00\\x00\\x00\\x00\\x00\\x00\\xc0 \\xe0\\x00\\x14\\x00\\x00\\x00\\x00\\x00\\xf5\\xff \\x00\\x00\\xf4\\x00\\x00\\x00\\x00\\x00\\x00\\x00\\x00\\xc0 \\xe0\\x00\\x14\\x00\\x00\\x00\\x00\\x00\\xf5\\xff \\x00\\x00\\xf4\\x00\\x00\\x00\\x00\\x00\\x00\\x00\\x00\\xc0 \\xe0\\x00\\x14\\x00\\x00\\x00\\x00\\x00\\xf5\\xff \\x00\\x00\\xf4\\x00\\x00\\x00\\x00\\x00\\x00\\x00\\x00\\xc0 \\xe0\\x00\\x14\\x00\\x00\\x00\\x00\\x00\\x01\\x00 \\x00\\x00\\x00\\x00\\x00\\x00\\x00\\x00\\x00\\x00\\x00\\xc0 \\xe0\\x00\\x14\\x00\\x16\\x00\\x00\\x00\\xf5\\xff \\x00\\x00\\xb4\\x00\\x00\\x00\\x00\\x00\\x00\\x00\\x04\\x9f \\xe0\\x00\\x14\\x00\\x16\\x00\\x00\\x00\\xf5\\xff \\x00\\x00\\xb4\\x00\\x00\\x00\\x00\\x00\\x00\\x00\\x04\\xaf \\xe0\\x00\\x14\\x00\\x16\\x00\\x00\\x00\\xf5\\xff \\x00\\x00\\xb4\\x00\\x00\\x00\\x00\\x00\\x00\\x00\\x04\\x89 \\xe0\\x00\\x14\\x00\\x16\\x00\\x00\\x00\\xf5\\xff \\x00\\x00\\xb4\\x00\\x00\\x00\\x00\\x00\\x00\\x00\\x04\\x9a \\xe0\\x00\\x14\\x00\\x16\\x00\\x00\\x00\\xf5\\xff \\x00\\x00\\xb4\\x00\\x00\\x00\\x00\\x00\\x00\\x00\\x04\\x9b \\xe0\\x00\\x14\\x00\\x16\\x00\\x00\\x00\\xf5\\xff \\x00\\x00\\xb4\\x00\\x00\\x00\\x00\\x00\\x00\\x00\\x04\\xaa \\xe0\\x00\\x14\\x00\\x16\\x00\\x00\\x00\\xf5\\xff \\x00\\x00\\xb4\\x00\\x00\\x00\\x00\\x00\\x00\\x00\\x04\\xac \\xe0\\x00\\x14\\x00\\x16\\x00\\x00\\x00\\xf5\\xff \\x00\\x00\\xb4\\x00\\x00\\x00\\x00\\x00\\x00\\x00\\x04\\xaf \\xe0\\x00\\x14\\x00\\x16\\x00\\x00\\x00\\xf5\\xff \\x00\\x00\\xb4\\x00\\x00\\x00\\x00\\x00\\x00\\x00\\x04\\x96 \\xe0\\x00\\x14\\x00\\x16\\x00\\x00\\x00\\xf5\\xff \\x00\\x00\\xb4\\x00\\x00\\x00\\x00\\x00\\x00\\x00\\x04\\xab \\xe0\\x00\\x14\\x00\\x16\\x00\\x00\\x00\\xf5\\xff \\x00\\x00\\xb4\\x00\\x00\\x00\\x00\\x00\\x00\\x00\\x04\\xac \\xe0\\x00\\x14\\x00\\x16\\x00\\x00\\x00\\xf5\\xff \\x00\\x00\\xb4\\x00\\x00\\x00\\x00\\x00\\x00\\x00\\x04\\xab \\xe0\\x00\\x14\\x00\\x16\\x00\\x00\\x00\\xf5\\xff \\x00\\x00\\xb4\\x00\\x00\\x00\\x00\\x00\\x00\\x00\\x04\\xb1 \\xe0\\x00\\x14\\x00\\x16\\x00\\x00\\x00\\xf5\\xff \\x00\\x00\\xb4\\x00\\x00\\x00\\x00\\x00\\x00\\x00\\x04\\xaf \\xe0\\x00\\x14\\x00\\x16\\x00\\x00\\x00\\xf5\\xff \\x00\\x00\\xb4\\x00\\x00\\x00\\x00\\x00\\x00\\x00\\x04\\x96 \\xe0\\x00\\x14\\x00\\x16\\x00\\x00\\x00\\xf5\\xff \\x00\\x00\\xb4\\x00\\x00\\x00\\x00\\x00\\x00\\x00\\x04\\xab \\xe0\\x00\\x14\\x00\\x16\\x00\\x00\\x00\\xf5\\xff \\x00\\x00\\xb4\\x00\\x00\\x00\\x00\\x00\\x00\\x00\\x04\\xac \\xe0\\x00\\x14\\x00\\x16\\x00\\x00\\x00\\xf5\\xff \\x00\\x00\\xb4\\x00\\x00\\x00\\x00\\x00\\x00\\x00\\x04\\xb9 \\xe0\\x00\\x14\\x00\\x15\\x00\\x00\\x00\\xf5\\xff \\x00\\x00\\xb4\\x00\\x00\\x00\\x00\\x00\\x00\\x00\\x04\\xbe \\xe0\\x00\\x14\\x00\\x15\\x00\\x00\\x00\\xf5\\xff \\x00\\x00\\xb4\\x00\\x00\\x00\\x00\\x00\\x00\\x00\\x04\\xb5 \\xe0\\x00\\x14\\x00\\x15\\x00\\x00\\x00\\xf5\\xff \\x00\\x00\\xb4\\x00\\x00\\x00\\x00\\x00\\x00\\x00\\x04\\xb7 \\xe0\\x00\\x14\\x00\\x15\\x00\\x00\\x00\\xf5\\xff \\x00\\x00\\xb4\\x00\\x00\\x00\\x00\\x00\\x00\\x00\\x04\\xb3 \\xe0\\x00\\x14\\x00\\x15\\x00\\x00\\x00\\xf5\\xff \\x00\\x00\\xb4\\x00\\x00\\x00\\x00\\x00\\x00\\x00\\x04\\xb1 \\xe0\\x00\\x14\\x00\\x15\\x00\\x00\\x00\\xf5\\xff \\x00\\x00\\xb4\\x00\\x00\\x00\\x00\\x00\\x00\\x00\\x04\\xb9 \\xe0\\x00\\x14\\x00\\x0b\\x00\\x00\\x00\\xf5\\xff \\x00\\x00\\xb4\\x00\\x00\\x00\\x00\\x00\\x00\\x00\\x04\\xad \\xe0\\x00\\x14\\x00\\x0f\\x00\\x00\\x00\\xf5\\xff \\x00\\x00\\x94\\x11\\x11\\x97\\x0b\\x97\\x0b\\x00\\x04\\x96 \\xe0\\x00\\x14\\x00\\x11\\x00\\x00\\x00\\xf5\\xff \\x00\\x00\\x94ff\\xbf\\x1f\\xbf\\x1f\\x00\\x04\\xb7 \\xe0\\x00\\x14\\x00\\x01\\x00+\\x00\\xf5\\xff \\x00\\x00\\xf8\\x00\\x00\\x00\\x00\\x00\\x00\\x00\\x00\\xc0 \\xe0\\x00\\x14\\x00\\x01\\x00)\\x00\\xf5\\xff \\x00\\x00\\xf8\\x00\\x00\\x00\\x00\\x00\\x00\\x00\\x00\\xc0 \\xe0\\x00\\x14\\x00\\x01\\x00,\\x00\\xf5\\xff \\x00\\x00\\xf8\\x00\\x00\\x00\\x00\\x00\\x00\\x00\\x00\\xc0 \\xe0\\x00\\x14\\x00\\x01\\x00*\\x00\\xf5\\xff \\x00\\x00\\xf8\\x00\\x00\\x00\\x00\\x00\\x00\\x00\\x00\\xc0 \\xe0\\x00\\x14\\x00\\x13\\x00\\x00\\x00\\xf5\\xff \\x00\\x00\\xf4\\x00\\x00\\x00\\x00\\x00\\x00\\x00\\x00\\xc0 \\xe0\\x00\\x14\\x00\\n\\x00\\x00\\x00\\xf5\\xff \\x00\\x00\\xb4\\x00\\x00\\x00\\x00\\x00\\x00\\x00\\x04\\xaa \\xe0\\x00\\x14\\x00\\x07\\x00\\x00\\x00\\xf5\\xff \\x00\\x00\\xd4\\x00P\\x00\\x00\\x00\\x1f\\x00\\x00\\xc0 \\xe0\\x00\\x14\\x00\\x08\\x00\\x00\\x00\\xf5\\xff \\x00\\x00\\xd4\\x00P\\x00\\x00\\x00\\x16\\x00\\x00\\xc0 \\xe0\\x00\\x14\\x00\\t\\x00\\x00\\x00\\xf5\\xff \\x00\\x00\\xd4\\x00 \\x00\\x00\\x80\\x18\\x00\\x00\\xc0 \\xe0\\x00\\x14\\x00\\t\\x00\\x00\\x00\\xf5\\xff \\x00\\x00\\xf4\\x00\\x00\\x00\\x00\\x00\\x00\\x00\\x00\\xc0 \\xe0\\x00\\x14\\x00\\r\\x00\\x00\\x00\\xf5\\xff \\x00\\x00\\x94\\x11\\x11\\x97\\x0b\\x97\\x0b\\x00\\x04\\xaf \\xe0\\x00\\x14\\x00\\x10\\x00\\x00\\x00\\xf5\\xff \\x00\\x00\\xd4\\x00`\\x00\\x00\\x00\\x1a\\x00\\x00\\xc0 \\xe0\\x00\\x14\\x00\\x0c\\x00\\x00\\x00\\xf5\\xff \\x00\\x00\\xb4\\x00\\x00\\x00\\x00\\x00\\x00\\x00\\x04\\xab \\xe0\\x00\\x14\\x00\\x05\\x00\\x00\\x00\\xf5\\xff \\x00\\x00\\x9c\\x11\\x11\\x16\\x0b\\x16\\x0b\\x00\\x04\\x9a \\xe0\\x00\\x14\\x00\\x0e\\x00\\x00\\x00\\xf5\\xff \\x00\\x00\\x94\\x11\\x11\\xbf\\x1f\\xbf\\x1f\\x00\\x04\\x96 \\xe0\\x00\\x14\\x00\\x01\\x00\\t\\x00\\xf5\\xff \\x00\\x00\\xf8\\x00\\x00\\x00\\x00\\x00\\x00\\x00\\x00\\xc0 \\xe0\\x00\\x14\\x00\\x06\\x00\\x00\\x00\\xf5\\xff \\x00\\x00\\xf4\\x00\\x00\\x00\\x00\\x00\\x00\\x00\\x00\\xc0 \\xe0\\x00\\x14\\x00\\x14\\x00\\x00\\x00\\xf5\\xff \\x00\\x00\\xd4\\x00a\\x00\\x00>\\x1f\\x00\\x00\\xc0 \\xe0\\x00\\x14\\x00\\x12\\x00\\x00\\x00\\xf5\\xff \\x00\\x00\\xf4\\x00\\x00\\x00\\x00\\x00\\x00\\x00\\x00\\xc0 \\xe0\\x00\\x14\\x00\\x00\\x00\\x00\\x00\\x01\\x00\"\\x00\\x00\\x10\\x00\\x00\\x00\\x00\\x00\\x00\\x00\\x00\\xc0 |\\x08\\x14\\x00|\\x08\\x00\\x00\\x00\\x00\\x00\\x00\\x00\\x00\\x00\\x00\\x00\\x00?\\x00Q\\xaf\\xd1\\r}\\x08A\\x00}\\x08\\x00\\x00\\x00\\x00\\x00\\x00\\x00\\x00\\x00\\x00\\x00\\x00\\x10\\x00\\x00\\x00\\x03\\x00\\r\\x00\\x14\\x00\\x03\\x00\\x00\\x00\\x01\\x00\\x00\\x0000\\\\);_(*\\x0e\\x00\\x05\\x00\\x02\\x04\\x00\\x14\\x00\\x03\\x00ef\\x04\\x00\\x00\\x00;_(@_)  }\\x08A\\x00}\\x08\\x00\\x00\\x00\\x00\\x00\\x00\\x00\\x00\\x00\\x00\\x00\\x00\\x11\\x00\\x00\\x00\\x03\\x00\\r\\x00\\x14\\x00\\x03\\x00\\x00\\x00\\x01\\x00\\x00\\x0000\\\\);_(*\\x0e\\x00\\x05\\x00\\x02\\x04\\x00\\x14\\x00\\x03\\x00ef\\x05\\x00\\x00\\x00;_(@_)  }\\x08A\\x00}\\x08\\x00\\x00\\x00\\x00\\x00\\x00\\x00\\x00\\x00\\x00\\x00\\x00\\x12\\x00\\x00\\x00\\x03\\x00\\r\\x00\\x14\\x00\\x03\\x00\\x00\\x00\\x01\\x00\\x00\\x0000\\\\);_(*\\x0e\\x00\\x05\\x00\\x02\\x04\\x00\\x14\\x00\\x03\\x00ef\\x06\\x00\\x00\\x00;_(@_)  }\\x08A\\x00}\\x08\\x00\\x00\\x00\\x00\\x00\\x00\\x00\\x00\\x00\\x00\\x00\\x00\\x13\\x00\\x00\\x00\\x03\\x00\\r\\x00\\x14\\x00\\x03\\x00\\x00\\x00\\x01\\x00\\x00\\x0000\\\\);_(*\\x0e\\x00\\x05\\x00\\x02\\x04\\x00\\x14\\x00\\x03\\x00ef\\x07\\x00\\x00\\x00;_(@_)  }\\x08A\\x00}\\x08\\x00\\x00\\x00\\x00\\x00\\x00\\x00\\x00\\x00\\x00\\x00\\x00\\x14\\x00\\x00\\x00\\x03\\x00\\r\\x00\\x14\\x00\\x03\\x00\\x00\\x00\\x01\\x00\\x00\\x0000\\\\);_(*\\x0e\\x00\\x05\\x00\\x02\\x04\\x00\\x14\\x00\\x03\\x00ef\\x08\\x00\\x00\\x00;_(@_)  }\\x08A\\x00}\\x08\\x00\\x00\\x00\\x00\\x00\\x00\\x00\\x00\\x00\\x00\\x00\\x00\\x15\\x00\\x00\\x00\\x03\\x00\\r\\x00\\x14\\x00\\x03\\x00\\x00\\x00\\x01\\x00\\x00\\x0000\\\\);_(*\\x0e\\x00\\x05\\x00\\x02\\x04\\x00\\x14\\x00\\x03\\x00ef\\t\\x00\\x00\\x00;_(@_)  }\\x08A\\x00}\\x08\\x00\\x00\\x00\\x00\\x00\\x00\\x00\\x00\\x00\\x00\\x00\\x00\\x16\\x00\\x00\\x00\\x03\\x00\\r\\x00\\x14\\x00\\x03\\x00\\x00\\x00\\x01\\x00\\x00\\x0000\\\\);_(*\\x0e\\x00\\x05\\x00\\x02\\x04\\x00\\x14\\x00\\x03\\x00\\xccL\\x04\\x00\\x00\\x00;_(@_)  }\\x08A\\x00}\\x08\\x00\\x00\\x00\\x00\\x00\\x00\\x00\\x00\\x00\\x00\\x00\\x00\\x17\\x00\\x00\\x00\\x03\\x00\\r\\x00\\x14\\x00\\x03\\x00\\x00\\x00\\x01\\x00\\x00\\x0000\\\\);_(*\\x0e\\x00\\x05\\x00\\x02\\x04\\x00\\x14\\x00\\x03\\x00\\xccL\\x05\\x00\\x00\\x00;_(@_)  }\\x08A\\x00}\\x08\\x00\\x00\\x00\\x00\\x00\\x00\\x00\\x00\\x00\\x00\\x00\\x00\\x18\\x00\\x00\\x00\\x03\\x00\\r\\x00\\x14\\x00\\x03\\x00\\x00\\x00\\x01\\x00\\x00\\x0000\\\\);_(*\\x0e\\x00\\x05\\x00\\x02\\x04\\x00\\x14\\x00\\x03\\x00\\xccL\\x06\\x00\\x00\\x00;_(@_)  }\\x08A\\x00}\\x08\\x00\\x00\\x00\\x00\\x00\\x00\\x00\\x00\\x00\\x00\\x00\\x00\\x19\\x00\\x00\\x00\\x03\\x00\\r\\x00\\x14\\x00\\x03\\x00\\x00\\x00\\x01\\x00\\x00\\x0000\\\\);_(*\\x0e\\x00\\x05\\x00\\x02\\x04\\x00\\x14\\x00\\x03\\x00\\xccL\\x07\\x00\\x00\\x00;_(@_)  }\\x08A\\x00}\\x08\\x00\\x00\\x00\\x00\\x00\\x00\\x00\\x00\\x00\\x00\\x00\\x00\\x1a\\x00\\x00\\x00\\x03\\x00\\r\\x00\\x14\\x00\\x03\\x00\\x00\\x00\\x01\\x00\\x00\\x0000\\\\);_(*\\x0e\\x00\\x05\\x00\\x02\\x04\\x00\\x14\\x00\\x03\\x00\\xccL\\x08\\x00\\x00\\x00;_(@_)  }\\x08A\\x00}\\x08\\x00\\x00\\x00\\x00\\x00\\x00\\x00\\x00\\x00\\x00\\x00\\x00\\x1b\\x00\\x00\\x00\\x03\\x00\\r\\x00\\x14\\x00\\x03\\x00\\x00\\x00\\x01\\x00\\x00\\x0000\\\\);_(*\\x0e\\x00\\x05\\x00\\x02\\x04\\x00\\x14\\x00\\x03\\x00\\xccL\\t\\x00\\x00\\x00;_(@_)  }\\x08A\\x00}\\x08\\x00\\x00\\x00\\x00\\x00\\x00\\x00\\x00\\x00\\x00\\x00\\x00\\x1c\\x00\\x00\\x00\\x03\\x00\\r\\x00\\x14\\x00\\x03\\x00\\x00\\x00\\x01\\x00\\x00\\x0000\\\\);_(*\\x0e\\x00\\x05\\x00\\x02\\x04\\x00\\x14\\x00\\x03\\x0023\\x04\\x00\\x00\\x00;_(@_)  }\\x08A\\x00}\\x08\\x00\\x00\\x00\\x00\\x00\\x00\\x00\\x00\\x00\\x00\\x00\\x00\\x1d\\x00\\x00\\x00\\x03\\x00\\r\\x00\\x14\\x00\\x03\\x00\\x00\\x00\\x01\\x00\\x00\\x0000\\\\);_(*\\x0e\\x00\\x05\\x00\\x02\\x04\\x00\\x14\\x00\\x03\\x0023\\x05\\x00\\x00\\x00;_(@_)  }\\x08A\\x00}\\x08\\x00\\x00\\x00\\x00\\x00\\x00\\x00\\x00\\x00\\x00\\x00\\x00\\x1e\\x00\\x00\\x00\\x03\\x00\\r\\x00\\x14\\x00\\x03\\x00\\x00\\x00\\x01\\x00\\x00\\x0000\\\\);_(*\\x0e\\x00\\x05\\x00\\x02\\x04\\x00\\x14\\x00\\x03\\x0023\\x06\\x00\\x00\\x00;_(@_)  }\\x08A\\x00}\\x08\\x00\\x00\\x00\\x00\\x00\\x00\\x00\\x00\\x00\\x00\\x00\\x00\\x1f\\x00\\x00\\x00\\x03\\x00\\r\\x00\\x14\\x00\\x03\\x00\\x00\\x00\\x01\\x00\\x00\\x0000\\\\);_(*\\x0e\\x00\\x05\\x00\\x02\\x04\\x00\\x14\\x00\\x03\\x0023\\x07\\x00\\x00\\x00;_(@_)  }\\x08A\\x00}\\x08\\x00\\x00\\x00\\x00\\x00\\x00\\x00\\x00\\x00\\x00\\x00\\x00 \\x00\\x00\\x00\\x03\\x00\\r\\x00\\x14\\x00\\x03\\x00\\x00\\x00\\x01\\x00\\x00\\x0000\\\\);_(*\\x0e\\x00\\x05\\x00\\x02\\x04\\x00\\x14\\x00\\x03\\x0023\\x08\\x00\\x00\\x00;_(@_)  }\\x08A\\x00}\\x08\\x00\\x00\\x00\\x00\\x00\\x00\\x00\\x00\\x00\\x00\\x00\\x00!\\x00\\x00\\x00\\x03\\x00\\r\\x00\\x14\\x00\\x03\\x00\\x00\\x00\\x01\\x00\\x00\\x0000\\\\);_(*\\x0e\\x00\\x05\\x00\\x02\\x04\\x00\\x14\\x00\\x03\\x0023\\t\\x00\\x00\\x00;_(@_)  }\\x08A\\x00}\\x08\\x00\\x00\\x00\\x00\\x00\\x00\\x00\\x00\\x00\\x00\\x00\\x00\"\\x00\\x00\\x00\\x03\\x00\\r\\x00\\x14\\x00\\x03\\x00\\x00\\x00\\x00\\x00\\x00\\x0000\\\\);_(*\\x0e\\x00\\x05\\x00\\x02\\x04\\x00\\x14\\x00\\x03\\x00\\x00\\x00\\x04\\x00\\x00\\x00;_(@_)  }\\x08A\\x00}\\x08\\x00\\x00\\x00\\x00\\x00\\x00\\x00\\x00\\x00\\x00\\x00\\x00#\\x00\\x00\\x00\\x03\\x00\\r\\x00\\x14\\x00\\x03\\x00\\x00\\x00\\x00\\x00\\x00\\x0000\\\\);_(*\\x0e\\x00\\x05\\x00\\x02\\x04\\x00\\x14\\x00\\x03\\x00\\x00\\x00\\x05\\x00\\x00\\x00;_(@_)  }\\x08A\\x00}\\x08\\x00\\x00\\x00\\x00\\x00\\x00\\x00\\x00\\x00\\x00\\x00\\x00$\\x00\\x00\\x00\\x03\\x00\\r\\x00\\x14\\x00\\x03\\x00\\x00\\x00\\x00\\x00\\x00\\x0000\\\\);_(*\\x0e\\x00\\x05\\x00\\x02\\x04\\x00\\x14\\x00\\x03\\x00\\x00\\x00\\x06\\x00\\x00\\x00;_(@_)  }\\x08A\\x00}\\x08\\x00\\x00\\x00\\x00\\x00\\x00\\x00\\x00\\x00\\x00\\x00\\x00%\\x00\\x00\\x00\\x03\\x00\\r\\x00\\x14\\x00\\x03\\x00\\x00\\x00\\x00\\x00\\x00\\x0000\\\\);_(*\\x0e\\x00\\x05\\x00\\x02\\x04\\x00\\x14\\x00\\x03\\x00\\x00\\x00\\x07\\x00\\x00\\x00;_(@_)  }\\x08A\\x00}\\x08\\x00\\x00\\x00\\x00\\x00\\x00\\x00\\x00\\x00\\x00\\x00\\x00&\\x00\\x00\\x00\\x03\\x00\\r\\x00\\x14\\x00\\x03\\x00\\x00\\x00\\x00\\x00\\x00\\x0000\\\\);_(*\\x0e\\x00\\x05\\x00\\x02\\x04\\x00\\x14\\x00\\x03\\x00\\x00\\x00\\x08\\x00\\x00\\x00;_(@_)  }\\x08A\\x00}\\x08\\x00\\x00\\x00\\x00\\x00\\x00\\x00\\x00\\x00\\x00\\x00\\x00\\'\\x00\\x00\\x00\\x03\\x00\\r\\x00\\x14\\x00\\x03\\x00\\x00\\x00\\x00\\x00\\x00\\x0000\\\\);_(*\\x0e\\x00\\x05\\x00\\x02\\x04\\x00\\x14\\x00\\x03\\x00\\x00\\x00\\t\\x00\\x00\\x00;_(@_)  }\\x08A\\x00}\\x08\\x00\\x00\\x00\\x00\\x00\\x00\\x00\\x00\\x00\\x00\\x00\\x00(\\x00\\x00\\x00\\x03\\x00\\r\\x00\\x14\\x00\\x02\\x00\\x00\\x00\\x9c\\x00\\x06\\xff00\\\\);_(*\\x0e\\x00\\x05\\x00\\x02\\x04\\x00\\x14\\x00\\x02\\x00\\x00\\x00\\xff\\xc7\\xce\\xff;_(@_)  }\\x08\\x91\\x00}\\x08\\x00\\x00\\x00\\x00\\x00\\x00\\x00\\x00\\x00\\x00\\x00\\x00)\\x00\\x00\\x00\\x07\\x00\\r\\x00\\x14\\x00\\x02\\x00\\x00\\x00\\xfa}\\x00\\xff00\\\\);_(*\\x0e\\x00\\x05\\x00\\x02\\x04\\x00\\x14\\x00\\x02\\x00\\x00\\x00\\xf2\\xf2\\xf2\\xff;_(@_)  \\x07\\x00\\x14\\x00\\x02\\x00\\x00\\x00\\x7f\\x7f\\x7f\\xff        \\x08\\x00\\x14\\x00\\x02\\x00\\x00\\x00\\x7f\\x7f\\x7f\\xff        \\t\\x00\\x14\\x00\\x02\\x00\\x00\\x00\\x7f\\x7f\\x7f\\xff\\x00\\x00\\x00\\x00\\x00\\x00\\x00\\x00\\n\\x00\\x14\\x00\\x02\\x00\\x00\\x00\\x7f\\x7f\\x7f\\xff\\x00\\x00\\x00\\x00\\x00\\x00\\x00\\x00}\\x08\\x91\\x00}\\x08\\x00\\x00\\x00\\x00\\x00\\x00\\x00\\x00\\x00\\x00\\x00\\x00*\\x00\\x00\\x00\\x07\\x00\\r\\x00\\x14\\x00\\x03\\x00\\x00\\x00\\x00\\x00\\x00\\x0000\\\\);_(*\\x0e\\x00\\x05\\x00\\x02\\x04\\x00\\x14\\x00\\x02\\x00\\x00\\x00\\xa5\\xa5\\xa5\\xff;_(@_)  \\x07\\x00\\x14\\x00\\x02\\x00\\x00\\x00???\\xff        \\x08\\x00\\x14\\x00\\x02\\x00\\x00\\x00???\\xff        \\t\\x00\\x14\\x00\\x02\\x00\\x00\\x00???\\xff\\x00\\x00\\x00\\x00\\x00\\x00\\x00\\x00\\n\\x00\\x14\\x00\\x02\\x00\\x00\\x00???\\xff\\x00\\x00\\x00\\x00\\x00\\x00\\x00\\x00}\\x08-\\x00}\\x08\\x00\\x00\\x00\\x00\\x00\\x00\\x00\\x00\\x00\\x00\\x00\\x00/\\x00\\x00\\x00\\x02\\x00\\r\\x00\\x14\\x00\\x02\\x00\\x00\\x00\\x7f\\x7f\\x7f\\xff00\\\\);_(*\\x0e\\x00\\x05\\x00\\x02}\\x08A\\x00}\\x08\\x00\\x00\\x00\\x00\\x00\\x00\\x00\\x00\\x00\\x00\\x00\\x000\\x00\\x00\\x00\\x03\\x00\\r\\x00\\x14\\x00\\x02\\x00\\x00\\x00\\x00a\\x00\\xff00\\\\);_(*\\x0e\\x00\\x05\\x00\\x02\\x04\\x00\\x14\\x00\\x02\\x00\\x00\\x00\\xc6\\xef\\xce\\xff;_(@_)  }\\x08A\\x00}\\x08\\x00\\x00\\x00\\x00\\x00\\x00\\x00\\x00\\x00\\x00\\x00\\x001\\x00\\x00\\x00\\x03\\x00\\r\\x00\\x14\\x00\\x03\\x00\\x00\\x00\\x03\\x00\\x00\\x0000\\\\);_(*\\x0e\\x00\\x05\\x00\\x02\\x08\\x00\\x14\\x00\\x03\\x00\\x00\\x00\\x04\\x00\\x00\\x00;_(@_)  }\\x08A\\x00}\\x08\\x00\\x00\\x00\\x00\\x00\\x00\\x00\\x00\\x00\\x00\\x00\\x002\\x00\\x00\\x00\\x03\\x00\\r\\x00\\x14\\x00\\x03\\x00\\x00\\x00\\x03\\x00\\x00\\x0000\\\\);_(*\\x0e\\x00\\x05\\x00\\x02\\x08\\x00\\x14\\x00\\x03\\x00\\xff?\\x04\\x00\\x00\\x00;_(@_)  }\\x08A\\x00}\\x08\\x00\\x00\\x00\\x00\\x00\\x00\\x00\\x00\\x00\\x00\\x00\\x003\\x00\\x00\\x00\\x03\\x00\\r\\x00\\x14\\x00\\x03\\x00\\x00\\x00\\x03\\x00\\x00\\x0000\\\\);_(*\\x0e\\x00\\x05\\x00\\x02\\x08\\x00\\x14\\x00\\x03\\x0023\\x04\\x00\\x00\\x00;_(@_)  }\\x08-\\x00}\\x08\\x00\\x00\\x00\\x00\\x00\\x00\\x00\\x00\\x00\\x00\\x00\\x004\\x00\\x00\\x00\\x02\\x00\\r\\x00\\x14\\x00\\x03\\x00\\x00\\x00\\x03\\x00\\x00\\x0000\\\\);_(*\\x0e\\x00\\x05\\x00\\x02}\\x08\\x91\\x00}\\x08\\x00\\x00\\x00\\x00\\x00\\x00\\x00\\x00\\x00\\x00\\x00\\x005\\x00\\x00\\x00\\x07\\x00\\r\\x00\\x14\\x00\\x02\\x00\\x00\\x00??v\\xff00\\\\);_(*\\x0e\\x00\\x05\\x00\\x02\\x04\\x00\\x14\\x00\\x02\\x00\\x00\\x00\\xff\\xcc\\x99\\xff;_(@_)  \\x07\\x00\\x14\\x00\\x02\\x00\\x00\\x00\\x7f\\x7f\\x7f\\xff        \\x08\\x00\\x14\\x00\\x02\\x00\\x00\\x00\\x7f\\x7f\\x7f\\xff        \\t\\x00\\x14\\x00\\x02\\x00\\x00\\x00\\x7f\\x7f\\x7f\\xff\\x00\\x00\\x00\\x00\\x00\\x00\\x00\\x00\\n\\x00\\x14\\x00\\x02\\x00\\x00\\x00\\x7f\\x7f\\x7f\\xff\\x00\\x00\\x00\\x00\\x00\\x00\\x00\\x00}\\x08A\\x00}\\x08\\x00\\x00\\x00\\x00\\x00\\x00\\x00\\x00\\x00\\x00\\x00\\x006\\x00\\x00\\x00\\x03\\x00\\r\\x00\\x14\\x00\\x02\\x00\\x00\\x00\\xfa}\\x00\\xff00\\\\);_(*\\x0e\\x00\\x05\\x00\\x02\\x08\\x00\\x14\\x00\\x02\\x00\\x00\\x00\\xff\\x80\\x01\\xff;_(@_)  }\\x08A\\x00}\\x08\\x00\\x00\\x00\\x00\\x00\\x00\\x00\\x00\\x00\\x00\\x00\\x007\\x00\\x00\\x00\\x03\\x00\\r\\x00\\x14\\x00\\x02\\x00\\x00\\x00\\x9cW\\x00\\xff00\\\\);_(*\\x0e\\x00\\x05\\x00\\x02\\x04\\x00\\x14\\x00\\x02\\x00\\x00\\x00\\xff\\xeb\\x9c\\xff;_(@_)  }\\x08x\\x00}\\x08\\x00\\x00\\x00\\x00\\x00\\x00\\x00\\x00\\x00\\x00\\x00\\x008\\x00\\x00\\x00\\x05\\x00\\x04\\x00\\x14\\x00\\x02\\x00\\x00\\x00\\xff\\xff\\xcc\\xff00\\\\);_(*\\x07\\x00\\x14\\x00\\x02\\x00\\x00\\x00\\xb2\\xb2\\xb2\\xff\\x00\\xff\\xeb\\x9c\\xff;_(\\x08\\x00\\x14\\x00\\x02\\x00\\x00\\x00\\xb2\\xb2\\xb2\\xff\\x00\\x7f\\x7f\\x7f\\xff   \\t\\x00\\x14\\x00\\x02\\x00\\x00\\x00\\xb2\\xb2\\xb2\\xff\\x00\\x7f\\x7f\\x7f\\xff   \\n\\x00\\x14\\x00\\x02\\x00\\x00\\x00\\xb2\\xb2\\xb2\\xff\\x00\\x7f\\x7f\\x7f\\xff\\x00\\x00\\x00}\\x08\\x91\\x00}\\x08\\x00\\x00\\x00\\x00\\x00\\x00\\x00\\x00\\x00\\x00\\x00\\x009\\x00\\x00\\x00\\x07\\x00\\r\\x00\\x14\\x00\\x02\\x00\\x00\\x00???\\xff00\\\\);_(*\\x0e\\x00\\x05\\x00\\x02\\x04\\x00\\x14\\x00\\x02\\x00\\x00\\x00\\xf2\\xf2\\xf2\\xff;_(\\x08\\x00\\x14\\x00\\x02\\x07\\x00\\x14\\x00\\x02\\x00\\x00\\x00???\\xff   \\t\\x00\\x14\\x00\\x02\\x08\\x00\\x14\\x00\\x02\\x00\\x00\\x00???\\xff   \\n\\x00\\x14\\x00\\x02\\t\\x00\\x14\\x00\\x02\\x00\\x00\\x00???\\xff\\x00\\x00\\x00\\x00\\x00\\x00\\x00\\x00\\n\\x00\\x14\\x00\\x02\\x00\\x00\\x00???\\xff\\x00\\x00\\x00\\x00\\x00\\x00\\x00\\x00}\\x08-\\x00}\\x08\\x00\\x00\\x00\\x00\\x00\\x00\\x00\\x00\\x00\\x00\\x00\\x00;\\x00\\x00\\x00\\x02\\x00\\r\\x00\\x14\\x00\\x03\\x00\\x00\\x00\\x03\\x00\\x00\\x0000\\\\);_(*\\x0e\\x00\\x05\\x00\\x01}\\x08U\\x00}\\x08\\x00\\x00\\x00\\x00\\x00\\x00\\x00\\x00\\x00\\x00\\x00\\x00<\\x00\\x00\\x00\\x04\\x00\\r\\x00\\x14\\x00\\x03\\x00\\x00\\x00\\x01\\x00\\x00\\x0000\\\\);_(*\\x0e\\x00\\x05\\x00\\x02\\x07\\x00\\x14\\x00\\x03\\x00\\x00\\x00\\x04\\x00\\x00\\x00;_(\\x08\\x00\\x14\\x00\\x02\\x08\\x00\\x14\\x00\\x03\\x00\\x00\\x00\\x04\\x00\\x00\\x00   \\t\\x00\\x14\\x00\\x02}\\x08-\\x00}\\x08\\x00\\x00\\x00\\x00\\x00\\x00\\x00\\x00\\x00\\x00\\x00\\x00=\\x00\\x00\\x00\\x02\\x00\\r\\x00\\x14\\x00\\x02\\x00\\x00\\x00\\xff\\x00\\x00\\xff00\\\\);_(*\\x0e\\x00\\x05\\x00\\x02\\x93\\x02\\x12\\x00\\x10\\x00\\r\\x00\\x0020% - Accent1\\x92\\x08M\\x00\\x92\\x08\\x00\\x00\\x00\\x00\\x00\\x00\\x00\\x00\\x00\\x00\\x01\\x04\\x1e\\xff\\r\\x002\\x000\\x00%\\x00 \\x00-\\x00 \\x00A\\x00c\\x00c\\x00e\\x00n\\x00t\\x001\\x00\\x00\\x00\\x03\\x00\\x01\\x00\\x0c\\x00\\x07\\x04ef\\xd9\\xe1\\xf2\\xff\\x05\\x00\\x0c\\x00\\x07\\x01\\x00\\x00\\x00\\x00\\x00\\xff%\\x00\\x05\\x00\\x02\\x93\\x02\\x12\\x00\\x11\\x00\\r\\x00\\x0020% - Accent2\\x92\\x08M\\x00\\x92\\x08\\x00\\x00\\x00\\x00\\x00\\x00\\x00\\x00\\x00\\x00\\x01\\x04\"\\xff\\r\\x002\\x000\\x00%\\x00 \\x00-\\x00 \\x00A\\x00c\\x00c\\x00e\\x00n\\x00t\\x002\\x00\\x00\\x00\\x03\\x00\\x01\\x00\\x0c\\x00\\x07\\x05ef\\xfc\\xe4\\xd6\\xff\\x05\\x00\\x0c\\x00\\x07\\x01\\x00\\x00\\x00\\x00\\x00\\xff%\\x00\\x05\\x00\\x02\\x93\\x02\\x12\\x00\\x12\\x00\\r\\x00\\x0020% - Accent3\\x92\\x08M\\x00\\x92\\x08\\x00\\x00\\x00\\x00\\x00\\x00\\x00\\x00\\x00\\x00\\x01\\x04&\\xff\\r\\x002\\x000\\x00%\\x00 \\x00-\\x00 \\x00A\\x00c\\x00c\\x00e\\x00n\\x00t\\x003\\x00\\x00\\x00\\x03\\x00\\x01\\x00\\x0c\\x00\\x07\\x06ef\\xed\\xed\\xed\\xff\\x05\\x00\\x0c\\x00\\x07\\x01\\x00\\x00\\x00\\x00\\x00\\xff%\\x00\\x05\\x00\\x02\\x93\\x02\\x12\\x00\\x13\\x00\\r\\x00\\x0020% - Accent4\\x92\\x08M\\x00\\x92\\x08\\x00\\x00\\x00\\x00\\x00\\x00\\x00\\x00\\x00\\x00\\x01\\x04*\\xff\\r\\x002\\x000\\x00%\\x00 \\x00-\\x00 \\x00A\\x00c\\x00c\\x00e\\x00n\\x00t\\x004\\x00\\x00\\x00\\x03\\x00\\x01\\x00\\x0c\\x00\\x07\\x07ef\\xff\\xf2\\xcc\\xff\\x05\\x00\\x0c\\x00\\x07\\x01\\x00\\x00\\x00\\x00\\x00\\xff%\\x00\\x05\\x00\\x02\\x93\\x02\\x12\\x00\\x14\\x00\\r\\x00\\x0020% - Accent5\\x92\\x08M\\x00\\x92\\x08\\x00\\x00\\x00\\x00\\x00\\x00\\x00\\x00\\x00\\x00\\x01\\x04.\\xff\\r\\x002\\x000\\x00%\\x00 \\x00-\\x00 \\x00A\\x00c\\x00c\\x00e\\x00n\\x00t\\x005\\x00\\x00\\x00\\x03\\x00\\x01\\x00\\x0c\\x00\\x07\\x08ef\\xdd\\xeb\\xf7\\xff\\x05\\x00\\x0c\\x00\\x07\\x01\\x00\\x00\\x00\\x00\\x00\\xff%\\x00\\x05\\x00\\x02\\x93\\x02\\x12\\x00\\x15\\x00\\r\\x00\\x0020% - Accent6\\x92\\x08M\\x00\\x92\\x08\\x00\\x00\\x00\\x00\\x00\\x00\\x00\\x00\\x00\\x00\\x01\\x042\\xff\\r\\x002\\x000\\x00%\\x00 \\x00-\\x00 \\x00A\\x00c\\x00c\\x00e\\x00n\\x00t\\x006\\x00\\x00\\x00\\x03\\x00\\x01\\x00\\x0c\\x00\\x07\\tef\\xe2\\xef\\xda\\xff\\x05\\x00\\x0c\\x00\\x07\\x01\\x00\\x00\\x00\\x00\\x00\\xff%\\x00\\x05\\x00\\x02\\x93\\x02\\x12\\x00\\x16\\x00\\r\\x00\\x0040% - Accent1\\x92\\x08M\\x00\\x92\\x08\\x00\\x00\\x00\\x00\\x00\\x00\\x00\\x00\\x00\\x00\\x01\\x04\\x1f\\xff\\r\\x004\\x000\\x00%\\x00 \\x00-\\x00 \\x00A\\x00c\\x00c\\x00e\\x00n\\x00t\\x001\\x00\\x00\\x00\\x03\\x00\\x01\\x00\\x0c\\x00\\x07\\x04\\xccL\\xb4\\xc6\\xe7\\xff\\x05\\x00\\x0c\\x00\\x07\\x01\\x00\\x00\\x00\\x00\\x00\\xff%\\x00\\x05\\x00\\x02\\x93\\x02\\x12\\x00\\x17\\x00\\r\\x00\\x0040% - Accent2\\x92\\x08M\\x00\\x92\\x08\\x00\\x00\\x00\\x00\\x00\\x00\\x00\\x00\\x00\\x00\\x01\\x04#\\xff\\r\\x004\\x000\\x00%\\x00 \\x00-\\x00 \\x00A\\x00c\\x00c\\x00e\\x00n\\x00t\\x002\\x00\\x00\\x00\\x03\\x00\\x01\\x00\\x0c\\x00\\x07\\x05\\xccL\\xf8\\xcb\\xad\\xff\\x05\\x00\\x0c\\x00\\x07\\x01\\x00\\x00\\x00\\x00\\x00\\xff%\\x00\\x05\\x00\\x02\\x93\\x02\\x12\\x00\\x18\\x00\\r\\x00\\x0040% - Accent3\\x92\\x08M\\x00\\x92\\x08\\x00\\x00\\x00\\x00\\x00\\x00\\x00\\x00\\x00\\x00\\x01\\x04\\'\\xff\\r\\x004\\x000\\x00%\\x00 \\x00-\\x00 \\x00A\\x00c\\x00c\\x00e\\x00n\\x00t\\x003\\x00\\x00\\x00\\x03\\x00\\x01\\x00\\x0c\\x00\\x07\\x06\\xccL\\xdb\\xdb\\xdb\\xff\\x05\\x00\\x0c\\x00\\x07\\x01\\x00\\x00\\x00\\x00\\x00\\xff%\\x00\\x05\\x00\\x02\\x93\\x02\\x12\\x00\\x19\\x00\\r\\x00\\x0040% - Accent4\\x92\\x08M\\x00\\x92\\x08\\x00\\x00\\x00\\x00\\x00\\x00\\x00\\x00\\x00\\x00\\x01\\x04+\\xff\\r\\x004\\x000\\x00%\\x00 \\x00-\\x00 \\x00A\\x00c\\x00c\\x00e\\x00n\\x00t\\x004\\x00\\x00\\x00\\x03\\x00\\x01\\x00\\x0c\\x00\\x07\\x07\\xccL\\xff\\xe6\\x99\\xff\\x05\\x00\\x0c\\x00\\x07\\x01\\x00\\x00\\x00\\x00\\x00\\xff%\\x00\\x05\\x00\\x02\\x93\\x02\\x12\\x00\\x1a\\x00\\r\\x00\\x0040% - Accent5\\x92\\x08M\\x00\\x92\\x08\\x00\\x00\\x00\\x00\\x00\\x00\\x00\\x00\\x00\\x00\\x01\\x04/\\xff\\r\\x004\\x000\\x00%\\x00 \\x00-\\x00 \\x00A\\x00c\\x00c\\x00e\\x00n\\x00t\\x005\\x00\\x00\\x00\\x03\\x00\\x01\\x00\\x0c\\x00\\x07\\x08\\xccL\\xbd\\xd7\\xee\\xff\\x05\\x00\\x0c\\x00\\x07\\x01\\x00\\x00\\x00\\x00\\x00\\xff%\\x00\\x05\\x00\\x02\\x93\\x02\\x12\\x00\\x1b\\x00\\r\\x00\\x0040% - Accent6\\x92\\x08M\\x00\\x92\\x08\\x00\\x00\\x00\\x00\\x00\\x00\\x00\\x00\\x00\\x00\\x01\\x043\\xff\\r\\x004\\x000\\x00%\\x00 \\x00-\\x00 \\x00A\\x00c\\x00c\\x00e\\x00n\\x00t\\x006\\x00\\x00\\x00\\x03\\x00\\x01\\x00\\x0c\\x00\\x07\\t\\xccL\\xc6\\xe0\\xb4\\xff\\x05\\x00\\x0c\\x00\\x07\\x01\\x00\\x00\\x00\\x00\\x00\\xff%\\x00\\x05\\x00\\x02\\x93\\x02\\x12\\x00\\x1c\\x00\\r\\x00\\x0060% - Accent1\\x92\\x08M\\x00\\x92\\x08\\x00\\x00\\x00\\x00\\x00\\x00\\x00\\x00\\x00\\x00\\x01\\x04 \\xff\\r\\x006\\x000\\x00%\\x00 \\x00-\\x00 \\x00A\\x00c\\x00c\\x00e\\x00n\\x00t\\x001\\x00\\x00\\x00\\x03\\x00\\x01\\x00\\x0c\\x00\\x07\\x0423\\x8e\\xa9\\xdb\\xff\\x05\\x00\\x0c\\x00\\x07\\x01\\x00\\x00\\x00\\x00\\x00\\xff%\\x00\\x05\\x00\\x02\\x93\\x02\\x12\\x00\\x1d\\x00\\r\\x00\\x0060% - Accent2\\x92\\x08M\\x00\\x92\\x08\\x00\\x00\\x00\\x00\\x00\\x00\\x00\\x00\\x00\\x00\\x01\\x04$\\xff\\r\\x006\\x000\\x00%\\x00 \\x00-\\x00 \\x00A\\x00c\\x00c\\x00e\\x00n\\x00t\\x002\\x00\\x00\\x00\\x03\\x00\\x01\\x00\\x0c\\x00\\x07\\x0523\\xf4\\xb0\\x84\\xff\\x05\\x00\\x0c\\x00\\x07\\x01\\x00\\x00\\x00\\x00\\x00\\xff%\\x00\\x05\\x00\\x02\\x93\\x02\\x12\\x00\\x1e\\x00\\r\\x00\\x0060% - Accent3\\x92\\x08M\\x00\\x92\\x08\\x00\\x00\\x00\\x00\\x00\\x00\\x00\\x00\\x00\\x00\\x01\\x04(\\xff\\r\\x006\\x000\\x00%\\x00 \\x00-\\x00 \\x00A\\x00c\\x00c\\x00e\\x00n\\x00t\\x003\\x00\\x00\\x00\\x03\\x00\\x01\\x00\\x0c\\x00\\x07\\x0623\\xc9\\xc9\\xc9\\xff\\x05\\x00\\x0c\\x00\\x07\\x01\\x00\\x00\\x00\\x00\\x00\\xff%\\x00\\x05\\x00\\x02\\x93\\x02\\x12\\x00\\x1f\\x00\\r\\x00\\x0060% - Accent4\\x92\\x08M\\x00\\x92\\x08\\x00\\x00\\x00\\x00\\x00\\x00\\x00\\x00\\x00\\x00\\x01\\x04,\\xff\\r\\x006\\x000\\x00%\\x00 \\x00-\\x00 \\x00A\\x00c\\x00c\\x00e\\x00n\\x00t\\x004\\x00\\x00\\x00\\x03\\x00\\x01\\x00\\x0c\\x00\\x07\\x0723\\xff\\xd9f\\xff\\x05\\x00\\x0c\\x00\\x07\\x01\\x00\\x00\\x00\\x00\\x00\\xff%\\x00\\x05\\x00\\x02\\x93\\x02\\x12\\x00 \\x00\\r\\x00\\x0060% - Accent5\\x92\\x08M\\x00\\x92\\x08\\x00\\x00\\x00\\x00\\x00\\x00\\x00\\x00\\x00\\x00\\x01\\x040\\xff\\r\\x006\\x000\\x00%\\x00 \\x00-\\x00 \\x00A\\x00c\\x00c\\x00e\\x00n\\x00t\\x005\\x00\\x00\\x00\\x03\\x00\\x01\\x00\\x0c\\x00\\x07\\x0823\\x9b\\xc2\\xe6\\xff\\x05\\x00\\x0c\\x00\\x07\\x01\\x00\\x00\\x00\\x00\\x00\\xff%\\x00\\x05\\x00\\x02\\x93\\x02\\x12\\x00!\\x00\\r\\x00\\x0060% - Accent6\\x92\\x08M\\x00\\x92\\x08\\x00\\x00\\x00\\x00\\x00\\x00\\x00\\x00\\x00\\x00\\x01\\x044\\xff\\r\\x006\\x000\\x00%\\x00 \\x00-\\x00 \\x00A\\x00c\\x00c\\x00e\\x00n\\x00t\\x006\\x00\\x00\\x00\\x03\\x00\\x01\\x00\\x0c\\x00\\x07\\t23\\xa9\\xd0\\x8e\\xff\\x05\\x00\\x0c\\x00\\x07\\x01\\x00\\x00\\x00\\x00\\x00\\xff%\\x00\\x05\\x00\\x02\\x93\\x02\\x0c\\x00\"\\x00\\x07\\x00\\x00Accent1\\x92\\x08A\\x00\\x92\\x08\\x00\\x00\\x00\\x00\\x00\\x00\\x00\\x00\\x00\\x00\\x01\\x04\\x1d\\xff\\x07\\x00A\\x00c\\x00c\\x00e\\x00n\\x00t\\x001\\x00\\x00\\x00\\x03\\x00\\x01\\x00\\x0c\\x00\\x07\\x04\\x00\\x00Dr\\xc4\\xff\\x05\\x00\\x0c\\x00\\x07\\x00\\x00\\x00\\xff\\xff\\xff\\xff%\\x00\\x05\\x00\\x02\\x93\\x02\\x0c\\x00#\\x00\\x07\\x00\\x00Accent2\\x92\\x08A\\x00\\x92\\x08\\x00\\x00\\x00\\x00\\x00\\x00\\x00\\x00\\x00\\x00\\x01\\x04!\\xff\\x07\\x00A\\x00c\\x00c\\x00e\\x00n\\x00t\\x002\\x00\\x00\\x00\\x03\\x00\\x01\\x00\\x0c\\x00\\x07\\x05\\x00\\x00\\xed}1\\xff\\x05\\x00\\x0c\\x00\\x07\\x00\\x00\\x00\\xff\\xff\\xff\\xff%\\x00\\x05\\x00\\x02\\x93\\x02\\x0c\\x00$\\x00\\x07\\x00\\x00Accent3\\x92\\x08A\\x00\\x92\\x08\\x00\\x00\\x00\\x00\\x00\\x00\\x00\\x00\\x00\\x00\\x01\\x04%\\xff\\x07\\x00A\\x00c\\x00c\\x00e\\x00n\\x00t\\x003\\x00\\x00\\x00\\x03\\x00\\x01\\x00\\x0c\\x00\\x07\\x06\\x00\\x00\\xa5\\xa5\\xa5\\xff\\x05\\x00\\x0c\\x00\\x07\\x00\\x00\\x00\\xff\\xff\\xff\\xff%\\x00\\x05\\x00\\x02\\x93\\x02\\x0c\\x00%\\x00\\x07\\x00\\x00Accent4\\x92\\x08A\\x00\\x92\\x08\\x00\\x00\\x00\\x00\\x00\\x00\\x00\\x00\\x00\\x00\\x01\\x04)\\xff\\x07\\x00A\\x00c\\x00c\\x00e\\x00n\\x00t\\x004\\x00\\x00\\x00\\x03\\x00\\x01\\x00\\x0c\\x00\\x07\\x07\\x00\\x00\\xff\\xc0\\x00\\xff\\x05\\x00\\x0c\\x00\\x07\\x00\\x00\\x00\\xff\\xff\\xff\\xff%\\x00\\x05\\x00\\x02\\x93\\x02\\x0c\\x00&\\x00\\x07\\x00\\x00Accent5\\x92\\x08A\\x00\\x92\\x08\\x00\\x00\\x00\\x00\\x00\\x00\\x00\\x00\\x00\\x00\\x01\\x04-\\xff\\x07\\x00A\\x00c\\x00c\\x00e\\x00n\\x00t\\x005\\x00\\x00\\x00\\x03\\x00\\x01\\x00\\x0c\\x00\\x07\\x08\\x00\\x00[\\x9b\\xd5\\xff\\x05\\x00\\x0c\\x00\\x07\\x00\\x00\\x00\\xff\\xff\\xff\\xff%\\x00\\x05\\x00\\x02\\x93\\x02\\x0c\\x00\\'\\x00\\x07\\x00\\x00Accent6\\x92\\x08A\\x00\\x92\\x08\\x00\\x00\\x00\\x00\\x00\\x00\\x00\\x00\\x00\\x00\\x01\\x041\\xff\\x07\\x00A\\x00c\\x00c\\x00e\\x00n\\x00t\\x006\\x00\\x00\\x00\\x03\\x00\\x01\\x00\\x0c\\x00\\x07\\t\\x00\\x00p\\xadG\\xff\\x05\\x00\\x0c\\x00\\x07\\x00\\x00\\x00\\xff\\xff\\xff\\xff%\\x00\\x05\\x00\\x02\\x93\\x02\\x08\\x00(\\x00\\x03\\x00\\x00Bad\\x92\\x089\\x00\\x92\\x08\\x00\\x00\\x00\\x00\\x00\\x00\\x00\\x00\\x00\\x00\\x01\\x01\\x1b\\xff\\x03\\x00B\\x00a\\x00d\\x00\\x00\\x00\\x03\\x00\\x01\\x00\\x0c\\x00\\x05\\xff\\x00\\x00\\xff\\xc7\\xce\\xff\\x05\\x00\\x0c\\x00\\x05\\xff\\x00\\x00\\x9c\\x00\\x06\\xff%\\x00\\x05\\x00\\x02\\x93\\x02\\x10\\x00)\\x00\\x0b\\x00\\x00Calculation\\x92\\x08\\x81\\x00\\x92\\x08\\x00\\x00\\x00\\x00\\x00\\x00\\x00\\x00\\x00\\x00\\x01\\x02\\x16\\xff\\x0b\\x00C\\x00a\\x00l\\x00c\\x00u\\x00l\\x00a\\x00t\\x00i\\x00o\\x00n\\x00\\x00\\x00\\x07\\x00\\x01\\x00\\x0c\\x00\\x05\\xff\\x00\\x00\\xf2\\xf2\\xf2\\xff\\x05\\x00\\x0c\\x00\\x05\\xff\\x00\\x00\\xfa}\\x00\\xff%\\x00\\x05\\x00\\x02\\x06\\x00\\x0e\\x00\\x05\\xff\\x00\\x00\\x7f\\x7f\\x7f\\xff\\x01\\x00\\x07\\x00\\x0e\\x00\\x05\\xff\\x00\\x00\\x7f\\x7f\\x7f\\xff\\x01\\x00\\x08\\x00\\x0e\\x00\\x05\\xff\\x00\\x00\\x7f\\x7f\\x7f\\xff\\x01\\x00\\t\\x00\\x0e\\x00\\x05\\xff\\x00\\x00\\x7f\\x7f\\x7f\\xff\\x01\\x00\\x93\\x02\\x0f\\x00*\\x00\\n\\x00\\x00Check Cell\\x92\\x08\\x7f\\x00\\x92\\x08\\x00\\x00\\x00\\x00\\x00\\x00\\x00\\x00\\x00\\x00\\x01\\x02\\x17\\xff\\n\\x00C\\x00h\\x00e\\x00c\\x00k\\x00 \\x00C\\x00e\\x00l\\x00l\\x00\\x00\\x00\\x07\\x00\\x01\\x00\\x0c\\x00\\x05\\xff\\x00\\x00\\xa5\\xa5\\xa5\\xff\\x05\\x00\\x0c\\x00\\x07\\x00\\x00\\x00\\xff\\xff\\xff\\xff%\\x00\\x05\\x00\\x02\\x06\\x00\\x0e\\x00\\x05\\xff\\x00\\x00???\\xff\\x06\\x00\\x07\\x00\\x0e\\x00\\x05\\xff\\x00\\x00???\\xff\\x06\\x00\\x08\\x00\\x0e\\x00\\x05\\xff\\x00\\x00???\\xff\\x06\\x00\\t\\x00\\x0e\\x00\\x05\\xff\\x00\\x00???\\xff\\x06\\x00\\x93\\x02\\x04\\x00+\\x80\\x03\\xff\\x92\\x08 \\x00\\x92\\x08\\x00\\x00\\x00\\x00\\x00\\x00\\x00\\x00\\x00\\x00\\x01\\x05\\x03\\xff\\x05\\x00C\\x00o\\x00m\\x00m\\x00a\\x00\\x00\\x00\\x00\\x00\\x93\\x02\\x04\\x00,\\x80\\x06\\xff\\x92\\x08(\\x00\\x92\\x08\\x00\\x00\\x00\\x00\\x00\\x00\\x00\\x00\\x00\\x00\\x01\\x05\\x06\\xff\\t\\x00C\\x00o\\x00m\\x00m\\x00a\\x00 \\x00[\\x000\\x00]\\x00\\x00\\x00\\x00\\x00\\x93\\x02\\x04\\x00-\\x80\\x04\\xff\\x92\\x08&\\x00\\x92\\x08\\x00\\x00\\x00\\x00\\x00\\x00\\x00\\x00\\x00\\x00\\x01\\x05\\x04\\xff\\x08\\x00C\\x00u\\x00r\\x00r\\x00e\\x00n\\x00c\\x00y\\x00\\x00\\x00\\x00\\x00\\x93\\x02\\x04\\x00.\\x80\\x07\\xff\\x92\\x08.\\x00\\x92\\x08\\x00\\x00\\x00\\x00\\x00\\x00\\x00\\x00\\x00\\x00\\x01\\x05\\x07\\xff\\x0c\\x00C\\x00u\\x00r\\x00r\\x00e\\x00n\\x00c\\x00y\\x00 \\x00[\\x000\\x00]\\x00\\x00\\x00\\x00\\x00\\x93\\x02\\x15\\x00/\\x00\\x10\\x00\\x00Explanatory Text\\x92\\x08G\\x00\\x92\\x08\\x00\\x00\\x00\\x00\\x00\\x00\\x00\\x00\\x00\\x00\\x01\\x025\\xff\\x10\\x00E\\x00x\\x00p\\x00l\\x00a\\x00n\\x00a\\x00t\\x00o\\x00r\\x00y\\x00 \\x00T\\x00e\\x00x\\x00t\\x00\\x00\\x00\\x02\\x00\\x05\\x00\\x0c\\x00\\x05\\xff\\x00\\x00\\x7f\\x7f\\x7f\\xff%\\x00\\x05\\x00\\x02\\x93\\x02\\t\\x000\\x00\\x04\\x00\\x00Good\\x92\\x08;\\x00\\x92\\x08\\x00\\x00\\x00\\x00\\x00\\x00\\x00\\x00\\x00\\x00\\x01\\x01\\x1a\\xff\\x04\\x00G\\x00o\\x00o\\x00d\\x00\\x00\\x00\\x03\\x00\\x01\\x00\\x0c\\x00\\x05\\xff\\x00\\x00\\xc6\\xef\\xce\\xff\\x05\\x00\\x0c\\x00\\x05\\xff\\x00\\x00\\x00a\\x00\\xff%\\x00\\x05\\x00\\x02\\x93\\x02\\x0e\\x001\\x00\\t\\x00\\x00Heading 1\\x92\\x08G\\x00\\x92\\x08\\x00\\x00\\x00\\x00\\x00\\x00\\x00\\x00\\x00\\x00\\x01\\x03\\x10\\xff\\t\\x00H\\x00e\\x00a\\x00d\\x00i\\x00n\\x00g\\x00 \\x001\\x00\\x00\\x00\\x03\\x00\\x05\\x00\\x0c\\x00\\x07\\x03\\x00\\x00DTj\\xff%\\x00\\x05\\x00\\x02\\x07\\x00\\x0e\\x00\\x07\\x04\\x00\\x00Dr\\xc4\\xff\\x05\\x00\\x93\\x02\\x0e\\x002\\x00\\t\\x00\\x00Heading 2\\x92\\x08G\\x00\\x92\\x08\\x00\\x00\\x00\\x00\\x00\\x00\\x00\\x00\\x00\\x00\\x01\\x03\\x11\\xff\\t\\x00H\\x00e\\x00a\\x00d\\x00i\\x00n\\x00g\\x00 \\x002\\x00\\x00\\x00\\x03\\x00\\x05\\x00\\x0c\\x00\\x07\\x03\\x00\\x00DTj\\xff%\\x00\\x05\\x00\\x02\\x07\\x00\\x0e\\x00\\x07\\x04\\xff?\\xa2\\xb8\\xe1\\xff\\x05\\x00\\x93\\x02\\x0e\\x003\\x00\\t\\x00\\x00Heading 3\\x92\\x08G\\x00\\x92\\x08\\x00\\x00\\x00\\x00\\x00\\x00\\x00\\x00\\x00\\x00\\x01\\x03\\x12\\xff\\t\\x00H\\x00e\\x00a\\x00d\\x00i\\x00n\\x00g\\x00 \\x003\\x00\\x00\\x00\\x03\\x00\\x05\\x00\\x0c\\x00\\x07\\x03\\x00\\x00DTj\\xff%\\x00\\x05\\x00\\x02\\x07\\x00\\x0e\\x00\\x07\\x0423\\x8e\\xa9\\xdb\\xff\\x02\\x00\\x93\\x02\\x0e\\x004\\x00\\t\\x00\\x00Heading 4\\x92\\x089\\x00\\x92\\x08\\x00\\x00\\x00\\x00\\x00\\x00\\x00\\x00\\x00\\x00\\x01\\x03\\x13\\xff\\t\\x00H\\x00e\\x00a\\x00d\\x00i\\x00n\\x00g\\x00 \\x004\\x00\\x00\\x00\\x02\\x00\\x05\\x00\\x0c\\x00\\x07\\x03\\x00\\x00DTj\\xff%\\x00\\x05\\x00\\x02\\x93\\x02\\n\\x005\\x00\\x05\\x00\\x00Input\\x92\\x08u\\x00\\x92\\x08\\x00\\x00\\x00\\x00\\x00\\x00\\x00\\x00\\x00\\x00\\x01\\x02\\x14\\xff\\x05\\x00I\\x00n\\x00p\\x00u\\x00t\\x00\\x00\\x00\\x07\\x00\\x01\\x00\\x0c\\x00\\x05\\xff\\x00\\x00\\xff\\xcc\\x99\\xff\\x05\\x00\\x0c\\x00\\x05\\xff\\x00\\x00??v\\xff%\\x00\\x05\\x00\\x02\\x06\\x00\\x0e\\x00\\x05\\xff\\x00\\x00\\x7f\\x7f\\x7f\\xff\\x01\\x00\\x07\\x00\\x0e\\x00\\x05\\xff\\x00\\x00\\x7f\\x7f\\x7f\\xff\\x01\\x00\\x08\\x00\\x0e\\x00\\x05\\xff\\x00\\x00\\x7f\\x7f\\x7f\\xff\\x01\\x00\\t\\x00\\x0e\\x00\\x05\\xff\\x00\\x00\\x7f\\x7f\\x7f\\xff\\x01\\x00\\x93\\x02\\x10\\x006\\x00\\x0b\\x00\\x00Linked Cell\\x92\\x08K\\x00\\x92\\x08\\x00\\x00\\x00\\x00\\x00\\x00\\x00\\x00\\x00\\x00\\x01\\x02\\x18\\xff\\x0b\\x00L\\x00i\\x00n\\x00k\\x00e\\x00d\\x00 \\x00C\\x00e\\x00l\\x00l\\x00\\x00\\x00\\x03\\x00\\x05\\x00\\x0c\\x00\\x05\\xff\\x00\\x00\\xfa}\\x00\\xff%\\x00\\x05\\x00\\x02\\x07\\x00\\x0e\\x00\\x05\\xff\\x00\\x00\\xff\\x80\\x01\\xff\\x06\\x00\\x93\\x02\\x0c\\x007\\x00\\x07\\x00\\x00Neutral\\x92\\x08A\\x00\\x92\\x08\\x00\\x00\\x00\\x00\\x00\\x00\\x00\\x00\\x00\\x00\\x01\\x01\\x1c\\xff\\x07\\x00N\\x00e\\x00u\\x00t\\x00r\\x00a\\x00l\\x00\\x00\\x00\\x03\\x00\\x01\\x00\\x0c\\x00\\x05\\xff\\x00\\x00\\xff\\xeb\\x9c\\xff\\x05\\x00\\x0c\\x00\\x05\\xff\\x00\\x00\\x9cW\\x00\\xff%\\x00\\x05\\x00\\x02\\x93\\x02\\x04\\x00\\x00\\x80\\x00\\xff\\x92\\x08\"\\x00\\x92\\x08\\x00\\x00\\x00\\x00\\x00\\x00\\x00\\x00\\x00\\x00\\x01\\x01\\x00\\xff\\x06\\x00N\\x00o\\x00r\\x00m\\x00a\\x00l\\x00\\x00\\x00\\x00\\x00\\x93\\x02\\t\\x008\\x00\\x04\\x00\\x00Note\\x92\\x08b\\x00\\x92\\x08\\x00\\x00\\x00\\x00\\x00\\x00\\x00\\x00\\x00\\x00\\x01\\x02\\n\\xff\\x04\\x00N\\x00o\\x00t\\x00e\\x00\\x00\\x00\\x05\\x00\\x01\\x00\\x0c\\x00\\x05\\xff\\x00\\x00\\xff\\xff\\xcc\\xff\\x06\\x00\\x0e\\x00\\x05\\xff\\x00\\x00\\xb2\\xb2\\xb2\\xff\\x01\\x00\\x07\\x00\\x0e\\x00\\x05\\xff\\x00\\x00\\xb2\\xb2\\xb2\\xff\\x01\\x00\\x08\\x00\\x0e\\x00\\x05\\xff\\x00\\x00\\xb2\\xb2\\xb2\\xff\\x01\\x00\\t\\x00\\x0e\\x00\\x05\\xff\\x00\\x00\\xb2\\xb2\\xb2\\xff\\x01\\x00\\x93\\x02\\x0b\\x009\\x00\\x06\\x00\\x00Output\\x92\\x08w\\x00\\x92\\x08\\x00\\x00\\x00\\x00\\x00\\x00\\x00\\x00\\x00\\x00\\x01\\x02\\x15\\xff\\x06\\x00O\\x00u\\x00t\\x00p\\x00u\\x00t\\x00\\x00\\x00\\x07\\x00\\x01\\x00\\x0c\\x00\\x05\\xff\\x00\\x00\\xf2\\xf2\\xf2\\xff\\x05\\x00\\x0c\\x00\\x05\\xff\\x00\\x00???\\xff%\\x00\\x05\\x00\\x02\\x06\\x00\\x0e\\x00\\x05\\xff\\x00\\x00???\\xff\\x01\\x00\\x07\\x00\\x0e\\x00\\x05\\xff\\x00\\x00???\\xff\\x01\\x00\\x08\\x00\\x0e\\x00\\x05\\xff\\x00\\x00???\\xff\\x01\\x00\\t\\x00\\x0e\\x00\\x05\\xff\\x00\\x00???\\xff\\x01\\x00\\x93\\x02\\x04\\x00:\\x80\\x05\\xff\\x92\\x08$\\x00\\x92\\x08\\x00\\x00\\x00\\x00\\x00\\x00\\x00\\x00\\x00\\x00\\x01\\x05\\x05\\xff\\x07\\x00P\\x00e\\x00r\\x00c\\x00e\\x00n\\x00t\\x00\\x00\\x00\\x00\\x00\\x93\\x02\\n\\x00;\\x00\\x05\\x00\\x00Title\\x92\\x081\\x00\\x92\\x08\\x00\\x00\\x00\\x00\\x00\\x00\\x00\\x00\\x00\\x00\\x01\\x03\\x0f\\xff\\x05\\x00T\\x00i\\x00t\\x00l\\x00e\\x00\\x00\\x00\\x02\\x00\\x05\\x00\\x0c\\x00\\x07\\x03\\x00\\x00DTj\\xff%\\x00\\x05\\x00\\x01\\x93\\x02\\n\\x00<\\x00\\x05\\x00\\x00Total\\x92\\x08M\\x00\\x92\\x08\\x00\\x00\\x00\\x00\\x00\\x00\\x00\\x00\\x00\\x00\\x01\\x03\\x19\\xff\\x05\\x00T\\x00o\\x00t\\x00a\\x00l\\x00\\x00\\x00\\x04\\x00\\x05\\x00\\x0c\\x00\\x07\\x01\\x00\\x00\\x00\\x00\\x00\\xff%\\x00\\x05\\x00\\x02\\x06\\x00\\x0e\\x00\\x07\\x04\\x00\\x00Dr\\xc4\\xff\\x01\\x00\\x07\\x00\\x0e\\x00\\x07\\x04\\x00\\x00Dr\\xc4\\xff\\x06\\x00\\x93\\x02\\x11\\x00=\\x00\\x0c\\x00\\x00Warning Text\\x92\\x08?\\x00\\x92\\x08\\x00\\x00\\x00\\x00\\x00\\x00\\x00\\x00\\x00\\x00\\x01\\x02\\x0b\\xff\\x0c\\x00W\\x00a\\x00r\\x00n\\x00i\\x00n\\x00g\\x00 \\x00T\\x00e\\x00x\\x00t\\x00\\x00\\x00\\x02\\x00\\x05\\x00\\x0c\\x00\\x05\\xff\\x00\\x00\\xff\\x00\\x00\\xff%\\x00\\x05\\x00\\x02\\x8e\\x08X\\x00\\x8e\\x08\\x00\\x00\\x00\\x00\\x00\\x00\\x00\\x00\\x00\\x00\\x90\\x00\\x00\\x00\\x11\\x00\\x11\\x00T\\x00a\\x00b\\x00l\\x00e\\x00S\\x00t\\x00y\\x00l\\x00e\\x00M\\x00e\\x00d\\x00i\\x00u\\x00m\\x002\\x00P\\x00i\\x00v\\x00o\\x00t\\x00S\\x00t\\x00y\\x00l\\x00e\\x00L\\x00i\\x00g\\x00h\\x00t\\x001\\x006\\x00`\\x01\\x02\\x00\\x00\\x00\\x85\\x00\\x0e\\x00\\xab6\\x00\\x00\\x00\\x00\\x06\\x00Sheet1\\x9a\\x08\\x18\\x00\\x9a\\x08\\x00\\x00\\x00\\x00\\x00\\x00\\x00\\x00\\x00\\x00\\x01\\x00\\x00\\x00\\x00\\x00\\x00\\x00\\x04\\x00\\x00\\x00\\xa3\\x08\\x10\\x00\\xa3\\x08\\x00\\x00\\x00\\x00\\x00\\x00\\x00\\x00\\x00\\x00\\x00\\x00\\x00\\x00\\x8c\\x00\\x04\\x00\\x01\\x00\\x01\\x00\\xc1\\x01\\x08\\x00\\xc1\\x01\\x00\\x00\"\\xbe\\x01\\x00\\xfc\\x00^\\x00\\x9b\\x00\\x00\\x00\\x08\\x00\\x00\\x00\\x02\\x00\\x00SL\\x02\\x00\\x00SW\\x02\\x00\\x00PL\\x02\\x00\\x00PW\\x0b\\x00\\x00Iris-setosa\\x0f\\x00\\x00Iris-versicolor\\x0e\\x00\\x00Iris-virginica\\x0e\\x00\\x00Classification\\xff\\x00\\n\\x00\\x08\\x00\\xa6)\\x00\\x00\\x0c\\x00\\x00\\x00c\\x08\\x16\\x00c\\x08\\x00\\x00\\x00\\x00\\x00\\x00\\x00\\x00\\x00\\x00\\x16\\x00\\x00\\x00\\x00\\x00\\x00\\x00\"\\x00\\x96\\x08W\\x0c\\x96\\x08\\x00\\x00\\x00\\x00\\x00\\x00\\x00\\x00\\x00\\x00\\r\\x8c\\x02\\x00PK\\x03\\x04\\x14\\x00\\x06\\x00\\x08\\x00\\x00\\x00!\\x00\\xe9\\xde\\x0f\\xbf\\xff\\x00\\x00\\x00\\x1c\\x02\\x00\\x00\\x13\\x00\\x00\\x00[Content_Types].xml\\xac\\x91\\xcbN\\xc30\\x10E\\xf7H\\xfc\\x83\\xe5-J\\x9c\\xb2@\\x08%\\xe9\\x82\\xc7\\x8e\\xc7\\xa2|\\xc0\\xc8\\x99$\\x16\\xc9\\xd8\\xb2\\xa7U\\xfb\\xf7L\\xd2TB\\xa8 \\x16l,\\xd93\\xf7\\x9e;\\xe3r\\xbd\\x1f\\x07\\xb5\\xc3\\x98\\x9c\\xa7J\\xaf\\xf2B+$\\xeb\\x1bG]\\xa5\\xdf7O\\xd9\\xadV\\x89\\x81\\x1a\\x18<a\\xa5\\x0f\\x98\\xf4\\xba\\xbe\\xbc(7\\x87\\x80I\\x89\\x9aR\\xa5{\\xe6pgL\\xb2=\\x8e\\x90r\\x1f\\x90\\xa4\\xd2\\xfa8\\x02\\xcb5v&\\x80\\xfd\\x80\\x0e\\xcduQ\\xdc\\x18\\xeb\\x89\\x918\\xe3\\xc9C\\xd7\\xe5\\x03\\xb6\\xb0\\x1dX=\\xee\\xe5\\xf9\\x98$\\xe2\\x90\\xb4\\xba?6N\\xacJC\\x08\\x83\\xb3\\xc0\\x92\\xd4\\xec\\xa8\\xf9F\\xc9\\x16B.\\xca\\xb9\\'\\xf5.\\xa4+\\x89\\xa1\\xcdY\\xc2T\\xf9\\x19\\xb0\\xe8^e5\\xd15\\xa8\\xde \\xf2\\x0b\\x8c\\x12\\xc3\\xb0\\x0c\\x89_\\xcfg \\x19-\\xe6\\xbf;\\x9e\\x89\\xec\\xdb\\xd6Yl\\xbc\\xdd\\x8e\\xb2\\x8e|6^\\xccN\\xc1\\xff\\x14`\\xf5?\\xe8\\x13\\xd3\\xcc\\x7f[\\x7f\\x02\\x00\\x00\\xff\\xff\\x03\\x00PK\\x03\\x04\\x14\\x00\\x06\\x00\\x08\\x00\\x00\\x00!\\x00\\xa5\\xd6\\xa7\\xe7\\xc0\\x00\\x00\\x006\\x01\\x00\\x00\\x0b\\x00\\x00\\x00_rels/.rels\\x84\\x8f\\xcfj\\xc30\\x0c\\x87\\xef\\x85\\xbd\\x83\\xd1}Q\\xd2\\xc3\\x18%v/\\xa5\\x90C/\\xa3}\\x00\\xe1(\\x7fh\"\\x1b\\xdb\\x1b\\xeb\\xdbO\\xc7\\x06\\n\\xbb\\x08\\x84\\xa4\\xef\\xf7\\xa9=\\xfe\\xae\\x8b\\xf9\\xe1\\x94\\xe7 \\x16\\x9a\\xaa\\x06\\xc3\\xe2C?\\xcbh\\xe1v=\\xbf\\x7f\\x82\\xc9\\x85\\xa4\\xa7%\\x08[xp\\x86\\xa3{\\xdb\\xb5_\\xbcP\\xd1\\xa3<\\xcd1\\x1b\\xa5H\\xb60\\x95\\x12\\x0f\\x88\\xd9O\\xbcR\\xaeBd\\xd1\\xc9\\x10\\xd2JE\\xdb4b$\\x7f\\xa7\\x91q_\\xd7\\x1f\\x98\\x9e\\x19\\xe06L\\xd3\\xf5\\x16R\\xd77`\\xae\\x8f\\xa8\\xc9\\xff\\xb3\\xc30\\xcc\\x9eO\\xc1\\x7f\\xaf,\\xe5E\\x04n7\\x94Li\\xe4b\\xa1\\xa8/\\xe3S\\xbd\\x90\\xa8e\\xaa\\xd4\\x1e\\xd0\\xb5\\xb8\\xf9\\xd6\\xfd\\x01\\x00\\x00\\xff\\xff\\x03\\x00PK\\x03\\x04\\x14\\x00\\x06\\x00\\x08\\x00\\x00\\x00!\\x00ky\\x96\\x16\\x83\\x00\\x00\\x00\\x8a\\x00\\x00\\x00\\x1c\\x00\\x00\\x00theme/theme/themeManager.xml\\x0c\\xccM\\n\\xc3 \\x10@\\xe1}\\xa1w\\x90\\xd97c\\xbb(Eb\\xb2\\xcb\\xae\\xbb\\xf6\\x00C\\x9c\\x1aA\\xc7\\xa0\\xd2\\x9f\\xdb\\xd7\\xe5\\xe3\\x837\\xce\\xdf\\x14\\xd5\\x9bK\\rY,\\x9c\\x07\\r\\x8ae\\xcd.\\x88\\xb7\\xf0|,\\xa7\\x1b\\xa8\\xdaH\\x1c\\xc5,l\\xe1\\xc7\\x15\\xe6\\xe9x\\x18\\xc9\\xb4\\x8d\\x13\\xdfI\\xc8sQ}#\\xd5\\x90\\x85\\xad\\xb5\\xdd \\xd6\\xb5+\\xd5!\\xef,\\xdd^\\xb9$j=\\x8bGW\\xe8\\xd3\\xf7)\\xe2E\\xeb+&\\n\\x028\\xfd\\x01\\x00\\x00\\xff\\xff\\x03\\x00PK\\x03\\x04\\x14\\x00\\x06\\x00\\x08\\x00\\x00\\x00!\\x00N\\xd2m\\xd1\\xcf\\x06\\x00\\x00\\xb0\\x1f\\x00\\x00\\x16\\x00\\x00\\x00theme/theme/theme1.xml\\xecYKo\\x1b7\\x10\\xbe\\x17\\xe8\\x7fX\\xec\\xbd\\xb1d\\xeb\\x11\\x19\\x91\\x03\\xeb\\x15\\'\\xb1l#RR\\xe4HI\\xd4.-\\xeerARvt+\\x92S/\\x05\\n\\xa4E/\\x05z\\xeb\\xa1(\\x1a\\xa0\\x01\\x1a\\xf4\\xd2\\x1fc A\\x9b\\xfe\\x88\\x0e\\xb9\\xd2.)Q\\xf1\\x03F\\x91\\x16\\xb6\\x00CK}3\\xfc83;3;{\\xe7\\xee\\xb3\\x88z\\'\\x98\\x0b\\xc2\\xe2\\xba_\\xbcU\\xf0=\\x1c\\x0f\\xd9\\x88\\xc4A\\xdd\\x7f\\xdc\\xef|v\\xdb\\xf7\\x84D\\xf1\\x08Q\\x16\\xe3\\xba?\\xc3\\xc2\\xbf\\xbb\\xf3\\xe9\\'w\\xd0\\xb6\\x0cq\\x84=\\x90\\x8f\\xc56\\xaa\\xfb\\xa1\\x94\\xc9\\xf6\\xc6\\x86\\x18\\xc22\\x12\\xb7X\\x82c\\xf8m\\xccx\\x84$\\\\\\xf2`c\\xc4\\xd1)\\xe8\\x8d\\xe8\\xc6f\\xa1P\\xd9\\x88\\x10\\x89}/F\\x11\\xa8=\\x1c\\x8f\\xc9\\x10{}\\xa5\\xd2\\xdfY(oS\\xb8\\x8c\\xa5P\\x0bC\\xca{J5\\xb6$4v4)*\\x84\\x98\\x89&\\xe5\\xde\\t\\xa2u\\x1f\\xf6\\x19\\xb1\\xd3>~&}\\x8f\"!\\xe1\\x87\\xba_\\xd0\\x7f\\xfe\\xc6\\xce\\x9d\\r\\xb4=\\x17\\xa2r\\x8d\\xac!\\xd7\\xd1\\x7fs\\xb9\\xb9\\xc0h\\xb2\\xa9\\xf7\\xe4\\xc1 \\xdb\\xb4T*\\x97*\\xbb\\x99~\\r\\xa0r\\x15\\xd7\\xae\\xb6+\\xedJ\\xa6O\\x03\\xd0p\\x08\\'M\\xb9\\xd8:\\xab\\x9b\\xcd\\xd2\\x1ck\\x80\\xd2\\xaf\\x0e\\xdd\\xadjk\\xabh\\xe1\\r\\xfd[+\\x9cw\\xcb\\xeac\\xe15(\\xd5_Z\\xc1w:M\\xb0\\xa2\\x85\\xd7\\xa0\\x14_^\\xc1\\x97\\x1b\\xb5F\\xcb\\xd6\\xafA)\\xbe\\xb2\\x82\\xaf\\x16v[\\xa5\\xaa\\xa5_\\x83BJ\\xe2\\xc9\\n\\xbaP\\xael5\\x17\\xa7\\xcd cF\\xf7\\x9c\\xf0Z\\xb9\\xd4\\xa9n\\xce\\x95\\xe7(\\x88\\x86,\\xba\\xd4\\x16c\\x16\\xcbu\\xb1\\x16\\xa1c\\xc6;\\x00P@\\x8a$\\x89=9K\\xf0\\x18\\r!\\x8a\\x9b\\x88\\x92\\x01\\'\\xde>\\tB\\x08\\xbc\\x04\\xc5L\\xc0ra\\xb3\\xd0)l\\xc1\\x7f\\xf5)\\xe9o\\xda\\xa3h\\x1b#CZ\\xf1\\x02&beI\\xf1\\xf1\\xc4\\x90\\x93D\\xd6\\xfd\\x07\\xa0\\xd57 o\\xdf\\xbc9{\\xfe\\xfa\\xec\\xf9og/^\\x9c=\\xffe\\xbe\\xb7Ve\\xc9\\xed\\xa180\\xe5\\xde\\xff\\xf8\\xf5\\xdf\\xdf\\x7f\\xe1\\xfd\\xf5\\xeb\\x0f\\xef_~\\x93n\\xbd\\x8c\\x17&\\xfe\\xdd\\xcf_\\xbe\\xfb\\xfd\\x8f\\x0f\\xa9\\x87\\x13\\xe7\\xa6x\\xfb\\xed\\xabw\\xaf_\\xbd\\xfd\\xee\\xab?\\x7fz\\xe9\\xd0\\xbe\\xcb\\xd1\\xc0\\x84\\xf7I\\x84\\x85w\\x80O\\xbdG,\\x82\\x03:\\xf8\\xe3\\x01\\xbf\\x9cD?D\\xc4\\x92@!\\xe8v\\xa8n\\xcb\\xd0\\x02\\x1e\\xcc\\x10u\\xe1\\x1a\\xd86\\xe1\\x13\\x0eY\\xc6\\x05\\xbc7=\\xb6\\xb8\\xf6B>\\x95\\xc4\\xb1\\xf3\\xc30\\xb2\\x80]\\xc6h\\x83q\\xa7\\x01\\x1e\\xaa\\xbd\\x0c\\x0b\\xf7\\xa7q\\xe0\\xde\\x9cOM\\xdc#\\x84N\\\\{7Ql9\\xb8=M \\xbd\\x12\\x97\\xcaf\\x88-\\x9aG\\x14\\xc5\\x12\\x058\\xc6\\xd2S\\xbf\\xb1\\t\\xc6\\x8e\\xd3=%\\xc4\\xb2k\\x97\\x0c9\\x13l,\\xbd\\xa7\\xc4k \\xe24I\\x9f\\x0c\\xac@\\xca\\x85\\xf6H\\x04~\\x99\\xb9\\x08\\x82\\xab-\\xdbt\\x9fx\\rF]\\xa7n\\xe1\\x13\\x1b\\t\\xb7\\x05\\xa2\\x0e\\xf2}L-3\\xdeCS\\x89\"\\x97\\xca>\\x8a\\xa8i\\xf0}$C\\x17\\xc9\\xde\\x8c\\x0fM\\\\[H\\xf0t\\x80)\\xf3\\xda#,\\x84K\\xe6\\x90\\xc3y\\r\\xa7?\\x84\\x0c\\xe3v{\\x97\\xce\"\\x1b\\xc9%\\x99\\xb8t\\xee#\\xc6Ld\\x8bM\\x9a!\\x8a\\x12\\x17\\xb6G\\xe2\\xd0\\xc4\\xde\\x17\\x13\\x08Q\\xe4\\x1d1\\xe9\\x82w\\x99}\\x87\\xa8k\\xf0\\x03\\x8a\\xd7\\xba\\xfb\\t\\xc1\\x96\\xbb\\xcfO\\x04\\x8f!\\xb9\\x9a\\x94\\xf2\\x00Q\\xbfL\\xb9\\xc3\\x97\\xf70\\xb3\\xe2\\xb77\\xa3c\\x84]Yf\\x97GVv\\xdd\\xe5\\xc4\\x19\\x1d\\x8di`\\x85\\xf6>\\xc6\\x14\\x9d\\xa2\\x11\\xc6\\xde\\xe3\\xfb\\x0e\\x06\\r\\x96X6\\xcfI?\\x08!\\xab\\xecaW`=@v\\xac\\xaa\\xeb\\x18\\x0bh\\x93T_\\xb3\\x9a\"\\xf7\\x89\\xb0B\\xb6\\x87\\x03\\xb6\\x86Ow\\xb6\\x94xf(\\x8e\\x10_\\xa7\\xf9\\x00\\xbcn\\xda\\xbc\\rU\\xce\\x99J\\x0f\\xe9pb\\x02\\x0f\\x08\\xb4\\x7f\\x10/N\\xa3\\x1c\\n\\xd0a\\x04\\xf7Z\\xadG!\\xb2j\\x97\\xba\\x16\\xeex\\x9dq\\xcb\\x7f\\x17\\xb9\\xc7\\xe0\\xbe<\\xb6h\\\\\\xe0\\xbe\\x04\\x19|i\\x19H\\xec\\xa6\\xcc\\x07m\\xd3G\\xd4\\xda \\x0f\\x98>\\x82\\x06\\xc3\\x95nA\\xc4r\\x7f.\\xa2\\xea\\xaa\\x16\\x9b:\\xe5\\xc6\\xf6M\\x9b\\xbb\\x01\\x1a#\\xab\\xdf\\x89H|n\\xf3\\xb3\\xd4\\xf6\\x94\\xff\\x9d\\xb6\\xc7q7\\\\O\\xc3\\xe3Vl\\xa5\\xacK\\xb6:\\xebR\\xca\\xdeR\\x83\\xb3\\x0e\\xf7\\x1flkZh\\x1a\\x1fa\\xa8$\\xab9\\xeb\\xa6\\xab\\xb9\\xe9j\\xfc\\xff}W\\xb3\\xee^\\xbe\\xe9e\\xd6u\\x1c7\\xbd\\x8c\\x0f=\\xc6M/3\\x9f\\xac\\\\O/\\x93\\xb7/\\xd0\\xd9\\xa8iG:\\xe5\\xd13\\x9fh\\xed\\xc8gL(\\xed\\xc9\\x19\\xc5\\xfbBO}\\x04<\\xd1\\x8c:\\xb0\\xa8\\xe4\\xf4\\xb8\\x13g#\\xc0$\\x84\\xaf\\xaa\\xcc\\xc1\\x06\\x16.\\xe0H\\xcbx\\x9c\\xc9\\xcf\\x89\\x0c{!J`4T\\xf4\\x95\\x92@\\xccU\\x07\\xc2K\\x98\\x80\\x89\\x91^v\\xeaVx:\\x8d\\xbal\\x94N:\\x8bE5\\xd5L+\\xab@2_/\\x94\\xb3u\\x98R\\xc9\\x14]\\xa9\\xe6\\xd3\\xbbL\\xbdf\\x1b\\xe8)\\xeb\\x82\\x80\\x92\\xbd\\x0c\\tc3\\x9b\\xc4\\x96\\x83Du\\xb1\\xa8\\x8c\\xa4g\\xba`4\\x07\\t}\\xb2kaQs\\xb0\\xb8\\xad\\xd4/\\\\\\xb5\\xc2\\x02\\xa8e^\\x81Gn\\x0f\\x1e\\xd4\\xeb~\\xb9\\x04\" \\x04\\xc38h\\xcfG\\xcaO\\xa9\\xab\\x17\\xde\\xd5\\xce\\xbcNO\\xaf3\\xa6\\x15\\x01\\xd0b/\" \\xf7tMq]{<u\\xba4\\xd4.\\xe0i\\x8b\\x84\\x11n6\\tm\\x19\\xdd\\xe0\\x89\\x10\\x1e\\x84\\xe7\\xd1\\xa9V/B\\xe3\\xb2\\xbe\\xae\\xe5.\\xb5\\xe8)S\\xe8\\xfd \\xb4r\\x1a\\xd5\\xdb\\x1fbqU_\\x83\\xdcrn\\xa0\\xb1\\x99)h\\xec\\x9d\\xd6\\xfd\\xcaV\\x19Bf\\x88\\x92\\xba?\\x86\\x891|\\x8d\\x12\\x88\\x1d\\xa1\\x9e\\xba\\x10\\r\\xe0\\xb5\\xcbP\\xf2\\xf4\\x86\\xbfJfI\\xb8\\x90-$\\xc2\\xd4\\xe0:\\xe9\\xa4\\xd9 \"\\x12s\\x8f\\x92\\xa8\\xee\\xab\\xe3gn\\xa0\\xb1\\xce!\\x9a[q\\x13\\x12\\xc2GK\\xae\\x06i\\xe5c#\\x07N\\xb7\\x9d\\x8c\\xc7c<\\x94\\xa6\\xdb\\x8d\\x15e\\xe9\\xf4\\x122|\\x9a+\\x9c\\xbfj\\xf1\\xab\\x83\\x95$\\x9b\\x82\\xbb{\\xe1\\xe8\\xd4\\x1b\\xd0)\\x7f\\x84 \\xc4\\xca\\xd5\\xa22\\xe0\\x88\\x08xqPL\\xad9\"\\xf0&,Kdy\\xfc-\\x15\\xa6y\\xda5_E\\xe9\\x18J\\xd7\\x11MB4\\xaf(f2O\\xe1:\\x95gt\\xf4Uf\\x03\\xe3j~f0\\xa8a\\x92y!\\x1c\\x04\\xaa\\xc0\\x9aF\\xb5\\xaaiV5R\\x0ek\\xab\\xee\\xf9B\\xcarF\\xd2\\xcck\\xa6\\x95UT\\xd5tg1k\\x87E\\x19X\\xb2\\xe5\\xd5\\x8a\\xbc\\xc1jab\\xc8if\\x85OS\\xf7r\\xca\\xad-r\\xddR\\x9f\\x90U\\t0xf?G\\xd5\\xbd@A0\\xa8\\xe5\\x9bY\\xd4\\x14\\xe3\\xd54\\xacr\\xf6|\\xd5\\xae\\x1d\\x8b\\x03\\x9eC\\xed\"E\\xc2\\xc8\\xfa\\x95\\x85\\xda%\\xbbe5\\xc2\\xb9\\x1d,^\\xa9\\xf2\\x83\\xdcr\\xd4\\xc2\\xd2x\\xd1WjK\\xebW\\xe6\\xe6[m68\\x86\\xe4\\xd1\\x82.wJ\\xa5\\xd0\\xae\\x84\\xd9.G\\xd0\\x10\\xf5tO\\x92\\xa5\\r-\\xba\\xf3\\x0f\\x00\\x00\\x00\\xff\\xff\\x03\\x00PK\\x03\\x04\\x14\\x00\\x06\\x00\\x08\\x00\\x00\\x00!\\x00\\r\\xd1\\x90\\x9f\\xb6\\x00\\x00\\x00\\x1b\\x01\\x00\\x00\\'\\x00\\x00\\x00theme/theme/_rels/themeManager.xml.rels\\x84\\x8fM\\n\\xc20\\x14\\x84\\xf7\\x82w\\x08oo\\xd3\\xba\\x10\\x91&\\xdd\\x88\\xd0\\xad\\xd4\\x03\\x84\\xe45\\r6?$Q\\xec\\xed\\r\\xae,\\x08.\\x87a\\xbe\\x99i\\xbb\\x97\\x9d\\xc9\\x13c2\\xde1h\\xaa\\x1a\\x08:\\xe9\\x95q\\x9a\\xc1m\\xb8\\xec\\x8e@R\\x16N\\x89\\xd9;d\\xb0`\\x82\\x8eo7\\xed\\x15g\\x91K(M&$R(.1\\x98r\\x0e\\'J\\x93\\x9c\\xd0\\x8aT\\xf9\\x80\\xae8\\xa3\\x8fV\\xe4\"\\xa3\\xa6A\\xc8\\xbb\\xd0H\\xf7u}\\xa0\\xf1\\x9b\\x01|\\xc5$\\xbdb\\x10{\\xd5\\x00\\x19\\x96P\\x9a\\xff\\xb3\\xfd8\\x1a\\x89g/\\x1f\\x16]\\xfeQAs\\xd9\\x85\\x05(\\xa2\\xc6\\xcc\\xe0#\\x9b\\xaaL\\x04\\xca[\\xba\\xba\\xc4\\xdf\\x00\\x00\\x00\\xff\\xff\\x03\\x00PK\\x01\\x02-\\x00\\x14\\x00\\x06\\x00\\x08\\x00\\x00\\x00!\\x00\\xe9\\xde\\x0f\\xbf\\xff\\x00\\x00\\x00\\x1c\\x02\\x00\\x00\\x13\\x00\\x00\\x00\\x00\\x00\\x00\\x00\\x00\\x00\\x00\\x00\\x00\\x00\\x00\\x00\\x00\\x00[Content_Types].xmlPK\\x01\\x02-\\x00\\x14\\x00\\x06\\x00\\x08\\x00\\x00\\x00!\\x00\\xa5\\xd6\\xa7\\xe7\\xc0\\x00\\x00\\x006\\x01\\x00\\x00\\x0b\\x00\\x00\\x00\\x00\\x00\\x00\\x00\\x00\\x00\\x00\\x00\\x00\\x000\\x01\\x00\\x00_rels/.relsPK\\x01\\x02-\\x00\\x14\\x00\\x06\\x00\\x08\\x00\\x00\\x00!\\x00ky\\x96\\x16\\x83\\x00\\x00\\x00\\x8a\\x00\\x00\\x00\\x1c\\x00\\x00\\x00\\x00\\x00\\x00\\x00\\x00\\x00\\x00\\x00\\x00\\x00\\x19\\x02\\x00\\x00theme/theme/themeManager.xmlPK\\x01\\x02-\\x00\\x14\\x00\\x06\\x00\\x08\\x00\\x00\\x00!\\x00N\\xd2m\\xd1\\xcf\\x06\\x00\\x00\\xb0\\x1f\\x00\\x00\\x16\\x00\\x00\\x00\\x00\\x00\\x00\\x00\\x00\\x00\\x00\\x00\\x00\\x00\\xd6\\x02\\x00\\x00theme/theme/theme1.xmlPK\\x01\\x02-\\x00\\x14\\x00\\x06\\x00\\x08\\x00\\x00\\x00!\\x00\\r\\xd1\\x90\\x9f\\xb6\\x00\\x00\\x00\\x1b\\x01\\x00\\x00\\'\\x00\\x00\\x00\\x00\\x00\\x00\\x00\\x00\\x00\\x00\\x00\\x00\\x00\\xd9\\t\\x00\\x00theme/theme/_rels/themeManager.xml.relsPK\\x05\\x06\\x00\\x00\\x00\\x00\\x05\\x00\\x05\\x00]\\x01\\x00\\x00\\xd4\\n\\x00\\x00\\x00\\x00\\x9b\\x08\\x10\\x00\\x9b\\x08\\x00\\x00\\x00\\x00\\x00\\x00\\x00\\x00\\x00\\x00\\x01\\x00\\x00\\x00\\x8c\\x08\\x10\\x00\\x8c\\x08\\x00\\x00\\x00\\x00\\x00\\x00\\x00\\x00\\x00\\x00\\x00\\x00\\x00\\x00\\n\\x00\\x00\\x00\\t\\x08\\x10\\x00\\x00\\x06\\x10\\x00ZO\\xcd\\x07\\xc9\\x00\\x02\\x00\\x06\\x08\\x00\\x00\\x0b\\x02$\\x00\\x00\\x00\\x00\\x00\\x00\\x00\\x00\\x00\\x97\\x00\\x00\\x00\\xd17\\x00\\x00)A\\x00\\x00\\xd5J\\x00\\x00\\x8fT\\x00\\x00-^\\x00\\x00/e\\x00\\x00\\r\\x00\\x02\\x00\\x01\\x00\\x0c\\x00\\x02\\x00d\\x00\\x0f\\x00\\x02\\x00\\x01\\x00\\x11\\x00\\x02\\x00\\x00\\x00\\x10\\x00\\x08\\x00\\xfc\\xa9\\xf1\\xd2MbP?_\\x00\\x02\\x00\\x01\\x00*\\x00\\x02\\x00\\x00\\x00+\\x00\\x02\\x00\\x00\\x00\\x82\\x00\\x02\\x00\\x01\\x00\\x80\\x00\\x08\\x00\\x00\\x00\\x00\\x00\\x00\\x00\\x00\\x00%\\x02\\x04\\x00\\x00\\x00\\xfa\\x00\\x81\\x00\\x02\\x00\\xc1\\x04\\x14\\x00\\x00\\x00\\x15\\x00\\x00\\x00\\x83\\x00\\x02\\x00\\x00\\x00\\x84\\x00\\x02\\x00\\x00\\x00&\\x00\\x08\\x00\\x00\\x00\\x00\\x00\\x00\\x00\\xe8?\\'\\x00\\x08\\x00\\x00\\x00\\x00\\x00\\x00\\x00\\xe8?(\\x00\\x08\\x00\\x00\\x00\\x00\\x00\\x00\\x00\\xf0?)\\x00\\x08\\x00\\x00\\x00\\x00\\x00\\x00\\x00\\xf0?\\xa1\\x00\"\\x00\\x00\\x00\\xfa\\x00\\x01\\x00\\x01\\x00\\x01\\x00\\x04\\x00\\r\\x8c\\x02\\x00\\x00\\x00\\x00\\x00\\x00\\x00\\xe0?\\x00\\x00\\x00\\x00\\x00\\x00\\xe0?\\x0f\\xbf\\x9c\\x08&\\x00\\x9c\\x08\\x00\\x00\\x00\\x00\\x00\\x00\\x00\\x00\\x00\\x00\\x00\\x00\\x00\\x00\\x00\\x00\\x00\\x00\\x00\\x00\\x00\\x00\\x00\\x00\\x00\\x00\\x04\\x00\\x00\\x00\\x00\\x00\\x00\\x00\\x00\\x00U\\x00\\x02\\x00\\x08\\x00}\\x00\\x0c\\x00\\x04\\x00\\x04\\x00\\xd1\\r\\x0f\\x00\\x02\\x00\\x00\\x00\\x00\\x02\\x0e\\x00\\x00\\x00\\x00\\x00\\x97\\x00\\x00\\x00\\x00\\x00\\x05\\x00\\x00\\x00\\x08\\x02\\x10\\x00\\x00\\x00\\x00\\x00\\x05\\x00\\xfa\\x00\\x00\\x00\\x00\\x00\\x00\\x01\\x0f\\x00\\x08\\x02\\x10\\x00\\x01\\x00\\x00\\x00\\x05\\x00\\xfa\\x00\\x00\\x00\\x00\\x00\\x00\\x01\\x0f\\x00\\x08\\x02\\x10\\x00\\x02\\x00\\x00\\x00\\x05\\x00\\xfa\\x00\\x00\\x00\\x00\\x00\\x00\\x01\\x0f\\x00\\x08\\x02\\x10\\x00\\x03\\x00\\x00\\x00\\x05\\x00\\xfa\\x00\\x00\\x00\\x00\\x00\\x00\\x01\\x0f\\x00\\x08\\x02\\x10\\x00\\x04\\x00\\x00\\x00\\x05\\x00\\xfa\\x00\\x00\\x00\\x00\\x00\\x00\\x01\\x0f\\x00\\x08\\x02\\x10\\x00\\x05\\x00\\x00\\x00\\x05\\x00\\xfa\\x00\\x00\\x00\\x00\\x00\\x00\\x01\\x0f\\x00\\x08\\x02\\x10\\x00\\x06\\x00\\x00\\x00\\x05\\x00\\xfa\\x00\\x00\\x00\\x00\\x00\\x00\\x01\\x0f\\x00\\x08\\x02\\x10\\x00\\x07\\x00\\x00\\x00\\x05\\x00\\xfa\\x00\\x00\\x00\\x00\\x00\\x00\\x01\\x0f\\x00\\x08\\x02\\x10\\x00\\x08\\x00\\x00\\x00\\x05\\x00\\xfa\\x00\\x00\\x00\\x00\\x00\\x00\\x01\\x0f\\x00\\x08\\x02\\x10\\x00\\t\\x00\\x00\\x00\\x05\\x00\\xfa\\x00\\x00\\x00\\x00\\x00\\x00\\x01\\x0f\\x00\\x08\\x02\\x10\\x00\\n\\x00\\x00\\x00\\x05\\x00\\xfa\\x00\\x00\\x00\\x00\\x00\\x00\\x01\\x0f\\x00\\x08\\x02\\x10\\x00\\x0b\\x00\\x00\\x00\\x05\\x00\\xfa\\x00\\x00\\x00\\x00\\x00\\x00\\x01\\x0f\\x00\\x08\\x02\\x10\\x00\\x0c\\x00\\x00\\x00\\x05\\x00\\xfa\\x00\\x00\\x00\\x00\\x00\\x00\\x01\\x0f\\x00\\x08\\x02\\x10\\x00\\r\\x00\\x00\\x00\\x05\\x00\\xfa\\x00\\x00\\x00\\x00\\x00\\x00\\x01\\x0f\\x00\\x08\\x02\\x10\\x00\\x0e\\x00\\x00\\x00\\x05\\x00\\xfa\\x00\\x00\\x00\\x00\\x00\\x00\\x01\\x0f\\x00\\x08\\x02\\x10\\x00\\x0f\\x00\\x00\\x00\\x05\\x00\\xfa\\x00\\x00\\x00\\x00\\x00\\x00\\x01\\x0f\\x00\\x08\\x02\\x10\\x00\\x10\\x00\\x00\\x00\\x05\\x00\\xfa\\x00\\x00\\x00\\x00\\x00\\x00\\x01\\x0f\\x00\\x08\\x02\\x10\\x00\\x11\\x00\\x00\\x00\\x05\\x00\\xfa\\x00\\x00\\x00\\x00\\x00\\x00\\x01\\x0f\\x00\\x08\\x02\\x10\\x00\\x12\\x00\\x00\\x00\\x05\\x00\\xfa\\x00\\x00\\x00\\x00\\x00\\x00\\x01\\x0f\\x00\\x08\\x02\\x10\\x00\\x13\\x00\\x00\\x00\\x05\\x00\\xfa\\x00\\x00\\x00\\x00\\x00\\x00\\x01\\x0f\\x00\\x08\\x02\\x10\\x00\\x14\\x00\\x00\\x00\\x05\\x00\\xfa\\x00\\x00\\x00\\x00\\x00\\x00\\x01\\x0f\\x00\\x08\\x02\\x10\\x00\\x15\\x00\\x00\\x00\\x05\\x00\\xfa\\x00\\x00\\x00\\x00\\x00\\x00\\x01\\x0f\\x00\\x08\\x02\\x10\\x00\\x16\\x00\\x00\\x00\\x05\\x00\\xfa\\x00\\x00\\x00\\x00\\x00\\x00\\x01\\x0f\\x00\\x08\\x02\\x10\\x00\\x17\\x00\\x00\\x00\\x05\\x00\\xfa\\x00\\x00\\x00\\x00\\x00\\x00\\x01\\x0f\\x00\\x08\\x02\\x10\\x00\\x18\\x00\\x00\\x00\\x05\\x00\\xfa\\x00\\x00\\x00\\x00\\x00\\x00\\x01\\x0f\\x00\\x08\\x02\\x10\\x00\\x19\\x00\\x00\\x00\\x05\\x00\\xfa\\x00\\x00\\x00\\x00\\x00\\x00\\x01\\x0f\\x00\\x08\\x02\\x10\\x00\\x1a\\x00\\x00\\x00\\x05\\x00\\xfa\\x00\\x00\\x00\\x00\\x00\\x00\\x01\\x0f\\x00\\x08\\x02\\x10\\x00\\x1b\\x00\\x00\\x00\\x05\\x00\\xfa\\x00\\x00\\x00\\x00\\x00\\x00\\x01\\x0f\\x00\\x08\\x02\\x10\\x00\\x1c\\x00\\x00\\x00\\x05\\x00\\xfa\\x00\\x00\\x00\\x00\\x00\\x00\\x01\\x0f\\x00\\x08\\x02\\x10\\x00\\x1d\\x00\\x00\\x00\\x05\\x00\\xfa\\x00\\x00\\x00\\x00\\x00\\x00\\x01\\x0f\\x00\\x08\\x02\\x10\\x00\\x1e\\x00\\x00\\x00\\x05\\x00\\xfa\\x00\\x00\\x00\\x00\\x00\\x00\\x01\\x0f\\x00\\x08\\x02\\x10\\x00\\x1f\\x00\\x00\\x00\\x05\\x00\\xfa\\x00\\x00\\x00\\x00\\x00\\x00\\x01\\x0f\\x00\\xfd\\x00\\n\\x00\\x00\\x00\\x00\\x00>\\x00\\x00\\x00\\x00\\x00\\xfd\\x00\\n\\x00\\x00\\x00\\x01\\x00>\\x00\\x01\\x00\\x00\\x00\\xfd\\x00\\n\\x00\\x00\\x00\\x02\\x00>\\x00\\x02\\x00\\x00\\x00\\xfd\\x00\\n\\x00\\x00\\x00\\x03\\x00>\\x00\\x03\\x00\\x00\\x00\\xfd\\x00\\n\\x00\\x00\\x00\\x04\\x00>\\x00\\x07\\x00\\x00\\x00\\x03\\x02\\x0e\\x00\\x01\\x00\\x00\\x00\\x0f\\x00ffffff\\x14@\\xbd\\x00\\x18\\x00\\x01\\x00\\x01\\x00\\x0f\\x00\\x00\\x00\\x0c@\\x0f\\x00\\x01\\x80a@\\x0f\\x00\\x01\\x004@\\x03\\x00\\xfd\\x00\\n\\x00\\x01\\x00\\x04\\x00\\x0f\\x00\\x04\\x00\\x00\\x00\\x03\\x02\\x0e\\x00\\x02\\x00\\x00\\x00\\x0f\\x00\\x9a\\x99\\x99\\x99\\x99\\x99\\x13@\\xbd\\x00\\x18\\x00\\x02\\x00\\x01\\x00\\x0f\\x00\\x00\\x00\\x08@\\x0f\\x00\\x01\\x80a@\\x0f\\x00\\x01\\x004@\\x03\\x00\\xfd\\x00\\n\\x00\\x02\\x00\\x04\\x00\\x0f\\x00\\x04\\x00\\x00\\x00\\xbd\\x00\\x18\\x00\\x03\\x00\\x01\\x00\\x0f\\x00\\x01\\x00t@\\x0f\\x00\\x01@`@\\x0f\\x00\\x01\\x004@\\x03\\x00\\xfd\\x00\\n\\x00\\x03\\x00\\x04\\x00\\x0f\\x00\\x04\\x00\\x00\\x00\\x03\\x02\\x0e\\x00\\x04\\x00\\x00\\x00\\x0f\\x00ffffff\\x12@\\xbd\\x00\\x18\\x00\\x04\\x00\\x01\\x00\\x0f\\x00\\x01`s@\\x0f\\x00\\x00\\x00\\xf8?\\x0f\\x00\\x01\\x004@\\x03\\x00\\xfd\\x00\\n\\x00\\x04\\x00\\x04\\x00\\x0f\\x00\\x04\\x00\\x00\\x00\\xbd\\x00\\x1e\\x00\\x05\\x00\\x00\\x00\\x0f\\x00\\x00\\x00\\x14@\\x0f\\x00\\x01\\x80v@\\x0f\\x00\\x01\\x80a@\\x0f\\x00\\x01\\x004@\\x03\\x00\\xfd\\x00\\n\\x00\\x05\\x00\\x04\\x00\\x0f\\x00\\x04\\x00\\x00\\x00\\xbd\\x00\\x1e\\x00\\x06\\x00\\x00\\x00\\x0f\\x00\\x01\\xe0\\x80@\\x0f\\x00\\x01`x@\\x0f\\x00\\x01@e@\\x0f\\x00\\x01\\x00D@\\x03\\x00\\xfd\\x00\\n\\x00\\x06\\x00\\x04\\x00\\x0f\\x00\\x04\\x00\\x00\\x00\\x03\\x02\\x0e\\x00\\x07\\x00\\x00\\x00\\x0f\\x00ffffff\\x12@\\xbd\\x00\\x18\\x00\\x07\\x00\\x01\\x00\\x0f\\x00\\x01@u@\\x0f\\x00\\x01\\x80a@\\x0f\\x00\\x01\\x00>@\\x03\\x00\\xfd\\x00\\n\\x00\\x07\\x00\\x04\\x00\\x0f\\x00\\x04\\x00\\x00\\x00\\xbd\\x00\\x1e\\x00\\x08\\x00\\x00\\x00\\x0f\\x00\\x00\\x00\\x14@\\x0f\\x00\\x01@u@\\x0f\\x00\\x00\\x00\\xf8?\\x0f\\x00\\x01\\x004@\\x03\\x00\\xfd\\x00\\n\\x00\\x08\\x00\\x04\\x00\\x0f\\x00\\x04\\x00\\x00\\x00\\x03\\x02\\x0e\\x00\\t\\x00\\x00\\x00\\x0f\\x00\\x9a\\x99\\x99\\x99\\x99\\x99\\x11@\\xbd\\x00\\x18\\x00\\t\\x00\\x01\\x00\\x0f\\x00\\x01 r@\\x0f\\x00\\x01\\x80a@\\x0f\\x00\\x01\\x004@\\x03\\x00\\xfd\\x00\\n\\x00\\t\\x00\\x04\\x00\\x0f\\x00\\x04\\x00\\x00\\x00\\x03\\x02\\x0e\\x00\\n\\x00\\x00\\x00\\x0f\\x00\\x9a\\x99\\x99\\x99\\x99\\x99\\x13@\\xbd\\x00\\x18\\x00\\n\\x00\\x01\\x00\\x0f\\x00\\x01`s@\\x0f\\x00\\x00\\x00\\xf8?\\x0f\\x00\\x01\\x00$@\\x03\\x00\\xfd\\x00\\n\\x00\\n\\x00\\x04\\x00\\x0f\\x00\\x04\\x00\\x00\\x00~\\x02\\n\\x00\\x0b\\x00\\x00\\x00\\x0f\\x00\\x01\\xe0\\x80@\\xbd\\x00\\x12\\x00\\x0b\\x00\\x02\\x00\\x0f\\x00\\x00\\x00\\xf8?\\x0f\\x00\\x01\\x004@\\x03\\x00\\xfd\\x00\\n\\x00\\x0b\\x00\\x04\\x00\\x0f\\x00\\x04\\x00\\x00\\x00\\xbd\\x00\\x1e\\x00\\x0c\\x00\\x00\\x00\\x0f\\x00\\x01\\x00~@\\x0f\\x00\\x01@u@\\x0f\\x00\\x01\\x00d@\\x0f\\x00\\x01\\x004@\\x03\\x00\\xfd\\x00\\n\\x00\\x0c\\x00\\x04\\x00\\x0f\\x00\\x04\\x00\\x00\\x00\\xbd\\x00\\x1e\\x00\\r\\x00\\x00\\x00\\x0f\\x00\\x01\\x00~@\\x0f\\x00\\x00\\x00\\x08@\\x0f\\x00\\x01\\x80a@\\x0f\\x00\\x01\\x00$@\\x03\\x00\\xfd\\x00\\n\\x00\\r\\x00\\x04\\x00\\x0f\\x00\\x04\\x00\\x00\\x00\\xbd\\x00\\x12\\x00\\x0e\\x00\\x00\\x00\\x0f\\x00\\x01\\xe0z@\\x0f\\x00\\x00\\x00\\x08@\\x01\\x00\\x03\\x02\\x0e\\x00\\x0e\\x00\\x02\\x00\\x0f\\x00\\x9a\\x99\\x99\\x99\\x99\\x99\\xf1?~\\x02\\n\\x00\\x0e\\x00\\x03\\x00\\x0f\\x00\\x01\\x00$@\\xfd\\x00\\n\\x00\\x0e\\x00\\x04\\x00\\x0f\\x00\\x04\\x00\\x00\\x00\\xbd\\x00\\x1e\\x00\\x0f\\x00\\x00\\x00\\x0f\\x00\\x01 \\x82@\\x0f\\x00\\x00\\x00\\x10@\\x0f\\x00\\x01\\x00^@\\x0f\\x00\\x01\\x004@\\x03\\x00\\xfd\\x00\\n\\x00\\x0f\\x00\\x04\\x00\\x0f\\x00\\x04\\x00\\x00\\x00~\\x02\\n\\x00\\x10\\x00\\x00\\x00\\x0f\\x00\\x01\\xd0\\x81@\\x03\\x02\\x0e\\x00\\x10\\x00\\x01\\x00\\x0f\\x00\\x9a\\x99\\x99\\x99\\x99\\x99\\x11@\\xbd\\x00\\x12\\x00\\x10\\x00\\x02\\x00\\x0f\\x00\\x00\\x00\\xf8?\\x0f\\x00\\x01\\x00D@\\x03\\x00\\xfd\\x00\\n\\x00\\x10\\x00\\x04\\x00\\x0f\\x00\\x04\\x00\\x00\\x00\\xbd\\x00\\x1e\\x00\\x11\\x00\\x00\\x00\\x0f\\x00\\x01\\xe0\\x80@\\x0f\\x00\\x01`x@\\x0f\\x00\\x01@`@\\x0f\\x00\\x01\\x00D@\\x03\\x00\\xfd\\x00\\n\\x00\\x11\\x00\\x04\\x00\\x0f\\x00\\x04\\x00\\x00\\x00\\x03\\x02\\x0e\\x00\\x12\\x00\\x00\\x00\\x0f\\x00ffffff\\x14@\\xbd\\x00\\x18\\x00\\x12\\x00\\x01\\x00\\x0f\\x00\\x00\\x00\\x0c@\\x0f\\x00\\x01\\x80a@\\x0f\\x00\\x01\\x00>@\\x03\\x00\\xfd\\x00\\n\\x00\\x12\\x00\\x04\\x00\\x0f\\x00\\x04\\x00\\x00\\x00\\xbd\\x00\\x1e\\x00\\x13\\x00\\x00\\x00\\x0f\\x00\\x01\\xd0\\x81@\\x0f\\x00\\x01\\xc0w@\\x0f\\x00\\x01@e@\\x0f\\x00\\x01\\x00>@\\x03\\x00\\xfd\\x00\\n\\x00\\x13\\x00\\x04\\x00\\x0f\\x00\\x04\\x00\\x00\\x00\\x03\\x02\\x0e\\x00\\x14\\x00\\x00\\x00\\x0f\\x00ffffff\\x14@\\xbd\\x00\\x18\\x00\\x14\\x00\\x01\\x00\\x0f\\x00\\x01\\xc0w@\\x0f\\x00\\x00\\x00\\xf8?\\x0f\\x00\\x01\\x00>@\\x03\\x00\\xfd\\x00\\n\\x00\\x14\\x00\\x04\\x00\\x0f\\x00\\x04\\x00\\x00\\x00\\xbd\\x00\\x1e\\x00\\x15\\x00\\x00\\x00\\x0f\\x00\\x01\\xe0\\x80@\\x0f\\x00\\x01@u@\\x0f\\x00\\x01@e@\\x0f\\x00\\x01\\x004@\\x03\\x00\\xfd\\x00\\n\\x00\\x15\\x00\\x04\\x00\\x0f\\x00\\x04\\x00\\x00\\x00\\xbd\\x00\\x18\\x00\\x16\\x00\\x01\\x00\\x0f\\x00\\x01 w@\\x0f\\x00\\x00\\x00\\xf8?\\x0f\\x00\\x01\\x00D@\\x03\\x00\\xfd\\x00\\n\\x00\\x16\\x00\\x04\\x00\\x0f\\x00\\x04\\x00\\x00\\x00\\x03\\x02\\x0e\\x00\\x17\\x00\\x00\\x00\\x0f\\x00ffffff\\x12@\\xbd\\x00\\x18\\x00\\x17\\x00\\x01\\x00\\x0f\\x00\\x01\\x80v@\\x0f\\x00\\x00\\x00\\xf0?\\x0f\\x00\\x01\\x004@\\x03\\x00\\xfd\\x00\\n\\x00\\x17\\x00\\x04\\x00\\x0f\\x00\\x04\\x00\\x00\\x00\\x03\\x02\\x0e\\x00\\x18\\x00\\x00\\x00\\x0f\\x00ffffff\\x14@\\xbd\\x00\\x18\\x00\\x18\\x00\\x01\\x00\\x0f\\x00\\x01\\xa0t@\\x0f\\x00\\x01@e@\\x0f\\x00\\x00\\x00\\xe0?\\x03\\x00\\xfd\\x00\\n\\x00\\x18\\x00\\x04\\x00\\x0f\\x00\\x04\\x00\\x00\\x00\\xbd\\x00\\x1e\\x00\\x19\\x00\\x00\\x00\\x0f\\x00\\x01\\x00~@\\x0f\\x00\\x01@u@\\x0f\\x00\\x01\\xc0g@\\x0f\\x00\\x01\\x004@\\x03\\x00\\xfd\\x00\\n\\x00\\x19\\x00\\x04\\x00\\x0f\\x00\\x04\\x00\\x00\\x00\\xbd\\x00\\x1e\\x00\\x1a\\x00\\x00\\x00\\x0f\\x00\\x00\\x00\\x14@\\x0f\\x00\\x00\\x00\\x08@\\x0f\\x00\\x01\\x00d@\\x0f\\x00\\x01\\x004@\\x03\\x00\\xfd\\x00\\n\\x00\\x1a\\x00\\x04\\x00\\x0f\\x00\\x04\\x00\\x00\\x00\\xbd\\x00\\x1e\\x00\\x1b\\x00\\x00\\x00\\x0f\\x00\\x00\\x00\\x14@\\x0f\\x00\\x01@u@\\x0f\\x00\\x01\\x00d@\\x0f\\x00\\x01\\x00D@\\x03\\x00\\xfd\\x00\\n\\x00\\x1b\\x00\\x04\\x00\\x0f\\x00\\x04\\x00\\x00\\x00~\\x02\\n\\x00\\x1c\\x00\\x00\\x00\\x0f\\x00\\x01@\\x80@\\xbd\\x00\\x12\\x00\\x1c\\x00\\x02\\x00\\x0f\\x00\\x00\\x00\\xf8?\\x0f\\x00\\x01\\x004@\\x03\\x00\\xfd\\x00\\n\\x00\\x1c\\x00\\x04\\x00\\x0f\\x00\\x04\\x00\\x00\\x00\\xbd\\x00\\x12\\x00\\x1d\\x00\\x00\\x00\\x0f\\x00\\x01@\\x80@\\x0f\\x00\\x01@u@\\x01\\x00~\\x02\\n\\x00\\x1d\\x00\\x03\\x00\\x0f\\x00\\x01\\x004@\\xfd\\x00\\n\\x00\\x1d\\x00\\x04\\x00\\x0f\\x00\\x04\\x00\\x00\\x00\\xbd\\x00\\x1e\\x00\\x1e\\x00\\x00\\x00\\x0f\\x00\\x01`}@\\x0f\\x00\\x01\\x00t@\\x0f\\x00\\x01\\x00d@\\x0f\\x00\\x01\\x004@\\x03\\x00\\xfd\\x00\\n\\x00\\x1e\\x00\\x04\\x00\\x0f\\x00\\x04\\x00\\x00\\x00\\xbd\\x00\\x1e\\x00\\x1f\\x00\\x00\\x00\\x0f\\x00\\x01\\x00~@\\x0f\\x00\\x01`s@\\x0f\\x00\\x01\\x00d@\\x0f\\x00\\x01\\x004@\\x03\\x00\\xfd\\x00\\n\\x00\\x1f\\x00\\x04\\x00\\x0f\\x00\\x04\\x00\\x00\\x00\\xd7\\x00D\\x000\\t\\x00\\x00l\\x02F\\x00<\\x00<\\x00*\\x00<\\x000\\x000\\x00<\\x000\\x00<\\x00<\\x002\\x000\\x000\\x00D\\x000\\x00D\\x000\\x00<\\x000\\x00<\\x000\\x00*\\x00<\\x00<\\x000\\x000\\x000\\x002\\x002\\x000\\x00\\x08\\x02\\x10\\x00 \\x00\\x00\\x00\\x05\\x00\\xfa\\x00\\x00\\x00\\x00\\x00\\x00\\x01\\x0f\\x00\\x08\\x02\\x10\\x00!\\x00\\x00\\x00\\x05\\x00\\xfa\\x00\\x00\\x00\\x00\\x00\\x00\\x01\\x0f\\x00\\x08\\x02\\x10\\x00\"\\x00\\x00\\x00\\x05\\x00\\xfa\\x00\\x00\\x00\\x00\\x00\\x00\\x01\\x0f\\x00\\x08\\x02\\x10\\x00#\\x00\\x00\\x00\\x05\\x00\\xfa\\x00\\x00\\x00\\x00\\x00\\x00\\x01\\x0f\\x00\\x08\\x02\\x10\\x00$\\x00\\x00\\x00\\x05\\x00\\xfa\\x00\\x00\\x00\\x00\\x00\\x00\\x01\\x0f\\x00\\x08\\x02\\x10\\x00%\\x00\\x00\\x00\\x05\\x00\\xfa\\x00\\x00\\x00\\x00\\x00\\x00\\x01\\x0f\\x00\\x08\\x02\\x10\\x00&\\x00\\x00\\x00\\x05\\x00\\xfa\\x00\\x00\\x00\\x00\\x00\\x00\\x01\\x0f\\x00\\x08\\x02\\x10\\x00\\'\\x00\\x00\\x00\\x05\\x00\\xfa\\x00\\x00\\x00\\x00\\x00\\x00\\x01\\x0f\\x00\\x08\\x02\\x10\\x00(\\x00\\x00\\x00\\x05\\x00\\xfa\\x00\\x00\\x00\\x00\\x00\\x00\\x01\\x0f\\x00\\x08\\x02\\x10\\x00)\\x00\\x00\\x00\\x05\\x00\\xfa\\x00\\x00\\x00\\x00\\x00\\x00\\x01\\x0f\\x00\\x08\\x02\\x10\\x00*\\x00\\x00\\x00\\x05\\x00\\xfa\\x00\\x00\\x00\\x00\\x00\\x00\\x01\\x0f\\x00\\x08\\x02\\x10\\x00+\\x00\\x00\\x00\\x05\\x00\\xfa\\x00\\x00\\x00\\x00\\x00\\x00\\x01\\x0f\\x00\\x08\\x02\\x10\\x00,\\x00\\x00\\x00\\x05\\x00\\xfa\\x00\\x00\\x00\\x00\\x00\\x00\\x01\\x0f\\x00\\x08\\x02\\x10\\x00-\\x00\\x00\\x00\\x05\\x00\\xfa\\x00\\x00\\x00\\x00\\x00\\x00\\x01\\x0f\\x00\\x08\\x02\\x10\\x00.\\x00\\x00\\x00\\x05\\x00\\xfa\\x00\\x00\\x00\\x00\\x00\\x00\\x01\\x0f\\x00\\x08\\x02\\x10\\x00/\\x00\\x00\\x00\\x05\\x00\\xfa\\x00\\x00\\x00\\x00\\x00\\x00\\x01\\x0f\\x00\\x08\\x02\\x10\\x000\\x00\\x00\\x00\\x05\\x00\\xfa\\x00\\x00\\x00\\x00\\x00\\x00\\x01\\x0f\\x00\\x08\\x02\\x10\\x001\\x00\\x00\\x00\\x05\\x00\\xfa\\x00\\x00\\x00\\x00\\x00\\x00\\x01\\x0f\\x00\\x08\\x02\\x10\\x002\\x00\\x00\\x00\\x05\\x00\\xfa\\x00\\x00\\x00\\x00\\x00\\x00\\x01\\x0f\\x00\\x08\\x02\\x10\\x003\\x00\\x00\\x00\\x05\\x00\\xfa\\x00\\x00\\x00\\x00\\x00\\x00\\x01\\x0f\\x00\\x08\\x02\\x10\\x004\\x00\\x00\\x00\\x05\\x00\\xfa\\x00\\x00\\x00\\x00\\x00\\x00\\x01\\x0f\\x00\\x08\\x02\\x10\\x005\\x00\\x00\\x00\\x05\\x00\\xfa\\x00\\x00\\x00\\x00\\x00\\x00\\x01\\x0f\\x00\\x08\\x02\\x10\\x006\\x00\\x00\\x00\\x05\\x00\\xfa\\x00\\x00\\x00\\x00\\x00\\x00\\x01\\x0f\\x00\\x08\\x02\\x10\\x007\\x00\\x00\\x00\\x05\\x00\\xfa\\x00\\x00\\x00\\x00\\x00\\x00\\x01\\x0f\\x00\\x08\\x02\\x10\\x008\\x00\\x00\\x00\\x05\\x00\\xfa\\x00\\x00\\x00\\x00\\x00\\x00\\x01\\x0f\\x00\\x08\\x02\\x10\\x009\\x00\\x00\\x00\\x05\\x00\\xfa\\x00\\x00\\x00\\x00\\x00\\x00\\x01\\x0f\\x00\\x08\\x02\\x10\\x00:\\x00\\x00\\x00\\x05\\x00\\xfa\\x00\\x00\\x00\\x00\\x00\\x00\\x01\\x0f\\x00\\x08\\x02\\x10\\x00;\\x00\\x00\\x00\\x05\\x00\\xfa\\x00\\x00\\x00\\x00\\x00\\x00\\x01\\x0f\\x00\\x08\\x02\\x10\\x00<\\x00\\x00\\x00\\x05\\x00\\xfa\\x00\\x00\\x00\\x00\\x00\\x00\\x01\\x0f\\x00\\x08\\x02\\x10\\x00=\\x00\\x00\\x00\\x05\\x00\\xfa\\x00\\x00\\x00\\x00\\x00\\x00\\x01\\x0f\\x00\\x08\\x02\\x10\\x00>\\x00\\x00\\x00\\x05\\x00\\xfa\\x00\\x00\\x00\\x00\\x00\\x00\\x01\\x0f\\x00\\x08\\x02\\x10\\x00?\\x00\\x00\\x00\\x05\\x00\\xfa\\x00\\x00\\x00\\x00\\x00\\x00\\x01\\x0f\\x00\\xbd\\x00\\x1e\\x00 \\x00\\x00\\x00\\x0f\\x00\\x01\\xe0\\x80@\\x0f\\x00\\x01@u@\\x0f\\x00\\x00\\x00\\xf8?\\x0f\\x00\\x01\\x00D@\\x03\\x00\\xfd\\x00\\n\\x00 \\x00\\x04\\x00\\x0f\\x00\\x04\\x00\\x00\\x00~\\x02\\n\\x00!\\x00\\x00\\x00\\x0f\\x00\\x01@\\x80@\\x03\\x02\\x0e\\x00!\\x00\\x01\\x00\\x0f\\x00ffffff\\x10@\\xbd\\x00\\x12\\x00!\\x00\\x02\\x00\\x0f\\x00\\x00\\x00\\xf8?\\x0f\\x00\\x01\\x00$@\\x03\\x00\\xfd\\x00\\n\\x00!\\x00\\x04\\x00\\x0f\\x00\\x04\\x00\\x00\\x00\\xbd\\x00\\x1e\\x00\"\\x00\\x00\\x00\\x0f\\x00\\x00\\x00\\x16@\\x0f\\x00\\x01@z@\\x0f\\x00\\x01\\x80a@\\x0f\\x00\\x01\\x004@\\x03\\x00\\xfd\\x00\\n\\x00\"\\x00\\x04\\x00\\x0f\\x00\\x04\\x00\\x00\\x00\\x03\\x02\\x0e\\x00#\\x00\\x00\\x00\\x0f\\x00\\x9a\\x99\\x99\\x99\\x99\\x99\\x13@\\xbd\\x00\\x18\\x00#\\x00\\x01\\x00\\x0f\\x00\\x01`s@\\x0f\\x00\\x00\\x00\\xf8?\\x0f\\x00\\x01\\x00$@\\x03\\x00\\xfd\\x00\\n\\x00#\\x00\\x04\\x00\\x0f\\x00\\x04\\x00\\x00\\x00\\xbd\\x00\\x1e\\x00$\\x00\\x00\\x00\\x0f\\x00\\x00\\x00\\x14@\\x0f\\x00\\x01\\x00t@\\x0f\\x00\\x01\\x00^@\\x0f\\x00\\x01\\x004@\\x03\\x00\\xfd\\x00\\n\\x00$\\x00\\x04\\x00\\x0f\\x00\\x04\\x00\\x00\\x00\\xbd\\x00\\x1e\\x00%\\x00\\x00\\x00\\x0f\\x00\\x00\\x00\\x16@\\x0f\\x00\\x00\\x00\\x0c@\\x0f\\x00\\x01@`@\\x0f\\x00\\x01\\x004@\\x03\\x00\\xfd\\x00\\n\\x00%\\x00\\x04\\x00\\x0f\\x00\\x04\\x00\\x00\\x00\\x03\\x02\\x0e\\x00&\\x00\\x00\\x00\\x0f\\x00\\x9a\\x99\\x99\\x99\\x99\\x99\\x13@\\xbd\\x00\\x18\\x00&\\x00\\x01\\x00\\x0f\\x00\\x01`s@\\x0f\\x00\\x00\\x00\\xf8?\\x0f\\x00\\x01\\x00$@\\x03\\x00\\xfd\\x00\\n\\x00&\\x00\\x04\\x00\\x0f\\x00\\x04\\x00\\x00\\x00\\x03\\x02\\x0e\\x00\\'\\x00\\x00\\x00\\x0f\\x00\\x9a\\x99\\x99\\x99\\x99\\x99\\x11@\\xbd\\x00\\x18\\x00\\'\\x00\\x01\\x00\\x0f\\x00\\x00\\x00\\x08@\\x0f\\x00\\x01@`@\\x0f\\x00\\x01\\x004@\\x03\\x00\\xfd\\x00\\n\\x00\\'\\x00\\x04\\x00\\x0f\\x00\\x04\\x00\\x00\\x00\\xbd\\x00\\x18\\x00(\\x00\\x01\\x00\\x0f\\x00\\x01@u@\\x0f\\x00\\x00\\x00\\xf8?\\x0f\\x00\\x01\\x004@\\x03\\x00\\xfd\\x00\\n\\x00(\\x00\\x04\\x00\\x0f\\x00\\x04\\x00\\x00\\x00\\xbd\\x00\\x1e\\x00)\\x00\\x00\\x00\\x0f\\x00\\x00\\x00\\x14@\\x0f\\x00\\x00\\x00\\x0c@\\x0f\\x00\\x01@`@\\x0f\\x00\\x01\\x00>@\\x03\\x00\\xfd\\x00\\n\\x00)\\x00\\x04\\x00\\x0f\\x00\\x04\\x00\\x00\\x00~\\x02\\n\\x00*\\x00\\x00\\x00\\x0f\\x00\\x00\\x00\\x12@\\x03\\x02\\x0e\\x00*\\x00\\x01\\x00\\x0f\\x00ffffff\\x02@\\xbd\\x00\\x12\\x00*\\x00\\x02\\x00\\x0f\\x00\\x01@`@\\x0f\\x00\\x01\\x00>@\\x03\\x00\\xfd\\x00\\n\\x00*\\x00\\x04\\x00\\x0f\\x00\\x04\\x00\\x00\\x00\\x03\\x02\\x0e\\x00+\\x00\\x00\\x00\\x0f\\x00\\x9a\\x99\\x99\\x99\\x99\\x99\\x11@~\\x02\\n\\x00+\\x00\\x01\\x00\\x0f\\x00\\x01\\x00t@~\\x02\\n\\x00+\\x00\\x03\\x00\\x0f\\x00\\x01\\x004@\\xfd\\x00\\n\\x00+\\x00\\x04\\x00\\x0f\\x00\\x04\\x00\\x00\\x00~\\x02\\n\\x00,\\x00\\x00\\x00\\x0f\\x00\\x00\\x00\\x14@\\xbd\\x00\\x12\\x00,\\x00\\x02\\x00\\x0f\\x00\\x01\\x00d@\\x0f\\x00\\x01\\x00N@\\x03\\x00\\xfd\\x00\\n\\x00,\\x00\\x04\\x00\\x0f\\x00\\x04\\x00\\x00\\x00\\x03\\x02\\x0e\\x00-\\x00\\x00\\x00\\x0f\\x00ffffff\\x14@\\xbd\\x00\\x18\\x00-\\x00\\x01\\x00\\x0f\\x00\\x01\\xc0w@\\x0f\\x00\\x01\\xc0g@\\x0f\\x00\\x01\\x00D@\\x03\\x00\\xfd\\x00\\n\\x00-\\x00\\x04\\x00\\x0f\\x00\\x04\\x00\\x00\\x00\\xbd\\x00\\x1e\\x00.\\x00\\x00\\x00\\x0f\\x00\\x01\\x00~@\\x0f\\x00\\x00\\x00\\x08@\\x0f\\x00\\x01\\x80a@\\x0f\\x00\\x01\\x00>@\\x03\\x00\\xfd\\x00\\n\\x00.\\x00\\x04\\x00\\x0f\\x00\\x04\\x00\\x00\\x00\\x03\\x02\\x0e\\x00/\\x00\\x00\\x00\\x0f\\x00ffffff\\x14@\\xbd\\x00\\x18\\x00/\\x00\\x01\\x00\\x0f\\x00\\x01\\xc0w@\\x0f\\x00\\x01\\x00d@\\x0f\\x00\\x01\\x004@\\x03\\x00\\xfd\\x00\\n\\x00/\\x00\\x04\\x00\\x0f\\x00\\x04\\x00\\x00\\x00\\x03\\x02\\x0e\\x000\\x00\\x00\\x00\\x0f\\x00ffffff\\x12@\\xbd\\x00\\x18\\x000\\x00\\x01\\x00\\x0f\\x00\\x01\\x00t@\\x0f\\x00\\x01\\x80a@\\x0f\\x00\\x01\\x004@\\x03\\x00\\xfd\\x00\\n\\x000\\x00\\x04\\x00\\x0f\\x00\\x04\\x00\\x00\\x00\\xbd\\x00\\x1e\\x001\\x00\\x00\\x00\\x0f\\x00\\x01\\x90\\x80@\\x0f\\x00\\x01 w@\\x0f\\x00\\x00\\x00\\xf8?\\x0f\\x00\\x01\\x004@\\x03\\x00\\xfd\\x00\\n\\x001\\x00\\x04\\x00\\x0f\\x00\\x04\\x00\\x00\\x00\\xbd\\x00\\x1e\\x002\\x00\\x00\\x00\\x0f\\x00\\x00\\x00\\x14@\\x0f\\x00\\x01\\xa0t@\\x0f\\x00\\x01\\x80a@\\x0f\\x00\\x01\\x004@\\x03\\x00\\xfd\\x00\\n\\x002\\x00\\x04\\x00\\x0f\\x00\\x04\\x00\\x00\\x00\\xbd\\x00\\x1e\\x003\\x00\\x00\\x00\\x0f\\x00\\x00\\x00\\x1c@\\x0f\\x00\\x01\\x00t@\\x0f\\x00\\x01`}@\\x0f\\x00\\x01\\x80a@\\x03\\x00\\xfd\\x00\\n\\x003\\x00\\x04\\x00\\x0f\\x00\\x05\\x00\\x00\\x00\\xbd\\x00\\x18\\x004\\x00\\x01\\x00\\x0f\\x00\\x01\\x00t@\\x0f\\x00\\x00\\x00\\x12@\\x0f\\x00\\x00\\x00\\xf8?\\x03\\x00\\xfd\\x00\\n\\x004\\x00\\x04\\x00\\x0f\\x00\\x05\\x00\\x00\\x00\\xbd\\x00\\x12\\x005\\x00\\x00\\x00\\x0f\\x00\\x01\\x90\\x85@\\x0f\\x00\\x01`s@\\x01\\x00\\x03\\x02\\x0e\\x005\\x00\\x02\\x00\\x0f\\x00\\x9a\\x99\\x99\\x99\\x99\\x99\\x13@~\\x02\\n\\x005\\x00\\x03\\x00\\x0f\\x00\\x00\\x00\\xf8?\\xfd\\x00\\n\\x005\\x00\\x04\\x00\\x0f\\x00\\x05\\x00\\x00\\x00~\\x02\\n\\x006\\x00\\x00\\x00\\x0f\\x00\\x00\\x00\\x16@\\x03\\x02\\x0e\\x006\\x00\\x01\\x00\\x0f\\x00ffffff\\x02@\\xbd\\x00\\x12\\x006\\x00\\x02\\x00\\x0f\\x00\\x00\\x00\\x10@\\x0f\\x00\\x01@`@\\x03\\x00\\xfd\\x00\\n\\x006\\x00\\x04\\x00\\x0f\\x00\\x05\\x00\\x00\\x00\\xbd\\x00\\x12\\x007\\x00\\x00\\x00\\x0f\\x00\\x00\\x00\\x1a@\\x0f\\x00\\x01\\x80q@\\x01\\x00\\x03\\x02\\x0e\\x007\\x00\\x02\\x00\\x0f\\x00ffffff\\x12@~\\x02\\n\\x007\\x00\\x03\\x00\\x0f\\x00\\x00\\x00\\xf8?\\xfd\\x00\\n\\x007\\x00\\x04\\x00\\x0f\\x00\\x05\\x00\\x00\\x00\\xbd\\x00\\x1e\\x008\\x00\\x00\\x00\\x0f\\x00\\x01\\xd0\\x81@\\x0f\\x00\\x01\\x80q@\\x0f\\x00\\x00\\x00\\x12@\\x0f\\x00\\x01@`@\\x03\\x00\\xfd\\x00\\n\\x008\\x00\\x04\\x00\\x0f\\x00\\x05\\x00\\x00\\x00\\xbd\\x00\\x12\\x009\\x00\\x00\\x00\\x0f\\x00\\x01\\xb0\\x83@\\x0f\\x00\\x01\\xa0t@\\x01\\x00~\\x02\\n\\x009\\x00\\x03\\x00\\x0f\\x00\\x01\\x00d@\\xfd\\x00\\n\\x009\\x00\\x04\\x00\\x0f\\x00\\x05\\x00\\x00\\x00\\x03\\x02\\x0e\\x00:\\x00\\x00\\x00\\x0f\\x00\\x9a\\x99\\x99\\x99\\x99\\x99\\x13@\\xbd\\x00\\x18\\x00:\\x00\\x01\\x00\\x0f\\x00\\x01\\x00n@\\x0f\\x00\\x01\\xa0t@\\x0f\\x00\\x00\\x00\\xf0?\\x03\\x00\\xfd\\x00\\n\\x00:\\x00\\x04\\x00\\x0f\\x00\\x05\\x00\\x00\\x00\\xbd\\x00\\x12\\x00;\\x00\\x00\\x00\\x0f\\x00\\x01\\xa0\\x84@\\x0f\\x00\\x01 r@\\x01\\x00\\x03\\x02\\x0e\\x00;\\x00\\x02\\x00\\x0f\\x00ffffff\\x12@~\\x02\\n\\x00;\\x00\\x03\\x00\\x0f\\x00\\x01@`@\\xfd\\x00\\n\\x00;\\x00\\x04\\x00\\x0f\\x00\\x05\\x00\\x00\\x00\\xbd\\x00\\x1e\\x00<\\x00\\x00\\x00\\x0f\\x00\\x01@\\x80@\\x0f\\x00\\x01\\xe0p@\\x0f\\x00\\x01`x@\\x0f\\x00\\x01\\x80a@\\x03\\x00\\xfd\\x00\\n\\x00<\\x00\\x04\\x00\\x0f\\x00\\x05\\x00\\x00\\x00\\xbd\\x00\\x1e\\x00=\\x00\\x00\\x00\\x0f\\x00\\x00\\x00\\x14@\\x0f\\x00\\x00\\x00\\x00@\\x0f\\x00\\x00\\x00\\x0c@\\x0f\\x00\\x00\\x00\\xf0?\\x03\\x00\\xfd\\x00\\n\\x00=\\x00\\x04\\x00\\x0f\\x00\\x05\\x00\\x00\\x00\\xbd\\x00\\x1e\\x00>\\x00\\x00\\x00\\x0f\\x00\\x01p\\x82@\\x0f\\x00\\x00\\x00\\x08@\\x0f\\x00\\x01@z@\\x0f\\x00\\x00\\x00\\xf8?\\x03\\x00\\xfd\\x00\\n\\x00>\\x00\\x04\\x00\\x0f\\x00\\x05\\x00\\x00\\x00~\\x02\\n\\x00?\\x00\\x00\\x00\\x0f\\x00\\x00\\x00\\x18@\\x03\\x02\\x0e\\x00?\\x00\\x01\\x00\\x0f\\x00\\x9a\\x99\\x99\\x99\\x99\\x99\\x01@\\xbd\\x00\\x12\\x00?\\x00\\x02\\x00\\x0f\\x00\\x00\\x00\\x10@\\x0f\\x00\\x00\\x00\\xf0?\\x03\\x00\\xfd\\x00\\n\\x00?\\x00\\x04\\x00\\x0f\\x00\\x05\\x00\\x00\\x00\\xd7\\x00D\\x00d\\t\\x00\\x00l\\x020\\x00D\\x000\\x00<\\x000\\x000\\x00<\\x00<\\x00*\\x000\\x00D\\x00<\\x002\\x00<\\x000\\x00<\\x00<\\x000\\x000\\x000\\x00*\\x00D\\x00D\\x00D\\x000\\x002\\x00<\\x00D\\x000\\x000\\x000\\x00\\x08\\x02\\x10\\x00@\\x00\\x00\\x00\\x05\\x00\\xfa\\x00\\x00\\x00\\x00\\x00\\x00\\x01\\x0f\\x00\\x08\\x02\\x10\\x00A\\x00\\x00\\x00\\x05\\x00\\xfa\\x00\\x00\\x00\\x00\\x00\\x00\\x01\\x0f\\x00\\x08\\x02\\x10\\x00B\\x00\\x00\\x00\\x05\\x00\\xfa\\x00\\x00\\x00\\x00\\x00\\x00\\x01\\x0f\\x00\\x08\\x02\\x10\\x00C\\x00\\x00\\x00\\x05\\x00\\xfa\\x00\\x00\\x00\\x00\\x00\\x00\\x01\\x0f\\x00\\x08\\x02\\x10\\x00D\\x00\\x00\\x00\\x05\\x00\\xfa\\x00\\x00\\x00\\x00\\x00\\x00\\x01\\x0f\\x00\\x08\\x02\\x10\\x00E\\x00\\x00\\x00\\x05\\x00\\xfa\\x00\\x00\\x00\\x00\\x00\\x00\\x01\\x0f\\x00\\x08\\x02\\x10\\x00F\\x00\\x00\\x00\\x05\\x00\\xfa\\x00\\x00\\x00\\x00\\x00\\x00\\x01\\x0f\\x00\\x08\\x02\\x10\\x00G\\x00\\x00\\x00\\x05\\x00\\xfa\\x00\\x00\\x00\\x00\\x00\\x00\\x01\\x0f\\x00\\x08\\x02\\x10\\x00H\\x00\\x00\\x00\\x05\\x00\\xfa\\x00\\x00\\x00\\x00\\x00\\x00\\x01\\x0f\\x00\\x08\\x02\\x10\\x00I\\x00\\x00\\x00\\x05\\x00\\xfa\\x00\\x00\\x00\\x00\\x00\\x00\\x01\\x0f\\x00\\x08\\x02\\x10\\x00J\\x00\\x00\\x00\\x05\\x00\\xfa\\x00\\x00\\x00\\x00\\x00\\x00\\x01\\x0f\\x00\\x08\\x02\\x10\\x00K\\x00\\x00\\x00\\x05\\x00\\xfa\\x00\\x00\\x00\\x00\\x00\\x00\\x01\\x0f\\x00\\x08\\x02\\x10\\x00L\\x00\\x00\\x00\\x05\\x00\\xfa\\x00\\x00\\x00\\x00\\x00\\x00\\x01\\x0f\\x00\\x08\\x02\\x10\\x00M\\x00\\x00\\x00\\x05\\x00\\xfa\\x00\\x00\\x00\\x00\\x00\\x00\\x01\\x0f\\x00\\x08\\x02\\x10\\x00N\\x00\\x00\\x00\\x05\\x00\\xfa\\x00\\x00\\x00\\x00\\x00\\x00\\x01\\x0f\\x00\\x08\\x02\\x10\\x00O\\x00\\x00\\x00\\x05\\x00\\xfa\\x00\\x00\\x00\\x00\\x00\\x00\\x01\\x0f\\x00\\x08\\x02\\x10\\x00P\\x00\\x00\\x00\\x05\\x00\\xfa\\x00\\x00\\x00\\x00\\x00\\x00\\x01\\x0f\\x00\\x08\\x02\\x10\\x00Q\\x00\\x00\\x00\\x05\\x00\\xfa\\x00\\x00\\x00\\x00\\x00\\x00\\x01\\x0f\\x00\\x08\\x02\\x10\\x00R\\x00\\x00\\x00\\x05\\x00\\xfa\\x00\\x00\\x00\\x00\\x00\\x00\\x01\\x0f\\x00\\x08\\x02\\x10\\x00S\\x00\\x00\\x00\\x05\\x00\\xfa\\x00\\x00\\x00\\x00\\x00\\x00\\x01\\x0f\\x00\\x08\\x02\\x10\\x00T\\x00\\x00\\x00\\x05\\x00\\xfa\\x00\\x00\\x00\\x00\\x00\\x00\\x01\\x0f\\x00\\x08\\x02\\x10\\x00U\\x00\\x00\\x00\\x05\\x00\\xfa\\x00\\x00\\x00\\x00\\x00\\x00\\x01\\x0f\\x00\\x08\\x02\\x10\\x00V\\x00\\x00\\x00\\x05\\x00\\xfa\\x00\\x00\\x00\\x00\\x00\\x00\\x01\\x0f\\x00\\x08\\x02\\x10\\x00W\\x00\\x00\\x00\\x05\\x00\\xfa\\x00\\x00\\x00\\x00\\x00\\x00\\x01\\x0f\\x00\\x08\\x02\\x10\\x00X\\x00\\x00\\x00\\x05\\x00\\xfa\\x00\\x00\\x00\\x00\\x00\\x00\\x01\\x0f\\x00\\x08\\x02\\x10\\x00Y\\x00\\x00\\x00\\x05\\x00\\xfa\\x00\\x00\\x00\\x00\\x00\\x00\\x01\\x0f\\x00\\x08\\x02\\x10\\x00Z\\x00\\x00\\x00\\x05\\x00\\xfa\\x00\\x00\\x00\\x00\\x00\\x00\\x01\\x0f\\x00\\x08\\x02\\x10\\x00[\\x00\\x00\\x00\\x05\\x00\\xfa\\x00\\x00\\x00\\x00\\x00\\x00\\x01\\x0f\\x00\\x08\\x02\\x10\\x00\\\\\\x00\\x00\\x00\\x05\\x00\\xfa\\x00\\x00\\x00\\x00\\x00\\x00\\x01\\x0f\\x00\\x08\\x02\\x10\\x00]\\x00\\x00\\x00\\x05\\x00\\xfa\\x00\\x00\\x00\\x00\\x00\\x00\\x01\\x0f\\x00\\x08\\x02\\x10\\x00^\\x00\\x00\\x00\\x05\\x00\\xfa\\x00\\x00\\x00\\x00\\x00\\x00\\x01\\x0f\\x00\\x08\\x02\\x10\\x00_\\x00\\x00\\x00\\x05\\x00\\xfa\\x00\\x00\\x00\\x00\\x00\\x00\\x01\\x0f\\x00\\xbd\\x00\\x1e\\x00@\\x00\\x00\\x00\\x0f\\x00\\x01\\x10\\x83@\\x0f\\x00\\x01 r@\\x0f\\x00\\x01`}@\\x0f\\x00\\x01\\x80a@\\x03\\x00\\xfd\\x00\\n\\x00@\\x00\\x04\\x00\\x0f\\x00\\x05\\x00\\x00\\x00\\xbd\\x00\\x1e\\x00A\\x00\\x00\\x00\\x0f\\x00\\x01\\x80\\x81@\\x0f\\x00\\x01 r@\\x0f\\x00\\x01\\x80v@\\x0f\\x00\\x01@`@\\x03\\x00\\xfd\\x00\\n\\x00A\\x00\\x04\\x00\\x0f\\x00\\x05\\x00\\x00\\x00\\xbd\\x00\\x12\\x00B\\x00\\x00\\x00\\x0f\\x00\\x01\\xf0\\x84@\\x0f\\x00\\x01`s@\\x01\\x00\\x03\\x02\\x0e\\x00B\\x00\\x02\\x00\\x0f\\x00\\x9a\\x99\\x99\\x99\\x99\\x99\\x11@~\\x02\\n\\x00B\\x00\\x03\\x00\\x0f\\x00\\x01\\x80a@\\xfd\\x00\\n\\x00B\\x00\\x04\\x00\\x0f\\x00\\x05\\x00\\x00\\x00\\xbd\\x00\\x1e\\x00C\\x00\\x00\\x00\\x0f\\x00\\x01\\x80\\x81@\\x0f\\x00\\x00\\x00\\x08@\\x0f\\x00\\x00\\x00\\x12@\\x0f\\x00\\x00\\x00\\xf8?\\x03\\x00\\xfd\\x00\\n\\x00C\\x00\\x04\\x00\\x0f\\x00\\x05\\x00\\x00\\x00\\xbd\\x00\\x12\\x00D\\x00\\x00\\x00\\x0f\\x00\\x01 \\x82@\\x0f\\x00\\x01\\xe0p@\\x01\\x00\\x03\\x02\\x0e\\x00D\\x00\\x02\\x00\\x0f\\x00ffffff\\x10@~\\x02\\n\\x00D\\x00\\x03\\x00\\x0f\\x00\\x00\\x00\\xf0?\\xfd\\x00\\n\\x00D\\x00\\x04\\x00\\x0f\\x00\\x05\\x00\\x00\\x00~\\x02\\n\\x00E\\x00\\x00\\x00\\x0f\\x00\\x01`\\x83@\\x03\\x02\\x0e\\x00E\\x00\\x01\\x00\\x0f\\x00\\x9a\\x99\\x99\\x99\\x99\\x99\\x01@\\xbd\\x00\\x12\\x00E\\x00\\x02\\x00\\x0f\\x00\\x00\\x00\\x12@\\x0f\\x00\\x00\\x00\\xf8?\\x03\\x00\\xfd\\x00\\n\\x00E\\x00\\x04\\x00\\x0f\\x00\\x05\\x00\\x00\\x00\\xbd\\x00\\x18\\x00F\\x00\\x00\\x00\\x0f\\x00\\x01\\x80\\x81@\\x0f\\x00\\x00\\x00\\x04@\\x0f\\x00\\x01`x@\\x02\\x00\\x03\\x02\\x0e\\x00F\\x00\\x03\\x00\\x0f\\x00\\x9a\\x99\\x99\\x99\\x99\\x99\\xf1?\\xfd\\x00\\n\\x00F\\x00\\x04\\x00\\x0f\\x00\\x05\\x00\\x00\\x00\\xbd\\x00\\x1e\\x00G\\x00\\x00\\x00\\x0f\\x00\\x01p\\x82@\\x0f\\x00\\x01\\x00t@\\x0f\\x00\\x01\\x00~@\\x0f\\x00\\x01\\x80f@\\x03\\x00\\xfd\\x00\\n\\x00G\\x00\\x04\\x00\\x0f\\x00\\x05\\x00\\x00\\x00\\xbd\\x00\\x1e\\x00H\\x00\\x00\\x00\\x0f\\x00\\x01\\x10\\x83@\\x0f\\x00\\x01\\x80q@\\x0f\\x00\\x00\\x00\\x10@\\x0f\\x00\\x01@`@\\x03\\x00\\xfd\\x00\\n\\x00H\\x00\\x04\\x00\\x0f\\x00\\x05\\x00\\x00\\x00~\\x02\\n\\x00I\\x00\\x00\\x00\\x0f\\x00\\x01\\xb0\\x83@\\x03\\x02\\x0e\\x00I\\x00\\x02\\x00\\x0f\\x00\\x9a\\x99\\x99\\x99\\x99\\x99\\x13@~\\x02\\n\\x00I\\x00\\x03\\x00\\x0f\\x00\\x00\\x00\\xf8?\\xfd\\x00\\n\\x00I\\x00\\x04\\x00\\x0f\\x00\\x05\\x00\\x00\\x00\\xbd\\x00\\x1e\\x00J\\x00\\x00\\x00\\x0f\\x00\\x01\\x10\\x83@\\x0f\\x00\\x01\\x80q@\\x0f\\x00\\x01`}@\\x0f\\x00\\x01\\x00^@\\x03\\x00\\xfd\\x00\\n\\x00J\\x00\\x04\\x00\\x0f\\x00\\x05\\x00\\x00\\x00\\xbd\\x00\\x1e\\x00K\\x00\\x00\\x00\\x0f\\x00\\x01\\x00\\x84@\\x0f\\x00\\x01 r@\\x0f\\x00\\x01\\xe0z@\\x0f\\x00\\x01@`@\\x03\\x00\\xfd\\x00\\n\\x00K\\x00\\x04\\x00\\x0f\\x00\\x05\\x00\\x00\\x00\\xbd\\x00\\x12\\x00L\\x00\\x00\\x00\\x0f\\x00\\x01\\xa0\\x84@\\x0f\\x00\\x00\\x00\\x08@\\x01\\x00\\x03\\x02\\x0e\\x00L\\x00\\x02\\x00\\x0f\\x00\\x9a\\x99\\x99\\x99\\x99\\x99\\x11@~\\x02\\n\\x00L\\x00\\x03\\x00\\x0f\\x00\\x01\\x80a@\\xfd\\x00\\n\\x00L\\x00\\x04\\x00\\x0f\\x00\\x05\\x00\\x00\\x00\\xbd\\x00\\x1e\\x00M\\x00\\x00\\x00\\x0f\\x00\\x01@\\x85@\\x0f\\x00\\x01\\x80q@\\x0f\\x00\\x01\\x00~@\\x0f\\x00\\x01\\x80a@\\x03\\x00\\xfd\\x00\\n\\x00M\\x00\\x04\\x00\\x0f\\x00\\x05\\x00\\x00\\x00\\xbd\\x00\\x1e\\x00N\\x00\\x00\\x00\\x0f\\x00\\x01\\xf0\\x84@\\x0f\\x00\\x00\\x00\\x08@\\x0f\\x00\\x00\\x00\\x14@\\x0f\\x00\\x01@e@\\x03\\x00\\xfd\\x00\\n\\x00N\\x00\\x04\\x00\\x0f\\x00\\x05\\x00\\x00\\x00\\xbd\\x00\\x1e\\x00O\\x00\\x00\\x00\\x0f\\x00\\x00\\x00\\x18@\\x0f\\x00\\x01 r@\\x0f\\x00\\x00\\x00\\x12@\\x0f\\x00\\x00\\x00\\xf8?\\x03\\x00\\xfd\\x00\\n\\x00O\\x00\\x04\\x00\\x0f\\x00\\x05\\x00\\x00\\x00\\xbd\\x00\\x1e\\x00P\\x00\\x00\\x00\\x0f\\x00\\x01\\xd0\\x81@\\x0f\\x00\\x01@p@\\x0f\\x00\\x00\\x00\\x0c@\\x0f\\x00\\x00\\x00\\xf0?\\x03\\x00\\xfd\\x00\\n\\x00P\\x00\\x04\\x00\\x0f\\x00\\x05\\x00\\x00\\x00\\xbd\\x00\\x18\\x00Q\\x00\\x00\\x00\\x0f\\x00\\x00\\x00\\x16@\\x0f\\x00\\x01\\x00n@\\x0f\\x00\\x01\\xc0w@\\x02\\x00\\x03\\x02\\x0e\\x00Q\\x00\\x03\\x00\\x0f\\x00\\x9a\\x99\\x99\\x99\\x99\\x99\\xf1?\\xfd\\x00\\n\\x00Q\\x00\\x04\\x00\\x0f\\x00\\x05\\x00\\x00\\x00\\xbd\\x00\\x1e\\x00R\\x00\\x00\\x00\\x0f\\x00\\x00\\x00\\x16@\\x0f\\x00\\x01\\x00n@\\x0f\\x00\\x01 w@\\x0f\\x00\\x00\\x00\\xf0?\\x03\\x00\\xfd\\x00\\n\\x00R\\x00\\x04\\x00\\x0f\\x00\\x05\\x00\\x00\\x00\\xbd\\x00\\x1e\\x00S\\x00\\x00\\x00\\x0f\\x00\\x01 \\x82@\\x0f\\x00\\x01\\xe0p@\\x0f\\x00\\x01`x@\\x0f\\x00\\x01\\x00^@\\x03\\x00\\xfd\\x00\\n\\x00S\\x00\\x04\\x00\\x0f\\x00\\x05\\x00\\x00\\x00\\xbd\\x00\\x12\\x00T\\x00\\x00\\x00\\x0f\\x00\\x00\\x00\\x18@\\x0f\\x00\\x01\\xe0p@\\x01\\x00\\x03\\x02\\x0e\\x00T\\x00\\x02\\x00\\x0f\\x00ffffff\\x14@~\\x02\\n\\x00T\\x00\\x03\\x00\\x0f\\x00\\x01\\x00d@\\xfd\\x00\\n\\x00T\\x00\\x04\\x00\\x0f\\x00\\x05\\x00\\x00\\x00\\xbd\\x00\\x1e\\x00U\\x00\\x00\\x00\\x0f\\x00\\x01\\xe0\\x80@\\x0f\\x00\\x00\\x00\\x08@\\x0f\\x00\\x00\\x00\\x12@\\x0f\\x00\\x00\\x00\\xf8?\\x03\\x00\\xfd\\x00\\n\\x00U\\x00\\x04\\x00\\x0f\\x00\\x05\\x00\\x00\\x00\\xbd\\x00\\x18\\x00V\\x00\\x01\\x00\\x0f\\x00\\x01@u@\\x0f\\x00\\x00\\x00\\x12@\\x0f\\x00\\x01\\x00d@\\x03\\x00\\xfd\\x00\\n\\x00V\\x00\\x04\\x00\\x0f\\x00\\x05\\x00\\x00\\x00\\xbd\\x00\\x1e\\x00W\\x00\\x00\\x00\\x0f\\x00\\x01\\xf0\\x84@\\x0f\\x00\\x01`s@\\x0f\\x00\\x01`}@\\x0f\\x00\\x00\\x00\\xf8?\\x03\\x00\\xfd\\x00\\n\\x00W\\x00\\x04\\x00\\x0f\\x00\\x05\\x00\\x00\\x00~\\x02\\n\\x00X\\x00\\x00\\x00\\x0f\\x00\\x01\\xb0\\x83@\\x03\\x02\\x0e\\x00X\\x00\\x01\\x00\\x0f\\x00ffffff\\x02@\\x03\\x02\\x0e\\x00X\\x00\\x02\\x00\\x0f\\x00\\x9a\\x99\\x99\\x99\\x99\\x99\\x11@~\\x02\\n\\x00X\\x00\\x03\\x00\\x0f\\x00\\x01@`@\\xfd\\x00\\n\\x00X\\x00\\x04\\x00\\x0f\\x00\\x05\\x00\\x00\\x00\\xbd\\x00\\x12\\x00Y\\x00\\x00\\x00\\x0f\\x00\\x01\\x80\\x81@\\x0f\\x00\\x00\\x00\\x08@\\x01\\x00\\x03\\x02\\x0e\\x00Y\\x00\\x02\\x00\\x0f\\x00ffffff\\x10@~\\x02\\n\\x00Y\\x00\\x03\\x00\\x0f\\x00\\x01@`@\\xfd\\x00\\n\\x00Y\\x00\\x04\\x00\\x0f\\x00\\x05\\x00\\x00\\x00\\xbd\\x00\\x1e\\x00Z\\x00\\x00\\x00\\x0f\\x00\\x00\\x00\\x16@\\x0f\\x00\\x00\\x00\\x04@\\x0f\\x00\\x00\\x00\\x10@\\x0f\\x00\\x01@`@\\x03\\x00\\xfd\\x00\\n\\x00Z\\x00\\x04\\x00\\x0f\\x00\\x05\\x00\\x00\\x00\\xbd\\x00\\x12\\x00[\\x00\\x00\\x00\\x0f\\x00\\x00\\x00\\x16@\\x0f\\x00\\x01@p@\\x01\\x00\\x03\\x02\\x0e\\x00[\\x00\\x02\\x00\\x0f\\x00\\x9a\\x99\\x99\\x99\\x99\\x99\\x11@~\\x02\\n\\x00[\\x00\\x03\\x00\\x0f\\x00\\x01\\x00^@\\xfd\\x00\\n\\x00[\\x00\\x04\\x00\\x0f\\x00\\x05\\x00\\x00\\x00\\xbd\\x00\\x12\\x00\\\\\\x00\\x00\\x00\\x0f\\x00\\x01\\x10\\x83@\\x0f\\x00\\x00\\x00\\x08@\\x01\\x00\\x03\\x02\\x0e\\x00\\\\\\x00\\x02\\x00\\x0f\\x00ffffff\\x12@~\\x02\\n\\x00\\\\\\x00\\x03\\x00\\x0f\\x00\\x01\\x80a@\\xfd\\x00\\n\\x00\\\\\\x00\\x04\\x00\\x0f\\x00\\x05\\x00\\x00\\x00\\xbd\\x00\\x1e\\x00]\\x00\\x00\\x00\\x0f\\x00\\x01 \\x82@\\x0f\\x00\\x01@p@\\x0f\\x00\\x00\\x00\\x10@\\x0f\\x00\\x01\\x00^@\\x03\\x00\\xfd\\x00\\n\\x00]\\x00\\x04\\x00\\x0f\\x00\\x05\\x00\\x00\\x00~\\x02\\n\\x00^\\x00\\x00\\x00\\x0f\\x00\\x00\\x00\\x14@\\x03\\x02\\x0e\\x00^\\x00\\x01\\x00\\x0f\\x00ffffff\\x02@\\xbd\\x00\\x12\\x00^\\x00\\x02\\x00\\x0f\\x00\\x01\\xa0t@\\x0f\\x00\\x00\\x00\\xf0?\\x03\\x00\\xfd\\x00\\n\\x00^\\x00\\x04\\x00\\x0f\\x00\\x05\\x00\\x00\\x00\\xbd\\x00\\x12\\x00_\\x00\\x00\\x00\\x0f\\x00\\x01\\x80\\x81@\\x0f\\x00\\x01\\xe0p@\\x01\\x00~\\x02\\n\\x00_\\x00\\x03\\x00\\x0f\\x00\\x01@`@\\xfd\\x00\\n\\x00_\\x00\\x04\\x00\\x0f\\x00\\x05\\x00\\x00\\x00\\xd7\\x00D\\x00r\\t\\x00\\x00l\\x020\\x000\\x00D\\x000\\x00D\\x00D\\x00<\\x000\\x000\\x00<\\x000\\x000\\x00D\\x000\\x000\\x000\\x000\\x00<\\x000\\x000\\x00D\\x000\\x00*\\x000\\x00N\\x00D\\x000\\x00D\\x00D\\x000\\x00D\\x00\\x08\\x02\\x10\\x00`\\x00\\x00\\x00\\x05\\x00\\xfa\\x00\\x00\\x00\\x00\\x00\\x00\\x01\\x0f\\x00\\x08\\x02\\x10\\x00a\\x00\\x00\\x00\\x05\\x00\\xfa\\x00\\x00\\x00\\x00\\x00\\x00\\x01\\x0f\\x00\\x08\\x02\\x10\\x00b\\x00\\x00\\x00\\x05\\x00\\xfa\\x00\\x00\\x00\\x00\\x00\\x00\\x01\\x0f\\x00\\x08\\x02\\x10\\x00c\\x00\\x00\\x00\\x05\\x00\\xfa\\x00\\x00\\x00\\x00\\x00\\x00\\x01\\x0f\\x00\\x08\\x02\\x10\\x00d\\x00\\x00\\x00\\x05\\x00\\xfa\\x00\\x00\\x00\\x00\\x00\\x00\\x01\\x0f\\x00\\x08\\x02\\x10\\x00e\\x00\\x00\\x00\\x05\\x00\\xfa\\x00\\x00\\x00\\x00\\x00\\x00\\x01\\x0f\\x00\\x08\\x02\\x10\\x00f\\x00\\x00\\x00\\x05\\x00\\xfa\\x00\\x00\\x00\\x00\\x00\\x00\\x01\\x0f\\x00\\x08\\x02\\x10\\x00g\\x00\\x00\\x00\\x05\\x00\\xfa\\x00\\x00\\x00\\x00\\x00\\x00\\x01\\x0f\\x00\\x08\\x02\\x10\\x00h\\x00\\x00\\x00\\x05\\x00\\xfa\\x00\\x00\\x00\\x00\\x00\\x00\\x01\\x0f\\x00\\x08\\x02\\x10\\x00i\\x00\\x00\\x00\\x05\\x00\\xfa\\x00\\x00\\x00\\x00\\x00\\x00\\x01\\x0f\\x00\\x08\\x02\\x10\\x00j\\x00\\x00\\x00\\x05\\x00\\xfa\\x00\\x00\\x00\\x00\\x00\\x00\\x01\\x0f\\x00\\x08\\x02\\x10\\x00k\\x00\\x00\\x00\\x05\\x00\\xfa\\x00\\x00\\x00\\x00\\x00\\x00\\x01\\x0f\\x00\\x08\\x02\\x10\\x00l\\x00\\x00\\x00\\x05\\x00\\xfa\\x00\\x00\\x00\\x00\\x00\\x00\\x01\\x0f\\x00\\x08\\x02\\x10\\x00m\\x00\\x00\\x00\\x05\\x00\\xfa\\x00\\x00\\x00\\x00\\x00\\x00\\x01\\x0f\\x00\\x08\\x02\\x10\\x00n\\x00\\x00\\x00\\x05\\x00\\xfa\\x00\\x00\\x00\\x00\\x00\\x00\\x01\\x0f\\x00\\x08\\x02\\x10\\x00o\\x00\\x00\\x00\\x05\\x00\\xfa\\x00\\x00\\x00\\x00\\x00\\x00\\x01\\x0f\\x00\\x08\\x02\\x10\\x00p\\x00\\x00\\x00\\x05\\x00\\xfa\\x00\\x00\\x00\\x00\\x00\\x00\\x01\\x0f\\x00\\x08\\x02\\x10\\x00q\\x00\\x00\\x00\\x05\\x00\\xfa\\x00\\x00\\x00\\x00\\x00\\x00\\x01\\x0f\\x00\\x08\\x02\\x10\\x00r\\x00\\x00\\x00\\x05\\x00\\xfa\\x00\\x00\\x00\\x00\\x00\\x00\\x01\\x0f\\x00\\x08\\x02\\x10\\x00s\\x00\\x00\\x00\\x05\\x00\\xfa\\x00\\x00\\x00\\x00\\x00\\x00\\x01\\x0f\\x00\\x08\\x02\\x10\\x00t\\x00\\x00\\x00\\x05\\x00\\xfa\\x00\\x00\\x00\\x00\\x00\\x00\\x01\\x0f\\x00\\x08\\x02\\x10\\x00u\\x00\\x00\\x00\\x05\\x00\\xfa\\x00\\x00\\x00\\x00\\x00\\x00\\x01\\x0f\\x00\\x08\\x02\\x10\\x00v\\x00\\x00\\x00\\x05\\x00\\xfa\\x00\\x00\\x00\\x00\\x00\\x00\\x01\\x0f\\x00\\x08\\x02\\x10\\x00w\\x00\\x00\\x00\\x05\\x00\\xfa\\x00\\x00\\x00\\x00\\x00\\x00\\x01\\x0f\\x00\\x08\\x02\\x10\\x00x\\x00\\x00\\x00\\x05\\x00\\xfa\\x00\\x00\\x00\\x00\\x00\\x00\\x01\\x0f\\x00\\x08\\x02\\x10\\x00y\\x00\\x00\\x00\\x05\\x00\\xfa\\x00\\x00\\x00\\x00\\x00\\x00\\x01\\x0f\\x00\\x08\\x02\\x10\\x00z\\x00\\x00\\x00\\x05\\x00\\xfa\\x00\\x00\\x00\\x00\\x00\\x00\\x01\\x0f\\x00\\x08\\x02\\x10\\x00{\\x00\\x00\\x00\\x05\\x00\\xfa\\x00\\x00\\x00\\x00\\x00\\x00\\x01\\x0f\\x00\\x08\\x02\\x10\\x00|\\x00\\x00\\x00\\x05\\x00\\xfa\\x00\\x00\\x00\\x00\\x00\\x00\\x01\\x0f\\x00\\x08\\x02\\x10\\x00}\\x00\\x00\\x00\\x05\\x00\\xfa\\x00\\x00\\x00\\x00\\x00\\x00\\x01\\x0f\\x00\\x08\\x02\\x10\\x00~\\x00\\x00\\x00\\x05\\x00\\xfa\\x00\\x00\\x00\\x00\\x00\\x00\\x01\\x0f\\x00\\x08\\x02\\x10\\x00\\x7f\\x00\\x00\\x00\\x05\\x00\\xfa\\x00\\x00\\x00\\x00\\x00\\x00\\x01\\x0f\\x00\\xbd\\x00\\x1e\\x00`\\x00\\x00\\x00\\x0f\\x00\\x01\\xd0\\x81@\\x0f\\x00\\x00\\x00\\x08@\\x0f\\x00\\x01@z@\\x0f\\x00\\x01\\x00^@\\x03\\x00\\xfd\\x00\\n\\x00`\\x00\\x04\\x00\\x0f\\x00\\x05\\x00\\x00\\x00\\xbd\\x00\\x1e\\x00a\\x00\\x00\\x00\\x0f\\x00\\x01\\xd0\\x81@\\x0f\\x00\\x01 r@\\x0f\\x00\\x01@z@\\x0f\\x00\\x01@`@\\x03\\x00\\xfd\\x00\\n\\x00a\\x00\\x04\\x00\\x0f\\x00\\x05\\x00\\x00\\x00\\xbd\\x00\\x1e\\x00b\\x00\\x00\\x00\\x0f\\x00\\x01`\\x83@\\x0f\\x00\\x01 r@\\x0f\\x00\\x01\\xe0z@\\x0f\\x00\\x01@`@\\x03\\x00\\xfd\\x00\\n\\x00b\\x00\\x04\\x00\\x0f\\x00\\x05\\x00\\x00\\x00\\x03\\x02\\x0e\\x00c\\x00\\x00\\x00\\x0f\\x00ffffff\\x14@~\\x02\\n\\x00c\\x00\\x02\\x00\\x0f\\x00\\x00\\x00\\x08@\\x03\\x02\\x0e\\x00c\\x00\\x03\\x00\\x0f\\x00\\x9a\\x99\\x99\\x99\\x99\\x99\\xf1?\\xfd\\x00\\n\\x00c\\x00\\x04\\x00\\x0f\\x00\\x05\\x00\\x00\\x00\\xbd\\x00\\x12\\x00d\\x00\\x00\\x00\\x0f\\x00\\x01\\xd0\\x81@\\x0f\\x00\\x01\\x80q@\\x01\\x00\\x03\\x02\\x0e\\x00d\\x00\\x02\\x00\\x0f\\x00ffffff\\x10@~\\x02\\n\\x00d\\x00\\x03\\x00\\x0f\\x00\\x01@`@\\xfd\\x00\\n\\x00d\\x00\\x04\\x00\\x0f\\x00\\x05\\x00\\x00\\x00\\xbd\\x00\\x1e\\x00e\\x00\\x00\\x00\\x0f\\x00\\x01\\xb0\\x83@\\x0f\\x00\\x01\\xa0t@\\x0f\\x00\\x00\\x00\\x18@\\x0f\\x00\\x00\\x00\\x04@\\x03\\x00\\xfd\\x00\\n\\x00e\\x00\\x04\\x00\\x0f\\x00\\x06\\x00\\x00\\x00\\xbd\\x00\\x12\\x00f\\x00\\x00\\x00\\x0f\\x00\\x01 \\x82@\\x0f\\x00\\x01\\xe0p@\\x01\\x00\\x03\\x02\\x0e\\x00f\\x00\\x02\\x00\\x0f\\x00ffffff\\x14@~\\x02\\n\\x00f\\x00\\x03\\x00\\x0f\\x00\\x01\\xc0g@\\xfd\\x00\\n\\x00f\\x00\\x04\\x00\\x0f\\x00\\x06\\x00\\x00\\x00\\xbd\\x00\\x1e\\x00g\\x00\\x00\\x00\\x0f\\x00\\x010\\x86@\\x0f\\x00\\x00\\x00\\x08@\\x0f\\x00\\x01p\\x82@\\x0f\\x00\\x01@j@\\x03\\x00\\xfd\\x00\\n\\x00g\\x00\\x04\\x00\\x0f\\x00\\x06\\x00\\x00\\x00\\xbd\\x00\\x1e\\x00h\\x00\\x00\\x00\\x0f\\x00\\x01\\xb0\\x83@\\x0f\\x00\\x01 r@\\x0f\\x00\\x01\\x80\\x81@\\x0f\\x00\\x01\\x80f@\\x03\\x00\\xfd\\x00\\n\\x00h\\x00\\x04\\x00\\x0f\\x00\\x06\\x00\\x00\\x00\\xbd\\x00\\x18\\x00i\\x00\\x00\\x00\\x0f\\x00\\x00\\x00\\x1a@\\x0f\\x00\\x00\\x00\\x08@\\x0f\\x00\\x01 \\x82@\\x02\\x00\\x03\\x02\\x0e\\x00i\\x00\\x03\\x00\\x0f\\x00\\x9a\\x99\\x99\\x99\\x99\\x99\\x01@\\xfd\\x00\\n\\x00i\\x00\\x04\\x00\\x0f\\x00\\x06\\x00\\x00\\x00\\xbd\\x00\\x1e\\x00j\\x00\\x00\\x00\\x0f\\x00\\x01\\xc0\\x87@\\x0f\\x00\\x00\\x00\\x08@\\x0f\\x00\\x01\\xa0\\x84@\\x0f\\x00\\x01@j@\\x03\\x00\\xfd\\x00\\n\\x00j\\x00\\x04\\x00\\x0f\\x00\\x06\\x00\\x00\\x00\\xbd\\x00\\x18\\x00k\\x00\\x01\\x00\\x0f\\x00\\x00\\x00\\x04@\\x0f\\x00\\x00\\x00\\x12@\\x0f\\x00\\x01@e@\\x03\\x00\\xfd\\x00\\n\\x00k\\x00\\x04\\x00\\x0f\\x00\\x06\\x00\\x00\\x00\\xbd\\x00\\x1e\\x00l\\x00\\x00\\x00\\x0f\\x00\\x01\\xd0\\x86@\\x0f\\x00\\x01 r@\\x0f\\x00\\x01\\xb0\\x83@\\x0f\\x00\\x01\\x80f@\\x03\\x00\\xfd\\x00\\n\\x00l\\x00\\x04\\x00\\x0f\\x00\\x06\\x00\\x00\\x00\\xbd\\x00\\x1e\\x00m\\x00\\x00\\x00\\x0f\\x00\\x01\\xf0\\x84@\\x0f\\x00\\x00\\x00\\x04@\\x0f\\x00\\x01 \\x82@\\x0f\\x00\\x01\\x80f@\\x03\\x00\\xfd\\x00\\n\\x00m\\x00\\x04\\x00\\x0f\\x00\\x06\\x00\\x00\\x00\\xbd\\x00\\x12\\x00n\\x00\\x00\\x00\\x0f\\x00\\x01\\x80\\x86@\\x0f\\x00\\x01\\x80v@\\x01\\x00~\\x02\\n\\x00n\\x00\\x03\\x00\\x0f\\x00\\x00\\x00\\x04@\\xfd\\x00\\n\\x00n\\x00\\x04\\x00\\x0f\\x00\\x06\\x00\\x00\\x00\\xbd\\x00\\x12\\x00o\\x00\\x00\\x00\\x0f\\x00\\x00\\x00\\x1a@\\x0f\\x00\\x01\\x00t@\\x01\\x00\\x03\\x02\\x0e\\x00o\\x00\\x02\\x00\\x0f\\x00ffffff\\x14@~\\x02\\n\\x00o\\x00\\x03\\x00\\x0f\\x00\\x00\\x00\\x00@\\xfd\\x00\\n\\x00o\\x00\\x04\\x00\\x0f\\x00\\x06\\x00\\x00\\x00\\xbd\\x00\\x1e\\x00p\\x00\\x00\\x00\\x0f\\x00\\x01\\x00\\x84@\\x0f\\x00\\x01\\xe0p@\\x0f\\x00\\x01\\x90\\x80@\\x0f\\x00\\x01\\xc0g@\\x03\\x00\\xfd\\x00\\n\\x00p\\x00\\x04\\x00\\x0f\\x00\\x06\\x00\\x00\\x00\\xbd\\x00\\x1e\\x00q\\x00\\x00\\x00\\x0f\\x00\\x01@\\x85@\\x0f\\x00\\x00\\x00\\x08@\\x0f\\x00\\x00\\x00\\x16@\\x0f\\x00\\x01@j@\\x03\\x00\\xfd\\x00\\n\\x00q\\x00\\x04\\x00\\x0f\\x00\\x06\\x00\\x00\\x00\\xbd\\x00\\x1e\\x00r\\x00\\x00\\x00\\x0f\\x00\\x01\\xd0\\x81@\\x0f\\x00\\x00\\x00\\x04@\\x0f\\x00\\x00\\x00\\x14@\\x0f\\x00\\x00\\x00\\x00@\\x03\\x00\\xfd\\x00\\n\\x00r\\x00\\x04\\x00\\x0f\\x00\\x06\\x00\\x00\\x00\\xbd\\x00\\x12\\x00s\\x00\\x00\\x00\\x0f\\x00\\x01 \\x82@\\x0f\\x00\\x01\\x80q@\\x01\\x00\\x03\\x02\\x0e\\x00s\\x00\\x02\\x00\\x0f\\x00ffffff\\x14@~\\x02\\n\\x00s\\x00\\x03\\x00\\x0f\\x00\\x01\\x00n@\\xfd\\x00\\n\\x00s\\x00\\x04\\x00\\x0f\\x00\\x06\\x00\\x00\\x00\\xbd\\x00\\x18\\x00t\\x00\\x00\\x00\\x0f\\x00\\x01\\x00\\x84@\\x0f\\x00\\x01\\x00t@\\x0f\\x00\\x01\\x90\\x80@\\x02\\x00\\x03\\x02\\x0e\\x00t\\x00\\x03\\x00\\x0f\\x00ffffff\\x02@\\xfd\\x00\\n\\x00t\\x00\\x04\\x00\\x0f\\x00\\x06\\x00\\x00\\x00\\xbd\\x00\\x1e\\x00u\\x00\\x00\\x00\\x0f\\x00\\x00\\x00\\x1a@\\x0f\\x00\\x00\\x00\\x08@\\x0f\\x00\\x00\\x00\\x16@\\x0f\\x00\\x01\\x80f@\\x03\\x00\\xfd\\x00\\n\\x00u\\x00\\x04\\x00\\x0f\\x00\\x06\\x00\\x00\\x00\\xbd\\x00\\x18\\x00v\\x00\\x00\\x00\\x0f\\x00\\x01\\x10\\x88@\\x0f\\x00\\x01\\xc0w@\\x0f\\x00\\x01\\xf0\\x84@\\x02\\x00\\x03\\x02\\x0e\\x00v\\x00\\x03\\x00\\x0f\\x00\\x9a\\x99\\x99\\x99\\x99\\x99\\x01@\\xfd\\x00\\n\\x00v\\x00\\x04\\x00\\x0f\\x00\\x06\\x00\\x00\\x00\\xbd\\x00\\x18\\x00w\\x00\\x00\\x00\\x0f\\x00\\x01\\x10\\x88@\\x0f\\x00\\x01@p@\\x0f\\x00\\x01\\x90\\x85@\\x02\\x00\\x03\\x02\\x0e\\x00w\\x00\\x03\\x00\\x0f\\x00ffffff\\x02@\\xfd\\x00\\n\\x00w\\x00\\x04\\x00\\x0f\\x00\\x06\\x00\\x00\\x00~\\x02\\n\\x00x\\x00\\x00\\x00\\x0f\\x00\\x00\\x00\\x18@\\x03\\x02\\x0e\\x00x\\x00\\x01\\x00\\x0f\\x00\\x9a\\x99\\x99\\x99\\x99\\x99\\x01@\\xbd\\x00\\x12\\x00x\\x00\\x02\\x00\\x0f\\x00\\x00\\x00\\x14@\\x0f\\x00\\x00\\x00\\xf8?\\x03\\x00\\xfd\\x00\\n\\x00x\\x00\\x04\\x00\\x0f\\x00\\x06\\x00\\x00\\x00\\xbd\\x00\\x18\\x00y\\x00\\x00\\x00\\x0f\\x00\\x01\\x90\\x85@\\x0f\\x00\\x01\\x00t@\\x0f\\x00\\x01\\xd0\\x81@\\x02\\x00\\x03\\x02\\x0e\\x00y\\x00\\x03\\x00\\x0f\\x00ffffff\\x02@\\xfd\\x00\\n\\x00y\\x00\\x04\\x00\\x0f\\x00\\x06\\x00\\x00\\x00\\xbd\\x00\\x12\\x00z\\x00\\x00\\x00\\x0f\\x00\\x01\\x80\\x81@\\x0f\\x00\\x01\\x80q@\\x01\\x00\\x03\\x02\\x0e\\x00z\\x00\\x02\\x00\\x0f\\x00\\x9a\\x99\\x99\\x99\\x99\\x99\\x13@~\\x02\\n\\x00z\\x00\\x03\\x00\\x0f\\x00\\x00\\x00\\x00@\\xfd\\x00\\n\\x00z\\x00\\x04\\x00\\x0f\\x00\\x06\\x00\\x00\\x00\\xbd\\x00\\x1e\\x00{\\x00\\x00\\x00\\x0f\\x00\\x01\\x10\\x88@\\x0f\\x00\\x01\\x80q@\\x0f\\x00\\x01\\xf0\\x84@\\x0f\\x00\\x00\\x00\\x00@\\x03\\x00\\xfd\\x00\\n\\x00{\\x00\\x04\\x00\\x0f\\x00\\x06\\x00\\x00\\x00\\xbd\\x00\\x12\\x00|\\x00\\x00\\x00\\x0f\\x00\\x01\\xb0\\x83@\\x0f\\x00\\x01\\xe0p@\\x01\\x00\\x03\\x02\\x0e\\x00|\\x00\\x02\\x00\\x0f\\x00\\x9a\\x99\\x99\\x99\\x99\\x99\\x13@~\\x02\\n\\x00|\\x00\\x03\\x00\\x0f\\x00\\x01\\x80f@\\xfd\\x00\\n\\x00|\\x00\\x04\\x00\\x0f\\x00\\x06\\x00\\x00\\x00~\\x02\\n\\x00}\\x00\\x00\\x00\\x0f\\x00\\x01\\xf0\\x84@\\xbd\\x00\\x12\\x00}\\x00\\x02\\x00\\x0f\\x00\\x01\\xd0\\x81@\\x0f\\x00\\x01@j@\\x03\\x00\\xfd\\x00\\n\\x00}\\x00\\x04\\x00\\x0f\\x00\\x06\\x00\\x00\\x00\\xbd\\x00\\x1e\\x00~\\x00\\x00\\x00\\x0f\\x00\\x01\\x80\\x86@\\x0f\\x00\\x01\\x00t@\\x0f\\x00\\x00\\x00\\x18@\\x0f\\x00\\x01\\x80f@\\x03\\x00\\xfd\\x00\\n\\x00~\\x00\\x04\\x00\\x0f\\x00\\x06\\x00\\x00\\x00\\xbd\\x00\\x1e\\x00\\x7f\\x00\\x00\\x00\\x0f\\x00\\x01`\\x83@\\x0f\\x00\\x01\\x80q@\\x0f\\x00\\x01\\x00~@\\x0f\\x00\\x01\\x80f@\\x03\\x00\\xfd\\x00\\n\\x00\\x7f\\x00\\x04\\x00\\x0f\\x00\\x06\\x00\\x00\\x00\\xd7\\x00D\\x00V\\t\\x00\\x00l\\x020\\x000\\x000\\x00@\\x00D\\x000\\x00D\\x000\\x000\\x00<\\x000\\x00*\\x000\\x000\\x002\\x00D\\x000\\x000\\x000\\x00D\\x00<\\x000\\x00<\\x00<\\x00D\\x00<\\x00D\\x000\\x00D\\x002\\x000\\x00\\x08\\x02\\x10\\x00\\x80\\x00\\x00\\x00\\x05\\x00\\xfa\\x00\\x00\\x00\\x00\\x00\\x00\\x01\\x0f\\x00\\x08\\x02\\x10\\x00\\x81\\x00\\x00\\x00\\x05\\x00\\xfa\\x00\\x00\\x00\\x00\\x00\\x00\\x01\\x0f\\x00\\x08\\x02\\x10\\x00\\x82\\x00\\x00\\x00\\x05\\x00\\xfa\\x00\\x00\\x00\\x00\\x00\\x00\\x01\\x0f\\x00\\x08\\x02\\x10\\x00\\x83\\x00\\x00\\x00\\x05\\x00\\xfa\\x00\\x00\\x00\\x00\\x00\\x00\\x01\\x0f\\x00\\x08\\x02\\x10\\x00\\x84\\x00\\x00\\x00\\x05\\x00\\xfa\\x00\\x00\\x00\\x00\\x00\\x00\\x01\\x0f\\x00\\x08\\x02\\x10\\x00\\x85\\x00\\x00\\x00\\x05\\x00\\xfa\\x00\\x00\\x00\\x00\\x00\\x00\\x01\\x0f\\x00\\x08\\x02\\x10\\x00\\x86\\x00\\x00\\x00\\x05\\x00\\xfa\\x00\\x00\\x00\\x00\\x00\\x00\\x01\\x0f\\x00\\x08\\x02\\x10\\x00\\x87\\x00\\x00\\x00\\x05\\x00\\xfa\\x00\\x00\\x00\\x00\\x00\\x00\\x01\\x0f\\x00\\x08\\x02\\x10\\x00\\x88\\x00\\x00\\x00\\x05\\x00\\xfa\\x00\\x00\\x00\\x00\\x00\\x00\\x01\\x0f\\x00\\x08\\x02\\x10\\x00\\x89\\x00\\x00\\x00\\x05\\x00\\xfa\\x00\\x00\\x00\\x00\\x00\\x00\\x01\\x0f\\x00\\x08\\x02\\x10\\x00\\x8a\\x00\\x00\\x00\\x05\\x00\\xfa\\x00\\x00\\x00\\x00\\x00\\x00\\x01\\x0f\\x00\\x08\\x02\\x10\\x00\\x8b\\x00\\x00\\x00\\x05\\x00\\xfa\\x00\\x00\\x00\\x00\\x00\\x00\\x01\\x0f\\x00\\x08\\x02\\x10\\x00\\x8c\\x00\\x00\\x00\\x05\\x00\\xfa\\x00\\x00\\x00\\x00\\x00\\x00\\x01\\x0f\\x00\\x08\\x02\\x10\\x00\\x8d\\x00\\x00\\x00\\x05\\x00\\xfa\\x00\\x00\\x00\\x00\\x00\\x00\\x01\\x0f\\x00\\x08\\x02\\x10\\x00\\x8e\\x00\\x00\\x00\\x05\\x00\\xfa\\x00\\x00\\x00\\x00\\x00\\x00\\x01\\x0f\\x00\\x08\\x02\\x10\\x00\\x8f\\x00\\x00\\x00\\x05\\x00\\xfa\\x00\\x00\\x00\\x00\\x00\\x00\\x01\\x0f\\x00\\x08\\x02\\x10\\x00\\x90\\x00\\x00\\x00\\x05\\x00\\xfa\\x00\\x00\\x00\\x00\\x00\\x00\\x01\\x0f\\x00\\x08\\x02\\x10\\x00\\x91\\x00\\x00\\x00\\x05\\x00\\xfa\\x00\\x00\\x00\\x00\\x00\\x00\\x01\\x0f\\x00\\x08\\x02\\x10\\x00\\x92\\x00\\x00\\x00\\x05\\x00\\xfa\\x00\\x00\\x00\\x00\\x00\\x00\\x01\\x0f\\x00\\x08\\x02\\x10\\x00\\x93\\x00\\x00\\x00\\x05\\x00\\xfa\\x00\\x00\\x00\\x00\\x00\\x00\\x01\\x0f\\x00\\x08\\x02\\x10\\x00\\x94\\x00\\x00\\x00\\x05\\x00\\xfa\\x00\\x00\\x00\\x00\\x00\\x00\\x01\\x0f\\x00\\x08\\x02\\x10\\x00\\x95\\x00\\x00\\x00\\x05\\x00\\xfa\\x00\\x00\\x00\\x00\\x00\\x00\\x01\\x0f\\x00\\x08\\x02\\x10\\x00\\x96\\x00\\x00\\x00\\x05\\x00\\xfa\\x00\\x00\\x00\\x00\\x00\\x00\\x01\\x0f\\x00\\xbd\\x00\\x12\\x00\\x80\\x00\\x00\\x00\\x0f\\x00\\x01\\x10\\x83@\\x0f\\x00\\x00\\x00\\x08@\\x01\\x00\\x03\\x02\\x0e\\x00\\x80\\x00\\x02\\x00\\x0f\\x00\\x9a\\x99\\x99\\x99\\x99\\x99\\x13@~\\x02\\n\\x00\\x80\\x00\\x03\\x00\\x0f\\x00\\x01\\x80f@\\xfd\\x00\\n\\x00\\x80\\x00\\x04\\x00\\x0f\\x00\\x06\\x00\\x00\\x00\\xbd\\x00\\x1e\\x00\\x81\\x00\\x00\\x00\\x0f\\x00\\x01\\x00\\x84@\\x0f\\x00\\x01\\x80q@\\x0f\\x00\\x01\\x80\\x81@\\x0f\\x00\\x01@j@\\x03\\x00\\xfd\\x00\\n\\x00\\x81\\x00\\x04\\x00\\x0f\\x00\\x06\\x00\\x00\\x00\\xbd\\x00\\x1e\\x00\\x82\\x00\\x00\\x00\\x0f\\x00\\x01\\x80\\x86@\\x0f\\x00\\x00\\x00\\x08@\\x0f\\x00\\x01 \\x82@\\x0f\\x00\\x01\\x00d@\\x03\\x00\\xfd\\x00\\n\\x00\\x82\\x00\\x04\\x00\\x0f\\x00\\x06\\x00\\x00\\x00\\xbd\\x00\\x1e\\x00\\x83\\x00\\x00\\x00\\x0f\\x00\\x01 \\x87@\\x0f\\x00\\x01\\x80q@\\x0f\\x00\\x01\\x10\\x83@\\x0f\\x00\\x01\\xc0g@\\x03\\x00\\xfd\\x00\\n\\x00\\x83\\x00\\x04\\x00\\x0f\\x00\\x06\\x00\\x00\\x00\\xbd\\x00\\x1e\\x00\\x84\\x00\\x00\\x00\\x0f\\x00\\x01\\xb0\\x88@\\x0f\\x00\\x01\\xc0w@\\x0f\\x00\\x01\\x00\\x84@\\x0f\\x00\\x00\\x00\\x00@\\x03\\x00\\xfd\\x00\\n\\x00\\x84\\x00\\x04\\x00\\x0f\\x00\\x06\\x00\\x00\\x00\\xbd\\x00\\x18\\x00\\x85\\x00\\x00\\x00\\x0f\\x00\\x01\\x00\\x84@\\x0f\\x00\\x01\\x80q@\\x0f\\x00\\x01\\x80\\x81@\\x02\\x00\\x03\\x02\\x0e\\x00\\x85\\x00\\x03\\x00\\x0f\\x00\\x9a\\x99\\x99\\x99\\x99\\x99\\x01@\\xfd\\x00\\n\\x00\\x85\\x00\\x04\\x00\\x0f\\x00\\x06\\x00\\x00\\x00\\xbd\\x00\\x12\\x00\\x86\\x00\\x00\\x00\\x0f\\x00\\x01\\xb0\\x83@\\x0f\\x00\\x01\\x80q@\\x01\\x00\\x03\\x02\\x0e\\x00\\x86\\x00\\x02\\x00\\x0f\\x00ffffff\\x14@~\\x02\\n\\x00\\x86\\x00\\x03\\x00\\x0f\\x00\\x00\\x00\\xf8?\\xfd\\x00\\n\\x00\\x86\\x00\\x04\\x00\\x0f\\x00\\x06\\x00\\x00\\x00\\xbd\\x00\\x1e\\x00\\x87\\x00\\x00\\x00\\x0f\\x00\\x01\\x10\\x83@\\x0f\\x00\\x01@p@\\x0f\\x00\\x01\\x80\\x81@\\x0f\\x00\\x01\\x80a@\\x03\\x00\\xfd\\x00\\n\\x00\\x87\\x00\\x04\\x00\\x0f\\x00\\x06\\x00\\x00\\x00\\xbd\\x00\\x18\\x00\\x88\\x00\\x00\\x00\\x0f\\x00\\x01\\x10\\x88@\\x0f\\x00\\x00\\x00\\x08@\\x0f\\x00\\x01\\x10\\x83@\\x02\\x00\\x03\\x02\\x0e\\x00\\x88\\x00\\x03\\x00\\x0f\\x00ffffff\\x02@\\xfd\\x00\\n\\x00\\x88\\x00\\x04\\x00\\x0f\\x00\\x06\\x00\\x00\\x00\\xbd\\x00\\x1e\\x00\\x89\\x00\\x00\\x00\\x0f\\x00\\x01\\xb0\\x83@\\x0f\\x00\\x01@u@\\x0f\\x00\\x01\\x80\\x81@\\x0f\\x00\\x01\\x00n@\\x03\\x00\\xfd\\x00\\n\\x00\\x89\\x00\\x04\\x00\\x0f\\x00\\x06\\x00\\x00\\x00\\xbd\\x00\\x1e\\x00\\x8a\\x00\\x00\\x00\\x0f\\x00\\x01\\x00\\x84@\\x0f\\x00\\x01`s@\\x0f\\x00\\x00\\x00\\x16@\\x0f\\x00\\x01\\x80f@\\x03\\x00\\xfd\\x00\\n\\x00\\x8a\\x00\\x04\\x00\\x0f\\x00\\x06\\x00\\x00\\x00\\xbd\\x00\\x1e\\x00\\x8b\\x00\\x00\\x00\\x0f\\x00\\x00\\x00\\x18@\\x0f\\x00\\x00\\x00\\x08@\\x0f\\x00\\x01\\x00~@\\x0f\\x00\\x01\\x80f@\\x03\\x00\\xfd\\x00\\n\\x00\\x8b\\x00\\x04\\x00\\x0f\\x00\\x06\\x00\\x00\\x00\\xbd\\x00\\x1e\\x00\\x8c\\x00\\x00\\x00\\x0f\\x00\\x01\\x90\\x85@\\x0f\\x00\\x01`s@\\x0f\\x00\\x01\\xe0\\x80@\\x0f\\x00\\x01@j@\\x03\\x00\\xfd\\x00\\n\\x00\\x8c\\x00\\x04\\x00\\x0f\\x00\\x06\\x00\\x00\\x00\\xbd\\x00\\x1e\\x00\\x8d\\x00\\x00\\x00\\x0f\\x00\\x01\\xf0\\x84@\\x0f\\x00\\x01`s@\\x0f\\x00\\x01\\x80\\x81@\\x0f\\x00\\x01\\x00n@\\x03\\x00\\xfd\\x00\\n\\x00\\x8d\\x00\\x04\\x00\\x0f\\x00\\x06\\x00\\x00\\x00~\\x02\\n\\x00\\x8e\\x00\\x01\\x00\\x0f\\x00\\x01`s@\\x03\\x02\\x0e\\x00\\x8e\\x00\\x02\\x00\\x0f\\x00ffffff\\x14@\\x03\\x02\\x0e\\x00\\x8e\\x00\\x03\\x00\\x0f\\x00ffffff\\x02@\\xfd\\x00\\n\\x00\\x8e\\x00\\x04\\x00\\x0f\\x00\\x06\\x00\\x00\\x00\\xbd\\x00\\x12\\x00\\x8f\\x00\\x00\\x00\\x0f\\x00\\x01 \\x82@\\x0f\\x00\\x01\\xe0p@\\x01\\x00\\x03\\x02\\x0e\\x00\\x8f\\x00\\x02\\x00\\x0f\\x00ffffff\\x14@~\\x02\\n\\x00\\x8f\\x00\\x03\\x00\\x0f\\x00\\x01\\xc0g@\\xfd\\x00\\n\\x00\\x8f\\x00\\x04\\x00\\x0f\\x00\\x06\\x00\\x00\\x00\\xbd\\x00\\x18\\x00\\x90\\x00\\x00\\x00\\x0f\\x00\\x01@\\x85@\\x0f\\x00\\x01\\x00t@\\x0f\\x00\\x01p\\x82@\\x02\\x00\\x03\\x02\\x0e\\x00\\x90\\x00\\x03\\x00\\x0f\\x00ffffff\\x02@\\xfd\\x00\\n\\x00\\x90\\x00\\x04\\x00\\x0f\\x00\\x06\\x00\\x00\\x00\\xbd\\x00\\x1e\\x00\\x91\\x00\\x00\\x00\\x0f\\x00\\x01\\xf0\\x84@\\x0f\\x00\\x01\\xa0t@\\x0f\\x00\\x01\\xd0\\x81@\\x0f\\x00\\x00\\x00\\x04@\\x03\\x00\\xfd\\x00\\n\\x00\\x91\\x00\\x04\\x00\\x0f\\x00\\x06\\x00\\x00\\x00\\xbd\\x00\\x18\\x00\\x92\\x00\\x00\\x00\\x0f\\x00\\x01\\xf0\\x84@\\x0f\\x00\\x00\\x00\\x08@\\x0f\\x00\\x01@\\x80@\\x02\\x00\\x03\\x02\\x0e\\x00\\x92\\x00\\x03\\x00\\x0f\\x00ffffff\\x02@\\xfd\\x00\\n\\x00\\x92\\x00\\x04\\x00\\x0f\\x00\\x06\\x00\\x00\\x00\\xbd\\x00\\x1e\\x00\\x93\\x00\\x00\\x00\\x0f\\x00\\x01\\xb0\\x83@\\x0f\\x00\\x00\\x00\\x04@\\x0f\\x00\\x00\\x00\\x14@\\x0f\\x00\\x01\\xc0g@\\x03\\x00\\xfd\\x00\\n\\x00\\x93\\x00\\x04\\x00\\x0f\\x00\\x06\\x00\\x00\\x00\\xbd\\x00\\x12\\x00\\x94\\x00\\x00\\x00\\x0f\\x00\\x00\\x00\\x1a@\\x0f\\x00\\x00\\x00\\x08@\\x01\\x00~\\x02\\n\\x00\\x94\\x00\\x03\\x00\\x0f\\x00\\x00\\x00\\x00@\\xfd\\x00\\n\\x00\\x94\\x00\\x04\\x00\\x0f\\x00\\x06\\x00\\x00\\x00\\xbd\\x00\\x18\\x00\\x95\\x00\\x00\\x00\\x0f\\x00\\x01`\\x83@\\x0f\\x00\\x01@u@\\x0f\\x00\\x01\\xe0\\x80@\\x02\\x00\\x03\\x02\\x0e\\x00\\x95\\x00\\x03\\x00\\x0f\\x00ffffff\\x02@\\xfd\\x00\\n\\x00\\x95\\x00\\x04\\x00\\x0f\\x00\\x06\\x00\\x00\\x00\\xbd\\x00\\x12\\x00\\x96\\x00\\x00\\x00\\x0f\\x00\\x01p\\x82@\\x0f\\x00\\x00\\x00\\x08@\\x01\\x00\\x03\\x02\\x0e\\x00\\x96\\x00\\x02\\x00\\x0f\\x00ffffff\\x14@~\\x02\\n\\x00\\x96\\x00\\x03\\x00\\x0f\\x00\\x01\\x80f@\\xfd\\x00\\n\\x00\\x96\\x00\\x04\\x00\\x0f\\x00\\x06\\x00\\x00\\x00\\xd7\\x002\\x00\\xba\\x06\\x00\\x00\\xb8\\x01D\\x000\\x000\\x000\\x000\\x00<\\x00D\\x000\\x00<\\x000\\x000\\x000\\x000\\x000\\x00@\\x00D\\x00<\\x000\\x00<\\x000\\x002\\x00<\\x00>\\x02\\x12\\x00\\xb6\\x06\\x00\\x00\\x00\\x00@\\x00\\x00\\x00\\x00\\x00\\x00\\x00\\x96\\x00\\x00\\x00\\x8b\\x08\\x10\\x00\\x8b\\x08\\x00\\x00\\x00\\x00\\x00\\x00\\x00\\x00\\x00\\x00\\x00\\x00\\x92\\x00\\x1d\\x00\\x0f\\x00\\x03\\x00\\x00\\x00\\x00\\x00\\x00\\x01\\x00\\x00\\x00\\x00\\x00\\x00\\x00\\xef\\x00\\x06\\x00\\x00\\x007\\x00\\x00\\x00g\\x08\\x17\\x00g\\x08\\x00\\x00\\x00\\x00\\x00\\x00\\x00\\x00\\x00\\x00\\x02\\x00\\x01\\xff\\xff\\xff\\xff\\x03D\\x00\\x00\\n\\x00\\x00\\x00\\x00\\x00\\x00\\x00\\x00\\x00\\x00\\x00\\x00\\x00\\x00\\x00\\x00\\x00\\x00\\x00\\x00\\x00\\x00\\x00\\x00\\x00\\x00\\x00\\x00\\x00\\x00\\x00\\x00\\x00\\x00\\x00\\x00\\x00\\x00\\x00\\x00\\x00\\x00\\x00\\x00\\x00\\x00\\x00\\x00\\x00\\x00\\x00\\x00\\x00\\x00\\x00\\x00\\xfe\\xff\\x00\\x00\\n\\x00\\x02\\x00\\x00\\x00\\x00\\x00\\x00\\x00\\x00\\x00\\x00\\x00\\x00\\x00\\x00\\x00\\x00\\x00\\x01\\x00\\x00\\x00\\xe0\\x85\\x9f\\xf2\\xf9Oh\\x10\\xab\\x91\\x08\\x00+\\'\\xb3\\xd90\\x00\\x00\\x00\\xb8\\x00\\x00\\x00\\x07\\x00\\x00\\x00\\x01\\x00\\x00\\x00@\\x00\\x00\\x00\\x04\\x00\\x00\\x00H\\x00\\x00\\x00\\x08\\x00\\x00\\x00d\\x00\\x00\\x00\\x12\\x00\\x00\\x00\\x80\\x00\\x00\\x00\\x0c\\x00\\x00\\x00\\x98\\x00\\x00\\x00\\r\\x00\\x00\\x00\\xa4\\x00\\x00\\x00\\x13\\x00\\x00\\x00\\xb0\\x00\\x00\\x00\\x02\\x00\\x00\\x00\\xe4\\x04\\x00\\x00\\x1e\\x00\\x00\\x00\\x14\\x00\\x00\\x00_john aleshunas_\\x00\\x00\\x00\\x00\\x1e\\x00\\x00\\x00\\x14\\x00\\x00\\x00John J Padamadan\\x00\\x00\\x00\\x00\\x1e\\x00\\x00\\x00\\x10\\x00\\x00\\x00Microsoft Excel\\x00@\\x00\\x00\\x00\\x80:\\xafKD\\x16\\xc6\\x01@\\x00\\x00\\x00\\x808yW9\\xa5\\xd7\\x01\\x03\\x00\\x00\\x00\\x00\\x00\\x00\\x00\\x00\\x00\\x00\\x00\\x00\\x00\\x00\\x00\\x00\\x00\\x00\\x00\\x00\\x00\\x00\\x00\\x00\\x00\\x00\\x00\\x00\\x00\\x00\\x00\\x00\\x00\\x00\\x00\\x00\\x00\\x00\\x00\\x00\\x00\\x00\\x00\\x00\\x00\\x00\\x00\\x00\\x00\\x00\\x00\\x00\\x00\\x00\\x00\\x00\\x00\\x00\\x00\\x00\\x00\\x00\\x00\\x00\\x00\\x00\\x00\\x00\\x00\\x00\\x00\\x00\\x00\\x00\\x00\\x00\\x00\\x00\\x00\\x00\\x00\\x00\\x00\\x00\\x00\\x00\\x00\\x00\\x00\\x00\\x00\\x00\\x00\\x00\\x00\\x00\\x00\\x00\\x00\\x00\\x00\\x00\\x00\\x00\\x00\\x00\\x00\\x00\\x00\\x00\\x00\\x00\\x00\\x00\\x00\\x00\\x00\\x00\\x00\\x00\\x00\\x00\\x00\\x00\\x00\\x00\\x00\\x00\\x00\\x00\\x00\\x00\\x00\\x00\\x00\\x00\\x00\\x00\\x00\\x00\\x00\\x00\\x00\\x00\\x00\\x00\\x00\\x00\\x00\\x00\\x00\\x00\\x00\\x00\\x00\\x00\\x00\\x00\\x00\\x00\\x00\\x00\\x00\\x00\\x00\\x00\\x00\\x00\\x00\\x00\\x00\\x00\\x00\\x00\\x00\\x00\\x00\\x00\\x00\\x00\\x00\\x00\\x00\\x00\\x00\\x00\\x00\\x00\\x00\\x00\\x00\\x00\\x00\\x00\\x00\\x00\\x00\\x00\\x00\\x00\\x00\\x00\\x00\\x00\\x00\\x00\\x00\\x00\\x00\\x00\\x00\\x00\\x00\\x00\\x00\\x00\\x00\\x00\\x00\\x00\\x00\\x00\\x00\\x00\\x00\\x00\\x00\\x00\\x00\\x00\\x00\\x00\\x00\\x00\\x00\\x00\\x00\\x00\\x00\\x00\\x00\\x00\\x00\\x00\\x00\\x00\\x00\\x00\\x00\\x00\\x00\\x00\\x00\\x00\\x00\\x00\\x00\\x00\\x00\\x00\\x00\\x00\\x00\\x00\\x00\\x00\\x00\\x00\\x00\\x00\\x00\\x00\\x00\\x00\\x00\\x00\\x00\\x00\\x00\\x00\\x00\\x00\\x00\\x00\\x00\\x00\\x00\\x00\\x00\\x00\\x00\\x00\\x00\\x00\\x00\\x00\\x00\\x00\\x00\\x00\\x00\\x00\\x00\\x00\\x00\\x00\\x00\\x00\\x00\\x00\\x00\\x00\\x00\\x00\\x00\\x00\\x00\\x00\\x00\\x00\\x00\\x00\\x00\\x00\\x00\\x00\\x00\\x00\\x00\\x00\\x00\\x00\\x00\\x00\\x00\\x00\\x00\\x00\\x00\\x00\\x00\\x00\\x00\\x00\\x00\\x00\\x00\\x00\\x00\\x00\\x00\\x00\\x00\\x00\\x00\\x00\\x00\\x00\\x00\\x00\\x00\\x00\\x00\\x00\\x00\\x00\\x00\\x00\\x00\\x00\\x00\\x00\\x00\\x00\\x00\\x00\\x00\\x00\\x00\\x00\\x00\\x00\\x00\\x00\\x00\\x00\\x00\\x00\\x00\\x00\\x00\\x00\\x00\\x00\\x00\\x00\\x00\\x00\\x00\\x00\\x00\\x00\\x00\\x00\\x00\\x00\\x00\\x00\\x00\\x00\\x00\\x00\\x00\\x00\\x00\\x00\\x00\\x00\\x00\\x00\\x00\\x00\\x00\\x00\\x00\\x00\\x00\\x00\\x00\\x00\\x00\\x00\\x00\\x00\\x00\\x00\\x00\\x00\\x00\\x00\\x00\\x00\\x00\\x00\\x00\\x00\\x00\\x00\\x00\\x00\\x00\\x00\\x00\\x00\\x00\\x00\\x00\\x00\\x00\\x00\\x00\\x00\\x00\\x00\\x00\\x00\\x00\\x00\\x00\\x00\\x00\\x00\\x00\\x00\\x00\\x00\\x00\\x00\\x00\\x00\\x00\\x00\\x00\\x00\\x00\\x00\\x00\\x00\\x00\\x00\\x00\\x00\\x00\\x00\\x00\\x00\\x00\\x00\\x00\\x00\\x00\\x00\\x00\\x00\\x00\\x00\\x00\\x00\\x00\\x00\\x00\\x00\\x00\\x00\\x00\\x00\\x00\\x00\\x00\\x00\\x00\\x00\\x00\\x00\\x00\\x00\\x00\\x00\\x00\\x00\\x00\\x00\\x00\\x00\\x00\\x00\\x00\\x00\\x00\\x00\\x00\\x00\\x00\\x00\\x00\\x00\\x00\\x00\\x00\\x00\\x00\\x00\\x00\\x00\\x00\\x00\\x00\\x00\\x00\\x00\\x00\\x00\\x00\\x00\\x00\\x00\\x00\\x00\\x00\\x00\\x00\\x00\\x00\\x00\\x00\\x00\\x00\\x00\\x00\\x00\\x00\\x00\\x00\\x00\\x00\\x00\\x00\\x00\\x00\\x00\\x00\\x00\\x00\\x00\\x00\\x00\\x00\\x00\\x00\\x00\\x00\\x00\\x00\\x00\\x00\\x00\\x00\\x00\\x00\\x00\\x00\\x00\\x00\\x00\\x00\\x00\\x00\\x00\\x00\\x00\\x00\\x00\\x00\\x00\\x00\\x00\\x00\\x00\\x00\\x00\\x00\\x00\\x00\\x00\\x00\\x00\\x00\\x00\\x00\\x00\\x00\\x00\\x00\\x00\\x00\\x00\\x00\\x00\\x00\\x00\\x00\\x00\\x00\\x00\\x00\\x00\\x00\\x00\\x00\\x00\\x00\\x00\\x00\\x00\\x00\\x00\\x00\\x00\\x00\\x00\\x00\\x00\\x00\\x00\\x00\\x00\\x00\\x00\\x00\\x00\\x00\\x00\\x00\\x00\\x00\\x00\\x00\\x00\\x00\\x00\\x00\\x00\\x00\\x00\\x00\\x00\\x00\\x00\\x00\\x00\\x00\\x00\\x00\\x00\\x00\\x00\\x00\\x00\\x00\\x00\\x00\\x00\\x00\\x00\\x00\\x00\\x00\\x00\\x00\\x00\\x00\\x00\\x00\\x00\\x00\\x00\\x00\\x00\\x00\\x00\\x00\\x00\\x00\\x00\\x00\\x00\\x00\\x00\\x00\\x00\\x00\\x00\\x00\\x00\\x00\\x00\\x00\\x00\\x00\\x00\\x00\\x00\\x00\\x00\\x00\\x00\\x00\\x00\\x00\\x00\\x00\\x00\\x00\\x00\\x00\\x00\\x00\\x00\\x00\\x00\\x00\\x00\\x00\\x00\\x00\\x00\\x00\\x00\\x00\\x00\\x00\\x00\\x00\\x00\\x00\\x00\\x00\\x00\\x00\\x00\\x00\\x00\\x00\\x00\\x00\\x00\\x00\\x00\\x00\\x00\\x00\\x00\\x00\\x00\\x00\\x00\\x00\\x00\\x00\\x00\\x00\\x00\\x00\\x00\\x00\\x00\\x00\\x00\\x00\\x00\\x00\\x00\\x00\\x00\\x00\\x00\\x00\\x00\\x00\\x00\\x00\\x00\\x00\\x00\\x00\\x00\\x00\\x00\\x00\\x00\\x00\\x00\\x00\\x00\\x00\\x00\\x00\\x00\\x00\\x00\\x00\\x00\\x00\\x00\\x00\\x00\\x00\\x00\\x00\\x00\\x00\\x00\\x00\\x00\\x00\\x00\\x00\\x00\\x00\\x00\\x00\\x00\\x00\\x00\\x00\\x00\\x00\\x00\\x00\\x00\\x00\\x00\\x00\\x00\\x00\\x00\\x00\\x00\\x00\\x00\\x00\\x00\\x00\\x00\\x00\\x00\\x00\\x00\\x00\\x00\\x00\\x00\\x00\\x00\\x00\\x00\\x00\\x00\\x00\\x00\\x00\\x00\\x00\\x00\\x00\\x00\\x00\\x00\\x00\\x00\\x00\\x00\\x00\\x00\\x00\\x00\\x00\\x00\\x00\\x00\\x00\\x00\\x00\\x00\\x00\\x00\\x00\\x00\\x00\\x00\\x00\\x00\\x00\\x00\\x00\\x00\\x00\\x00\\x00\\x00\\x00\\x00\\x00\\x00\\x00\\x00\\x00\\x00\\x00\\x00\\x00\\x00\\x00\\x00\\x00\\x00\\x00\\x00\\x00\\x00\\x00\\x00\\x00\\x00\\x00\\x00\\x00\\x00\\x00\\x00\\x00\\x00\\x00\\x00\\x00\\x00\\x00\\x00\\x00\\x00\\x00\\x00\\x00\\x00\\x00\\x00\\x00\\x00\\x00\\x00\\x00\\x00\\x00\\x00\\x00\\x00\\x00\\x00\\x00\\x00\\x00\\x00\\x00\\x00\\x00\\x00\\x00\\x00\\x00\\x00\\x00\\x00\\x00\\x00\\x00\\x00\\x00\\x00\\x00\\x00\\x00\\x00\\x00\\x00\\x00\\x00\\x00\\x00\\x00\\x00\\x00\\x00\\x00\\x00\\x00\\x00\\x00\\x00\\x00\\x00\\x00\\x00\\x00\\x00\\x00\\x00\\x00\\x00\\x00\\x00\\x00\\x00\\x00\\x00\\x00\\x00\\x00\\x00\\x00\\x00\\x00\\x00\\x00\\x00\\x00\\x00\\x00\\x00\\x00\\x00\\x00\\x00\\x00\\x00\\x00\\x00\\x00\\x00\\x00\\x00\\x00\\x00\\x00\\x00\\x00\\x00\\x00\\x00\\x00\\x00\\x00\\x00\\x00\\x00\\x00\\x00\\x00\\x00\\x00\\x00\\x00\\x00\\x00\\x00\\x00\\x00\\x00\\x00\\x00\\x00\\x00\\x00\\x00\\x00\\x00\\x00\\x00\\x00\\x00\\x00\\x00\\x00\\x00\\x00\\x00\\x00\\x00\\x00\\x00\\x00\\x00\\x00\\x00\\x00\\x00\\x00\\x00\\x00\\x00\\x00\\x00\\x00\\x00\\x00\\x00\\x00\\x00\\x00\\x00\\x00\\x00\\x00\\x00\\x00\\x00\\x00\\x00\\x00\\x00\\x00\\x00\\x00\\x00\\x00\\x00\\x00\\x00\\x00\\x00\\x00\\x00\\x00\\x00\\x00\\x00\\x00\\x00\\x00\\x00\\x00\\x00\\x00\\x00\\x00\\x00\\x00\\x00\\x00\\x00\\x00\\x00\\x00\\x00\\x00\\x00\\x00\\x00\\x00\\x00\\x00\\x00\\x00\\x00\\x00\\x00\\x00\\x00\\x00\\x00\\x00\\x00\\x00\\x00\\x00\\x00\\x00\\x00\\x00\\x00\\x00\\x00\\x00\\x00\\x00\\x00\\x00\\x00\\x00\\x00\\x00\\x00\\x00\\x00\\x00\\x00\\x00\\x00\\x00\\x00\\x00\\x00\\x00\\x00\\x00\\x00\\x00\\x00\\x00\\x00\\x00\\x00\\x00\\x00\\x00\\x00\\x00\\x00\\x00\\x00\\x00\\x00\\x00\\x00\\x00\\x00\\x00\\x00\\x00\\x00\\x00\\x00\\x00\\x00\\x00\\x00\\x00\\x00\\x00\\x00\\x00\\x00\\x00\\x00\\x00\\x00\\x00\\x00\\x00\\x00\\x00\\x00\\x00\\x00\\x00\\x00\\x00\\x00\\x00\\x00\\x00\\x00\\x00\\x00\\x00\\x00\\x00\\x00\\x00\\x00\\x00\\x00\\x00\\x00\\x00\\x00\\x00\\x00\\x00\\x00\\x00\\x00\\x00\\x00\\x00\\x00\\x00\\x00\\x00\\x00\\x00\\x00\\x00\\x00\\x00\\x00\\x00\\x00\\x00\\x00\\x00\\x00\\x00\\x00\\x00\\x00\\x00\\x00\\x00\\x00\\x00\\x00\\x00\\x00\\x00\\x00\\x00\\x00\\x00\\x00\\x00\\x00\\x00\\x00\\x00\\x00\\x00\\x00\\x00\\x00\\x00\\x00\\x00\\x00\\x00\\x00\\x00\\x00\\x00\\x00\\x00\\x00\\x00\\x00\\x00\\x00\\x00\\x00\\x00\\x00\\x00\\x00\\x00\\x00\\x00\\x00\\x00\\x00\\x00\\x00\\x00\\x00\\x00\\x00\\x00\\x00\\x00\\x00\\x00\\x00\\x00\\x00\\x00\\x00\\x00\\x00\\x00\\x00\\x00\\x00\\x00\\x00\\x00\\x00\\x00\\x00\\x00\\x00\\x00\\x00\\x00\\x00\\x00\\x00\\x00\\x00\\x00\\x00\\x00\\x00\\x00\\x00\\x00\\x00\\x00\\x00\\x00\\x00\\x00\\x00\\x00\\x00\\x00\\x00\\x00\\x00\\x00\\x00\\x00\\x00\\x00\\x00\\x00\\x00\\x00\\x00\\x00\\x00\\x00\\x00\\x00\\x00\\x00\\x00\\x00\\x00\\x00\\x00\\x00\\x00\\x00\\x00\\x00\\x00\\x00\\x00\\x00\\x00\\x00\\x00\\x00\\x00\\x00\\x00\\x00\\x00\\x00\\x00\\x00\\x00\\x00\\x00\\x00\\x00\\x00\\x00\\x00\\x00\\x00\\x00\\x00\\x00\\x00\\x00\\x00\\x00\\x00\\x00\\x00\\x00\\x00\\x00\\x00\\x00\\x00\\x00\\x00\\x00\\x00\\x00\\x00\\x00\\x00\\x00\\x00\\x00\\x00\\x00\\x00\\x00\\x00\\x00\\x00\\x00\\x00\\x00\\x00\\x00\\x00\\x00\\x00\\x00\\x00\\x00\\x00\\x00\\x00\\x00\\x00\\x00\\x00\\x00\\x00\\x00\\x00\\x00\\x00\\x00\\x00\\x00\\x00\\x00\\x00\\x00\\x00\\x00\\x00\\x00\\x00\\x00\\x00\\x00\\x00\\x00\\x00\\x00\\x00\\x00\\x00\\x00\\x00\\x00\\x00\\x00\\x00\\x00\\x00\\x00\\x00\\x00\\x00\\x00\\x00\\x00\\x00\\x00\\x00\\x00\\x00\\x00\\x00\\x00\\x00\\x00\\x00\\x00\\x00\\x00\\x00\\x00\\x00\\x00\\x00\\x00\\x00\\x00\\x00\\x00\\x00\\x00\\x00\\x00\\x00\\x00\\x00\\x00\\x00\\x00\\x00\\x00\\x00\\x00\\x00\\x00\\x00\\x00\\x00\\x00\\x00\\x00\\x00\\x00\\x00\\x00\\x00\\x00\\x00\\x00\\x00\\x00\\x00\\x00\\x00\\x00\\x00\\x00\\x00\\x00\\x00\\x00\\x00\\x00\\x00\\x00\\x00\\x00\\x00\\x00\\x00\\x00\\x00\\x00\\x00\\x00\\x00\\x00\\x00\\x00\\x00\\x00\\x00\\x00\\x00\\x00\\x00\\x00\\x00\\x00\\x00\\x00\\x00\\x00\\x00\\x00\\x00\\x00\\x00\\x00\\x00\\x00\\x00\\x00\\x00\\x00\\x00\\x00\\x00\\x00\\x00\\x00\\x00\\x00\\x00\\x00\\x00\\x00\\x00\\x00\\x00\\x00\\x00\\x00\\x00\\x00\\x00\\x00\\x00\\x00\\x00\\x00\\x00\\x00\\x00\\x00\\x00\\x00\\x00\\x00\\x00\\x00\\x00\\x00\\x00\\x00\\x00\\x00\\x00\\x00\\x00\\x00\\x00\\x00\\x00\\x00\\x00\\x00\\x00\\x00\\x00\\x00\\x00\\x00\\x00\\x00\\x00\\x00\\x00\\x00\\x00\\x00\\x00\\x00\\x00\\x00\\x00\\x00\\x00\\x00\\x00\\x00\\x00\\x00\\x00\\x00\\x00\\x00\\x00\\x00\\x00\\x00\\x00\\x00\\x00\\x00\\x00\\x00\\x00\\x00\\x00\\x00\\x00\\x00\\x00\\x00\\x00\\x00\\x00\\x00\\x00\\x00\\x00\\x00\\x00\\x00\\x00\\x00\\x00\\x00\\x00\\x00\\x00\\x00\\x00\\x00\\x00\\x00\\x00\\x00\\x00\\x00\\x00\\x00\\x00\\x00\\x00\\x00\\x00\\x00\\x00\\x00\\x00\\x00\\x00\\x00\\x00\\x00\\x00\\x00\\x00\\x00\\x00\\x00\\x00\\x00\\x00\\x00\\x00\\x00\\x00\\x00\\x00\\x00\\x00\\x00\\x00\\x00\\x00\\x00\\x00\\x00\\x00\\x00\\x00\\x00\\x00\\x00\\x00\\x00\\x00\\x00\\x00\\x00\\x00\\x00\\x00\\x00\\x00\\x00\\x00\\x00\\x00\\x00\\x00\\x00\\x00\\x00\\x00\\x00\\x00\\x00\\x00\\x00\\x00\\x00\\x00\\x00\\x00\\x00\\x00\\x00\\x00\\x00\\x00\\x00\\x00\\x00\\x00\\x00\\x00\\x00\\x00\\x00\\x00\\x00\\x00\\x00\\x00\\x00\\x00\\x00\\x00\\x00\\x00\\x00\\x00\\x00\\x00\\x00\\x00\\x00\\x00\\x00\\x00\\x00\\x00\\x00\\x00\\x00\\x00\\x00\\x00\\x00\\x00\\x00\\x00\\x00\\x00\\x00\\x00\\x00\\x00\\x00\\x00\\x00\\x00\\x00\\x00\\x00\\x00\\x00\\x00\\x00\\x00\\x00\\x00\\x00\\x00\\x00\\x00\\x00\\x00\\x00\\x00\\x00\\x00\\x00\\x00\\x00\\x00\\x00\\x00\\x00\\x00\\x00\\x00\\x00\\x00\\x00\\x00\\x00\\x00\\x00\\x00\\x00\\x00\\x00\\x00\\x00\\x00\\x00\\x00\\x00\\x00\\x00\\x00\\x00\\x00\\x00\\x00\\x00\\x00\\x00\\x00\\x00\\x00\\x00\\x00\\x00\\x00\\x00\\x00\\x00\\x00\\x00\\x00\\x00\\x00\\x00\\x00\\x00\\x00\\x00\\x00\\x00\\x00\\x00\\x00\\x00\\x00\\x00\\x00\\x00\\x00\\x00\\x00\\x00\\x00\\x00\\x00\\x00\\x00\\x00\\x00\\x00\\x00\\x00\\x00\\x00\\x00\\x00\\x00\\x00\\x00\\x00\\x00\\x00\\x00\\x00\\x00\\x00\\x00\\x00\\x00\\x00\\x00\\x00\\x00\\x00\\x00\\x00\\x00\\x00\\x00\\x00\\x00\\x00\\x00\\x00\\x00\\x00\\x00\\x00\\x00\\x00\\x00\\x00\\x00\\x00\\x00\\x00\\x00\\x00\\x00\\x00\\x00\\x00\\x00\\x00\\x00\\x00\\x00\\x00\\x00\\x00\\x00\\x00\\x00\\x00\\x00\\x00\\x00\\x00\\x00\\x00\\x00\\x00\\x00\\x00\\x00\\x00\\x00\\x00\\x00\\x00\\x00\\x00\\x00\\x00\\x00\\x00\\x00\\x00\\x00\\x00\\x00\\x00\\x00\\x00\\x00\\x00\\x00\\x00\\x00\\x00\\x00\\x00\\x00\\x00\\x00\\x00\\x00\\x00\\x00\\x00\\x00\\x00\\x00\\x00\\x00\\x00\\x00\\x00\\x00\\x00\\x00\\x00\\x00\\x00\\x00\\x00\\x00\\x00\\x00\\x00\\x00\\x00\\x00\\x00\\x00\\x00\\x00\\x00\\x00\\x00\\x00\\x00\\x00\\x00\\x00\\x00\\x00\\x00\\x00\\x00\\x00\\x00\\x00\\x00\\x00\\x00\\x00\\x00\\x00\\x00\\x00\\x00\\x00\\x00\\x00\\x00\\x00\\x00\\x00\\x00\\x00\\x00\\x00\\x00\\x00\\x00\\x00\\x00\\x00\\x00\\x00\\x00\\x00\\x00\\x00\\x00\\x00\\x00\\x00\\x00\\x00\\x00\\x00\\x00\\x00\\x00\\x00\\x00\\x00\\x00\\x00\\x00\\x00\\x00\\x00\\x00\\x00\\x00\\x00\\x00\\x00\\x00\\x00\\x00\\x00\\x00\\x00\\x00\\x00\\x00\\x00\\x00\\x00\\x00\\x00\\x00\\x00\\x00\\x00\\x00\\x00\\x00\\x00\\x00\\x00\\x00\\x00\\x00\\x00\\x00\\x00\\x00\\x00\\x00\\x00\\x00\\x00\\x00\\x00\\x00\\x00\\x00\\x00\\x00\\x00\\x00\\x00\\x00\\x00\\x00\\x00\\x00\\x00\\x00\\x00\\x00\\x00\\x00\\x00\\x00\\x00\\x00\\x00\\x00\\x00\\x00\\x00\\x00\\x00\\x00\\x00\\x00\\x00\\x00\\x00\\x00\\x00\\x00\\x00\\x00\\x00\\x00\\x00\\x00\\x00\\x00\\x00\\x00\\x00\\x00\\x00\\x00\\x00\\x00\\x00\\x00\\x00\\x00\\x00\\x00\\x00\\x00\\x00\\x00\\x00\\x00\\x00\\x00\\x00\\x00\\x00\\x00\\x00\\x00\\x00\\x00\\x00\\x00\\x00\\x00\\x00\\x00\\x00\\x00\\x00\\x00\\x00\\x00\\x00\\x00\\x00\\x00\\x00\\x00\\x00\\x00\\x00\\x00\\x00\\x00\\x00\\x00\\x00\\x00\\x00\\x00\\x00\\x00\\x00\\x00\\x00\\x00\\x00\\x00\\x00\\x00\\x00\\x00\\x00\\x00\\x00\\x00\\x00\\x00\\x00\\x00\\x00\\x00\\x00\\x00\\x00\\x00\\x00\\x00\\x00\\x00\\x00\\x00\\x00\\x00\\x00\\x00\\x00\\x00\\x00\\x00\\x00\\x00\\x00\\x00\\x00\\x00\\x00\\x00\\x00\\x00\\x00\\x00\\x00\\x00\\x00\\x00\\x00\\x00\\x00\\x00\\x00\\x00\\x00\\x00\\x00\\x00\\x00\\x00\\x00\\x00\\x00\\x00\\x00\\x00\\x00\\x00\\x00\\x00\\x00\\x00\\x00\\x00\\x00\\x00\\x00\\x00\\x00\\x00\\x00\\x00\\x00\\x00\\x00\\x00\\x00\\x00\\x00\\x00\\x00\\x00\\x00\\x00\\x00\\x00\\x00\\x00\\x00\\x00\\x00\\x00\\x00\\x00\\x00\\x00\\x00\\x00\\x00\\x00\\x00\\x00\\x00\\x00\\x00\\x00\\x00\\x00\\x00\\x00\\x00\\x00\\x00\\x00\\x00\\x00\\x00\\x00\\x00\\x00\\x00\\x00\\x00\\x00\\x00\\x00\\x00\\x00\\x00\\x00\\x00\\x00\\x00\\x00\\x00\\x00\\x00\\x00\\x00\\x00\\x00\\x00\\x00\\x00\\x00\\x00\\x00\\x00\\x00\\x00\\x00\\x00\\x00\\x00\\x00\\x00\\x00\\x00\\x00\\x00\\x00\\x00\\x00\\x00\\x00\\x00\\x00\\x00\\x00\\x00\\x00\\x00\\x00\\x00\\x00\\x00\\x00\\x00\\x00\\x00\\x00\\x00\\x00\\x00\\x00\\x00\\x00\\x00\\x00\\x00\\x00\\x00\\x00\\x00\\x00\\x00\\x00\\x00\\x00\\x00\\x00\\x00\\x00\\x00\\x00\\x00\\x00\\x00\\x00\\x00\\x00\\x00\\x00\\x00\\x00\\x00\\x00\\x00\\x00\\x00\\x00\\x00\\x00\\x00\\x00\\x00\\x00\\x00\\x00\\x00\\x00\\x00\\x00\\x00\\x00\\x00\\x00\\x00\\x00\\x00\\x00\\x00\\x00\\x00\\x00\\x00\\x00\\x00\\x00\\x00\\x00\\x00\\x00\\x00\\x00\\x00\\x00\\x00\\x00\\x00\\x00\\x00\\x00\\x00\\x00\\x00\\x00\\x00\\x00\\x00\\x00\\x00\\x00\\x00\\x00\\x00\\x00\\x00\\x00\\x00\\x00\\x00\\x00\\x00\\x00\\x00\\x00\\x00\\x00\\x00\\x00\\x00\\x00\\x00\\x00\\x00\\x00\\x00\\x00\\x00\\x00\\x00\\x00\\x00\\x00\\x00\\x00\\x00\\x00\\x00\\x00\\x00\\x00\\x00\\x00\\x00\\x00\\x00\\x00\\x00\\x00\\x00\\x00\\x00\\x00\\x00\\x00\\x00\\x00\\x00\\x00\\x00\\x00\\x00\\x00\\x00\\x00\\x00\\x00\\x00\\x00\\x00\\x00\\x00\\x00\\x00\\x00\\x00\\x00\\x00\\x00\\x00\\x00\\x00\\x00\\x00\\x00\\x00\\x00\\x00\\x00\\x00\\x00\\x00\\x00\\x00\\x00\\x00\\x00\\x00\\x00\\x00\\x00\\x00\\x00\\x00\\x00\\x00\\x00\\x00\\x00\\x00\\x00\\x00\\x00\\x00\\x00\\x00\\x00\\x00\\x00\\x00\\x00\\x00\\x00\\x00\\x00\\x00\\x00\\x00\\x00\\x00\\x00\\x00\\x00\\x00\\x00\\x00\\x00\\x00\\x00\\x00\\x00\\x00\\x00\\x00\\x00\\x00\\x00\\x00\\x00\\x00\\x00\\x00\\x00\\x00\\x00\\x00\\x00\\x00\\x00\\x00\\x00\\x00\\x00\\x00\\x00\\x00\\x00\\x00\\x00\\x00\\x00\\x00\\x00\\x00\\x00\\x00\\x00\\x00\\x00\\x00\\x00\\x00\\x00\\x00\\x00\\x00\\x00\\x00\\x00\\x00\\x00\\x00\\x00\\x00\\x00\\x00\\x00\\x00\\x00\\x00\\x00\\x00\\x00\\x00\\x00\\x00\\x00\\x00\\x00\\x00\\x00\\x00\\x00\\x00\\x00\\x00\\x00\\x00\\x00\\x00\\x00\\x00\\x00\\x00\\x00\\x00\\x00\\x00\\x00\\x00\\x00\\x00\\x00\\x00\\x00\\x00\\x00\\x00\\x00\\x00\\x00\\x00\\x00\\x00\\x00\\x00\\x00\\x00\\x00\\x00\\x00\\x00\\x00\\x00\\x00\\x00\\x00\\x00\\x00\\x00\\x00\\x00\\x00\\x00\\x00\\x00\\x00\\x00\\x00\\x00\\x00\\x00\\x00\\x00\\x00\\x00\\x00\\x00\\x00\\x00\\x00\\x00\\x00\\x00\\x00\\x00\\x00\\x00\\x00\\x00\\x00\\x00\\x00\\x00\\x00\\x00\\x00\\x00\\x00\\x00\\x00\\x00\\x00\\x00\\x00\\x00\\x00\\x00\\x00\\x00\\x00\\x00\\x00\\x00\\x00\\x00\\x00\\x00\\x00\\x00\\x00\\x00\\x00\\x00\\x00\\x00\\x00\\x00\\x00\\x00\\x00\\x00\\x00\\x00\\x00\\x00\\x00\\x00\\x00\\x00\\x00\\x00\\x00\\x00\\x00\\x00\\x00\\x00\\x00\\x00\\x00\\x00\\x00\\x00\\x00\\x00\\x00\\x00\\x00\\x00\\x00\\x00\\x00\\x00\\x00\\x00\\x00\\x00\\x00\\x00\\x00\\x00\\x00\\x00\\x00\\x00\\x00\\x00\\x00\\x00\\x00\\x00\\x00\\x00\\x00\\x00\\x00\\x00\\x00\\x00\\x00\\x00\\x00\\x00\\x00\\x00\\x00\\x00\\x00\\x00\\x00\\x00\\x00\\x00\\x00\\x00\\x00\\x00\\x00\\x00\\x00\\x00\\x00\\x00\\x00\\x00\\x00\\x00\\x00\\x00\\x00\\x00\\x00\\x00\\x00\\x00\\x00\\x00\\x00\\x00\\x00\\x00\\x00\\x00\\x00\\x00\\x00\\x00\\x00\\x00\\x00\\x00\\x00\\x00\\x00\\x00\\x00\\x00\\x00\\x00\\x00\\x00\\x00\\x00\\x00\\x00\\x00\\x00\\x00\\x00\\x00\\x00\\x00\\x00\\x00\\x00\\x00\\x00\\x00\\x00\\x00\\x00\\x00\\x00\\x00\\x00\\x00\\x00\\x00\\x00\\x00\\x00\\x00\\x00\\x00\\x00\\x00\\x00\\x00\\x00\\x00\\x00\\x00\\x00\\x00\\x00\\x00\\x00\\x00\\x00\\x00\\x00\\x00\\x00\\x00\\x00\\x00\\x00\\x00\\x00\\x00\\x00\\x00\\x00\\x00\\x00\\x00\\x00\\x00\\x00\\x00\\x00\\x00\\x00\\x00\\x00\\x00\\x00\\x00\\x00\\x00\\x00\\x00\\x00\\x00\\x00\\x00\\x00\\x00\\x00\\x00\\x00\\x00\\x00\\x00\\x00\\x00\\x00\\x00\\x00\\x00\\x00\\x00\\x00\\x00\\x00\\x00\\x00\\x00\\x00\\x00\\x00\\x00\\x00\\x00\\x00\\x00\\x00\\x00\\x00\\x00\\x00\\x00\\x00\\x00\\x00\\x00\\x00\\x00\\x00\\x00\\x00\\x00\\x00\\x00\\x00\\x00\\x00\\x00\\x00\\x00\\x00\\x00\\x00\\x00\\x00\\x00\\x00\\x00\\x00\\x00\\x00\\x00\\x00\\x00\\x00\\x00\\x00\\x00\\x00\\x00\\x00\\x00\\x00\\x00\\x00\\x00\\x00\\x00\\x00\\x00\\x00\\x00\\x00\\x00\\x00\\x00\\x00\\x00\\x00\\x00\\x00\\x00\\x00\\x00\\x00\\x00\\x00\\x00\\x00\\x00\\x00\\x00\\x00\\x00\\x00\\x00\\x00\\x00\\x00\\x00\\x00\\x00\\x00\\x00\\x00\\x00\\x00\\x00\\x00\\x00\\x00\\x00\\x00\\x00\\x00\\x00\\x00\\x00\\x00\\x00\\x00\\x00\\x00\\x00\\x00\\x00\\x00\\x00\\x00\\x00\\x00\\x00\\x00\\x00\\x00\\x00\\x00\\x00\\x00\\x00\\x00\\x00\\x00\\x00\\x00\\x00\\x00\\x00\\x00\\x00\\x00\\x00\\x00\\x00\\x00\\x00\\x00\\x00\\x00\\x00\\x00\\x00\\x00\\x00\\x00\\x00\\x00\\x00\\x00\\x00\\x00\\x00\\x00\\x00\\x00\\x00\\x00\\x00\\x00\\x00\\x00\\x00\\x00\\x00\\x00\\x00\\x00\\x00\\x00\\x00\\x00\\x00\\x00\\x00\\x00\\x00\\x00\\x00\\x00\\x00\\x00\\x00\\x00\\x00\\x00\\x00\\x00\\x00\\x00\\x00\\x00\\x00\\x00\\x00\\x00\\x00\\x00\\x00\\x00\\x00\\x00\\x00\\x00\\x00\\x00\\x00\\x00\\x00\\x00\\x00\\x00\\x00\\x00\\x00\\x00\\x00\\x00\\x00\\x00\\x00\\x00\\x00\\x00\\x00\\x00\\x00\\x00\\x00\\x00\\x00\\x00\\x00\\x00\\x00\\x00\\x00\\x00\\x00\\x00\\x00\\x00\\x00\\x00\\x00\\x00\\x00\\x00\\x00\\x00\\x00\\x00\\x00\\x00\\x00\\x00\\x00\\x00\\x00\\x00\\x00\\x00\\x00\\x00\\x00\\x00\\x00\\x00\\x00\\x00\\x00\\x00\\x00\\x00\\x00\\x00\\x00\\x00\\x00\\x00\\x00\\x00\\x00\\x00\\x00\\x00\\x00\\x00\\x00\\x00\\x00\\x00\\x00\\x00\\x00\\x00\\x00\\x00\\x00\\x00\\x00\\x00\\x00\\x00\\x00\\x00\\x00\\x00\\x00\\x00\\x00\\x00\\x00\\x00\\x00\\x00\\x00\\x00\\x00\\x00\\x00\\x00\\x00\\x00\\x00\\x00\\x00\\x00\\x00\\x00\\x00\\x00\\x00\\x00\\x00\\x00\\x00\\x00\\x00\\x00\\x00\\x00\\x00\\x00\\x00\\x00\\x00\\x00\\x00\\x00\\x00\\x00\\x00\\x00\\x00\\x00\\x00\\x00\\x00\\x00\\x00\\x00\\x00\\x00\\x00\\x00\\x00\\x00\\x00\\x00\\x00\\x00\\x00\\x00\\x00\\x00\\x00\\x00\\x00\\x00\\x00\\x00\\x00\\x00\\x00\\x00\\x00\\x00\\x00\\x00\\x00\\x00\\x00\\x00\\x00\\x00\\x00\\x00\\x00\\x00\\x00\\x00\\x00\\x00\\x00\\x00\\x00\\x00\\x00\\x00\\x00\\x00\\x00\\x00\\x00\\x00\\x00\\x00\\x00\\x00\\x00\\x00\\x00\\x00\\x00\\x00\\x00\\x00\\x00\\x00\\x00\\x00\\x00\\x00\\x00\\x00\\x00\\x00\\x00\\x00\\x00\\x00\\x00\\x00\\x00\\x00\\x00\\x00\\x00\\x00\\x00\\x00\\x00\\x00\\x00\\x00\\x00\\x00\\x00\\x00\\x00\\x00\\x00\\x00\\x00\\x00\\x00\\x00\\x00\\x00\\x00\\x00\\x00\\x00\\x00\\x00\\x00\\x00\\x00\\x00\\x00\\x00\\x00\\x00\\x00\\x00\\x00\\x00\\x00\\x00\\x00\\x00\\x00\\x00\\x00\\x00\\x00\\x00\\x00\\x00\\x00\\x00\\x00\\x00\\x00\\x00\\x00\\x00\\x00\\x00\\x00\\x00\\x00\\x00\\x00\\x00\\x00\\x00\\x00\\x00\\x00\\x00\\x00\\x00\\x00\\x00\\x00\\x00\\x00\\x00\\x00\\x00\\x00\\x00\\x00\\x00\\x00\\x00\\x00\\x00\\x00\\x00\\x00\\x00\\x00\\x00\\x00\\x00\\x00\\x00\\x00\\x00\\x00\\x00\\x00\\x00\\x00\\x00\\x00\\x00\\x00\\x00\\x00\\x00\\x00\\x00\\x00\\x00\\x00\\x00\\x00\\x00\\xfe\\xff\\x00\\x00\\n\\x00\\x02\\x00\\x00\\x00\\x00\\x00\\x00\\x00\\x00\\x00\\x00\\x00\\x00\\x00\\x00\\x00\\x00\\x00\\x01\\x00\\x00\\x00\\x02\\xd5\\xcd\\xd5\\x9c.\\x1b\\x10\\x93\\x97\\x08\\x00+,\\xf9\\xae0\\x00\\x00\\x00\\xd4\\x00\\x00\\x00\\t\\x00\\x00\\x00\\x01\\x00\\x00\\x00P\\x00\\x00\\x00\\x0f\\x00\\x00\\x00X\\x00\\x00\\x00\\x17\\x00\\x00\\x00t\\x00\\x00\\x00\\x0b\\x00\\x00\\x00|\\x00\\x00\\x00\\x10\\x00\\x00\\x00\\x84\\x00\\x00\\x00\\x13\\x00\\x00\\x00\\x8c\\x00\\x00\\x00\\x16\\x00\\x00\\x00\\x94\\x00\\x00\\x00\\r\\x00\\x00\\x00\\x9c\\x00\\x00\\x00\\x0c\\x00\\x00\\x00\\xaf\\x00\\x00\\x00\\x02\\x00\\x00\\x00\\xe4\\x04\\x00\\x00\\x1e\\x00\\x00\\x00\\x14\\x00\\x00\\x00Webster University\\x00\\x00\\x03\\x00\\x00\\x00\\x00\\x00\\x10\\x00\\x0b\\x00\\x00\\x00\\x00\\x00\\x00\\x00\\x0b\\x00\\x00\\x00\\x00\\x00\\x00\\x00\\x0b\\x00\\x00\\x00\\x00\\x00\\x00\\x00\\x0b\\x00\\x00\\x00\\x00\\x00\\x00\\x00\\x1e\\x10\\x00\\x00\\x01\\x00\\x00\\x00\\x07\\x00\\x00\\x00Sheet1\\x00\\x0c\\x10\\x00\\x00\\x02\\x00\\x00\\x00\\x1e\\x00\\x00\\x00\\x0b\\x00\\x00\\x00Worksheets\\x00\\x03\\x00\\x00\\x00\\x01\\x00\\x00\\x00\\x00\\x00\\x00\\x00\\x00\\x00\\x00\\x00\\x00\\x00\\x00\\x00\\x00\\x00\\x00\\x00\\x00\\x00\\x00\\x00\\x00\\x00\\x00\\x00\\x00\\x00\\x00\\x00\\x00\\x00\\x00\\x00\\x00\\x00\\x00\\x00\\x00\\x00\\x00\\x00\\x00\\x00\\x00\\x00\\x00\\x00\\x00\\x00\\x00\\x00\\x00\\x00\\x00\\x00\\x00\\x00\\x00\\x00\\x00\\x00\\x00\\x00\\x00\\x00\\x00\\x00\\x00\\x00\\x00\\x00\\x00\\x00\\x00\\x00\\x00\\x00\\x00\\x00\\x00\\x00\\x00\\x00\\x00\\x00\\x00\\x00\\x00\\x00\\x00\\x00\\x00\\x00\\x00\\x00\\x00\\x00\\x00\\x00\\x00\\x00\\x00\\x00\\x00\\x00\\x00\\x00\\x00\\x00\\x00\\x00\\x00\\x00\\x00\\x00\\x00\\x00\\x00\\x00\\x00\\x00\\x00\\x00\\x00\\x00\\x00\\x00\\x00\\x00\\x00\\x00\\x00\\x00\\x00\\x00\\x00\\x00\\x00\\x00\\x00\\x00\\x00\\x00\\x00\\x00\\x00\\x00\\x00\\x00\\x00\\x00\\x00\\x00\\x00\\x00\\x00\\x00\\x00\\x00\\x00\\x00\\x00\\x00\\x00\\x00\\x00\\x00\\x00\\x00\\x00\\x00\\x00\\x00\\x00\\x00\\x00\\x00\\x00\\x00\\x00\\x00\\x00\\x00\\x00\\x00\\x00\\x00\\x00\\x00\\x00\\x00\\x00\\x00\\x00\\x00\\x00\\x00\\x00\\x00\\x00\\x00\\x00\\x00\\x00\\x00\\x00\\x00\\x00\\x00\\x00\\x00\\x00\\x00\\x00\\x00\\x00\\x00\\x00\\x00\\x00\\x00\\x00\\x00\\x00\\x00\\x00\\x00\\x00\\x00\\x00\\x00\\x00\\x00\\x00\\x00\\x00\\x00\\x00\\x00\\x00\\x00\\x00\\x00\\x00\\x00\\x00\\x00\\x00\\x00\\x00\\x00\\x00\\x00\\x00\\x00\\x00\\x00\\x00\\x00\\x00\\x00\\x00\\x00\\x00\\x00\\x00\\x00\\x00\\x00\\x00\\x00\\x00\\x00\\x00\\x00\\x00\\x00\\x00\\x00\\x00\\x00\\x00\\x00\\x00\\x00\\x00\\x00\\x00\\x00\\x00\\x00\\x00\\x00\\x00\\x00\\x00\\x00\\x00\\x00\\x00\\x00\\x00\\x00\\x00\\x00\\x00\\x00\\x00\\x00\\x00\\x00\\x00\\x00\\x00\\x00\\x00\\x00\\x00\\x00\\x00\\x00\\x00\\x00\\x00\\x00\\x00\\x00\\x00\\x00\\x00\\x00\\x00\\x00\\x00\\x00\\x00\\x00\\x00\\x00\\x00\\x00\\x00\\x00\\x00\\x00\\x00\\x00\\x00\\x00\\x00\\x00\\x00\\x00\\x00\\x00\\x00\\x00\\x00\\x00\\x00\\x00\\x00\\x00\\x00\\x00\\x00\\x00\\x00\\x00\\x00\\x00\\x00\\x00\\x00\\x00\\x00\\x00\\x00\\x00\\x00\\x00\\x00\\x00\\x00\\x00\\x00\\x00\\x00\\x00\\x00\\x00\\x00\\x00\\x00\\x00\\x00\\x00\\x00\\x00\\x00\\x00\\x00\\x00\\x00\\x00\\x00\\x00\\x00\\x00\\x00\\x00\\x00\\x00\\x00\\x00\\x00\\x00\\x00\\x00\\x00\\x00\\x00\\x00\\x00\\x00\\x00\\x00\\x00\\x00\\x00\\x00\\x00\\x00\\x00\\x00\\x00\\x00\\x00\\x00\\x00\\x00\\x00\\x00\\x00\\x00\\x00\\x00\\x00\\x00\\x00\\x00\\x00\\x00\\x00\\x00\\x00\\x00\\x00\\x00\\x00\\x00\\x00\\x00\\x00\\x00\\x00\\x00\\x00\\x00\\x00\\x00\\x00\\x00\\x00\\x00\\x00\\x00\\x00\\x00\\x00\\x00\\x00\\x00\\x00\\x00\\x00\\x00\\x00\\x00\\x00\\x00\\x00\\x00\\x00\\x00\\x00\\x00\\x00\\x00\\x00\\x00\\x00\\x00\\x00\\x00\\x00\\x00\\x00\\x00\\x00\\x00\\x00\\x00\\x00\\x00\\x00\\x00\\x00\\x00\\x00\\x00\\x00\\x00\\x00\\x00\\x00\\x00\\x00\\x00\\x00\\x00\\x00\\x00\\x00\\x00\\x00\\x00\\x00\\x00\\x00\\x00\\x00\\x00\\x00\\x00\\x00\\x00\\x00\\x00\\x00\\x00\\x00\\x00\\x00\\x00\\x00\\x00\\x00\\x00\\x00\\x00\\x00\\x00\\x00\\x00\\x00\\x00\\x00\\x00\\x00\\x00\\x00\\x00\\x00\\x00\\x00\\x00\\x00\\x00\\x00\\x00\\x00\\x00\\x00\\x00\\x00\\x00\\x00\\x00\\x00\\x00\\x00\\x00\\x00\\x00\\x00\\x00\\x00\\x00\\x00\\x00\\x00\\x00\\x00\\x00\\x00\\x00\\x00\\x00\\x00\\x00\\x00\\x00\\x00\\x00\\x00\\x00\\x00\\x00\\x00\\x00\\x00\\x00\\x00\\x00\\x00\\x00\\x00\\x00\\x00\\x00\\x00\\x00\\x00\\x00\\x00\\x00\\x00\\x00\\x00\\x00\\x00\\x00\\x00\\x00\\x00\\x00\\x00\\x00\\x00\\x00\\x00\\x00\\x00\\x00\\x00\\x00\\x00\\x00\\x00\\x00\\x00\\x00\\x00\\x00\\x00\\x00\\x00\\x00\\x00\\x00\\x00\\x00\\x00\\x00\\x00\\x00\\x00\\x00\\x00\\x00\\x00\\x00\\x00\\x00\\x00\\x00\\x00\\x00\\x00\\x00\\x00\\x00\\x00\\x00\\x00\\x00\\x00\\x00\\x00\\x00\\x00\\x00\\x00\\x00\\x00\\x00\\x00\\x00\\x00\\x00\\x00\\x00\\x00\\x00\\x00\\x00\\x00\\x00\\x00\\x00\\x00\\x00\\x00\\x00\\x00\\x00\\x00\\x00\\x00\\x00\\x00\\x00\\x00\\x00\\x00\\x00\\x00\\x00\\x00\\x00\\x00\\x00\\x00\\x00\\x00\\x00\\x00\\x00\\x00\\x00\\x00\\x00\\x00\\x00\\x00\\x00\\x00\\x00\\x00\\x00\\x00\\x00\\x00\\x00\\x00\\x00\\x00\\x00\\x00\\x00\\x00\\x00\\x00\\x00\\x00\\x00\\x00\\x00\\x00\\x00\\x00\\x00\\x00\\x00\\x00\\x00\\x00\\x00\\x00\\x00\\x00\\x00\\x00\\x00\\x00\\x00\\x00\\x00\\x00\\x00\\x00\\x00\\x00\\x00\\x00\\x00\\x00\\x00\\x00\\x00\\x00\\x00\\x00\\x00\\x00\\x00\\x00\\x00\\x00\\x00\\x00\\x00\\x00\\x00\\x00\\x00\\x00\\x00\\x00\\x00\\x00\\x00\\x00\\x00\\x00\\x00\\x00\\x00\\x00\\x00\\x00\\x00\\x00\\x00\\x00\\x00\\x00\\x00\\x00\\x00\\x00\\x00\\x00\\x00\\x00\\x00\\x00\\x00\\x00\\x00\\x00\\x00\\x00\\x00\\x00\\x00\\x00\\x00\\x00\\x00\\x00\\x00\\x00\\x00\\x00\\x00\\x00\\x00\\x00\\x00\\x00\\x00\\x00\\x00\\x00\\x00\\x00\\x00\\x00\\x00\\x00\\x00\\x00\\x00\\x00\\x00\\x00\\x00\\x00\\x00\\x00\\x00\\x00\\x00\\x00\\x00\\x00\\x00\\x00\\x00\\x00\\x00\\x00\\x00\\x00\\x00\\x00\\x00\\x00\\x00\\x00\\x00\\x00\\x00\\x00\\x00\\x00\\x00\\x00\\x00\\x00\\x00\\x00\\x00\\x00\\x00\\x00\\x00\\x00\\x00\\x00\\x00\\x00\\x00\\x00\\x00\\x00\\x00\\x00\\x00\\x00\\x00\\x00\\x00\\x00\\x00\\x00\\x00\\x00\\x00\\x00\\x00\\x00\\x00\\x00\\x00\\x00\\x00\\x00\\x00\\x00\\x00\\x00\\x00\\x00\\x00\\x00\\x00\\x00\\x00\\x00\\x00\\x00\\x00\\x00\\x00\\x00\\x00\\x00\\x00\\x00\\x00\\x00\\x00\\x00\\x00\\x00\\x00\\x00\\x00\\x00\\x00\\x00\\x00\\x00\\x00\\x00\\x00\\x00\\x00\\x00\\x00\\x00\\x00\\x00\\x00\\x00\\x00\\x00\\x00\\x00\\x00\\x00\\x00\\x00\\x00\\x00\\x00\\x00\\x00\\x00\\x00\\x00\\x00\\x00\\x00\\x00\\x00\\x00\\x00\\x00\\x00\\x00\\x00\\x00\\x00\\x00\\x00\\x00\\x00\\x00\\x00\\x00\\x00\\x00\\x00\\x00\\x00\\x00\\x00\\x00\\x00\\x00\\x00\\x00\\x00\\x00\\x00\\x00\\x00\\x00\\x00\\x00\\x00\\x00\\x00\\x00\\x00\\x00\\x00\\x00\\x00\\x00\\x00\\x00\\x00\\x00\\x00\\x00\\x00\\x00\\x00\\x00\\x00\\x00\\x00\\x00\\x00\\x00\\x00\\x00\\x00\\x00\\x00\\x00\\x00\\x00\\x00\\x00\\x00\\x00\\x00\\x00\\x00\\x00\\x00\\x00\\x00\\x00\\x00\\x00\\x00\\x00\\x00\\x00\\x00\\x00\\x00\\x00\\x00\\x00\\x00\\x00\\x00\\x00\\x00\\x00\\x00\\x00\\x00\\x00\\x00\\x00\\x00\\x00\\x00\\x00\\x00\\x00\\x00\\x00\\x00\\x00\\x00\\x00\\x00\\x00\\x00\\x00\\x00\\x00\\x00\\x00\\x00\\x00\\x00\\x00\\x00\\x00\\x00\\x00\\x00\\x00\\x00\\x00\\x00\\x00\\x00\\x00\\x00\\x00\\x00\\x00\\x00\\x00\\x00\\x00\\x00\\x00\\x00\\x00\\x00\\x00\\x00\\x00\\x00\\x00\\x00\\x00\\x00\\x00\\x00\\x00\\x00\\x00\\x00\\x00\\x00\\x00\\x00\\x00\\x00\\x00\\x00\\x00\\x00\\x00\\x00\\x00\\x00\\x00\\x00\\x00\\x00\\x00\\x00\\x00\\x00\\x00\\x00\\x00\\x00\\x00\\x00\\x00\\x00\\x00\\x00\\x00\\x00\\x00\\x00\\x00\\x00\\x00\\x00\\x00\\x00\\x00\\x00\\x00\\x00\\x00\\x00\\x00\\x00\\x00\\x00\\x00\\x00\\x00\\x00\\x00\\x00\\x00\\x00\\x00\\x00\\x00\\x00\\x00\\x00\\x00\\x00\\x00\\x00\\x00\\x00\\x00\\x00\\x00\\x00\\x00\\x00\\x00\\x00\\x00\\x00\\x00\\x00\\x00\\x00\\x00\\x00\\x00\\x00\\x00\\x00\\x00\\x00\\x00\\x00\\x00\\x00\\x00\\x00\\x00\\x00\\x00\\x00\\x00\\x00\\x00\\x00\\x00\\x00\\x00\\x00\\x00\\x00\\x00\\x00\\x00\\x00\\x00\\x00\\x00\\x00\\x00\\x00\\x00\\x00\\x00\\x00\\x00\\x00\\x00\\x00\\x00\\x00\\x00\\x00\\x00\\x00\\x00\\x00\\x00\\x00\\x00\\x00\\x00\\x00\\x00\\x00\\x00\\x00\\x00\\x00\\x00\\x00\\x00\\x00\\x00\\x00\\x00\\x00\\x00\\x00\\x00\\x00\\x00\\x00\\x00\\x00\\x00\\x00\\x00\\x00\\x00\\x00\\x00\\x00\\x00\\x00\\x00\\x00\\x00\\x00\\x00\\x00\\x00\\x00\\x00\\x00\\x00\\x00\\x00\\x00\\x00\\x00\\x00\\x00\\x00\\x00\\x00\\x00\\x00\\x00\\x00\\x00\\x00\\x00\\x00\\x00\\x00\\x00\\x00\\x00\\x00\\x00\\x00\\x00\\x00\\x00\\x00\\x00\\x00\\x00\\x00\\x00\\x00\\x00\\x00\\x00\\x00\\x00\\x00\\x00\\x00\\x00\\x00\\x00\\x00\\x00\\x00\\x00\\x00\\x00\\x00\\x00\\x00\\x00\\x00\\x00\\x00\\x00\\x00\\x00\\x00\\x00\\x00\\x00\\x00\\x00\\x00\\x00\\x00\\x00\\x00\\x00\\x00\\x00\\x00\\x00\\x00\\x00\\x00\\x00\\x00\\x00\\x00\\x00\\x00\\x00\\x00\\x00\\x00\\x00\\x00\\x00\\x00\\x00\\x00\\x00\\x00\\x00\\x00\\x00\\x00\\x00\\x00\\x00\\x00\\x00\\x00\\x00\\x00\\x00\\x00\\x00\\x00\\x00\\x00\\x00\\x00\\x00\\x00\\x00\\x00\\x00\\x00\\x00\\x00\\x00\\x00\\x00\\x00\\x00\\x00\\x00\\x00\\x00\\x00\\x00\\x00\\x00\\x00\\x00\\x00\\x00\\x00\\x00\\x00\\x00\\x00\\x00\\x00\\x00\\x00\\x00\\x00\\x00\\x00\\x00\\x00\\x00\\x00\\x00\\x00\\x00\\x00\\x00\\x00\\x00\\x00\\x00\\x00\\x00\\x00\\x00\\x00\\x00\\x00\\x00\\x00\\x00\\x00\\x00\\x00\\x00\\x00\\x00\\x00\\x00\\x00\\x00\\x00\\x00\\x00\\x00\\x00\\x00\\x00\\x00\\x00\\x00\\x00\\x00\\x00\\x00\\x00\\x00\\x00\\x00\\x00\\x00\\x00\\x00\\x00\\x00\\x00\\x00\\x00\\x00\\x00\\x00\\x00\\x00\\x00\\x00\\x00\\x00\\x00\\x00\\x00\\x00\\x00\\x00\\x00\\x00\\x00\\x00\\x00\\x00\\x00\\x00\\x00\\x00\\x00\\x00\\x00\\x00\\x00\\x00\\x00\\x00\\x00\\x00\\x00\\x00\\x00\\x00\\x00\\x00\\x00\\x00\\x00\\x00\\x00\\x00\\x00\\x00\\x00\\x00\\x00\\x00\\x00\\x00\\x00\\x00\\x00\\x00\\x00\\x00\\x00\\x00\\x00\\x00\\x00\\x00\\x00\\x00\\x00\\x00\\x00\\x00\\x00\\x00\\x00\\x00\\x00\\x00\\x00\\x00\\x00\\x00\\x00\\x00\\x00\\x00\\x00\\x00\\x00\\x00\\x00\\x00\\x00\\x00\\x00\\x00\\x00\\x00\\x00\\x00\\x00\\x00\\x00\\x00\\x00\\x00\\x00\\x00\\x00\\x00\\x00\\x00\\x00\\x00\\x00\\x00\\x00\\x00\\x00\\x00\\x00\\x00\\x00\\x00\\x00\\x00\\x00\\x00\\x00\\x00\\x00\\x00\\x00\\x00\\x00\\x00\\x00\\x00\\x00\\x00\\x00\\x00\\x00\\x00\\x00\\x00\\x00\\x00\\x00\\x00\\x00\\x00\\x00\\x00\\x00\\x00\\x00\\x00\\x00\\x00\\x00\\x00\\x00\\x00\\x00\\x00\\x00\\x00\\x00\\x00\\x00\\x00\\x00\\x00\\x00\\x00\\x00\\x00\\x00\\x00\\x00\\x00\\x00\\x00\\x00\\x00\\x00\\x00\\x00\\x00\\x00\\x00\\x00\\x00\\x00\\x00\\x00\\x00\\x00\\x00\\x00\\x00\\x00\\x00\\x00\\x00\\x00\\x00\\x00\\x00\\x00\\x00\\x00\\x00\\x00\\x00\\x00\\x00\\x00\\x00\\x00\\x00\\x00\\x00\\x00\\x00\\x00\\x00\\x00\\x00\\x00\\x00\\x00\\x00\\x00\\x00\\x00\\x00\\x00\\x00\\x00\\x00\\x00\\x00\\x00\\x00\\x00\\x00\\x00\\x00\\x00\\x00\\x00\\x00\\x00\\x00\\x00\\x00\\x00\\x00\\x00\\x00\\x00\\x00\\x00\\x00\\x00\\x00\\x00\\x00\\x00\\x00\\x00\\x00\\x00\\x00\\x00\\x00\\x00\\x00\\x00\\x00\\x00\\x00\\x00\\x00\\x00\\x00\\x00\\x00\\x00\\x00\\x00\\x00\\x00\\x00\\x00\\x00\\x00\\x00\\x00\\x00\\x00\\x00\\x00\\x00\\x00\\x00\\x00\\x00\\x00\\x00\\x00\\x00\\x00\\x00\\x00\\x00\\x00\\x00\\x00\\x00\\x00\\x00\\x00\\x00\\x00\\x00\\x00\\x00\\x00\\x00\\x00\\x00\\x00\\x00\\x00\\x00\\x00\\x00\\x00\\x00\\x00\\x00\\x00\\x00\\x00\\x00\\x00\\x00\\x00\\x00\\x00\\x00\\x00\\x00\\x00\\x00\\x00\\x00\\x00\\x00\\x00\\x00\\x00\\x00\\x00\\x00\\x00\\x00\\x00\\x00\\x00\\x00\\x00\\x00\\x00\\x00\\x00\\x00\\x00\\x00\\x00\\x00\\x00\\x00\\x00\\x00\\x00\\x00\\x00\\x00\\x00\\x00\\x00\\x00\\x00\\x00\\x00\\x00\\x00\\x00\\x00\\x00\\x00\\x00\\x00\\x00\\x00\\x00\\x00\\x00\\x00\\x00\\x00\\x00\\x00\\x00\\x00\\x00\\x00\\x00\\x00\\x00\\x00\\x00\\x00\\x00\\x00\\x00\\x00\\x00\\x00\\x00\\x00\\x00\\x00\\x00\\x00\\x00\\x00\\x00\\x00\\x00\\x00\\x00\\x00\\x00\\x00\\x00\\x00\\x00\\x00\\x00\\x00\\x00\\x00\\x00\\x00\\x00\\x00\\x00\\x00\\x00\\x00\\x00\\x00\\x00\\x00\\x00\\x00\\x00\\x00\\x00\\x00\\x00\\x00\\x00\\x00\\x00\\x00\\x00\\x00\\x00\\x00\\x00\\x00\\x00\\x00\\x00\\x00\\x00\\x00\\x00\\x00\\x00\\x00\\x00\\x00\\x00\\x00\\x00\\x00\\x00\\x00\\x00\\x00\\x00\\x00\\x00\\x00\\x00\\x00\\x00\\x00\\x00\\x00\\x00\\x00\\x00\\x00\\x00\\x00\\x00\\x00\\x00\\x00\\x00\\x00\\x00\\x00\\x00\\x00\\x00\\x00\\x00\\x00\\x00\\x00\\x00\\x00\\x00\\x00\\x00\\x00\\x00\\x00\\x00\\x00\\x00\\x00\\x00\\x00\\x00\\x00\\x00\\x00\\x00\\x00\\x00\\x00\\x00\\x00\\x00\\x00\\x00\\x00\\x00\\x00\\x00\\x00\\x00\\x00\\x00\\x00\\x00\\x00\\x00\\x00\\x00\\x00\\x00\\x00\\x00\\x00\\x00\\x00\\x00\\x00\\x00\\x00\\x00\\x00\\x00\\x00\\x00\\x00\\x00\\x00\\x00\\x00\\x00\\x00\\x00\\x00\\x00\\x00\\x00\\x00\\x00\\x00\\x00\\x00\\x00\\x00\\x00\\x00\\x00\\x00\\x00\\x00\\x00\\x00\\x00\\x00\\x00\\x00\\x00\\x00\\x00\\x00\\x00\\x00\\x00\\x00\\x00\\x00\\x00\\x00\\x00\\x00\\x00\\x00\\x00\\x00\\x00\\x00\\x00\\x00\\x00\\x00\\x00\\x00\\x00\\x00\\x00\\x00\\x00\\x00\\x00\\x00\\x00\\x00\\x00\\x00\\x00\\x00\\x00\\x00\\x00\\x00\\x00\\x00\\x00\\x00\\x00\\x00\\x00\\x00\\x00\\x00\\x00\\x00\\x00\\x00\\x00\\x00\\x00\\x00\\x00\\x00\\x00\\x00\\x00\\x00\\x00\\x00\\x00\\x00\\x00\\x00\\x00\\x00\\x00\\x00\\x00\\x00\\x00\\x00\\x00\\x00\\x00\\x00\\x00\\x00\\x00\\x00\\x00\\x00\\x00\\x00\\x00\\x00\\x00\\x00\\x00\\x00\\x00\\x00\\x00\\x00\\x00\\x00\\x00\\x00\\x00\\x00\\x00\\x00\\x00\\x00\\x00\\x00\\x00\\x00\\x00\\x00\\x00\\x00\\x00\\x00\\x00\\x00\\x00\\x00\\x00\\x00\\x00\\x00\\x00\\x00\\x00\\x00\\x00\\x00\\x00\\x00\\x00\\x00\\x00\\x00\\x00\\x00\\x00\\x00\\x00\\x00\\x00\\x00\\x00\\x00\\x00\\x00\\x00\\x00\\x00\\x00\\x00\\x00\\x00\\x00\\x00\\x00\\x00\\x00\\x00\\x00\\x00\\x00\\x00\\x00\\x00\\x00\\x00\\x00\\x00\\x00\\x00\\x00\\x00\\x00\\x00\\x00\\x00\\x00\\x00\\x00\\x00\\x00\\x00\\x00\\x00\\x00\\x00\\x00\\x00\\x00\\x00\\x00\\x00\\x00\\x00\\x00\\x00\\x00\\x00\\x00\\x00\\x00\\x00\\x00\\x00\\x00\\x00\\x00\\x00\\x00\\x00\\x00\\x00\\x00\\x00\\x00\\x00\\x00\\x00\\x00\\x00\\x00\\x00\\x00\\x00\\x00\\x00\\x00\\x00\\x00\\x00\\x00\\x00\\x00\\x00\\x00\\x00\\x00\\x00\\x00\\x00\\x00\\x00\\x00\\x00\\x00\\x00\\x00\\x00\\x00\\x00\\x00\\x00\\x00\\x00\\x00\\x00\\x00\\x00\\x00\\x00\\x00\\x00\\x00\\x00\\x00\\x00\\x00\\x00\\x00\\x00\\x00\\x00\\x00\\x00\\x00\\x00\\x00\\x00\\x00\\x00\\x00\\x00\\x00\\x00\\x00\\x00\\x00\\x00\\x00\\x00\\x00\\x00\\x00\\x00\\x00\\x00\\x00\\x00\\x00\\x00\\x00\\x00\\x00\\x00\\x00\\x00\\x00\\x00\\x00\\x00\\x00\\x00\\x00\\x00\\x00\\x00\\x00\\x00\\x00\\x00\\x00\\x00\\x00\\x00\\x00\\x00\\x00\\x00\\x00\\x00\\x00\\x00\\x00\\x00\\x00\\x00\\x00\\x00\\x00\\x00\\x00\\x00\\x00\\x00\\x00\\x00\\x00\\x00\\x00\\x00\\x00\\x00\\x00\\x00\\x00\\x00\\x00\\x00\\x00\\x00\\x00\\x00\\x00\\x00\\x00\\x00\\x00\\x00\\x00\\x00\\x00\\x00\\x00\\x00\\x00\\x00\\x00\\x00\\x00\\x00\\x00\\x00\\x00\\x00\\x00\\x00\\x00\\x00\\x00\\x00\\x00\\x00\\x00\\x00\\x00\\x00\\x00\\x00\\x00\\x00\\x00\\x00\\x00\\x00\\x00\\x00\\x00\\x00\\x00\\x00\\x00\\x00\\x00\\x00\\x00\\x00\\x00\\x00\\x00\\x00\\x00\\x00\\x00\\x00\\x00\\x00\\x00\\x00\\x00\\x00\\x00\\x00\\x00\\x00\\x00\\x00\\x00\\x00\\x00\\x00\\x00\\x00\\x00\\x00\\x00\\x00\\x00\\x00\\x00\\x00\\x00\\x00\\x00\\x00\\x00\\x00\\x00\\x00\\x00\\x00\\x00\\x00\\x00\\x00\\x00\\x00\\x00\\x00\\x00\\x00\\x00\\x00\\x00\\x00\\x00\\x00\\x00\\x00\\x00\\x00\\x00\\x00\\x00\\x00\\x00\\x00\\x00\\x00\\x00\\x00\\x00\\x00\\x00\\x00\\x00\\x00\\x00\\x00\\x00\\x00\\x00\\x00\\x00\\x00\\x00\\x00\\x00\\x00\\x00\\x00\\x00\\x00\\x00\\x00\\x00\\x00\\x00\\x00\\x00\\x00\\x00\\x00\\x00\\x00\\x00\\x00\\x00\\x00\\x00\\x00\\x00\\x00\\x00\\x00\\x00\\x00\\x00\\x00\\x00\\x00\\x00\\x00\\x00\\x00\\x00\\x00\\x00\\x00\\x00\\x00\\x00\\x00\\x00\\x00\\x00\\x00\\x00\\x00\\x00\\x00\\x00\\x00\\x00\\x00\\x00\\x00\\x00\\x00\\x00\\x00\\x00\\x00\\x00\\x00\\x00\\x00\\x00\\x00\\x00\\x00\\x00\\x00\\x00\\x00\\x00\\x00\\x00\\x00\\x00\\x00\\x00\\x00\\x00\\x00\\x00\\x00\\x00\\x00\\x00\\x00\\x00\\x00\\x00\\x00\\x00\\x00\\x00\\x00\\x00\\x00\\x00\\x00\\x00\\x00\\x00\\x00\\x00\\x00\\x00\\x00\\x00\\x00\\x00\\x00\\x00\\x00\\x00\\x00\\x00\\x00\\x00\\x00\\x00\\x00\\x00\\x00\\x00\\x00\\x00\\x00\\x00\\x00\\x00\\x00\\x00\\x00\\x00\\x00\\x00\\x00\\x00\\x00\\x00\\x00\\x00\\x00\\x00\\x00\\x00\\x00\\x00\\x00\\x00\\x00\\x00\\x00\\x00\\x00\\x00\\x00\\x00\\x00\\x00\\x00\\x00\\x00\\x00\\x00\\x00\\x00\\x00\\x00\\x00\\x00\\x00\\x00\\x00\\x00\\x00\\x00\\x00\\x00\\x00\\x00\\x00\\x00\\x00\\x00\\x00\\x00\\x00\\x00\\x00\\x00\\x00\\x00\\x00\\x00\\x00\\x00\\x00\\x00\\x00\\x00\\x00\\x00\\x00\\x00\\x00\\x00\\x00\\x00\\x00\\x00\\x00\\x00\\x00\\x00\\x00\\x00\\x00\\x00\\x00\\x00\\x00\\x00\\x00\\x00\\x00\\x00\\x00\\x00\\x00\\x00\\x00\\x00\\x00\\x00\\x00\\x00\\x00\\x00\\x00\\x00\\x00\\x00\\x00\\x00\\x00\\x00\\x00\\x00\\x00\\x00\\x00\\x00\\x00\\x00\\x00\\x00\\x00\\x00\\x00\\x00\\x00\\x00\\x00\\x00\\x00\\x00\\x00\\x00\\x00\\x00\\x00\\x00\\x00\\x00\\x00\\x00\\x00\\x00\\x00\\x00\\x00\\x00\\x00\\x00\\x00\\x00\\x00\\x00\\x00\\x00\\x00\\x00\\x00\\x00\\x00\\x00\\x00\\x00\\x00\\x00\\x00\\x00\\x00\\x00\\x00\\x00\\x00\\x00\\x00\\x00\\x00\\x00\\x00\\x00\\x00\\x00\\x00\\x00\\x00\\x00\\x00\\x00\\x00\\x00\\x00\\x00\\x00\\x00\\x00\\x00\\x00\\x00\\x00\\x00\\x00\\x00\\x00\\x00\\x00\\x00\\x00\\x00\\x00\\x00\\x00\\x00\\x00\\x00\\x00\\x00\\x00\\x00\\x00\\x00\\x00\\x00\\x00\\x00\\x00\\x00\\x00\\x00\\x00\\x00\\x00\\x00\\x00\\x00\\x00\\x00\\x00\\x00\\x00\\x00\\x00\\x00\\x00\\x00\\x00\\x00\\x00\\x00\\x00\\x00\\x00\\x00\\x00\\x00\\x00\\x00\\x00\\x00\\x00\\x00\\x00\\x00\\x00\\x00\\x00\\x00\\x00\\x00\\x00\\x00\\x00\\x00\\x00\\x00\\x00\\x00\\x00\\x00\\x00\\x00\\x00\\x00\\x00\\x00\\x00\\x00\\x00\\x00\\x00\\x00\\x00\\x00\\x00\\x00\\x00\\x00\\x00\\x00\\x00\\x00\\x00\\x00\\x00\\x00\\x00\\x00\\x00\\x00\\x00\\x00\\x00\\x00\\x00\\x00\\x00\\x00\\x00\\x00\\x00\\x00\\x00\\x00\\x00\\x00\\x00\\x00\\x00\\x00\\x00\\x00\\x00\\x00\\x00\\x00\\x00\\x00\\x00\\x00\\x00\\x00\\x00\\x00\\x00\\x00\\x00\\x00\\x00\\x00\\x00\\x00\\x00\\x00\\x00\\x00\\x00\\x00\\x00\\x00\\x00\\x00\\x00\\x00\\x00\\x00\\x00\\x00\\x00\\x00\\x00\\x00\\x00\\x00\\x00\\x00\\x00\\x00\\x00\\x00\\x00\\x00\\x00\\x00\\x00\\x00\\x00\\x00\\x00\\x00\\x00\\x00\\x00\\x00\\x00\\x00\\x00\\x00\\x00\\x00\\x00\\x00\\x00\\x00\\x00\\x00\\x00\\x00\\x00\\x00\\x00\\x00\\x00\\x00\\x00\\x00\\x00\\x00\\x00\\x00\\x00\\x00\\x00\\x00\\x00\\x00\\x00\\x00\\x00\\x00\\x00\\x00\\x00\\x00\\x00\\x00\\x00\\x00\\x00\\x00\\x00\\x00\\x00\\x00\\x00\\x00\\x00\\x00\\x00\\x00\\x00\\x00\\x00\\x00\\x00\\x00\\x00\\x00\\x00\\x00\\x00\\x00\\x00\\x00\\x00\\x00\\x00\\x00\\x00\\x00\\x00\\x00\\x00\\x00\\x00\\x00\\x00\\x00\\x00\\x00\\x00\\x00\\x00\\x00\\x00\\x00\\x00\\x00\\x00\\x00\\x00\\x00\\x00\\x00\\x00\\x00\\x00\\x00\\x00\\x00\\x00\\x00\\x00\\x00\\x00\\x00\\x00\\x00\\x00\\x00\\x00\\x00\\x00\\x00\\x00\\x00\\x00\\x00\\x00\\x00\\x00\\x00\\x00\\x00\\x00\\x00\\x00\\x00\\x00\\x00\\x00\\x00\\x00\\x00\\x00\\x00\\x00\\x00\\x00\\x00\\x00\\x00\\x00\\x00\\x00\\x00\\x00\\x00\\x00\\x00\\x00\\x00\\x00\\x00\\x00\\x00\\x00\\x00\\x00\\x00\\x00\\x00\\x00\\x00\\x00\\x00\\x00\\x00\\x00\\x00\\x00\\x00\\x00\\x00\\x00\\x00\\x00\\x00\\x00\\x00\\x00\\x00\\x00\\x00\\x00\\x00\\x00\\x00\\x00\\x00\\x00\\x00\\x00\\x00\\x00\\x00\\x00\\x00\\x00\\x00\\x00\\x00\\x00\\x00\\x00\\x00\\x00\\x00\\x00\\x00\\x00\\x00\\x00\\x00\\x00\\x00\\x00\\x00\\x00\\x00\\x00\\x00\\x00\\x00\\x00\\x00\\x00\\x00\\x00\\x00\\x00\\x00\\x00\\x00\\x00\\x00\\x00\\x00\\x00\\x00\\x00\\x00\\x00\\x00\\x00\\x00\\x00\\x00\\x00\\x00\\x00\\x00\\x00\\x00\\x00\\x00\\x00\\x00\\x00\\x00\\x00\\x00\\x00\\x00\\x00\\x00\\x00\\x00\\x00\\x00\\x00\\x00\\x00\\x00\\x00\\x00\\x00\\x00\\x00\\x00\\x00\\x00\\x00\\x00\\x00\\x00\\x00\\x00\\x00\\x00\\x00\\x00\\x00\\x00\\x00\\x00\\x00\\x00\\x00\\x00\\x00\\x00\\x00\\x00\\x00\\x00\\x00\\x00\\x00\\x00\\x00\\x00\\x00\\x00\\x00\\x00\\x00\\x00\\x00\\x00\\x00\\x00\\x00\\x00\\x00\\x00\\x00\\x00\\x00\\x00\\x00\\x00\\x00\\x00\\x00\\x00\\x00\\x00\\x00\\x00\\x00\\x00\\x00\\x00\\x00\\x00\\x00\\x00\\x00\\x00\\x00\\x00\\x00\\x00\\x00\\x00\\x00\\x00\\x00\\x00\\x00\\x00\\x00\\x00\\x00\\x00\\x00\\x00\\x00\\x00\\x00\\x00\\x00\\x00\\x00\\x00\\x00\\x00\\x00\\x00\\x00\\x00\\x00\\x00\\x00\\x00\\x00\\x00\\x00\\x00\\x00\\x00\\x00\\x00\\x00\\x00\\x00\\x00\\x00\\x00\\x00\\x00\\x00\\x00\\x00\\x00\\x00\\x00\\x00\\x00\\x00\\x00\\x00\\x00\\x00\\x00\\x00\\x00\\x00\\x00\\x00\\x00\\x00\\x00\\x00\\x00\\x00\\x00\\x00\\x00\\x00\\x00\\x00\\x00\\x00\\x00\\x00\\x00\\x00\\x00\\x00\\x00\\x00\\x00\\x00\\x00\\x00\\x00\\x00\\x00\\x00\\x00\\x00\\x00\\x00\\x00\\x00\\x00\\x00\\x00\\x00\\x00\\x00\\x00\\x00\\x00\\x00\\x00\\x00\\x00\\x00\\x00\\x00\\x00\\x00\\x00\\x00\\x00\\x00\\x00\\x00\\x00\\x00\\x00\\x00\\x00\\x00\\x00\\x00\\x00\\x00\\x00\\x00\\x00\\x00\\x00\\x00\\x00\\x00\\x00\\x00\\x00\\x00\\x00\\x00\\x00\\x00\\x00\\x00\\x00\\x00\\x00\\x00\\x00\\x00\\x00\\x00\\x00\\x00\\x00\\x00\\x00\\x00\\x00\\x00\\x00\\x00\\x00\\x00\\x00\\x00\\x00\\x00\\x00\\x00\\x00\\x00\\x00\\x00\\x00\\x01\\x00\\x00\\x00\\x02\\x00\\x00\\x00\\x03\\x00\\x00\\x00\\x04\\x00\\x00\\x00\\x05\\x00\\x00\\x00\\x06\\x00\\x00\\x00\\x07\\x00\\x00\\x00\\x08\\x00\\x00\\x00\\t\\x00\\x00\\x00\\n\\x00\\x00\\x00\\x0b\\x00\\x00\\x00\\x0c\\x00\\x00\\x00\\r\\x00\\x00\\x00\\x0e\\x00\\x00\\x00\\x0f\\x00\\x00\\x00\\x10\\x00\\x00\\x00\\x11\\x00\\x00\\x00\\x12\\x00\\x00\\x00\\x13\\x00\\x00\\x00\\x14\\x00\\x00\\x00\\x15\\x00\\x00\\x00\\x16\\x00\\x00\\x00\\x17\\x00\\x00\\x00\\x18\\x00\\x00\\x00\\x19\\x00\\x00\\x00\\x1a\\x00\\x00\\x00\\x1b\\x00\\x00\\x00\\x1c\\x00\\x00\\x00\\x1d\\x00\\x00\\x00\\x1e\\x00\\x00\\x00\\x1f\\x00\\x00\\x00 \\x00\\x00\\x00!\\x00\\x00\\x00\"\\x00\\x00\\x00#\\x00\\x00\\x00$\\x00\\x00\\x00%\\x00\\x00\\x00&\\x00\\x00\\x00\\'\\x00\\x00\\x00(\\x00\\x00\\x00)\\x00\\x00\\x00*\\x00\\x00\\x00+\\x00\\x00\\x00,\\x00\\x00\\x00-\\x00\\x00\\x00.\\x00\\x00\\x00/\\x00\\x00\\x000\\x00\\x00\\x001\\x00\\x00\\x002\\x00\\x00\\x00\\xfe\\xff\\xff\\xff4\\x00\\x00\\x005\\x00\\x00\\x006\\x00\\x00\\x007\\x00\\x00\\x008\\x00\\x00\\x009\\x00\\x00\\x00:\\x00\\x00\\x00\\xfe\\xff\\xff\\xff<\\x00\\x00\\x00=\\x00\\x00\\x00>\\x00\\x00\\x00?\\x00\\x00\\x00@\\x00\\x00\\x00A\\x00\\x00\\x00B\\x00\\x00\\x00\\xfe\\xff\\xff\\xff\\xfd\\xff\\xff\\xff\\xfe\\xff\\xff\\xff\\xff\\xff\\xff\\xff\\xff\\xff\\xff\\xff\\xff\\xff\\xff\\xff\\xff\\xff\\xff\\xff\\xff\\xff\\xff\\xff\\xff\\xff\\xff\\xff\\xff\\xff\\xff\\xff\\xff\\xff\\xff\\xff\\xff\\xff\\xff\\xff\\xff\\xff\\xff\\xff\\xff\\xff\\xff\\xff\\xff\\xff\\xff\\xff\\xff\\xff\\xff\\xff\\xff\\xff\\xff\\xff\\xff\\xff\\xff\\xff\\xff\\xff\\xff\\xff\\xff\\xff\\xff\\xff\\xff\\xff\\xff\\xff\\xff\\xff\\xff\\xff\\xff\\xff\\xff\\xff\\xff\\xff\\xff\\xff\\xff\\xff\\xff\\xff\\xff\\xff\\xff\\xff\\xff\\xff\\xff\\xff\\xff\\xff\\xff\\xff\\xff\\xff\\xff\\xff\\xff\\xff\\xff\\xff\\xff\\xff\\xff\\xff\\xff\\xff\\xff\\xff\\xff\\xff\\xff\\xff\\xff\\xff\\xff\\xff\\xff\\xff\\xff\\xff\\xff\\xff\\xff\\xff\\xff\\xff\\xff\\xff\\xff\\xff\\xff\\xff\\xff\\xff\\xff\\xff\\xff\\xff\\xff\\xff\\xff\\xff\\xff\\xff\\xff\\xff\\xff\\xff\\xff\\xff\\xff\\xff\\xff\\xff\\xff\\xff\\xff\\xff\\xff\\xff\\xff\\xff\\xff\\xff\\xff\\xff\\xff\\xff\\xff\\xff\\xff\\xff\\xff\\xff\\xff\\xff\\xff\\xff\\xff\\xff\\xff\\xff\\xff\\xff\\xff\\xff\\xff\\xff\\xff\\xff\\xff\\xff\\xff\\xff\\xff\\xff\\xff\\xff\\xff\\xff\\xff\\xff\\xff\\xff\\xff\\xff\\xff\\xff\\xff\\xff\\xff\\xff\\xff\\xff\\xff\\xff\\xff\\xff\\xff\\xff\\xff\\xff\\xff\\xff\\xff\\xff\\xff\\xffR\\x00o\\x00o\\x00t\\x00 \\x00E\\x00n\\x00t\\x00r\\x00y\\x00\\x00\\x00\\x00\\x00\\x00\\x00\\x00\\x00\\x00\\x00\\x00\\x00\\x00\\x00\\x00\\x00\\x00\\x00\\x00\\x00\\x00\\x00\\x00\\x00\\x00\\x00\\x00\\x00\\x00\\x00\\x00\\x00\\x00\\x00\\x00\\x00\\x00\\x00\\x00\\x00\\x00\\x00\\x00\\x00\\x16\\x00\\x05\\x01\\xff\\xff\\xff\\xff\\xff\\xff\\xff\\xff\\x02\\x00\\x00\\x00 \\x08\\x02\\x00\\x00\\x00\\x00\\x00\\xc0\\x00\\x00\\x00\\x00\\x00\\x00F\\x00\\x00\\x00\\x00\\x00\\x00\\x00\\x00\\x00\\x00\\x00\\x00\\x00\\x00\\x00\\x00\\x00\\x00\\x00\\x00\\xfe\\xff\\xff\\xff\\x00\\x00\\x00\\x00\\x00\\x00\\x00\\x00W\\x00o\\x00r\\x00k\\x00b\\x00o\\x00o\\x00k\\x00\\x00\\x00\\x00\\x00\\x00\\x00\\x00\\x00\\x00\\x00\\x00\\x00\\x00\\x00\\x00\\x00\\x00\\x00\\x00\\x00\\x00\\x00\\x00\\x00\\x00\\x00\\x00\\x00\\x00\\x00\\x00\\x00\\x00\\x00\\x00\\x00\\x00\\x00\\x00\\x00\\x00\\x00\\x00\\x00\\x00\\x00\\x00\\x00\\x12\\x00\\x02\\x01\\xff\\xff\\xff\\xff\\xff\\xff\\xff\\xff\\xff\\xff\\xff\\xff\\x00\\x00\\x00\\x00\\x00\\x00\\x00\\x00\\x00\\x00\\x00\\x00\\x00\\x00\\x00\\x00\\x00\\x00\\x00\\x00\\x00\\x00\\x00\\x00\\x00\\x00\\x00\\x00\\x00\\x00\\x00\\x00\\x00\\x00\\x00\\x00\\x00\\x00\\x00\\x00\\xcbe\\x00\\x00\\x00\\x00\\x00\\x00\\x05\\x00S\\x00u\\x00m\\x00m\\x00a\\x00r\\x00y\\x00I\\x00n\\x00f\\x00o\\x00r\\x00m\\x00a\\x00t\\x00i\\x00o\\x00n\\x00\\x00\\x00\\x00\\x00\\x00\\x00\\x00\\x00\\x00\\x00\\x00\\x00\\x00\\x00\\x00\\x00\\x00\\x00\\x00\\x00\\x00\\x00\\x00\\x00\\x00\\x00(\\x00\\x02\\x01\\x01\\x00\\x00\\x00\\x03\\x00\\x00\\x00\\xff\\xff\\xff\\xff\\x00\\x00\\x00\\x00\\x00\\x00\\x00\\x00\\x00\\x00\\x00\\x00\\x00\\x00\\x00\\x00\\x00\\x00\\x00\\x00\\x00\\x00\\x00\\x00\\x00\\x00\\x00\\x00\\x00\\x00\\x00\\x00\\x00\\x00\\x00\\x003\\x00\\x00\\x00\\x00\\x10\\x00\\x00\\x00\\x00\\x00\\x00\\x05\\x00D\\x00o\\x00c\\x00u\\x00m\\x00e\\x00n\\x00t\\x00S\\x00u\\x00m\\x00m\\x00a\\x00r\\x00y\\x00I\\x00n\\x00f\\x00o\\x00r\\x00m\\x00a\\x00t\\x00i\\x00o\\x00n\\x00\\x00\\x00\\x00\\x00\\x00\\x00\\x00\\x00\\x00\\x008\\x00\\x02\\x01\\xff\\xff\\xff\\xff\\xff\\xff\\xff\\xff\\xff\\xff\\xff\\xff\\x00\\x00\\x00\\x00\\x00\\x00\\x00\\x00\\x00\\x00\\x00\\x00\\x00\\x00\\x00\\x00\\x00\\x00\\x00\\x00\\x00\\x00\\x00\\x00\\x00\\x00\\x00\\x00\\x00\\x00\\x00\\x00\\x00\\x00\\x00\\x00;\\x00\\x00\\x00\\x00\\x10\\x00\\x00\\x00\\x00\\x00\\x00'}"
            ]
          },
          "metadata": {},
          "execution_count": 101
        }
      ]
    },
    {
      "cell_type": "code",
      "source": [
        "data=pd.read_excel('iris.xls')"
      ],
      "metadata": {
        "id": "UARW48i1LnNb"
      },
      "execution_count": 102,
      "outputs": []
    },
    {
      "cell_type": "code",
      "source": [
        "data.head()"
      ],
      "metadata": {
        "colab": {
          "base_uri": "https://localhost:8080/",
          "height": 206
        },
        "id": "5l5BbqbeL7mS",
        "outputId": "28936047-28ed-4788-8937-55b7d4d85edb"
      },
      "execution_count": 103,
      "outputs": [
        {
          "output_type": "execute_result",
          "data": {
            "text/plain": [
              "    SL   SW   PL   PW Classification\n",
              "0  5.1  3.5  1.4  0.2    Iris-setosa\n",
              "1  4.9  3.0  1.4  0.2    Iris-setosa\n",
              "2  NaN  3.2  1.3  0.2    Iris-setosa\n",
              "3  4.6  3.1  1.5  0.2    Iris-setosa\n",
              "4  5.0  3.6  1.4  0.2    Iris-setosa"
            ],
            "text/html": [
              "\n",
              "  <div id=\"df-8e4f5325-6c9c-474f-b6e0-06c0fb95f080\">\n",
              "    <div class=\"colab-df-container\">\n",
              "      <div>\n",
              "<style scoped>\n",
              "    .dataframe tbody tr th:only-of-type {\n",
              "        vertical-align: middle;\n",
              "    }\n",
              "\n",
              "    .dataframe tbody tr th {\n",
              "        vertical-align: top;\n",
              "    }\n",
              "\n",
              "    .dataframe thead th {\n",
              "        text-align: right;\n",
              "    }\n",
              "</style>\n",
              "<table border=\"1\" class=\"dataframe\">\n",
              "  <thead>\n",
              "    <tr style=\"text-align: right;\">\n",
              "      <th></th>\n",
              "      <th>SL</th>\n",
              "      <th>SW</th>\n",
              "      <th>PL</th>\n",
              "      <th>PW</th>\n",
              "      <th>Classification</th>\n",
              "    </tr>\n",
              "  </thead>\n",
              "  <tbody>\n",
              "    <tr>\n",
              "      <th>0</th>\n",
              "      <td>5.1</td>\n",
              "      <td>3.5</td>\n",
              "      <td>1.4</td>\n",
              "      <td>0.2</td>\n",
              "      <td>Iris-setosa</td>\n",
              "    </tr>\n",
              "    <tr>\n",
              "      <th>1</th>\n",
              "      <td>4.9</td>\n",
              "      <td>3.0</td>\n",
              "      <td>1.4</td>\n",
              "      <td>0.2</td>\n",
              "      <td>Iris-setosa</td>\n",
              "    </tr>\n",
              "    <tr>\n",
              "      <th>2</th>\n",
              "      <td>NaN</td>\n",
              "      <td>3.2</td>\n",
              "      <td>1.3</td>\n",
              "      <td>0.2</td>\n",
              "      <td>Iris-setosa</td>\n",
              "    </tr>\n",
              "    <tr>\n",
              "      <th>3</th>\n",
              "      <td>4.6</td>\n",
              "      <td>3.1</td>\n",
              "      <td>1.5</td>\n",
              "      <td>0.2</td>\n",
              "      <td>Iris-setosa</td>\n",
              "    </tr>\n",
              "    <tr>\n",
              "      <th>4</th>\n",
              "      <td>5.0</td>\n",
              "      <td>3.6</td>\n",
              "      <td>1.4</td>\n",
              "      <td>0.2</td>\n",
              "      <td>Iris-setosa</td>\n",
              "    </tr>\n",
              "  </tbody>\n",
              "</table>\n",
              "</div>\n",
              "      <button class=\"colab-df-convert\" onclick=\"convertToInteractive('df-8e4f5325-6c9c-474f-b6e0-06c0fb95f080')\"\n",
              "              title=\"Convert this dataframe to an interactive table.\"\n",
              "              style=\"display:none;\">\n",
              "        \n",
              "  <svg xmlns=\"http://www.w3.org/2000/svg\" height=\"24px\"viewBox=\"0 0 24 24\"\n",
              "       width=\"24px\">\n",
              "    <path d=\"M0 0h24v24H0V0z\" fill=\"none\"/>\n",
              "    <path d=\"M18.56 5.44l.94 2.06.94-2.06 2.06-.94-2.06-.94-.94-2.06-.94 2.06-2.06.94zm-11 1L8.5 8.5l.94-2.06 2.06-.94-2.06-.94L8.5 2.5l-.94 2.06-2.06.94zm10 10l.94 2.06.94-2.06 2.06-.94-2.06-.94-.94-2.06-.94 2.06-2.06.94z\"/><path d=\"M17.41 7.96l-1.37-1.37c-.4-.4-.92-.59-1.43-.59-.52 0-1.04.2-1.43.59L10.3 9.45l-7.72 7.72c-.78.78-.78 2.05 0 2.83L4 21.41c.39.39.9.59 1.41.59.51 0 1.02-.2 1.41-.59l7.78-7.78 2.81-2.81c.8-.78.8-2.07 0-2.86zM5.41 20L4 18.59l7.72-7.72 1.47 1.35L5.41 20z\"/>\n",
              "  </svg>\n",
              "      </button>\n",
              "      \n",
              "  <style>\n",
              "    .colab-df-container {\n",
              "      display:flex;\n",
              "      flex-wrap:wrap;\n",
              "      gap: 12px;\n",
              "    }\n",
              "\n",
              "    .colab-df-convert {\n",
              "      background-color: #E8F0FE;\n",
              "      border: none;\n",
              "      border-radius: 50%;\n",
              "      cursor: pointer;\n",
              "      display: none;\n",
              "      fill: #1967D2;\n",
              "      height: 32px;\n",
              "      padding: 0 0 0 0;\n",
              "      width: 32px;\n",
              "    }\n",
              "\n",
              "    .colab-df-convert:hover {\n",
              "      background-color: #E2EBFA;\n",
              "      box-shadow: 0px 1px 2px rgba(60, 64, 67, 0.3), 0px 1px 3px 1px rgba(60, 64, 67, 0.15);\n",
              "      fill: #174EA6;\n",
              "    }\n",
              "\n",
              "    [theme=dark] .colab-df-convert {\n",
              "      background-color: #3B4455;\n",
              "      fill: #D2E3FC;\n",
              "    }\n",
              "\n",
              "    [theme=dark] .colab-df-convert:hover {\n",
              "      background-color: #434B5C;\n",
              "      box-shadow: 0px 1px 3px 1px rgba(0, 0, 0, 0.15);\n",
              "      filter: drop-shadow(0px 1px 2px rgba(0, 0, 0, 0.3));\n",
              "      fill: #FFFFFF;\n",
              "    }\n",
              "  </style>\n",
              "\n",
              "      <script>\n",
              "        const buttonEl =\n",
              "          document.querySelector('#df-8e4f5325-6c9c-474f-b6e0-06c0fb95f080 button.colab-df-convert');\n",
              "        buttonEl.style.display =\n",
              "          google.colab.kernel.accessAllowed ? 'block' : 'none';\n",
              "\n",
              "        async function convertToInteractive(key) {\n",
              "          const element = document.querySelector('#df-8e4f5325-6c9c-474f-b6e0-06c0fb95f080');\n",
              "          const dataTable =\n",
              "            await google.colab.kernel.invokeFunction('convertToInteractive',\n",
              "                                                     [key], {});\n",
              "          if (!dataTable) return;\n",
              "\n",
              "          const docLinkHtml = 'Like what you see? Visit the ' +\n",
              "            '<a target=\"_blank\" href=https://colab.research.google.com/notebooks/data_table.ipynb>data table notebook</a>'\n",
              "            + ' to learn more about interactive tables.';\n",
              "          element.innerHTML = '';\n",
              "          dataTable['output_type'] = 'display_data';\n",
              "          await google.colab.output.renderOutput(dataTable, element);\n",
              "          const docLink = document.createElement('div');\n",
              "          docLink.innerHTML = docLinkHtml;\n",
              "          element.appendChild(docLink);\n",
              "        }\n",
              "      </script>\n",
              "    </div>\n",
              "  </div>\n",
              "  "
            ]
          },
          "metadata": {},
          "execution_count": 103
        }
      ]
    },
    {
      "cell_type": "code",
      "source": [
        "#checking the basic details of the dataset"
      ],
      "metadata": {
        "id": "8_i9agoa_ppY"
      },
      "execution_count": null,
      "outputs": []
    },
    {
      "cell_type": "code",
      "source": [
        "data.shape"
      ],
      "metadata": {
        "colab": {
          "base_uri": "https://localhost:8080/"
        },
        "id": "dKzji8WOMHE9",
        "outputId": "1abef9c0-379f-4665-d63b-59394a99165d"
      },
      "execution_count": 104,
      "outputs": [
        {
          "output_type": "execute_result",
          "data": {
            "text/plain": [
              "(150, 5)"
            ]
          },
          "metadata": {},
          "execution_count": 104
        }
      ]
    },
    {
      "cell_type": "code",
      "source": [
        "data.describe()"
      ],
      "metadata": {
        "colab": {
          "base_uri": "https://localhost:8080/",
          "height": 300
        },
        "id": "3oFdmOn-MMv3",
        "outputId": "3e187d56-8ad0-4721-c07a-e971c685a408"
      },
      "execution_count": 105,
      "outputs": [
        {
          "output_type": "execute_result",
          "data": {
            "text/plain": [
              "               SL          SW          PL          PW\n",
              "count  143.000000  144.000000  144.000000  150.000000\n",
              "mean     5.855944    3.049306    3.756250    1.198667\n",
              "std      0.828168    0.430644    1.761306    0.763161\n",
              "min      4.300000    2.000000    1.000000    0.100000\n",
              "25%      5.100000    2.800000    1.600000    0.300000\n",
              "50%      5.800000    3.000000    4.350000    1.300000\n",
              "75%      6.400000    3.300000    5.100000    1.800000\n",
              "max      7.900000    4.400000    6.900000    2.500000"
            ],
            "text/html": [
              "\n",
              "  <div id=\"df-9cd5fbd8-1e35-4d15-84c1-18e56f69b38e\">\n",
              "    <div class=\"colab-df-container\">\n",
              "      <div>\n",
              "<style scoped>\n",
              "    .dataframe tbody tr th:only-of-type {\n",
              "        vertical-align: middle;\n",
              "    }\n",
              "\n",
              "    .dataframe tbody tr th {\n",
              "        vertical-align: top;\n",
              "    }\n",
              "\n",
              "    .dataframe thead th {\n",
              "        text-align: right;\n",
              "    }\n",
              "</style>\n",
              "<table border=\"1\" class=\"dataframe\">\n",
              "  <thead>\n",
              "    <tr style=\"text-align: right;\">\n",
              "      <th></th>\n",
              "      <th>SL</th>\n",
              "      <th>SW</th>\n",
              "      <th>PL</th>\n",
              "      <th>PW</th>\n",
              "    </tr>\n",
              "  </thead>\n",
              "  <tbody>\n",
              "    <tr>\n",
              "      <th>count</th>\n",
              "      <td>143.000000</td>\n",
              "      <td>144.000000</td>\n",
              "      <td>144.000000</td>\n",
              "      <td>150.000000</td>\n",
              "    </tr>\n",
              "    <tr>\n",
              "      <th>mean</th>\n",
              "      <td>5.855944</td>\n",
              "      <td>3.049306</td>\n",
              "      <td>3.756250</td>\n",
              "      <td>1.198667</td>\n",
              "    </tr>\n",
              "    <tr>\n",
              "      <th>std</th>\n",
              "      <td>0.828168</td>\n",
              "      <td>0.430644</td>\n",
              "      <td>1.761306</td>\n",
              "      <td>0.763161</td>\n",
              "    </tr>\n",
              "    <tr>\n",
              "      <th>min</th>\n",
              "      <td>4.300000</td>\n",
              "      <td>2.000000</td>\n",
              "      <td>1.000000</td>\n",
              "      <td>0.100000</td>\n",
              "    </tr>\n",
              "    <tr>\n",
              "      <th>25%</th>\n",
              "      <td>5.100000</td>\n",
              "      <td>2.800000</td>\n",
              "      <td>1.600000</td>\n",
              "      <td>0.300000</td>\n",
              "    </tr>\n",
              "    <tr>\n",
              "      <th>50%</th>\n",
              "      <td>5.800000</td>\n",
              "      <td>3.000000</td>\n",
              "      <td>4.350000</td>\n",
              "      <td>1.300000</td>\n",
              "    </tr>\n",
              "    <tr>\n",
              "      <th>75%</th>\n",
              "      <td>6.400000</td>\n",
              "      <td>3.300000</td>\n",
              "      <td>5.100000</td>\n",
              "      <td>1.800000</td>\n",
              "    </tr>\n",
              "    <tr>\n",
              "      <th>max</th>\n",
              "      <td>7.900000</td>\n",
              "      <td>4.400000</td>\n",
              "      <td>6.900000</td>\n",
              "      <td>2.500000</td>\n",
              "    </tr>\n",
              "  </tbody>\n",
              "</table>\n",
              "</div>\n",
              "      <button class=\"colab-df-convert\" onclick=\"convertToInteractive('df-9cd5fbd8-1e35-4d15-84c1-18e56f69b38e')\"\n",
              "              title=\"Convert this dataframe to an interactive table.\"\n",
              "              style=\"display:none;\">\n",
              "        \n",
              "  <svg xmlns=\"http://www.w3.org/2000/svg\" height=\"24px\"viewBox=\"0 0 24 24\"\n",
              "       width=\"24px\">\n",
              "    <path d=\"M0 0h24v24H0V0z\" fill=\"none\"/>\n",
              "    <path d=\"M18.56 5.44l.94 2.06.94-2.06 2.06-.94-2.06-.94-.94-2.06-.94 2.06-2.06.94zm-11 1L8.5 8.5l.94-2.06 2.06-.94-2.06-.94L8.5 2.5l-.94 2.06-2.06.94zm10 10l.94 2.06.94-2.06 2.06-.94-2.06-.94-.94-2.06-.94 2.06-2.06.94z\"/><path d=\"M17.41 7.96l-1.37-1.37c-.4-.4-.92-.59-1.43-.59-.52 0-1.04.2-1.43.59L10.3 9.45l-7.72 7.72c-.78.78-.78 2.05 0 2.83L4 21.41c.39.39.9.59 1.41.59.51 0 1.02-.2 1.41-.59l7.78-7.78 2.81-2.81c.8-.78.8-2.07 0-2.86zM5.41 20L4 18.59l7.72-7.72 1.47 1.35L5.41 20z\"/>\n",
              "  </svg>\n",
              "      </button>\n",
              "      \n",
              "  <style>\n",
              "    .colab-df-container {\n",
              "      display:flex;\n",
              "      flex-wrap:wrap;\n",
              "      gap: 12px;\n",
              "    }\n",
              "\n",
              "    .colab-df-convert {\n",
              "      background-color: #E8F0FE;\n",
              "      border: none;\n",
              "      border-radius: 50%;\n",
              "      cursor: pointer;\n",
              "      display: none;\n",
              "      fill: #1967D2;\n",
              "      height: 32px;\n",
              "      padding: 0 0 0 0;\n",
              "      width: 32px;\n",
              "    }\n",
              "\n",
              "    .colab-df-convert:hover {\n",
              "      background-color: #E2EBFA;\n",
              "      box-shadow: 0px 1px 2px rgba(60, 64, 67, 0.3), 0px 1px 3px 1px rgba(60, 64, 67, 0.15);\n",
              "      fill: #174EA6;\n",
              "    }\n",
              "\n",
              "    [theme=dark] .colab-df-convert {\n",
              "      background-color: #3B4455;\n",
              "      fill: #D2E3FC;\n",
              "    }\n",
              "\n",
              "    [theme=dark] .colab-df-convert:hover {\n",
              "      background-color: #434B5C;\n",
              "      box-shadow: 0px 1px 3px 1px rgba(0, 0, 0, 0.15);\n",
              "      filter: drop-shadow(0px 1px 2px rgba(0, 0, 0, 0.3));\n",
              "      fill: #FFFFFF;\n",
              "    }\n",
              "  </style>\n",
              "\n",
              "      <script>\n",
              "        const buttonEl =\n",
              "          document.querySelector('#df-9cd5fbd8-1e35-4d15-84c1-18e56f69b38e button.colab-df-convert');\n",
              "        buttonEl.style.display =\n",
              "          google.colab.kernel.accessAllowed ? 'block' : 'none';\n",
              "\n",
              "        async function convertToInteractive(key) {\n",
              "          const element = document.querySelector('#df-9cd5fbd8-1e35-4d15-84c1-18e56f69b38e');\n",
              "          const dataTable =\n",
              "            await google.colab.kernel.invokeFunction('convertToInteractive',\n",
              "                                                     [key], {});\n",
              "          if (!dataTable) return;\n",
              "\n",
              "          const docLinkHtml = 'Like what you see? Visit the ' +\n",
              "            '<a target=\"_blank\" href=https://colab.research.google.com/notebooks/data_table.ipynb>data table notebook</a>'\n",
              "            + ' to learn more about interactive tables.';\n",
              "          element.innerHTML = '';\n",
              "          dataTable['output_type'] = 'display_data';\n",
              "          await google.colab.output.renderOutput(dataTable, element);\n",
              "          const docLink = document.createElement('div');\n",
              "          docLink.innerHTML = docLinkHtml;\n",
              "          element.appendChild(docLink);\n",
              "        }\n",
              "      </script>\n",
              "    </div>\n",
              "  </div>\n",
              "  "
            ]
          },
          "metadata": {},
          "execution_count": 105
        }
      ]
    },
    {
      "cell_type": "code",
      "source": [
        "data.info()"
      ],
      "metadata": {
        "colab": {
          "base_uri": "https://localhost:8080/"
        },
        "id": "ne-8nTO_Mnth",
        "outputId": "16f7a100-8861-4dcc-d517-7b508e159931"
      },
      "execution_count": 106,
      "outputs": [
        {
          "output_type": "stream",
          "name": "stdout",
          "text": [
            "<class 'pandas.core.frame.DataFrame'>\n",
            "RangeIndex: 150 entries, 0 to 149\n",
            "Data columns (total 5 columns):\n",
            " #   Column          Non-Null Count  Dtype  \n",
            "---  ------          --------------  -----  \n",
            " 0   SL              143 non-null    float64\n",
            " 1   SW              144 non-null    float64\n",
            " 2   PL              144 non-null    float64\n",
            " 3   PW              150 non-null    float64\n",
            " 4   Classification  150 non-null    object \n",
            "dtypes: float64(4), object(1)\n",
            "memory usage: 6.0+ KB\n"
          ]
        }
      ]
    },
    {
      "cell_type": "code",
      "source": [
        "data.isna().sum()"
      ],
      "metadata": {
        "colab": {
          "base_uri": "https://localhost:8080/"
        },
        "id": "A_adyxAUM6xd",
        "outputId": "9aeb7fbb-208c-4037-f74c-a6af505c265a"
      },
      "execution_count": 107,
      "outputs": [
        {
          "output_type": "execute_result",
          "data": {
            "text/plain": [
              "SL                7\n",
              "SW                6\n",
              "PL                6\n",
              "PW                0\n",
              "Classification    0\n",
              "dtype: int64"
            ]
          },
          "metadata": {},
          "execution_count": 107
        }
      ]
    },
    {
      "cell_type": "code",
      "source": [
        "data.Classification.value_counts()"
      ],
      "metadata": {
        "colab": {
          "base_uri": "https://localhost:8080/"
        },
        "id": "orH8vSuNVPQX",
        "outputId": "85e8099c-3d8b-44c4-91d5-28ca699b7fcf"
      },
      "execution_count": 108,
      "outputs": [
        {
          "output_type": "execute_result",
          "data": {
            "text/plain": [
              "Iris-setosa        50\n",
              "Iris-versicolor    50\n",
              "Iris-virginica     50\n",
              "Name: Classification, dtype: int64"
            ]
          },
          "metadata": {},
          "execution_count": 108
        }
      ]
    },
    {
      "cell_type": "code",
      "source": [
        "#filling the missing values"
      ],
      "metadata": {
        "id": "RVNnZnOg_k07"
      },
      "execution_count": null,
      "outputs": []
    },
    {
      "cell_type": "code",
      "source": [
        "data['SL']=data['SL'].fillna(data['SL'].median())"
      ],
      "metadata": {
        "id": "JHXgX51_WInw"
      },
      "execution_count": 109,
      "outputs": []
    },
    {
      "cell_type": "code",
      "source": [
        "data['SW']=data['SW'].fillna(data['SW'].median())"
      ],
      "metadata": {
        "id": "oh9KXydmWX0L"
      },
      "execution_count": 110,
      "outputs": []
    },
    {
      "cell_type": "code",
      "source": [
        "data['PL']=data['PL'].fillna(data['PL'].median())"
      ],
      "metadata": {
        "id": "bsM_RKjhWp_-"
      },
      "execution_count": 111,
      "outputs": []
    },
    {
      "cell_type": "code",
      "source": [
        "data.isna().sum()"
      ],
      "metadata": {
        "colab": {
          "base_uri": "https://localhost:8080/"
        },
        "id": "cYqxpy4AW7RZ",
        "outputId": "77cce47b-8996-48ce-b510-e388dcb2435c"
      },
      "execution_count": 112,
      "outputs": [
        {
          "output_type": "execute_result",
          "data": {
            "text/plain": [
              "SL                0\n",
              "SW                0\n",
              "PL                0\n",
              "PW                0\n",
              "Classification    0\n",
              "dtype: int64"
            ]
          },
          "metadata": {},
          "execution_count": 112
        }
      ]
    },
    {
      "cell_type": "code",
      "source": [
        "#Handling Outliers"
      ],
      "metadata": {
        "id": "Gw59U17H_dij"
      },
      "execution_count": null,
      "outputs": []
    },
    {
      "cell_type": "code",
      "source": [
        "plt.boxplot(data['SL'])\n",
        "plt.title('SL')\n",
        "plt.show()"
      ],
      "metadata": {
        "colab": {
          "base_uri": "https://localhost:8080/",
          "height": 281
        },
        "id": "0kohzkWRf8X_",
        "outputId": "33f1d895-8782-49cf-a226-8c4040c474bf"
      },
      "execution_count": 113,
      "outputs": [
        {
          "output_type": "display_data",
          "data": {
            "text/plain": [
              "<Figure size 432x288 with 1 Axes>"
            ],
            "image/png": "[encoded data removed]"
          },
          "metadata": {
            "needs_background": "light"
          }
        }
      ]
    },
    {
      "cell_type": "code",
      "source": [
        "plt.boxplot(data['PW'])\n",
        "plt.title('PW')\n",
        "plt.show()"
      ],
      "metadata": {
        "colab": {
          "base_uri": "https://localhost:8080/",
          "height": 281
        },
        "id": "Sr3u59RJZZh0",
        "outputId": "fbc682f2-6fd3-46e7-9cda-06febbd442ed"
      },
      "execution_count": 114,
      "outputs": [
        {
          "output_type": "display_data",
          "data": {
            "text/plain": [
              "<Figure size 432x288 with 1 Axes>"
            ],
            "image/png": "[encoded data removed]"
          },
          "metadata": {
            "needs_background": "light"
          }
        }
      ]
    },
    {
      "cell_type": "code",
      "source": [
        "plt.boxplot(data['PL'])\n",
        "plt.title('PL')\n",
        "plt.show()"
      ],
      "metadata": {
        "colab": {
          "base_uri": "https://localhost:8080/",
          "height": 281
        },
        "id": "V0A-DzTrgHXd",
        "outputId": "57fc73e5-1c34-4220-9348-4b29a9042e96"
      },
      "execution_count": 115,
      "outputs": [
        {
          "output_type": "display_data",
          "data": {
            "text/plain": [
              "<Figure size 432x288 with 1 Axes>"
            ],
            "image/png": "[encoded data removed]"
          },
          "metadata": {
            "needs_background": "light"
          }
        }
      ]
    },
    {
      "cell_type": "code",
      "source": [
        "plt.boxplot(data['SW'])\n",
        "plt.title('SW')\n",
        "plt.show()"
      ],
      "metadata": {
        "colab": {
          "base_uri": "https://localhost:8080/",
          "height": 281
        },
        "id": "FIwTlVTBZ5lV",
        "outputId": "90b7a5bb-b36a-4dd1-fe65-9f00532a41df"
      },
      "execution_count": 116,
      "outputs": [
        {
          "output_type": "display_data",
          "data": {
            "text/plain": [
              "<Figure size 432x288 with 1 Axes>"
            ],
            "image/png": "[encoded data removed]"
          },
          "metadata": {
            "needs_background": "light"
          }
        }
      ]
    },
    {
      "cell_type": "code",
      "source": [
        "Q1=np.percentile(data['SW'],25,interpolation='midpoint')\n",
        "Q2=np.percentile(data['SW'],50,interpolation='midpoint')\n",
        "Q3=np.percentile(data['SW'],75,interpolation='midpoint')"
      ],
      "metadata": {
        "id": "sX-M5HNAe4pJ"
      },
      "execution_count": 117,
      "outputs": []
    },
    {
      "cell_type": "code",
      "source": [
        "print(Q1)\n",
        "print(Q2)\n",
        "print(Q3)"
      ],
      "metadata": {
        "colab": {
          "base_uri": "https://localhost:8080/"
        },
        "id": "qxrL-klzghzg",
        "outputId": "444d76e1-8d64-439f-d2ab-0bcf9ad66d75"
      },
      "execution_count": 118,
      "outputs": [
        {
          "output_type": "stream",
          "name": "stdout",
          "text": [
            "2.8\n",
            "3.0\n",
            "3.25\n"
          ]
        }
      ]
    },
    {
      "cell_type": "code",
      "source": [
        "IQR=Q3-Q1\n",
        "print(Q3-Q1)"
      ],
      "metadata": {
        "colab": {
          "base_uri": "https://localhost:8080/"
        },
        "id": "wJbjcLHegmTC",
        "outputId": "6c1462a7-3624-45db-c51b-58131a6a37df"
      },
      "execution_count": 119,
      "outputs": [
        {
          "output_type": "stream",
          "name": "stdout",
          "text": [
            "0.4500000000000002\n"
          ]
        }
      ]
    },
    {
      "cell_type": "code",
      "source": [
        "upper_limit=Q3+1.5*IQR\n",
        "lower_limit=Q1-1.5*IQR"
      ],
      "metadata": {
        "id": "yrQXrMwRgp4s"
      },
      "execution_count": 120,
      "outputs": []
    },
    {
      "cell_type": "code",
      "source": [
        "print(lower_limit)\n",
        "print(upper_limit)"
      ],
      "metadata": {
        "colab": {
          "base_uri": "https://localhost:8080/"
        },
        "id": "oEsBR82iguA8",
        "outputId": "bae7653d-202a-44a3-be18-740e4eab04d6"
      },
      "execution_count": 121,
      "outputs": [
        {
          "output_type": "stream",
          "name": "stdout",
          "text": [
            "2.1249999999999996\n",
            "3.9250000000000003\n"
          ]
        }
      ]
    },
    {
      "cell_type": "code",
      "source": [
        "outlier=[]\n",
        "for x in data['SW']:\n",
        "  if((x>upper_limit) or (x<lower_limit)):\n",
        "    outlier.append(x)"
      ],
      "metadata": {
        "id": "RJNwPUgogyrD"
      },
      "execution_count": 122,
      "outputs": []
    },
    {
      "cell_type": "code",
      "source": [
        "outlier"
      ],
      "metadata": {
        "colab": {
          "base_uri": "https://localhost:8080/"
        },
        "id": "7RWH_F1Zg7kv",
        "outputId": "f8c3d130-9259-40ef-d6d1-a17f22bf07db"
      },
      "execution_count": 123,
      "outputs": [
        {
          "output_type": "execute_result",
          "data": {
            "text/plain": [
              "[4.0, 4.4, 4.1, 4.2, 2.0]"
            ]
          },
          "metadata": {},
          "execution_count": 123
        }
      ]
    },
    {
      "cell_type": "code",
      "source": [
        "index_out=data['SW']>upper_limit"
      ],
      "metadata": {
        "id": "jPBCSiLJhBgO"
      },
      "execution_count": 124,
      "outputs": []
    },
    {
      "cell_type": "code",
      "source": [
        "data.loc[index_out].index"
      ],
      "metadata": {
        "colab": {
          "base_uri": "https://localhost:8080/"
        },
        "id": "tokpITkvhHGc",
        "outputId": "99435e49-33f4-460c-ccad-877ba9826c78"
      },
      "execution_count": 125,
      "outputs": [
        {
          "output_type": "execute_result",
          "data": {
            "text/plain": [
              "Int64Index([14, 15, 32, 33], dtype='int64')"
            ]
          },
          "metadata": {},
          "execution_count": 125
        }
      ]
    },
    {
      "cell_type": "code",
      "source": [
        "data.drop(data.loc[index_out].index,inplace=True)"
      ],
      "metadata": {
        "id": "L9wCUuoOhN9o"
      },
      "execution_count": 126,
      "outputs": []
    },
    {
      "cell_type": "code",
      "source": [
        "data.head(20)"
      ],
      "metadata": {
        "colab": {
          "base_uri": "https://localhost:8080/",
          "height": 677
        },
        "id": "yeokF-lxhP0r",
        "outputId": "c29e5575-daa1-4b45-ecdd-a4f650f1182e"
      },
      "execution_count": 127,
      "outputs": [
        {
          "output_type": "execute_result",
          "data": {
            "text/plain": [
              "     SL   SW   PL   PW Classification\n",
              "0   5.1  3.5  1.4  0.2    Iris-setosa\n",
              "1   4.9  3.0  1.4  0.2    Iris-setosa\n",
              "2   5.8  3.2  1.3  0.2    Iris-setosa\n",
              "3   4.6  3.1  1.5  0.2    Iris-setosa\n",
              "4   5.0  3.6  1.4  0.2    Iris-setosa\n",
              "5   5.4  3.9  1.7  0.4    Iris-setosa\n",
              "6   4.6  3.4  1.4  0.3    Iris-setosa\n",
              "7   5.0  3.4  1.5  0.2    Iris-setosa\n",
              "8   4.4  2.9  1.4  0.2    Iris-setosa\n",
              "9   4.9  3.1  1.5  0.1    Iris-setosa\n",
              "10  5.4  3.0  1.5  0.2    Iris-setosa\n",
              "11  4.8  3.4  1.6  0.2    Iris-setosa\n",
              "12  4.8  3.0  1.4  0.1    Iris-setosa\n",
              "13  4.3  3.0  1.1  0.1    Iris-setosa\n",
              "16  5.4  3.9  1.3  0.4    Iris-setosa\n",
              "17  5.1  3.5  1.4  0.3    Iris-setosa\n",
              "18  5.7  3.8  1.7  0.3    Iris-setosa\n",
              "19  5.1  3.8  1.5  0.3    Iris-setosa\n",
              "20  5.4  3.4  1.7  0.2    Iris-setosa\n",
              "21  5.8  3.7  1.5  0.4    Iris-setosa"
            ],
            "text/html": [
              "\n",
              "  <div id=\"df-5c939e53-282e-4c26-b97e-70625d2168fa\">\n",
              "    <div class=\"colab-df-container\">\n",
              "      <div>\n",
              "<style scoped>\n",
              "    .dataframe tbody tr th:only-of-type {\n",
              "        vertical-align: middle;\n",
              "    }\n",
              "\n",
              "    .dataframe tbody tr th {\n",
              "        vertical-align: top;\n",
              "    }\n",
              "\n",
              "    .dataframe thead th {\n",
              "        text-align: right;\n",
              "    }\n",
              "</style>\n",
              "<table border=\"1\" class=\"dataframe\">\n",
              "  <thead>\n",
              "    <tr style=\"text-align: right;\">\n",
              "      <th></th>\n",
              "      <th>SL</th>\n",
              "      <th>SW</th>\n",
              "      <th>PL</th>\n",
              "      <th>PW</th>\n",
              "      <th>Classification</th>\n",
              "    </tr>\n",
              "  </thead>\n",
              "  <tbody>\n",
              "    <tr>\n",
              "      <th>0</th>\n",
              "      <td>5.1</td>\n",
              "      <td>3.5</td>\n",
              "      <td>1.4</td>\n",
              "      <td>0.2</td>\n",
              "      <td>Iris-setosa</td>\n",
              "    </tr>\n",
              "    <tr>\n",
              "      <th>1</th>\n",
              "      <td>4.9</td>\n",
              "      <td>3.0</td>\n",
              "      <td>1.4</td>\n",
              "      <td>0.2</td>\n",
              "      <td>Iris-setosa</td>\n",
              "    </tr>\n",
              "    <tr>\n",
              "      <th>2</th>\n",
              "      <td>5.8</td>\n",
              "      <td>3.2</td>\n",
              "      <td>1.3</td>\n",
              "      <td>0.2</td>\n",
              "      <td>Iris-setosa</td>\n",
              "    </tr>\n",
              "    <tr>\n",
              "      <th>3</th>\n",
              "      <td>4.6</td>\n",
              "      <td>3.1</td>\n",
              "      <td>1.5</td>\n",
              "      <td>0.2</td>\n",
              "      <td>Iris-setosa</td>\n",
              "    </tr>\n",
              "    <tr>\n",
              "      <th>4</th>\n",
              "      <td>5.0</td>\n",
              "      <td>3.6</td>\n",
              "      <td>1.4</td>\n",
              "      <td>0.2</td>\n",
              "      <td>Iris-setosa</td>\n",
              "    </tr>\n",
              "    <tr>\n",
              "      <th>5</th>\n",
              "      <td>5.4</td>\n",
              "      <td>3.9</td>\n",
              "      <td>1.7</td>\n",
              "      <td>0.4</td>\n",
              "      <td>Iris-setosa</td>\n",
              "    </tr>\n",
              "    <tr>\n",
              "      <th>6</th>\n",
              "      <td>4.6</td>\n",
              "      <td>3.4</td>\n",
              "      <td>1.4</td>\n",
              "      <td>0.3</td>\n",
              "      <td>Iris-setosa</td>\n",
              "    </tr>\n",
              "    <tr>\n",
              "      <th>7</th>\n",
              "      <td>5.0</td>\n",
              "      <td>3.4</td>\n",
              "      <td>1.5</td>\n",
              "      <td>0.2</td>\n",
              "      <td>Iris-setosa</td>\n",
              "    </tr>\n",
              "    <tr>\n",
              "      <th>8</th>\n",
              "      <td>4.4</td>\n",
              "      <td>2.9</td>\n",
              "      <td>1.4</td>\n",
              "      <td>0.2</td>\n",
              "      <td>Iris-setosa</td>\n",
              "    </tr>\n",
              "    <tr>\n",
              "      <th>9</th>\n",
              "      <td>4.9</td>\n",
              "      <td>3.1</td>\n",
              "      <td>1.5</td>\n",
              "      <td>0.1</td>\n",
              "      <td>Iris-setosa</td>\n",
              "    </tr>\n",
              "    <tr>\n",
              "      <th>10</th>\n",
              "      <td>5.4</td>\n",
              "      <td>3.0</td>\n",
              "      <td>1.5</td>\n",
              "      <td>0.2</td>\n",
              "      <td>Iris-setosa</td>\n",
              "    </tr>\n",
              "    <tr>\n",
              "      <th>11</th>\n",
              "      <td>4.8</td>\n",
              "      <td>3.4</td>\n",
              "      <td>1.6</td>\n",
              "      <td>0.2</td>\n",
              "      <td>Iris-setosa</td>\n",
              "    </tr>\n",
              "    <tr>\n",
              "      <th>12</th>\n",
              "      <td>4.8</td>\n",
              "      <td>3.0</td>\n",
              "      <td>1.4</td>\n",
              "      <td>0.1</td>\n",
              "      <td>Iris-setosa</td>\n",
              "    </tr>\n",
              "    <tr>\n",
              "      <th>13</th>\n",
              "      <td>4.3</td>\n",
              "      <td>3.0</td>\n",
              "      <td>1.1</td>\n",
              "      <td>0.1</td>\n",
              "      <td>Iris-setosa</td>\n",
              "    </tr>\n",
              "    <tr>\n",
              "      <th>16</th>\n",
              "      <td>5.4</td>\n",
              "      <td>3.9</td>\n",
              "      <td>1.3</td>\n",
              "      <td>0.4</td>\n",
              "      <td>Iris-setosa</td>\n",
              "    </tr>\n",
              "    <tr>\n",
              "      <th>17</th>\n",
              "      <td>5.1</td>\n",
              "      <td>3.5</td>\n",
              "      <td>1.4</td>\n",
              "      <td>0.3</td>\n",
              "      <td>Iris-setosa</td>\n",
              "    </tr>\n",
              "    <tr>\n",
              "      <th>18</th>\n",
              "      <td>5.7</td>\n",
              "      <td>3.8</td>\n",
              "      <td>1.7</td>\n",
              "      <td>0.3</td>\n",
              "      <td>Iris-setosa</td>\n",
              "    </tr>\n",
              "    <tr>\n",
              "      <th>19</th>\n",
              "      <td>5.1</td>\n",
              "      <td>3.8</td>\n",
              "      <td>1.5</td>\n",
              "      <td>0.3</td>\n",
              "      <td>Iris-setosa</td>\n",
              "    </tr>\n",
              "    <tr>\n",
              "      <th>20</th>\n",
              "      <td>5.4</td>\n",
              "      <td>3.4</td>\n",
              "      <td>1.7</td>\n",
              "      <td>0.2</td>\n",
              "      <td>Iris-setosa</td>\n",
              "    </tr>\n",
              "    <tr>\n",
              "      <th>21</th>\n",
              "      <td>5.8</td>\n",
              "      <td>3.7</td>\n",
              "      <td>1.5</td>\n",
              "      <td>0.4</td>\n",
              "      <td>Iris-setosa</td>\n",
              "    </tr>\n",
              "  </tbody>\n",
              "</table>\n",
              "</div>\n",
              "      <button class=\"colab-df-convert\" onclick=\"convertToInteractive('df-5c939e53-282e-4c26-b97e-70625d2168fa')\"\n",
              "              title=\"Convert this dataframe to an interactive table.\"\n",
              "              style=\"display:none;\">\n",
              "        \n",
              "  <svg xmlns=\"http://www.w3.org/2000/svg\" height=\"24px\"viewBox=\"0 0 24 24\"\n",
              "       width=\"24px\">\n",
              "    <path d=\"M0 0h24v24H0V0z\" fill=\"none\"/>\n",
              "    <path d=\"M18.56 5.44l.94 2.06.94-2.06 2.06-.94-2.06-.94-.94-2.06-.94 2.06-2.06.94zm-11 1L8.5 8.5l.94-2.06 2.06-.94-2.06-.94L8.5 2.5l-.94 2.06-2.06.94zm10 10l.94 2.06.94-2.06 2.06-.94-2.06-.94-.94-2.06-.94 2.06-2.06.94z\"/><path d=\"M17.41 7.96l-1.37-1.37c-.4-.4-.92-.59-1.43-.59-.52 0-1.04.2-1.43.59L10.3 9.45l-7.72 7.72c-.78.78-.78 2.05 0 2.83L4 21.41c.39.39.9.59 1.41.59.51 0 1.02-.2 1.41-.59l7.78-7.78 2.81-2.81c.8-.78.8-2.07 0-2.86zM5.41 20L4 18.59l7.72-7.72 1.47 1.35L5.41 20z\"/>\n",
              "  </svg>\n",
              "      </button>\n",
              "      \n",
              "  <style>\n",
              "    .colab-df-container {\n",
              "      display:flex;\n",
              "      flex-wrap:wrap;\n",
              "      gap: 12px;\n",
              "    }\n",
              "\n",
              "    .colab-df-convert {\n",
              "      background-color: #E8F0FE;\n",
              "      border: none;\n",
              "      border-radius: 50%;\n",
              "      cursor: pointer;\n",
              "      display: none;\n",
              "      fill: #1967D2;\n",
              "      height: 32px;\n",
              "      padding: 0 0 0 0;\n",
              "      width: 32px;\n",
              "    }\n",
              "\n",
              "    .colab-df-convert:hover {\n",
              "      background-color: #E2EBFA;\n",
              "      box-shadow: 0px 1px 2px rgba(60, 64, 67, 0.3), 0px 1px 3px 1px rgba(60, 64, 67, 0.15);\n",
              "      fill: #174EA6;\n",
              "    }\n",
              "\n",
              "    [theme=dark] .colab-df-convert {\n",
              "      background-color: #3B4455;\n",
              "      fill: #D2E3FC;\n",
              "    }\n",
              "\n",
              "    [theme=dark] .colab-df-convert:hover {\n",
              "      background-color: #434B5C;\n",
              "      box-shadow: 0px 1px 3px 1px rgba(0, 0, 0, 0.15);\n",
              "      filter: drop-shadow(0px 1px 2px rgba(0, 0, 0, 0.3));\n",
              "      fill: #FFFFFF;\n",
              "    }\n",
              "  </style>\n",
              "\n",
              "      <script>\n",
              "        const buttonEl =\n",
              "          document.querySelector('#df-5c939e53-282e-4c26-b97e-70625d2168fa button.colab-df-convert');\n",
              "        buttonEl.style.display =\n",
              "          google.colab.kernel.accessAllowed ? 'block' : 'none';\n",
              "\n",
              "        async function convertToInteractive(key) {\n",
              "          const element = document.querySelector('#df-5c939e53-282e-4c26-b97e-70625d2168fa');\n",
              "          const dataTable =\n",
              "            await google.colab.kernel.invokeFunction('convertToInteractive',\n",
              "                                                     [key], {});\n",
              "          if (!dataTable) return;\n",
              "\n",
              "          const docLinkHtml = 'Like what you see? Visit the ' +\n",
              "            '<a target=\"_blank\" href=https://colab.research.google.com/notebooks/data_table.ipynb>data table notebook</a>'\n",
              "            + ' to learn more about interactive tables.';\n",
              "          element.innerHTML = '';\n",
              "          dataTable['output_type'] = 'display_data';\n",
              "          await google.colab.output.renderOutput(dataTable, element);\n",
              "          const docLink = document.createElement('div');\n",
              "          docLink.innerHTML = docLinkHtml;\n",
              "          element.appendChild(docLink);\n",
              "        }\n",
              "      </script>\n",
              "    </div>\n",
              "  </div>\n",
              "  "
            ]
          },
          "metadata": {},
          "execution_count": 127
        }
      ]
    },
    {
      "cell_type": "code",
      "source": [
        "data.corr()"
      ],
      "metadata": {
        "colab": {
          "base_uri": "https://localhost:8080/",
          "height": 175
        },
        "id": "SBCzXADwXFDf",
        "outputId": "4c6624cd-6c3e-42b9-d2c8-7316282fc999"
      },
      "execution_count": 128,
      "outputs": [
        {
          "output_type": "execute_result",
          "data": {
            "text/plain": [
              "          SL        SW        PL        PW\n",
              "SL  1.000000 -0.080478  0.841457  0.807989\n",
              "SW -0.080478  1.000000 -0.349847 -0.281226\n",
              "PL  0.841457 -0.349847  1.000000  0.933260\n",
              "PW  0.807989 -0.281226  0.933260  1.000000"
            ],
            "text/html": [
              "\n",
              "  <div id=\"df-59aa7ee9-b2c7-44de-bf00-c1d77cd97ed0\">\n",
              "    <div class=\"colab-df-container\">\n",
              "      <div>\n",
              "<style scoped>\n",
              "    .dataframe tbody tr th:only-of-type {\n",
              "        vertical-align: middle;\n",
              "    }\n",
              "\n",
              "    .dataframe tbody tr th {\n",
              "        vertical-align: top;\n",
              "    }\n",
              "\n",
              "    .dataframe thead th {\n",
              "        text-align: right;\n",
              "    }\n",
              "</style>\n",
              "<table border=\"1\" class=\"dataframe\">\n",
              "  <thead>\n",
              "    <tr style=\"text-align: right;\">\n",
              "      <th></th>\n",
              "      <th>SL</th>\n",
              "      <th>SW</th>\n",
              "      <th>PL</th>\n",
              "      <th>PW</th>\n",
              "    </tr>\n",
              "  </thead>\n",
              "  <tbody>\n",
              "    <tr>\n",
              "      <th>SL</th>\n",
              "      <td>1.000000</td>\n",
              "      <td>-0.080478</td>\n",
              "      <td>0.841457</td>\n",
              "      <td>0.807989</td>\n",
              "    </tr>\n",
              "    <tr>\n",
              "      <th>SW</th>\n",
              "      <td>-0.080478</td>\n",
              "      <td>1.000000</td>\n",
              "      <td>-0.349847</td>\n",
              "      <td>-0.281226</td>\n",
              "    </tr>\n",
              "    <tr>\n",
              "      <th>PL</th>\n",
              "      <td>0.841457</td>\n",
              "      <td>-0.349847</td>\n",
              "      <td>1.000000</td>\n",
              "      <td>0.933260</td>\n",
              "    </tr>\n",
              "    <tr>\n",
              "      <th>PW</th>\n",
              "      <td>0.807989</td>\n",
              "      <td>-0.281226</td>\n",
              "      <td>0.933260</td>\n",
              "      <td>1.000000</td>\n",
              "    </tr>\n",
              "  </tbody>\n",
              "</table>\n",
              "</div>\n",
              "      <button class=\"colab-df-convert\" onclick=\"convertToInteractive('df-59aa7ee9-b2c7-44de-bf00-c1d77cd97ed0')\"\n",
              "              title=\"Convert this dataframe to an interactive table.\"\n",
              "              style=\"display:none;\">\n",
              "        \n",
              "  <svg xmlns=\"http://www.w3.org/2000/svg\" height=\"24px\"viewBox=\"0 0 24 24\"\n",
              "       width=\"24px\">\n",
              "    <path d=\"M0 0h24v24H0V0z\" fill=\"none\"/>\n",
              "    <path d=\"M18.56 5.44l.94 2.06.94-2.06 2.06-.94-2.06-.94-.94-2.06-.94 2.06-2.06.94zm-11 1L8.5 8.5l.94-2.06 2.06-.94-2.06-.94L8.5 2.5l-.94 2.06-2.06.94zm10 10l.94 2.06.94-2.06 2.06-.94-2.06-.94-.94-2.06-.94 2.06-2.06.94z\"/><path d=\"M17.41 7.96l-1.37-1.37c-.4-.4-.92-.59-1.43-.59-.52 0-1.04.2-1.43.59L10.3 9.45l-7.72 7.72c-.78.78-.78 2.05 0 2.83L4 21.41c.39.39.9.59 1.41.59.51 0 1.02-.2 1.41-.59l7.78-7.78 2.81-2.81c.8-.78.8-2.07 0-2.86zM5.41 20L4 18.59l7.72-7.72 1.47 1.35L5.41 20z\"/>\n",
              "  </svg>\n",
              "      </button>\n",
              "      \n",
              "  <style>\n",
              "    .colab-df-container {\n",
              "      display:flex;\n",
              "      flex-wrap:wrap;\n",
              "      gap: 12px;\n",
              "    }\n",
              "\n",
              "    .colab-df-convert {\n",
              "      background-color: #E8F0FE;\n",
              "      border: none;\n",
              "      border-radius: 50%;\n",
              "      cursor: pointer;\n",
              "      display: none;\n",
              "      fill: #1967D2;\n",
              "      height: 32px;\n",
              "      padding: 0 0 0 0;\n",
              "      width: 32px;\n",
              "    }\n",
              "\n",
              "    .colab-df-convert:hover {\n",
              "      background-color: #E2EBFA;\n",
              "      box-shadow: 0px 1px 2px rgba(60, 64, 67, 0.3), 0px 1px 3px 1px rgba(60, 64, 67, 0.15);\n",
              "      fill: #174EA6;\n",
              "    }\n",
              "\n",
              "    [theme=dark] .colab-df-convert {\n",
              "      background-color: #3B4455;\n",
              "      fill: #D2E3FC;\n",
              "    }\n",
              "\n",
              "    [theme=dark] .colab-df-convert:hover {\n",
              "      background-color: #434B5C;\n",
              "      box-shadow: 0px 1px 3px 1px rgba(0, 0, 0, 0.15);\n",
              "      filter: drop-shadow(0px 1px 2px rgba(0, 0, 0, 0.3));\n",
              "      fill: #FFFFFF;\n",
              "    }\n",
              "  </style>\n",
              "\n",
              "      <script>\n",
              "        const buttonEl =\n",
              "          document.querySelector('#df-59aa7ee9-b2c7-44de-bf00-c1d77cd97ed0 button.colab-df-convert');\n",
              "        buttonEl.style.display =\n",
              "          google.colab.kernel.accessAllowed ? 'block' : 'none';\n",
              "\n",
              "        async function convertToInteractive(key) {\n",
              "          const element = document.querySelector('#df-59aa7ee9-b2c7-44de-bf00-c1d77cd97ed0');\n",
              "          const dataTable =\n",
              "            await google.colab.kernel.invokeFunction('convertToInteractive',\n",
              "                                                     [key], {});\n",
              "          if (!dataTable) return;\n",
              "\n",
              "          const docLinkHtml = 'Like what you see? Visit the ' +\n",
              "            '<a target=\"_blank\" href=https://colab.research.google.com/notebooks/data_table.ipynb>data table notebook</a>'\n",
              "            + ' to learn more about interactive tables.';\n",
              "          element.innerHTML = '';\n",
              "          dataTable['output_type'] = 'display_data';\n",
              "          await google.colab.output.renderOutput(dataTable, element);\n",
              "          const docLink = document.createElement('div');\n",
              "          docLink.innerHTML = docLinkHtml;\n",
              "          element.appendChild(docLink);\n",
              "        }\n",
              "      </script>\n",
              "    </div>\n",
              "  </div>\n",
              "  "
            ]
          },
          "metadata": {},
          "execution_count": 128
        }
      ]
    },
    {
      "cell_type": "code",
      "source": [
        "sns.heatmap(data.corr(),annot=True);\n"
      ],
      "metadata": {
        "colab": {
          "base_uri": "https://localhost:8080/",
          "height": 269
        },
        "id": "61dU-RZZXKNk",
        "outputId": "d4a888b0-d4b8-4eb8-c370-0f59baa392c1"
      },
      "execution_count": 129,
      "outputs": [
        {
          "output_type": "display_data",
          "data": {
            "text/plain": [
              "<Figure size 432x288 with 2 Axes>"
            ],
            "image/png": "[encoded data removed]"
          },
          "metadata": {
            "needs_background": "light"
          }
        }
      ]
    },
    {
      "cell_type": "code",
      "source": [
        "#scatter plot"
      ],
      "metadata": {
        "id": "JqKvwije_yMs"
      },
      "execution_count": null,
      "outputs": []
    },
    {
      "cell_type": "code",
      "source": [
        "sns.FacetGrid(data,hue=\"Classification\",size=5).map(plt.scatter,\"SL\",\"SW\").add_legend()"
      ],
      "metadata": {
        "colab": {
          "base_uri": "https://localhost:8080/",
          "height": 423
        },
        "id": "6xKwyMRzXvVz",
        "outputId": "b5d1c308-8bba-49fd-ff7c-2b4478ba427b"
      },
      "execution_count": 130,
      "outputs": [
        {
          "output_type": "stream",
          "name": "stderr",
          "text": [
            "/usr/local/lib/python3.8/dist-packages/seaborn/axisgrid.py:337: UserWarning: The `size` parameter has been renamed to `height`; please update your code.\n",
            "  warnings.warn(msg, UserWarning)\n"
          ]
        },
        {
          "output_type": "execute_result",
          "data": {
            "text/plain": [
              "<seaborn.axisgrid.FacetGrid at 0x7f7e8324f4f0>"
            ]
          },
          "metadata": {},
          "execution_count": 130
        },
        {
          "output_type": "display_data",
          "data": {
            "text/plain": [
              "<Figure size 463.25x360 with 1 Axes>"
            ],
            "image/png": "[encoded data removed]"
          },
          "metadata": {
            "needs_background": "light"
          }
        }
      ]
    },
    {
      "cell_type": "code",
      "source": [
        "#Minmax scaling"
      ],
      "metadata": {
        "id": "EjYIhtAxhzc5"
      },
      "execution_count": 131,
      "outputs": []
    },
    {
      "cell_type": "code",
      "source": [
        "data1=data.drop(['Classification'],axis=1)"
      ],
      "metadata": {
        "id": "3ud4dTfscLAo"
      },
      "execution_count": 132,
      "outputs": []
    },
    {
      "cell_type": "code",
      "source": [
        "data1"
      ],
      "metadata": {
        "colab": {
          "base_uri": "https://localhost:8080/",
          "height": 424
        },
        "id": "j3MHWdencYm_",
        "outputId": "e104e1ea-1a39-48ee-caa4-2bf6c57d78c8"
      },
      "execution_count": 133,
      "outputs": [
        {
          "output_type": "execute_result",
          "data": {
            "text/plain": [
              "      SL   SW    PL   PW\n",
              "0    5.1  3.5  1.40  0.2\n",
              "1    4.9  3.0  1.40  0.2\n",
              "2    5.8  3.2  1.30  0.2\n",
              "3    4.6  3.1  1.50  0.2\n",
              "4    5.0  3.6  1.40  0.2\n",
              "..   ...  ...   ...  ...\n",
              "145  6.7  3.0  5.20  2.3\n",
              "146  6.3  2.5  5.00  1.9\n",
              "147  6.5  3.0  4.35  2.0\n",
              "148  6.2  3.4  5.40  2.3\n",
              "149  5.9  3.0  5.10  1.8\n",
              "\n",
              "[146 rows x 4 columns]"
            ],
            "text/html": [
              "\n",
              "  <div id=\"df-b0dba286-e9b6-4413-ac6a-816c243c97dc\">\n",
              "    <div class=\"colab-df-container\">\n",
              "      <div>\n",
              "<style scoped>\n",
              "    .dataframe tbody tr th:only-of-type {\n",
              "        vertical-align: middle;\n",
              "    }\n",
              "\n",
              "    .dataframe tbody tr th {\n",
              "        vertical-align: top;\n",
              "    }\n",
              "\n",
              "    .dataframe thead th {\n",
              "        text-align: right;\n",
              "    }\n",
              "</style>\n",
              "<table border=\"1\" class=\"dataframe\">\n",
              "  <thead>\n",
              "    <tr style=\"text-align: right;\">\n",
              "      <th></th>\n",
              "      <th>SL</th>\n",
              "      <th>SW</th>\n",
              "      <th>PL</th>\n",
              "      <th>PW</th>\n",
              "    </tr>\n",
              "  </thead>\n",
              "  <tbody>\n",
              "    <tr>\n",
              "      <th>0</th>\n",
              "      <td>5.1</td>\n",
              "      <td>3.5</td>\n",
              "      <td>1.40</td>\n",
              "      <td>0.2</td>\n",
              "    </tr>\n",
              "    <tr>\n",
              "      <th>1</th>\n",
              "      <td>4.9</td>\n",
              "      <td>3.0</td>\n",
              "      <td>1.40</td>\n",
              "      <td>0.2</td>\n",
              "    </tr>\n",
              "    <tr>\n",
              "      <th>2</th>\n",
              "      <td>5.8</td>\n",
              "      <td>3.2</td>\n",
              "      <td>1.30</td>\n",
              "      <td>0.2</td>\n",
              "    </tr>\n",
              "    <tr>\n",
              "      <th>3</th>\n",
              "      <td>4.6</td>\n",
              "      <td>3.1</td>\n",
              "      <td>1.50</td>\n",
              "      <td>0.2</td>\n",
              "    </tr>\n",
              "    <tr>\n",
              "      <th>4</th>\n",
              "      <td>5.0</td>\n",
              "      <td>3.6</td>\n",
              "      <td>1.40</td>\n",
              "      <td>0.2</td>\n",
              "    </tr>\n",
              "    <tr>\n",
              "      <th>...</th>\n",
              "      <td>...</td>\n",
              "      <td>...</td>\n",
              "      <td>...</td>\n",
              "      <td>...</td>\n",
              "    </tr>\n",
              "    <tr>\n",
              "      <th>145</th>\n",
              "      <td>6.7</td>\n",
              "      <td>3.0</td>\n",
              "      <td>5.20</td>\n",
              "      <td>2.3</td>\n",
              "    </tr>\n",
              "    <tr>\n",
              "      <th>146</th>\n",
              "      <td>6.3</td>\n",
              "      <td>2.5</td>\n",
              "      <td>5.00</td>\n",
              "      <td>1.9</td>\n",
              "    </tr>\n",
              "    <tr>\n",
              "      <th>147</th>\n",
              "      <td>6.5</td>\n",
              "      <td>3.0</td>\n",
              "      <td>4.35</td>\n",
              "      <td>2.0</td>\n",
              "    </tr>\n",
              "    <tr>\n",
              "      <th>148</th>\n",
              "      <td>6.2</td>\n",
              "      <td>3.4</td>\n",
              "      <td>5.40</td>\n",
              "      <td>2.3</td>\n",
              "    </tr>\n",
              "    <tr>\n",
              "      <th>149</th>\n",
              "      <td>5.9</td>\n",
              "      <td>3.0</td>\n",
              "      <td>5.10</td>\n",
              "      <td>1.8</td>\n",
              "    </tr>\n",
              "  </tbody>\n",
              "</table>\n",
              "<p>146 rows × 4 columns</p>\n",
              "</div>\n",
              "      <button class=\"colab-df-convert\" onclick=\"convertToInteractive('df-b0dba286-e9b6-4413-ac6a-816c243c97dc')\"\n",
              "              title=\"Convert this dataframe to an interactive table.\"\n",
              "              style=\"display:none;\">\n",
              "        \n",
              "  <svg xmlns=\"http://www.w3.org/2000/svg\" height=\"24px\"viewBox=\"0 0 24 24\"\n",
              "       width=\"24px\">\n",
              "    <path d=\"M0 0h24v24H0V0z\" fill=\"none\"/>\n",
              "    <path d=\"M18.56 5.44l.94 2.06.94-2.06 2.06-.94-2.06-.94-.94-2.06-.94 2.06-2.06.94zm-11 1L8.5 8.5l.94-2.06 2.06-.94-2.06-.94L8.5 2.5l-.94 2.06-2.06.94zm10 10l.94 2.06.94-2.06 2.06-.94-2.06-.94-.94-2.06-.94 2.06-2.06.94z\"/><path d=\"M17.41 7.96l-1.37-1.37c-.4-.4-.92-.59-1.43-.59-.52 0-1.04.2-1.43.59L10.3 9.45l-7.72 7.72c-.78.78-.78 2.05 0 2.83L4 21.41c.39.39.9.59 1.41.59.51 0 1.02-.2 1.41-.59l7.78-7.78 2.81-2.81c.8-.78.8-2.07 0-2.86zM5.41 20L4 18.59l7.72-7.72 1.47 1.35L5.41 20z\"/>\n",
              "  </svg>\n",
              "      </button>\n",
              "      \n",
              "  <style>\n",
              "    .colab-df-container {\n",
              "      display:flex;\n",
              "      flex-wrap:wrap;\n",
              "      gap: 12px;\n",
              "    }\n",
              "\n",
              "    .colab-df-convert {\n",
              "      background-color: #E8F0FE;\n",
              "      border: none;\n",
              "      border-radius: 50%;\n",
              "      cursor: pointer;\n",
              "      display: none;\n",
              "      fill: #1967D2;\n",
              "      height: 32px;\n",
              "      padding: 0 0 0 0;\n",
              "      width: 32px;\n",
              "    }\n",
              "\n",
              "    .colab-df-convert:hover {\n",
              "      background-color: #E2EBFA;\n",
              "      box-shadow: 0px 1px 2px rgba(60, 64, 67, 0.3), 0px 1px 3px 1px rgba(60, 64, 67, 0.15);\n",
              "      fill: #174EA6;\n",
              "    }\n",
              "\n",
              "    [theme=dark] .colab-df-convert {\n",
              "      background-color: #3B4455;\n",
              "      fill: #D2E3FC;\n",
              "    }\n",
              "\n",
              "    [theme=dark] .colab-df-convert:hover {\n",
              "      background-color: #434B5C;\n",
              "      box-shadow: 0px 1px 3px 1px rgba(0, 0, 0, 0.15);\n",
              "      filter: drop-shadow(0px 1px 2px rgba(0, 0, 0, 0.3));\n",
              "      fill: #FFFFFF;\n",
              "    }\n",
              "  </style>\n",
              "\n",
              "      <script>\n",
              "        const buttonEl =\n",
              "          document.querySelector('#df-b0dba286-e9b6-4413-ac6a-816c243c97dc button.colab-df-convert');\n",
              "        buttonEl.style.display =\n",
              "          google.colab.kernel.accessAllowed ? 'block' : 'none';\n",
              "\n",
              "        async function convertToInteractive(key) {\n",
              "          const element = document.querySelector('#df-b0dba286-e9b6-4413-ac6a-816c243c97dc');\n",
              "          const dataTable =\n",
              "            await google.colab.kernel.invokeFunction('convertToInteractive',\n",
              "                                                     [key], {});\n",
              "          if (!dataTable) return;\n",
              "\n",
              "          const docLinkHtml = 'Like what you see? Visit the ' +\n",
              "            '<a target=\"_blank\" href=https://colab.research.google.com/notebooks/data_table.ipynb>data table notebook</a>'\n",
              "            + ' to learn more about interactive tables.';\n",
              "          element.innerHTML = '';\n",
              "          dataTable['output_type'] = 'display_data';\n",
              "          await google.colab.output.renderOutput(dataTable, element);\n",
              "          const docLink = document.createElement('div');\n",
              "          docLink.innerHTML = docLinkHtml;\n",
              "          element.appendChild(docLink);\n",
              "        }\n",
              "      </script>\n",
              "    </div>\n",
              "  </div>\n",
              "  "
            ]
          },
          "metadata": {},
          "execution_count": 133
        }
      ]
    },
    {
      "cell_type": "code",
      "source": [
        "from sklearn.preprocessing import MinMaxScaler"
      ],
      "metadata": {
        "id": "XpKAkrfscexz"
      },
      "execution_count": 134,
      "outputs": []
    },
    {
      "cell_type": "code",
      "source": [
        "minmax= MinMaxScaler(feature_range=(0,1))"
      ],
      "metadata": {
        "id": "jRPysPc-chKt"
      },
      "execution_count": 135,
      "outputs": []
    },
    {
      "cell_type": "code",
      "source": [
        "X1=minmax.fit_transform(data1)"
      ],
      "metadata": {
        "id": "QIu6BRPicrVx"
      },
      "execution_count": 136,
      "outputs": []
    },
    {
      "cell_type": "code",
      "source": [
        "X1"
      ],
      "metadata": {
        "colab": {
          "base_uri": "https://localhost:8080/"
        },
        "id": "dRKNvcu_h-ic",
        "outputId": "8ab7ae45-6fac-48de-a657-b1c66fc21db0"
      },
      "execution_count": 137,
      "outputs": [
        {
          "output_type": "execute_result",
          "data": {
            "text/plain": [
              "array([[0.22222222, 0.78947368, 0.06779661, 0.04166667],\n",
              "       [0.16666667, 0.52631579, 0.06779661, 0.04166667],\n",
              "       [0.41666667, 0.63157895, 0.05084746, 0.04166667],\n",
              "       [0.08333333, 0.57894737, 0.08474576, 0.04166667],\n",
              "       [0.19444444, 0.84210526, 0.06779661, 0.04166667],\n",
              "       [0.30555556, 1.        , 0.11864407, 0.125     ],\n",
              "       [0.08333333, 0.73684211, 0.06779661, 0.08333333],\n",
              "       [0.19444444, 0.73684211, 0.08474576, 0.04166667],\n",
              "       [0.02777778, 0.47368421, 0.06779661, 0.04166667],\n",
              "       [0.16666667, 0.57894737, 0.08474576, 0.        ],\n",
              "       [0.30555556, 0.52631579, 0.08474576, 0.04166667],\n",
              "       [0.13888889, 0.73684211, 0.10169492, 0.04166667],\n",
              "       [0.13888889, 0.52631579, 0.06779661, 0.        ],\n",
              "       [0.        , 0.52631579, 0.01694915, 0.        ],\n",
              "       [0.30555556, 1.        , 0.05084746, 0.125     ],\n",
              "       [0.22222222, 0.78947368, 0.06779661, 0.08333333],\n",
              "       [0.38888889, 0.94736842, 0.11864407, 0.08333333],\n",
              "       [0.22222222, 0.94736842, 0.08474576, 0.08333333],\n",
              "       [0.30555556, 0.73684211, 0.11864407, 0.04166667],\n",
              "       [0.41666667, 0.89473684, 0.08474576, 0.125     ],\n",
              "       [0.08333333, 0.84210526, 0.        , 0.04166667],\n",
              "       [0.22222222, 0.68421053, 0.11864407, 0.16666667],\n",
              "       [0.13888889, 0.73684211, 0.15254237, 0.04166667],\n",
              "       [0.19444444, 0.52631579, 0.10169492, 0.04166667],\n",
              "       [0.19444444, 0.73684211, 0.10169492, 0.125     ],\n",
              "       [0.25      , 0.52631579, 0.08474576, 0.04166667],\n",
              "       [0.25      , 0.73684211, 0.56779661, 0.04166667],\n",
              "       [0.11111111, 0.63157895, 0.10169492, 0.04166667],\n",
              "       [0.13888889, 0.57894737, 0.10169492, 0.04166667],\n",
              "       [0.30555556, 0.73684211, 0.08474576, 0.125     ],\n",
              "       [0.16666667, 0.57894737, 0.08474576, 0.        ],\n",
              "       [0.19444444, 0.63157895, 0.03389831, 0.04166667],\n",
              "       [0.33333333, 0.78947368, 0.05084746, 0.04166667],\n",
              "       [0.16666667, 0.57894737, 0.08474576, 0.        ],\n",
              "       [0.02777778, 0.52631579, 0.05084746, 0.04166667],\n",
              "       [0.41666667, 0.73684211, 0.08474576, 0.04166667],\n",
              "       [0.19444444, 0.78947368, 0.05084746, 0.08333333],\n",
              "       [0.05555556, 0.15789474, 0.05084746, 0.08333333],\n",
              "       [0.02777778, 0.63157895, 0.56779661, 0.04166667],\n",
              "       [0.19444444, 0.52631579, 0.10169492, 0.20833333],\n",
              "       [0.22222222, 0.94736842, 0.15254237, 0.125     ],\n",
              "       [0.13888889, 0.52631579, 0.06779661, 0.08333333],\n",
              "       [0.22222222, 0.94736842, 0.10169492, 0.04166667],\n",
              "       [0.08333333, 0.63157895, 0.06779661, 0.04166667],\n",
              "       [0.27777778, 0.89473684, 0.08474576, 0.04166667],\n",
              "       [0.19444444, 0.68421053, 0.06779661, 0.04166667],\n",
              "       [0.75      , 0.63157895, 0.62711864, 0.54166667],\n",
              "       [0.41666667, 0.63157895, 0.59322034, 0.58333333],\n",
              "       [0.72222222, 0.57894737, 0.66101695, 0.58333333],\n",
              "       [0.33333333, 0.15789474, 0.50847458, 0.5       ],\n",
              "       [0.61111111, 0.42105263, 0.61016949, 0.58333333],\n",
              "       [0.38888889, 0.42105263, 0.59322034, 0.5       ],\n",
              "       [0.55555556, 0.68421053, 0.56779661, 0.625     ],\n",
              "       [0.16666667, 0.21052632, 0.38983051, 0.375     ],\n",
              "       [0.63888889, 0.47368421, 0.61016949, 0.5       ],\n",
              "       [0.25      , 0.36842105, 0.49152542, 0.54166667],\n",
              "       [0.19444444, 0.        , 0.42372881, 0.375     ],\n",
              "       [0.44444444, 0.52631579, 0.54237288, 0.58333333],\n",
              "       [0.47222222, 0.10526316, 0.50847458, 0.375     ],\n",
              "       [0.5       , 0.47368421, 0.62711864, 0.54166667],\n",
              "       [0.36111111, 0.47368421, 0.44067797, 0.5       ],\n",
              "       [0.66666667, 0.57894737, 0.57627119, 0.54166667],\n",
              "       [0.36111111, 0.52631579, 0.59322034, 0.58333333],\n",
              "       [0.41666667, 0.36842105, 0.52542373, 0.375     ],\n",
              "       [0.52777778, 0.10526316, 0.59322034, 0.58333333],\n",
              "       [0.36111111, 0.26315789, 0.49152542, 0.41666667],\n",
              "       [0.44444444, 0.63157895, 0.6440678 , 0.70833333],\n",
              "       [0.5       , 0.42105263, 0.50847458, 0.5       ],\n",
              "       [0.55555556, 0.52631579, 0.66101695, 0.58333333],\n",
              "       [0.5       , 0.42105263, 0.62711864, 0.45833333],\n",
              "       [0.58333333, 0.47368421, 0.55932203, 0.5       ],\n",
              "       [0.63888889, 0.52631579, 0.57627119, 0.54166667],\n",
              "       [0.69444444, 0.42105263, 0.6440678 , 0.54166667],\n",
              "       [0.66666667, 0.52631579, 0.6779661 , 0.66666667],\n",
              "       [0.47222222, 0.47368421, 0.59322034, 0.58333333],\n",
              "       [0.38888889, 0.31578947, 0.42372881, 0.375     ],\n",
              "       [0.33333333, 0.21052632, 0.47457627, 0.41666667],\n",
              "       [0.33333333, 0.21052632, 0.45762712, 0.375     ],\n",
              "       [0.41666667, 0.36842105, 0.49152542, 0.45833333],\n",
              "       [0.47222222, 0.36842105, 0.69491525, 0.625     ],\n",
              "       [0.30555556, 0.52631579, 0.59322034, 0.58333333],\n",
              "       [0.41666667, 0.73684211, 0.59322034, 0.625     ],\n",
              "       [0.66666667, 0.57894737, 0.62711864, 0.58333333],\n",
              "       [0.55555556, 0.15789474, 0.57627119, 0.5       ],\n",
              "       [0.36111111, 0.52631579, 0.52542373, 0.5       ],\n",
              "       [0.33333333, 0.26315789, 0.50847458, 0.5       ],\n",
              "       [0.33333333, 0.31578947, 0.57627119, 0.45833333],\n",
              "       [0.5       , 0.52631579, 0.61016949, 0.54166667],\n",
              "       [0.41666667, 0.31578947, 0.50847458, 0.45833333],\n",
              "       [0.19444444, 0.15789474, 0.38983051, 0.375     ],\n",
              "       [0.36111111, 0.36842105, 0.56779661, 0.5       ],\n",
              "       [0.38888889, 0.52631579, 0.54237288, 0.45833333],\n",
              "       [0.38888889, 0.47368421, 0.54237288, 0.5       ],\n",
              "       [0.52777778, 0.47368421, 0.55932203, 0.5       ],\n",
              "       [0.22222222, 0.52631579, 0.33898305, 0.41666667],\n",
              "       [0.38888889, 0.42105263, 0.52542373, 0.5       ],\n",
              "       [0.55555556, 0.68421053, 0.84745763, 1.        ],\n",
              "       [0.41666667, 0.36842105, 0.69491525, 0.75      ],\n",
              "       [0.77777778, 0.52631579, 0.83050847, 0.83333333],\n",
              "       [0.55555556, 0.47368421, 0.77966102, 0.70833333],\n",
              "       [0.61111111, 0.52631579, 0.81355932, 0.875     ],\n",
              "       [0.91666667, 0.52631579, 0.94915254, 0.83333333],\n",
              "       [0.41666667, 0.26315789, 0.59322034, 0.66666667],\n",
              "       [0.83333333, 0.47368421, 0.89830508, 0.70833333],\n",
              "       [0.66666667, 0.26315789, 0.81355932, 0.70833333],\n",
              "       [0.80555556, 0.84210526, 0.56779661, 1.        ],\n",
              "       [0.61111111, 0.63157895, 0.69491525, 0.79166667],\n",
              "       [0.58333333, 0.36842105, 0.72881356, 0.75      ],\n",
              "       [0.69444444, 0.52631579, 0.76271186, 0.83333333],\n",
              "       [0.38888889, 0.26315789, 0.6779661 , 0.79166667],\n",
              "       [0.41666667, 0.42105263, 0.69491525, 0.95833333],\n",
              "       [0.58333333, 0.63157895, 0.72881356, 0.91666667],\n",
              "       [0.61111111, 0.52631579, 0.76271186, 0.70833333],\n",
              "       [0.94444444, 0.94736842, 0.96610169, 0.875     ],\n",
              "       [0.94444444, 0.31578947, 1.        , 0.91666667],\n",
              "       [0.47222222, 0.10526316, 0.6779661 , 0.58333333],\n",
              "       [0.72222222, 0.63157895, 0.79661017, 0.91666667],\n",
              "       [0.36111111, 0.42105263, 0.66101695, 0.79166667],\n",
              "       [0.94444444, 0.42105263, 0.96610169, 0.79166667],\n",
              "       [0.55555556, 0.36842105, 0.66101695, 0.70833333],\n",
              "       [0.66666667, 0.52631579, 0.79661017, 0.83333333],\n",
              "       [0.80555556, 0.63157895, 0.84745763, 0.70833333],\n",
              "       [0.52777778, 0.42105263, 0.6440678 , 0.70833333],\n",
              "       [0.5       , 0.52631579, 0.66101695, 0.70833333],\n",
              "       [0.58333333, 0.42105263, 0.77966102, 0.83333333],\n",
              "       [0.80555556, 0.52631579, 0.81355932, 0.625     ],\n",
              "       [0.86111111, 0.42105263, 0.86440678, 0.75      ],\n",
              "       [1.        , 0.94736842, 0.91525424, 0.79166667],\n",
              "       [0.58333333, 0.42105263, 0.77966102, 0.875     ],\n",
              "       [0.55555556, 0.42105263, 0.69491525, 0.58333333],\n",
              "       [0.5       , 0.31578947, 0.77966102, 0.54166667],\n",
              "       [0.94444444, 0.52631579, 0.86440678, 0.91666667],\n",
              "       [0.55555556, 0.73684211, 0.77966102, 0.95833333],\n",
              "       [0.58333333, 0.57894737, 0.76271186, 0.70833333],\n",
              "       [0.47222222, 0.52631579, 0.6440678 , 0.70833333],\n",
              "       [0.72222222, 0.57894737, 0.74576271, 0.83333333],\n",
              "       [0.66666667, 0.57894737, 0.77966102, 0.95833333],\n",
              "       [0.41666667, 0.57894737, 0.69491525, 0.91666667],\n",
              "       [0.41666667, 0.36842105, 0.69491525, 0.75      ],\n",
              "       [0.69444444, 0.63157895, 0.83050847, 0.91666667],\n",
              "       [0.66666667, 0.68421053, 0.79661017, 1.        ],\n",
              "       [0.66666667, 0.52631579, 0.71186441, 0.91666667],\n",
              "       [0.55555556, 0.26315789, 0.6779661 , 0.75      ],\n",
              "       [0.61111111, 0.52631579, 0.56779661, 0.79166667],\n",
              "       [0.52777778, 0.73684211, 0.74576271, 0.91666667],\n",
              "       [0.44444444, 0.52631579, 0.69491525, 0.70833333]])"
            ]
          },
          "metadata": {},
          "execution_count": 137
        }
      ]
    },
    {
      "cell_type": "code",
      "source": [
        "type(X1) #X1 is an array now"
      ],
      "metadata": {
        "colab": {
          "base_uri": "https://localhost:8080/"
        },
        "id": "-SOwVYLAiA25",
        "outputId": "5071ba48-7004-4425-e339-0f7fcef4bbd0"
      },
      "execution_count": 138,
      "outputs": [
        {
          "output_type": "execute_result",
          "data": {
            "text/plain": [
              "numpy.ndarray"
            ]
          },
          "metadata": {},
          "execution_count": 138
        }
      ]
    },
    {
      "cell_type": "code",
      "source": [
        "X1.shape"
      ],
      "metadata": {
        "colab": {
          "base_uri": "https://localhost:8080/"
        },
        "id": "KZRv0d1ZiHPY",
        "outputId": "d485bc62-b92e-496c-cbdd-f100c62d4b40"
      },
      "execution_count": 139,
      "outputs": [
        {
          "output_type": "execute_result",
          "data": {
            "text/plain": [
              "(146, 4)"
            ]
          },
          "metadata": {},
          "execution_count": 139
        }
      ]
    },
    {
      "cell_type": "code",
      "source": [
        "data1.columns"
      ],
      "metadata": {
        "colab": {
          "base_uri": "https://localhost:8080/"
        },
        "id": "WKhxdw0giLS_",
        "outputId": "e6eb611e-f55c-416d-862b-58f42c09e872"
      },
      "execution_count": 140,
      "outputs": [
        {
          "output_type": "execute_result",
          "data": {
            "text/plain": [
              "Index(['SL', 'SW', 'PL', 'PW'], dtype='object')"
            ]
          },
          "metadata": {},
          "execution_count": 140
        }
      ]
    },
    {
      "cell_type": "code",
      "source": [
        "#Converting X1 back into dataframe"
      ],
      "metadata": {
        "id": "UdTCD3YgiQkd"
      },
      "execution_count": 141,
      "outputs": []
    },
    {
      "cell_type": "code",
      "source": [
        "X1=pd.DataFrame(X1,columns=['SL', 'SW', 'PL', 'PW'])"
      ],
      "metadata": {
        "id": "7OyfK1u_iSCt"
      },
      "execution_count": 142,
      "outputs": []
    },
    {
      "cell_type": "code",
      "source": [
        "X1.shape"
      ],
      "metadata": {
        "colab": {
          "base_uri": "https://localhost:8080/"
        },
        "id": "UO4mbfc8iv84",
        "outputId": "583c566f-3e00-4306-f5c2-4a5eecd10111"
      },
      "execution_count": 143,
      "outputs": [
        {
          "output_type": "execute_result",
          "data": {
            "text/plain": [
              "(146, 4)"
            ]
          },
          "metadata": {},
          "execution_count": 143
        }
      ]
    },
    {
      "cell_type": "code",
      "source": [
        "X1"
      ],
      "metadata": {
        "colab": {
          "base_uri": "https://localhost:8080/",
          "height": 424
        },
        "id": "6IOgFTjYiyy9",
        "outputId": "b939c058-2c35-4a0c-a1e7-c3c4dccf5871"
      },
      "execution_count": 144,
      "outputs": [
        {
          "output_type": "execute_result",
          "data": {
            "text/plain": [
              "           SL        SW        PL        PW\n",
              "0    0.222222  0.789474  0.067797  0.041667\n",
              "1    0.166667  0.526316  0.067797  0.041667\n",
              "2    0.416667  0.631579  0.050847  0.041667\n",
              "3    0.083333  0.578947  0.084746  0.041667\n",
              "4    0.194444  0.842105  0.067797  0.041667\n",
              "..        ...       ...       ...       ...\n",
              "141  0.666667  0.526316  0.711864  0.916667\n",
              "142  0.555556  0.263158  0.677966  0.750000\n",
              "143  0.611111  0.526316  0.567797  0.791667\n",
              "144  0.527778  0.736842  0.745763  0.916667\n",
              "145  0.444444  0.526316  0.694915  0.708333\n",
              "\n",
              "[146 rows x 4 columns]"
            ],
            "text/html": [
              "\n",
              "  <div id=\"df-3b7074ba-d7f5-4264-bf39-e318cd04bc96\">\n",
              "    <div class=\"colab-df-container\">\n",
              "      <div>\n",
              "<style scoped>\n",
              "    .dataframe tbody tr th:only-of-type {\n",
              "        vertical-align: middle;\n",
              "    }\n",
              "\n",
              "    .dataframe tbody tr th {\n",
              "        vertical-align: top;\n",
              "    }\n",
              "\n",
              "    .dataframe thead th {\n",
              "        text-align: right;\n",
              "    }\n",
              "</style>\n",
              "<table border=\"1\" class=\"dataframe\">\n",
              "  <thead>\n",
              "    <tr style=\"text-align: right;\">\n",
              "      <th></th>\n",
              "      <th>SL</th>\n",
              "      <th>SW</th>\n",
              "      <th>PL</th>\n",
              "      <th>PW</th>\n",
              "    </tr>\n",
              "  </thead>\n",
              "  <tbody>\n",
              "    <tr>\n",
              "      <th>0</th>\n",
              "      <td>0.222222</td>\n",
              "      <td>0.789474</td>\n",
              "      <td>0.067797</td>\n",
              "      <td>0.041667</td>\n",
              "    </tr>\n",
              "    <tr>\n",
              "      <th>1</th>\n",
              "      <td>0.166667</td>\n",
              "      <td>0.526316</td>\n",
              "      <td>0.067797</td>\n",
              "      <td>0.041667</td>\n",
              "    </tr>\n",
              "    <tr>\n",
              "      <th>2</th>\n",
              "      <td>0.416667</td>\n",
              "      <td>0.631579</td>\n",
              "      <td>0.050847</td>\n",
              "      <td>0.041667</td>\n",
              "    </tr>\n",
              "    <tr>\n",
              "      <th>3</th>\n",
              "      <td>0.083333</td>\n",
              "      <td>0.578947</td>\n",
              "      <td>0.084746</td>\n",
              "      <td>0.041667</td>\n",
              "    </tr>\n",
              "    <tr>\n",
              "      <th>4</th>\n",
              "      <td>0.194444</td>\n",
              "      <td>0.842105</td>\n",
              "      <td>0.067797</td>\n",
              "      <td>0.041667</td>\n",
              "    </tr>\n",
              "    <tr>\n",
              "      <th>...</th>\n",
              "      <td>...</td>\n",
              "      <td>...</td>\n",
              "      <td>...</td>\n",
              "      <td>...</td>\n",
              "    </tr>\n",
              "    <tr>\n",
              "      <th>141</th>\n",
              "      <td>0.666667</td>\n",
              "      <td>0.526316</td>\n",
              "      <td>0.711864</td>\n",
              "      <td>0.916667</td>\n",
              "    </tr>\n",
              "    <tr>\n",
              "      <th>142</th>\n",
              "      <td>0.555556</td>\n",
              "      <td>0.263158</td>\n",
              "      <td>0.677966</td>\n",
              "      <td>0.750000</td>\n",
              "    </tr>\n",
              "    <tr>\n",
              "      <th>143</th>\n",
              "      <td>0.611111</td>\n",
              "      <td>0.526316</td>\n",
              "      <td>0.567797</td>\n",
              "      <td>0.791667</td>\n",
              "    </tr>\n",
              "    <tr>\n",
              "      <th>144</th>\n",
              "      <td>0.527778</td>\n",
              "      <td>0.736842</td>\n",
              "      <td>0.745763</td>\n",
              "      <td>0.916667</td>\n",
              "    </tr>\n",
              "    <tr>\n",
              "      <th>145</th>\n",
              "      <td>0.444444</td>\n",
              "      <td>0.526316</td>\n",
              "      <td>0.694915</td>\n",
              "      <td>0.708333</td>\n",
              "    </tr>\n",
              "  </tbody>\n",
              "</table>\n",
              "<p>146 rows × 4 columns</p>\n",
              "</div>\n",
              "      <button class=\"colab-df-convert\" onclick=\"convertToInteractive('df-3b7074ba-d7f5-4264-bf39-e318cd04bc96')\"\n",
              "              title=\"Convert this dataframe to an interactive table.\"\n",
              "              style=\"display:none;\">\n",
              "        \n",
              "  <svg xmlns=\"http://www.w3.org/2000/svg\" height=\"24px\"viewBox=\"0 0 24 24\"\n",
              "       width=\"24px\">\n",
              "    <path d=\"M0 0h24v24H0V0z\" fill=\"none\"/>\n",
              "    <path d=\"M18.56 5.44l.94 2.06.94-2.06 2.06-.94-2.06-.94-.94-2.06-.94 2.06-2.06.94zm-11 1L8.5 8.5l.94-2.06 2.06-.94-2.06-.94L8.5 2.5l-.94 2.06-2.06.94zm10 10l.94 2.06.94-2.06 2.06-.94-2.06-.94-.94-2.06-.94 2.06-2.06.94z\"/><path d=\"M17.41 7.96l-1.37-1.37c-.4-.4-.92-.59-1.43-.59-.52 0-1.04.2-1.43.59L10.3 9.45l-7.72 7.72c-.78.78-.78 2.05 0 2.83L4 21.41c.39.39.9.59 1.41.59.51 0 1.02-.2 1.41-.59l7.78-7.78 2.81-2.81c.8-.78.8-2.07 0-2.86zM5.41 20L4 18.59l7.72-7.72 1.47 1.35L5.41 20z\"/>\n",
              "  </svg>\n",
              "      </button>\n",
              "      \n",
              "  <style>\n",
              "    .colab-df-container {\n",
              "      display:flex;\n",
              "      flex-wrap:wrap;\n",
              "      gap: 12px;\n",
              "    }\n",
              "\n",
              "    .colab-df-convert {\n",
              "      background-color: #E8F0FE;\n",
              "      border: none;\n",
              "      border-radius: 50%;\n",
              "      cursor: pointer;\n",
              "      display: none;\n",
              "      fill: #1967D2;\n",
              "      height: 32px;\n",
              "      padding: 0 0 0 0;\n",
              "      width: 32px;\n",
              "    }\n",
              "\n",
              "    .colab-df-convert:hover {\n",
              "      background-color: #E2EBFA;\n",
              "      box-shadow: 0px 1px 2px rgba(60, 64, 67, 0.3), 0px 1px 3px 1px rgba(60, 64, 67, 0.15);\n",
              "      fill: #174EA6;\n",
              "    }\n",
              "\n",
              "    [theme=dark] .colab-df-convert {\n",
              "      background-color: #3B4455;\n",
              "      fill: #D2E3FC;\n",
              "    }\n",
              "\n",
              "    [theme=dark] .colab-df-convert:hover {\n",
              "      background-color: #434B5C;\n",
              "      box-shadow: 0px 1px 3px 1px rgba(0, 0, 0, 0.15);\n",
              "      filter: drop-shadow(0px 1px 2px rgba(0, 0, 0, 0.3));\n",
              "      fill: #FFFFFF;\n",
              "    }\n",
              "  </style>\n",
              "\n",
              "      <script>\n",
              "        const buttonEl =\n",
              "          document.querySelector('#df-3b7074ba-d7f5-4264-bf39-e318cd04bc96 button.colab-df-convert');\n",
              "        buttonEl.style.display =\n",
              "          google.colab.kernel.accessAllowed ? 'block' : 'none';\n",
              "\n",
              "        async function convertToInteractive(key) {\n",
              "          const element = document.querySelector('#df-3b7074ba-d7f5-4264-bf39-e318cd04bc96');\n",
              "          const dataTable =\n",
              "            await google.colab.kernel.invokeFunction('convertToInteractive',\n",
              "                                                     [key], {});\n",
              "          if (!dataTable) return;\n",
              "\n",
              "          const docLinkHtml = 'Like what you see? Visit the ' +\n",
              "            '<a target=\"_blank\" href=https://colab.research.google.com/notebooks/data_table.ipynb>data table notebook</a>'\n",
              "            + ' to learn more about interactive tables.';\n",
              "          element.innerHTML = '';\n",
              "          dataTable['output_type'] = 'display_data';\n",
              "          await google.colab.output.renderOutput(dataTable, element);\n",
              "          const docLink = document.createElement('div');\n",
              "          docLink.innerHTML = docLinkHtml;\n",
              "          element.appendChild(docLink);\n",
              "        }\n",
              "      </script>\n",
              "    </div>\n",
              "  </div>\n",
              "  "
            ]
          },
          "metadata": {},
          "execution_count": 144
        }
      ]
    },
    {
      "cell_type": "code",
      "source": [
        "X1.describe()"
      ],
      "metadata": {
        "colab": {
          "base_uri": "https://localhost:8080/",
          "height": 300
        },
        "id": "0zI0Povvi3V5",
        "outputId": "d3fbd3cc-9c23-46d2-fe54-ce928c06fc4d"
      },
      "execution_count": 145,
      "outputs": [
        {
          "output_type": "execute_result",
          "data": {
            "text/plain": [
              "               SL          SW          PL          PW\n",
              "count  146.000000  146.000000  146.000000  146.000000\n",
              "mean     0.433790    0.534968    0.482238    0.468893\n",
              "std      0.226991    0.201345    0.289253    0.314931\n",
              "min      0.000000    0.000000    0.000000    0.000000\n",
              "25%      0.229167    0.421053    0.101695    0.083333\n",
              "50%      0.416667    0.526316    0.567797    0.500000\n",
              "75%      0.583333    0.631579    0.694915    0.708333\n",
              "max      1.000000    1.000000    1.000000    1.000000"
            ],
            "text/html": [
              "\n",
              "  <div id=\"df-1d8d7e85-695f-476f-918f-cda1b83347a7\">\n",
              "    <div class=\"colab-df-container\">\n",
              "      <div>\n",
              "<style scoped>\n",
              "    .dataframe tbody tr th:only-of-type {\n",
              "        vertical-align: middle;\n",
              "    }\n",
              "\n",
              "    .dataframe tbody tr th {\n",
              "        vertical-align: top;\n",
              "    }\n",
              "\n",
              "    .dataframe thead th {\n",
              "        text-align: right;\n",
              "    }\n",
              "</style>\n",
              "<table border=\"1\" class=\"dataframe\">\n",
              "  <thead>\n",
              "    <tr style=\"text-align: right;\">\n",
              "      <th></th>\n",
              "      <th>SL</th>\n",
              "      <th>SW</th>\n",
              "      <th>PL</th>\n",
              "      <th>PW</th>\n",
              "    </tr>\n",
              "  </thead>\n",
              "  <tbody>\n",
              "    <tr>\n",
              "      <th>count</th>\n",
              "      <td>146.000000</td>\n",
              "      <td>146.000000</td>\n",
              "      <td>146.000000</td>\n",
              "      <td>146.000000</td>\n",
              "    </tr>\n",
              "    <tr>\n",
              "      <th>mean</th>\n",
              "      <td>0.433790</td>\n",
              "      <td>0.534968</td>\n",
              "      <td>0.482238</td>\n",
              "      <td>0.468893</td>\n",
              "    </tr>\n",
              "    <tr>\n",
              "      <th>std</th>\n",
              "      <td>0.226991</td>\n",
              "      <td>0.201345</td>\n",
              "      <td>0.289253</td>\n",
              "      <td>0.314931</td>\n",
              "    </tr>\n",
              "    <tr>\n",
              "      <th>min</th>\n",
              "      <td>0.000000</td>\n",
              "      <td>0.000000</td>\n",
              "      <td>0.000000</td>\n",
              "      <td>0.000000</td>\n",
              "    </tr>\n",
              "    <tr>\n",
              "      <th>25%</th>\n",
              "      <td>0.229167</td>\n",
              "      <td>0.421053</td>\n",
              "      <td>0.101695</td>\n",
              "      <td>0.083333</td>\n",
              "    </tr>\n",
              "    <tr>\n",
              "      <th>50%</th>\n",
              "      <td>0.416667</td>\n",
              "      <td>0.526316</td>\n",
              "      <td>0.567797</td>\n",
              "      <td>0.500000</td>\n",
              "    </tr>\n",
              "    <tr>\n",
              "      <th>75%</th>\n",
              "      <td>0.583333</td>\n",
              "      <td>0.631579</td>\n",
              "      <td>0.694915</td>\n",
              "      <td>0.708333</td>\n",
              "    </tr>\n",
              "    <tr>\n",
              "      <th>max</th>\n",
              "      <td>1.000000</td>\n",
              "      <td>1.000000</td>\n",
              "      <td>1.000000</td>\n",
              "      <td>1.000000</td>\n",
              "    </tr>\n",
              "  </tbody>\n",
              "</table>\n",
              "</div>\n",
              "      <button class=\"colab-df-convert\" onclick=\"convertToInteractive('df-1d8d7e85-695f-476f-918f-cda1b83347a7')\"\n",
              "              title=\"Convert this dataframe to an interactive table.\"\n",
              "              style=\"display:none;\">\n",
              "        \n",
              "  <svg xmlns=\"http://www.w3.org/2000/svg\" height=\"24px\"viewBox=\"0 0 24 24\"\n",
              "       width=\"24px\">\n",
              "    <path d=\"M0 0h24v24H0V0z\" fill=\"none\"/>\n",
              "    <path d=\"M18.56 5.44l.94 2.06.94-2.06 2.06-.94-2.06-.94-.94-2.06-.94 2.06-2.06.94zm-11 1L8.5 8.5l.94-2.06 2.06-.94-2.06-.94L8.5 2.5l-.94 2.06-2.06.94zm10 10l.94 2.06.94-2.06 2.06-.94-2.06-.94-.94-2.06-.94 2.06-2.06.94z\"/><path d=\"M17.41 7.96l-1.37-1.37c-.4-.4-.92-.59-1.43-.59-.52 0-1.04.2-1.43.59L10.3 9.45l-7.72 7.72c-.78.78-.78 2.05 0 2.83L4 21.41c.39.39.9.59 1.41.59.51 0 1.02-.2 1.41-.59l7.78-7.78 2.81-2.81c.8-.78.8-2.07 0-2.86zM5.41 20L4 18.59l7.72-7.72 1.47 1.35L5.41 20z\"/>\n",
              "  </svg>\n",
              "      </button>\n",
              "      \n",
              "  <style>\n",
              "    .colab-df-container {\n",
              "      display:flex;\n",
              "      flex-wrap:wrap;\n",
              "      gap: 12px;\n",
              "    }\n",
              "\n",
              "    .colab-df-convert {\n",
              "      background-color: #E8F0FE;\n",
              "      border: none;\n",
              "      border-radius: 50%;\n",
              "      cursor: pointer;\n",
              "      display: none;\n",
              "      fill: #1967D2;\n",
              "      height: 32px;\n",
              "      padding: 0 0 0 0;\n",
              "      width: 32px;\n",
              "    }\n",
              "\n",
              "    .colab-df-convert:hover {\n",
              "      background-color: #E2EBFA;\n",
              "      box-shadow: 0px 1px 2px rgba(60, 64, 67, 0.3), 0px 1px 3px 1px rgba(60, 64, 67, 0.15);\n",
              "      fill: #174EA6;\n",
              "    }\n",
              "\n",
              "    [theme=dark] .colab-df-convert {\n",
              "      background-color: #3B4455;\n",
              "      fill: #D2E3FC;\n",
              "    }\n",
              "\n",
              "    [theme=dark] .colab-df-convert:hover {\n",
              "      background-color: #434B5C;\n",
              "      box-shadow: 0px 1px 3px 1px rgba(0, 0, 0, 0.15);\n",
              "      filter: drop-shadow(0px 1px 2px rgba(0, 0, 0, 0.3));\n",
              "      fill: #FFFFFF;\n",
              "    }\n",
              "  </style>\n",
              "\n",
              "      <script>\n",
              "        const buttonEl =\n",
              "          document.querySelector('#df-1d8d7e85-695f-476f-918f-cda1b83347a7 button.colab-df-convert');\n",
              "        buttonEl.style.display =\n",
              "          google.colab.kernel.accessAllowed ? 'block' : 'none';\n",
              "\n",
              "        async function convertToInteractive(key) {\n",
              "          const element = document.querySelector('#df-1d8d7e85-695f-476f-918f-cda1b83347a7');\n",
              "          const dataTable =\n",
              "            await google.colab.kernel.invokeFunction('convertToInteractive',\n",
              "                                                     [key], {});\n",
              "          if (!dataTable) return;\n",
              "\n",
              "          const docLinkHtml = 'Like what you see? Visit the ' +\n",
              "            '<a target=\"_blank\" href=https://colab.research.google.com/notebooks/data_table.ipynb>data table notebook</a>'\n",
              "            + ' to learn more about interactive tables.';\n",
              "          element.innerHTML = '';\n",
              "          dataTable['output_type'] = 'display_data';\n",
              "          await google.colab.output.renderOutput(dataTable, element);\n",
              "          const docLink = document.createElement('div');\n",
              "          docLink.innerHTML = docLinkHtml;\n",
              "          element.appendChild(docLink);\n",
              "        }\n",
              "      </script>\n",
              "    </div>\n",
              "  </div>\n",
              "  "
            ]
          },
          "metadata": {},
          "execution_count": 145
        }
      ]
    },
    {
      "cell_type": "code",
      "source": [
        "X2=data['Classification']\n"
      ],
      "metadata": {
        "id": "sw7eeGP-1Y9_"
      },
      "execution_count": 146,
      "outputs": []
    },
    {
      "cell_type": "code",
      "source": [
        "X2.set_axis(np.arange(146),inplace=True)#set axis for classification column"
      ],
      "metadata": {
        "id": "bqcQhw-i1kvU"
      },
      "execution_count": 147,
      "outputs": []
    },
    {
      "cell_type": "code",
      "source": [
        "X2"
      ],
      "metadata": {
        "colab": {
          "base_uri": "https://localhost:8080/"
        },
        "id": "hSWIKRWMqbZ-",
        "outputId": "3a46844e-5bcd-42ec-9d72-ea02291281b1"
      },
      "execution_count": 148,
      "outputs": [
        {
          "output_type": "execute_result",
          "data": {
            "text/plain": [
              "0         Iris-setosa\n",
              "1         Iris-setosa\n",
              "2         Iris-setosa\n",
              "3         Iris-setosa\n",
              "4         Iris-setosa\n",
              "            ...      \n",
              "141    Iris-virginica\n",
              "142    Iris-virginica\n",
              "143    Iris-virginica\n",
              "144    Iris-virginica\n",
              "145    Iris-virginica\n",
              "Name: Classification, Length: 146, dtype: object"
            ]
          },
          "metadata": {},
          "execution_count": 148
        }
      ]
    },
    {
      "cell_type": "code",
      "source": [
        "X2.shape"
      ],
      "metadata": {
        "colab": {
          "base_uri": "https://localhost:8080/"
        },
        "id": "Ni0JVLJL1_-2",
        "outputId": "db816e5b-b8f6-4576-fdb8-7dc162953511"
      },
      "execution_count": 149,
      "outputs": [
        {
          "output_type": "execute_result",
          "data": {
            "text/plain": [
              "(146,)"
            ]
          },
          "metadata": {},
          "execution_count": 149
        }
      ]
    },
    {
      "cell_type": "code",
      "source": [
        "X3=pd.concat([X1,X2],axis=1)"
      ],
      "metadata": {
        "id": "pfpk4-5e2J98"
      },
      "execution_count": 150,
      "outputs": []
    },
    {
      "cell_type": "markdown",
      "source": [
        "Classification Models"
      ],
      "metadata": {
        "id": "eNVNV4h8jG54"
      }
    },
    {
      "cell_type": "markdown",
      "source": [
        "Logistic Regression Model"
      ],
      "metadata": {
        "id": "KaK5Ae2DjMRp"
      }
    },
    {
      "cell_type": "code",
      "source": [
        "y=X3['Classification']#target\n",
        "x=X3.drop('Classification',axis=1)"
      ],
      "metadata": {
        "id": "I6A8nBxGjflV"
      },
      "execution_count": 151,
      "outputs": []
    },
    {
      "cell_type": "code",
      "source": [
        "y"
      ],
      "metadata": {
        "colab": {
          "base_uri": "https://localhost:8080/"
        },
        "id": "LUHL1Tz_21Ik",
        "outputId": "2b6474f0-6a7e-4b26-f812-8acbb7edb7d0"
      },
      "execution_count": 152,
      "outputs": [
        {
          "output_type": "execute_result",
          "data": {
            "text/plain": [
              "0         Iris-setosa\n",
              "1         Iris-setosa\n",
              "2         Iris-setosa\n",
              "3         Iris-setosa\n",
              "4         Iris-setosa\n",
              "            ...      \n",
              "141    Iris-virginica\n",
              "142    Iris-virginica\n",
              "143    Iris-virginica\n",
              "144    Iris-virginica\n",
              "145    Iris-virginica\n",
              "Name: Classification, Length: 146, dtype: object"
            ]
          },
          "metadata": {},
          "execution_count": 152
        }
      ]
    },
    {
      "cell_type": "code",
      "source": [
        "from sklearn.model_selection import train_test_split\n",
        "x_train,x_test,y_train,y_test=train_test_split(x,y,test_size=0.25,random_state=42)#train data ,test data splitting\n"
      ],
      "metadata": {
        "id": "C1nbpHT7q4CU"
      },
      "execution_count": 155,
      "outputs": []
    },
    {
      "cell_type": "code",
      "source": [
        "from sklearn.linear_model import LogisticRegression#Logistic Regression is present in linear_model\n",
        "lr=LogisticRegression()#creating an instance\n",
        "model=lr.fit(x_train,y_train)\n",
        "y_pred=model.predict(x_test)"
      ],
      "metadata": {
        "id": "FiCpS_UVu8LM"
      },
      "execution_count": 156,
      "outputs": []
    },
    {
      "cell_type": "code",
      "source": [
        "from sklearn.metrics import confusion_matrix,accuracy_score,precision_score,recall_score,f1_score"
      ],
      "metadata": {
        "id": "5GunfKRv3V2o"
      },
      "execution_count": 157,
      "outputs": []
    },
    {
      "cell_type": "code",
      "source": [
        "confusion_matrix(y_test,y_pred)"
      ],
      "metadata": {
        "colab": {
          "base_uri": "https://localhost:8080/"
        },
        "id": "HKP8GoWo4Dlu",
        "outputId": "9e361519-4c36-4372-a5e0-ea2ef6414086"
      },
      "execution_count": 160,
      "outputs": [
        {
          "output_type": "execute_result",
          "data": {
            "text/plain": [
              "array([[16,  0,  0],\n",
              "       [ 0,  7,  1],\n",
              "       [ 0,  1, 12]])"
            ]
          },
          "metadata": {},
          "execution_count": 160
        }
      ]
    },
    {
      "cell_type": "code",
      "source": [
        "acc_score = accuracy_score(y_test,y_pred)"
      ],
      "metadata": {
        "id": "jjgKAWkG34tV"
      },
      "execution_count": 158,
      "outputs": []
    },
    {
      "cell_type": "code",
      "source": [
        "acc_score"
      ],
      "metadata": {
        "colab": {
          "base_uri": "https://localhost:8080/"
        },
        "id": "ASnyPKJY36Mm",
        "outputId": "30431c44-2e83-4200-88f4-4651e636c7a4"
      },
      "execution_count": 159,
      "outputs": [
        {
          "output_type": "execute_result",
          "data": {
            "text/plain": [
              "0.9459459459459459"
            ]
          },
          "metadata": {},
          "execution_count": 159
        }
      ]
    },
    {
      "cell_type": "markdown",
      "source": [
        "KNN"
      ],
      "metadata": {
        "id": "qz3Nk-oR5LA7"
      }
    },
    {
      "cell_type": "code",
      "source": [
        "#knn\n",
        "from sklearn.neighbors import KNeighborsClassifier\n",
        "metric_k= []#empty list\n",
        "neighbors = np.arange(3, 15)#k value from 3 to 14\n",
        "\n",
        "for k in neighbors:\n",
        "  knn=KNeighborsClassifier(n_neighbors=k)\n",
        "  model2=knn.fit(x_train,y_train)\n",
        "  y_pred_knn=model2.predict(x_test)\n",
        "  acc=accuracy_score(y_test,y_pred_knn)\n",
        "  metric_k.append(acc)#appending accuracy of model for each k values"
      ],
      "metadata": {
        "id": "kuqpmAQ13-jQ"
      },
      "execution_count": 161,
      "outputs": []
    },
    {
      "cell_type": "code",
      "source": [
        "metric_k"
      ],
      "metadata": {
        "colab": {
          "base_uri": "https://localhost:8080/"
        },
        "id": "H2Y8e_c05Vzw",
        "outputId": "54706a65-036a-4180-f7d6-f5187edc9ad6"
      },
      "execution_count": 162,
      "outputs": [
        {
          "output_type": "execute_result",
          "data": {
            "text/plain": [
              "[0.972972972972973,\n",
              " 0.972972972972973,\n",
              " 1.0,\n",
              " 0.972972972972973,\n",
              " 0.972972972972973,\n",
              " 0.972972972972973,\n",
              " 0.972972972972973,\n",
              " 0.972972972972973,\n",
              " 0.972972972972973,\n",
              " 0.972972972972973,\n",
              " 0.972972972972973,\n",
              " 0.972972972972973]"
            ]
          },
          "metadata": {},
          "execution_count": 162
        }
      ]
    },
    {
      "cell_type": "code",
      "source": [
        "#Ploting line graph of accuracy of model for each value of k \n",
        "plt.plot(neighbors,metric_k,'o-')\n",
        "plt.xlabel('k value')\n",
        "plt.ylabel('accuracy')\n",
        "plt.grid()"
      ],
      "metadata": {
        "colab": {
          "base_uri": "https://localhost:8080/",
          "height": 279
        },
        "id": "wGqSy54H5w9y",
        "outputId": "bd6ab13e-b59b-4fea-be56-767d73ed2a72"
      },
      "execution_count": 163,
      "outputs": [
        {
          "output_type": "display_data",
          "data": {
            "text/plain": [
              "<Figure size 432x288 with 1 Axes>"
            ],
            "image/png": "[encoded data removed]"
          },
          "metadata": {
            "needs_background": "light"
          }
        }
      ]
    },
    {
      "cell_type": "code",
      "source": [
        "#accuracy is more for k=5,so creating model using k=5\n",
        "knn=KNeighborsClassifier(n_neighbors=5)\n",
        "model2=knn.fit(x_train,y_train)\n",
        "y_pred_knn=model2.predict(x_test)"
      ],
      "metadata": {
        "id": "bMr6BneX5-XU"
      },
      "execution_count": 183,
      "outputs": []
    },
    {
      "cell_type": "code",
      "source": [
        "print(confusion_matrix(y_test,y_pred_knn))"
      ],
      "metadata": {
        "colab": {
          "base_uri": "https://localhost:8080/"
        },
        "id": "gcrJeDx36EvO",
        "outputId": "f4ab6ede-8793-4953-d43e-1754d4baa36e"
      },
      "execution_count": 184,
      "outputs": [
        {
          "output_type": "stream",
          "name": "stdout",
          "text": [
            "[[16  0  0]\n",
            " [ 0  8  0]\n",
            " [ 0  0 13]]\n"
          ]
        }
      ]
    },
    {
      "cell_type": "code",
      "source": [
        "print(accuracy_score(y_test,y_pred_knn))"
      ],
      "metadata": {
        "colab": {
          "base_uri": "https://localhost:8080/"
        },
        "id": "eTJ2WuFF6Ijt",
        "outputId": "03240310-0246-498a-acad-813f5c8b0768"
      },
      "execution_count": 185,
      "outputs": [
        {
          "output_type": "stream",
          "name": "stdout",
          "text": [
            "1.0\n"
          ]
        }
      ]
    },
    {
      "cell_type": "markdown",
      "source": [
        "SVM Model"
      ],
      "metadata": {
        "id": "RzBftRe46Qi5"
      }
    },
    {
      "cell_type": "code",
      "source": [
        "from sklearn.svm import SVC#support vector classifier"
      ],
      "metadata": {
        "id": "Hit9xvap6Sjy"
      },
      "execution_count": 167,
      "outputs": []
    },
    {
      "cell_type": "markdown",
      "source": [
        "SVM kernel=rbf"
      ],
      "metadata": {
        "id": "yr0sVC2v6d4Y"
      }
    },
    {
      "cell_type": "code",
      "source": [
        "svm_clf=SVC(kernel='rbf')\n",
        "svm_model=svm_clf.fit(x_train,y_train)\n",
        "y_pred=svm_model.predict(x_test)"
      ],
      "metadata": {
        "id": "B0ic55iR6lJp"
      },
      "execution_count": 168,
      "outputs": []
    },
    {
      "cell_type": "code",
      "source": [
        "confusion_matrix(y_test,y_pred)"
      ],
      "metadata": {
        "colab": {
          "base_uri": "https://localhost:8080/"
        },
        "id": "YXMx_e_p6oyS",
        "outputId": "b6a871c8-45f6-4c63-8648-1c3149146691"
      },
      "execution_count": 169,
      "outputs": [
        {
          "output_type": "execute_result",
          "data": {
            "text/plain": [
              "array([[16,  0,  0],\n",
              "       [ 0,  7,  1],\n",
              "       [ 0,  1, 12]])"
            ]
          },
          "metadata": {},
          "execution_count": 169
        }
      ]
    },
    {
      "cell_type": "code",
      "source": [
        "accuracy_score(y_test,y_pred)"
      ],
      "metadata": {
        "colab": {
          "base_uri": "https://localhost:8080/"
        },
        "id": "vAgK4OT36qon",
        "outputId": "e60e99f9-2d0d-4f1f-ff64-585f623a5764"
      },
      "execution_count": 170,
      "outputs": [
        {
          "output_type": "execute_result",
          "data": {
            "text/plain": [
              "0.9459459459459459"
            ]
          },
          "metadata": {},
          "execution_count": 170
        }
      ]
    },
    {
      "cell_type": "markdown",
      "source": [
        "SVM kernel=linear"
      ],
      "metadata": {
        "id": "4f5NsQg86uzo"
      }
    },
    {
      "cell_type": "code",
      "source": [
        "svm_clf_linear=SVC(kernel='linear')\n",
        "svm_model_linear=svm_clf.fit(x_train,y_train)\n",
        "y_pred=svm_model_linear.predict(x_test)"
      ],
      "metadata": {
        "id": "YlFIvTlU6zbP"
      },
      "execution_count": 171,
      "outputs": []
    },
    {
      "cell_type": "code",
      "source": [
        "confusion_matrix(y_test,y_pred)"
      ],
      "metadata": {
        "colab": {
          "base_uri": "https://localhost:8080/"
        },
        "id": "RzKRCeER62mi",
        "outputId": "506f7269-63cc-4587-8352-164698702642"
      },
      "execution_count": 172,
      "outputs": [
        {
          "output_type": "execute_result",
          "data": {
            "text/plain": [
              "array([[16,  0,  0],\n",
              "       [ 0,  7,  1],\n",
              "       [ 0,  1, 12]])"
            ]
          },
          "metadata": {},
          "execution_count": 172
        }
      ]
    },
    {
      "cell_type": "code",
      "source": [
        "accuracy_score(y_test,y_pred)"
      ],
      "metadata": {
        "colab": {
          "base_uri": "https://localhost:8080/"
        },
        "id": "khViGNbC66R-",
        "outputId": "3f912238-095a-4e70-fab3-6105ecb9869d"
      },
      "execution_count": 173,
      "outputs": [
        {
          "output_type": "execute_result",
          "data": {
            "text/plain": [
              "0.9459459459459459"
            ]
          },
          "metadata": {},
          "execution_count": 173
        }
      ]
    },
    {
      "cell_type": "markdown",
      "source": [
        "SVM Kernel=Polynomial"
      ],
      "metadata": {
        "id": "U3svu2ov7CLj"
      }
    },
    {
      "cell_type": "code",
      "source": [
        "svm_clf_linear=SVC(kernel='poly')\n",
        "svm_model_poly=svm_clf.fit(x_train,y_train)\n",
        "y_pred=svm_model_poly.predict(x_test)"
      ],
      "metadata": {
        "id": "pHjXD7tV7DAH"
      },
      "execution_count": 174,
      "outputs": []
    },
    {
      "cell_type": "code",
      "source": [
        "confusion_matrix(y_test,y_pred)"
      ],
      "metadata": {
        "colab": {
          "base_uri": "https://localhost:8080/"
        },
        "id": "oNSc1JDZ7KxV",
        "outputId": "c1a665c0-3c00-4d1a-fbc9-827e041a2e3e"
      },
      "execution_count": 175,
      "outputs": [
        {
          "output_type": "execute_result",
          "data": {
            "text/plain": [
              "array([[16,  0,  0],\n",
              "       [ 0,  7,  1],\n",
              "       [ 0,  1, 12]])"
            ]
          },
          "metadata": {},
          "execution_count": 175
        }
      ]
    },
    {
      "cell_type": "code",
      "source": [
        "accuracy_score(y_test,y_pred)"
      ],
      "metadata": {
        "colab": {
          "base_uri": "https://localhost:8080/"
        },
        "id": "XJXIh_4T7MMt",
        "outputId": "abf6fb4f-a75c-43ab-c411-0a44d9a032ff"
      },
      "execution_count": 176,
      "outputs": [
        {
          "output_type": "execute_result",
          "data": {
            "text/plain": [
              "0.9459459459459459"
            ]
          },
          "metadata": {},
          "execution_count": 176
        }
      ]
    },
    {
      "cell_type": "markdown",
      "source": [
        "Decision trees"
      ],
      "metadata": {
        "id": "PI7or1Qe7TZh"
      }
    },
    {
      "cell_type": "code",
      "source": [
        "from sklearn.tree import DecisionTreeClassifier\n",
        "dt_clf= DecisionTreeClassifier(random_state=42)\n",
        "dt_model=dt_clf.fit(x_train,y_train)\n",
        "y_pred=dt_model.predict(x_test)"
      ],
      "metadata": {
        "id": "usGH8MOG7Umi"
      },
      "execution_count": 177,
      "outputs": []
    },
    {
      "cell_type": "code",
      "source": [
        "confusion_matrix(y_test,y_pred)"
      ],
      "metadata": {
        "colab": {
          "base_uri": "https://localhost:8080/"
        },
        "id": "qp_OrgiK7Xdh",
        "outputId": "a1012ad5-01ac-48ae-c78a-b5c199520160"
      },
      "execution_count": 178,
      "outputs": [
        {
          "output_type": "execute_result",
          "data": {
            "text/plain": [
              "array([[16,  0,  0],\n",
              "       [ 0,  7,  1],\n",
              "       [ 0,  1, 12]])"
            ]
          },
          "metadata": {},
          "execution_count": 178
        }
      ]
    },
    {
      "cell_type": "code",
      "source": [
        "accuracy_score(y_test,y_pred)"
      ],
      "metadata": {
        "colab": {
          "base_uri": "https://localhost:8080/"
        },
        "id": "p8P7E5IA7cWI",
        "outputId": "6342ba7f-2808-497a-a6bd-eed338a343a5"
      },
      "execution_count": 179,
      "outputs": [
        {
          "output_type": "execute_result",
          "data": {
            "text/plain": [
              "0.9459459459459459"
            ]
          },
          "metadata": {},
          "execution_count": 179
        }
      ]
    },
    {
      "cell_type": "markdown",
      "source": [
        "Random Forest"
      ],
      "metadata": {
        "id": "S_0AiEfB7kiB"
      }
    },
    {
      "cell_type": "code",
      "source": [
        "from sklearn.ensemble import RandomForestClassifier\n",
        "rf_clf= RandomForestClassifier(random_state=42)\n",
        "rf_model=rf_clf.fit(x_train,y_train)\n",
        "y_pred=rf_model.predict(x_test)"
      ],
      "metadata": {
        "id": "2XUQzvZ-7loc"
      },
      "execution_count": 180,
      "outputs": []
    },
    {
      "cell_type": "code",
      "source": [
        "confusion_matrix(y_test,y_pred)"
      ],
      "metadata": {
        "colab": {
          "base_uri": "https://localhost:8080/"
        },
        "id": "AC4cU2n47qla",
        "outputId": "0ae6f21c-8e0b-46c7-85a7-45d8ef993e92"
      },
      "execution_count": 181,
      "outputs": [
        {
          "output_type": "execute_result",
          "data": {
            "text/plain": [
              "array([[16,  0,  0],\n",
              "       [ 0,  7,  1],\n",
              "       [ 0,  1, 12]])"
            ]
          },
          "metadata": {},
          "execution_count": 181
        }
      ]
    },
    {
      "cell_type": "code",
      "source": [
        "accuracy_score(y_test,y_pred)"
      ],
      "metadata": {
        "colab": {
          "base_uri": "https://localhost:8080/"
        },
        "id": "DT-U7Kl77zdI",
        "outputId": "5b3077b5-51c5-4808-e059-2314aeec73cd"
      },
      "execution_count": 182,
      "outputs": [
        {
          "output_type": "execute_result",
          "data": {
            "text/plain": [
              "0.9459459459459459"
            ]
          },
          "metadata": {},
          "execution_count": 182
        }
      ]
    },
    {
      "cell_type": "code",
      "source": [
        "from sklearn.metrics import accuracy_score, log_loss\n",
        "classifiers = [\n",
        "    LogisticRegression(),\n",
        "    KNeighborsClassifier(),\n",
        "    SVC(),\n",
        "    DecisionTreeClassifier(),\n",
        "    RandomForestClassifier(),\n",
        "                  ]"
      ],
      "metadata": {
        "id": "n0ADx1Z29-_-"
      },
      "execution_count": 188,
      "outputs": []
    },
    {
      "cell_type": "code",
      "source": [
        "log_cols=[\"Classifier\", \"Accuracy\", \"Log Loss\"]\n",
        "log = pd.DataFrame(columns=log_cols)\n",
        " \n",
        "for clf in classifiers:\n",
        "    clf.fit(x_train, y_train)\n",
        "    name = clf.__class__.__name__\n",
        "    \n",
        "    print(\"=\"*30)\n",
        "    print(name)\n",
        "    \n",
        "    print('****Results****')\n",
        "    train_predictions = clf.predict(x_test)\n",
        "    acc = accuracy_score(y_test, train_predictions)\n",
        "    print(\"Accuracy: {:.4%}\".format(acc))\n",
        "    \n",
        "    log_entry = pd.DataFrame([[name, acc*100, 11]], columns=log_cols)\n",
        "    log = log.append(log_entry)\n",
        "    \n",
        "    print(\"=\"*30)"
      ],
      "metadata": {
        "colab": {
          "base_uri": "https://localhost:8080/"
        },
        "id": "_PvdF-MA939P",
        "outputId": "29b54459-ba35-447f-f40e-c1880de3ca36"
      },
      "execution_count": 189,
      "outputs": [
        {
          "output_type": "stream",
          "name": "stdout",
          "text": [
            "==============================\n",
            "LogisticRegression\n",
            "****Results****\n",
            "Accuracy: 94.5946%\n",
            "==============================\n",
            "==============================\n",
            "KNeighborsClassifier\n",
            "****Results****\n",
            "Accuracy: 100.0000%\n",
            "==============================\n",
            "==============================\n",
            "SVC\n",
            "****Results****\n",
            "Accuracy: 94.5946%\n",
            "==============================\n",
            "==============================\n",
            "DecisionTreeClassifier\n",
            "****Results****\n",
            "Accuracy: 94.5946%\n",
            "==============================\n",
            "==============================\n",
            "RandomForestClassifier\n",
            "****Results****\n",
            "Accuracy: 94.5946%\n",
            "==============================\n"
          ]
        }
      ]
    },
    {
      "cell_type": "code",
      "source": [
        "sns.set_color_codes(\"muted\")\n",
        "sns.barplot(x='Accuracy', y='Classifier', data=log, color=\"b\")\n",
        "\n",
        "plt.xlabel('Accuracy %')\n",
        "plt.title('Classifier Accuracy')\n",
        "plt.show()"
      ],
      "metadata": {
        "colab": {
          "base_uri": "https://localhost:8080/",
          "height": 295
        },
        "id": "H-KfZCUB-EGM",
        "outputId": "63a681f4-99e2-4626-b269-9b7c7d67c29c"
      },
      "execution_count": 190,
      "outputs": [
        {
          "output_type": "display_data",
          "data": {
            "text/plain": [
              "<Figure size 432x288 with 1 Axes>"
            ],
            "image/png": "[encoded data removed]"
          },
          "metadata": {
            "needs_background": "light"
          }
        }
      ]
    },
    {
      "cell_type": "markdown",
      "source": [
        "KNN classification is having 100%accuracy.All other classifications are having the same value less than Knn."
      ],
      "metadata": {
        "id": "jXnq-06o-rQy"
      }
    }
  ]
}